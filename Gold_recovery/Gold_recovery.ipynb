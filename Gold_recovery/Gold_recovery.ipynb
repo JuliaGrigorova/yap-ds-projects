{
 "cells": [
  {
   "cell_type": "markdown",
   "metadata": {},
   "source": [
    "# Восстановление золота из руды"
   ]
  },
  {
   "cell_type": "markdown",
   "metadata": {},
   "source": [
    "Подготовка прототипа модели машинного обучения для компании \"Цифра\". Компания разрабатывает решения для эффективной работы промышленных предприятий.\n",
    "\n",
    "Модель должна предсказать коэффициент восстановления золота из золотосодержащей руды по данным с параметрами добычи и очистки. Модель поможет оптимизировать производство, чтобы не запускать предприятие с убыточными характеристиками.\n",
    "\n",
    "**Ход исследования:**\n",
    "* Подготовка данных:\n",
    "  * Выгрузка файлов;\n",
    "  * Проверка эффективности обогащения;\n",
    "  * Анализ признаков, недоступных в тестовом наборе данных;\n",
    "  * Предобработка данных;\n",
    "* Анализ данных:\n",
    "  * Исследование изменения концентрации металлов на разных этапах очистки;\n",
    "  * Сравнение распределений на обучающей и тестовой выборках;\n",
    "  * Исследование суммарной концентрации всех веществ на разных стадиях;\n",
    "* Обучение модели;\n",
    "* Тестирование модели;\n",
    "* Итоги исследования."
   ]
  },
  {
   "cell_type": "markdown",
   "metadata": {},
   "source": [
    "## Подготовка данных"
   ]
  },
  {
   "cell_type": "code",
   "execution_count": 1,
   "metadata": {},
   "outputs": [],
   "source": [
    "!pip install sweetviz -q"
   ]
  },
  {
   "cell_type": "code",
   "execution_count": 2,
   "metadata": {},
   "outputs": [],
   "source": [
    "# подключение библиотек\n",
    "\n",
    "import warnings\n",
    "warnings.simplefilter(action='ignore', category=FutureWarning)\n",
    "\n",
    "import pandas as pd\n",
    "import seaborn as sns\n",
    "import matplotlib.pyplot as plt\n",
    "import sweetviz as sv\n",
    "from sklearn.metrics import mean_absolute_error, make_scorer\n",
    "from sklearn.model_selection import GridSearchCV\n",
    "from sklearn.tree import DecisionTreeRegressor\n",
    "from sklearn.ensemble import RandomForestRegressor\n",
    "from sklearn.linear_model import LinearRegression\n",
    "from sklearn.dummy import DummyRegressor"
   ]
  },
  {
   "cell_type": "markdown",
   "metadata": {},
   "source": [
    "### Выгрузка и изучение данных"
   ]
  },
  {
   "cell_type": "markdown",
   "metadata": {},
   "source": [
    "Прочитаем данные из файлов:"
   ]
  },
  {
   "cell_type": "code",
   "execution_count": 3,
   "metadata": {},
   "outputs": [],
   "source": [
    "# исходные данные\n",
    "df = pd.read_csv(\"gold_recovery_full_new.csv\")\n",
    "# обучающая выборка\n",
    "df_train = pd.read_csv(\"gold_recovery_train_new.csv\")\n",
    "# тестовая выборка\n",
    "df_test = pd.read_csv(\"gold_recovery_test_new.csv\")"
   ]
  },
  {
   "cell_type": "markdown",
   "metadata": {},
   "source": [
    "Для начала изучим исходную таблицу, содержащую все имеющиеся данные, включая обучающую и тестовую выборки. "
   ]
  },
  {
   "cell_type": "code",
   "execution_count": 6,
   "metadata": {
    "scrolled": true
   },
   "outputs": [
    {
     "data": {
      "application/vnd.jupyter.widget-view+json": {
       "model_id": "1bf4269048924df082059667dfb76bd7",
       "version_major": 2,
       "version_minor": 0
      },
      "text/plain": [
       "                                             |                                             | [  0%]   00:00 ->…"
      ]
     },
     "metadata": {},
     "output_type": "display_data"
    },
    {
     "name": "stdout",
     "output_type": "stream",
     "text": [
      "Report SWEETVIZ_REPORT1.html was generated! NOTEBOOK/COLAB USERS: the web browser MAY not pop up, regardless, the report IS saved in your notebook/colab files.\n"
     ]
    }
   ],
   "source": [
    "report1 = sv.analyze([df, \"Исходные данные\"])\n",
    "report1.show_html(filepath='SWEETVIZ_REPORT1.html', scale=1.0)"
   ]
  },
  {
   "cell_type": "markdown",
   "metadata": {},
   "source": [
    "Полученный отчет можно посмотреть в папке проекта: `\"SWEETVIZ_REPORT1.html\"`\n",
    "\n",
    "Итак, сделаем выводы по полученному отчету об исходном датафрейме:\n",
    "\n",
    "* В исходной таблице 19439 объектов и 87 признаков. \n",
    "\n",
    "* 86 признаков являются числовыми, и только один - `date` текстовым.\n",
    "\n",
    "* В датафрейме нет строк-дубликатов. \n",
    "\n",
    "* В столбце `date` все объекты уникальные.\n",
    "\n",
    "* Во многих столбцах таблицы есть пропуски, но во всех случаях их количество не превышает 2% от всего объема данных, и только в одном столбце (`secondary_cleaner.output.tail.sol`) число пропусков составляет 9%. "
   ]
  },
  {
   "cell_type": "markdown",
   "metadata": {},
   "source": [
    "Теперь рассмотрим обучающую и тестовые выборки. Для них создадим один сравнительный отчет."
   ]
  },
  {
   "cell_type": "code",
   "execution_count": 7,
   "metadata": {},
   "outputs": [
    {
     "data": {
      "application/vnd.jupyter.widget-view+json": {
       "model_id": "59e443bd2f66470995f0d0c0d53b5601",
       "version_major": 2,
       "version_minor": 0
      },
      "text/plain": [
       "                                             |                                             | [  0%]   00:00 ->…"
      ]
     },
     "metadata": {},
     "output_type": "display_data"
    },
    {
     "name": "stdout",
     "output_type": "stream",
     "text": [
      "Report SWEETVIZ_REPORT2.html was generated! NOTEBOOK/COLAB USERS: the web browser MAY not pop up, regardless, the report IS saved in your notebook/colab files.\n"
     ]
    }
   ],
   "source": [
    "report2 = sv.compare([df_train, 'Обучающая выборка'], [df_test, 'Тестовая выборка'])\n",
    "report2.show_html(filepath='SWEETVIZ_REPORT2.html', scale=1.0)"
   ]
  },
  {
   "cell_type": "markdown",
   "metadata": {},
   "source": [
    "Полученный отчет можно посмотреть в папке проекта: `\"SWEETVIZ_REPORT2.html\"`\n",
    "\n",
    "Выводы о тестовой и обучающей выборках:\n",
    "\n",
    "* Похоже, что обучающая и тестовая выборки и правда были взяты из исходного датафрейма.\n",
    "\n",
    "* В обучающей выборке сохранились все 87 признаков из исходного датафрейма, а вот в тестовой их только 53. Это связано с тем, что некоторые параметры замеряются и/или рассчитываются значительно позже, а также в тестовом наборе нет всех целевых признаков с началом `final` в названии признаков (всего таких признаков 9). \n"
   ]
  },
  {
   "cell_type": "markdown",
   "metadata": {},
   "source": [
    "### Проверка эффективности обогащения"
   ]
  },
  {
   "cell_type": "markdown",
   "metadata": {},
   "source": [
    "Проверим, что эффективность обогащения рассчитана правильно. Создадим функцию для ее вычисления на обучающей выборке для признака `rougher.output.recovery` и найдем MAE между проведенными расчетами и значениями признака. \n",
    "\n",
    "Эффективность обогащения рассчитывается по формуле:\n",
    "\n",
    "$$\n",
    "    Recovery = \\frac{C * (F - T)}{F * (C - T)}\\\n",
    "$$\n",
    "\n",
    "где: \n",
    "\n",
    "* `C` — доля золота в концентрате после флотации/очистки;\n",
    "\n",
    "* `F` — доля золота в сырье/концентрате до флотации/очистки;\n",
    "\n",
    "* `T` — доля золота в отвальных хвостах после флотации/очистки.\n"
   ]
  },
  {
   "cell_type": "code",
   "execution_count": 8,
   "metadata": {},
   "outputs": [],
   "source": [
    "# функция проверки эффективности обогащения\n",
    "\n",
    "# c - 'rougher.output.concentrate_au'\n",
    "# f - 'rougher.input.feed_au'\n",
    "# t - 'rougher.output.tail_au'\n",
    "\n",
    "def check_recovery(c, f, t):\n",
    "    recovery = ((c * (f - t)) / (f * (c - t))) * 100\n",
    "    return recovery"
   ]
  },
  {
   "cell_type": "markdown",
   "metadata": {},
   "source": [
    "Используем функцию на обучающих данных:"
   ]
  },
  {
   "cell_type": "code",
   "execution_count": 9,
   "metadata": {},
   "outputs": [
    {
     "data": {
      "text/html": [
       "<div>\n",
       "<style scoped>\n",
       "    .dataframe tbody tr th:only-of-type {\n",
       "        vertical-align: middle;\n",
       "    }\n",
       "\n",
       "    .dataframe tbody tr th {\n",
       "        vertical-align: top;\n",
       "    }\n",
       "\n",
       "    .dataframe thead th {\n",
       "        text-align: right;\n",
       "    }\n",
       "</style>\n",
       "<table border=\"1\" class=\"dataframe\">\n",
       "  <thead>\n",
       "    <tr style=\"text-align: right;\">\n",
       "      <th></th>\n",
       "      <th>rougher.output.recovery</th>\n",
       "      <th>rougher.output.check_recovery</th>\n",
       "    </tr>\n",
       "  </thead>\n",
       "  <tbody>\n",
       "    <tr>\n",
       "      <th>0</th>\n",
       "      <td>87.107763</td>\n",
       "      <td>87.107763</td>\n",
       "    </tr>\n",
       "    <tr>\n",
       "      <th>1</th>\n",
       "      <td>86.843261</td>\n",
       "      <td>86.843261</td>\n",
       "    </tr>\n",
       "    <tr>\n",
       "      <th>2</th>\n",
       "      <td>86.842308</td>\n",
       "      <td>86.842308</td>\n",
       "    </tr>\n",
       "    <tr>\n",
       "      <th>3</th>\n",
       "      <td>87.226430</td>\n",
       "      <td>87.226430</td>\n",
       "    </tr>\n",
       "    <tr>\n",
       "      <th>4</th>\n",
       "      <td>86.688794</td>\n",
       "      <td>86.688794</td>\n",
       "    </tr>\n",
       "  </tbody>\n",
       "</table>\n",
       "</div>"
      ],
      "text/plain": [
       "   rougher.output.recovery  rougher.output.check_recovery\n",
       "0                87.107763                      87.107763\n",
       "1                86.843261                      86.843261\n",
       "2                86.842308                      86.842308\n",
       "3                87.226430                      87.226430\n",
       "4                86.688794                      86.688794"
      ]
     },
     "execution_count": 9,
     "metadata": {},
     "output_type": "execute_result"
    }
   ],
   "source": [
    "# создание нового столбца с расчетами для последующего сравнения \n",
    "\n",
    "df_train['rougher.output.check_recovery'] = check_recovery(df_train['rougher.output.concentrate_au'], \n",
    "                                                          df_train['rougher.input.feed_au'], \n",
    "                                                          df_train['rougher.output.tail_au'])\n",
    "\n",
    "df_train[['rougher.output.recovery', 'rougher.output.check_recovery']].head()"
   ]
  },
  {
   "cell_type": "markdown",
   "metadata": {},
   "source": [
    "На первый взгляд эффективность расчитана правильно. Проверим значение MAE для этих двух признаков:"
   ]
  },
  {
   "cell_type": "code",
   "execution_count": 10,
   "metadata": {},
   "outputs": [
    {
     "data": {
      "text/plain": [
       "9.73512347450521e-15"
      ]
     },
     "execution_count": 10,
     "metadata": {},
     "output_type": "execute_result"
    }
   ],
   "source": [
    "mean_absolute_error(df_train['rougher.output.recovery'], df_train['rougher.output.check_recovery'])"
   ]
  },
  {
   "cell_type": "markdown",
   "metadata": {},
   "source": [
    "Значение ошибки довольно низкое, следовательно эффективность обогащения в тестовой выборке рассчитана верно. "
   ]
  },
  {
   "cell_type": "markdown",
   "metadata": {},
   "source": [
    "### Анализ признаков, недоступных в тестовом наборе данных"
   ]
  },
  {
   "cell_type": "markdown",
   "metadata": {},
   "source": [
    "Внимательнее посмотрим, какие признаки обучающей выборки отсутствуют в тестовом наборе. "
   ]
  },
  {
   "cell_type": "code",
   "execution_count": 11,
   "metadata": {},
   "outputs": [
    {
     "name": "stdout",
     "output_type": "stream",
     "text": [
      "<class 'pandas.core.frame.DataFrame'>\n",
      "RangeIndex: 14149 entries, 0 to 14148\n",
      "Data columns (total 35 columns):\n",
      " #   Column                                              Non-Null Count  Dtype  \n",
      "---  ------                                              --------------  -----  \n",
      " 0   final.output.concentrate_ag                         14148 non-null  float64\n",
      " 1   final.output.concentrate_pb                         14148 non-null  float64\n",
      " 2   final.output.concentrate_sol                        13938 non-null  float64\n",
      " 3   final.output.concentrate_au                         14149 non-null  float64\n",
      " 4   final.output.recovery                               14149 non-null  float64\n",
      " 5   final.output.tail_ag                                14149 non-null  float64\n",
      " 6   final.output.tail_pb                                14049 non-null  float64\n",
      " 7   final.output.tail_sol                               14144 non-null  float64\n",
      " 8   final.output.tail_au                                14149 non-null  float64\n",
      " 9   primary_cleaner.output.concentrate_ag               14149 non-null  float64\n",
      " 10  primary_cleaner.output.concentrate_pb               14063 non-null  float64\n",
      " 11  primary_cleaner.output.concentrate_sol              13863 non-null  float64\n",
      " 12  primary_cleaner.output.concentrate_au               14149 non-null  float64\n",
      " 13  primary_cleaner.output.tail_ag                      14148 non-null  float64\n",
      " 14  primary_cleaner.output.tail_pb                      14134 non-null  float64\n",
      " 15  primary_cleaner.output.tail_sol                     14103 non-null  float64\n",
      " 16  primary_cleaner.output.tail_au                      14149 non-null  float64\n",
      " 17  rougher.calculation.sulfate_to_au_concentrate       14148 non-null  float64\n",
      " 18  rougher.calculation.floatbank10_sulfate_to_au_feed  14148 non-null  float64\n",
      " 19  rougher.calculation.floatbank11_sulfate_to_au_feed  14148 non-null  float64\n",
      " 20  rougher.calculation.au_pb_ratio                     14149 non-null  float64\n",
      " 21  rougher.output.concentrate_ag                       14149 non-null  float64\n",
      " 22  rougher.output.concentrate_pb                       14149 non-null  float64\n",
      " 23  rougher.output.concentrate_sol                      14127 non-null  float64\n",
      " 24  rougher.output.concentrate_au                       14149 non-null  float64\n",
      " 25  rougher.output.recovery                             14149 non-null  float64\n",
      " 26  rougher.output.tail_ag                              14148 non-null  float64\n",
      " 27  rougher.output.tail_pb                              14149 non-null  float64\n",
      " 28  rougher.output.tail_sol                             14149 non-null  float64\n",
      " 29  rougher.output.tail_au                              14149 non-null  float64\n",
      " 30  secondary_cleaner.output.tail_ag                    14147 non-null  float64\n",
      " 31  secondary_cleaner.output.tail_pb                    14139 non-null  float64\n",
      " 32  secondary_cleaner.output.tail_sol                   12544 non-null  float64\n",
      " 33  secondary_cleaner.output.tail_au                    14149 non-null  float64\n",
      " 34  rougher.output.check_recovery                       14149 non-null  float64\n",
      "dtypes: float64(35)\n",
      "memory usage: 3.8 MB\n"
     ]
    }
   ],
   "source": [
    "df_train.drop(df_test.columns, axis=1).info()"
   ]
  },
  {
   "cell_type": "markdown",
   "metadata": {},
   "source": [
    "В тестовом наборе данных отсутствуют выходные параметры (`output`) продукта на разных этапах процесса восстановления золота из руды. "
   ]
  },
  {
   "cell_type": "markdown",
   "metadata": {},
   "source": [
    "### Предобработка данных"
   ]
  },
  {
   "cell_type": "markdown",
   "metadata": {},
   "source": [
    "Сперва удалим из обучающей выборки все признаки, которых нет в тестовой. Обучение модели должно проходить только на тех признаках, которые в дальнейшем изначально будут в распоряжении. "
   ]
  },
  {
   "cell_type": "code",
   "execution_count": 12,
   "metadata": {},
   "outputs": [],
   "source": [
    "# Сохранение в обучающей выборке только тех признаков, которые будут доступны в продакшене\n",
    "\n",
    "df_train = df_train[df_test.columns]"
   ]
  },
  {
   "cell_type": "markdown",
   "metadata": {},
   "source": [
    "Следующей замеченной проблемой были многочисленные пропуски, встречающиеся в большинстве признаков  в обеих выборках. "
   ]
  },
  {
   "cell_type": "code",
   "execution_count": 13,
   "metadata": {},
   "outputs": [
    {
     "data": {
      "text/plain": [
       "rougher.state.floatbank10_e_air             436\n",
       "rougher.input.floatbank11_xanthate          428\n",
       "secondary_cleaner.state.floatbank2_a_air    217\n",
       "rougher.input.feed_size                     144\n",
       "rougher.input.feed_pb                       100\n",
       "primary_cleaner.input.xanthate              100\n",
       "rougher.input.feed_sol                       78\n",
       "rougher.input.floatbank11_sulfate            36\n",
       "primary_cleaner.input.depressant             32\n",
       "rougher.input.floatbank10_sulfate            29\n",
       "dtype: int64"
      ]
     },
     "execution_count": 13,
     "metadata": {},
     "output_type": "execute_result"
    }
   ],
   "source": [
    "# проверка наличия пропусков в обучающем наборе данных\n",
    "\n",
    "df_train.isna().sum().sort_values(ascending=False).head(10)"
   ]
  },
  {
   "cell_type": "code",
   "execution_count": 14,
   "metadata": {},
   "outputs": [
    {
     "data": {
      "text/html": [
       "<div>\n",
       "<style scoped>\n",
       "    .dataframe tbody tr th:only-of-type {\n",
       "        vertical-align: middle;\n",
       "    }\n",
       "\n",
       "    .dataframe tbody tr th {\n",
       "        vertical-align: top;\n",
       "    }\n",
       "\n",
       "    .dataframe thead th {\n",
       "        text-align: right;\n",
       "    }\n",
       "</style>\n",
       "<table border=\"1\" class=\"dataframe\">\n",
       "  <thead>\n",
       "    <tr style=\"text-align: right;\">\n",
       "      <th></th>\n",
       "      <th>date</th>\n",
       "      <th>primary_cleaner.input.sulfate</th>\n",
       "      <th>primary_cleaner.input.depressant</th>\n",
       "      <th>primary_cleaner.input.feed_size</th>\n",
       "      <th>primary_cleaner.input.xanthate</th>\n",
       "      <th>primary_cleaner.state.floatbank8_a_air</th>\n",
       "      <th>primary_cleaner.state.floatbank8_a_level</th>\n",
       "      <th>primary_cleaner.state.floatbank8_b_air</th>\n",
       "      <th>primary_cleaner.state.floatbank8_b_level</th>\n",
       "      <th>primary_cleaner.state.floatbank8_c_air</th>\n",
       "      <th>...</th>\n",
       "      <th>secondary_cleaner.state.floatbank4_a_air</th>\n",
       "      <th>secondary_cleaner.state.floatbank4_a_level</th>\n",
       "      <th>secondary_cleaner.state.floatbank4_b_air</th>\n",
       "      <th>secondary_cleaner.state.floatbank4_b_level</th>\n",
       "      <th>secondary_cleaner.state.floatbank5_a_air</th>\n",
       "      <th>secondary_cleaner.state.floatbank5_a_level</th>\n",
       "      <th>secondary_cleaner.state.floatbank5_b_air</th>\n",
       "      <th>secondary_cleaner.state.floatbank5_b_level</th>\n",
       "      <th>secondary_cleaner.state.floatbank6_a_air</th>\n",
       "      <th>secondary_cleaner.state.floatbank6_a_level</th>\n",
       "    </tr>\n",
       "  </thead>\n",
       "  <tbody>\n",
       "    <tr>\n",
       "      <th>0</th>\n",
       "      <td>2016-01-15 00:00:00</td>\n",
       "      <td>127.092003</td>\n",
       "      <td>10.128295</td>\n",
       "      <td>7.25</td>\n",
       "      <td>0.988759</td>\n",
       "      <td>1549.775757</td>\n",
       "      <td>-498.912140</td>\n",
       "      <td>1551.434204</td>\n",
       "      <td>-516.403442</td>\n",
       "      <td>1549.873901</td>\n",
       "      <td>...</td>\n",
       "      <td>14.016835</td>\n",
       "      <td>-502.488007</td>\n",
       "      <td>12.099931</td>\n",
       "      <td>-504.715942</td>\n",
       "      <td>9.925633</td>\n",
       "      <td>-498.310211</td>\n",
       "      <td>8.079666</td>\n",
       "      <td>-500.470978</td>\n",
       "      <td>14.151341</td>\n",
       "      <td>-605.841980</td>\n",
       "    </tr>\n",
       "    <tr>\n",
       "      <th>1</th>\n",
       "      <td>2016-01-15 01:00:00</td>\n",
       "      <td>125.629232</td>\n",
       "      <td>10.296251</td>\n",
       "      <td>7.25</td>\n",
       "      <td>1.002663</td>\n",
       "      <td>1576.166671</td>\n",
       "      <td>-500.904965</td>\n",
       "      <td>1575.950626</td>\n",
       "      <td>-499.865889</td>\n",
       "      <td>1575.994189</td>\n",
       "      <td>...</td>\n",
       "      <td>13.992281</td>\n",
       "      <td>-505.503262</td>\n",
       "      <td>11.950531</td>\n",
       "      <td>-501.331529</td>\n",
       "      <td>10.039245</td>\n",
       "      <td>-500.169983</td>\n",
       "      <td>7.984757</td>\n",
       "      <td>-500.582168</td>\n",
       "      <td>13.998353</td>\n",
       "      <td>-599.787184</td>\n",
       "    </tr>\n",
       "    <tr>\n",
       "      <th>2</th>\n",
       "      <td>2016-01-15 02:00:00</td>\n",
       "      <td>123.819808</td>\n",
       "      <td>11.316280</td>\n",
       "      <td>7.25</td>\n",
       "      <td>0.991265</td>\n",
       "      <td>1601.556163</td>\n",
       "      <td>-499.997791</td>\n",
       "      <td>1600.386685</td>\n",
       "      <td>-500.607762</td>\n",
       "      <td>1602.003542</td>\n",
       "      <td>...</td>\n",
       "      <td>14.015015</td>\n",
       "      <td>-502.520901</td>\n",
       "      <td>11.912783</td>\n",
       "      <td>-501.133383</td>\n",
       "      <td>10.070913</td>\n",
       "      <td>-500.129135</td>\n",
       "      <td>8.013877</td>\n",
       "      <td>-500.517572</td>\n",
       "      <td>14.028663</td>\n",
       "      <td>-601.427363</td>\n",
       "    </tr>\n",
       "    <tr>\n",
       "      <th>3</th>\n",
       "      <td>2016-01-15 03:00:00</td>\n",
       "      <td>122.270188</td>\n",
       "      <td>11.322140</td>\n",
       "      <td>7.25</td>\n",
       "      <td>0.996739</td>\n",
       "      <td>1599.968720</td>\n",
       "      <td>-500.951778</td>\n",
       "      <td>1600.659236</td>\n",
       "      <td>-499.677094</td>\n",
       "      <td>1600.304144</td>\n",
       "      <td>...</td>\n",
       "      <td>14.036510</td>\n",
       "      <td>-500.857308</td>\n",
       "      <td>11.999550</td>\n",
       "      <td>-501.193686</td>\n",
       "      <td>9.970366</td>\n",
       "      <td>-499.201640</td>\n",
       "      <td>7.977324</td>\n",
       "      <td>-500.255908</td>\n",
       "      <td>14.005551</td>\n",
       "      <td>-599.996129</td>\n",
       "    </tr>\n",
       "    <tr>\n",
       "      <th>4</th>\n",
       "      <td>2016-01-15 04:00:00</td>\n",
       "      <td>117.988169</td>\n",
       "      <td>11.913613</td>\n",
       "      <td>7.25</td>\n",
       "      <td>1.009869</td>\n",
       "      <td>1601.339707</td>\n",
       "      <td>-498.975456</td>\n",
       "      <td>1601.437854</td>\n",
       "      <td>-500.323246</td>\n",
       "      <td>1599.581894</td>\n",
       "      <td>...</td>\n",
       "      <td>14.027298</td>\n",
       "      <td>-499.838632</td>\n",
       "      <td>11.953070</td>\n",
       "      <td>-501.053894</td>\n",
       "      <td>9.925709</td>\n",
       "      <td>-501.686727</td>\n",
       "      <td>7.894242</td>\n",
       "      <td>-500.356035</td>\n",
       "      <td>13.996647</td>\n",
       "      <td>-601.496691</td>\n",
       "    </tr>\n",
       "  </tbody>\n",
       "</table>\n",
       "<p>5 rows × 53 columns</p>\n",
       "</div>"
      ],
      "text/plain": [
       "                  date  primary_cleaner.input.sulfate  \\\n",
       "0  2016-01-15 00:00:00                     127.092003   \n",
       "1  2016-01-15 01:00:00                     125.629232   \n",
       "2  2016-01-15 02:00:00                     123.819808   \n",
       "3  2016-01-15 03:00:00                     122.270188   \n",
       "4  2016-01-15 04:00:00                     117.988169   \n",
       "\n",
       "   primary_cleaner.input.depressant  primary_cleaner.input.feed_size  \\\n",
       "0                         10.128295                             7.25   \n",
       "1                         10.296251                             7.25   \n",
       "2                         11.316280                             7.25   \n",
       "3                         11.322140                             7.25   \n",
       "4                         11.913613                             7.25   \n",
       "\n",
       "   primary_cleaner.input.xanthate  primary_cleaner.state.floatbank8_a_air  \\\n",
       "0                        0.988759                             1549.775757   \n",
       "1                        1.002663                             1576.166671   \n",
       "2                        0.991265                             1601.556163   \n",
       "3                        0.996739                             1599.968720   \n",
       "4                        1.009869                             1601.339707   \n",
       "\n",
       "   primary_cleaner.state.floatbank8_a_level  \\\n",
       "0                               -498.912140   \n",
       "1                               -500.904965   \n",
       "2                               -499.997791   \n",
       "3                               -500.951778   \n",
       "4                               -498.975456   \n",
       "\n",
       "   primary_cleaner.state.floatbank8_b_air  \\\n",
       "0                             1551.434204   \n",
       "1                             1575.950626   \n",
       "2                             1600.386685   \n",
       "3                             1600.659236   \n",
       "4                             1601.437854   \n",
       "\n",
       "   primary_cleaner.state.floatbank8_b_level  \\\n",
       "0                               -516.403442   \n",
       "1                               -499.865889   \n",
       "2                               -500.607762   \n",
       "3                               -499.677094   \n",
       "4                               -500.323246   \n",
       "\n",
       "   primary_cleaner.state.floatbank8_c_air  ...  \\\n",
       "0                             1549.873901  ...   \n",
       "1                             1575.994189  ...   \n",
       "2                             1602.003542  ...   \n",
       "3                             1600.304144  ...   \n",
       "4                             1599.581894  ...   \n",
       "\n",
       "   secondary_cleaner.state.floatbank4_a_air  \\\n",
       "0                                 14.016835   \n",
       "1                                 13.992281   \n",
       "2                                 14.015015   \n",
       "3                                 14.036510   \n",
       "4                                 14.027298   \n",
       "\n",
       "   secondary_cleaner.state.floatbank4_a_level  \\\n",
       "0                                 -502.488007   \n",
       "1                                 -505.503262   \n",
       "2                                 -502.520901   \n",
       "3                                 -500.857308   \n",
       "4                                 -499.838632   \n",
       "\n",
       "   secondary_cleaner.state.floatbank4_b_air  \\\n",
       "0                                 12.099931   \n",
       "1                                 11.950531   \n",
       "2                                 11.912783   \n",
       "3                                 11.999550   \n",
       "4                                 11.953070   \n",
       "\n",
       "   secondary_cleaner.state.floatbank4_b_level  \\\n",
       "0                                 -504.715942   \n",
       "1                                 -501.331529   \n",
       "2                                 -501.133383   \n",
       "3                                 -501.193686   \n",
       "4                                 -501.053894   \n",
       "\n",
       "   secondary_cleaner.state.floatbank5_a_air  \\\n",
       "0                                  9.925633   \n",
       "1                                 10.039245   \n",
       "2                                 10.070913   \n",
       "3                                  9.970366   \n",
       "4                                  9.925709   \n",
       "\n",
       "   secondary_cleaner.state.floatbank5_a_level  \\\n",
       "0                                 -498.310211   \n",
       "1                                 -500.169983   \n",
       "2                                 -500.129135   \n",
       "3                                 -499.201640   \n",
       "4                                 -501.686727   \n",
       "\n",
       "   secondary_cleaner.state.floatbank5_b_air  \\\n",
       "0                                  8.079666   \n",
       "1                                  7.984757   \n",
       "2                                  8.013877   \n",
       "3                                  7.977324   \n",
       "4                                  7.894242   \n",
       "\n",
       "   secondary_cleaner.state.floatbank5_b_level  \\\n",
       "0                                 -500.470978   \n",
       "1                                 -500.582168   \n",
       "2                                 -500.517572   \n",
       "3                                 -500.255908   \n",
       "4                                 -500.356035   \n",
       "\n",
       "   secondary_cleaner.state.floatbank6_a_air  \\\n",
       "0                                 14.151341   \n",
       "1                                 13.998353   \n",
       "2                                 14.028663   \n",
       "3                                 14.005551   \n",
       "4                                 13.996647   \n",
       "\n",
       "   secondary_cleaner.state.floatbank6_a_level  \n",
       "0                                 -605.841980  \n",
       "1                                 -599.787184  \n",
       "2                                 -601.427363  \n",
       "3                                 -599.996129  \n",
       "4                                 -601.496691  \n",
       "\n",
       "[5 rows x 53 columns]"
      ]
     },
     "execution_count": 14,
     "metadata": {},
     "output_type": "execute_result"
    }
   ],
   "source": [
    "df_train.head()"
   ]
  },
  {
   "cell_type": "markdown",
   "metadata": {},
   "source": [
    "От пропусков нужно избавиться, так как они помешают при обучении моделей. Обратим внимание на столбец `date`: отчет выше показал, что все значения в этом столбце - уникальные, и также можно заметить, что объекты в таблице упорядочены по времени. Тогда заполнение пропусков можно провести основываясь именно на этом факте и заменить пропущенные значения ближайшими к ним значениями, то есть предыдущими по времени. \n",
    "\n",
    "Но перед этим стоит проверить все периоды между зафиксированными значениями времени на случай, если среди них есть особенно длительные."
   ]
  },
  {
   "cell_type": "code",
   "execution_count": 15,
   "metadata": {},
   "outputs": [],
   "source": [
    "# перевод date в формат datetime\n",
    "\n",
    "df['date'] = pd.to_datetime(df['date'], format='%Y-%m-%d %H:%M:%S')\n",
    "df_train['date'] = pd.to_datetime(df_train['date'], format='%Y-%m-%d %H:%M:%S')\n",
    "df_test['date'] = pd.to_datetime(df_test['date'], format='%Y-%m-%d %H:%M:%S')"
   ]
  },
  {
   "cell_type": "code",
   "execution_count": 16,
   "metadata": {},
   "outputs": [
    {
     "data": {
      "text/plain": [
       "date           \n",
       "0 days 01:00:00    19017\n",
       "0 days 02:00:00      191\n",
       "0 days 03:00:00       59\n",
       "0 days 04:00:00       33\n",
       "0 days 05:00:00       24\n",
       "0 days 06:00:00       18\n",
       "0 days 08:00:00       12\n",
       "0 days 07:00:00       11\n",
       "0 days 09:00:00        8\n",
       "0 days 12:00:00        7\n",
       "0 days 10:00:00        6\n",
       "0 days 15:00:00        5\n",
       "0 days 13:00:00        4\n",
       "0 days 14:00:00        4\n",
       "0 days 11:00:00        3\n",
       "1 days 08:00:00        3\n",
       "0 days 20:00:00        2\n",
       "0 days 21:00:00        2\n",
       "1 days 02:00:00        2\n",
       "0 days 19:00:00        2\n",
       "0 days 18:00:00        2\n",
       "3 days 06:00:00        1\n",
       "6 days 19:00:00        1\n",
       "6 days 15:00:00        1\n",
       "6 days 12:00:00        1\n",
       "5 days 14:00:00        1\n",
       "5 days 13:00:00        1\n",
       "5 days 04:00:00        1\n",
       "4 days 13:00:00        1\n",
       "4 days 03:00:00        1\n",
       "3 days 13:00:00        1\n",
       "3 days 07:00:00        1\n",
       "2 days 12:00:00        1\n",
       "2 days 00:00:00        1\n",
       "1 days 23:00:00        1\n",
       "1 days 14:00:00        1\n",
       "1 days 10:00:00        1\n",
       "0 days 06:59:59        1\n",
       "1 days 05:00:00        1\n",
       "1 days 04:00:00        1\n",
       "1 days 03:00:00        1\n",
       "0 days 16:00:00        1\n",
       "0 days 22:00:00        1\n",
       "8 days 03:00:00        1\n",
       "dtype: int64"
      ]
     },
     "execution_count": 16,
     "metadata": {},
     "output_type": "execute_result"
    }
   ],
   "source": [
    "df_timedelta = pd.DataFrame(df['date'].diff())\n",
    "df_timedelta.value_counts()"
   ]
  },
  {
   "cell_type": "markdown",
   "metadata": {},
   "source": [
    "Большинство наблюдений сделаны с разницей во времени в один час, однако есть единичные примеры, где период пропуска превышает один день и доходит даже до восьми дней."
   ]
  },
  {
   "cell_type": "code",
   "execution_count": 17,
   "metadata": {},
   "outputs": [],
   "source": [
    "# Замена пропусков в обучающей и тестовой выборках\n",
    "\n",
    "df_train = df_train.fillna(method='ffill')\n",
    "df_test = df_test.fillna(method='ffill')"
   ]
  },
  {
   "cell_type": "markdown",
   "metadata": {},
   "source": [
    "Итак, пропуски в выборках, с которыми будет продолжаться работа, устранены. Значения столбца `date` сделаем индексами во всех таблицах."
   ]
  },
  {
   "cell_type": "code",
   "execution_count": 18,
   "metadata": {},
   "outputs": [],
   "source": [
    "# превращение столбца `date` в индексовый для всех датафреймов\n",
    "\n",
    "df, df_train, df_test = df.set_index(['date']), df_train.set_index(['date']), df_test.set_index(['date'])"
   ]
  },
  {
   "cell_type": "markdown",
   "metadata": {},
   "source": [
    "**Выводы**\n",
    "\n",
    "Важные наблюдения и внесенные изменения на этапе подготовки данных:\n",
    "\n",
    "* Проверка целевого признака `rougher.output.recovery` прошла успешно: значение MAE оказалось очень низким.\n",
    "\n",
    "* Из обучающей выборки были удалены все признаки, отсутвующие в тестовой выборке.\n",
    "\n",
    "* Все пропуски в обеих выборках заполнены ближайшими к ним по времени значениями. \n",
    "\n",
    "* Столбец `date` приведен к формату даты и назначен индексовым во всех трех датафреймах.\n",
    "\n",
    "Данные готовы к их дальнейшему анализу и обучению на них моделей. "
   ]
  },
  {
   "cell_type": "markdown",
   "metadata": {},
   "source": [
    "## Анализ данных"
   ]
  },
  {
   "cell_type": "markdown",
   "metadata": {},
   "source": [
    "### Исследование признаков на разных этапах очистки"
   ]
  },
  {
   "cell_type": "markdown",
   "metadata": {},
   "source": [
    "Посмотрим, как меняется концентрация металлов (Au, Ag, Pb) на различных этапах очистки. Для этого построим графики. "
   ]
  },
  {
   "cell_type": "code",
   "execution_count": 19,
   "metadata": {},
   "outputs": [],
   "source": [
    "# функция отрисовки графика\n",
    "\n",
    "def concentrate(roughter, primary_cleaner, final, main_title):\n",
    "    plt.figure(figsize=(10, 7))\n",
    "    sns.distplot(df[roughter], bins=30, label='roughter')\n",
    "    sns.distplot(df[primary_cleaner], bins=30, label='primary_cleaner')\n",
    "    sns.distplot(df[final], bins=30, label='final')\n",
    "    plt.grid(visible=True)\n",
    "    plt.legend(title='Этапы очистки')\n",
    "    plt.title(main_title) "
   ]
  },
  {
   "cell_type": "code",
   "execution_count": 20,
   "metadata": {},
   "outputs": [
    {
     "data": {
      "image/png": "[encoded data removed]",
      "text/plain": [
       "<Figure size 1000x700 with 1 Axes>"
      ]
     },
     "metadata": {},
     "output_type": "display_data"
    }
   ],
   "source": [
    "# Исследование концентрации Au\n",
    "\n",
    "concentrate('rougher.output.concentrate_au', 'primary_cleaner.output.concentrate_au', \n",
    "            'final.output.concentrate_au', 'Концентрация Au на разных этапах очистки')"
   ]
  },
  {
   "cell_type": "markdown",
   "metadata": {},
   "source": [
    "Высокая концентрация `Au` на этапе флотации снижается после первичной очистки, а на финальном этапе показывает более высокий результат. Значения слева на этом и последующих графиках являются выбросами."
   ]
  },
  {
   "cell_type": "code",
   "execution_count": 21,
   "metadata": {},
   "outputs": [
    {
     "data": {
      "image/png": "[encoded data removed]",
      "text/plain": [
       "<Figure size 1000x700 with 1 Axes>"
      ]
     },
     "metadata": {},
     "output_type": "display_data"
    }
   ],
   "source": [
    "# Исследование концентрации Ag\n",
    "\n",
    "concentrate('rougher.output.concentrate_ag', 'primary_cleaner.output.concentrate_ag', \n",
    "            'final.output.concentrate_ag', 'Концентрация Ag на разных этапах очистки')"
   ]
  },
  {
   "cell_type": "markdown",
   "metadata": {},
   "source": [
    "С каждым последующим этапом концентрация `Au` снижается, а распределение становится шире."
   ]
  },
  {
   "cell_type": "code",
   "execution_count": 22,
   "metadata": {},
   "outputs": [
    {
     "data": {
      "image/png": "[encoded data removed]",
      "text/plain": [
       "<Figure size 1000x700 with 1 Axes>"
      ]
     },
     "metadata": {},
     "output_type": "display_data"
    }
   ],
   "source": [
    "# Исследование концентрации Pb\n",
    "\n",
    "concentrate('rougher.output.concentrate_pb', 'primary_cleaner.output.concentrate_pb', \n",
    "            'final.output.concentrate_pb', 'Концентрация Pb на разных этапах очистки')"
   ]
  },
  {
   "cell_type": "markdown",
   "metadata": {},
   "source": [
    "Что касается `Pb`, здесь концентрация немного увеличивается после этапа первичной обпаботки."
   ]
  },
  {
   "cell_type": "markdown",
   "metadata": {},
   "source": [
    "**Выводы**\n",
    "\n",
    "* К финальному этапу концентрация золота значительно увеличивается;\n",
    "* Концентрация серебра к финальному этапу очистки постепенно снижается;\n",
    "* Концентрация свинца немного возрастает на финальном этапе очистки."
   ]
  },
  {
   "cell_type": "markdown",
   "metadata": {},
   "source": [
    "### Сравнение распределений на обучающей и тестовой выборках"
   ]
  },
  {
   "cell_type": "markdown",
   "metadata": {},
   "source": [
    "Теперь сравним распределения размеров гранул сырья на обучающей и тестовой выборках. В том случае, если распределения будут сильно отличаться, деление данных на выборки было произведено некорректно и при таких выборках будет большой риск того, что оценка модели будет неправильной. \n",
    "\n",
    "Так как в обеих выборках у этого признака присутствуют аномальные значения, стоит удалить их с графика, чтобы лучше увидеть основное распределение. "
   ]
  },
  {
   "cell_type": "code",
   "execution_count": 23,
   "metadata": {},
   "outputs": [
    {
     "data": {
      "text/plain": [
       "(0.0, 200.0)"
      ]
     },
     "execution_count": 23,
     "metadata": {},
     "output_type": "execute_result"
    },
    {
     "data": {
      "image/png": "[encoded data removed]",
      "text/plain": [
       "<Figure size 1000x700 with 1 Axes>"
      ]
     },
     "metadata": {},
     "output_type": "display_data"
    }
   ],
   "source": [
    "# rougher.input.feed_size \n",
    "\n",
    "plt.figure(figsize=(10, 7))\n",
    "sns.distplot(df_train['rougher.input.feed_size'], bins=30)\n",
    "sns.distplot(df_test['rougher.input.feed_size'], bins=30)\n",
    "plt.grid(visible=True)\n",
    "plt.xlim(left=0, right=200)"
   ]
  },
  {
   "cell_type": "markdown",
   "metadata": {},
   "source": [
    "В целом, распределения в обучающей и тестовой выборках довольно похожи, так что проводить проводить дополнительную работу по образованию лучших выборок не нужно. Будем обучать модели на них. "
   ]
  },
  {
   "cell_type": "markdown",
   "metadata": {},
   "source": [
    "### Исследование суммарной концентрации всех веществ на разных стадиях"
   ]
  },
  {
   "cell_type": "markdown",
   "metadata": {},
   "source": [
    "Исследуем суммарную концентрацию всех веществ на разных стадиях: в сырье, в черновом и финальном концентратах. Для этого сначала сложим все концентрации."
   ]
  },
  {
   "cell_type": "code",
   "execution_count": 24,
   "metadata": {},
   "outputs": [],
   "source": [
    "# функция сложения всех концентраций\n",
    "\n",
    "def sum_concentrate(ag, pb, sol, au):\n",
    "    return df[ag] + df[pb] + df[sol] + df[au]"
   ]
  },
  {
   "cell_type": "code",
   "execution_count": 25,
   "metadata": {},
   "outputs": [
    {
     "data": {
      "text/plain": [
       "<matplotlib.legend.Legend at 0x1cacb89dfa0>"
      ]
     },
     "execution_count": 25,
     "metadata": {},
     "output_type": "execute_result"
    },
    {
     "data": {
      "image/png": "[encoded data removed]",
      "text/plain": [
       "<Figure size 1000x700 with 1 Axes>"
      ]
     },
     "metadata": {},
     "output_type": "display_data"
    }
   ],
   "source": [
    "# расчет суммарных концентраций\n",
    "roughter_sum = sum_concentrate('rougher.output.concentrate_ag', 'rougher.output.concentrate_pb', \n",
    "                            'rougher.output.concentrate_sol', 'rougher.output.concentrate_au')\n",
    "\n",
    "primary_cleaner_sum = sum_concentrate('primary_cleaner.output.concentrate_ag', 'primary_cleaner.output.concentrate_pb',\n",
    "                            'primary_cleaner.output.concentrate_sol', 'primary_cleaner.output.concentrate_au')\n",
    "\n",
    "final_sum = sum_concentrate('final.output.concentrate_ag', 'final.output.concentrate_pb', \n",
    "                           'final.output.concentrate_sol', 'final.output.concentrate_au')\n",
    "\n",
    "# Отрисовка графика\n",
    "plt.figure(figsize=(10, 7))\n",
    "sns.distplot(roughter_sum, bins=30)\n",
    "sns.distplot(primary_cleaner_sum, bins=30)\n",
    "sns.distplot(final_sum, bins=30)\n",
    "plt.grid(visible=True)\n",
    "plt.title('Суммарная концентрация всех веществ на разных этапах')\n",
    "plt.legend(['roughter', 'primary_cleaner', 'final'], title='Этап')"
   ]
  },
  {
   "cell_type": "markdown",
   "metadata": {},
   "source": [
    "Нулевые и отрицательные значения, наблюдающиеся на графике являются аномальными: суммарная концентрация всех веществ не может равняться нулю ни на одном из этапов. Значит измерения с нулевой суммарной концентрацией, скорее всего, являются какими-то сбоями в сборе данных. Стоит удалить эти данные из обучающей и тестовой выборок. "
   ]
  },
  {
   "cell_type": "code",
   "execution_count": 26,
   "metadata": {},
   "outputs": [],
   "source": [
    "def drop_zeros(df):\n",
    "    df = df.drop(roughter_sum[roughter_sum <= 0].index, errors='ignore')\n",
    "    df = df.drop(primary_cleaner_sum[primary_cleaner_sum <= 0].index, errors='ignore')\n",
    "    df = df.drop(final_sum[final_sum <= 0].index, errors='ignore')\n",
    "    return df"
   ]
  },
  {
   "cell_type": "code",
   "execution_count": 27,
   "metadata": {},
   "outputs": [
    {
     "name": "stdout",
     "output_type": "stream",
     "text": [
      "Размер обучающей выборки: 14149\n",
      "Размер тестовой выборки: 5290\n",
      "\n",
      "Размер обучающей выборки после удаления нулей: 13725\n",
      "Размер тестовой выборки: 5123\n"
     ]
    }
   ],
   "source": [
    "print(f'Размер обучающей выборки: {df_train.shape[0]}\\nРазмер тестовой выборки: {df_test.shape[0]}')\n",
    "\n",
    "df_train = drop_zeros(df_train)\n",
    "df_test = drop_zeros(df_test)\n",
    "\n",
    "print(f'\\nРазмер обучающей выборки после удаления нулей: {df_train.shape[0]}\\nРазмер тестовой выборки: {df_test.shape[0]}')"
   ]
  },
  {
   "cell_type": "markdown",
   "metadata": {},
   "source": [
    "Мусорные значения удалены из выборок, теперь можно начинать обучение моделей."
   ]
  },
  {
   "cell_type": "markdown",
   "metadata": {},
   "source": [
    "## Модель"
   ]
  },
  {
   "cell_type": "markdown",
   "metadata": {},
   "source": [
    "Для начала введем метрику, с помощью которой будет оцениваться качество предсказаний моделей машинного обучения. Этой метрикой будет **sMAPE** (англ. Symmetric Mean Absolute Percentage Error, «симметричное среднее абсолютное процентное отклонение»). Так как спрогнозировать нужно сразу две величины:\n",
    "* эффективность обогащения чернового концентрата `rougher.output.recovery`;\n",
    "\n",
    "* эффективность обогащения финального концентрата `final.output.recovery`,\n",
    "\n",
    "итоговая метрика будет складываться из двух величин. Создадим функции для расчета отдельных метрик и итоговой **sMAPE**."
   ]
  },
  {
   "cell_type": "code",
   "execution_count": 28,
   "metadata": {},
   "outputs": [],
   "source": [
    "# Функция расчета sMAPE для одного целевого признака\n",
    "\n",
    "def smape(target, predictions):\n",
    "    result = ((1 / len(target)) * (abs(target - predictions) / ((abs(target) + abs(predictions)) / 2))).sum() * 100\n",
    "    return result"
   ]
  },
  {
   "cell_type": "code",
   "execution_count": 29,
   "metadata": {},
   "outputs": [],
   "source": [
    "# функция расчета итоговой sMAPE\n",
    "\n",
    "def total_smape(roughter_smape, final_smape):\n",
    "    result = 0.25 * roughter_smape + 0.75 * final_smape\n",
    "    return result"
   ]
  },
  {
   "cell_type": "markdown",
   "metadata": {},
   "source": [
    "Теперь к имеющимся тренировочной и тестовой выборкам нужно дабавить целевые признаки, но так как их у нас сразу два, для каждого из них стоит сделать отдельные тренировочные и тестовые выборки. "
   ]
  },
  {
   "cell_type": "code",
   "execution_count": 30,
   "metadata": {},
   "outputs": [
    {
     "name": "stdout",
     "output_type": "stream",
     "text": [
      "Размеры тренировочной выборки: (13725, 22), (13725,)\n",
      "Размеры тестовой выборки: (5123, 22), (5123,)\n"
     ]
    }
   ],
   "source": [
    "# создание выборок для чернового концентрата roughter\n",
    "\n",
    "columns_roughter = ['rougher.input.feed_ag', 'rougher.input.feed_pb', 'rougher.input.feed_rate', \n",
    "                    'rougher.input.feed_size', 'rougher.input.feed_sol', 'rougher.input.feed_au', \n",
    "                    'rougher.input.floatbank10_sulfate', 'rougher.input.floatbank10_xanthate', \n",
    "                    'rougher.input.floatbank11_sulfate', 'rougher.input.floatbank11_xanthate', \n",
    "                    'rougher.state.floatbank10_a_air', 'rougher.state.floatbank10_a_level', \n",
    "                    'rougher.state.floatbank10_b_air', 'rougher.state.floatbank10_b_level', \n",
    "                    'rougher.state.floatbank10_c_air', 'rougher.state.floatbank10_c_level', \n",
    "                    'rougher.state.floatbank10_d_air', 'rougher.state.floatbank10_d_level', \n",
    "                    'rougher.state.floatbank10_e_air', 'rougher.state.floatbank10_e_level', \n",
    "                    'rougher.state.floatbank10_f_air', 'rougher.state.floatbank10_f_level' \n",
    "                   ]\n",
    "\n",
    "roughter_train_ft = df_train[columns_roughter]\n",
    "roughter_train_tg = df['rougher.output.recovery'][roughter_train_ft.index]\n",
    "roughter_test_ft = df_test[columns_roughter]\n",
    "roughter_test_tg = df['rougher.output.recovery'][roughter_test_ft.index]\n",
    "\n",
    "print(f'Размеры тренировочной выборки: {roughter_train_ft.shape}, {roughter_train_tg.shape}')\n",
    "print(f'Размеры тестовой выборки: {roughter_test_ft.shape}, {roughter_test_tg.shape}')"
   ]
  },
  {
   "cell_type": "code",
   "execution_count": 31,
   "metadata": {},
   "outputs": [
    {
     "name": "stdout",
     "output_type": "stream",
     "text": [
      "Размеры тренировочной выборки: (13725, 30), (13725,)\n",
      "Размеры тестовой выборки: (5123, 30), (5123,)\n"
     ]
    }
   ],
   "source": [
    "# создание выборок для финального концентрата final\n",
    "\n",
    "final_train_ft = df_train.drop(columns_roughter, axis=1)\n",
    "final_train_tg = df['final.output.recovery'][final_train_ft.index]\n",
    "final_test_ft = df_test.drop(columns_roughter, axis=1)\n",
    "final_test_tg = df['final.output.recovery'][final_test_ft.index]\n",
    "\n",
    "print(f'Размеры тренировочной выборки: {final_train_ft.shape}, {final_train_tg.shape}')\n",
    "print(f'Размеры тестовой выборки: {final_test_ft.shape}, {final_test_tg.shape}')"
   ]
  },
  {
   "cell_type": "code",
   "execution_count": 32,
   "metadata": {},
   "outputs": [
    {
     "data": {
      "text/plain": [
       "date\n",
       "2016-09-01 00:59:59    70.273583\n",
       "2016-09-01 01:59:59    68.910432\n",
       "2016-09-01 02:59:59    68.143213\n",
       "2016-09-01 03:59:59    67.776393\n",
       "2016-09-01 04:59:59    61.467078\n",
       "                         ...    \n",
       "2017-12-31 19:59:59    68.919891\n",
       "2017-12-31 20:59:59    68.440582\n",
       "2017-12-31 21:59:59    67.092759\n",
       "2017-12-31 22:59:59    68.061186\n",
       "2017-12-31 23:59:59    71.699976\n",
       "Name: final.output.recovery, Length: 5123, dtype: float64"
      ]
     },
     "execution_count": 32,
     "metadata": {},
     "output_type": "execute_result"
    }
   ],
   "source": [
    "final_test_tg"
   ]
  },
  {
   "cell_type": "markdown",
   "metadata": {},
   "source": [
    "Теперь приступим к обучению моделей. Будем тестировать три модели:\n",
    "* Решающее дерево;\n",
    "* Случайный лес;\n",
    "* Линейную регрессию\n",
    "\n",
    "Для обучения и оценки качества моделей будем использовать кроссс-валидацию `GridSearchCV`."
   ]
  },
  {
   "cell_type": "code",
   "execution_count": 33,
   "metadata": {},
   "outputs": [],
   "source": [
    "# функция обучения и подбора гиперпараметров с помощью кросс-валидации \n",
    "\n",
    "def cross_valid(model, params, ft, tg):\n",
    "    scorer = make_scorer(smape, greater_is_better=False)\n",
    "    clf = GridSearchCV(model, params, scoring=scorer, cv=5, verbose=False)\n",
    "    clf.fit(ft, tg)\n",
    "    \n",
    "    return clf.best_estimator_, clf.best_score_"
   ]
  },
  {
   "cell_type": "code",
   "execution_count": 34,
   "metadata": {},
   "outputs": [],
   "source": [
    "# функция поиска трех наилучших моделей для определенного целевого признака\n",
    "\n",
    "def search_best_model(train_ft, train_tg):\n",
    "    \n",
    "    print('Лучшая модель решающего дерева:')\n",
    "    model_tree = RandomForestRegressor(random_state=12345)\n",
    "    params = {'max_depth': range(1, 11)}\n",
    "    best_tree_model, best_tree_result = cross_valid(model_tree, params, train_ft, train_tg)\n",
    "    print(f'sMAPE: {best_tree_result}')\n",
    "    \n",
    "    print('\\nЛучшая модель случайного леса:')\n",
    "    model_forest = RandomForestRegressor(random_state=12345)\n",
    "    params = {'n_estimators': range(1, 101, 10),\n",
    "             'max_depth': range(1, 11)}\n",
    "    best_forest_model, best_forest_result = cross_valid(model_forest, params, train_ft, train_tg)\n",
    "    print(f'sMAPE: {best_forest_result}')\n",
    "    \n",
    "    print('\\nЛучшая модель линейной регрессии:')\n",
    "    model_linreg = LinearRegression()\n",
    "    params = {}\n",
    "    best_linreg_model, best_linreg_result = cross_valid(model_linreg, params, train_ft, train_tg)\n",
    "    print(f'sMAPE: {best_linreg_result}')\n",
    "    \n",
    "    results = [best_tree_result, best_forest_result, best_linreg_result]\n",
    "    \n",
    "    return best_tree_model, best_forest_model, best_linreg_model, results"
   ]
  },
  {
   "cell_type": "markdown",
   "metadata": {},
   "source": [
    "Используем функцию и обучим модели на данных, где в роли целевого признака выступает черновой концентрат roughter:"
   ]
  },
  {
   "cell_type": "code",
   "execution_count": 35,
   "metadata": {
    "scrolled": true
   },
   "outputs": [
    {
     "name": "stdout",
     "output_type": "stream",
     "text": [
      "Лучшая модель решающего дерева:\n",
      "sMAPE: -6.612516258378477\n",
      "\n",
      "Лучшая модель случайного леса:\n",
      "sMAPE: -6.587458806993871\n",
      "\n",
      "Лучшая модель линейной регрессии:\n",
      "sMAPE: -6.677118661212717\n"
     ]
    }
   ],
   "source": [
    "# roughter\n",
    "best_tree_model_r, best_forest_model_r, best_linreg_model_r, results_r = search_best_model(roughter_train_ft, \n",
    "                                                                                           roughter_train_tg)"
   ]
  },
  {
   "cell_type": "markdown",
   "metadata": {},
   "source": [
    "И теперь используем функцию на выборках для финального концентрата:"
   ]
  },
  {
   "cell_type": "code",
   "execution_count": 36,
   "metadata": {},
   "outputs": [
    {
     "name": "stdout",
     "output_type": "stream",
     "text": [
      "Лучшая модель решающего дерева:\n",
      "sMAPE: -9.970436485179524\n",
      "\n",
      "Лучшая модель случайного леса:\n",
      "sMAPE: -9.975258464416754\n",
      "\n",
      "Лучшая модель линейной регрессии:\n",
      "sMAPE: -9.743932629320524\n"
     ]
    }
   ],
   "source": [
    "# final\n",
    "best_tree_model_f, best_forest_model_f, best_linreg_model_f, results_f = search_best_model(final_train_ft, \n",
    "                                                                                          final_train_tg)"
   ]
  },
  {
   "cell_type": "markdown",
   "metadata": {},
   "source": [
    "По полученным результатам вычислим итоговую sMAPE. Все полученные значения метрики:"
   ]
  },
  {
   "cell_type": "code",
   "execution_count": 37,
   "metadata": {},
   "outputs": [
    {
     "data": {
      "text/html": [
       "<div>\n",
       "<style scoped>\n",
       "    .dataframe tbody tr th:only-of-type {\n",
       "        vertical-align: middle;\n",
       "    }\n",
       "\n",
       "    .dataframe tbody tr th {\n",
       "        vertical-align: top;\n",
       "    }\n",
       "\n",
       "    .dataframe thead th {\n",
       "        text-align: right;\n",
       "    }\n",
       "</style>\n",
       "<table border=\"1\" class=\"dataframe\">\n",
       "  <thead>\n",
       "    <tr style=\"text-align: right;\">\n",
       "      <th></th>\n",
       "      <th>sMAPE roughter</th>\n",
       "      <th>sMAPE final</th>\n",
       "      <th>sMAPE total</th>\n",
       "    </tr>\n",
       "  </thead>\n",
       "  <tbody>\n",
       "    <tr>\n",
       "      <th>Решающее дерево</th>\n",
       "      <td>-6.612516</td>\n",
       "      <td>-9.970436</td>\n",
       "      <td>-9.130956</td>\n",
       "    </tr>\n",
       "    <tr>\n",
       "      <th>Случайный лес</th>\n",
       "      <td>-6.587459</td>\n",
       "      <td>-9.975258</td>\n",
       "      <td>-9.128309</td>\n",
       "    </tr>\n",
       "    <tr>\n",
       "      <th>Линейная регрессия</th>\n",
       "      <td>-6.677119</td>\n",
       "      <td>-9.743933</td>\n",
       "      <td>-8.977229</td>\n",
       "    </tr>\n",
       "  </tbody>\n",
       "</table>\n",
       "</div>"
      ],
      "text/plain": [
       "                    sMAPE roughter  sMAPE final  sMAPE total\n",
       "Решающее дерево          -6.612516    -9.970436    -9.130956\n",
       "Случайный лес            -6.587459    -9.975258    -9.128309\n",
       "Линейная регрессия       -6.677119    -9.743933    -8.977229"
      ]
     },
     "execution_count": 37,
     "metadata": {},
     "output_type": "execute_result"
    }
   ],
   "source": [
    "# таблица с результатами\n",
    "\n",
    "columns_results = {'sMAPE roughter': results_r, \n",
    "              'sMAPE final': results_f, \n",
    "              'sMAPE total': [total_smape(results_r[0], results_f[0]), \n",
    "                             total_smape(results_r[1], results_f[1]),\n",
    "                             total_smape(results_r[2], results_f[2])]}\n",
    "\n",
    "all_results = pd.DataFrame(data=columns_results, index=('Решающее дерево', 'Случайный лес', 'Линейная регрессия'))\n",
    "all_results"
   ]
  },
  {
   "cell_type": "markdown",
   "metadata": {},
   "source": [
    "**Выводы:**\n",
    "\n",
    "Лучшие результаты показала **модель случайного леса**. Ее отдельные и итоговое значения метрики sMAPE оказались наименьшими. Перейдем на этап тестирования. "
   ]
  },
  {
   "cell_type": "markdown",
   "metadata": {},
   "source": [
    "## Тестирование модели"
   ]
  },
  {
   "cell_type": "markdown",
   "metadata": {},
   "source": [
    "Осталось только проверить нашу модель на тестовой выборке. "
   ]
  },
  {
   "cell_type": "code",
   "execution_count": 38,
   "metadata": {},
   "outputs": [],
   "source": [
    "def test_model(best_model, test_ft, test_tg, train_ft, train_tg):\n",
    "    # тестирование лучшей модели на тестовой выборке\n",
    "    test_predictions = best_model.predict(test_ft)\n",
    "    best_model_result = smape(test_tg, test_predictions)\n",
    "\n",
    "    # проверка на адекватность: определение sMAPE константной моделью\n",
    "    constant_model = DummyRegressor(strategy='median').fit(train_ft, train_tg)\n",
    "    constant_predictions = constant_model.predict(test_ft)\n",
    "    const_result = smape(test_tg, constant_predictions)\n",
    "    \n",
    "    return [best_model_result, const_result]"
   ]
  },
  {
   "cell_type": "code",
   "execution_count": 39,
   "metadata": {},
   "outputs": [
    {
     "data": {
      "text/html": [
       "<div>\n",
       "<style scoped>\n",
       "    .dataframe tbody tr th:only-of-type {\n",
       "        vertical-align: middle;\n",
       "    }\n",
       "\n",
       "    .dataframe tbody tr th {\n",
       "        vertical-align: top;\n",
       "    }\n",
       "\n",
       "    .dataframe thead th {\n",
       "        text-align: right;\n",
       "    }\n",
       "</style>\n",
       "<table border=\"1\" class=\"dataframe\">\n",
       "  <thead>\n",
       "    <tr style=\"text-align: right;\">\n",
       "      <th></th>\n",
       "      <th>sMAPE roughter</th>\n",
       "      <th>sMAPE final</th>\n",
       "      <th>sMAPE total</th>\n",
       "    </tr>\n",
       "  </thead>\n",
       "  <tbody>\n",
       "    <tr>\n",
       "      <th>Случайный лес</th>\n",
       "      <td>4.678503</td>\n",
       "      <td>7.664344</td>\n",
       "      <td>6.917884</td>\n",
       "    </tr>\n",
       "    <tr>\n",
       "      <th>Константная модель</th>\n",
       "      <td>4.809033</td>\n",
       "      <td>8.222545</td>\n",
       "      <td>7.369167</td>\n",
       "    </tr>\n",
       "  </tbody>\n",
       "</table>\n",
       "</div>"
      ],
      "text/plain": [
       "                    sMAPE roughter  sMAPE final  sMAPE total\n",
       "Случайный лес             4.678503     7.664344     6.917884\n",
       "Константная модель        4.809033     8.222545     7.369167"
      ]
     },
     "execution_count": 39,
     "metadata": {},
     "output_type": "execute_result"
    }
   ],
   "source": [
    "roughter_smape = test_model(best_forest_model_r, roughter_test_ft, roughter_test_tg, roughter_train_ft, roughter_train_tg)\n",
    "final_smape = test_model(best_forest_model_f, final_test_ft, final_test_tg, final_train_ft, final_train_tg)\n",
    "\n",
    "columns_results = {'sMAPE roughter': roughter_smape, \n",
    "                  'sMAPE final': final_smape, \n",
    "                   'sMAPE total': [total_smape(roughter_smape[0], final_smape[0]), \n",
    "                                  total_smape(roughter_smape[1], final_smape[1])]}\n",
    "\n",
    "results = pd.DataFrame(data=columns_results, index=['Случайный лес', 'Константная модель'])\n",
    "results"
   ]
  },
  {
   "cell_type": "markdown",
   "metadata": {},
   "source": [
    "Значение метрики sMAPE обученной модели случайного леса на тестовой выборке оказалось ненамного, но ниже sMAPE константной модели. Можно считать, что наша модель прошла проверку на вменяемость. "
   ]
  },
  {
   "cell_type": "markdown",
   "metadata": {},
   "source": [
    "## Общий вывод"
   ]
  },
  {
   "cell_type": "markdown",
   "metadata": {},
   "source": [
    "Итак, подведем итоги проделанной работы:\n",
    "\n",
    "1. В результате проверки данных установили, что данные корретны и эффективность обогащения рассчитана верно. \n",
    "2. В обучающей выборке были сохранены только те признаки, данные которых известны изначально.\n",
    "3. Все данные прошли через продобработку: все пропуски были заполнены. \n",
    "4. На этапе анализа данных проверили, что обучающая и тестовая выборки были корректно извлечены из общего датасета\n",
    "5. Удалены аномальные нулевые значения в концентрации веществ\n",
    "6. Выделены два целевых признака и для каждого из них рассмотрены по три разных моели обучения. В обоих случая лучшие результаты показала модель **случайного леса**\n",
    "7. Выбранная лучшая модель прошла проверку на тестовой выборке и показала хорошие результаты в сравнении с константной моделью. \n",
    "\n",
    "Итак, конечные результаты выбранной модели:\n",
    "* На обучающей выборке итоговый sMAPE: `-9.12`\n",
    "\n",
    "* На тестовой выборке итоговый sMAPE: `6.91`"
   ]
  }
 ],
 "metadata": {
  "ExecuteTimeLog": [
   {
    "duration": 48836,
    "start_time": "2022-03-13T08:46:16.023Z"
   },
   {
    "duration": 1805,
    "start_time": "2022-03-13T08:50:00.140Z"
   },
   {
    "duration": 261,
    "start_time": "2022-03-14T16:04:59.161Z"
   },
   {
    "duration": 113116,
    "start_time": "2022-03-14T16:05:02.727Z"
   },
   {
    "duration": 1171,
    "start_time": "2022-03-14T16:06:55.846Z"
   },
   {
    "duration": 3710,
    "start_time": "2022-03-14T16:06:57.019Z"
   },
   {
    "duration": 7397,
    "start_time": "2022-03-14T16:08:05.978Z"
   },
   {
    "duration": 3,
    "start_time": "2022-03-14T16:08:15.724Z"
   },
   {
    "duration": 2817,
    "start_time": "2022-03-14T16:08:19.364Z"
   },
   {
    "duration": 302,
    "start_time": "2022-03-14T16:08:52.901Z"
   },
   {
    "duration": 671,
    "start_time": "2022-03-14T16:11:18.077Z"
   },
   {
    "duration": 713,
    "start_time": "2022-03-14T16:12:03.328Z"
   },
   {
    "duration": 653,
    "start_time": "2022-03-14T16:12:28.151Z"
   },
   {
    "duration": 663,
    "start_time": "2022-03-14T16:12:34.579Z"
   },
   {
    "duration": 757,
    "start_time": "2022-03-14T16:12:42.369Z"
   },
   {
    "duration": 691,
    "start_time": "2022-03-14T16:12:54.129Z"
   },
   {
    "duration": 18,
    "start_time": "2022-03-14T16:13:26.810Z"
   },
   {
    "duration": 660,
    "start_time": "2022-03-14T16:16:06.973Z"
   },
   {
    "duration": 45046,
    "start_time": "2022-03-14T16:17:33.744Z"
   },
   {
    "duration": 1495,
    "start_time": "2022-03-14T16:24:40.301Z"
   },
   {
    "duration": 370,
    "start_time": "2022-03-14T16:25:37.975Z"
   },
   {
    "duration": 9034,
    "start_time": "2022-03-14T16:46:41.156Z"
   },
   {
    "duration": 8786,
    "start_time": "2022-03-14T16:46:58.084Z"
   },
   {
    "duration": 2294,
    "start_time": "2022-03-14T16:47:16.059Z"
   },
   {
    "duration": 801,
    "start_time": "2022-03-14T16:47:28.953Z"
   },
   {
    "duration": 2273,
    "start_time": "2022-03-14T16:47:36.773Z"
   },
   {
    "duration": 2915,
    "start_time": "2022-03-14T16:49:41.870Z"
   },
   {
    "duration": 1963,
    "start_time": "2022-03-14T16:50:02.360Z"
   },
   {
    "duration": 2403,
    "start_time": "2022-03-14T16:53:38.981Z"
   },
   {
    "duration": 2295,
    "start_time": "2022-03-14T16:58:02.993Z"
   },
   {
    "duration": 2705,
    "start_time": "2022-03-14T16:59:44.321Z"
   },
   {
    "duration": 858,
    "start_time": "2022-03-14T17:01:50.273Z"
   },
   {
    "duration": 523,
    "start_time": "2022-03-14T17:02:02.952Z"
   },
   {
    "duration": 4150,
    "start_time": "2022-03-14T17:02:10.471Z"
   },
   {
    "duration": 1081,
    "start_time": "2022-03-16T03:33:59.510Z"
   },
   {
    "duration": 25379,
    "start_time": "2022-03-16T03:34:13.895Z"
   },
   {
    "duration": 1217,
    "start_time": "2022-03-16T03:35:44.054Z"
   },
   {
    "duration": 907,
    "start_time": "2022-03-16T03:35:48.923Z"
   },
   {
    "duration": 90040,
    "start_time": "2022-03-16T03:37:27.261Z"
   },
   {
    "duration": 265,
    "start_time": "2022-03-16T03:39:09.689Z"
   },
   {
    "duration": 1327,
    "start_time": "2022-03-16T03:39:15.805Z"
   },
   {
    "duration": 359,
    "start_time": "2022-03-16T03:44:20.398Z"
   },
   {
    "duration": 333,
    "start_time": "2022-03-16T03:46:40.653Z"
   },
   {
    "duration": 3204,
    "start_time": "2022-03-16T03:47:30.669Z"
   },
   {
    "duration": 3029,
    "start_time": "2022-03-16T03:47:33.876Z"
   },
   {
    "duration": 899,
    "start_time": "2022-03-16T03:47:36.912Z"
   },
   {
    "duration": 134562,
    "start_time": "2022-03-16T03:47:37.813Z"
   },
   {
    "duration": 608,
    "start_time": "2022-03-16T03:49:52.380Z"
   },
   {
    "duration": 3138,
    "start_time": "2022-03-16T03:51:41.678Z"
   },
   {
    "duration": 2603,
    "start_time": "2022-03-16T03:51:44.819Z"
   },
   {
    "duration": 988,
    "start_time": "2022-03-16T03:51:47.425Z"
   },
   {
    "duration": 134900,
    "start_time": "2022-03-16T03:51:48.415Z"
   },
   {
    "duration": 150150,
    "start_time": "2022-03-16T04:09:35.393Z"
   },
   {
    "duration": 3111,
    "start_time": "2022-03-16T04:35:09.501Z"
   },
   {
    "duration": 2592,
    "start_time": "2022-03-16T04:35:12.615Z"
   },
   {
    "duration": 889,
    "start_time": "2022-03-16T04:35:15.210Z"
   },
   {
    "duration": 134279,
    "start_time": "2022-03-16T04:35:16.102Z"
   },
   {
    "duration": 147485,
    "start_time": "2022-03-16T04:37:30.384Z"
   },
   {
    "duration": 3071,
    "start_time": "2022-03-16T04:41:19.220Z"
   },
   {
    "duration": 2799,
    "start_time": "2022-03-16T04:41:22.295Z"
   },
   {
    "duration": 871,
    "start_time": "2022-03-16T04:41:25.097Z"
   },
   {
    "duration": 138232,
    "start_time": "2022-03-16T04:41:25.970Z"
   },
   {
    "duration": 153028,
    "start_time": "2022-03-16T04:43:44.205Z"
   },
   {
    "duration": 3,
    "start_time": "2022-03-16T04:49:35.318Z"
   },
   {
    "duration": 5,
    "start_time": "2022-03-16T05:03:34.066Z"
   },
   {
    "duration": 7,
    "start_time": "2022-03-16T05:09:08.344Z"
   },
   {
    "duration": 34,
    "start_time": "2022-03-16T05:09:20.666Z"
   },
   {
    "duration": 410,
    "start_time": "2022-03-16T05:10:52.166Z"
   },
   {
    "duration": 19,
    "start_time": "2022-03-16T05:11:15.535Z"
   },
   {
    "duration": 18,
    "start_time": "2022-03-16T05:11:23.734Z"
   },
   {
    "duration": 223,
    "start_time": "2022-03-16T05:14:32.005Z"
   },
   {
    "duration": 84,
    "start_time": "2022-03-16T05:15:23.894Z"
   },
   {
    "duration": 7,
    "start_time": "2022-03-16T05:15:30.665Z"
   },
   {
    "duration": 9,
    "start_time": "2022-03-16T05:18:23.422Z"
   },
   {
    "duration": 11,
    "start_time": "2022-03-16T05:18:29.223Z"
   },
   {
    "duration": 19,
    "start_time": "2022-03-16T05:18:44.542Z"
   },
   {
    "duration": 19,
    "start_time": "2022-03-16T05:18:58.643Z"
   },
   {
    "duration": 16,
    "start_time": "2022-03-16T05:23:43.742Z"
   },
   {
    "duration": 14,
    "start_time": "2022-03-16T05:23:52.828Z"
   },
   {
    "duration": 7,
    "start_time": "2022-03-16T05:30:19.423Z"
   },
   {
    "duration": 7,
    "start_time": "2022-03-16T05:30:29.663Z"
   },
   {
    "duration": 219,
    "start_time": "2022-03-16T05:32:16.863Z"
   },
   {
    "duration": 246,
    "start_time": "2022-03-16T05:32:47.268Z"
   },
   {
    "duration": 211,
    "start_time": "2022-03-16T05:33:51.163Z"
   },
   {
    "duration": 246,
    "start_time": "2022-03-16T05:34:04.564Z"
   },
   {
    "duration": 40,
    "start_time": "2022-03-16T05:34:47.752Z"
   },
   {
    "duration": 20,
    "start_time": "2022-03-16T05:35:06.010Z"
   },
   {
    "duration": 15874,
    "start_time": "2022-03-16T15:16:41.614Z"
   },
   {
    "duration": 3031,
    "start_time": "2022-03-16T15:16:57.492Z"
   },
   {
    "duration": 846,
    "start_time": "2022-03-16T15:17:00.526Z"
   },
   {
    "duration": 136358,
    "start_time": "2022-03-16T15:17:01.376Z"
   },
   {
    "duration": 151984,
    "start_time": "2022-03-16T15:19:17.737Z"
   },
   {
    "duration": 5,
    "start_time": "2022-03-16T15:21:49.723Z"
   },
   {
    "duration": 66,
    "start_time": "2022-03-16T15:21:49.731Z"
   },
   {
    "duration": 7,
    "start_time": "2022-03-16T15:21:49.799Z"
   },
   {
    "duration": 21,
    "start_time": "2022-03-16T15:21:49.810Z"
   },
   {
    "duration": 413,
    "start_time": "2022-03-16T15:24:51.558Z"
   },
   {
    "duration": 210,
    "start_time": "2022-03-16T15:25:02.900Z"
   },
   {
    "duration": 288,
    "start_time": "2022-03-16T15:25:44.073Z"
   },
   {
    "duration": 35,
    "start_time": "2022-03-16T15:26:15.844Z"
   },
   {
    "duration": 32,
    "start_time": "2022-03-16T15:26:34.487Z"
   },
   {
    "duration": 30,
    "start_time": "2022-03-16T15:26:42.864Z"
   },
   {
    "duration": 7,
    "start_time": "2022-03-16T15:26:59.994Z"
   },
   {
    "duration": 26,
    "start_time": "2022-03-16T15:27:25.410Z"
   },
   {
    "duration": 2803,
    "start_time": "2022-03-16T15:28:44.085Z"
   },
   {
    "duration": 849,
    "start_time": "2022-03-16T15:28:46.891Z"
   },
   {
    "duration": 3192,
    "start_time": "2022-03-16T15:28:47.746Z"
   },
   {
    "duration": 4,
    "start_time": "2022-03-16T15:29:06.634Z"
   },
   {
    "duration": 34,
    "start_time": "2022-03-16T15:29:10.697Z"
   },
   {
    "duration": 31,
    "start_time": "2022-03-16T15:29:22.149Z"
   },
   {
    "duration": 7,
    "start_time": "2022-03-16T15:29:47.931Z"
   },
   {
    "duration": 21,
    "start_time": "2022-03-16T15:30:07.153Z"
   },
   {
    "duration": 22,
    "start_time": "2022-03-16T15:30:25.905Z"
   },
   {
    "duration": 13,
    "start_time": "2022-03-16T15:33:00.093Z"
   },
   {
    "duration": 12,
    "start_time": "2022-03-16T15:33:20.239Z"
   },
   {
    "duration": 11,
    "start_time": "2022-03-16T15:34:05.748Z"
   },
   {
    "duration": 12,
    "start_time": "2022-03-16T15:34:19.319Z"
   },
   {
    "duration": 9,
    "start_time": "2022-03-16T15:34:33.233Z"
   },
   {
    "duration": 12,
    "start_time": "2022-03-16T15:34:39.326Z"
   },
   {
    "duration": 13,
    "start_time": "2022-03-16T15:35:45.597Z"
   },
   {
    "duration": 22,
    "start_time": "2022-03-16T15:43:12.037Z"
   },
   {
    "duration": 443,
    "start_time": "2022-03-16T15:44:27.831Z"
   },
   {
    "duration": 3237,
    "start_time": "2022-03-16T15:44:55.400Z"
   },
   {
    "duration": 1273,
    "start_time": "2022-03-16T15:44:58.641Z"
   },
   {
    "duration": 5,
    "start_time": "2022-03-16T15:45:03.234Z"
   },
   {
    "duration": 28,
    "start_time": "2022-03-16T15:45:05.282Z"
   },
   {
    "duration": 7,
    "start_time": "2022-03-16T15:45:07.779Z"
   },
   {
    "duration": 21,
    "start_time": "2022-03-16T15:45:09.996Z"
   },
   {
    "duration": 20,
    "start_time": "2022-03-16T15:45:12.666Z"
   },
   {
    "duration": 8,
    "start_time": "2022-03-16T15:45:13.920Z"
   },
   {
    "duration": 2737,
    "start_time": "2022-03-16T15:56:52.490Z"
   },
   {
    "duration": 841,
    "start_time": "2022-03-16T15:56:55.230Z"
   },
   {
    "duration": 4126,
    "start_time": "2022-03-16T15:56:58.769Z"
   },
   {
    "duration": 2757,
    "start_time": "2022-03-16T15:57:09.592Z"
   },
   {
    "duration": 845,
    "start_time": "2022-03-16T15:57:12.352Z"
   },
   {
    "duration": 4,
    "start_time": "2022-03-16T15:57:18.448Z"
   },
   {
    "duration": 30,
    "start_time": "2022-03-16T15:57:20.013Z"
   },
   {
    "duration": 7,
    "start_time": "2022-03-16T15:57:22.007Z"
   },
   {
    "duration": 21,
    "start_time": "2022-03-16T15:57:24.751Z"
   },
   {
    "duration": 7,
    "start_time": "2022-03-16T15:57:29.930Z"
   },
   {
    "duration": 369,
    "start_time": "2022-03-16T15:58:53.117Z"
   },
   {
    "duration": 205,
    "start_time": "2022-03-16T15:59:12.664Z"
   },
   {
    "duration": 218,
    "start_time": "2022-03-16T15:59:43.100Z"
   },
   {
    "duration": 208,
    "start_time": "2022-03-16T16:00:27.784Z"
   },
   {
    "duration": 2827,
    "start_time": "2022-03-16T16:00:58.708Z"
   },
   {
    "duration": 882,
    "start_time": "2022-03-16T16:01:05.310Z"
   },
   {
    "duration": 4,
    "start_time": "2022-03-16T16:01:09.077Z"
   },
   {
    "duration": 29,
    "start_time": "2022-03-16T16:01:10.175Z"
   },
   {
    "duration": 7,
    "start_time": "2022-03-16T16:01:14.026Z"
   },
   {
    "duration": 22,
    "start_time": "2022-03-16T16:01:15.758Z"
   },
   {
    "duration": 25,
    "start_time": "2022-03-16T16:01:23.203Z"
   },
   {
    "duration": 12,
    "start_time": "2022-03-16T16:01:45.263Z"
   },
   {
    "duration": 11,
    "start_time": "2022-03-16T16:01:53.470Z"
   },
   {
    "duration": 11,
    "start_time": "2022-03-16T16:02:13.430Z"
   },
   {
    "duration": 33,
    "start_time": "2022-03-16T16:03:04.890Z"
   },
   {
    "duration": 10,
    "start_time": "2022-03-16T16:11:42.900Z"
   },
   {
    "duration": 36,
    "start_time": "2022-03-16T16:11:55.017Z"
   },
   {
    "duration": 11,
    "start_time": "2022-03-16T16:11:59.695Z"
   },
   {
    "duration": 14,
    "start_time": "2022-03-16T16:12:05.029Z"
   },
   {
    "duration": 50,
    "start_time": "2022-03-16T16:12:21.317Z"
   },
   {
    "duration": 42,
    "start_time": "2022-03-16T16:12:34.614Z"
   },
   {
    "duration": 20,
    "start_time": "2022-03-16T16:12:41.264Z"
   },
   {
    "duration": 13,
    "start_time": "2022-03-16T16:13:08.688Z"
   },
   {
    "duration": 24,
    "start_time": "2022-03-16T16:14:16.871Z"
   },
   {
    "duration": 11,
    "start_time": "2022-03-16T16:18:29.354Z"
   },
   {
    "duration": 25,
    "start_time": "2022-03-16T16:40:06.247Z"
   },
   {
    "duration": 24,
    "start_time": "2022-03-16T16:40:53.713Z"
   },
   {
    "duration": 54,
    "start_time": "2022-03-16T16:47:07.372Z"
   },
   {
    "duration": 394,
    "start_time": "2022-03-16T16:53:26.646Z"
   },
   {
    "duration": 5,
    "start_time": "2022-03-16T16:53:35.838Z"
   },
   {
    "duration": 78,
    "start_time": "2022-03-16T16:53:41.800Z"
   },
   {
    "duration": 199,
    "start_time": "2022-03-16T16:53:46.960Z"
   },
   {
    "duration": 236,
    "start_time": "2022-03-16T16:55:27.316Z"
   },
   {
    "duration": 233,
    "start_time": "2022-03-16T16:56:17.467Z"
   },
   {
    "duration": 202,
    "start_time": "2022-03-16T16:56:33.270Z"
   },
   {
    "duration": 586,
    "start_time": "2022-03-16T16:56:38.501Z"
   },
   {
    "duration": 69,
    "start_time": "2022-03-16T17:00:03.458Z"
   },
   {
    "duration": 5,
    "start_time": "2022-03-16T17:00:12.029Z"
   },
   {
    "duration": 2533,
    "start_time": "2022-03-16T17:01:33.559Z"
   },
   {
    "duration": 383,
    "start_time": "2022-03-16T17:02:03.750Z"
   },
   {
    "duration": 4,
    "start_time": "2022-03-16T17:02:20.834Z"
   },
   {
    "duration": 394,
    "start_time": "2022-03-16T17:02:23.572Z"
   },
   {
    "duration": 5,
    "start_time": "2022-03-16T17:04:19.081Z"
   },
   {
    "duration": 319,
    "start_time": "2022-03-16T17:04:21.656Z"
   },
   {
    "duration": 5,
    "start_time": "2022-03-16T17:04:34.022Z"
   },
   {
    "duration": 308,
    "start_time": "2022-03-16T17:04:36.386Z"
   },
   {
    "duration": 4,
    "start_time": "2022-03-16T17:04:43.890Z"
   },
   {
    "duration": 441,
    "start_time": "2022-03-16T17:04:45.932Z"
   },
   {
    "duration": 6,
    "start_time": "2022-03-16T17:05:31.234Z"
   },
   {
    "duration": 3233,
    "start_time": "2022-03-16T17:05:32.989Z"
   },
   {
    "duration": 646,
    "start_time": "2022-03-16T17:05:55.627Z"
   },
   {
    "duration": 6,
    "start_time": "2022-03-16T17:06:14.518Z"
   },
   {
    "duration": 726,
    "start_time": "2022-03-16T17:06:16.744Z"
   },
   {
    "duration": 6,
    "start_time": "2022-03-16T17:06:32.194Z"
   },
   {
    "duration": 567,
    "start_time": "2022-03-16T17:06:34.066Z"
   },
   {
    "duration": 5,
    "start_time": "2022-03-16T17:06:54.025Z"
   },
   {
    "duration": 1093,
    "start_time": "2022-03-16T17:06:55.198Z"
   },
   {
    "duration": 5,
    "start_time": "2022-03-16T17:07:23.612Z"
   },
   {
    "duration": 574,
    "start_time": "2022-03-16T17:07:25.462Z"
   },
   {
    "duration": 5,
    "start_time": "2022-03-16T17:07:37.208Z"
   },
   {
    "duration": 1026,
    "start_time": "2022-03-16T17:07:38.921Z"
   },
   {
    "duration": 5,
    "start_time": "2022-03-16T17:07:55.391Z"
   },
   {
    "duration": 659,
    "start_time": "2022-03-16T17:07:56.687Z"
   },
   {
    "duration": 6,
    "start_time": "2022-03-16T17:09:46.062Z"
   },
   {
    "duration": 583,
    "start_time": "2022-03-16T17:09:47.910Z"
   },
   {
    "duration": 5,
    "start_time": "2022-03-16T17:11:05.770Z"
   },
   {
    "duration": 981,
    "start_time": "2022-03-16T17:11:08.168Z"
   },
   {
    "duration": 5,
    "start_time": "2022-03-16T17:11:30.604Z"
   },
   {
    "duration": 6,
    "start_time": "2022-03-16T17:12:14.159Z"
   },
   {
    "duration": 977,
    "start_time": "2022-03-16T17:12:17.068Z"
   },
   {
    "duration": 7,
    "start_time": "2022-03-16T17:15:21.377Z"
   },
   {
    "duration": 5,
    "start_time": "2022-03-16T17:15:41.126Z"
   },
   {
    "duration": 672,
    "start_time": "2022-03-16T17:15:43.123Z"
   },
   {
    "duration": 6,
    "start_time": "2022-03-16T17:16:23.303Z"
   },
   {
    "duration": 671,
    "start_time": "2022-03-16T17:16:25.035Z"
   },
   {
    "duration": 6,
    "start_time": "2022-03-16T17:19:03.226Z"
   },
   {
    "duration": 439,
    "start_time": "2022-03-16T17:19:05.544Z"
   },
   {
    "duration": 5,
    "start_time": "2022-03-16T17:19:34.972Z"
   },
   {
    "duration": 804,
    "start_time": "2022-03-16T17:19:37.785Z"
   },
   {
    "duration": 743,
    "start_time": "2022-03-16T17:29:52.637Z"
   },
   {
    "duration": 841,
    "start_time": "2022-03-16T17:34:34.834Z"
   },
   {
    "duration": 6,
    "start_time": "2022-03-16T17:40:00.935Z"
   },
   {
    "duration": 776,
    "start_time": "2022-03-16T17:40:03.788Z"
   },
   {
    "duration": 6,
    "start_time": "2022-03-16T17:40:15.277Z"
   },
   {
    "duration": 681,
    "start_time": "2022-03-16T17:40:16.870Z"
   },
   {
    "duration": 6,
    "start_time": "2022-03-16T17:40:48.606Z"
   },
   {
    "duration": 815,
    "start_time": "2022-03-16T17:40:49.881Z"
   },
   {
    "duration": 6,
    "start_time": "2022-03-16T17:41:07.753Z"
   },
   {
    "duration": 724,
    "start_time": "2022-03-16T17:41:08.909Z"
   },
   {
    "duration": 6,
    "start_time": "2022-03-16T17:41:16.579Z"
   },
   {
    "duration": 584,
    "start_time": "2022-03-16T17:41:18.737Z"
   },
   {
    "duration": 7,
    "start_time": "2022-03-16T17:41:29.032Z"
   },
   {
    "duration": 741,
    "start_time": "2022-03-16T17:41:29.434Z"
   },
   {
    "duration": 15,
    "start_time": "2022-03-16T17:49:02.262Z"
   },
   {
    "duration": 226,
    "start_time": "2022-03-16T17:55:31.750Z"
   },
   {
    "duration": 788,
    "start_time": "2022-03-16T17:56:25.068Z"
   },
   {
    "duration": 558,
    "start_time": "2022-03-16T17:57:08.300Z"
   },
   {
    "duration": 622,
    "start_time": "2022-03-16T17:57:49.623Z"
   },
   {
    "duration": 469,
    "start_time": "2022-03-16T17:57:59.851Z"
   },
   {
    "duration": 522,
    "start_time": "2022-03-16T18:00:13.774Z"
   },
   {
    "duration": 522,
    "start_time": "2022-03-16T18:00:32.567Z"
   },
   {
    "duration": 677,
    "start_time": "2022-03-16T18:00:54.083Z"
   },
   {
    "duration": 678,
    "start_time": "2022-03-16T18:03:12.210Z"
   },
   {
    "duration": 479,
    "start_time": "2022-03-16T18:03:24.902Z"
   },
   {
    "duration": 475,
    "start_time": "2022-03-16T18:05:20.343Z"
   },
   {
    "duration": 5,
    "start_time": "2022-03-16T20:08:17.887Z"
   },
   {
    "duration": 902,
    "start_time": "2022-03-16T20:08:19.676Z"
   },
   {
    "duration": 4,
    "start_time": "2022-03-16T20:08:28.146Z"
   },
   {
    "duration": 28,
    "start_time": "2022-03-16T20:08:30.296Z"
   },
   {
    "duration": 8,
    "start_time": "2022-03-16T20:08:32.467Z"
   },
   {
    "duration": 17,
    "start_time": "2022-03-16T20:08:35.858Z"
   },
   {
    "duration": 7,
    "start_time": "2022-03-16T20:08:39.812Z"
   },
   {
    "duration": 11,
    "start_time": "2022-03-16T20:08:45.553Z"
   },
   {
    "duration": 33,
    "start_time": "2022-03-16T20:08:48.605Z"
   },
   {
    "duration": 13,
    "start_time": "2022-03-16T20:08:51.822Z"
   },
   {
    "duration": 10,
    "start_time": "2022-03-16T20:08:55.419Z"
   },
   {
    "duration": 6,
    "start_time": "2022-03-16T20:09:01.400Z"
   },
   {
    "duration": 779,
    "start_time": "2022-03-16T20:09:01.409Z"
   },
   {
    "duration": 1081,
    "start_time": "2022-03-16T20:09:04.714Z"
   },
   {
    "duration": 489,
    "start_time": "2022-03-16T20:09:07.836Z"
   },
   {
    "duration": 26,
    "start_time": "2022-03-16T20:09:16.876Z"
   },
   {
    "duration": 5,
    "start_time": "2022-03-16T20:17:19.407Z"
   },
   {
    "duration": 2730,
    "start_time": "2022-03-16T20:18:18.387Z"
   },
   {
    "duration": 4,
    "start_time": "2022-03-16T20:18:41.582Z"
   },
   {
    "duration": 9,
    "start_time": "2022-03-16T20:18:43.185Z"
   },
   {
    "duration": 13,
    "start_time": "2022-03-16T20:20:24.304Z"
   },
   {
    "duration": 601,
    "start_time": "2022-03-16T20:23:25.165Z"
   },
   {
    "duration": 681,
    "start_time": "2022-03-16T20:25:25.254Z"
   },
   {
    "duration": 843,
    "start_time": "2022-03-16T20:25:58.796Z"
   },
   {
    "duration": 653,
    "start_time": "2022-03-16T20:26:42.284Z"
   },
   {
    "duration": 86,
    "start_time": "2022-03-16T20:45:23.184Z"
   },
   {
    "duration": 6,
    "start_time": "2022-03-16T20:45:47.640Z"
   },
   {
    "duration": 187,
    "start_time": "2022-03-16T20:46:33.341Z"
   },
   {
    "duration": 398,
    "start_time": "2022-03-16T20:46:43.580Z"
   },
   {
    "duration": 64,
    "start_time": "2022-03-16T20:47:01.561Z"
   },
   {
    "duration": 789,
    "start_time": "2022-03-16T20:47:11.661Z"
   },
   {
    "duration": 5,
    "start_time": "2022-03-16T20:47:15.660Z"
   },
   {
    "duration": 372,
    "start_time": "2022-03-16T20:47:16.961Z"
   },
   {
    "duration": 6,
    "start_time": "2022-03-16T20:47:30.101Z"
   },
   {
    "duration": 467,
    "start_time": "2022-03-16T20:47:34.149Z"
   },
   {
    "duration": 5,
    "start_time": "2022-03-16T20:47:54.000Z"
   },
   {
    "duration": 434,
    "start_time": "2022-03-16T20:47:54.700Z"
   },
   {
    "duration": 5,
    "start_time": "2022-03-16T20:49:08.420Z"
   },
   {
    "duration": 15,
    "start_time": "2022-03-16T20:49:09.960Z"
   },
   {
    "duration": 19,
    "start_time": "2022-03-16T20:49:28.240Z"
   },
   {
    "duration": 709,
    "start_time": "2022-03-16T20:49:39.443Z"
   },
   {
    "duration": 1431,
    "start_time": "2022-03-17T19:25:07.075Z"
   },
   {
    "duration": 778,
    "start_time": "2022-03-17T19:25:08.782Z"
   },
   {
    "duration": 4,
    "start_time": "2022-03-17T19:25:16.064Z"
   },
   {
    "duration": 26,
    "start_time": "2022-03-17T19:25:22.034Z"
   },
   {
    "duration": 7,
    "start_time": "2022-03-17T19:25:22.062Z"
   },
   {
    "duration": 0,
    "start_time": "2022-03-17T19:25:22.071Z"
   },
   {
    "duration": 0,
    "start_time": "2022-03-17T19:25:22.072Z"
   },
   {
    "duration": 0,
    "start_time": "2022-03-17T19:25:22.073Z"
   },
   {
    "duration": 0,
    "start_time": "2022-03-17T19:25:22.075Z"
   },
   {
    "duration": 0,
    "start_time": "2022-03-17T19:25:22.076Z"
   },
   {
    "duration": 0,
    "start_time": "2022-03-17T19:25:22.077Z"
   },
   {
    "duration": 0,
    "start_time": "2022-03-17T19:25:22.079Z"
   },
   {
    "duration": 0,
    "start_time": "2022-03-17T19:25:22.080Z"
   },
   {
    "duration": 0,
    "start_time": "2022-03-17T19:25:22.081Z"
   },
   {
    "duration": 0,
    "start_time": "2022-03-17T19:25:22.081Z"
   },
   {
    "duration": 0,
    "start_time": "2022-03-17T19:25:22.082Z"
   },
   {
    "duration": 0,
    "start_time": "2022-03-17T19:25:22.083Z"
   },
   {
    "duration": 0,
    "start_time": "2022-03-17T19:25:22.084Z"
   },
   {
    "duration": 0,
    "start_time": "2022-03-17T19:25:22.085Z"
   },
   {
    "duration": 0,
    "start_time": "2022-03-17T19:25:22.086Z"
   },
   {
    "duration": 7130,
    "start_time": "2022-03-17T19:25:40.472Z"
   },
   {
    "duration": 2968,
    "start_time": "2022-03-17T19:25:57.491Z"
   },
   {
    "duration": 1819,
    "start_time": "2022-03-17T19:26:00.463Z"
   },
   {
    "duration": 771,
    "start_time": "2022-03-17T19:26:02.284Z"
   },
   {
    "duration": 4,
    "start_time": "2022-03-17T19:26:08.381Z"
   },
   {
    "duration": 30,
    "start_time": "2022-03-17T19:26:10.921Z"
   },
   {
    "duration": 6,
    "start_time": "2022-03-17T19:26:10.953Z"
   },
   {
    "duration": 24,
    "start_time": "2022-03-17T19:26:10.961Z"
   },
   {
    "duration": 9,
    "start_time": "2022-03-17T19:26:10.987Z"
   },
   {
    "duration": 27,
    "start_time": "2022-03-17T19:26:11.001Z"
   },
   {
    "duration": 33,
    "start_time": "2022-03-17T19:26:11.030Z"
   },
   {
    "duration": 13,
    "start_time": "2022-03-17T19:26:11.065Z"
   },
   {
    "duration": 9,
    "start_time": "2022-03-17T19:26:11.080Z"
   },
   {
    "duration": 26,
    "start_time": "2022-03-17T19:26:11.091Z"
   },
   {
    "duration": 1196,
    "start_time": "2022-03-17T19:26:11.119Z"
   },
   {
    "duration": 1448,
    "start_time": "2022-03-17T19:26:12.317Z"
   },
   {
    "duration": 1465,
    "start_time": "2022-03-17T19:26:13.767Z"
   },
   {
    "duration": 565,
    "start_time": "2022-03-17T19:26:15.234Z"
   },
   {
    "duration": 3,
    "start_time": "2022-03-17T19:26:15.804Z"
   },
   {
    "duration": 1323,
    "start_time": "2022-03-17T19:26:15.808Z"
   },
   {
    "duration": 3,
    "start_time": "2022-03-17T19:26:17.133Z"
   },
   {
    "duration": 35,
    "start_time": "2022-03-17T19:26:17.137Z"
   },
   {
    "duration": 899,
    "start_time": "2022-03-17T19:28:22.742Z"
   },
   {
    "duration": 5,
    "start_time": "2022-03-17T19:29:01.231Z"
   },
   {
    "duration": 14,
    "start_time": "2022-03-17T19:30:49.801Z"
   },
   {
    "duration": 2904,
    "start_time": "2022-03-17T19:33:00.105Z"
   },
   {
    "duration": 1872,
    "start_time": "2022-03-17T19:33:03.012Z"
   },
   {
    "duration": 723,
    "start_time": "2022-03-17T19:33:04.886Z"
   },
   {
    "duration": 3,
    "start_time": "2022-03-17T19:33:10.726Z"
   },
   {
    "duration": 28,
    "start_time": "2022-03-17T19:33:13.106Z"
   },
   {
    "duration": 6,
    "start_time": "2022-03-17T19:33:13.307Z"
   },
   {
    "duration": 17,
    "start_time": "2022-03-17T19:33:13.315Z"
   },
   {
    "duration": 8,
    "start_time": "2022-03-17T19:33:13.333Z"
   },
   {
    "duration": 12,
    "start_time": "2022-03-17T19:33:13.342Z"
   },
   {
    "duration": 26,
    "start_time": "2022-03-17T19:33:13.356Z"
   },
   {
    "duration": 13,
    "start_time": "2022-03-17T19:33:13.384Z"
   },
   {
    "duration": 9,
    "start_time": "2022-03-17T19:33:13.399Z"
   },
   {
    "duration": 7,
    "start_time": "2022-03-17T19:33:13.409Z"
   },
   {
    "duration": 1305,
    "start_time": "2022-03-17T19:33:13.418Z"
   },
   {
    "duration": 1134,
    "start_time": "2022-03-17T19:33:14.725Z"
   },
   {
    "duration": 1205,
    "start_time": "2022-03-17T19:33:15.861Z"
   },
   {
    "duration": 533,
    "start_time": "2022-03-17T19:33:17.068Z"
   },
   {
    "duration": 6,
    "start_time": "2022-03-17T19:33:17.602Z"
   },
   {
    "duration": 1583,
    "start_time": "2022-03-17T19:33:17.611Z"
   },
   {
    "duration": 5,
    "start_time": "2022-03-17T19:33:19.195Z"
   },
   {
    "duration": 158,
    "start_time": "2022-03-17T19:33:19.201Z"
   },
   {
    "duration": 0,
    "start_time": "2022-03-17T19:33:19.361Z"
   },
   {
    "duration": 25,
    "start_time": "2022-03-17T19:33:58.386Z"
   },
   {
    "duration": 2929,
    "start_time": "2022-03-17T19:34:25.266Z"
   },
   {
    "duration": 1906,
    "start_time": "2022-03-17T19:34:28.198Z"
   },
   {
    "duration": 1114,
    "start_time": "2022-03-17T19:34:30.106Z"
   },
   {
    "duration": 4,
    "start_time": "2022-03-17T19:34:35.650Z"
   },
   {
    "duration": 26,
    "start_time": "2022-03-17T19:34:39.597Z"
   },
   {
    "duration": 6,
    "start_time": "2022-03-17T19:34:39.625Z"
   },
   {
    "duration": 22,
    "start_time": "2022-03-17T19:34:39.632Z"
   },
   {
    "duration": 6,
    "start_time": "2022-03-17T19:34:39.656Z"
   },
   {
    "duration": 17,
    "start_time": "2022-03-17T19:34:39.665Z"
   },
   {
    "duration": 19,
    "start_time": "2022-03-17T19:34:39.684Z"
   },
   {
    "duration": 10,
    "start_time": "2022-03-17T19:34:39.705Z"
   },
   {
    "duration": 7,
    "start_time": "2022-03-17T19:34:39.717Z"
   },
   {
    "duration": 4,
    "start_time": "2022-03-17T19:34:39.728Z"
   },
   {
    "duration": 1383,
    "start_time": "2022-03-17T19:34:39.734Z"
   },
   {
    "duration": 938,
    "start_time": "2022-03-17T19:34:41.119Z"
   },
   {
    "duration": 1242,
    "start_time": "2022-03-17T19:34:42.059Z"
   },
   {
    "duration": 509,
    "start_time": "2022-03-17T19:34:43.303Z"
   },
   {
    "duration": 3,
    "start_time": "2022-03-17T19:34:43.815Z"
   },
   {
    "duration": 1138,
    "start_time": "2022-03-17T19:34:43.820Z"
   },
   {
    "duration": 5,
    "start_time": "2022-03-17T19:34:44.960Z"
   },
   {
    "duration": 31,
    "start_time": "2022-03-17T19:34:44.967Z"
   },
   {
    "duration": 114,
    "start_time": "2022-03-17T19:34:45.000Z"
   },
   {
    "duration": 2801,
    "start_time": "2022-03-17T19:35:30.258Z"
   },
   {
    "duration": 1965,
    "start_time": "2022-03-17T19:35:33.062Z"
   },
   {
    "duration": 762,
    "start_time": "2022-03-17T19:35:35.029Z"
   },
   {
    "duration": 4,
    "start_time": "2022-03-17T19:35:38.457Z"
   },
   {
    "duration": 34,
    "start_time": "2022-03-17T19:35:41.308Z"
   },
   {
    "duration": 4,
    "start_time": "2022-03-17T19:35:41.344Z"
   },
   {
    "duration": 21,
    "start_time": "2022-03-17T19:35:41.349Z"
   },
   {
    "duration": 9,
    "start_time": "2022-03-17T19:35:41.372Z"
   },
   {
    "duration": 24,
    "start_time": "2022-03-17T19:35:41.383Z"
   },
   {
    "duration": 25,
    "start_time": "2022-03-17T19:35:41.409Z"
   },
   {
    "duration": 11,
    "start_time": "2022-03-17T19:35:41.435Z"
   },
   {
    "duration": 19,
    "start_time": "2022-03-17T19:35:41.447Z"
   },
   {
    "duration": 5,
    "start_time": "2022-03-17T19:35:41.468Z"
   },
   {
    "duration": 1194,
    "start_time": "2022-03-17T19:35:41.474Z"
   },
   {
    "duration": 1080,
    "start_time": "2022-03-17T19:35:42.669Z"
   },
   {
    "duration": 1244,
    "start_time": "2022-03-17T19:35:43.751Z"
   },
   {
    "duration": 610,
    "start_time": "2022-03-17T19:35:44.997Z"
   },
   {
    "duration": 3,
    "start_time": "2022-03-17T19:35:45.610Z"
   },
   {
    "duration": 1221,
    "start_time": "2022-03-17T19:35:45.614Z"
   },
   {
    "duration": 3,
    "start_time": "2022-03-17T19:35:46.839Z"
   },
   {
    "duration": 24,
    "start_time": "2022-03-17T19:35:46.844Z"
   },
   {
    "duration": 112,
    "start_time": "2022-03-17T19:35:46.870Z"
   },
   {
    "duration": 1884,
    "start_time": "2022-03-17T19:41:07.423Z"
   },
   {
    "duration": 940,
    "start_time": "2022-03-17T19:41:09.310Z"
   },
   {
    "duration": 3008,
    "start_time": "2022-03-17T19:41:26.897Z"
   },
   {
    "duration": 2020,
    "start_time": "2022-03-17T19:41:29.908Z"
   },
   {
    "duration": 934,
    "start_time": "2022-03-17T19:41:31.930Z"
   },
   {
    "duration": 5,
    "start_time": "2022-03-17T19:41:37.061Z"
   },
   {
    "duration": 35,
    "start_time": "2022-03-17T19:41:40.012Z"
   },
   {
    "duration": 7,
    "start_time": "2022-03-17T19:41:40.049Z"
   },
   {
    "duration": 17,
    "start_time": "2022-03-17T19:41:40.057Z"
   },
   {
    "duration": 7,
    "start_time": "2022-03-17T19:41:40.076Z"
   },
   {
    "duration": 31,
    "start_time": "2022-03-17T19:41:40.088Z"
   },
   {
    "duration": 21,
    "start_time": "2022-03-17T19:41:40.121Z"
   },
   {
    "duration": 21,
    "start_time": "2022-03-17T19:41:40.144Z"
   },
   {
    "duration": 9,
    "start_time": "2022-03-17T19:41:40.166Z"
   },
   {
    "duration": 35,
    "start_time": "2022-03-17T19:41:40.177Z"
   },
   {
    "duration": 973,
    "start_time": "2022-03-17T19:41:40.214Z"
   },
   {
    "duration": 908,
    "start_time": "2022-03-17T19:41:41.190Z"
   },
   {
    "duration": 1137,
    "start_time": "2022-03-17T19:41:42.106Z"
   },
   {
    "duration": 495,
    "start_time": "2022-03-17T19:41:43.245Z"
   },
   {
    "duration": 3,
    "start_time": "2022-03-17T19:41:43.744Z"
   },
   {
    "duration": 1058,
    "start_time": "2022-03-17T19:41:43.748Z"
   },
   {
    "duration": 4,
    "start_time": "2022-03-17T19:41:44.807Z"
   },
   {
    "duration": 21,
    "start_time": "2022-03-17T19:41:44.812Z"
   },
   {
    "duration": 4,
    "start_time": "2022-03-17T20:01:33.549Z"
   },
   {
    "duration": 4,
    "start_time": "2022-03-17T20:01:55.653Z"
   },
   {
    "duration": 18,
    "start_time": "2022-03-17T20:28:00.987Z"
   },
   {
    "duration": 9,
    "start_time": "2022-03-17T20:46:51.583Z"
   },
   {
    "duration": 10,
    "start_time": "2022-03-17T20:50:49.604Z"
   },
   {
    "duration": 4,
    "start_time": "2022-03-17T20:51:49.462Z"
   },
   {
    "duration": 5,
    "start_time": "2022-03-17T20:52:08.682Z"
   },
   {
    "duration": 5,
    "start_time": "2022-03-17T20:52:17.342Z"
   },
   {
    "duration": 5,
    "start_time": "2022-03-17T20:52:22.982Z"
   },
   {
    "duration": 3,
    "start_time": "2022-03-17T21:07:08.732Z"
   },
   {
    "duration": 3,
    "start_time": "2022-03-17T21:07:14.431Z"
   },
   {
    "duration": 53,
    "start_time": "2022-03-17T21:24:51.552Z"
   },
   {
    "duration": 108,
    "start_time": "2022-03-17T21:24:58.495Z"
   },
   {
    "duration": 10,
    "start_time": "2022-03-17T21:25:05.510Z"
   },
   {
    "duration": 3,
    "start_time": "2022-03-17T21:25:11.737Z"
   },
   {
    "duration": 65610,
    "start_time": "2022-03-17T21:25:13.531Z"
   },
   {
    "duration": 872404,
    "start_time": "2022-03-17T21:26:23.994Z"
   },
   {
    "duration": 184,
    "start_time": "2022-03-17T21:41:18.642Z"
   },
   {
    "duration": 4,
    "start_time": "2022-03-17T21:41:33.744Z"
   },
   {
    "duration": 5,
    "start_time": "2022-03-17T21:48:40.772Z"
   },
   {
    "duration": 9,
    "start_time": "2022-03-17T21:51:17.099Z"
   },
   {
    "duration": 983350,
    "start_time": "2022-03-17T21:51:33.748Z"
   },
   {
    "duration": 6,
    "start_time": "2022-03-17T22:29:09.537Z"
   },
   {
    "duration": 3,
    "start_time": "2022-03-17T22:37:08.801Z"
   },
   {
    "duration": 4,
    "start_time": "2022-03-17T22:37:09.950Z"
   },
   {
    "duration": 2025578,
    "start_time": "2022-03-17T22:37:18.681Z"
   },
   {
    "duration": 4,
    "start_time": "2022-03-17T23:14:42.482Z"
   },
   {
    "duration": 3,
    "start_time": "2022-03-17T23:14:44.012Z"
   },
   {
    "duration": 10,
    "start_time": "2022-03-17T23:14:56.723Z"
   },
   {
    "duration": 9,
    "start_time": "2022-03-17T23:14:59.581Z"
   },
   {
    "duration": 3,
    "start_time": "2022-03-17T23:15:02.943Z"
   },
   {
    "duration": 5,
    "start_time": "2022-03-17T23:15:08.773Z"
   },
   {
    "duration": 1988949,
    "start_time": "2022-03-17T23:15:15.492Z"
   },
   {
    "duration": 2310,
    "start_time": "2022-03-18T00:37:35.065Z"
   },
   {
    "duration": 4,
    "start_time": "2022-03-18T00:37:38.426Z"
   },
   {
    "duration": 819,
    "start_time": "2022-03-18T00:37:41.045Z"
   },
   {
    "duration": 3,
    "start_time": "2022-03-18T00:37:47.666Z"
   },
   {
    "duration": 31,
    "start_time": "2022-03-18T00:37:52.447Z"
   },
   {
    "duration": 6,
    "start_time": "2022-03-18T00:37:52.480Z"
   },
   {
    "duration": 25,
    "start_time": "2022-03-18T00:37:52.487Z"
   },
   {
    "duration": 5,
    "start_time": "2022-03-18T00:37:52.514Z"
   },
   {
    "duration": 10,
    "start_time": "2022-03-18T00:37:52.522Z"
   },
   {
    "duration": 22,
    "start_time": "2022-03-18T00:37:52.533Z"
   },
   {
    "duration": 32,
    "start_time": "2022-03-18T00:37:52.557Z"
   },
   {
    "duration": 7,
    "start_time": "2022-03-18T00:37:52.591Z"
   },
   {
    "duration": 10,
    "start_time": "2022-03-18T00:37:52.599Z"
   },
   {
    "duration": 1154,
    "start_time": "2022-03-18T00:37:52.611Z"
   },
   {
    "duration": 1073,
    "start_time": "2022-03-18T00:37:53.767Z"
   },
   {
    "duration": 1018,
    "start_time": "2022-03-18T00:37:54.841Z"
   },
   {
    "duration": 460,
    "start_time": "2022-03-18T00:37:55.860Z"
   },
   {
    "duration": 3,
    "start_time": "2022-03-18T00:37:56.324Z"
   },
   {
    "duration": 1013,
    "start_time": "2022-03-18T00:37:56.328Z"
   },
   {
    "duration": 4,
    "start_time": "2022-03-18T00:37:57.343Z"
   },
   {
    "duration": 17,
    "start_time": "2022-03-18T00:37:57.349Z"
   },
   {
    "duration": 8,
    "start_time": "2022-03-18T00:37:57.381Z"
   },
   {
    "duration": 9,
    "start_time": "2022-03-18T00:37:57.392Z"
   },
   {
    "duration": 9,
    "start_time": "2022-03-18T00:37:57.403Z"
   },
   {
    "duration": 8,
    "start_time": "2022-03-18T00:37:57.413Z"
   },
   {
    "duration": 3,
    "start_time": "2022-03-18T00:37:57.423Z"
   },
   {
    "duration": 5,
    "start_time": "2022-03-18T00:37:57.428Z"
   },
   {
    "duration": 1966156,
    "start_time": "2022-03-18T00:37:57.435Z"
   },
   {
    "duration": 2641608,
    "start_time": "2022-03-18T01:10:43.596Z"
   },
   {
    "duration": 202,
    "start_time": "2022-03-18T01:54:45.294Z"
   },
   {
    "duration": 0,
    "start_time": "2022-03-18T01:54:45.498Z"
   },
   {
    "duration": 2,
    "start_time": "2022-03-18T01:55:55.370Z"
   },
   {
    "duration": 10,
    "start_time": "2022-03-18T01:56:05.817Z"
   },
   {
    "duration": 4,
    "start_time": "2022-03-18T02:00:46.021Z"
   },
   {
    "duration": 8,
    "start_time": "2022-03-18T02:01:17.036Z"
   },
   {
    "duration": 3,
    "start_time": "2022-03-18T02:02:48.874Z"
   },
   {
    "duration": 8,
    "start_time": "2022-03-18T02:02:49.273Z"
   },
   {
    "duration": 20,
    "start_time": "2022-03-18T02:05:54.861Z"
   },
   {
    "duration": 27,
    "start_time": "2022-03-18T02:06:28.741Z"
   },
   {
    "duration": 4,
    "start_time": "2022-03-18T02:09:41.837Z"
   },
   {
    "duration": 3,
    "start_time": "2022-03-18T02:16:42.574Z"
   },
   {
    "duration": 8,
    "start_time": "2022-03-18T02:16:43.914Z"
   },
   {
    "duration": 26,
    "start_time": "2022-03-18T02:17:03.674Z"
   },
   {
    "duration": 201,
    "start_time": "2022-03-18T02:21:57.948Z"
   },
   {
    "duration": 25,
    "start_time": "2022-03-18T02:22:03.628Z"
   },
   {
    "duration": 3,
    "start_time": "2022-03-18T02:22:58.977Z"
   },
   {
    "duration": 26,
    "start_time": "2022-03-18T02:22:59.409Z"
   },
   {
    "duration": 4,
    "start_time": "2022-03-18T02:24:26.995Z"
   },
   {
    "duration": 4,
    "start_time": "2022-03-18T02:24:35.815Z"
   },
   {
    "duration": 25,
    "start_time": "2022-03-18T02:24:36.614Z"
   },
   {
    "duration": 4,
    "start_time": "2022-03-18T02:26:56.274Z"
   },
   {
    "duration": 26,
    "start_time": "2022-03-18T02:26:56.625Z"
   },
   {
    "duration": 3,
    "start_time": "2022-03-18T02:27:14.594Z"
   },
   {
    "duration": 27,
    "start_time": "2022-03-18T02:27:15.214Z"
   },
   {
    "duration": 82574,
    "start_time": "2022-03-19T06:24:25.676Z"
   },
   {
    "duration": 73468,
    "start_time": "2022-03-19T06:48:29.638Z"
   },
   {
    "duration": 777,
    "start_time": "2022-03-19T06:52:46.553Z"
   },
   {
    "duration": 4,
    "start_time": "2022-03-19T06:52:59.465Z"
   },
   {
    "duration": 55,
    "start_time": "2022-03-19T06:53:00.750Z"
   },
   {
    "duration": 6,
    "start_time": "2022-03-19T06:53:02.159Z"
   },
   {
    "duration": 16,
    "start_time": "2022-03-19T06:53:04.113Z"
   },
   {
    "duration": 29,
    "start_time": "2022-03-19T07:00:27.607Z"
   },
   {
    "duration": 11,
    "start_time": "2022-03-19T07:00:37.465Z"
   },
   {
    "duration": 25,
    "start_time": "2022-03-19T07:00:39.006Z"
   },
   {
    "duration": 7,
    "start_time": "2022-03-19T07:00:55.764Z"
   },
   {
    "duration": 9,
    "start_time": "2022-03-19T07:00:57.138Z"
   },
   {
    "duration": 21,
    "start_time": "2022-03-19T07:00:57.716Z"
   },
   {
    "duration": 7,
    "start_time": "2022-03-19T07:00:59.195Z"
   },
   {
    "duration": 118,
    "start_time": "2022-03-19T07:01:01.124Z"
   },
   {
    "duration": 777,
    "start_time": "2022-03-19T07:01:08.358Z"
   },
   {
    "duration": 21,
    "start_time": "2022-03-19T07:01:15.039Z"
   },
   {
    "duration": 4,
    "start_time": "2022-03-19T07:01:16.890Z"
   },
   {
    "duration": 12,
    "start_time": "2022-03-19T07:01:17.280Z"
   },
   {
    "duration": 7,
    "start_time": "2022-03-19T07:01:17.812Z"
   },
   {
    "duration": 14,
    "start_time": "2022-03-19T07:01:18.929Z"
   },
   {
    "duration": 6,
    "start_time": "2022-03-19T07:01:20.899Z"
   },
   {
    "duration": 9,
    "start_time": "2022-03-19T07:01:21.722Z"
   },
   {
    "duration": 21,
    "start_time": "2022-03-19T07:01:21.960Z"
   },
   {
    "duration": 10,
    "start_time": "2022-03-19T07:01:22.602Z"
   },
   {
    "duration": 8,
    "start_time": "2022-03-19T07:01:23.366Z"
   },
   {
    "duration": 27,
    "start_time": "2022-03-19T07:01:24.263Z"
   },
   {
    "duration": 5,
    "start_time": "2022-03-19T07:01:57.416Z"
   },
   {
    "duration": 1117,
    "start_time": "2022-03-19T07:01:58.110Z"
   },
   {
    "duration": 1187,
    "start_time": "2022-03-19T07:01:59.230Z"
   },
   {
    "duration": 1222,
    "start_time": "2022-03-19T07:02:00.418Z"
   },
   {
    "duration": 464,
    "start_time": "2022-03-19T07:02:07.117Z"
   },
   {
    "duration": 3,
    "start_time": "2022-03-19T07:02:08.418Z"
   },
   {
    "duration": 1100,
    "start_time": "2022-03-19T07:02:09.109Z"
   },
   {
    "duration": 5,
    "start_time": "2022-03-19T07:02:10.212Z"
   },
   {
    "duration": 23,
    "start_time": "2022-03-19T07:02:10.219Z"
   },
   {
    "duration": 3,
    "start_time": "2022-03-19T07:02:12.459Z"
   },
   {
    "duration": 3,
    "start_time": "2022-03-19T07:02:13.041Z"
   },
   {
    "duration": 11,
    "start_time": "2022-03-19T07:02:20.567Z"
   },
   {
    "duration": 10,
    "start_time": "2022-03-19T07:02:23.887Z"
   },
   {
    "duration": 4,
    "start_time": "2022-03-19T07:02:56.803Z"
   },
   {
    "duration": 7,
    "start_time": "2022-03-19T07:02:58.522Z"
   },
   {
    "duration": 1074173,
    "start_time": "2022-03-19T07:03:20.809Z"
   },
   {
    "duration": 0,
    "start_time": "2022-03-19T07:21:14.985Z"
   },
   {
    "duration": 6,
    "start_time": "2022-03-19T07:22:15.585Z"
   },
   {
    "duration": 1588,
    "start_time": "2022-03-20T03:51:06.208Z"
   },
   {
    "duration": 754,
    "start_time": "2022-03-20T03:51:10.399Z"
   },
   {
    "duration": 3,
    "start_time": "2022-03-20T03:51:20.199Z"
   },
   {
    "duration": 27,
    "start_time": "2022-03-20T03:51:22.208Z"
   },
   {
    "duration": 7,
    "start_time": "2022-03-20T03:51:27.703Z"
   },
   {
    "duration": 20,
    "start_time": "2022-03-20T03:51:38.577Z"
   },
   {
    "duration": 6,
    "start_time": "2022-03-20T03:51:49.728Z"
   },
   {
    "duration": 11,
    "start_time": "2022-03-20T03:51:52.560Z"
   },
   {
    "duration": 23,
    "start_time": "2022-03-20T03:51:54.867Z"
   },
   {
    "duration": 13,
    "start_time": "2022-03-20T03:52:06.449Z"
   },
   {
    "duration": 26,
    "start_time": "2022-03-20T03:52:19.877Z"
   },
   {
    "duration": 26,
    "start_time": "2022-03-20T03:52:22.548Z"
   },
   {
    "duration": 4,
    "start_time": "2022-03-20T03:54:53.888Z"
   },
   {
    "duration": 1110,
    "start_time": "2022-03-20T03:54:55.528Z"
   },
   {
    "duration": 1004,
    "start_time": "2022-03-20T03:54:57.819Z"
   },
   {
    "duration": 1074,
    "start_time": "2022-03-20T03:54:59.858Z"
   },
   {
    "duration": 459,
    "start_time": "2022-03-20T03:55:05.828Z"
   },
   {
    "duration": 3,
    "start_time": "2022-03-20T03:55:12.378Z"
   },
   {
    "duration": 1160,
    "start_time": "2022-03-20T03:55:16.969Z"
   },
   {
    "duration": 3,
    "start_time": "2022-03-20T03:55:22.208Z"
   },
   {
    "duration": 22,
    "start_time": "2022-03-20T03:55:26.528Z"
   },
   {
    "duration": 22,
    "start_time": "2022-03-20T03:56:22.989Z"
   },
   {
    "duration": 23,
    "start_time": "2022-03-20T03:56:41.889Z"
   },
   {
    "duration": 8,
    "start_time": "2022-03-20T03:56:52.456Z"
   },
   {
    "duration": 111,
    "start_time": "2022-03-20T03:57:45.087Z"
   },
   {
    "duration": 22,
    "start_time": "2022-03-20T04:02:07.328Z"
   },
   {
    "duration": 5,
    "start_time": "2022-03-20T04:06:21.608Z"
   },
   {
    "duration": 33,
    "start_time": "2022-03-20T04:07:52.287Z"
   },
   {
    "duration": 12,
    "start_time": "2022-03-20T04:08:07.738Z"
   },
   {
    "duration": 19,
    "start_time": "2022-03-20T04:08:19.358Z"
   },
   {
    "duration": 19,
    "start_time": "2022-03-20T04:10:02.328Z"
   },
   {
    "duration": 18,
    "start_time": "2022-03-20T04:10:50.057Z"
   },
   {
    "duration": 1444,
    "start_time": "2022-03-20T04:11:11.204Z"
   },
   {
    "duration": 758,
    "start_time": "2022-03-20T04:11:13.474Z"
   },
   {
    "duration": 3,
    "start_time": "2022-03-20T04:11:19.565Z"
   },
   {
    "duration": 32,
    "start_time": "2022-03-20T04:11:20.804Z"
   },
   {
    "duration": 6,
    "start_time": "2022-03-20T04:11:23.721Z"
   },
   {
    "duration": 18,
    "start_time": "2022-03-20T04:11:25.390Z"
   },
   {
    "duration": 7,
    "start_time": "2022-03-20T04:11:34.867Z"
   },
   {
    "duration": 18,
    "start_time": "2022-03-20T04:11:34.876Z"
   },
   {
    "duration": 15,
    "start_time": "2022-03-20T04:11:34.896Z"
   },
   {
    "duration": 34,
    "start_time": "2022-03-20T04:11:35.038Z"
   },
   {
    "duration": 3,
    "start_time": "2022-03-20T04:11:53.663Z"
   },
   {
    "duration": 3,
    "start_time": "2022-03-20T04:12:03.774Z"
   },
   {
    "duration": 3,
    "start_time": "2022-03-20T04:12:04.924Z"
   },
   {
    "duration": 109,
    "start_time": "2022-03-20T04:12:07.005Z"
   },
   {
    "duration": 33,
    "start_time": "2022-03-20T04:12:50.574Z"
   },
   {
    "duration": 17,
    "start_time": "2022-03-20T04:13:06.524Z"
   },
   {
    "duration": 6,
    "start_time": "2022-03-20T04:14:36.844Z"
   },
   {
    "duration": 40,
    "start_time": "2022-03-20T04:14:46.204Z"
   },
   {
    "duration": 17,
    "start_time": "2022-03-20T04:15:02.514Z"
   },
   {
    "duration": 4,
    "start_time": "2022-03-20T04:18:35.264Z"
   },
   {
    "duration": 13,
    "start_time": "2022-03-20T04:18:53.804Z"
   },
   {
    "duration": 33,
    "start_time": "2022-03-20T04:19:23.354Z"
   },
   {
    "duration": 9,
    "start_time": "2022-03-20T04:19:44.081Z"
   },
   {
    "duration": 4,
    "start_time": "2022-03-20T04:19:49.383Z"
   },
   {
    "duration": 15,
    "start_time": "2022-03-20T04:20:24.974Z"
   },
   {
    "duration": 1613,
    "start_time": "2022-03-20T04:20:36.105Z"
   },
   {
    "duration": 1377,
    "start_time": "2022-03-20T04:20:50.247Z"
   },
   {
    "duration": 762,
    "start_time": "2022-03-20T04:20:51.626Z"
   },
   {
    "duration": 16,
    "start_time": "2022-03-20T04:21:01.486Z"
   },
   {
    "duration": 6,
    "start_time": "2022-03-20T04:21:14.507Z"
   },
   {
    "duration": 9,
    "start_time": "2022-03-20T04:21:17.387Z"
   },
   {
    "duration": 22,
    "start_time": "2022-03-20T04:21:21.558Z"
   },
   {
    "duration": 12,
    "start_time": "2022-03-20T04:21:28.047Z"
   },
   {
    "duration": 26,
    "start_time": "2022-03-20T04:21:33.388Z"
   },
   {
    "duration": 20,
    "start_time": "2022-03-20T04:21:36.208Z"
   },
   {
    "duration": 1715,
    "start_time": "2022-03-20T04:23:33.257Z"
   },
   {
    "duration": 1427,
    "start_time": "2022-03-20T04:24:14.057Z"
   },
   {
    "duration": 740,
    "start_time": "2022-03-20T04:24:16.069Z"
   },
   {
    "duration": 6,
    "start_time": "2022-03-20T04:24:22.348Z"
   },
   {
    "duration": 10,
    "start_time": "2022-03-20T04:24:23.517Z"
   },
   {
    "duration": 22,
    "start_time": "2022-03-20T04:24:25.658Z"
   },
   {
    "duration": 12,
    "start_time": "2022-03-20T04:24:28.429Z"
   },
   {
    "duration": 29,
    "start_time": "2022-03-20T04:24:30.987Z"
   },
   {
    "duration": 4,
    "start_time": "2022-03-20T04:24:45.397Z"
   },
   {
    "duration": 102,
    "start_time": "2022-03-20T04:24:48.074Z"
   },
   {
    "duration": 3,
    "start_time": "2022-03-20T04:25:01.068Z"
   },
   {
    "duration": 1072,
    "start_time": "2022-03-20T04:25:01.865Z"
   },
   {
    "duration": 4,
    "start_time": "2022-03-20T04:25:05.077Z"
   },
   {
    "duration": 23,
    "start_time": "2022-03-20T04:25:08.679Z"
   },
   {
    "duration": 21,
    "start_time": "2022-03-20T04:25:44.458Z"
   },
   {
    "duration": 8,
    "start_time": "2022-03-20T04:26:56.822Z"
   },
   {
    "duration": 9,
    "start_time": "2022-03-20T04:27:07.616Z"
   },
   {
    "duration": 10,
    "start_time": "2022-03-20T04:27:12.816Z"
   },
   {
    "duration": 6,
    "start_time": "2022-03-20T04:27:25.387Z"
   },
   {
    "duration": 4,
    "start_time": "2022-03-20T04:28:14.698Z"
   },
   {
    "duration": 5,
    "start_time": "2022-03-20T04:28:25.228Z"
   },
   {
    "duration": 18,
    "start_time": "2022-03-20T04:28:30.141Z"
   },
   {
    "duration": 3,
    "start_time": "2022-03-20T04:28:45.267Z"
   },
   {
    "duration": 3,
    "start_time": "2022-03-20T04:28:46.348Z"
   },
   {
    "duration": 4,
    "start_time": "2022-03-20T04:28:54.987Z"
   },
   {
    "duration": 6,
    "start_time": "2022-03-20T04:28:57.018Z"
   },
   {
    "duration": 1874056,
    "start_time": "2022-03-20T04:28:59.787Z"
   },
   {
    "duration": 2552966,
    "start_time": "2022-03-20T05:02:07.778Z"
   },
   {
    "duration": 103,
    "start_time": "2022-03-20T05:44:40.837Z"
   },
   {
    "duration": 9,
    "start_time": "2022-03-20T05:44:40.943Z"
   },
   {
    "duration": 3,
    "start_time": "2022-03-20T05:49:36.744Z"
   },
   {
    "duration": 84,
    "start_time": "2022-03-20T05:49:39.064Z"
   },
   {
    "duration": 31,
    "start_time": "2022-03-20T05:49:49.944Z"
   },
   {
    "duration": 25,
    "start_time": "2022-03-20T05:51:13.016Z"
   },
   {
    "duration": 31,
    "start_time": "2022-03-20T05:51:36.674Z"
   },
   {
    "duration": 31,
    "start_time": "2022-03-20T05:52:17.564Z"
   },
   {
    "duration": 1980,
    "start_time": "2022-03-20T06:04:00.043Z"
   },
   {
    "duration": 1395,
    "start_time": "2022-03-20T06:04:20.500Z"
   },
   {
    "duration": 750,
    "start_time": "2022-03-20T06:04:21.896Z"
   },
   {
    "duration": 7,
    "start_time": "2022-03-20T06:04:42.229Z"
   },
   {
    "duration": 17,
    "start_time": "2022-03-20T06:04:42.238Z"
   },
   {
    "duration": 20,
    "start_time": "2022-03-20T06:04:44.690Z"
   },
   {
    "duration": 17158,
    "start_time": "2022-03-20T06:04:48.580Z"
   },
   {
    "duration": 106,
    "start_time": "2022-03-20T06:08:25.460Z"
   },
   {
    "duration": 4,
    "start_time": "2022-03-20T06:08:31.780Z"
   },
   {
    "duration": 9,
    "start_time": "2022-03-20T06:08:54.900Z"
   },
   {
    "duration": 12,
    "start_time": "2022-03-20T06:09:07.122Z"
   },
   {
    "duration": 13,
    "start_time": "2022-03-20T06:09:25.351Z"
   },
   {
    "duration": 5,
    "start_time": "2022-03-20T06:09:32.889Z"
   },
   {
    "duration": 4,
    "start_time": "2022-03-20T06:14:26.670Z"
   },
   {
    "duration": 6,
    "start_time": "2022-03-20T06:14:41.670Z"
   },
   {
    "duration": 111,
    "start_time": "2022-03-20T06:14:51.820Z"
   },
   {
    "duration": 5,
    "start_time": "2022-03-20T06:15:37.391Z"
   },
   {
    "duration": 12,
    "start_time": "2022-03-20T06:15:58.449Z"
   },
   {
    "duration": 11,
    "start_time": "2022-03-20T06:16:05.707Z"
   },
   {
    "duration": 5,
    "start_time": "2022-03-20T06:16:12.229Z"
   },
   {
    "duration": 10,
    "start_time": "2022-03-20T06:19:16.740Z"
   },
   {
    "duration": 10,
    "start_time": "2022-03-20T06:19:20.180Z"
   },
   {
    "duration": 6,
    "start_time": "2022-03-20T06:19:40.199Z"
   },
   {
    "duration": 11,
    "start_time": "2022-03-20T06:19:50.319Z"
   },
   {
    "duration": 10,
    "start_time": "2022-03-20T06:20:00.180Z"
   },
   {
    "duration": 4,
    "start_time": "2022-03-20T06:20:05.839Z"
   },
   {
    "duration": 9,
    "start_time": "2022-03-20T06:20:13.180Z"
   },
   {
    "duration": 8,
    "start_time": "2022-03-20T06:20:29.430Z"
   },
   {
    "duration": 129,
    "start_time": "2022-03-20T06:20:55.220Z"
   },
   {
    "duration": 150,
    "start_time": "2022-03-20T06:21:03.170Z"
   },
   {
    "duration": 119,
    "start_time": "2022-03-20T06:21:08.839Z"
   },
   {
    "duration": 181,
    "start_time": "2022-03-20T06:21:12.605Z"
   },
   {
    "duration": 7,
    "start_time": "2022-03-20T06:21:25.690Z"
   },
   {
    "duration": 9,
    "start_time": "2022-03-20T06:27:19.960Z"
   }
  ],
  "kernelspec": {
   "display_name": "Python 3 (ipykernel)",
   "language": "python",
   "name": "python3"
  },
  "language_info": {
   "codemirror_mode": {
    "name": "ipython",
    "version": 3
   },
   "file_extension": ".py",
   "mimetype": "text/x-python",
   "name": "python",
   "nbconvert_exporter": "python",
   "pygments_lexer": "ipython3",
   "version": "3.9.12"
  },
  "toc": {
   "base_numbering": 1,
   "nav_menu": {},
   "number_sections": true,
   "sideBar": true,
   "skip_h1_title": true,
   "title_cell": "Содержание",
   "title_sidebar": "Contents",
   "toc_cell": false,
   "toc_position": {},
   "toc_section_display": true,
   "toc_window_display": true
  }
 },
 "nbformat": 4,
 "nbformat_minor": 2
}
