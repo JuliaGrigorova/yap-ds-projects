{
 "cells": [
  {
   "cell_type": "markdown",
   "metadata": {},
   "source": [
    "# Определение стоимости автомобилей"
   ]
  },
  {
   "cell_type": "markdown",
   "metadata": {},
   "source": [
    "Разработка модели машинного обучения, способной определять рыночную стоимость автомобиля основываясь на данных о технических характеристиках, комлектации и цене, для сервиса по продаже автомобилей с пробегом \"Не бит, не крашен\". Модель должна соответствовать следующим требованиям заказчика:\n",
    "\n",
    " * Высокое качество предсказания;\n",
    " * Высокая скорость предсказания;\n",
    " * Небольшое время обучения модели.\n",
    " \n",
    "**Ход исследования:**\n",
    "\n",
    "* Загрузка данных и изучение общей информации;\n",
    "* Подговка данных к работе:\n",
    "    * Предобработка данных;\n",
    "    * Кодирование признаков;\n",
    "    * Масштабирование  признаков;\n",
    "* Обучение разных моделей:\n",
    "    * Линейная регрессия;\n",
    "    * Градиентный бустинг `XGBoost`;\n",
    "    * Градиентный бустинг `CatBoost`;\n",
    "    * Градиентный бустинг `LightGBM`;\n",
    "* Анализ скорости работы и качества моделей;\n",
    "* Итоги исследования."
   ]
  },
  {
   "cell_type": "markdown",
   "metadata": {},
   "source": [
    "## Загрузка данных и изучение общей информации"
   ]
  },
  {
   "cell_type": "code",
   "execution_count": 6,
   "metadata": {},
   "outputs": [
    {
     "name": "stdout",
     "output_type": "stream",
     "text": [
      "Requirement already satisfied: xgboost in c:\\users\\y_gri\\anaconda3\\lib\\site-packages (1.6.0)\n",
      "Requirement already satisfied: numpy in c:\\users\\y_gri\\anaconda3\\lib\\site-packages (from xgboost) (1.20.1)\n",
      "Requirement already satisfied: scipy in c:\\users\\y_gri\\anaconda3\\lib\\site-packages (from xgboost) (1.6.2)\n"
     ]
    }
   ],
   "source": [
    "!pip install xgboost"
   ]
  },
  {
   "cell_type": "code",
   "execution_count": 7,
   "metadata": {},
   "outputs": [
    {
     "name": "stdout",
     "output_type": "stream",
     "text": [
      "Requirement already satisfied: catboost in c:\\users\\y_gri\\anaconda3\\lib\\site-packages (1.0.5)\n",
      "Requirement already satisfied: matplotlib in c:\\users\\y_gri\\anaconda3\\lib\\site-packages (from catboost) (3.3.4)\n",
      "Requirement already satisfied: scipy in c:\\users\\y_gri\\anaconda3\\lib\\site-packages (from catboost) (1.6.2)\n",
      "Requirement already satisfied: numpy>=1.16.0 in c:\\users\\y_gri\\anaconda3\\lib\\site-packages (from catboost) (1.20.1)\n",
      "Requirement already satisfied: graphviz in c:\\users\\y_gri\\anaconda3\\lib\\site-packages (from catboost) (0.20)\n",
      "Requirement already satisfied: six in c:\\users\\y_gri\\anaconda3\\lib\\site-packages (from catboost) (1.15.0)\n",
      "Requirement already satisfied: plotly in c:\\users\\y_gri\\anaconda3\\lib\\site-packages (from catboost) (5.7.0)\n",
      "Requirement already satisfied: pandas>=0.24.0 in c:\\users\\y_gri\\anaconda3\\lib\\site-packages (from catboost) (1.2.4)\n",
      "Requirement already satisfied: pytz>=2017.3 in c:\\users\\y_gri\\anaconda3\\lib\\site-packages (from pandas>=0.24.0->catboost) (2021.1)\n",
      "Requirement already satisfied: python-dateutil>=2.7.3 in c:\\users\\y_gri\\anaconda3\\lib\\site-packages (from pandas>=0.24.0->catboost) (2.8.1)\n",
      "Requirement already satisfied: pyparsing!=2.0.4,!=2.1.2,!=2.1.6,>=2.0.3 in c:\\users\\y_gri\\anaconda3\\lib\\site-packages (from matplotlib->catboost) (2.4.7)\n",
      "Requirement already satisfied: kiwisolver>=1.0.1 in c:\\users\\y_gri\\anaconda3\\lib\\site-packages (from matplotlib->catboost) (1.3.1)\n",
      "Requirement already satisfied: cycler>=0.10 in c:\\users\\y_gri\\anaconda3\\lib\\site-packages (from matplotlib->catboost) (0.10.0)\n",
      "Requirement already satisfied: pillow>=6.2.0 in c:\\users\\y_gri\\anaconda3\\lib\\site-packages (from matplotlib->catboost) (8.2.0)\n",
      "Requirement already satisfied: tenacity>=6.2.0 in c:\\users\\y_gri\\anaconda3\\lib\\site-packages (from plotly->catboost) (8.0.1)\n"
     ]
    }
   ],
   "source": [
    "!pip install catboost"
   ]
  },
  {
   "cell_type": "code",
   "execution_count": 8,
   "metadata": {},
   "outputs": [],
   "source": [
    "# подключение библиотек\n",
    "\n",
    "import pandas as pd\n",
    "import numpy as np\n",
    "import matplotlib.pyplot as plt\n",
    "import seaborn as sns\n",
    "import time\n",
    "from sklearn.preprocessing import OrdinalEncoder \n",
    "from sklearn.preprocessing import StandardScaler\n",
    "from sklearn.model_selection import train_test_split, GridSearchCV\n",
    "from sklearn.metrics import mean_squared_error, make_scorer\n",
    "from sklearn.linear_model import LinearRegression\n",
    "from xgboost import XGBRegressor\n",
    "from catboost import CatBoostRegressor\n",
    "from lightgbm import LGBMRegressor\n",
    "from sklearn.dummy import DummyRegressor\n",
    "import warnings\n",
    "\n",
    "warnings.filterwarnings('ignore')\n",
    "\n",
    "pd.options.mode.chained_assignment = None"
   ]
  },
  {
   "cell_type": "markdown",
   "metadata": {},
   "source": [
    "Прочитаем данные из файла `/datasets/autos.csv`:"
   ]
  },
  {
   "cell_type": "code",
   "execution_count": 9,
   "metadata": {},
   "outputs": [
    {
     "data": {
      "text/html": [
       "<div>\n",
       "<style scoped>\n",
       "    .dataframe tbody tr th:only-of-type {\n",
       "        vertical-align: middle;\n",
       "    }\n",
       "\n",
       "    .dataframe tbody tr th {\n",
       "        vertical-align: top;\n",
       "    }\n",
       "\n",
       "    .dataframe thead th {\n",
       "        text-align: right;\n",
       "    }\n",
       "</style>\n",
       "<table border=\"1\" class=\"dataframe\">\n",
       "  <thead>\n",
       "    <tr style=\"text-align: right;\">\n",
       "      <th></th>\n",
       "      <th>DateCrawled</th>\n",
       "      <th>Price</th>\n",
       "      <th>VehicleType</th>\n",
       "      <th>RegistrationYear</th>\n",
       "      <th>Gearbox</th>\n",
       "      <th>Power</th>\n",
       "      <th>Model</th>\n",
       "      <th>Kilometer</th>\n",
       "      <th>RegistrationMonth</th>\n",
       "      <th>FuelType</th>\n",
       "      <th>Brand</th>\n",
       "      <th>NotRepaired</th>\n",
       "      <th>DateCreated</th>\n",
       "      <th>NumberOfPictures</th>\n",
       "      <th>PostalCode</th>\n",
       "      <th>LastSeen</th>\n",
       "    </tr>\n",
       "  </thead>\n",
       "  <tbody>\n",
       "    <tr>\n",
       "      <th>0</th>\n",
       "      <td>2016-03-24 11:52:17</td>\n",
       "      <td>480</td>\n",
       "      <td>NaN</td>\n",
       "      <td>1993</td>\n",
       "      <td>manual</td>\n",
       "      <td>0</td>\n",
       "      <td>golf</td>\n",
       "      <td>150000</td>\n",
       "      <td>0</td>\n",
       "      <td>petrol</td>\n",
       "      <td>volkswagen</td>\n",
       "      <td>NaN</td>\n",
       "      <td>2016-03-24 00:00:00</td>\n",
       "      <td>0</td>\n",
       "      <td>70435</td>\n",
       "      <td>2016-04-07 03:16:57</td>\n",
       "    </tr>\n",
       "    <tr>\n",
       "      <th>1</th>\n",
       "      <td>2016-03-24 10:58:45</td>\n",
       "      <td>18300</td>\n",
       "      <td>coupe</td>\n",
       "      <td>2011</td>\n",
       "      <td>manual</td>\n",
       "      <td>190</td>\n",
       "      <td>NaN</td>\n",
       "      <td>125000</td>\n",
       "      <td>5</td>\n",
       "      <td>gasoline</td>\n",
       "      <td>audi</td>\n",
       "      <td>yes</td>\n",
       "      <td>2016-03-24 00:00:00</td>\n",
       "      <td>0</td>\n",
       "      <td>66954</td>\n",
       "      <td>2016-04-07 01:46:50</td>\n",
       "    </tr>\n",
       "    <tr>\n",
       "      <th>2</th>\n",
       "      <td>2016-03-14 12:52:21</td>\n",
       "      <td>9800</td>\n",
       "      <td>suv</td>\n",
       "      <td>2004</td>\n",
       "      <td>auto</td>\n",
       "      <td>163</td>\n",
       "      <td>grand</td>\n",
       "      <td>125000</td>\n",
       "      <td>8</td>\n",
       "      <td>gasoline</td>\n",
       "      <td>jeep</td>\n",
       "      <td>NaN</td>\n",
       "      <td>2016-03-14 00:00:00</td>\n",
       "      <td>0</td>\n",
       "      <td>90480</td>\n",
       "      <td>2016-04-05 12:47:46</td>\n",
       "    </tr>\n",
       "    <tr>\n",
       "      <th>3</th>\n",
       "      <td>2016-03-17 16:54:04</td>\n",
       "      <td>1500</td>\n",
       "      <td>small</td>\n",
       "      <td>2001</td>\n",
       "      <td>manual</td>\n",
       "      <td>75</td>\n",
       "      <td>golf</td>\n",
       "      <td>150000</td>\n",
       "      <td>6</td>\n",
       "      <td>petrol</td>\n",
       "      <td>volkswagen</td>\n",
       "      <td>no</td>\n",
       "      <td>2016-03-17 00:00:00</td>\n",
       "      <td>0</td>\n",
       "      <td>91074</td>\n",
       "      <td>2016-03-17 17:40:17</td>\n",
       "    </tr>\n",
       "    <tr>\n",
       "      <th>4</th>\n",
       "      <td>2016-03-31 17:25:20</td>\n",
       "      <td>3600</td>\n",
       "      <td>small</td>\n",
       "      <td>2008</td>\n",
       "      <td>manual</td>\n",
       "      <td>69</td>\n",
       "      <td>fabia</td>\n",
       "      <td>90000</td>\n",
       "      <td>7</td>\n",
       "      <td>gasoline</td>\n",
       "      <td>skoda</td>\n",
       "      <td>no</td>\n",
       "      <td>2016-03-31 00:00:00</td>\n",
       "      <td>0</td>\n",
       "      <td>60437</td>\n",
       "      <td>2016-04-06 10:17:21</td>\n",
       "    </tr>\n",
       "  </tbody>\n",
       "</table>\n",
       "</div>"
      ],
      "text/plain": [
       "           DateCrawled  Price VehicleType  RegistrationYear Gearbox  Power  \\\n",
       "0  2016-03-24 11:52:17    480         NaN              1993  manual      0   \n",
       "1  2016-03-24 10:58:45  18300       coupe              2011  manual    190   \n",
       "2  2016-03-14 12:52:21   9800         suv              2004    auto    163   \n",
       "3  2016-03-17 16:54:04   1500       small              2001  manual     75   \n",
       "4  2016-03-31 17:25:20   3600       small              2008  manual     69   \n",
       "\n",
       "   Model  Kilometer  RegistrationMonth  FuelType       Brand NotRepaired  \\\n",
       "0   golf     150000                  0    petrol  volkswagen         NaN   \n",
       "1    NaN     125000                  5  gasoline        audi         yes   \n",
       "2  grand     125000                  8  gasoline        jeep         NaN   \n",
       "3   golf     150000                  6    petrol  volkswagen          no   \n",
       "4  fabia      90000                  7  gasoline       skoda          no   \n",
       "\n",
       "           DateCreated  NumberOfPictures  PostalCode             LastSeen  \n",
       "0  2016-03-24 00:00:00                 0       70435  2016-04-07 03:16:57  \n",
       "1  2016-03-24 00:00:00                 0       66954  2016-04-07 01:46:50  \n",
       "2  2016-03-14 00:00:00                 0       90480  2016-04-05 12:47:46  \n",
       "3  2016-03-17 00:00:00                 0       91074  2016-03-17 17:40:17  \n",
       "4  2016-03-31 00:00:00                 0       60437  2016-04-06 10:17:21  "
      ]
     },
     "execution_count": 9,
     "metadata": {},
     "output_type": "execute_result"
    }
   ],
   "source": [
    "df = pd.read_csv('/datasets/autos.csv')\n",
    "df.head()"
   ]
  },
  {
   "cell_type": "code",
   "execution_count": 10,
   "metadata": {},
   "outputs": [
    {
     "name": "stdout",
     "output_type": "stream",
     "text": [
      "<class 'pandas.core.frame.DataFrame'>\n",
      "RangeIndex: 354369 entries, 0 to 354368\n",
      "Data columns (total 16 columns):\n",
      " #   Column             Non-Null Count   Dtype \n",
      "---  ------             --------------   ----- \n",
      " 0   DateCrawled        354369 non-null  object\n",
      " 1   Price              354369 non-null  int64 \n",
      " 2   VehicleType        316879 non-null  object\n",
      " 3   RegistrationYear   354369 non-null  int64 \n",
      " 4   Gearbox            334536 non-null  object\n",
      " 5   Power              354369 non-null  int64 \n",
      " 6   Model              334664 non-null  object\n",
      " 7   Kilometer          354369 non-null  int64 \n",
      " 8   RegistrationMonth  354369 non-null  int64 \n",
      " 9   FuelType           321474 non-null  object\n",
      " 10  Brand              354369 non-null  object\n",
      " 11  NotRepaired        283215 non-null  object\n",
      " 12  DateCreated        354369 non-null  object\n",
      " 13  NumberOfPictures   354369 non-null  int64 \n",
      " 14  PostalCode         354369 non-null  int64 \n",
      " 15  LastSeen           354369 non-null  object\n",
      "dtypes: int64(7), object(9)\n",
      "memory usage: 43.3+ MB\n"
     ]
    }
   ],
   "source": [
    "df.info()"
   ]
  },
  {
   "cell_type": "markdown",
   "metadata": {},
   "source": [
    "Согласно документации к данным:\n",
    "\n",
    "**Признаки:**\n",
    "* `DateCrawled` — дата скачивания анкеты из базы\n",
    "\n",
    "* `VehicleType` — тип автомобильного кузова\n",
    "\n",
    "* `RegistrationYear` — год регистрации автомобиля\n",
    "\n",
    "* `Gearbox` — тип коробки передач\n",
    "\n",
    "* `Power` — мощность (л. с.)\n",
    "\n",
    "* `Model` — модель автомобиля\n",
    "\n",
    "* `Kilometer` — пробег (км)\n",
    "\n",
    "* `RegistrationMonth` — месяц регистрации автомобиля\n",
    "\n",
    "* `FuelType` — тип топлива\n",
    "\n",
    "* `Brand` — марка автомобиля\n",
    "\n",
    "* `NotRepaired` — была машина в ремонте или нет\n",
    "\n",
    "* `DateCreated` — дата создания анкеты\n",
    "\n",
    "* `NumberOfPictures` — количество фотографий автомобиля\n",
    "\n",
    "* `PostalCode` — почтовый индекс владельца анкеты (пользователя)\n",
    "\n",
    "* `LastSeen` — дата последней активности пользователя\n",
    "\n",
    "**Целевой признак:**\n",
    " * `Price` — цена (евро)"
   ]
  },
  {
   "cell_type": "markdown",
   "metadata": {},
   "source": [
    "**Вывод:**\n",
    "\n",
    "Каждая строка датафрейма содержит информацию об одном конкретном автомобиле. Есть как числовые признаки, так и признаки типа object. Есть пропуски в столбцах `VehicleType`, `Gearbox`, `Model`, `FuelType`, `NotRepaired`, причем все эти признаки - категориальные. Соберем все наблюдения о признаках воедино и предварительно решим, как правильно подготовить их к работе:\n",
    "\n",
    "| Столбец               | Значение          | Наблюдения          | Предполагаемые действия     |\n",
    "| --------------------- |:------------------:|:-------------------:|:----------------------------:|\n",
    "| **DateCrawled**       | Дата скачивания анкеты из базы | Признак не важен для нашей задачи (+ повторяет даты из 'DateCreated') | Исключить из признаков для обучения |\n",
    "| **VehicleType**       | Тип автомобильного кузова | Есть пропуски | Заполнение категорией \"unknown\" | \n",
    "| **RegistrationYear**  | Год регистрации автомобиля | Есть аномальные значения (например, 8200) | Проверить долю аномальных значений и отталкиваться от этого |\n",
    "| **Gearbox**       | Тип коробки передач | Есть пропуски | Заполнение категорией \"unknown\" | \n",
    "| **Power**       | Мощность (л. с.) | много нулевых значений | Замена медианной мощностью | \n",
    "| **Model**       | Модель автомобиля | Есть пропуски | Заполнение категорией \"unknown\" |\n",
    "| **Kilometer**       | Пробег (км) | - | - |\n",
    "| **RegistrationMonth**       | Месяц регистрации автомобиля | Много нулевых значений | - |\n",
    "| **FuelType**       | Тип топлива | Есть пропуски | Заполнение категорией \"unknown\" |\n",
    "| **Brand**       | Марка автомобиля | - | - |\n",
    "| **NotRepaired**       | Была машина в ремонте или нет | Есть пропуски | Заполнение категорией \"unknown\" |\n",
    "| **DateCreated**       | Дата создания анкеты | - | Можно оставить только месяц |\n",
    "| **NumberOfPictures**       | Количество фотографий автомобиля | Содержит только нулевые значения | Исключить из признаков для обучения |\n",
    "| **PostalCode**       | почтовый индекс владельца анкеты (пользователя) | Признак не важен для нашей задачи | Исключить из признаков для обучения |\n",
    "| **LastSeen**       | Дата последней активности пользователя | Признак не важен для нашей задачи | Исключить из признаков для обучения |\n",
    "| **Price**       | Цена (евро) | - | - |"
   ]
  },
  {
   "cell_type": "markdown",
   "metadata": {},
   "source": [
    "## Подготовка данных"
   ]
  },
  {
   "cell_type": "markdown",
   "metadata": {},
   "source": [
    "### Предобработка данных"
   ]
  },
  {
   "cell_type": "markdown",
   "metadata": {},
   "source": [
    "Исключим из датафрейма столбцы, с которыми не будем продолжать работать, так как они избыточны и не играют роли для задачи определения стоимости автомобилей: `DateCrawled`, `PostalCode`, `LastSeen`, `NumberOfPictures`."
   ]
  },
  {
   "cell_type": "code",
   "execution_count": 11,
   "metadata": {},
   "outputs": [],
   "source": [
    "df = df.drop(['DateCrawled', 'PostalCode', 'LastSeen', 'NumberOfPictures'], axis=1)"
   ]
  },
  {
   "cell_type": "markdown",
   "metadata": {},
   "source": [
    "Переименуем названия столбцов датафрейма для более удобной работы с ними:"
   ]
  },
  {
   "cell_type": "code",
   "execution_count": 12,
   "metadata": {},
   "outputs": [],
   "source": [
    "# приведение столбцов к стилю lower_case\n",
    "\n",
    "df.columns = df.columns.str.lower()\n",
    "df = df.rename(columns = {'vehicletype': 'vehicle_type', 'registrationyear': 'registration_year', \n",
    "                          'registrationmonth': 'registration_month', 'fueltype': 'fuel_type', \n",
    "                          'notrepaired': 'not_repaired', 'datecreated': 'date_created'})"
   ]
  },
  {
   "cell_type": "markdown",
   "metadata": {},
   "source": [
    "Проверим, сколько пропусков содержит каждый из признаков:"
   ]
  },
  {
   "cell_type": "code",
   "execution_count": 13,
   "metadata": {},
   "outputs": [
    {
     "data": {
      "text/html": [
       "<div>\n",
       "<style scoped>\n",
       "    .dataframe tbody tr th:only-of-type {\n",
       "        vertical-align: middle;\n",
       "    }\n",
       "\n",
       "    .dataframe tbody tr th {\n",
       "        vertical-align: top;\n",
       "    }\n",
       "\n",
       "    .dataframe thead th {\n",
       "        text-align: right;\n",
       "    }\n",
       "</style>\n",
       "<table border=\"1\" class=\"dataframe\">\n",
       "  <thead>\n",
       "    <tr style=\"text-align: right;\">\n",
       "      <th></th>\n",
       "      <th>Количество пропусков</th>\n",
       "      <th>Доля пропусков (%)</th>\n",
       "    </tr>\n",
       "  </thead>\n",
       "  <tbody>\n",
       "    <tr>\n",
       "      <th>price</th>\n",
       "      <td>0</td>\n",
       "      <td>0.0</td>\n",
       "    </tr>\n",
       "    <tr>\n",
       "      <th>vehicle_type</th>\n",
       "      <td>37490</td>\n",
       "      <td>11.0</td>\n",
       "    </tr>\n",
       "    <tr>\n",
       "      <th>registration_year</th>\n",
       "      <td>0</td>\n",
       "      <td>0.0</td>\n",
       "    </tr>\n",
       "    <tr>\n",
       "      <th>gearbox</th>\n",
       "      <td>19833</td>\n",
       "      <td>6.0</td>\n",
       "    </tr>\n",
       "    <tr>\n",
       "      <th>power</th>\n",
       "      <td>0</td>\n",
       "      <td>0.0</td>\n",
       "    </tr>\n",
       "    <tr>\n",
       "      <th>model</th>\n",
       "      <td>19705</td>\n",
       "      <td>6.0</td>\n",
       "    </tr>\n",
       "    <tr>\n",
       "      <th>kilometer</th>\n",
       "      <td>0</td>\n",
       "      <td>0.0</td>\n",
       "    </tr>\n",
       "    <tr>\n",
       "      <th>registration_month</th>\n",
       "      <td>0</td>\n",
       "      <td>0.0</td>\n",
       "    </tr>\n",
       "    <tr>\n",
       "      <th>fuel_type</th>\n",
       "      <td>32895</td>\n",
       "      <td>9.0</td>\n",
       "    </tr>\n",
       "    <tr>\n",
       "      <th>brand</th>\n",
       "      <td>0</td>\n",
       "      <td>0.0</td>\n",
       "    </tr>\n",
       "    <tr>\n",
       "      <th>not_repaired</th>\n",
       "      <td>71154</td>\n",
       "      <td>20.0</td>\n",
       "    </tr>\n",
       "    <tr>\n",
       "      <th>date_created</th>\n",
       "      <td>0</td>\n",
       "      <td>0.0</td>\n",
       "    </tr>\n",
       "  </tbody>\n",
       "</table>\n",
       "</div>"
      ],
      "text/plain": [
       "                    Количество пропусков  Доля пропусков (%)\n",
       "price                                  0                 0.0\n",
       "vehicle_type                       37490                11.0\n",
       "registration_year                      0                 0.0\n",
       "gearbox                            19833                 6.0\n",
       "power                                  0                 0.0\n",
       "model                              19705                 6.0\n",
       "kilometer                              0                 0.0\n",
       "registration_month                     0                 0.0\n",
       "fuel_type                          32895                 9.0\n",
       "brand                                  0                 0.0\n",
       "not_repaired                       71154                20.0\n",
       "date_created                           0                 0.0"
      ]
     },
     "execution_count": 13,
     "metadata": {},
     "output_type": "execute_result"
    }
   ],
   "source": [
    "pd.DataFrame({'Количество пропусков': df.isna().sum(), \n",
    "              'Доля пропусков (%)': round(df.isna().sum() / df.shape[0] * 100, 0)})"
   ]
  },
  {
   "cell_type": "markdown",
   "metadata": {},
   "source": [
    "Доля пропусков каждого из признаков довольно велика: от 6% до 20%. Удалять все объекты с пропусками - не лучший вариант, так как таким образом мы потеряем большое количество данных. Можно заметить, что признаки `vehicle_type`, `gearbox`, `model` и `fuel_type` являются категориальными, поэтому пропуски в них можно заменить новой категорией `unknown` и научить модели работать и с такими данными тоже. \n",
    "\n",
    "Признак `not_repaired` является бинарным, однако доля пропусков у него самая большая (20%), поэтому удалять их нельзя. Рассмотрим и этот признак как категориальный и избавимся от пропусков по той же стратегии. "
   ]
  },
  {
   "cell_type": "code",
   "execution_count": 14,
   "metadata": {
    "scrolled": true
   },
   "outputs": [
    {
     "name": "stdout",
     "output_type": "stream",
     "text": [
      "<class 'pandas.core.frame.DataFrame'>\n",
      "RangeIndex: 354369 entries, 0 to 354368\n",
      "Data columns (total 12 columns):\n",
      " #   Column              Non-Null Count   Dtype \n",
      "---  ------              --------------   ----- \n",
      " 0   price               354369 non-null  int64 \n",
      " 1   vehicle_type        354369 non-null  object\n",
      " 2   registration_year   354369 non-null  int64 \n",
      " 3   gearbox             354369 non-null  object\n",
      " 4   power               354369 non-null  int64 \n",
      " 5   model               354369 non-null  object\n",
      " 6   kilometer           354369 non-null  int64 \n",
      " 7   registration_month  354369 non-null  int64 \n",
      " 8   fuel_type           354369 non-null  object\n",
      " 9   brand               354369 non-null  object\n",
      " 10  not_repaired        354369 non-null  object\n",
      " 11  date_created        354369 non-null  object\n",
      "dtypes: int64(5), object(7)\n",
      "memory usage: 32.4+ MB\n"
     ]
    }
   ],
   "source": [
    "# замена пропусков на unknown\n",
    "\n",
    "df[['vehicle_type', 'gearbox', 'model', 'fuel_type', 'not_repaired']] = df[\n",
    "    ['vehicle_type', 'gearbox', 'model', 'fuel_type', 'not_repaired']].fillna('unknown')\n",
    "df.info()"
   ]
  },
  {
   "cell_type": "markdown",
   "metadata": {},
   "source": [
    "Осталось рассмотреть следующие признаки: `registration_year`, `power`, `registration_month` и  `date_created`. Проверим их на аномальные значения и решим, как с ними поступить.  \n",
    "\n",
    "Начнем с признака года регистрации автомобилей `registration_year`:"
   ]
  },
  {
   "cell_type": "code",
   "execution_count": 15,
   "metadata": {},
   "outputs": [
    {
     "data": {
      "text/plain": [
       "count    354369.000000\n",
       "mean       2004.234448\n",
       "std          90.227958\n",
       "min        1000.000000\n",
       "25%        1999.000000\n",
       "50%        2003.000000\n",
       "75%        2008.000000\n",
       "max        9999.000000\n",
       "Name: registration_year, dtype: float64"
      ]
     },
     "execution_count": 15,
     "metadata": {},
     "output_type": "execute_result"
    }
   ],
   "source": [
    "df['registration_year'].describe()"
   ]
  },
  {
   "cell_type": "code",
   "execution_count": 16,
   "metadata": {},
   "outputs": [
    {
     "data": {
      "text/plain": [
       "171"
      ]
     },
     "execution_count": 16,
     "metadata": {},
     "output_type": "execute_result"
    }
   ],
   "source": [
    "df[(df['registration_year'] < 1900) | (df['registration_year'] > 2019)]['registration_year'].count()"
   ]
  },
  {
   "cell_type": "markdown",
   "metadata": {},
   "source": [
    "Есть как аномально маленькие, так и аномально большие значения, однако их всего 171, что составляет менее 0.001% от всех данных, поэтому такие объекты можно удалить из датафрейма.  "
   ]
  },
  {
   "cell_type": "code",
   "execution_count": 17,
   "metadata": {},
   "outputs": [],
   "source": [
    "df = df[(df['registration_year'] > 1900) & (df['registration_year'] < 2019)]"
   ]
  },
  {
   "cell_type": "markdown",
   "metadata": {},
   "source": [
    "Теперь рассмотрим признак `power`. Здесь очень много нулевых значений, причиной которым может быть то, что пользователь не указал мощность автомобиля в анкете. В таком случае эти значения можно считать пропусками и заменить их медианным значением. "
   ]
  },
  {
   "cell_type": "code",
   "execution_count": 18,
   "metadata": {},
   "outputs": [],
   "source": [
    "# заполнение пропусков медианными значениями в зависимости от модели, \n",
    "# марки автомобиля и типа топлива\n",
    "\n",
    "df['power'] = df['power'].replace(0, np.nan)\n",
    "median = df.groupby(['model', 'fuel_type', 'brand'])['power'].transform('median')\n",
    "df['power'] = df['power'].fillna(median)"
   ]
  },
  {
   "cell_type": "markdown",
   "metadata": {},
   "source": [
    "Оставшиеся пропуски можно удалить из таблицы, так как их количество составляет менее 0.001% от изначального числа данных. "
   ]
  },
  {
   "cell_type": "code",
   "execution_count": 19,
   "metadata": {},
   "outputs": [
    {
     "data": {
      "text/plain": [
       "98"
      ]
     },
     "metadata": {},
     "output_type": "display_data"
    }
   ],
   "source": [
    "# проверка наличия пропусков в столбце с мощностью после заполнения\n",
    "\n",
    "display(df[df['power'].isna()]['price'].count())\n",
    "df.dropna(inplace=True)"
   ]
  },
  {
   "cell_type": "markdown",
   "metadata": {},
   "source": [
    "Теперь проверим признак `power` на наличие аномалий."
   ]
  },
  {
   "cell_type": "code",
   "execution_count": 20,
   "metadata": {},
   "outputs": [
    {
     "data": {
      "text/plain": [
       "(-10.0, 1000.0)"
      ]
     },
     "execution_count": 20,
     "metadata": {},
     "output_type": "execute_result"
    },
    {
     "data": {
      "image/png": "[encoded data removed]",
      "text/plain": [
       "<Figure size 720x432 with 1 Axes>"
      ]
     },
     "metadata": {},
     "output_type": "display_data"
    }
   ],
   "source": [
    "sns.set_style('darkgrid')\n",
    "plt.figure(figsize=(10, 6))\n",
    "sns.boxplot(y=df['power'])\n",
    "plt.ylim(-10, 1000)"
   ]
  },
  {
   "cell_type": "code",
   "execution_count": 21,
   "metadata": {},
   "outputs": [
    {
     "data": {
      "text/plain": [
       "count    354075.000000\n",
       "mean        122.062614\n",
       "std         186.031534\n",
       "min           1.000000\n",
       "5%           54.000000\n",
       "10%          60.000000\n",
       "15%          67.000000\n",
       "25%          75.000000\n",
       "50%         109.000000\n",
       "75%         144.000000\n",
       "95%         218.000000\n",
       "98%         260.000000\n",
       "max       20000.000000\n",
       "Name: power, dtype: float64"
      ]
     },
     "execution_count": 21,
     "metadata": {},
     "output_type": "execute_result"
    }
   ],
   "source": [
    "df['power'].describe(percentiles=[.05, .1, .15, .25, .5, .75, .95, .98])"
   ]
  },
  {
   "cell_type": "code",
   "execution_count": 22,
   "metadata": {},
   "outputs": [
    {
     "data": {
      "text/plain": [
       "5.4"
      ]
     },
     "execution_count": 22,
     "metadata": {},
     "output_type": "execute_result"
    }
   ],
   "source": [
    "round(df[(df['power'] < 54) | (df['power'] > 260)]['power'].count() / df.shape[0] * 100, 1)"
   ]
  },
  {
   "cell_type": "markdown",
   "metadata": {},
   "source": [
    "Мощность ниже 5% и выше 98% квантилей является аномальной, а доля таких значений составляет около 5.4% от общего числа данных. Удалим эти аномальные значения из данных."
   ]
  },
  {
   "cell_type": "code",
   "execution_count": 23,
   "metadata": {},
   "outputs": [],
   "source": [
    "# удаление аномальных значений мощности двигателя\n",
    "\n",
    "df = df[(df['power'] > 54) & (df['power'] < 260)]"
   ]
  },
  {
   "cell_type": "markdown",
   "metadata": {},
   "source": [
    "Особенность признака `registration_month` в том, что в нем много нулевых значений, однако совершать над ними какие-либо преобразования пока что не будем и попробуем обучить модели, не трогая нули в этом столбце. \n",
    "\n",
    "Рассмотрим признак `date_created` - дату создания анкеты. Его можно привести к типу `datetime` и оставить только месяца, так как особо значимого разброса в годах там нет (только 2016 и 2015), а информация о месяце все же может иметь какое-то занчение для обучения модели. "
   ]
  },
  {
   "cell_type": "code",
   "execution_count": 24,
   "metadata": {},
   "outputs": [],
   "source": [
    "# Выделение признака месяца создания анкеты из даты\n",
    "\n",
    "df['date_created'] = pd.to_datetime(df['date_created'], format='%Y-%m-%d %H:%M:%S')\n",
    "df['date_created'] = pd.DatetimeIndex(df['date_created']).month\n",
    "df = df.rename(columns = {'date_created': 'month_created'})"
   ]
  },
  {
   "cell_type": "markdown",
   "metadata": {},
   "source": [
    "Признак `price` пока что никак трогать не будем, так как он является целевым. "
   ]
  },
  {
   "cell_type": "markdown",
   "metadata": {},
   "source": [
    "Проверим изменения:"
   ]
  },
  {
   "cell_type": "code",
   "execution_count": 20,
   "metadata": {
    "scrolled": false
   },
   "outputs": [
    {
     "name": "stdout",
     "output_type": "stream",
     "text": [
      "<class 'pandas.core.frame.DataFrame'>\n",
      "Int64Index: 318539 entries, 0 to 354368\n",
      "Data columns (total 12 columns):\n",
      " #   Column              Non-Null Count   Dtype  \n",
      "---  ------              --------------   -----  \n",
      " 0   price               318539 non-null  int64  \n",
      " 1   vehicle_type        318539 non-null  object \n",
      " 2   registration_year   318539 non-null  int64  \n",
      " 3   gearbox             318539 non-null  object \n",
      " 4   power               318539 non-null  float64\n",
      " 5   model               318539 non-null  object \n",
      " 6   kilometer           318539 non-null  int64  \n",
      " 7   registration_month  318539 non-null  int64  \n",
      " 8   fuel_type           318539 non-null  object \n",
      " 9   brand               318539 non-null  object \n",
      " 10  not_repaired        318539 non-null  object \n",
      " 11  month_created       318539 non-null  int64  \n",
      "dtypes: float64(1), int64(5), object(6)\n",
      "memory usage: 31.6+ MB\n"
     ]
    },
    {
     "data": {
      "text/html": [
       "<div>\n",
       "<style scoped>\n",
       "    .dataframe tbody tr th:only-of-type {\n",
       "        vertical-align: middle;\n",
       "    }\n",
       "\n",
       "    .dataframe tbody tr th {\n",
       "        vertical-align: top;\n",
       "    }\n",
       "\n",
       "    .dataframe thead th {\n",
       "        text-align: right;\n",
       "    }\n",
       "</style>\n",
       "<table border=\"1\" class=\"dataframe\">\n",
       "  <thead>\n",
       "    <tr style=\"text-align: right;\">\n",
       "      <th></th>\n",
       "      <th>price</th>\n",
       "      <th>vehicle_type</th>\n",
       "      <th>registration_year</th>\n",
       "      <th>gearbox</th>\n",
       "      <th>power</th>\n",
       "      <th>model</th>\n",
       "      <th>kilometer</th>\n",
       "      <th>registration_month</th>\n",
       "      <th>fuel_type</th>\n",
       "      <th>brand</th>\n",
       "      <th>not_repaired</th>\n",
       "      <th>month_created</th>\n",
       "    </tr>\n",
       "  </thead>\n",
       "  <tbody>\n",
       "    <tr>\n",
       "      <th>0</th>\n",
       "      <td>480</td>\n",
       "      <td>unknown</td>\n",
       "      <td>1993</td>\n",
       "      <td>manual</td>\n",
       "      <td>90.0</td>\n",
       "      <td>golf</td>\n",
       "      <td>150000</td>\n",
       "      <td>0</td>\n",
       "      <td>petrol</td>\n",
       "      <td>volkswagen</td>\n",
       "      <td>unknown</td>\n",
       "      <td>3</td>\n",
       "    </tr>\n",
       "    <tr>\n",
       "      <th>1</th>\n",
       "      <td>18300</td>\n",
       "      <td>coupe</td>\n",
       "      <td>2011</td>\n",
       "      <td>manual</td>\n",
       "      <td>190.0</td>\n",
       "      <td>unknown</td>\n",
       "      <td>125000</td>\n",
       "      <td>5</td>\n",
       "      <td>gasoline</td>\n",
       "      <td>audi</td>\n",
       "      <td>yes</td>\n",
       "      <td>3</td>\n",
       "    </tr>\n",
       "    <tr>\n",
       "      <th>2</th>\n",
       "      <td>9800</td>\n",
       "      <td>suv</td>\n",
       "      <td>2004</td>\n",
       "      <td>auto</td>\n",
       "      <td>163.0</td>\n",
       "      <td>grand</td>\n",
       "      <td>125000</td>\n",
       "      <td>8</td>\n",
       "      <td>gasoline</td>\n",
       "      <td>jeep</td>\n",
       "      <td>unknown</td>\n",
       "      <td>3</td>\n",
       "    </tr>\n",
       "    <tr>\n",
       "      <th>3</th>\n",
       "      <td>1500</td>\n",
       "      <td>small</td>\n",
       "      <td>2001</td>\n",
       "      <td>manual</td>\n",
       "      <td>75.0</td>\n",
       "      <td>golf</td>\n",
       "      <td>150000</td>\n",
       "      <td>6</td>\n",
       "      <td>petrol</td>\n",
       "      <td>volkswagen</td>\n",
       "      <td>no</td>\n",
       "      <td>3</td>\n",
       "    </tr>\n",
       "    <tr>\n",
       "      <th>4</th>\n",
       "      <td>3600</td>\n",
       "      <td>small</td>\n",
       "      <td>2008</td>\n",
       "      <td>manual</td>\n",
       "      <td>69.0</td>\n",
       "      <td>fabia</td>\n",
       "      <td>90000</td>\n",
       "      <td>7</td>\n",
       "      <td>gasoline</td>\n",
       "      <td>skoda</td>\n",
       "      <td>no</td>\n",
       "      <td>3</td>\n",
       "    </tr>\n",
       "    <tr>\n",
       "      <th>5</th>\n",
       "      <td>650</td>\n",
       "      <td>sedan</td>\n",
       "      <td>1995</td>\n",
       "      <td>manual</td>\n",
       "      <td>102.0</td>\n",
       "      <td>3er</td>\n",
       "      <td>150000</td>\n",
       "      <td>10</td>\n",
       "      <td>petrol</td>\n",
       "      <td>bmw</td>\n",
       "      <td>yes</td>\n",
       "      <td>4</td>\n",
       "    </tr>\n",
       "    <tr>\n",
       "      <th>6</th>\n",
       "      <td>2200</td>\n",
       "      <td>convertible</td>\n",
       "      <td>2004</td>\n",
       "      <td>manual</td>\n",
       "      <td>109.0</td>\n",
       "      <td>2_reihe</td>\n",
       "      <td>150000</td>\n",
       "      <td>8</td>\n",
       "      <td>petrol</td>\n",
       "      <td>peugeot</td>\n",
       "      <td>no</td>\n",
       "      <td>4</td>\n",
       "    </tr>\n",
       "    <tr>\n",
       "      <th>8</th>\n",
       "      <td>14500</td>\n",
       "      <td>bus</td>\n",
       "      <td>2014</td>\n",
       "      <td>manual</td>\n",
       "      <td>125.0</td>\n",
       "      <td>c_max</td>\n",
       "      <td>30000</td>\n",
       "      <td>8</td>\n",
       "      <td>petrol</td>\n",
       "      <td>ford</td>\n",
       "      <td>unknown</td>\n",
       "      <td>4</td>\n",
       "    </tr>\n",
       "    <tr>\n",
       "      <th>9</th>\n",
       "      <td>999</td>\n",
       "      <td>small</td>\n",
       "      <td>1998</td>\n",
       "      <td>manual</td>\n",
       "      <td>101.0</td>\n",
       "      <td>golf</td>\n",
       "      <td>150000</td>\n",
       "      <td>0</td>\n",
       "      <td>unknown</td>\n",
       "      <td>volkswagen</td>\n",
       "      <td>unknown</td>\n",
       "      <td>3</td>\n",
       "    </tr>\n",
       "    <tr>\n",
       "      <th>10</th>\n",
       "      <td>2000</td>\n",
       "      <td>sedan</td>\n",
       "      <td>2004</td>\n",
       "      <td>manual</td>\n",
       "      <td>105.0</td>\n",
       "      <td>3_reihe</td>\n",
       "      <td>150000</td>\n",
       "      <td>12</td>\n",
       "      <td>petrol</td>\n",
       "      <td>mazda</td>\n",
       "      <td>no</td>\n",
       "      <td>3</td>\n",
       "    </tr>\n",
       "  </tbody>\n",
       "</table>\n",
       "</div>"
      ],
      "text/plain": [
       "    price vehicle_type  registration_year gearbox  power    model  kilometer  \\\n",
       "0     480      unknown               1993  manual   90.0     golf     150000   \n",
       "1   18300        coupe               2011  manual  190.0  unknown     125000   \n",
       "2    9800          suv               2004    auto  163.0    grand     125000   \n",
       "3    1500        small               2001  manual   75.0     golf     150000   \n",
       "4    3600        small               2008  manual   69.0    fabia      90000   \n",
       "5     650        sedan               1995  manual  102.0      3er     150000   \n",
       "6    2200  convertible               2004  manual  109.0  2_reihe     150000   \n",
       "8   14500          bus               2014  manual  125.0    c_max      30000   \n",
       "9     999        small               1998  manual  101.0     golf     150000   \n",
       "10   2000        sedan               2004  manual  105.0  3_reihe     150000   \n",
       "\n",
       "    registration_month fuel_type       brand not_repaired  month_created  \n",
       "0                    0    petrol  volkswagen      unknown              3  \n",
       "1                    5  gasoline        audi          yes              3  \n",
       "2                    8  gasoline        jeep      unknown              3  \n",
       "3                    6    petrol  volkswagen           no              3  \n",
       "4                    7  gasoline       skoda           no              3  \n",
       "5                   10    petrol         bmw          yes              4  \n",
       "6                    8    petrol     peugeot           no              4  \n",
       "8                    8    petrol        ford      unknown              4  \n",
       "9                    0   unknown  volkswagen      unknown              3  \n",
       "10                  12    petrol       mazda           no              3  "
      ]
     },
     "execution_count": 20,
     "metadata": {},
     "output_type": "execute_result"
    }
   ],
   "source": [
    "df.info()\n",
    "df.head(10)"
   ]
  },
  {
   "cell_type": "markdown",
   "metadata": {},
   "source": [
    "**Вывод:**\n",
    "\n",
    "На этом этапе была проведена подготовка данных к дальнейшему обучению на них моделей.\n",
    "\n",
    "* Исключены не важные для решения задачи определеня стоимости автомобилей признаки: `DateCrawled`, `PostalCode`, `LastSeen`, `NumberOfPictures`.\n",
    "\n",
    "* Устранены все пропуски в данных(в том числе в категориальных признаках заменены новой категорией `unknown`).\n",
    "\n",
    "* Устранены аномальные значения признаков."
   ]
  },
  {
   "cell_type": "markdown",
   "metadata": {},
   "source": [
    "### Кодирование категориальных признаков"
   ]
  },
  {
   "cell_type": "markdown",
   "metadata": {},
   "source": [
    "Так как перед нами лежит задача регрессии - преобразуем все категориальные признаки в числовые. Для этого воспользуемся техникой порядкового кодирования **Ordinal Encoding**, так как использование прямого кодирования привело бы к сильному увеличению числа столбцов в датафрейме из-за большого количества категорий в некоторых признаках, а это возможно усложнило бы обучение моделей. "
   ]
  },
  {
   "cell_type": "code",
   "execution_count": 25,
   "metadata": {},
   "outputs": [
    {
     "data": {
      "text/html": [
       "<div>\n",
       "<style scoped>\n",
       "    .dataframe tbody tr th:only-of-type {\n",
       "        vertical-align: middle;\n",
       "    }\n",
       "\n",
       "    .dataframe tbody tr th {\n",
       "        vertical-align: top;\n",
       "    }\n",
       "\n",
       "    .dataframe thead th {\n",
       "        text-align: right;\n",
       "    }\n",
       "</style>\n",
       "<table border=\"1\" class=\"dataframe\">\n",
       "  <thead>\n",
       "    <tr style=\"text-align: right;\">\n",
       "      <th></th>\n",
       "      <th>vehicle_type</th>\n",
       "      <th>gearbox</th>\n",
       "      <th>model</th>\n",
       "      <th>fuel_type</th>\n",
       "      <th>brand</th>\n",
       "      <th>not_repaired</th>\n",
       "    </tr>\n",
       "  </thead>\n",
       "  <tbody>\n",
       "    <tr>\n",
       "      <th>0</th>\n",
       "      <td>7.0</td>\n",
       "      <td>1.0</td>\n",
       "      <td>115.0</td>\n",
       "      <td>6.0</td>\n",
       "      <td>38.0</td>\n",
       "      <td>1.0</td>\n",
       "    </tr>\n",
       "    <tr>\n",
       "      <th>1</th>\n",
       "      <td>2.0</td>\n",
       "      <td>1.0</td>\n",
       "      <td>225.0</td>\n",
       "      <td>2.0</td>\n",
       "      <td>1.0</td>\n",
       "      <td>2.0</td>\n",
       "    </tr>\n",
       "    <tr>\n",
       "      <th>2</th>\n",
       "      <td>6.0</td>\n",
       "      <td>0.0</td>\n",
       "      <td>116.0</td>\n",
       "      <td>2.0</td>\n",
       "      <td>14.0</td>\n",
       "      <td>1.0</td>\n",
       "    </tr>\n",
       "    <tr>\n",
       "      <th>3</th>\n",
       "      <td>5.0</td>\n",
       "      <td>1.0</td>\n",
       "      <td>115.0</td>\n",
       "      <td>6.0</td>\n",
       "      <td>38.0</td>\n",
       "      <td>0.0</td>\n",
       "    </tr>\n",
       "    <tr>\n",
       "      <th>4</th>\n",
       "      <td>5.0</td>\n",
       "      <td>1.0</td>\n",
       "      <td>100.0</td>\n",
       "      <td>2.0</td>\n",
       "      <td>31.0</td>\n",
       "      <td>0.0</td>\n",
       "    </tr>\n",
       "  </tbody>\n",
       "</table>\n",
       "</div>"
      ],
      "text/plain": [
       "   vehicle_type  gearbox  model  fuel_type  brand  not_repaired\n",
       "0           7.0      1.0  115.0        6.0   38.0           1.0\n",
       "1           2.0      1.0  225.0        2.0    1.0           2.0\n",
       "2           6.0      0.0  116.0        2.0   14.0           1.0\n",
       "3           5.0      1.0  115.0        6.0   38.0           0.0\n",
       "4           5.0      1.0  100.0        2.0   31.0           0.0"
      ]
     },
     "execution_count": 25,
     "metadata": {},
     "output_type": "execute_result"
    }
   ],
   "source": [
    "# Порядковое кодирование категориальных признаков\n",
    "\n",
    "category = ['vehicle_type', 'gearbox', 'model', 'fuel_type', 'brand', 'not_repaired']\n",
    "\n",
    "encoder = OrdinalEncoder()\n",
    "df_ordinal = pd.DataFrame(encoder.fit_transform(df[category]), index=df[category].index, columns=df[category].columns)\n",
    "df_ordinal.head()"
   ]
  },
  {
   "cell_type": "code",
   "execution_count": 26,
   "metadata": {},
   "outputs": [
    {
     "data": {
      "text/html": [
       "<div>\n",
       "<style scoped>\n",
       "    .dataframe tbody tr th:only-of-type {\n",
       "        vertical-align: middle;\n",
       "    }\n",
       "\n",
       "    .dataframe tbody tr th {\n",
       "        vertical-align: top;\n",
       "    }\n",
       "\n",
       "    .dataframe thead th {\n",
       "        text-align: right;\n",
       "    }\n",
       "</style>\n",
       "<table border=\"1\" class=\"dataframe\">\n",
       "  <thead>\n",
       "    <tr style=\"text-align: right;\">\n",
       "      <th></th>\n",
       "      <th>price</th>\n",
       "      <th>vehicle_type</th>\n",
       "      <th>registration_year</th>\n",
       "      <th>gearbox</th>\n",
       "      <th>power</th>\n",
       "      <th>model</th>\n",
       "      <th>kilometer</th>\n",
       "      <th>registration_month</th>\n",
       "      <th>fuel_type</th>\n",
       "      <th>brand</th>\n",
       "      <th>not_repaired</th>\n",
       "      <th>month_created</th>\n",
       "    </tr>\n",
       "  </thead>\n",
       "  <tbody>\n",
       "    <tr>\n",
       "      <th>0</th>\n",
       "      <td>480</td>\n",
       "      <td>7.0</td>\n",
       "      <td>1993</td>\n",
       "      <td>1.0</td>\n",
       "      <td>90.0</td>\n",
       "      <td>115.0</td>\n",
       "      <td>150000</td>\n",
       "      <td>0</td>\n",
       "      <td>6.0</td>\n",
       "      <td>38.0</td>\n",
       "      <td>1.0</td>\n",
       "      <td>3</td>\n",
       "    </tr>\n",
       "    <tr>\n",
       "      <th>1</th>\n",
       "      <td>18300</td>\n",
       "      <td>2.0</td>\n",
       "      <td>2011</td>\n",
       "      <td>1.0</td>\n",
       "      <td>190.0</td>\n",
       "      <td>225.0</td>\n",
       "      <td>125000</td>\n",
       "      <td>5</td>\n",
       "      <td>2.0</td>\n",
       "      <td>1.0</td>\n",
       "      <td>2.0</td>\n",
       "      <td>3</td>\n",
       "    </tr>\n",
       "    <tr>\n",
       "      <th>2</th>\n",
       "      <td>9800</td>\n",
       "      <td>6.0</td>\n",
       "      <td>2004</td>\n",
       "      <td>0.0</td>\n",
       "      <td>163.0</td>\n",
       "      <td>116.0</td>\n",
       "      <td>125000</td>\n",
       "      <td>8</td>\n",
       "      <td>2.0</td>\n",
       "      <td>14.0</td>\n",
       "      <td>1.0</td>\n",
       "      <td>3</td>\n",
       "    </tr>\n",
       "    <tr>\n",
       "      <th>3</th>\n",
       "      <td>1500</td>\n",
       "      <td>5.0</td>\n",
       "      <td>2001</td>\n",
       "      <td>1.0</td>\n",
       "      <td>75.0</td>\n",
       "      <td>115.0</td>\n",
       "      <td>150000</td>\n",
       "      <td>6</td>\n",
       "      <td>6.0</td>\n",
       "      <td>38.0</td>\n",
       "      <td>0.0</td>\n",
       "      <td>3</td>\n",
       "    </tr>\n",
       "    <tr>\n",
       "      <th>4</th>\n",
       "      <td>3600</td>\n",
       "      <td>5.0</td>\n",
       "      <td>2008</td>\n",
       "      <td>1.0</td>\n",
       "      <td>69.0</td>\n",
       "      <td>100.0</td>\n",
       "      <td>90000</td>\n",
       "      <td>7</td>\n",
       "      <td>2.0</td>\n",
       "      <td>31.0</td>\n",
       "      <td>0.0</td>\n",
       "      <td>3</td>\n",
       "    </tr>\n",
       "  </tbody>\n",
       "</table>\n",
       "</div>"
      ],
      "text/plain": [
       "   price  vehicle_type  registration_year  gearbox  power  model  kilometer  \\\n",
       "0    480           7.0               1993      1.0   90.0  115.0     150000   \n",
       "1  18300           2.0               2011      1.0  190.0  225.0     125000   \n",
       "2   9800           6.0               2004      0.0  163.0  116.0     125000   \n",
       "3   1500           5.0               2001      1.0   75.0  115.0     150000   \n",
       "4   3600           5.0               2008      1.0   69.0  100.0      90000   \n",
       "\n",
       "   registration_month  fuel_type  brand  not_repaired  month_created  \n",
       "0                   0        6.0   38.0           1.0              3  \n",
       "1                   5        2.0    1.0           2.0              3  \n",
       "2                   8        2.0   14.0           1.0              3  \n",
       "3                   6        6.0   38.0           0.0              3  \n",
       "4                   7        2.0   31.0           0.0              3  "
      ]
     },
     "execution_count": 26,
     "metadata": {},
     "output_type": "execute_result"
    }
   ],
   "source": [
    "# перенос пробразованных категориальных признаков в главную таблицу\n",
    "\n",
    "df[category] = df_ordinal\n",
    "df.head()"
   ]
  },
  {
   "cell_type": "markdown",
   "metadata": {},
   "source": [
    "Теперь, когда пропусков и аномалий в данных не осталось, а категориальные признаки преобразованы в числовые, имеет смысл разделить их на обучающую, валидационную и тестовую выборки в соотношении 3:1. "
   ]
  },
  {
   "cell_type": "code",
   "execution_count": 28,
   "metadata": {},
   "outputs": [],
   "source": [
    "features = df.drop(['price'], axis=1)\n",
    "target = df['price']\n",
    "\n",
    "# выделение обучающей и тестовой выборок размером 75% и 25%\n",
    "train_ft, test_ft, train_tg, test_tg = train_test_split(features, target, test_size=0.25, random_state=111)"
   ]
  },
  {
   "cell_type": "markdown",
   "metadata": {},
   "source": [
    "На всякий случай проверим размеры выборок:"
   ]
  },
  {
   "cell_type": "code",
   "execution_count": 29,
   "metadata": {},
   "outputs": [
    {
     "name": "stdout",
     "output_type": "stream",
     "text": [
      "Объем обучающей выборки: 246496\n",
      "Объем тестовой выборки: 82166\n"
     ]
    }
   ],
   "source": [
    "print(f'Объем обучающей выборки: {train_ft.shape[0]}')\n",
    "print(f'Объем тестовой выборки: {test_ft.shape[0]}')"
   ]
  },
  {
   "cell_type": "markdown",
   "metadata": {},
   "source": [
    "### Масштабирование признаков"
   ]
  },
  {
   "cell_type": "markdown",
   "metadata": {},
   "source": [
    "Приведем признаки к одному масштабу путем стандартизации данных с помощью структуры **StandardScaler**:"
   ]
  },
  {
   "cell_type": "code",
   "execution_count": 30,
   "metadata": {},
   "outputs": [
    {
     "name": "stdout",
     "output_type": "stream",
     "text": [
      "Wall time: 202 ms\n"
     ]
    },
    {
     "data": {
      "text/html": [
       "<div>\n",
       "<style scoped>\n",
       "    .dataframe tbody tr th:only-of-type {\n",
       "        vertical-align: middle;\n",
       "    }\n",
       "\n",
       "    .dataframe tbody tr th {\n",
       "        vertical-align: top;\n",
       "    }\n",
       "\n",
       "    .dataframe thead th {\n",
       "        text-align: right;\n",
       "    }\n",
       "</style>\n",
       "<table border=\"1\" class=\"dataframe\">\n",
       "  <thead>\n",
       "    <tr style=\"text-align: right;\">\n",
       "      <th></th>\n",
       "      <th>vehicle_type</th>\n",
       "      <th>registration_year</th>\n",
       "      <th>gearbox</th>\n",
       "      <th>power</th>\n",
       "      <th>model</th>\n",
       "      <th>kilometer</th>\n",
       "      <th>registration_month</th>\n",
       "      <th>fuel_type</th>\n",
       "      <th>brand</th>\n",
       "      <th>not_repaired</th>\n",
       "      <th>month_created</th>\n",
       "    </tr>\n",
       "  </thead>\n",
       "  <tbody>\n",
       "    <tr>\n",
       "      <th>259278</th>\n",
       "      <td>8.0</td>\n",
       "      <td>-0.596927</td>\n",
       "      <td>1.0</td>\n",
       "      <td>0.037869</td>\n",
       "      <td>225.0</td>\n",
       "      <td>0.571448</td>\n",
       "      <td>7</td>\n",
       "      <td>7.0</td>\n",
       "      <td>27.0</td>\n",
       "      <td>2.0</td>\n",
       "      <td>3</td>\n",
       "    </tr>\n",
       "    <tr>\n",
       "      <th>184432</th>\n",
       "      <td>7.0</td>\n",
       "      <td>1.736946</td>\n",
       "      <td>1.0</td>\n",
       "      <td>-0.054131</td>\n",
       "      <td>232.0</td>\n",
       "      <td>0.571448</td>\n",
       "      <td>5</td>\n",
       "      <td>6.0</td>\n",
       "      <td>24.0</td>\n",
       "      <td>0.0</td>\n",
       "      <td>3</td>\n",
       "    </tr>\n",
       "    <tr>\n",
       "      <th>208493</th>\n",
       "      <td>1.0</td>\n",
       "      <td>-0.047780</td>\n",
       "      <td>0.0</td>\n",
       "      <td>-0.836133</td>\n",
       "      <td>186.0</td>\n",
       "      <td>-0.753865</td>\n",
       "      <td>2</td>\n",
       "      <td>6.0</td>\n",
       "      <td>32.0</td>\n",
       "      <td>0.0</td>\n",
       "      <td>3</td>\n",
       "    </tr>\n",
       "    <tr>\n",
       "      <th>315582</th>\n",
       "      <td>4.0</td>\n",
       "      <td>0.364080</td>\n",
       "      <td>1.0</td>\n",
       "      <td>1.877873</td>\n",
       "      <td>115.0</td>\n",
       "      <td>0.571448</td>\n",
       "      <td>11</td>\n",
       "      <td>6.0</td>\n",
       "      <td>38.0</td>\n",
       "      <td>0.0</td>\n",
       "      <td>3</td>\n",
       "    </tr>\n",
       "    <tr>\n",
       "      <th>261863</th>\n",
       "      <td>4.0</td>\n",
       "      <td>0.638653</td>\n",
       "      <td>0.0</td>\n",
       "      <td>0.566870</td>\n",
       "      <td>6.0</td>\n",
       "      <td>0.571448</td>\n",
       "      <td>1</td>\n",
       "      <td>6.0</td>\n",
       "      <td>2.0</td>\n",
       "      <td>0.0</td>\n",
       "      <td>3</td>\n",
       "    </tr>\n",
       "  </tbody>\n",
       "</table>\n",
       "</div>"
      ],
      "text/plain": [
       "        vehicle_type  registration_year  gearbox     power  model  kilometer  \\\n",
       "259278           8.0          -0.596927      1.0  0.037869  225.0   0.571448   \n",
       "184432           7.0           1.736946      1.0 -0.054131  232.0   0.571448   \n",
       "208493           1.0          -0.047780      0.0 -0.836133  186.0  -0.753865   \n",
       "315582           4.0           0.364080      1.0  1.877873  115.0   0.571448   \n",
       "261863           4.0           0.638653      0.0  0.566870    6.0   0.571448   \n",
       "\n",
       "        registration_month  fuel_type  brand  not_repaired  month_created  \n",
       "259278                   7        7.0   27.0           2.0              3  \n",
       "184432                   5        6.0   24.0           0.0              3  \n",
       "208493                   2        6.0   32.0           0.0              3  \n",
       "315582                  11        6.0   38.0           0.0              3  \n",
       "261863                   1        6.0    2.0           0.0              3  "
      ]
     },
     "execution_count": 30,
     "metadata": {},
     "output_type": "execute_result"
    }
   ],
   "source": [
    "%%time\n",
    "\n",
    "# стандартизация данных в выборках\n",
    "numeric = ['registration_year', 'power', 'kilometer']\n",
    "\n",
    "scaler = StandardScaler()\n",
    "scaler.fit(train_ft[numeric])\n",
    "train_ft[numeric] = scaler.transform(train_ft[numeric])\n",
    "test_ft[numeric] = scaler.transform(test_ft[numeric])\n",
    "\n",
    "train_ft.head()"
   ]
  },
  {
   "cell_type": "markdown",
   "metadata": {},
   "source": [
    "Теперь все признаки имеют одинаковый масштаб. "
   ]
  },
  {
   "cell_type": "markdown",
   "metadata": {},
   "source": [
    "**Вывод:**\n",
    "\n",
    "* Категориальные признаки преобразованы в числовые с помощью порядкового кодтрования. \n",
    "\n",
    "* Признаки приведены к одному масштабу."
   ]
  },
  {
   "cell_type": "markdown",
   "metadata": {},
   "source": [
    "## Обучение моделей"
   ]
  },
  {
   "cell_type": "markdown",
   "metadata": {},
   "source": [
    "Оценку качества моделей будем проведить с помощью метрики `RMSE`. Напишем функцию ее расчета:"
   ]
  },
  {
   "cell_type": "code",
   "execution_count": 31,
   "metadata": {},
   "outputs": [],
   "source": [
    "def rmse_score(target, predictions):\n",
    "    rmse = mean_squared_error(target, predictions)**0.5\n",
    "    return rmse"
   ]
  },
  {
   "cell_type": "markdown",
   "metadata": {},
   "source": [
    "Обучим четыре модели:\n",
    "\n",
    " * Модель линейной регрессии;\n",
    " \n",
    " * Модель градиентного бустинга `XGBoost`;\n",
    " \n",
    " * Модель градиентного бустинга `LightGBM`;\n",
    " \n",
    " * Модель градиентного бустинга `CatBoost`.\n",
    " \n",
    "Подберем для них наилучшие гиперпараметры с помощью кросс-валидации на валидационной выбрке и проверим качество их предсказаний с помощью метрики `rmse` на тестовой выборке."
   ]
  },
  {
   "cell_type": "code",
   "execution_count": 32,
   "metadata": {},
   "outputs": [],
   "source": [
    "# Кросс-валидация гиперпараметров моделей с помощью GridSearch\n",
    "\n",
    "def CV(model, params, ft, tg):\n",
    "    scorer = make_scorer(rmse_score, greater_is_better=False)\n",
    "    clf = GridSearchCV(model, params, scoring=scorer, cv=3)\n",
    "    display(clf.fit(ft, tg, verbose=True))\n",
    "    \n",
    "    return clf.best_params_, clf.best_score_"
   ]
  },
  {
   "cell_type": "markdown",
   "metadata": {},
   "source": [
    "Так как процедура обучения и предсказания для всех моделей будет примерно одинакова, создадим отдельные функции, отвечающие за это и за расчет времени:"
   ]
  },
  {
   "cell_type": "code",
   "execution_count": 33,
   "metadata": {},
   "outputs": [],
   "source": [
    "# функция обучения моделей и расчета времени\n",
    "\n",
    "def fit_model(model_name, regressor, train_ft, train_tg):\n",
    "    time0 = time.time()\n",
    "    model = regressor\n",
    "    model.fit(train_ft, train_tg)\n",
    "    time_fit = round(time.time() - time0, 4)\n",
    "    \n",
    "    print(f'Время обучения модели {model_name}: {time_fit} секунд')\n",
    "    \n",
    "    return model, time_fit"
   ]
  },
  {
   "cell_type": "code",
   "execution_count": 34,
   "metadata": {},
   "outputs": [],
   "source": [
    "# функция испытания моделей на валидационной выборке, проверки качества моделей и расчета времени\n",
    "\n",
    "def pred_model(model_name, model, test_ft, test_tg):\n",
    "    time0 = time.time()\n",
    "    predictions = model.predict(test_ft)\n",
    "    rmse = rmse_score(predictions, test_tg).round(2)\n",
    "    time_pred = round(time.time() - time0, 4)\n",
    "    \n",
    "    print(f'RMSE для модели {model_name} на валидационной выборке: {rmse}')\n",
    "    print(f'Время предсказания: {time_pred} секунд')\n",
    "    \n",
    "    return rmse, time_pred"
   ]
  },
  {
   "cell_type": "markdown",
   "metadata": {},
   "source": [
    "### Линейная регрессия"
   ]
  },
  {
   "cell_type": "markdown",
   "metadata": {},
   "source": [
    "Начнем с модели линейной регрессии. Ее гиперпараметры оставим по умолчанию, обучим на тренировойчной выборке и сделаем предсказания на тестовой выборке. "
   ]
  },
  {
   "cell_type": "code",
   "execution_count": 35,
   "metadata": {},
   "outputs": [
    {
     "name": "stdout",
     "output_type": "stream",
     "text": [
      "Время обучения модели LinearRegression: 0.2016 секунд\n"
     ]
    }
   ],
   "source": [
    "# Обучение линейной регрессии\n",
    "\n",
    "model_lr, time_fit_lr = fit_model('LinearRegression', LinearRegression(), train_ft, train_tg)"
   ]
  },
  {
   "cell_type": "code",
   "execution_count": 36,
   "metadata": {},
   "outputs": [
    {
     "name": "stdout",
     "output_type": "stream",
     "text": [
      "RMSE для модели LinearRegression на валидационной выборке: 2991.06\n",
      "Время предсказания: 0.0189 секунд\n"
     ]
    }
   ],
   "source": [
    "# Предсказания модели линейной регрессии на тестовой выборке\n",
    "\n",
    "rmse_lr, time_pred_lr = pred_model('LinearRegression', model_lr, test_ft, test_tg)"
   ]
  },
  {
   "cell_type": "code",
   "execution_count": 37,
   "metadata": {},
   "outputs": [
    {
     "data": {
      "text/html": [
       "<div>\n",
       "<style scoped>\n",
       "    .dataframe tbody tr th:only-of-type {\n",
       "        vertical-align: middle;\n",
       "    }\n",
       "\n",
       "    .dataframe tbody tr th {\n",
       "        vertical-align: top;\n",
       "    }\n",
       "\n",
       "    .dataframe thead th {\n",
       "        text-align: right;\n",
       "    }\n",
       "</style>\n",
       "<table border=\"1\" class=\"dataframe\">\n",
       "  <thead>\n",
       "    <tr style=\"text-align: right;\">\n",
       "      <th></th>\n",
       "      <th>Модель</th>\n",
       "      <th>Параметры</th>\n",
       "      <th>Время обучения</th>\n",
       "      <th>Время предсказания</th>\n",
       "      <th>RMSE</th>\n",
       "    </tr>\n",
       "  </thead>\n",
       "  <tbody>\n",
       "    <tr>\n",
       "      <th>0</th>\n",
       "      <td>LinearRegression</td>\n",
       "      <td>default</td>\n",
       "      <td>0.2016 sec</td>\n",
       "      <td>0.0189 sec</td>\n",
       "      <td>2991.06</td>\n",
       "    </tr>\n",
       "  </tbody>\n",
       "</table>\n",
       "</div>"
      ],
      "text/plain": [
       "             Модель Параметры Время обучения Время предсказания     RMSE\n",
       "0  LinearRegression   default     0.2016 sec         0.0189 sec  2991.06"
      ]
     },
     "execution_count": 37,
     "metadata": {},
     "output_type": "execute_result"
    }
   ],
   "source": [
    "# Вывод результатов обучения модели линейной регрессии\n",
    "\n",
    "result = []\n",
    "\n",
    "result.append({'Модель' : 'LinearRegression', \n",
    "              'Параметры': 'default', \n",
    "              'Время обучения': f'{time_fit_lr} sec', \n",
    "              'Время предсказания': f'{time_pred_lr} sec', \n",
    "              'RMSE': rmse_lr})\n",
    "\n",
    "pd.DataFrame(result)"
   ]
  },
  {
   "cell_type": "markdown",
   "metadata": {},
   "source": [
    "### Градиентный бустинг XGBoost"
   ]
  },
  {
   "cell_type": "markdown",
   "metadata": {},
   "source": [
    "Рассмотрим следующую модель: модель экстремального градиентного бустинга `XGBoost`"
   ]
  },
  {
   "cell_type": "code",
   "execution_count": 39,
   "metadata": {},
   "outputs": [
    {
     "data": {
      "text/plain": [
       "GridSearchCV(cv=3,\n",
       "             estimator=XGBRegressor(base_score=None, booster='gbtree',\n",
       "                                    callbacks=None, colsample_bylevel=None,\n",
       "                                    colsample_bynode=None,\n",
       "                                    colsample_bytree=None,\n",
       "                                    early_stopping_rounds=None,\n",
       "                                    enable_categorical=False, eval_metric=None,\n",
       "                                    gamma=None, gpu_id=None, grow_policy=None,\n",
       "                                    importance_type=None,\n",
       "                                    interaction_constraints=None,\n",
       "                                    learning_rate=None, max_bin=None,\n",
       "                                    max...one, max_delta_step=None,\n",
       "                                    max_depth=None, max_leaves=None,\n",
       "                                    min_child_weight=None, missing=nan,\n",
       "                                    monotone_constraints=None, n_estimators=100,\n",
       "                                    n_jobs=-1, num_parallel_tree=None,\n",
       "                                    predictor=None, random_state=111,\n",
       "                                    reg_alpha=None, reg_lambda=None, ...),\n",
       "             param_grid={'max_depth': [4, 6, 8],\n",
       "                         'n_estimators': [50, 100, 200]},\n",
       "             scoring=make_scorer(rmse_score, greater_is_better=False))"
      ]
     },
     "metadata": {},
     "output_type": "display_data"
    },
    {
     "name": "stdout",
     "output_type": "stream",
     "text": [
      "Wall time: 4min 46s\n"
     ]
    },
    {
     "data": {
      "text/plain": [
       "{'max_depth': 8, 'n_estimators': 200}"
      ]
     },
     "execution_count": 39,
     "metadata": {},
     "output_type": "execute_result"
    }
   ],
   "source": [
    "%%time\n",
    "\n",
    "model_xgb = XGBRegressor(verbosity=0, n_jobs=-1, random_state=111, booster='gbtree')\n",
    "    \n",
    "params = {'max_depth': [4, 6, 8], \n",
    "         'n_estimators': [50, 100, 200]}\n",
    "\n",
    "best_params_xgb, best_score_xgb = CV(model_xgb, params, train_ft, train_tg)\n",
    "best_params_xgb"
   ]
  },
  {
   "cell_type": "code",
   "execution_count": 40,
   "metadata": {},
   "outputs": [
    {
     "name": "stdout",
     "output_type": "stream",
     "text": [
      "Время обучения модели XGBoost: 12.0378 секунд\n"
     ]
    }
   ],
   "source": [
    "# Обучение модели XGB c выбранными гиперпарметрами на тренировоной выборке и расчет времени\n",
    "\n",
    "model_xgb, time_fit_xgb = fit_model('XGBoost', XGBRegressor(verbosity=0, n_jobs=-1, random_state=111, \n",
    "                                  booster='gbtree', max_depth=8, n_estmators=200), train_ft, train_tg)"
   ]
  },
  {
   "cell_type": "code",
   "execution_count": 41,
   "metadata": {},
   "outputs": [
    {
     "name": "stdout",
     "output_type": "stream",
     "text": [
      "RMSE для модели XGBoost на валидационной выборке: 1693.7\n",
      "Время предсказания: 0.1331 секунд\n"
     ]
    }
   ],
   "source": [
    "# Предсказания для тестовой выборки, расчет метрики качества и времени\n",
    "\n",
    "rmse_xgb, time_pred_xgb = pred_model('XGBoost', model_xgb, test_ft, test_tg)"
   ]
  },
  {
   "cell_type": "code",
   "execution_count": 42,
   "metadata": {},
   "outputs": [],
   "source": [
    "# Вывод результатов обучения модели XGBoost\n",
    "\n",
    "result.append({'Модель' : 'XGBoost', \n",
    "              'Параметры': best_params_xgb, \n",
    "              'Время обучения': f'{time_fit_xgb} sec', \n",
    "              'Время предсказания': f'{time_pred_xgb} sec', \n",
    "              'RMSE': rmse_xgb})\n",
    "\n",
    "result_df = pd.DataFrame(result)"
   ]
  },
  {
   "cell_type": "code",
   "execution_count": 43,
   "metadata": {},
   "outputs": [
    {
     "data": {
      "text/html": [
       "<div>\n",
       "<style scoped>\n",
       "    .dataframe tbody tr th:only-of-type {\n",
       "        vertical-align: middle;\n",
       "    }\n",
       "\n",
       "    .dataframe tbody tr th {\n",
       "        vertical-align: top;\n",
       "    }\n",
       "\n",
       "    .dataframe thead th {\n",
       "        text-align: right;\n",
       "    }\n",
       "</style>\n",
       "<table border=\"1\" class=\"dataframe\">\n",
       "  <thead>\n",
       "    <tr style=\"text-align: right;\">\n",
       "      <th></th>\n",
       "      <th>Модель</th>\n",
       "      <th>Параметры</th>\n",
       "      <th>Время обучения</th>\n",
       "      <th>Время предсказания</th>\n",
       "      <th>RMSE</th>\n",
       "    </tr>\n",
       "  </thead>\n",
       "  <tbody>\n",
       "    <tr>\n",
       "      <th>0</th>\n",
       "      <td>LinearRegression</td>\n",
       "      <td>default</td>\n",
       "      <td>0.2016 sec</td>\n",
       "      <td>0.0189 sec</td>\n",
       "      <td>2991.06</td>\n",
       "    </tr>\n",
       "    <tr>\n",
       "      <th>1</th>\n",
       "      <td>XGBoost</td>\n",
       "      <td>{'max_depth': 8, 'n_estimators': 200}</td>\n",
       "      <td>12.0378 sec</td>\n",
       "      <td>0.1331 sec</td>\n",
       "      <td>1693.70</td>\n",
       "    </tr>\n",
       "  </tbody>\n",
       "</table>\n",
       "</div>"
      ],
      "text/plain": [
       "             Модель                              Параметры Время обучения  \\\n",
       "0  LinearRegression                                default     0.2016 sec   \n",
       "1           XGBoost  {'max_depth': 8, 'n_estimators': 200}    12.0378 sec   \n",
       "\n",
       "  Время предсказания     RMSE  \n",
       "0         0.0189 sec  2991.06  \n",
       "1         0.1331 sec  1693.70  "
      ]
     },
     "execution_count": 43,
     "metadata": {},
     "output_type": "execute_result"
    }
   ],
   "source": [
    "result_df"
   ]
  },
  {
   "cell_type": "markdown",
   "metadata": {},
   "source": [
    "### Градиентный бустинг CatBoost"
   ]
  },
  {
   "cell_type": "markdown",
   "metadata": {},
   "source": [
    "Обучим модель градиентного бустинга `CatBoost`. "
   ]
  },
  {
   "cell_type": "code",
   "execution_count": 44,
   "metadata": {
    "scrolled": true
   },
   "outputs": [
    {
     "data": {
      "application/vnd.jupyter.widget-view+json": {
       "model_id": "b23c0ce7e4bd458faf765289b30190ee",
       "version_major": 2,
       "version_minor": 0
      },
      "text/plain": [
       "MetricVisualizer(layout=Layout(align_self='stretch', height='500px'))"
      ]
     },
     "metadata": {},
     "output_type": "display_data"
    },
    {
     "name": "stdout",
     "output_type": "stream",
     "text": [
      "0:\tlearn: 6144.4898433\ttest: 6131.7436473\tbest: 6131.7436473 (0)\ttotal: 171ms\tremaining: 8.37s\n",
      "1:\tlearn: 6003.5064833\ttest: 5991.0327153\tbest: 5991.0327153 (1)\ttotal: 192ms\tremaining: 4.6s\n",
      "2:\tlearn: 5866.7846746\ttest: 5854.4707984\tbest: 5854.4707984 (2)\ttotal: 211ms\tremaining: 3.31s\n",
      "3:\tlearn: 5735.5131131\ttest: 5722.8776728\tbest: 5722.8776728 (3)\ttotal: 233ms\tremaining: 2.68s\n",
      "4:\tlearn: 5606.1850326\ttest: 5593.2266964\tbest: 5593.2266964 (4)\ttotal: 252ms\tremaining: 2.27s\n",
      "5:\tlearn: 5481.3256660\ttest: 5468.2916983\tbest: 5468.2916983 (5)\ttotal: 273ms\tremaining: 2s\n",
      "6:\tlearn: 5360.0188743\ttest: 5346.6998186\tbest: 5346.6998186 (6)\ttotal: 292ms\tremaining: 1.79s\n",
      "7:\tlearn: 5243.8972990\ttest: 5230.7020804\tbest: 5230.7020804 (7)\ttotal: 312ms\tremaining: 1.64s\n",
      "8:\tlearn: 5131.4078892\ttest: 5117.8677372\tbest: 5117.8677372 (8)\ttotal: 331ms\tremaining: 1.51s\n",
      "9:\tlearn: 5025.9733700\ttest: 5012.1746100\tbest: 5012.1746100 (9)\ttotal: 351ms\tremaining: 1.41s\n",
      "10:\tlearn: 4923.2250173\ttest: 4909.7835337\tbest: 4909.7835337 (10)\ttotal: 372ms\tremaining: 1.32s\n",
      "11:\tlearn: 4825.0126674\ttest: 4811.5139133\tbest: 4811.5139133 (11)\ttotal: 391ms\tremaining: 1.24s\n",
      "12:\tlearn: 4729.6232280\ttest: 4716.0525027\tbest: 4716.0525027 (12)\ttotal: 413ms\tremaining: 1.18s\n",
      "13:\tlearn: 4638.2771961\ttest: 4624.9642599\tbest: 4624.9642599 (13)\ttotal: 433ms\tremaining: 1.11s\n",
      "14:\tlearn: 4549.4593783\ttest: 4536.3965431\tbest: 4536.3965431 (14)\ttotal: 456ms\tremaining: 1.06s\n",
      "15:\tlearn: 4462.4743272\ttest: 4449.5583938\tbest: 4449.5583938 (15)\ttotal: 475ms\tremaining: 1.01s\n",
      "16:\tlearn: 4379.3937980\ttest: 4366.7453189\tbest: 4366.7453189 (16)\ttotal: 500ms\tremaining: 971ms\n",
      "17:\tlearn: 4297.1291038\ttest: 4284.1557551\tbest: 4284.1557551 (17)\ttotal: 519ms\tremaining: 922ms\n",
      "18:\tlearn: 4220.9517049\ttest: 4208.0404843\tbest: 4208.0404843 (18)\ttotal: 559ms\tremaining: 912ms\n",
      "19:\tlearn: 4146.7092943\ttest: 4133.8783683\tbest: 4133.8783683 (19)\ttotal: 579ms\tremaining: 868ms\n",
      "20:\tlearn: 4073.3360433\ttest: 4060.4027370\tbest: 4060.4027370 (20)\ttotal: 600ms\tremaining: 829ms\n",
      "21:\tlearn: 4004.8163942\ttest: 3991.8315927\tbest: 3991.8315927 (21)\ttotal: 621ms\tremaining: 790ms\n",
      "22:\tlearn: 3939.4702071\ttest: 3926.2479185\tbest: 3926.2479185 (22)\ttotal: 645ms\tremaining: 757ms\n",
      "23:\tlearn: 3876.8581286\ttest: 3863.7601367\tbest: 3863.7601367 (23)\ttotal: 669ms\tremaining: 725ms\n",
      "24:\tlearn: 3813.4101215\ttest: 3800.2261419\tbest: 3800.2261419 (24)\ttotal: 689ms\tremaining: 689ms\n",
      "25:\tlearn: 3752.0807683\ttest: 3738.4853743\tbest: 3738.4853743 (25)\ttotal: 710ms\tremaining: 655ms\n",
      "26:\tlearn: 3693.2357809\ttest: 3679.5615027\tbest: 3679.5615027 (26)\ttotal: 729ms\tremaining: 621ms\n",
      "27:\tlearn: 3637.0499447\ttest: 3623.2825951\tbest: 3623.2825951 (27)\ttotal: 752ms\tremaining: 591ms\n",
      "28:\tlearn: 3584.6355715\ttest: 3570.9417867\tbest: 3570.9417867 (28)\ttotal: 771ms\tremaining: 558ms\n",
      "29:\tlearn: 3534.6903955\ttest: 3521.1033304\tbest: 3521.1033304 (29)\ttotal: 796ms\tremaining: 531ms\n",
      "30:\tlearn: 3486.5825770\ttest: 3472.8173586\tbest: 3472.8173586 (30)\ttotal: 814ms\tremaining: 499ms\n",
      "31:\tlearn: 3440.2705412\ttest: 3426.4010500\tbest: 3426.4010500 (31)\ttotal: 842ms\tremaining: 474ms\n",
      "32:\tlearn: 3396.3535836\ttest: 3382.2928379\tbest: 3382.2928379 (32)\ttotal: 861ms\tremaining: 444ms\n",
      "33:\tlearn: 3354.5778419\ttest: 3340.3298010\tbest: 3340.3298010 (33)\ttotal: 881ms\tremaining: 415ms\n",
      "34:\tlearn: 3314.7393540\ttest: 3300.4865273\tbest: 3300.4865273 (34)\ttotal: 906ms\tremaining: 388ms\n",
      "35:\tlearn: 3274.9216730\ttest: 3260.7539782\tbest: 3260.7539782 (35)\ttotal: 928ms\tremaining: 361ms\n",
      "36:\tlearn: 3237.3398566\ttest: 3222.9650887\tbest: 3222.9650887 (36)\ttotal: 953ms\tremaining: 335ms\n",
      "37:\tlearn: 3201.1550505\ttest: 3186.7673641\tbest: 3186.7673641 (37)\ttotal: 976ms\tremaining: 308ms\n",
      "38:\tlearn: 3163.7835092\ttest: 3149.2249000\tbest: 3149.2249000 (38)\ttotal: 999ms\tremaining: 282ms\n",
      "39:\tlearn: 3128.2004694\ttest: 3113.4046897\tbest: 3113.4046897 (39)\ttotal: 1.02s\tremaining: 255ms\n",
      "40:\tlearn: 3096.1798759\ttest: 3081.3539632\tbest: 3081.3539632 (40)\ttotal: 1.04s\tremaining: 229ms\n",
      "41:\tlearn: 3065.0114391\ttest: 3050.0632338\tbest: 3050.0632338 (41)\ttotal: 1.06s\tremaining: 202ms\n",
      "42:\tlearn: 3033.2444131\ttest: 3018.2721337\tbest: 3018.2721337 (42)\ttotal: 1.08s\tremaining: 176ms\n",
      "43:\tlearn: 3006.1153515\ttest: 2990.9801388\tbest: 2990.9801388 (43)\ttotal: 1.1s\tremaining: 150ms\n",
      "44:\tlearn: 2978.4509995\ttest: 2963.1872638\tbest: 2963.1872638 (44)\ttotal: 1.12s\tremaining: 125ms\n",
      "45:\tlearn: 2949.9038052\ttest: 2934.4497949\tbest: 2934.4497949 (45)\ttotal: 1.14s\tremaining: 99.2ms\n",
      "46:\tlearn: 2925.2202027\ttest: 2909.6012750\tbest: 2909.6012750 (46)\ttotal: 1.16s\tremaining: 74.2ms\n",
      "47:\tlearn: 2901.1661317\ttest: 2885.6894029\tbest: 2885.6894029 (47)\ttotal: 1.19s\tremaining: 49.6ms\n",
      "48:\tlearn: 2875.9234931\ttest: 2860.2432171\tbest: 2860.2432171 (48)\ttotal: 1.22s\tremaining: 24.8ms\n",
      "49:\tlearn: 2852.0592498\ttest: 2836.2099782\tbest: 2836.2099782 (49)\ttotal: 1.24s\tremaining: 0us\n",
      "\n",
      "bestTest = 2836.209978\n",
      "bestIteration = 49\n",
      "\n",
      "0:\tloss: 2836.2099782\tbest: 2836.2099782 (0)\ttotal: 1.44s\tremaining: 37.4s\n",
      "0:\tlearn: 6144.5134744\ttest: 6131.7671422\tbest: 6131.7671422 (0)\ttotal: 25.6ms\tremaining: 1.25s\n",
      "1:\tlearn: 6003.5602006\ttest: 5991.0862894\tbest: 5991.0862894 (1)\ttotal: 45.3ms\tremaining: 1.09s\n",
      "2:\tlearn: 5866.8592783\ttest: 5854.5451331\tbest: 5854.5451331 (2)\ttotal: 70.8ms\tremaining: 1.11s\n",
      "3:\tlearn: 5735.6133988\ttest: 5722.9771202\tbest: 5722.9771202 (3)\ttotal: 98.8ms\tremaining: 1.14s\n",
      "4:\tlearn: 5606.3036416\ttest: 5593.3444671\tbest: 5593.3444671 (4)\ttotal: 124ms\tremaining: 1.12s\n",
      "5:\tlearn: 5481.4555403\ttest: 5468.4207512\tbest: 5468.4207512 (5)\ttotal: 147ms\tremaining: 1.07s\n",
      "6:\tlearn: 5360.1661441\ttest: 5346.8463081\tbest: 5346.8463081 (6)\ttotal: 167ms\tremaining: 1.03s\n",
      "7:\tlearn: 5244.0534818\ttest: 5230.8575235\tbest: 5230.8575235 (7)\ttotal: 193ms\tremaining: 1.01s\n",
      "8:\tlearn: 5131.5763609\ttest: 5118.0355735\tbest: 5118.0355735 (8)\ttotal: 224ms\tremaining: 1.02s\n",
      "9:\tlearn: 5026.1602798\ttest: 5012.3611110\tbest: 5012.3611110 (9)\ttotal: 245ms\tremaining: 979ms\n",
      "10:\tlearn: 4923.4259282\ttest: 4909.9838151\tbest: 4909.9838151 (10)\ttotal: 275ms\tremaining: 976ms\n",
      "11:\tlearn: 4825.2292842\ttest: 4811.7297565\tbest: 4811.7297565 (11)\ttotal: 299ms\tremaining: 947ms\n",
      "12:\tlearn: 4729.8620679\ttest: 4716.2906433\tbest: 4716.2906433 (12)\ttotal: 325ms\tremaining: 925ms\n",
      "13:\tlearn: 4638.5201337\ttest: 4625.2064183\tbest: 4625.2064183 (13)\ttotal: 349ms\tremaining: 898ms\n",
      "14:\tlearn: 4549.7106614\ttest: 4536.6470492\tbest: 4536.6470492 (14)\ttotal: 382ms\tremaining: 890ms\n",
      "15:\tlearn: 4462.7363885\ttest: 4449.8191142\tbest: 4449.8191142 (15)\ttotal: 404ms\tremaining: 859ms\n",
      "16:\tlearn: 4379.6639049\ttest: 4367.0135356\tbest: 4367.0135356 (16)\ttotal: 439ms\tremaining: 852ms\n",
      "17:\tlearn: 4297.4046181\ttest: 4284.4294843\tbest: 4284.4294843 (17)\ttotal: 469ms\tremaining: 833ms\n",
      "18:\tlearn: 4221.2329816\ttest: 4208.3200075\tbest: 4208.3200075 (18)\ttotal: 511ms\tremaining: 834ms\n",
      "19:\tlearn: 4146.9929011\ttest: 4134.1600673\tbest: 4134.1600673 (19)\ttotal: 543ms\tremaining: 815ms\n",
      "20:\tlearn: 4073.6204695\ttest: 4060.6852621\tbest: 4060.6852621 (20)\ttotal: 577ms\tremaining: 797ms\n",
      "21:\tlearn: 4005.1046003\ttest: 3992.1175020\tbest: 3992.1175020 (21)\ttotal: 602ms\tremaining: 766ms\n",
      "22:\tlearn: 3939.7595007\ttest: 3926.5350398\tbest: 3926.5350398 (22)\ttotal: 627ms\tremaining: 737ms\n",
      "23:\tlearn: 3877.1477949\ttest: 3864.0471636\tbest: 3864.0471636 (23)\ttotal: 649ms\tremaining: 703ms\n",
      "24:\tlearn: 3813.6979068\ttest: 3800.5113540\tbest: 3800.5113540 (24)\ttotal: 668ms\tremaining: 668ms\n",
      "25:\tlearn: 3752.3671762\ttest: 3738.7693007\tbest: 3738.7693007 (25)\ttotal: 693ms\tremaining: 640ms\n",
      "26:\tlearn: 3693.5195188\ttest: 3679.8428199\tbest: 3679.8428199 (26)\ttotal: 713ms\tremaining: 607ms\n",
      "27:\tlearn: 3637.3338224\ttest: 3623.5639805\tbest: 3623.5639805 (27)\ttotal: 733ms\tremaining: 576ms\n",
      "28:\tlearn: 3584.9176576\ttest: 3571.2214746\tbest: 3571.2214746 (28)\ttotal: 754ms\tremaining: 546ms\n",
      "29:\tlearn: 3534.9688905\ttest: 3521.3794754\tbest: 3521.3794754 (29)\ttotal: 776ms\tremaining: 518ms\n",
      "30:\tlearn: 3486.8590128\ttest: 3473.0911759\tbest: 3473.0911759 (30)\ttotal: 800ms\tremaining: 490ms\n",
      "31:\tlearn: 3440.8222395\ttest: 3426.8676454\tbest: 3426.8676454 (31)\ttotal: 821ms\tremaining: 462ms\n",
      "32:\tlearn: 3397.2712121\ttest: 3383.3499949\tbest: 3383.3499949 (32)\ttotal: 843ms\tremaining: 434ms\n",
      "33:\tlearn: 3355.3748601\ttest: 3341.2678124\tbest: 3341.2678124 (33)\ttotal: 863ms\tremaining: 406ms\n",
      "34:\tlearn: 3315.4878237\ttest: 3301.3757535\tbest: 3301.3757535 (34)\ttotal: 890ms\tremaining: 381ms\n",
      "35:\tlearn: 3273.6989120\ttest: 3259.3294520\tbest: 3259.3294520 (35)\ttotal: 914ms\tremaining: 355ms\n",
      "36:\tlearn: 3233.7211143\ttest: 3218.9814424\tbest: 3218.9814424 (36)\ttotal: 943ms\tremaining: 331ms\n",
      "37:\tlearn: 3196.9963615\ttest: 3182.2847726\tbest: 3182.2847726 (37)\ttotal: 970ms\tremaining: 306ms\n",
      "38:\tlearn: 3160.1286843\ttest: 3145.2465604\tbest: 3145.2465604 (38)\ttotal: 992ms\tremaining: 280ms\n",
      "39:\tlearn: 3124.7362548\ttest: 3109.6189372\tbest: 3109.6189372 (39)\ttotal: 1.01s\tremaining: 254ms\n",
      "40:\tlearn: 3092.8463901\ttest: 3077.7013355\tbest: 3077.7013355 (40)\ttotal: 1.05s\tremaining: 230ms\n",
      "41:\tlearn: 3061.3704411\ttest: 3046.1052649\tbest: 3046.1052649 (41)\ttotal: 1.07s\tremaining: 204ms\n",
      "42:\tlearn: 3032.0445940\ttest: 3016.8637245\tbest: 3016.8637245 (42)\ttotal: 1.09s\tremaining: 178ms\n",
      "43:\tlearn: 3001.5518887\ttest: 2986.1957836\tbest: 2986.1957836 (43)\ttotal: 1.12s\tremaining: 152ms\n",
      "44:\tlearn: 2973.7373760\ttest: 2958.2489401\tbest: 2958.2489401 (44)\ttotal: 1.14s\tremaining: 127ms\n",
      "45:\tlearn: 2945.3719851\ttest: 2929.6925434\tbest: 2929.6925434 (45)\ttotal: 1.16s\tremaining: 101ms\n",
      "46:\tlearn: 2920.4561068\ttest: 2904.8721741\tbest: 2904.8721741 (46)\ttotal: 1.18s\tremaining: 75.6ms\n",
      "47:\tlearn: 2896.2141434\ttest: 2880.7743473\tbest: 2880.7743473 (47)\ttotal: 1.21s\tremaining: 50.2ms\n",
      "48:\tlearn: 2871.5094826\ttest: 2855.8633978\tbest: 2855.8633978 (48)\ttotal: 1.23s\tremaining: 25ms\n",
      "49:\tlearn: 2848.1017827\ttest: 2832.2838144\tbest: 2832.2838144 (49)\ttotal: 1.25s\tremaining: 0us\n",
      "\n",
      "bestTest = 2832.283814\n",
      "bestIteration = 49\n",
      "\n",
      "1:\tloss: 2832.2838144\tbest: 2832.2838144 (1)\ttotal: 2.73s\tremaining: 34.2s\n",
      "0:\tlearn: 6144.5370906\ttest: 6131.7906224\tbest: 6131.7906224 (0)\ttotal: 37.1ms\tremaining: 1.82s\n",
      "1:\tlearn: 6003.6138690\ttest: 5991.1398136\tbest: 5991.1398136 (1)\ttotal: 64.6ms\tremaining: 1.55s\n",
      "2:\tlearn: 5866.9338255\ttest: 5854.6194104\tbest: 5854.6194104 (2)\ttotal: 87.3ms\tremaining: 1.37s\n",
      "3:\tlearn: 5735.7135865\ttest: 5723.0764745\tbest: 5723.0764745 (3)\ttotal: 110ms\tremaining: 1.26s\n",
      "4:\tlearn: 5606.4221457\ttest: 5593.4621379\tbest: 5593.4621379 (4)\ttotal: 136ms\tremaining: 1.22s\n",
      "5:\tlearn: 5481.5853097\ttest: 5468.5497043\tbest: 5468.5497043 (5)\ttotal: 158ms\tremaining: 1.16s\n",
      "6:\tlearn: 5360.3133004\ttest: 5346.9926893\tbest: 5346.9926893 (6)\ttotal: 181ms\tremaining: 1.11s\n",
      "7:\tlearn: 5244.2095518\ttest: 5231.0128587\tbest: 5231.0128587 (7)\ttotal: 205ms\tremaining: 1.08s\n",
      "8:\tlearn: 5131.7447160\ttest: 5118.2032981\tbest: 5118.2032981 (8)\ttotal: 227ms\tremaining: 1.03s\n",
      "9:\tlearn: 5026.3470580\ttest: 5012.5474854\tbest: 5012.5474854 (9)\ttotal: 275ms\tremaining: 1.1s\n",
      "10:\tlearn: 4923.6266967\ttest: 4910.1839592\tbest: 4910.1839592 (10)\ttotal: 309ms\tremaining: 1.1s\n",
      "11:\tlearn: 4825.4457395\ttest: 4811.9454438\tbest: 4811.9454438 (11)\ttotal: 337ms\tremaining: 1.07s\n",
      "12:\tlearn: 4730.1007010\ttest: 4716.5285879\tbest: 4716.5285879 (12)\ttotal: 397ms\tremaining: 1.13s\n",
      "13:\tlearn: 4638.7628739\ttest: 4625.4483900\tbest: 4625.4483900 (13)\ttotal: 422ms\tremaining: 1.08s\n",
      "14:\tlearn: 4549.9617479\ttest: 4536.8973693\tbest: 4536.8973693 (14)\ttotal: 479ms\tremaining: 1.12s\n",
      "15:\tlearn: 4462.9982502\ttest: 4450.0796465\tbest: 4450.0796465 (15)\ttotal: 534ms\tremaining: 1.14s\n",
      "16:\tlearn: 4379.9338116\ttest: 4367.2815650\tbest: 4367.2815650 (16)\ttotal: 583ms\tremaining: 1.13s\n",
      "17:\tlearn: 4297.6799363\ttest: 4284.7030304\tbest: 4284.7030304 (17)\ttotal: 614ms\tremaining: 1.09s\n",
      "18:\tlearn: 4221.5140630\ttest: 4208.5993493\tbest: 4208.5993493 (18)\ttotal: 643ms\tremaining: 1.05s\n",
      "19:\tlearn: 4147.2763226\ttest: 4134.4415949\tbest: 4134.4415949 (19)\ttotal: 667ms\tremaining: 1s\n",
      "20:\tlearn: 4073.9047180\ttest: 4060.9676235\tbest: 4060.9676235 (20)\ttotal: 687ms\tremaining: 948ms\n",
      "21:\tlearn: 4005.3926292\ttest: 3992.4032502\tbest: 3992.4032502 (21)\ttotal: 708ms\tremaining: 901ms\n",
      "22:\tlearn: 3940.0486221\ttest: 3926.8220050\tbest: 3926.8220050 (22)\ttotal: 733ms\tremaining: 861ms\n",
      "23:\tlearn: 3877.4372937\ttest: 3864.3340408\tbest: 3864.3340408 (23)\ttotal: 765ms\tremaining: 828ms\n",
      "24:\tlearn: 3813.9855317\ttest: 3800.7964237\tbest: 3800.7964237 (24)\ttotal: 790ms\tremaining: 790ms\n",
      "25:\tlearn: 3752.6534313\ttest: 3739.0530925\tbest: 3739.0530925 (25)\ttotal: 816ms\tremaining: 753ms\n",
      "26:\tlearn: 3693.8031110\ttest: 3680.1240098\tbest: 3680.1240098 (26)\ttotal: 838ms\tremaining: 714ms\n",
      "27:\tlearn: 3637.6175487\ttest: 3623.8452332\tbest: 3623.8452332 (27)\ttotal: 861ms\tremaining: 677ms\n",
      "28:\tlearn: 3585.1995994\ttest: 3571.5010365\tbest: 3571.5010365 (28)\ttotal: 900ms\tremaining: 652ms\n",
      "29:\tlearn: 3535.2472496\ttest: 3521.6555029\tbest: 3521.6555029 (29)\ttotal: 929ms\tremaining: 620ms\n",
      "30:\tlearn: 3487.1353211\ttest: 3473.3648851\tbest: 3473.3648851 (30)\ttotal: 954ms\tremaining: 584ms\n",
      "31:\tlearn: 3441.0949783\ttest: 3427.1378674\tbest: 3427.1378674 (31)\ttotal: 982ms\tremaining: 552ms\n",
      "32:\tlearn: 3397.5394928\ttest: 3383.6158116\tbest: 3383.6158116 (32)\ttotal: 1s\tremaining: 517ms\n",
      "33:\tlearn: 3355.6406975\ttest: 3341.5312929\tbest: 3341.5312929 (33)\ttotal: 1.03s\tremaining: 486ms\n",
      "34:\tlearn: 3315.7552151\ttest: 3301.6406029\tbest: 3301.6406029 (34)\ttotal: 1.05s\tremaining: 452ms\n",
      "35:\tlearn: 3273.9627806\ttest: 3259.5908261\tbest: 3259.5908261 (35)\ttotal: 1.08s\tremaining: 421ms\n",
      "36:\tlearn: 3233.9820745\ttest: 3219.2399967\tbest: 3219.2399967 (36)\ttotal: 1.1s\tremaining: 388ms\n",
      "37:\tlearn: 3197.2527140\ttest: 3182.5388418\tbest: 3182.5388418 (37)\ttotal: 1.13s\tremaining: 357ms\n",
      "38:\tlearn: 3160.3826318\ttest: 3145.4982945\tbest: 3145.4982945 (38)\ttotal: 1.15s\tremaining: 325ms\n",
      "39:\tlearn: 3124.9889015\ttest: 3109.8720225\tbest: 3109.8720225 (39)\ttotal: 1.18s\tremaining: 295ms\n",
      "40:\tlearn: 3093.0941051\ttest: 3077.9496251\tbest: 3077.9496251 (40)\ttotal: 1.2s\tremaining: 264ms\n",
      "41:\tlearn: 3061.6164767\ttest: 3046.3518576\tbest: 3046.3518576 (41)\ttotal: 1.23s\tremaining: 233ms\n",
      "42:\tlearn: 3032.2907788\ttest: 3017.1104368\tbest: 3017.1104368 (42)\ttotal: 1.25s\tremaining: 203ms\n",
      "43:\tlearn: 3001.7975888\ttest: 2986.4419848\tbest: 2986.4419848 (43)\ttotal: 1.27s\tremaining: 173ms\n",
      "44:\tlearn: 2973.9773690\ttest: 2958.4894950\tbest: 2958.4894950 (44)\ttotal: 1.29s\tremaining: 143ms\n",
      "45:\tlearn: 2945.6069408\ttest: 2929.9281682\tbest: 2929.9281682 (45)\ttotal: 1.31s\tremaining: 114ms\n",
      "46:\tlearn: 2920.6902581\ttest: 2905.1064749\tbest: 2905.1064749 (46)\ttotal: 1.33s\tremaining: 84.7ms\n",
      "47:\tlearn: 2896.4449308\ttest: 2881.0049563\tbest: 2881.0049563 (47)\ttotal: 1.34s\tremaining: 56.1ms\n",
      "48:\tlearn: 2871.7398192\ttest: 2856.0932826\tbest: 2856.0932826 (48)\ttotal: 1.36s\tremaining: 27.8ms\n",
      "49:\tlearn: 2848.3285791\ttest: 2832.5102447\tbest: 2832.5102447 (49)\ttotal: 1.38s\tremaining: 0us\n",
      "\n",
      "bestTest = 2832.510245\n",
      "bestIteration = 49\n",
      "\n",
      "2:\tloss: 2832.5102447\tbest: 2832.2838144 (1)\ttotal: 4.16s\tremaining: 33.3s\n",
      "0:\tlearn: 6144.4898433\ttest: 6131.7436473\tbest: 6131.7436473 (0)\ttotal: 22.5ms\tremaining: 2.22s\n",
      "1:\tlearn: 6003.5064833\ttest: 5991.0327153\tbest: 5991.0327153 (1)\ttotal: 47.3ms\tremaining: 2.31s\n",
      "2:\tlearn: 5866.7846746\ttest: 5854.4707984\tbest: 5854.4707984 (2)\ttotal: 69.6ms\tremaining: 2.25s\n",
      "3:\tlearn: 5735.5131131\ttest: 5722.8776728\tbest: 5722.8776728 (3)\ttotal: 91.2ms\tremaining: 2.19s\n",
      "4:\tlearn: 5606.1850326\ttest: 5593.2266964\tbest: 5593.2266964 (4)\ttotal: 113ms\tremaining: 2.15s\n",
      "5:\tlearn: 5481.3256660\ttest: 5468.2916983\tbest: 5468.2916983 (5)\ttotal: 134ms\tremaining: 2.1s\n",
      "6:\tlearn: 5360.0188743\ttest: 5346.6998186\tbest: 5346.6998186 (6)\ttotal: 154ms\tremaining: 2.04s\n",
      "7:\tlearn: 5243.8972990\ttest: 5230.7020804\tbest: 5230.7020804 (7)\ttotal: 175ms\tremaining: 2.01s\n",
      "8:\tlearn: 5131.4078892\ttest: 5117.8677372\tbest: 5117.8677372 (8)\ttotal: 200ms\tremaining: 2.02s\n",
      "9:\tlearn: 5025.9733700\ttest: 5012.1746100\tbest: 5012.1746100 (9)\ttotal: 226ms\tremaining: 2.04s\n",
      "10:\tlearn: 4923.2250173\ttest: 4909.7835337\tbest: 4909.7835337 (10)\ttotal: 248ms\tremaining: 2s\n",
      "11:\tlearn: 4825.0126674\ttest: 4811.5139133\tbest: 4811.5139133 (11)\ttotal: 272ms\tremaining: 1.99s\n",
      "12:\tlearn: 4729.6232280\ttest: 4716.0525027\tbest: 4716.0525027 (12)\ttotal: 293ms\tremaining: 1.96s\n",
      "13:\tlearn: 4638.2771961\ttest: 4624.9642599\tbest: 4624.9642599 (13)\ttotal: 315ms\tremaining: 1.93s\n",
      "14:\tlearn: 4549.4593783\ttest: 4536.3965431\tbest: 4536.3965431 (14)\ttotal: 346ms\tremaining: 1.96s\n",
      "15:\tlearn: 4462.4743272\ttest: 4449.5583938\tbest: 4449.5583938 (15)\ttotal: 373ms\tremaining: 1.96s\n",
      "16:\tlearn: 4379.3937980\ttest: 4366.7453189\tbest: 4366.7453189 (16)\ttotal: 396ms\tremaining: 1.93s\n",
      "17:\tlearn: 4297.1291038\ttest: 4284.1557551\tbest: 4284.1557551 (17)\ttotal: 435ms\tremaining: 1.98s\n",
      "18:\tlearn: 4220.9517049\ttest: 4208.0404843\tbest: 4208.0404843 (18)\ttotal: 464ms\tremaining: 1.98s\n",
      "19:\tlearn: 4146.7092943\ttest: 4133.8783683\tbest: 4133.8783683 (19)\ttotal: 499ms\tremaining: 2s\n",
      "20:\tlearn: 4073.3360433\ttest: 4060.4027370\tbest: 4060.4027370 (20)\ttotal: 523ms\tremaining: 1.97s\n",
      "21:\tlearn: 4004.8163942\ttest: 3991.8315927\tbest: 3991.8315927 (21)\ttotal: 546ms\tremaining: 1.94s\n",
      "22:\tlearn: 3939.4702071\ttest: 3926.2479185\tbest: 3926.2479185 (22)\ttotal: 585ms\tremaining: 1.96s\n",
      "23:\tlearn: 3876.8581286\ttest: 3863.7601367\tbest: 3863.7601367 (23)\ttotal: 616ms\tremaining: 1.95s\n",
      "24:\tlearn: 3813.4101215\ttest: 3800.2261419\tbest: 3800.2261419 (24)\ttotal: 648ms\tremaining: 1.94s\n",
      "25:\tlearn: 3752.0807683\ttest: 3738.4853743\tbest: 3738.4853743 (25)\ttotal: 668ms\tremaining: 1.9s\n",
      "26:\tlearn: 3693.2357809\ttest: 3679.5615027\tbest: 3679.5615027 (26)\ttotal: 688ms\tremaining: 1.86s\n",
      "27:\tlearn: 3637.0499447\ttest: 3623.2825951\tbest: 3623.2825951 (27)\ttotal: 712ms\tremaining: 1.83s\n",
      "28:\tlearn: 3584.6355715\ttest: 3570.9417867\tbest: 3570.9417867 (28)\ttotal: 736ms\tremaining: 1.8s\n",
      "29:\tlearn: 3534.6903955\ttest: 3521.1033304\tbest: 3521.1033304 (29)\ttotal: 758ms\tremaining: 1.77s\n",
      "30:\tlearn: 3486.5825770\ttest: 3472.8173586\tbest: 3472.8173586 (30)\ttotal: 777ms\tremaining: 1.73s\n",
      "31:\tlearn: 3440.2705412\ttest: 3426.4010500\tbest: 3426.4010500 (31)\ttotal: 795ms\tremaining: 1.69s\n",
      "32:\tlearn: 3396.3535836\ttest: 3382.2928379\tbest: 3382.2928379 (32)\ttotal: 813ms\tremaining: 1.65s\n",
      "33:\tlearn: 3354.5778419\ttest: 3340.3298010\tbest: 3340.3298010 (33)\ttotal: 831ms\tremaining: 1.61s\n",
      "34:\tlearn: 3314.7393540\ttest: 3300.4865273\tbest: 3300.4865273 (34)\ttotal: 849ms\tremaining: 1.58s\n",
      "35:\tlearn: 3274.9216730\ttest: 3260.7539782\tbest: 3260.7539782 (35)\ttotal: 876ms\tremaining: 1.56s\n",
      "36:\tlearn: 3237.3398566\ttest: 3222.9650887\tbest: 3222.9650887 (36)\ttotal: 900ms\tremaining: 1.53s\n",
      "37:\tlearn: 3201.1550505\ttest: 3186.7673641\tbest: 3186.7673641 (37)\ttotal: 920ms\tremaining: 1.5s\n",
      "38:\tlearn: 3163.7835092\ttest: 3149.2249000\tbest: 3149.2249000 (38)\ttotal: 939ms\tremaining: 1.47s\n",
      "39:\tlearn: 3128.2004694\ttest: 3113.4046897\tbest: 3113.4046897 (39)\ttotal: 958ms\tremaining: 1.44s\n",
      "40:\tlearn: 3096.1798759\ttest: 3081.3539632\tbest: 3081.3539632 (40)\ttotal: 978ms\tremaining: 1.41s\n",
      "41:\tlearn: 3065.0114391\ttest: 3050.0632338\tbest: 3050.0632338 (41)\ttotal: 996ms\tremaining: 1.38s\n",
      "42:\tlearn: 3033.2444131\ttest: 3018.2721337\tbest: 3018.2721337 (42)\ttotal: 1.01s\tremaining: 1.34s\n",
      "43:\tlearn: 3006.1153515\ttest: 2990.9801388\tbest: 2990.9801388 (43)\ttotal: 1.03s\tremaining: 1.31s\n",
      "44:\tlearn: 2978.4509995\ttest: 2963.1872638\tbest: 2963.1872638 (44)\ttotal: 1.05s\tremaining: 1.29s\n",
      "45:\tlearn: 2949.9038052\ttest: 2934.4497949\tbest: 2934.4497949 (45)\ttotal: 1.08s\tremaining: 1.26s\n",
      "46:\tlearn: 2925.2202027\ttest: 2909.6012750\tbest: 2909.6012750 (46)\ttotal: 1.1s\tremaining: 1.24s\n",
      "47:\tlearn: 2901.1661317\ttest: 2885.6894029\tbest: 2885.6894029 (47)\ttotal: 1.11s\tremaining: 1.21s\n",
      "48:\tlearn: 2875.9234931\ttest: 2860.2432171\tbest: 2860.2432171 (48)\ttotal: 1.13s\tremaining: 1.18s\n",
      "49:\tlearn: 2852.0592498\ttest: 2836.2099782\tbest: 2836.2099782 (49)\ttotal: 1.16s\tremaining: 1.16s\n",
      "50:\tlearn: 2829.6711335\ttest: 2813.5924193\tbest: 2813.5924193 (50)\ttotal: 1.18s\tremaining: 1.13s\n",
      "51:\tlearn: 2809.2837316\ttest: 2793.0606096\tbest: 2793.0606096 (51)\ttotal: 1.2s\tremaining: 1.11s\n",
      "52:\tlearn: 2787.4078980\ttest: 2771.0426339\tbest: 2771.0426339 (52)\ttotal: 1.22s\tremaining: 1.08s\n",
      "53:\tlearn: 2766.6545918\ttest: 2750.1521234\tbest: 2750.1521234 (53)\ttotal: 1.24s\tremaining: 1.05s\n",
      "54:\tlearn: 2748.5540898\ttest: 2732.0450837\tbest: 2732.0450837 (54)\ttotal: 1.25s\tremaining: 1.03s\n",
      "55:\tlearn: 2729.2708790\ttest: 2712.6016332\tbest: 2712.6016332 (55)\ttotal: 1.27s\tremaining: 1s\n",
      "56:\tlearn: 2712.7066645\ttest: 2696.0708042\tbest: 2696.0708042 (56)\ttotal: 1.3s\tremaining: 981ms\n",
      "57:\tlearn: 2695.2580270\ttest: 2678.5127880\tbest: 2678.5127880 (57)\ttotal: 1.33s\tremaining: 963ms\n",
      "58:\tlearn: 2679.3983481\ttest: 2662.7476653\tbest: 2662.7476653 (58)\ttotal: 1.35s\tremaining: 939ms\n",
      "59:\tlearn: 2662.3588219\ttest: 2645.7389609\tbest: 2645.7389609 (59)\ttotal: 1.37s\tremaining: 916ms\n",
      "60:\tlearn: 2647.8704981\ttest: 2631.4397625\tbest: 2631.4397625 (60)\ttotal: 1.39s\tremaining: 891ms\n",
      "61:\tlearn: 2633.4038630\ttest: 2616.8890450\tbest: 2616.8890450 (61)\ttotal: 1.42s\tremaining: 868ms\n",
      "62:\tlearn: 2618.4976596\ttest: 2601.9105762\tbest: 2601.9105762 (62)\ttotal: 1.44s\tremaining: 843ms\n",
      "63:\tlearn: 2605.4880373\ttest: 2588.7714252\tbest: 2588.7714252 (63)\ttotal: 1.46s\tremaining: 823ms\n",
      "64:\tlearn: 2592.1696094\ttest: 2575.2136972\tbest: 2575.2136972 (64)\ttotal: 1.48s\tremaining: 799ms\n",
      "65:\tlearn: 2580.3133355\ttest: 2563.2054143\tbest: 2563.2054143 (65)\ttotal: 1.51s\tremaining: 776ms\n",
      "66:\tlearn: 2568.3237728\ttest: 2551.2938796\tbest: 2551.2938796 (66)\ttotal: 1.53s\tremaining: 752ms\n",
      "67:\tlearn: 2555.8787430\ttest: 2538.7011058\tbest: 2538.7011058 (67)\ttotal: 1.55s\tremaining: 730ms\n",
      "68:\tlearn: 2543.7438089\ttest: 2526.5817518\tbest: 2526.5817518 (68)\ttotal: 1.58s\tremaining: 711ms\n",
      "69:\tlearn: 2532.8700826\ttest: 2515.8293057\tbest: 2515.8293057 (69)\ttotal: 1.6s\tremaining: 687ms\n",
      "70:\tlearn: 2522.3971575\ttest: 2505.4339677\tbest: 2505.4339677 (70)\ttotal: 1.63s\tremaining: 667ms\n",
      "71:\tlearn: 2511.7220434\ttest: 2494.7997732\tbest: 2494.7997732 (71)\ttotal: 1.66s\tremaining: 645ms\n",
      "72:\tlearn: 2502.0629209\ttest: 2485.2104839\tbest: 2485.2104839 (72)\ttotal: 1.68s\tremaining: 621ms\n",
      "73:\tlearn: 2492.1629912\ttest: 2475.2565617\tbest: 2475.2565617 (73)\ttotal: 1.71s\tremaining: 600ms\n",
      "74:\tlearn: 2483.1568593\ttest: 2466.2135605\tbest: 2466.2135605 (74)\ttotal: 1.73s\tremaining: 577ms\n",
      "75:\tlearn: 2474.3193920\ttest: 2457.2010945\tbest: 2457.2010945 (75)\ttotal: 1.75s\tremaining: 554ms\n",
      "76:\tlearn: 2465.9787251\ttest: 2448.9770862\tbest: 2448.9770862 (76)\ttotal: 1.77s\tremaining: 530ms\n",
      "77:\tlearn: 2457.8263258\ttest: 2440.9451759\tbest: 2440.9451759 (77)\ttotal: 1.81s\tremaining: 510ms\n",
      "78:\tlearn: 2449.8871555\ttest: 2433.0378152\tbest: 2433.0378152 (78)\ttotal: 1.83s\tremaining: 486ms\n",
      "79:\tlearn: 2441.8382472\ttest: 2424.9456323\tbest: 2424.9456323 (79)\ttotal: 1.85s\tremaining: 462ms\n",
      "80:\tlearn: 2433.8672416\ttest: 2417.0759045\tbest: 2417.0759045 (80)\ttotal: 1.87s\tremaining: 439ms\n",
      "81:\tlearn: 2427.0056377\ttest: 2410.2818181\tbest: 2410.2818181 (81)\ttotal: 1.91s\tremaining: 418ms\n",
      "82:\tlearn: 2419.4872224\ttest: 2402.8195363\tbest: 2402.8195363 (82)\ttotal: 1.93s\tremaining: 394ms\n",
      "83:\tlearn: 2412.2337430\ttest: 2395.6400447\tbest: 2395.6400447 (83)\ttotal: 1.95s\tremaining: 372ms\n",
      "84:\tlearn: 2405.4924037\ttest: 2388.8473684\tbest: 2388.8473684 (84)\ttotal: 1.97s\tremaining: 348ms\n",
      "85:\tlearn: 2398.6416794\ttest: 2381.8795367\tbest: 2381.8795367 (85)\ttotal: 2s\tremaining: 326ms\n",
      "86:\tlearn: 2392.6780332\ttest: 2375.8315903\tbest: 2375.8315903 (86)\ttotal: 2.02s\tremaining: 302ms\n",
      "87:\tlearn: 2386.7541693\ttest: 2370.0147224\tbest: 2370.0147224 (87)\ttotal: 2.05s\tremaining: 280ms\n",
      "88:\tlearn: 2381.0825373\ttest: 2364.3174955\tbest: 2364.3174955 (88)\ttotal: 2.08s\tremaining: 256ms\n",
      "89:\tlearn: 2375.4529252\ttest: 2358.8504067\tbest: 2358.8504067 (89)\ttotal: 2.09s\tremaining: 233ms\n",
      "90:\tlearn: 2370.1617645\ttest: 2353.7542202\tbest: 2353.7542202 (90)\ttotal: 2.11s\tremaining: 209ms\n",
      "91:\tlearn: 2364.8248662\ttest: 2348.5181971\tbest: 2348.5181971 (91)\ttotal: 2.14s\tremaining: 186ms\n",
      "92:\tlearn: 2359.1527982\ttest: 2342.7848737\tbest: 2342.7848737 (92)\ttotal: 2.16s\tremaining: 162ms\n",
      "93:\tlearn: 2354.3654024\ttest: 2337.9158134\tbest: 2337.9158134 (93)\ttotal: 2.18s\tremaining: 139ms\n",
      "94:\tlearn: 2349.3925390\ttest: 2332.8597998\tbest: 2332.8597998 (94)\ttotal: 2.2s\tremaining: 116ms\n",
      "95:\tlearn: 2344.9358872\ttest: 2328.5698540\tbest: 2328.5698540 (95)\ttotal: 2.22s\tremaining: 92.7ms\n",
      "96:\tlearn: 2340.0304274\ttest: 2323.6671311\tbest: 2323.6671311 (96)\ttotal: 2.25s\tremaining: 69.6ms\n",
      "97:\tlearn: 2335.8481652\ttest: 2319.3781506\tbest: 2319.3781506 (97)\ttotal: 2.28s\tremaining: 46.6ms\n",
      "98:\tlearn: 2331.2853728\ttest: 2314.7585170\tbest: 2314.7585170 (98)\ttotal: 2.31s\tremaining: 23.3ms\n",
      "99:\tlearn: 2326.7423660\ttest: 2310.2321515\tbest: 2310.2321515 (99)\ttotal: 2.34s\tremaining: 0us\n",
      "\n",
      "bestTest = 2310.232152\n",
      "bestIteration = 99\n",
      "\n",
      "3:\tloss: 2310.2321515\tbest: 2310.2321515 (3)\ttotal: 6.55s\tremaining: 37.6s\n",
      "0:\tlearn: 6144.5134744\ttest: 6131.7671422\tbest: 6131.7671422 (0)\ttotal: 28.1ms\tremaining: 2.79s\n",
      "1:\tlearn: 6003.5602006\ttest: 5991.0862894\tbest: 5991.0862894 (1)\ttotal: 47.3ms\tremaining: 2.32s\n",
      "2:\tlearn: 5866.8592783\ttest: 5854.5451331\tbest: 5854.5451331 (2)\ttotal: 66.5ms\tremaining: 2.15s\n",
      "3:\tlearn: 5735.6133988\ttest: 5722.9771202\tbest: 5722.9771202 (3)\ttotal: 84.8ms\tremaining: 2.04s\n",
      "4:\tlearn: 5606.3036416\ttest: 5593.3444671\tbest: 5593.3444671 (4)\ttotal: 103ms\tremaining: 1.96s\n",
      "5:\tlearn: 5481.4555403\ttest: 5468.4207512\tbest: 5468.4207512 (5)\ttotal: 122ms\tremaining: 1.91s\n",
      "6:\tlearn: 5360.1661441\ttest: 5346.8463081\tbest: 5346.8463081 (6)\ttotal: 140ms\tremaining: 1.86s\n",
      "7:\tlearn: 5244.0534818\ttest: 5230.8575235\tbest: 5230.8575235 (7)\ttotal: 160ms\tremaining: 1.84s\n",
      "8:\tlearn: 5131.5763609\ttest: 5118.0355735\tbest: 5118.0355735 (8)\ttotal: 183ms\tremaining: 1.85s\n",
      "9:\tlearn: 5026.1602798\ttest: 5012.3611110\tbest: 5012.3611110 (9)\ttotal: 209ms\tremaining: 1.88s\n",
      "10:\tlearn: 4923.4259282\ttest: 4909.9838151\tbest: 4909.9838151 (10)\ttotal: 240ms\tremaining: 1.94s\n",
      "11:\tlearn: 4825.2292842\ttest: 4811.7297565\tbest: 4811.7297565 (11)\ttotal: 262ms\tremaining: 1.92s\n",
      "12:\tlearn: 4729.8620679\ttest: 4716.2906433\tbest: 4716.2906433 (12)\ttotal: 286ms\tremaining: 1.91s\n",
      "13:\tlearn: 4638.5201337\ttest: 4625.2064183\tbest: 4625.2064183 (13)\ttotal: 312ms\tremaining: 1.91s\n",
      "14:\tlearn: 4549.7106614\ttest: 4536.6470492\tbest: 4536.6470492 (14)\ttotal: 352ms\tremaining: 2s\n",
      "15:\tlearn: 4462.7363885\ttest: 4449.8191142\tbest: 4449.8191142 (15)\ttotal: 397ms\tremaining: 2.08s\n",
      "16:\tlearn: 4379.6639049\ttest: 4367.0135356\tbest: 4367.0135356 (16)\ttotal: 441ms\tremaining: 2.15s\n",
      "17:\tlearn: 4297.4046181\ttest: 4284.4294843\tbest: 4284.4294843 (17)\ttotal: 475ms\tremaining: 2.17s\n",
      "18:\tlearn: 4221.2329816\ttest: 4208.3200075\tbest: 4208.3200075 (18)\ttotal: 516ms\tremaining: 2.2s\n",
      "19:\tlearn: 4146.9929011\ttest: 4134.1600673\tbest: 4134.1600673 (19)\ttotal: 540ms\tremaining: 2.16s\n",
      "20:\tlearn: 4073.6204695\ttest: 4060.6852621\tbest: 4060.6852621 (20)\ttotal: 563ms\tremaining: 2.12s\n",
      "21:\tlearn: 4005.1046003\ttest: 3992.1175020\tbest: 3992.1175020 (21)\ttotal: 584ms\tremaining: 2.07s\n",
      "22:\tlearn: 3939.7595007\ttest: 3926.5350398\tbest: 3926.5350398 (22)\ttotal: 605ms\tremaining: 2.03s\n",
      "23:\tlearn: 3877.1477949\ttest: 3864.0471636\tbest: 3864.0471636 (23)\ttotal: 634ms\tremaining: 2.01s\n",
      "24:\tlearn: 3813.6979068\ttest: 3800.5113540\tbest: 3800.5113540 (24)\ttotal: 658ms\tremaining: 1.98s\n",
      "25:\tlearn: 3752.3671762\ttest: 3738.7693007\tbest: 3738.7693007 (25)\ttotal: 683ms\tremaining: 1.95s\n",
      "26:\tlearn: 3693.5195188\ttest: 3679.8428199\tbest: 3679.8428199 (26)\ttotal: 704ms\tremaining: 1.9s\n",
      "27:\tlearn: 3637.3338224\ttest: 3623.5639805\tbest: 3623.5639805 (27)\ttotal: 727ms\tremaining: 1.87s\n",
      "28:\tlearn: 3584.9176576\ttest: 3571.2214746\tbest: 3571.2214746 (28)\ttotal: 748ms\tremaining: 1.83s\n",
      "29:\tlearn: 3534.9688905\ttest: 3521.3794754\tbest: 3521.3794754 (29)\ttotal: 772ms\tremaining: 1.8s\n",
      "30:\tlearn: 3486.8590128\ttest: 3473.0911759\tbest: 3473.0911759 (30)\ttotal: 795ms\tremaining: 1.77s\n",
      "31:\tlearn: 3440.8222395\ttest: 3426.8676454\tbest: 3426.8676454 (31)\ttotal: 817ms\tremaining: 1.74s\n",
      "32:\tlearn: 3397.2712121\ttest: 3383.3499949\tbest: 3383.3499949 (32)\ttotal: 844ms\tremaining: 1.71s\n",
      "33:\tlearn: 3355.3748601\ttest: 3341.2678124\tbest: 3341.2678124 (33)\ttotal: 869ms\tremaining: 1.69s\n",
      "34:\tlearn: 3315.4878237\ttest: 3301.3757535\tbest: 3301.3757535 (34)\ttotal: 891ms\tremaining: 1.65s\n",
      "35:\tlearn: 3273.6989120\ttest: 3259.3294520\tbest: 3259.3294520 (35)\ttotal: 914ms\tremaining: 1.62s\n",
      "36:\tlearn: 3233.7211143\ttest: 3218.9814424\tbest: 3218.9814424 (36)\ttotal: 944ms\tremaining: 1.61s\n",
      "37:\tlearn: 3196.9963615\ttest: 3182.2847726\tbest: 3182.2847726 (37)\ttotal: 982ms\tremaining: 1.6s\n",
      "38:\tlearn: 3160.1286843\ttest: 3145.2465604\tbest: 3145.2465604 (38)\ttotal: 1s\tremaining: 1.57s\n",
      "39:\tlearn: 3124.7362548\ttest: 3109.6189372\tbest: 3109.6189372 (39)\ttotal: 1.03s\tremaining: 1.55s\n",
      "40:\tlearn: 3092.8463901\ttest: 3077.7013355\tbest: 3077.7013355 (40)\ttotal: 1.06s\tremaining: 1.52s\n",
      "41:\tlearn: 3061.3704411\ttest: 3046.1052649\tbest: 3046.1052649 (41)\ttotal: 1.08s\tremaining: 1.5s\n",
      "42:\tlearn: 3032.0445940\ttest: 3016.8637245\tbest: 3016.8637245 (42)\ttotal: 1.1s\tremaining: 1.47s\n",
      "43:\tlearn: 3001.5518887\ttest: 2986.1957836\tbest: 2986.1957836 (43)\ttotal: 1.13s\tremaining: 1.44s\n",
      "44:\tlearn: 2973.7373760\ttest: 2958.2489401\tbest: 2958.2489401 (44)\ttotal: 1.15s\tremaining: 1.41s\n",
      "45:\tlearn: 2945.3719851\ttest: 2929.6925434\tbest: 2929.6925434 (45)\ttotal: 1.17s\tremaining: 1.37s\n",
      "46:\tlearn: 2920.4561068\ttest: 2904.8721741\tbest: 2904.8721741 (46)\ttotal: 1.2s\tremaining: 1.36s\n",
      "47:\tlearn: 2896.2141434\ttest: 2880.7743473\tbest: 2880.7743473 (47)\ttotal: 1.23s\tremaining: 1.33s\n",
      "48:\tlearn: 2871.5094826\ttest: 2855.8633978\tbest: 2855.8633978 (48)\ttotal: 1.27s\tremaining: 1.32s\n",
      "49:\tlearn: 2848.1017827\ttest: 2832.2838144\tbest: 2832.2838144 (49)\ttotal: 1.3s\tremaining: 1.3s\n",
      "50:\tlearn: 2826.0416518\ttest: 2809.9948127\tbest: 2809.9948127 (50)\ttotal: 1.35s\tremaining: 1.29s\n",
      "51:\tlearn: 2805.4292564\ttest: 2789.3776173\tbest: 2789.3776173 (51)\ttotal: 1.37s\tremaining: 1.27s\n",
      "52:\tlearn: 2783.7467889\ttest: 2767.5460084\tbest: 2767.5460084 (52)\ttotal: 1.41s\tremaining: 1.25s\n",
      "53:\tlearn: 2763.1566497\ttest: 2746.8114087\tbest: 2746.8114087 (53)\ttotal: 1.43s\tremaining: 1.22s\n",
      "54:\tlearn: 2745.1003774\ttest: 2728.7486265\tbest: 2728.7486265 (54)\ttotal: 1.45s\tremaining: 1.18s\n",
      "55:\tlearn: 2726.1130996\ttest: 2709.6065318\tbest: 2709.6065318 (55)\ttotal: 1.46s\tremaining: 1.15s\n",
      "56:\tlearn: 2709.2939623\ttest: 2692.8316479\tbest: 2692.8316479 (56)\ttotal: 1.49s\tremaining: 1.12s\n",
      "57:\tlearn: 2691.8158195\ttest: 2675.2408210\tbest: 2675.2408210 (57)\ttotal: 1.52s\tremaining: 1.1s\n",
      "58:\tlearn: 2676.2095254\ttest: 2659.6043707\tbest: 2659.6043707 (58)\ttotal: 1.54s\tremaining: 1.07s\n",
      "59:\tlearn: 2659.1926296\ttest: 2642.5450782\tbest: 2642.5450782 (59)\ttotal: 1.56s\tremaining: 1.04s\n",
      "60:\tlearn: 2643.6967445\ttest: 2626.8870569\tbest: 2626.8870569 (60)\ttotal: 1.58s\tremaining: 1.01s\n",
      "61:\tlearn: 2629.4139590\ttest: 2612.5165860\tbest: 2612.5165860 (61)\ttotal: 1.61s\tremaining: 986ms\n",
      "62:\tlearn: 2614.4541837\ttest: 2597.5817019\tbest: 2597.5817019 (62)\ttotal: 1.63s\tremaining: 959ms\n",
      "63:\tlearn: 2601.2080243\ttest: 2584.3715512\tbest: 2584.3715512 (63)\ttotal: 1.65s\tremaining: 931ms\n",
      "64:\tlearn: 2588.1108092\ttest: 2571.1588820\tbest: 2571.1588820 (64)\ttotal: 1.68s\tremaining: 903ms\n",
      "65:\tlearn: 2576.3078885\ttest: 2559.2041118\tbest: 2559.2041118 (65)\ttotal: 1.7s\tremaining: 877ms\n",
      "66:\tlearn: 2564.0772243\ttest: 2546.9755271\tbest: 2546.9755271 (66)\ttotal: 1.73s\tremaining: 852ms\n",
      "67:\tlearn: 2552.8585801\ttest: 2535.7889447\tbest: 2535.7889447 (67)\ttotal: 1.75s\tremaining: 824ms\n",
      "68:\tlearn: 2540.9922752\ttest: 2524.0519465\tbest: 2524.0519465 (68)\ttotal: 1.77s\tremaining: 798ms\n",
      "69:\tlearn: 2530.7843188\ttest: 2513.8530965\tbest: 2513.8530965 (69)\ttotal: 1.8s\tremaining: 773ms\n",
      "70:\tlearn: 2519.3131839\ttest: 2502.4042345\tbest: 2502.4042345 (70)\ttotal: 1.82s\tremaining: 744ms\n",
      "71:\tlearn: 2508.7398434\ttest: 2491.7951198\tbest: 2491.7951198 (71)\ttotal: 1.87s\tremaining: 726ms\n",
      "72:\tlearn: 2499.3520027\ttest: 2482.4754935\tbest: 2482.4754935 (72)\ttotal: 1.92s\tremaining: 710ms\n",
      "73:\tlearn: 2489.4354452\ttest: 2472.4970713\tbest: 2472.4970713 (73)\ttotal: 1.95s\tremaining: 687ms\n",
      "74:\tlearn: 2480.1533456\ttest: 2463.1898571\tbest: 2463.1898571 (74)\ttotal: 1.98s\tremaining: 659ms\n",
      "75:\tlearn: 2471.1429380\ttest: 2454.0569758\tbest: 2454.0569758 (75)\ttotal: 2.04s\tremaining: 645ms\n",
      "76:\tlearn: 2462.8245978\ttest: 2445.8584091\tbest: 2445.8584091 (76)\ttotal: 2.08s\tremaining: 621ms\n",
      "77:\tlearn: 2454.5403991\ttest: 2437.5121353\tbest: 2437.5121353 (77)\ttotal: 2.1s\tremaining: 593ms\n",
      "78:\tlearn: 2446.5881685\ttest: 2429.6147076\tbest: 2429.6147076 (78)\ttotal: 2.13s\tremaining: 566ms\n",
      "79:\tlearn: 2438.6299967\ttest: 2421.6138585\tbest: 2421.6138585 (79)\ttotal: 2.15s\tremaining: 538ms\n",
      "80:\tlearn: 2430.7532099\ttest: 2413.8347243\tbest: 2413.8347243 (80)\ttotal: 2.17s\tremaining: 510ms\n",
      "81:\tlearn: 2424.0708357\ttest: 2407.0578212\tbest: 2407.0578212 (81)\ttotal: 2.2s\tremaining: 482ms\n",
      "82:\tlearn: 2416.0589825\ttest: 2399.1144237\tbest: 2399.1144237 (82)\ttotal: 2.22s\tremaining: 455ms\n",
      "83:\tlearn: 2408.7065291\ttest: 2391.8285201\tbest: 2391.8285201 (83)\ttotal: 2.24s\tremaining: 427ms\n",
      "84:\tlearn: 2401.8462938\ttest: 2384.9137709\tbest: 2384.9137709 (84)\ttotal: 2.26s\tremaining: 399ms\n",
      "85:\tlearn: 2395.2017735\ttest: 2378.2647131\tbest: 2378.2647131 (85)\ttotal: 2.28s\tremaining: 371ms\n",
      "86:\tlearn: 2388.8634002\ttest: 2371.8578132\tbest: 2371.8578132 (86)\ttotal: 2.3s\tremaining: 344ms\n",
      "87:\tlearn: 2382.5742716\ttest: 2365.3454815\tbest: 2365.3454815 (87)\ttotal: 2.32s\tremaining: 317ms\n",
      "88:\tlearn: 2376.5676476\ttest: 2359.2878529\tbest: 2359.2878529 (88)\ttotal: 2.35s\tremaining: 290ms\n",
      "89:\tlearn: 2371.0550853\ttest: 2354.0013498\tbest: 2354.0013498 (89)\ttotal: 2.37s\tremaining: 264ms\n",
      "90:\tlearn: 2365.4630600\ttest: 2348.2913845\tbest: 2348.2913845 (90)\ttotal: 2.4s\tremaining: 237ms\n",
      "91:\tlearn: 2360.1869997\ttest: 2343.0153089\tbest: 2343.0153089 (91)\ttotal: 2.42s\tremaining: 210ms\n",
      "92:\tlearn: 2355.1967715\ttest: 2338.1720491\tbest: 2338.1720491 (92)\ttotal: 2.44s\tremaining: 183ms\n",
      "93:\tlearn: 2350.4000772\ttest: 2333.2949447\tbest: 2333.2949447 (93)\ttotal: 2.45s\tremaining: 157ms\n",
      "94:\tlearn: 2345.2175806\ttest: 2328.0694259\tbest: 2328.0694259 (94)\ttotal: 2.48s\tremaining: 130ms\n",
      "95:\tlearn: 2340.4988834\ttest: 2323.2820847\tbest: 2323.2820847 (95)\ttotal: 2.5s\tremaining: 104ms\n",
      "96:\tlearn: 2335.6933566\ttest: 2318.4828689\tbest: 2318.4828689 (96)\ttotal: 2.52s\tremaining: 77.8ms\n",
      "97:\tlearn: 2331.4634194\ttest: 2314.4038188\tbest: 2314.4038188 (97)\ttotal: 2.53s\tremaining: 51.7ms\n",
      "98:\tlearn: 2326.9298241\ttest: 2309.8144104\tbest: 2309.8144104 (98)\ttotal: 2.56s\tremaining: 25.9ms\n",
      "99:\tlearn: 2322.9633618\ttest: 2305.8566123\tbest: 2305.8566123 (99)\ttotal: 2.58s\tremaining: 0us\n",
      "\n",
      "bestTest = 2305.856612\n",
      "bestIteration = 99\n",
      "\n",
      "4:\tloss: 2305.8566123\tbest: 2305.8566123 (4)\ttotal: 9.19s\tremaining: 40.4s\n",
      "0:\tlearn: 6144.5370906\ttest: 6131.7906224\tbest: 6131.7906224 (0)\ttotal: 32.1ms\tremaining: 3.17s\n",
      "1:\tlearn: 6003.6138690\ttest: 5991.1398136\tbest: 5991.1398136 (1)\ttotal: 52.3ms\tremaining: 2.56s\n",
      "2:\tlearn: 5866.9338255\ttest: 5854.6194104\tbest: 5854.6194104 (2)\ttotal: 75.2ms\tremaining: 2.43s\n",
      "3:\tlearn: 5735.7135865\ttest: 5723.0764745\tbest: 5723.0764745 (3)\ttotal: 97ms\tremaining: 2.33s\n",
      "4:\tlearn: 5606.4221457\ttest: 5593.4621379\tbest: 5593.4621379 (4)\ttotal: 120ms\tremaining: 2.27s\n",
      "5:\tlearn: 5481.5853097\ttest: 5468.5497043\tbest: 5468.5497043 (5)\ttotal: 143ms\tremaining: 2.23s\n",
      "6:\tlearn: 5360.3133004\ttest: 5346.9926893\tbest: 5346.9926893 (6)\ttotal: 167ms\tremaining: 2.22s\n",
      "7:\tlearn: 5244.2095518\ttest: 5231.0128587\tbest: 5231.0128587 (7)\ttotal: 192ms\tremaining: 2.2s\n",
      "8:\tlearn: 5131.7447160\ttest: 5118.2032981\tbest: 5118.2032981 (8)\ttotal: 211ms\tremaining: 2.13s\n",
      "9:\tlearn: 5026.3470580\ttest: 5012.5474854\tbest: 5012.5474854 (9)\ttotal: 237ms\tremaining: 2.13s\n",
      "10:\tlearn: 4923.6266967\ttest: 4910.1839592\tbest: 4910.1839592 (10)\ttotal: 256ms\tremaining: 2.07s\n",
      "11:\tlearn: 4825.4457395\ttest: 4811.9454438\tbest: 4811.9454438 (11)\ttotal: 275ms\tremaining: 2.01s\n",
      "12:\tlearn: 4730.1007010\ttest: 4716.5285879\tbest: 4716.5285879 (12)\ttotal: 295ms\tremaining: 1.98s\n",
      "13:\tlearn: 4638.7628739\ttest: 4625.4483900\tbest: 4625.4483900 (13)\ttotal: 315ms\tremaining: 1.93s\n",
      "14:\tlearn: 4549.9617479\ttest: 4536.8973693\tbest: 4536.8973693 (14)\ttotal: 335ms\tremaining: 1.9s\n",
      "15:\tlearn: 4462.9982502\ttest: 4450.0796465\tbest: 4450.0796465 (15)\ttotal: 355ms\tremaining: 1.86s\n",
      "16:\tlearn: 4379.9338116\ttest: 4367.2815650\tbest: 4367.2815650 (16)\ttotal: 375ms\tremaining: 1.83s\n",
      "17:\tlearn: 4297.6799363\ttest: 4284.7030304\tbest: 4284.7030304 (17)\ttotal: 400ms\tremaining: 1.82s\n",
      "18:\tlearn: 4221.5140630\ttest: 4208.5993493\tbest: 4208.5993493 (18)\ttotal: 423ms\tremaining: 1.8s\n",
      "19:\tlearn: 4147.2763226\ttest: 4134.4415949\tbest: 4134.4415949 (19)\ttotal: 443ms\tremaining: 1.77s\n",
      "20:\tlearn: 4073.9047180\ttest: 4060.9676235\tbest: 4060.9676235 (20)\ttotal: 462ms\tremaining: 1.74s\n",
      "21:\tlearn: 4005.3926292\ttest: 3992.4032502\tbest: 3992.4032502 (21)\ttotal: 480ms\tremaining: 1.7s\n",
      "22:\tlearn: 3940.0486221\ttest: 3926.8220050\tbest: 3926.8220050 (22)\ttotal: 500ms\tremaining: 1.67s\n",
      "23:\tlearn: 3877.4372937\ttest: 3864.3340408\tbest: 3864.3340408 (23)\ttotal: 525ms\tremaining: 1.66s\n",
      "24:\tlearn: 3813.9855317\ttest: 3800.7964237\tbest: 3800.7964237 (24)\ttotal: 549ms\tremaining: 1.65s\n",
      "25:\tlearn: 3752.6534313\ttest: 3739.0530925\tbest: 3739.0530925 (25)\ttotal: 572ms\tremaining: 1.63s\n",
      "26:\tlearn: 3693.8031110\ttest: 3680.1240098\tbest: 3680.1240098 (26)\ttotal: 598ms\tremaining: 1.62s\n",
      "27:\tlearn: 3637.6175487\ttest: 3623.8452332\tbest: 3623.8452332 (27)\ttotal: 618ms\tremaining: 1.59s\n",
      "28:\tlearn: 3585.1995994\ttest: 3571.5010365\tbest: 3571.5010365 (28)\ttotal: 638ms\tremaining: 1.56s\n",
      "29:\tlearn: 3535.2472496\ttest: 3521.6555029\tbest: 3521.6555029 (29)\ttotal: 660ms\tremaining: 1.54s\n",
      "30:\tlearn: 3487.1353211\ttest: 3473.3648851\tbest: 3473.3648851 (30)\ttotal: 682ms\tremaining: 1.52s\n",
      "31:\tlearn: 3441.0949783\ttest: 3427.1378674\tbest: 3427.1378674 (31)\ttotal: 703ms\tremaining: 1.49s\n",
      "32:\tlearn: 3397.5394928\ttest: 3383.6158116\tbest: 3383.6158116 (32)\ttotal: 723ms\tremaining: 1.47s\n",
      "33:\tlearn: 3355.6406975\ttest: 3341.5312929\tbest: 3341.5312929 (33)\ttotal: 744ms\tremaining: 1.44s\n",
      "34:\tlearn: 3315.7552151\ttest: 3301.6406029\tbest: 3301.6406029 (34)\ttotal: 764ms\tremaining: 1.42s\n",
      "35:\tlearn: 3273.9627806\ttest: 3259.5908261\tbest: 3259.5908261 (35)\ttotal: 784ms\tremaining: 1.39s\n",
      "36:\tlearn: 3233.9820745\ttest: 3219.2399967\tbest: 3219.2399967 (36)\ttotal: 808ms\tremaining: 1.37s\n",
      "37:\tlearn: 3197.2527140\ttest: 3182.5388418\tbest: 3182.5388418 (37)\ttotal: 829ms\tremaining: 1.35s\n",
      "38:\tlearn: 3160.3826318\ttest: 3145.4982945\tbest: 3145.4982945 (38)\ttotal: 851ms\tremaining: 1.33s\n",
      "39:\tlearn: 3124.9889015\ttest: 3109.8720225\tbest: 3109.8720225 (39)\ttotal: 873ms\tremaining: 1.31s\n",
      "40:\tlearn: 3093.0941051\ttest: 3077.9496251\tbest: 3077.9496251 (40)\ttotal: 898ms\tremaining: 1.29s\n",
      "41:\tlearn: 3061.6164767\ttest: 3046.3518576\tbest: 3046.3518576 (41)\ttotal: 918ms\tremaining: 1.27s\n",
      "42:\tlearn: 3032.2907788\ttest: 3017.1104368\tbest: 3017.1104368 (42)\ttotal: 941ms\tremaining: 1.25s\n",
      "43:\tlearn: 3001.7975888\ttest: 2986.4419848\tbest: 2986.4419848 (43)\ttotal: 961ms\tremaining: 1.22s\n",
      "44:\tlearn: 2973.9773690\ttest: 2958.4894950\tbest: 2958.4894950 (44)\ttotal: 984ms\tremaining: 1.2s\n",
      "45:\tlearn: 2945.6069408\ttest: 2929.9281682\tbest: 2929.9281682 (45)\ttotal: 1s\tremaining: 1.18s\n",
      "46:\tlearn: 2920.6902581\ttest: 2905.1064749\tbest: 2905.1064749 (46)\ttotal: 1.04s\tremaining: 1.17s\n",
      "47:\tlearn: 2896.4449308\ttest: 2881.0049563\tbest: 2881.0049563 (47)\ttotal: 1.06s\tremaining: 1.15s\n",
      "48:\tlearn: 2871.7398192\ttest: 2856.0932826\tbest: 2856.0932826 (48)\ttotal: 1.08s\tremaining: 1.13s\n",
      "49:\tlearn: 2848.3285791\ttest: 2832.5102447\tbest: 2832.5102447 (49)\ttotal: 1.11s\tremaining: 1.11s\n",
      "50:\tlearn: 2826.2642068\ttest: 2810.2170633\tbest: 2810.2170633 (50)\ttotal: 1.13s\tremaining: 1.08s\n",
      "51:\tlearn: 2805.7635927\ttest: 2789.7190779\tbest: 2789.7190779 (51)\ttotal: 1.15s\tremaining: 1.06s\n",
      "52:\tlearn: 2784.0697070\ttest: 2767.8755425\tbest: 2767.8755425 (52)\ttotal: 1.18s\tremaining: 1.04s\n",
      "53:\tlearn: 2763.4685042\ttest: 2747.1293904\tbest: 2747.1293904 (53)\ttotal: 1.2s\tremaining: 1.02s\n",
      "54:\tlearn: 2745.3749091\ttest: 2729.0307824\tbest: 2729.0307824 (54)\ttotal: 1.22s\tremaining: 997ms\n",
      "55:\tlearn: 2726.3754045\ttest: 2709.8764698\tbest: 2709.8764698 (55)\ttotal: 1.24s\tremaining: 977ms\n",
      "56:\tlearn: 2709.5395359\ttest: 2693.0853494\tbest: 2693.0853494 (56)\ttotal: 1.27s\tremaining: 958ms\n",
      "57:\tlearn: 2692.0559366\ttest: 2675.4886229\tbest: 2675.4886229 (57)\ttotal: 1.29s\tremaining: 934ms\n",
      "58:\tlearn: 2676.4230283\ttest: 2659.8267623\tbest: 2659.8267623 (58)\ttotal: 1.31s\tremaining: 911ms\n",
      "59:\tlearn: 2659.4068774\ttest: 2642.7688790\tbest: 2642.7688790 (59)\ttotal: 1.33s\tremaining: 886ms\n",
      "60:\tlearn: 2643.8998374\ttest: 2627.0992655\tbest: 2627.0992655 (60)\ttotal: 1.35s\tremaining: 862ms\n",
      "61:\tlearn: 2629.6039798\ttest: 2612.7160940\tbest: 2612.7160940 (61)\ttotal: 1.37s\tremaining: 840ms\n",
      "62:\tlearn: 2614.6463099\ttest: 2597.7843454\tbest: 2597.7843454 (62)\ttotal: 1.39s\tremaining: 819ms\n",
      "63:\tlearn: 2601.3947787\ttest: 2584.5697339\tbest: 2584.5697339 (63)\ttotal: 1.41s\tremaining: 795ms\n",
      "64:\tlearn: 2588.2890939\ttest: 2571.3481774\tbest: 2571.3481774 (64)\ttotal: 1.43s\tremaining: 772ms\n",
      "65:\tlearn: 2576.4524013\ttest: 2559.3608815\tbest: 2559.3608815 (65)\ttotal: 1.45s\tremaining: 749ms\n",
      "66:\tlearn: 2564.2124434\ttest: 2547.1238093\tbest: 2547.1238093 (66)\ttotal: 1.47s\tremaining: 726ms\n",
      "67:\tlearn: 2553.0170870\ttest: 2535.9671819\tbest: 2535.9671819 (67)\ttotal: 1.5s\tremaining: 704ms\n",
      "68:\tlearn: 2540.7962050\ttest: 2523.7530944\tbest: 2523.7530944 (68)\ttotal: 1.52s\tremaining: 683ms\n",
      "69:\tlearn: 2530.6914961\ttest: 2513.5427882\tbest: 2513.5427882 (69)\ttotal: 1.54s\tremaining: 660ms\n",
      "70:\tlearn: 2520.1552080\ttest: 2503.0087428\tbest: 2503.0087428 (70)\ttotal: 1.56s\tremaining: 639ms\n",
      "71:\tlearn: 2509.3930327\ttest: 2492.2601188\tbest: 2492.2601188 (71)\ttotal: 1.58s\tremaining: 616ms\n",
      "72:\tlearn: 2499.4599417\ttest: 2482.4378291\tbest: 2482.4378291 (72)\ttotal: 1.61s\tremaining: 594ms\n",
      "73:\tlearn: 2489.5483588\ttest: 2472.4703374\tbest: 2472.4703374 (73)\ttotal: 1.63s\tremaining: 571ms\n",
      "74:\tlearn: 2480.1003754\ttest: 2462.9676396\tbest: 2462.9676396 (74)\ttotal: 1.65s\tremaining: 550ms\n",
      "75:\tlearn: 2471.0207227\ttest: 2453.7619417\tbest: 2453.7619417 (75)\ttotal: 1.67s\tremaining: 528ms\n",
      "76:\tlearn: 2462.7210658\ttest: 2445.5826541\tbest: 2445.5826541 (76)\ttotal: 1.7s\tremaining: 507ms\n",
      "77:\tlearn: 2454.2680475\ttest: 2437.3180248\tbest: 2437.3180248 (77)\ttotal: 1.71s\tremaining: 484ms\n",
      "78:\tlearn: 2446.1056131\ttest: 2429.2163358\tbest: 2429.2163358 (78)\ttotal: 1.74s\tremaining: 462ms\n",
      "79:\tlearn: 2438.3871728\ttest: 2421.4857678\tbest: 2421.4857678 (79)\ttotal: 1.76s\tremaining: 439ms\n",
      "80:\tlearn: 2430.4966624\ttest: 2413.6945009\tbest: 2413.6945009 (80)\ttotal: 1.78s\tremaining: 418ms\n",
      "81:\tlearn: 2423.7560503\ttest: 2406.8599180\tbest: 2406.8599180 (81)\ttotal: 1.8s\tremaining: 396ms\n",
      "82:\tlearn: 2416.8245635\ttest: 2400.0430522\tbest: 2400.0430522 (82)\ttotal: 1.82s\tremaining: 373ms\n",
      "83:\tlearn: 2409.4873864\ttest: 2392.7727915\tbest: 2392.7727915 (83)\ttotal: 1.84s\tremaining: 351ms\n",
      "84:\tlearn: 2402.6380596\ttest: 2386.0437797\tbest: 2386.0437797 (84)\ttotal: 1.86s\tremaining: 328ms\n",
      "85:\tlearn: 2395.7165975\ttest: 2378.9952769\tbest: 2378.9952769 (85)\ttotal: 1.88s\tremaining: 306ms\n",
      "86:\tlearn: 2389.7391571\ttest: 2373.0566215\tbest: 2373.0566215 (86)\ttotal: 1.9s\tremaining: 284ms\n",
      "87:\tlearn: 2383.9694689\ttest: 2367.4704732\tbest: 2367.4704732 (87)\ttotal: 1.92s\tremaining: 262ms\n",
      "88:\tlearn: 2377.9840043\ttest: 2361.4563770\tbest: 2361.4563770 (88)\ttotal: 1.94s\tremaining: 240ms\n",
      "89:\tlearn: 2372.4139929\ttest: 2356.0402210\tbest: 2356.0402210 (89)\ttotal: 1.96s\tremaining: 217ms\n",
      "90:\tlearn: 2367.2280503\ttest: 2350.7903414\tbest: 2350.7903414 (90)\ttotal: 1.97s\tremaining: 195ms\n",
      "91:\tlearn: 2361.9440310\ttest: 2345.5315329\tbest: 2345.5315329 (91)\ttotal: 1.99s\tremaining: 173ms\n",
      "92:\tlearn: 2356.8519111\ttest: 2340.6987056\tbest: 2340.6987056 (92)\ttotal: 2.01s\tremaining: 151ms\n",
      "93:\tlearn: 2351.9730776\ttest: 2335.7939220\tbest: 2335.7939220 (93)\ttotal: 2.03s\tremaining: 130ms\n",
      "94:\tlearn: 2346.6393316\ttest: 2330.4178764\tbest: 2330.4178764 (94)\ttotal: 2.05s\tremaining: 108ms\n",
      "95:\tlearn: 2341.7610742\ttest: 2325.4673330\tbest: 2325.4673330 (95)\ttotal: 2.06s\tremaining: 86ms\n",
      "96:\tlearn: 2336.8811829\ttest: 2320.5881721\tbest: 2320.5881721 (96)\ttotal: 2.09s\tremaining: 64.5ms\n",
      "97:\tlearn: 2332.6435608\ttest: 2316.2447997\tbest: 2316.2447997 (97)\ttotal: 2.11s\tremaining: 43ms\n",
      "98:\tlearn: 2328.1883200\ttest: 2311.7328260\tbest: 2311.7328260 (98)\ttotal: 2.13s\tremaining: 21.5ms\n",
      "99:\tlearn: 2324.2331340\ttest: 2307.7864443\tbest: 2307.7864443 (99)\ttotal: 2.15s\tremaining: 0us\n",
      "\n",
      "bestTest = 2307.786444\n",
      "bestIteration = 99\n",
      "\n",
      "5:\tloss: 2307.7864443\tbest: 2305.8566123 (4)\ttotal: 11.4s\tremaining: 39.9s\n",
      "0:\tlearn: 6144.4898433\ttest: 6131.7436473\tbest: 6131.7436473 (0)\ttotal: 27ms\tremaining: 5.37s\n",
      "1:\tlearn: 6003.5064833\ttest: 5991.0327153\tbest: 5991.0327153 (1)\ttotal: 47.3ms\tremaining: 4.69s\n",
      "2:\tlearn: 5866.7846746\ttest: 5854.4707984\tbest: 5854.4707984 (2)\ttotal: 66.5ms\tremaining: 4.37s\n",
      "3:\tlearn: 5735.5131131\ttest: 5722.8776728\tbest: 5722.8776728 (3)\ttotal: 90.1ms\tremaining: 4.41s\n",
      "4:\tlearn: 5606.1850326\ttest: 5593.2266964\tbest: 5593.2266964 (4)\ttotal: 111ms\tremaining: 4.33s\n",
      "5:\tlearn: 5481.3256660\ttest: 5468.2916983\tbest: 5468.2916983 (5)\ttotal: 133ms\tremaining: 4.3s\n",
      "6:\tlearn: 5360.0188743\ttest: 5346.6998186\tbest: 5346.6998186 (6)\ttotal: 152ms\tremaining: 4.19s\n",
      "7:\tlearn: 5243.8972990\ttest: 5230.7020804\tbest: 5230.7020804 (7)\ttotal: 173ms\tremaining: 4.16s\n",
      "8:\tlearn: 5131.4078892\ttest: 5117.8677372\tbest: 5117.8677372 (8)\ttotal: 192ms\tremaining: 4.07s\n",
      "9:\tlearn: 5025.9733700\ttest: 5012.1746100\tbest: 5012.1746100 (9)\ttotal: 210ms\tremaining: 3.99s\n",
      "10:\tlearn: 4923.2250173\ttest: 4909.7835337\tbest: 4909.7835337 (10)\ttotal: 228ms\tremaining: 3.93s\n",
      "11:\tlearn: 4825.0126674\ttest: 4811.5139133\tbest: 4811.5139133 (11)\ttotal: 246ms\tremaining: 3.86s\n",
      "12:\tlearn: 4729.6232280\ttest: 4716.0525027\tbest: 4716.0525027 (12)\ttotal: 264ms\tremaining: 3.8s\n",
      "13:\tlearn: 4638.2771961\ttest: 4624.9642599\tbest: 4624.9642599 (13)\ttotal: 282ms\tremaining: 3.75s\n",
      "14:\tlearn: 4549.4593783\ttest: 4536.3965431\tbest: 4536.3965431 (14)\ttotal: 301ms\tremaining: 3.71s\n",
      "15:\tlearn: 4462.4743272\ttest: 4449.5583938\tbest: 4449.5583938 (15)\ttotal: 319ms\tremaining: 3.67s\n",
      "16:\tlearn: 4379.3937980\ttest: 4366.7453189\tbest: 4366.7453189 (16)\ttotal: 344ms\tremaining: 3.71s\n",
      "17:\tlearn: 4297.1291038\ttest: 4284.1557551\tbest: 4284.1557551 (17)\ttotal: 363ms\tremaining: 3.67s\n",
      "18:\tlearn: 4220.9517049\ttest: 4208.0404843\tbest: 4208.0404843 (18)\ttotal: 383ms\tremaining: 3.65s\n",
      "19:\tlearn: 4146.7092943\ttest: 4133.8783683\tbest: 4133.8783683 (19)\ttotal: 402ms\tremaining: 3.62s\n",
      "20:\tlearn: 4073.3360433\ttest: 4060.4027370\tbest: 4060.4027370 (20)\ttotal: 420ms\tremaining: 3.58s\n",
      "21:\tlearn: 4004.8163942\ttest: 3991.8315927\tbest: 3991.8315927 (21)\ttotal: 438ms\tremaining: 3.54s\n",
      "22:\tlearn: 3939.4702071\ttest: 3926.2479185\tbest: 3926.2479185 (22)\ttotal: 456ms\tremaining: 3.51s\n",
      "23:\tlearn: 3876.8581286\ttest: 3863.7601367\tbest: 3863.7601367 (23)\ttotal: 473ms\tremaining: 3.47s\n",
      "24:\tlearn: 3813.4101215\ttest: 3800.2261419\tbest: 3800.2261419 (24)\ttotal: 492ms\tremaining: 3.44s\n",
      "25:\tlearn: 3752.0807683\ttest: 3738.4853743\tbest: 3738.4853743 (25)\ttotal: 510ms\tremaining: 3.41s\n",
      "26:\tlearn: 3693.2357809\ttest: 3679.5615027\tbest: 3679.5615027 (26)\ttotal: 528ms\tremaining: 3.38s\n",
      "27:\tlearn: 3637.0499447\ttest: 3623.2825951\tbest: 3623.2825951 (27)\ttotal: 552ms\tremaining: 3.39s\n",
      "28:\tlearn: 3584.6355715\ttest: 3570.9417867\tbest: 3570.9417867 (28)\ttotal: 571ms\tremaining: 3.37s\n",
      "29:\tlearn: 3534.6903955\ttest: 3521.1033304\tbest: 3521.1033304 (29)\ttotal: 591ms\tremaining: 3.35s\n",
      "30:\tlearn: 3486.5825770\ttest: 3472.8173586\tbest: 3472.8173586 (30)\ttotal: 609ms\tremaining: 3.32s\n",
      "31:\tlearn: 3440.2705412\ttest: 3426.4010500\tbest: 3426.4010500 (31)\ttotal: 627ms\tremaining: 3.29s\n",
      "32:\tlearn: 3396.3535836\ttest: 3382.2928379\tbest: 3382.2928379 (32)\ttotal: 646ms\tremaining: 3.27s\n",
      "33:\tlearn: 3354.5778419\ttest: 3340.3298010\tbest: 3340.3298010 (33)\ttotal: 665ms\tremaining: 3.25s\n",
      "34:\tlearn: 3314.7393540\ttest: 3300.4865273\tbest: 3300.4865273 (34)\ttotal: 684ms\tremaining: 3.22s\n",
      "35:\tlearn: 3274.9216730\ttest: 3260.7539782\tbest: 3260.7539782 (35)\ttotal: 702ms\tremaining: 3.2s\n",
      "36:\tlearn: 3237.3398566\ttest: 3222.9650887\tbest: 3222.9650887 (36)\ttotal: 721ms\tremaining: 3.18s\n",
      "37:\tlearn: 3201.1550505\ttest: 3186.7673641\tbest: 3186.7673641 (37)\ttotal: 740ms\tremaining: 3.15s\n",
      "38:\tlearn: 3163.7835092\ttest: 3149.2249000\tbest: 3149.2249000 (38)\ttotal: 767ms\tremaining: 3.16s\n",
      "39:\tlearn: 3128.2004694\ttest: 3113.4046897\tbest: 3113.4046897 (39)\ttotal: 787ms\tremaining: 3.15s\n",
      "40:\tlearn: 3096.1798759\ttest: 3081.3539632\tbest: 3081.3539632 (40)\ttotal: 807ms\tremaining: 3.13s\n",
      "41:\tlearn: 3065.0114391\ttest: 3050.0632338\tbest: 3050.0632338 (41)\ttotal: 825ms\tremaining: 3.1s\n",
      "42:\tlearn: 3033.2444131\ttest: 3018.2721337\tbest: 3018.2721337 (42)\ttotal: 842ms\tremaining: 3.07s\n",
      "43:\tlearn: 3006.1153515\ttest: 2990.9801388\tbest: 2990.9801388 (43)\ttotal: 860ms\tremaining: 3.05s\n",
      "44:\tlearn: 2978.4509995\ttest: 2963.1872638\tbest: 2963.1872638 (44)\ttotal: 879ms\tremaining: 3.03s\n",
      "45:\tlearn: 2949.9038052\ttest: 2934.4497949\tbest: 2934.4497949 (45)\ttotal: 896ms\tremaining: 3s\n",
      "46:\tlearn: 2925.2202027\ttest: 2909.6012750\tbest: 2909.6012750 (46)\ttotal: 914ms\tremaining: 2.97s\n",
      "47:\tlearn: 2901.1661317\ttest: 2885.6894029\tbest: 2885.6894029 (47)\ttotal: 931ms\tremaining: 2.95s\n",
      "48:\tlearn: 2875.9234931\ttest: 2860.2432171\tbest: 2860.2432171 (48)\ttotal: 950ms\tremaining: 2.93s\n",
      "49:\tlearn: 2852.0592498\ttest: 2836.2099782\tbest: 2836.2099782 (49)\ttotal: 969ms\tremaining: 2.91s\n",
      "50:\tlearn: 2829.6711335\ttest: 2813.5924193\tbest: 2813.5924193 (50)\ttotal: 994ms\tremaining: 2.9s\n",
      "51:\tlearn: 2809.2837316\ttest: 2793.0606096\tbest: 2793.0606096 (51)\ttotal: 1.01s\tremaining: 2.88s\n",
      "52:\tlearn: 2787.4078980\ttest: 2771.0426339\tbest: 2771.0426339 (52)\ttotal: 1.03s\tremaining: 2.86s\n",
      "53:\tlearn: 2766.6545918\ttest: 2750.1521234\tbest: 2750.1521234 (53)\ttotal: 1.05s\tremaining: 2.84s\n",
      "54:\tlearn: 2748.5540898\ttest: 2732.0450837\tbest: 2732.0450837 (54)\ttotal: 1.07s\tremaining: 2.81s\n",
      "55:\tlearn: 2729.2708790\ttest: 2712.6016332\tbest: 2712.6016332 (55)\ttotal: 1.08s\tremaining: 2.79s\n",
      "56:\tlearn: 2712.7066645\ttest: 2696.0708042\tbest: 2696.0708042 (56)\ttotal: 1.11s\tremaining: 2.8s\n",
      "57:\tlearn: 2695.2580270\ttest: 2678.5127880\tbest: 2678.5127880 (57)\ttotal: 1.13s\tremaining: 2.77s\n",
      "58:\tlearn: 2679.3983481\ttest: 2662.7476653\tbest: 2662.7476653 (58)\ttotal: 1.15s\tremaining: 2.75s\n",
      "59:\tlearn: 2662.3588219\ttest: 2645.7389609\tbest: 2645.7389609 (59)\ttotal: 1.17s\tremaining: 2.73s\n",
      "60:\tlearn: 2647.8704981\ttest: 2631.4397625\tbest: 2631.4397625 (60)\ttotal: 1.19s\tremaining: 2.71s\n",
      "61:\tlearn: 2633.4038630\ttest: 2616.8890450\tbest: 2616.8890450 (61)\ttotal: 1.21s\tremaining: 2.69s\n",
      "62:\tlearn: 2618.4976596\ttest: 2601.9105762\tbest: 2601.9105762 (62)\ttotal: 1.23s\tremaining: 2.67s\n",
      "63:\tlearn: 2605.4880373\ttest: 2588.7714252\tbest: 2588.7714252 (63)\ttotal: 1.25s\tremaining: 2.65s\n",
      "64:\tlearn: 2592.1696094\ttest: 2575.2136972\tbest: 2575.2136972 (64)\ttotal: 1.27s\tremaining: 2.64s\n",
      "65:\tlearn: 2580.3133355\ttest: 2563.2054143\tbest: 2563.2054143 (65)\ttotal: 1.29s\tremaining: 2.62s\n",
      "66:\tlearn: 2568.3237728\ttest: 2551.2938796\tbest: 2551.2938796 (66)\ttotal: 1.31s\tremaining: 2.6s\n",
      "67:\tlearn: 2555.8787430\ttest: 2538.7011058\tbest: 2538.7011058 (67)\ttotal: 1.33s\tremaining: 2.58s\n",
      "68:\tlearn: 2543.7438089\ttest: 2526.5817518\tbest: 2526.5817518 (68)\ttotal: 1.35s\tremaining: 2.57s\n",
      "69:\tlearn: 2532.8700826\ttest: 2515.8293057\tbest: 2515.8293057 (69)\ttotal: 1.38s\tremaining: 2.55s\n",
      "70:\tlearn: 2522.3971575\ttest: 2505.4339677\tbest: 2505.4339677 (70)\ttotal: 1.4s\tremaining: 2.54s\n",
      "71:\tlearn: 2511.7220434\ttest: 2494.7997732\tbest: 2494.7997732 (71)\ttotal: 1.41s\tremaining: 2.52s\n",
      "72:\tlearn: 2502.0629209\ttest: 2485.2104839\tbest: 2485.2104839 (72)\ttotal: 1.44s\tremaining: 2.51s\n",
      "73:\tlearn: 2492.1629912\ttest: 2475.2565617\tbest: 2475.2565617 (73)\ttotal: 1.46s\tremaining: 2.49s\n",
      "74:\tlearn: 2483.1568593\ttest: 2466.2135605\tbest: 2466.2135605 (74)\ttotal: 1.48s\tremaining: 2.47s\n",
      "75:\tlearn: 2474.3193920\ttest: 2457.2010945\tbest: 2457.2010945 (75)\ttotal: 1.5s\tremaining: 2.45s\n",
      "76:\tlearn: 2465.9787251\ttest: 2448.9770862\tbest: 2448.9770862 (76)\ttotal: 1.52s\tremaining: 2.43s\n",
      "77:\tlearn: 2457.8263258\ttest: 2440.9451759\tbest: 2440.9451759 (77)\ttotal: 1.54s\tremaining: 2.41s\n",
      "78:\tlearn: 2449.8871555\ttest: 2433.0378152\tbest: 2433.0378152 (78)\ttotal: 1.56s\tremaining: 2.39s\n",
      "79:\tlearn: 2441.8382472\ttest: 2424.9456323\tbest: 2424.9456323 (79)\ttotal: 1.58s\tremaining: 2.37s\n",
      "80:\tlearn: 2433.8672416\ttest: 2417.0759045\tbest: 2417.0759045 (80)\ttotal: 1.59s\tremaining: 2.34s\n",
      "81:\tlearn: 2427.0056377\ttest: 2410.2818181\tbest: 2410.2818181 (81)\ttotal: 1.61s\tremaining: 2.32s\n",
      "82:\tlearn: 2419.4872224\ttest: 2402.8195363\tbest: 2402.8195363 (82)\ttotal: 1.64s\tremaining: 2.31s\n",
      "83:\tlearn: 2412.2337430\ttest: 2395.6400447\tbest: 2395.6400447 (83)\ttotal: 1.66s\tremaining: 2.29s\n",
      "84:\tlearn: 2405.4924037\ttest: 2388.8473684\tbest: 2388.8473684 (84)\ttotal: 1.68s\tremaining: 2.27s\n",
      "85:\tlearn: 2398.6416794\ttest: 2381.8795367\tbest: 2381.8795367 (85)\ttotal: 1.7s\tremaining: 2.25s\n",
      "86:\tlearn: 2392.6780332\ttest: 2375.8315903\tbest: 2375.8315903 (86)\ttotal: 1.71s\tremaining: 2.23s\n",
      "87:\tlearn: 2386.7541693\ttest: 2370.0147224\tbest: 2370.0147224 (87)\ttotal: 1.73s\tremaining: 2.2s\n",
      "88:\tlearn: 2381.0825373\ttest: 2364.3174955\tbest: 2364.3174955 (88)\ttotal: 1.75s\tremaining: 2.18s\n",
      "89:\tlearn: 2375.4529252\ttest: 2358.8504067\tbest: 2358.8504067 (89)\ttotal: 1.77s\tremaining: 2.16s\n",
      "90:\tlearn: 2370.1617645\ttest: 2353.7542202\tbest: 2353.7542202 (90)\ttotal: 1.79s\tremaining: 2.14s\n",
      "91:\tlearn: 2364.8248662\ttest: 2348.5181971\tbest: 2348.5181971 (91)\ttotal: 1.8s\tremaining: 2.12s\n",
      "92:\tlearn: 2359.1527982\ttest: 2342.7848737\tbest: 2342.7848737 (92)\ttotal: 1.82s\tremaining: 2.1s\n",
      "93:\tlearn: 2354.3654024\ttest: 2337.9158134\tbest: 2337.9158134 (93)\ttotal: 1.85s\tremaining: 2.08s\n",
      "94:\tlearn: 2349.3925390\ttest: 2332.8597998\tbest: 2332.8597998 (94)\ttotal: 1.87s\tremaining: 2.06s\n",
      "95:\tlearn: 2344.9358872\ttest: 2328.5698540\tbest: 2328.5698540 (95)\ttotal: 1.89s\tremaining: 2.04s\n",
      "96:\tlearn: 2340.0304274\ttest: 2323.6671311\tbest: 2323.6671311 (96)\ttotal: 1.91s\tremaining: 2.02s\n",
      "97:\tlearn: 2335.8481652\ttest: 2319.3781506\tbest: 2319.3781506 (97)\ttotal: 1.92s\tremaining: 2s\n",
      "98:\tlearn: 2331.2853728\ttest: 2314.7585170\tbest: 2314.7585170 (98)\ttotal: 1.94s\tremaining: 1.98s\n",
      "99:\tlearn: 2326.7423660\ttest: 2310.2321515\tbest: 2310.2321515 (99)\ttotal: 1.96s\tremaining: 1.96s\n",
      "100:\tlearn: 2322.8053814\ttest: 2306.3761243\tbest: 2306.3761243 (100)\ttotal: 1.98s\tremaining: 1.94s\n",
      "101:\tlearn: 2319.0374725\ttest: 2302.6155388\tbest: 2302.6155388 (101)\ttotal: 2s\tremaining: 1.92s\n",
      "102:\tlearn: 2315.1779598\ttest: 2298.7729053\tbest: 2298.7729053 (102)\ttotal: 2.02s\tremaining: 1.9s\n",
      "103:\tlearn: 2310.8243653\ttest: 2294.3474548\tbest: 2294.3474548 (103)\ttotal: 2.04s\tremaining: 1.88s\n",
      "104:\tlearn: 2306.9530710\ttest: 2290.6759454\tbest: 2290.6759454 (104)\ttotal: 2.06s\tremaining: 1.86s\n",
      "105:\tlearn: 2303.1389972\ttest: 2286.8593469\tbest: 2286.8593469 (105)\ttotal: 2.08s\tremaining: 1.84s\n",
      "106:\tlearn: 2299.6870100\ttest: 2283.3462305\tbest: 2283.3462305 (106)\ttotal: 2.1s\tremaining: 1.83s\n",
      "107:\tlearn: 2295.6074405\ttest: 2279.2129854\tbest: 2279.2129854 (107)\ttotal: 2.12s\tremaining: 1.81s\n",
      "108:\tlearn: 2292.1274736\ttest: 2275.8462810\tbest: 2275.8462810 (108)\ttotal: 2.14s\tremaining: 1.79s\n",
      "109:\tlearn: 2289.0628207\ttest: 2272.7894336\tbest: 2272.7894336 (109)\ttotal: 2.17s\tremaining: 1.77s\n",
      "110:\tlearn: 2285.2268065\ttest: 2268.9232669\tbest: 2268.9232669 (110)\ttotal: 2.19s\tremaining: 1.76s\n",
      "111:\tlearn: 2281.5399580\ttest: 2265.2054549\tbest: 2265.2054549 (111)\ttotal: 2.22s\tremaining: 1.75s\n",
      "112:\tlearn: 2278.1430358\ttest: 2261.7786040\tbest: 2261.7786040 (112)\ttotal: 2.25s\tremaining: 1.73s\n",
      "113:\tlearn: 2274.7652377\ttest: 2258.6055943\tbest: 2258.6055943 (113)\ttotal: 2.28s\tremaining: 1.72s\n",
      "114:\tlearn: 2271.4017268\ttest: 2255.0986882\tbest: 2255.0986882 (114)\ttotal: 2.3s\tremaining: 1.7s\n",
      "115:\tlearn: 2267.8733027\ttest: 2251.4761969\tbest: 2251.4761969 (115)\ttotal: 2.33s\tremaining: 1.69s\n",
      "116:\tlearn: 2265.2979721\ttest: 2249.0244181\tbest: 2249.0244181 (116)\ttotal: 2.35s\tremaining: 1.67s\n",
      "117:\tlearn: 2262.2312572\ttest: 2245.9864350\tbest: 2245.9864350 (117)\ttotal: 2.37s\tremaining: 1.65s\n",
      "118:\tlearn: 2259.8703443\ttest: 2243.7268476\tbest: 2243.7268476 (118)\ttotal: 2.39s\tremaining: 1.63s\n",
      "119:\tlearn: 2256.8775311\ttest: 2240.6971986\tbest: 2240.6971986 (119)\ttotal: 2.41s\tremaining: 1.61s\n",
      "120:\tlearn: 2254.1151427\ttest: 2238.0763331\tbest: 2238.0763331 (120)\ttotal: 2.43s\tremaining: 1.59s\n",
      "121:\tlearn: 2251.1785538\ttest: 2235.0751911\tbest: 2235.0751911 (121)\ttotal: 2.45s\tremaining: 1.57s\n",
      "122:\tlearn: 2248.2407330\ttest: 2232.0006973\tbest: 2232.0006973 (122)\ttotal: 2.47s\tremaining: 1.55s\n",
      "123:\tlearn: 2245.3820468\ttest: 2229.1905063\tbest: 2229.1905063 (123)\ttotal: 2.49s\tremaining: 1.53s\n",
      "124:\tlearn: 2242.7284347\ttest: 2226.3972732\tbest: 2226.3972732 (124)\ttotal: 2.52s\tremaining: 1.51s\n",
      "125:\tlearn: 2239.9629908\ttest: 2223.6087093\tbest: 2223.6087093 (125)\ttotal: 2.55s\tremaining: 1.5s\n",
      "126:\tlearn: 2237.5289597\ttest: 2221.2704002\tbest: 2221.2704002 (126)\ttotal: 2.57s\tremaining: 1.48s\n",
      "127:\tlearn: 2234.8570684\ttest: 2218.4863517\tbest: 2218.4863517 (127)\ttotal: 2.59s\tremaining: 1.46s\n",
      "128:\tlearn: 2232.4735629\ttest: 2216.1194826\tbest: 2216.1194826 (128)\ttotal: 2.61s\tremaining: 1.44s\n",
      "129:\tlearn: 2229.7528459\ttest: 2213.3508969\tbest: 2213.3508969 (129)\ttotal: 2.63s\tremaining: 1.42s\n",
      "130:\tlearn: 2227.2867361\ttest: 2210.8565888\tbest: 2210.8565888 (130)\ttotal: 2.65s\tremaining: 1.4s\n",
      "131:\tlearn: 2224.7950793\ttest: 2208.3961114\tbest: 2208.3961114 (131)\ttotal: 2.67s\tremaining: 1.38s\n",
      "132:\tlearn: 2222.7681099\ttest: 2206.2919211\tbest: 2206.2919211 (132)\ttotal: 2.69s\tremaining: 1.36s\n",
      "133:\tlearn: 2220.4828132\ttest: 2203.9398619\tbest: 2203.9398619 (133)\ttotal: 2.72s\tremaining: 1.34s\n",
      "134:\tlearn: 2218.1987930\ttest: 2201.6655729\tbest: 2201.6655729 (134)\ttotal: 2.74s\tremaining: 1.32s\n",
      "135:\tlearn: 2215.6915808\ttest: 2199.2433172\tbest: 2199.2433172 (135)\ttotal: 2.76s\tremaining: 1.3s\n",
      "136:\tlearn: 2213.4245385\ttest: 2196.9271621\tbest: 2196.9271621 (136)\ttotal: 2.77s\tremaining: 1.28s\n",
      "137:\tlearn: 2211.1943249\ttest: 2194.7462788\tbest: 2194.7462788 (137)\ttotal: 2.79s\tremaining: 1.25s\n",
      "138:\tlearn: 2208.8817435\ttest: 2192.4813512\tbest: 2192.4813512 (138)\ttotal: 2.82s\tremaining: 1.24s\n",
      "139:\tlearn: 2206.1035411\ttest: 2189.6128974\tbest: 2189.6128974 (139)\ttotal: 2.85s\tremaining: 1.22s\n",
      "140:\tlearn: 2203.9620607\ttest: 2187.5280034\tbest: 2187.5280034 (140)\ttotal: 2.87s\tremaining: 1.2s\n",
      "141:\tlearn: 2202.0394729\ttest: 2185.5746665\tbest: 2185.5746665 (141)\ttotal: 2.89s\tremaining: 1.18s\n",
      "142:\tlearn: 2199.3922877\ttest: 2182.9447726\tbest: 2182.9447726 (142)\ttotal: 2.91s\tremaining: 1.16s\n",
      "143:\tlearn: 2197.3143884\ttest: 2180.9023901\tbest: 2180.9023901 (143)\ttotal: 2.94s\tremaining: 1.14s\n",
      "144:\tlearn: 2195.1985542\ttest: 2178.7690832\tbest: 2178.7690832 (144)\ttotal: 2.96s\tremaining: 1.12s\n",
      "145:\tlearn: 2192.7894561\ttest: 2176.3909707\tbest: 2176.3909707 (145)\ttotal: 2.98s\tremaining: 1.1s\n",
      "146:\tlearn: 2190.9814707\ttest: 2174.5559816\tbest: 2174.5559816 (146)\ttotal: 3s\tremaining: 1.08s\n",
      "147:\tlearn: 2189.0798201\ttest: 2172.6843548\tbest: 2172.6843548 (147)\ttotal: 3.02s\tremaining: 1.06s\n",
      "148:\tlearn: 2187.2479918\ttest: 2170.9180124\tbest: 2170.9180124 (148)\ttotal: 3.04s\tremaining: 1.04s\n",
      "149:\tlearn: 2185.7356996\ttest: 2169.4342239\tbest: 2169.4342239 (149)\ttotal: 3.06s\tremaining: 1.02s\n",
      "150:\tlearn: 2183.4644348\ttest: 2167.1949164\tbest: 2167.1949164 (150)\ttotal: 3.08s\tremaining: 1s\n",
      "151:\tlearn: 2180.8779601\ttest: 2164.5006586\tbest: 2164.5006586 (151)\ttotal: 3.1s\tremaining: 981ms\n",
      "152:\tlearn: 2179.4320715\ttest: 2163.0303198\tbest: 2163.0303198 (152)\ttotal: 3.13s\tremaining: 960ms\n",
      "153:\tlearn: 2177.6188037\ttest: 2161.2522323\tbest: 2161.2522323 (153)\ttotal: 3.15s\tremaining: 941ms\n",
      "154:\tlearn: 2175.4081781\ttest: 2159.0714742\tbest: 2159.0714742 (154)\ttotal: 3.17s\tremaining: 921ms\n",
      "155:\tlearn: 2173.8492445\ttest: 2157.5353741\tbest: 2157.5353741 (155)\ttotal: 3.19s\tremaining: 901ms\n",
      "156:\tlearn: 2172.5534449\ttest: 2156.2787495\tbest: 2156.2787495 (156)\ttotal: 3.21s\tremaining: 880ms\n",
      "157:\tlearn: 2171.2492632\ttest: 2154.9478156\tbest: 2154.9478156 (157)\ttotal: 3.23s\tremaining: 859ms\n",
      "158:\tlearn: 2169.6528055\ttest: 2153.2945876\tbest: 2153.2945876 (158)\ttotal: 3.25s\tremaining: 839ms\n",
      "159:\tlearn: 2167.6055046\ttest: 2151.1491408\tbest: 2151.1491408 (159)\ttotal: 3.28s\tremaining: 820ms\n",
      "160:\tlearn: 2165.2371294\ttest: 2148.6899426\tbest: 2148.6899426 (160)\ttotal: 3.31s\tremaining: 802ms\n",
      "161:\tlearn: 2163.1733423\ttest: 2146.6560837\tbest: 2146.6560837 (161)\ttotal: 3.34s\tremaining: 783ms\n",
      "162:\tlearn: 2161.6527493\ttest: 2145.1593460\tbest: 2145.1593460 (162)\ttotal: 3.36s\tremaining: 763ms\n",
      "163:\tlearn: 2159.5099712\ttest: 2142.8351965\tbest: 2142.8351965 (163)\ttotal: 3.39s\tremaining: 743ms\n",
      "164:\tlearn: 2158.0024161\ttest: 2141.3342003\tbest: 2141.3342003 (164)\ttotal: 3.4s\tremaining: 722ms\n",
      "165:\tlearn: 2156.5856205\ttest: 2139.9223436\tbest: 2139.9223436 (165)\ttotal: 3.43s\tremaining: 702ms\n",
      "166:\tlearn: 2154.7706120\ttest: 2138.0319730\tbest: 2138.0319730 (166)\ttotal: 3.45s\tremaining: 683ms\n",
      "167:\tlearn: 2152.8634915\ttest: 2136.1355167\tbest: 2136.1355167 (167)\ttotal: 3.48s\tremaining: 662ms\n",
      "168:\tlearn: 2151.2830152\ttest: 2134.5933845\tbest: 2134.5933845 (168)\ttotal: 3.5s\tremaining: 641ms\n",
      "169:\tlearn: 2149.8359425\ttest: 2133.1871565\tbest: 2133.1871565 (169)\ttotal: 3.52s\tremaining: 620ms\n",
      "170:\tlearn: 2148.7473866\ttest: 2132.1454321\tbest: 2132.1454321 (170)\ttotal: 3.53s\tremaining: 599ms\n",
      "171:\tlearn: 2147.0312547\ttest: 2130.3455639\tbest: 2130.3455639 (171)\ttotal: 3.56s\tremaining: 579ms\n",
      "172:\tlearn: 2145.5567511\ttest: 2128.8384974\tbest: 2128.8384974 (172)\ttotal: 3.58s\tremaining: 559ms\n",
      "173:\tlearn: 2144.2098382\ttest: 2127.4873598\tbest: 2127.4873598 (173)\ttotal: 3.6s\tremaining: 538ms\n",
      "174:\tlearn: 2142.3574421\ttest: 2125.5512583\tbest: 2125.5512583 (174)\ttotal: 3.63s\tremaining: 518ms\n",
      "175:\tlearn: 2141.2177855\ttest: 2124.3761616\tbest: 2124.3761616 (175)\ttotal: 3.65s\tremaining: 498ms\n",
      "176:\tlearn: 2139.4698505\ttest: 2122.4831682\tbest: 2122.4831682 (176)\ttotal: 3.67s\tremaining: 477ms\n",
      "177:\tlearn: 2138.1267115\ttest: 2121.2833577\tbest: 2121.2833577 (177)\ttotal: 3.7s\tremaining: 457ms\n",
      "178:\tlearn: 2136.9105164\ttest: 2120.1113490\tbest: 2120.1113490 (178)\ttotal: 3.72s\tremaining: 436ms\n",
      "179:\tlearn: 2135.7297323\ttest: 2119.0830181\tbest: 2119.0830181 (179)\ttotal: 3.73s\tremaining: 415ms\n",
      "180:\tlearn: 2134.0102711\ttest: 2117.2877706\tbest: 2117.2877706 (180)\ttotal: 3.76s\tremaining: 395ms\n",
      "181:\tlearn: 2132.4232811\ttest: 2115.7992850\tbest: 2115.7992850 (181)\ttotal: 3.78s\tremaining: 374ms\n",
      "182:\tlearn: 2130.9708882\ttest: 2114.3504889\tbest: 2114.3504889 (182)\ttotal: 3.81s\tremaining: 354ms\n",
      "183:\tlearn: 2129.9321626\ttest: 2113.3321698\tbest: 2113.3321698 (183)\ttotal: 3.82s\tremaining: 333ms\n",
      "184:\tlearn: 2128.2577285\ttest: 2111.6835373\tbest: 2111.6835373 (184)\ttotal: 3.84s\tremaining: 312ms\n",
      "185:\tlearn: 2127.1732369\ttest: 2110.7015986\tbest: 2110.7015986 (185)\ttotal: 3.86s\tremaining: 291ms\n",
      "186:\tlearn: 2125.6159916\ttest: 2109.1696106\tbest: 2109.1696106 (186)\ttotal: 3.88s\tremaining: 270ms\n",
      "187:\tlearn: 2124.3785144\ttest: 2107.9829045\tbest: 2107.9829045 (187)\ttotal: 3.9s\tremaining: 249ms\n",
      "188:\tlearn: 2123.1164642\ttest: 2106.7399631\tbest: 2106.7399631 (188)\ttotal: 3.92s\tremaining: 228ms\n",
      "189:\tlearn: 2121.4479460\ttest: 2105.0881099\tbest: 2105.0881099 (189)\ttotal: 3.94s\tremaining: 207ms\n",
      "190:\tlearn: 2120.1386688\ttest: 2103.8216426\tbest: 2103.8216426 (190)\ttotal: 3.96s\tremaining: 187ms\n",
      "191:\tlearn: 2119.1016213\ttest: 2102.8284026\tbest: 2102.8284026 (191)\ttotal: 3.98s\tremaining: 166ms\n",
      "192:\tlearn: 2118.2544749\ttest: 2102.0344424\tbest: 2102.0344424 (192)\ttotal: 4s\tremaining: 145ms\n",
      "193:\tlearn: 2117.2016244\ttest: 2100.9149485\tbest: 2100.9149485 (193)\ttotal: 4.02s\tremaining: 124ms\n",
      "194:\tlearn: 2115.9109148\ttest: 2099.6706373\tbest: 2099.6706373 (194)\ttotal: 4.04s\tremaining: 104ms\n",
      "195:\tlearn: 2114.4539141\ttest: 2098.2391241\tbest: 2098.2391241 (195)\ttotal: 4.06s\tremaining: 82.9ms\n",
      "196:\tlearn: 2113.3070720\ttest: 2097.0498822\tbest: 2097.0498822 (196)\ttotal: 4.08s\tremaining: 62.2ms\n",
      "197:\tlearn: 2112.4840390\ttest: 2096.1846892\tbest: 2096.1846892 (197)\ttotal: 4.11s\tremaining: 41.5ms\n",
      "198:\tlearn: 2110.6092961\ttest: 2094.2473980\tbest: 2094.2473980 (198)\ttotal: 4.13s\tremaining: 20.8ms\n",
      "199:\tlearn: 2109.5694250\ttest: 2093.1640663\tbest: 2093.1640663 (199)\ttotal: 4.16s\tremaining: 0us\n",
      "\n",
      "bestTest = 2093.164066\n",
      "bestIteration = 199\n",
      "\n",
      "6:\tloss: 2093.1640663\tbest: 2093.1640663 (6)\ttotal: 15.6s\tremaining: 44.6s\n",
      "0:\tlearn: 6144.5134744\ttest: 6131.7671422\tbest: 6131.7671422 (0)\ttotal: 31.9ms\tremaining: 6.35s\n",
      "1:\tlearn: 6003.5602006\ttest: 5991.0862894\tbest: 5991.0862894 (1)\ttotal: 57.2ms\tremaining: 5.66s\n",
      "2:\tlearn: 5866.8592783\ttest: 5854.5451331\tbest: 5854.5451331 (2)\ttotal: 82.7ms\tremaining: 5.43s\n",
      "3:\tlearn: 5735.6133988\ttest: 5722.9771202\tbest: 5722.9771202 (3)\ttotal: 110ms\tremaining: 5.4s\n",
      "4:\tlearn: 5606.3036416\ttest: 5593.3444671\tbest: 5593.3444671 (4)\ttotal: 132ms\tremaining: 5.14s\n",
      "5:\tlearn: 5481.4555403\ttest: 5468.4207512\tbest: 5468.4207512 (5)\ttotal: 158ms\tremaining: 5.09s\n",
      "6:\tlearn: 5360.1661441\ttest: 5346.8463081\tbest: 5346.8463081 (6)\ttotal: 178ms\tremaining: 4.89s\n",
      "7:\tlearn: 5244.0534818\ttest: 5230.8575235\tbest: 5230.8575235 (7)\ttotal: 202ms\tremaining: 4.85s\n",
      "8:\tlearn: 5131.5763609\ttest: 5118.0355735\tbest: 5118.0355735 (8)\ttotal: 224ms\tremaining: 4.75s\n",
      "9:\tlearn: 5026.1602798\ttest: 5012.3611110\tbest: 5012.3611110 (9)\ttotal: 249ms\tremaining: 4.73s\n",
      "10:\tlearn: 4923.4259282\ttest: 4909.9838151\tbest: 4909.9838151 (10)\ttotal: 272ms\tremaining: 4.67s\n",
      "11:\tlearn: 4825.2292842\ttest: 4811.7297565\tbest: 4811.7297565 (11)\ttotal: 292ms\tremaining: 4.58s\n",
      "12:\tlearn: 4729.8620679\ttest: 4716.2906433\tbest: 4716.2906433 (12)\ttotal: 312ms\tremaining: 4.48s\n",
      "13:\tlearn: 4638.5201337\ttest: 4625.2064183\tbest: 4625.2064183 (13)\ttotal: 333ms\tremaining: 4.42s\n",
      "14:\tlearn: 4549.7106614\ttest: 4536.6470492\tbest: 4536.6470492 (14)\ttotal: 356ms\tremaining: 4.39s\n",
      "15:\tlearn: 4462.7363885\ttest: 4449.8191142\tbest: 4449.8191142 (15)\ttotal: 378ms\tremaining: 4.34s\n",
      "16:\tlearn: 4379.6639049\ttest: 4367.0135356\tbest: 4367.0135356 (16)\ttotal: 400ms\tremaining: 4.31s\n",
      "17:\tlearn: 4297.4046181\ttest: 4284.4294843\tbest: 4284.4294843 (17)\ttotal: 422ms\tremaining: 4.27s\n",
      "18:\tlearn: 4221.2329816\ttest: 4208.3200075\tbest: 4208.3200075 (18)\ttotal: 446ms\tremaining: 4.24s\n",
      "19:\tlearn: 4146.9929011\ttest: 4134.1600673\tbest: 4134.1600673 (19)\ttotal: 474ms\tremaining: 4.26s\n",
      "20:\tlearn: 4073.6204695\ttest: 4060.6852621\tbest: 4060.6852621 (20)\ttotal: 497ms\tremaining: 4.23s\n",
      "21:\tlearn: 4005.1046003\ttest: 3992.1175020\tbest: 3992.1175020 (21)\ttotal: 521ms\tremaining: 4.22s\n",
      "22:\tlearn: 3939.7595007\ttest: 3926.5350398\tbest: 3926.5350398 (22)\ttotal: 545ms\tremaining: 4.19s\n",
      "23:\tlearn: 3877.1477949\ttest: 3864.0471636\tbest: 3864.0471636 (23)\ttotal: 566ms\tremaining: 4.15s\n",
      "24:\tlearn: 3813.6979068\ttest: 3800.5113540\tbest: 3800.5113540 (24)\ttotal: 587ms\tremaining: 4.11s\n",
      "25:\tlearn: 3752.3671762\ttest: 3738.7693007\tbest: 3738.7693007 (25)\ttotal: 610ms\tremaining: 4.08s\n",
      "26:\tlearn: 3693.5195188\ttest: 3679.8428199\tbest: 3679.8428199 (26)\ttotal: 637ms\tremaining: 4.08s\n",
      "27:\tlearn: 3637.3338224\ttest: 3623.5639805\tbest: 3623.5639805 (27)\ttotal: 660ms\tremaining: 4.05s\n",
      "28:\tlearn: 3584.9176576\ttest: 3571.2214746\tbest: 3571.2214746 (28)\ttotal: 686ms\tremaining: 4.04s\n",
      "29:\tlearn: 3534.9688905\ttest: 3521.3794754\tbest: 3521.3794754 (29)\ttotal: 709ms\tremaining: 4.02s\n",
      "30:\tlearn: 3486.8590128\ttest: 3473.0911759\tbest: 3473.0911759 (30)\ttotal: 731ms\tremaining: 3.98s\n",
      "31:\tlearn: 3440.8222395\ttest: 3426.8676454\tbest: 3426.8676454 (31)\ttotal: 752ms\tremaining: 3.95s\n",
      "32:\tlearn: 3397.2712121\ttest: 3383.3499949\tbest: 3383.3499949 (32)\ttotal: 772ms\tremaining: 3.91s\n",
      "33:\tlearn: 3355.3748601\ttest: 3341.2678124\tbest: 3341.2678124 (33)\ttotal: 792ms\tremaining: 3.87s\n",
      "34:\tlearn: 3315.4878237\ttest: 3301.3757535\tbest: 3301.3757535 (34)\ttotal: 812ms\tremaining: 3.83s\n",
      "35:\tlearn: 3273.6989120\ttest: 3259.3294520\tbest: 3259.3294520 (35)\ttotal: 832ms\tremaining: 3.79s\n",
      "36:\tlearn: 3233.7211143\ttest: 3218.9814424\tbest: 3218.9814424 (36)\ttotal: 852ms\tremaining: 3.75s\n",
      "37:\tlearn: 3196.9963615\ttest: 3182.2847726\tbest: 3182.2847726 (37)\ttotal: 873ms\tremaining: 3.72s\n",
      "38:\tlearn: 3160.1286843\ttest: 3145.2465604\tbest: 3145.2465604 (38)\ttotal: 900ms\tremaining: 3.71s\n",
      "39:\tlearn: 3124.7362548\ttest: 3109.6189372\tbest: 3109.6189372 (39)\ttotal: 922ms\tremaining: 3.69s\n",
      "40:\tlearn: 3092.8463901\ttest: 3077.7013355\tbest: 3077.7013355 (40)\ttotal: 944ms\tremaining: 3.66s\n",
      "41:\tlearn: 3061.3704411\ttest: 3046.1052649\tbest: 3046.1052649 (41)\ttotal: 966ms\tremaining: 3.63s\n",
      "42:\tlearn: 3032.0445940\ttest: 3016.8637245\tbest: 3016.8637245 (42)\ttotal: 985ms\tremaining: 3.6s\n",
      "43:\tlearn: 3001.5518887\ttest: 2986.1957836\tbest: 2986.1957836 (43)\ttotal: 1s\tremaining: 3.56s\n",
      "44:\tlearn: 2973.7373760\ttest: 2958.2489401\tbest: 2958.2489401 (44)\ttotal: 1.04s\tremaining: 3.57s\n",
      "45:\tlearn: 2945.3719851\ttest: 2929.6925434\tbest: 2929.6925434 (45)\ttotal: 1.07s\tremaining: 3.6s\n",
      "46:\tlearn: 2920.4561068\ttest: 2904.8721741\tbest: 2904.8721741 (46)\ttotal: 1.11s\tremaining: 3.6s\n",
      "47:\tlearn: 2896.2141434\ttest: 2880.7743473\tbest: 2880.7743473 (47)\ttotal: 1.13s\tremaining: 3.59s\n",
      "48:\tlearn: 2871.5094826\ttest: 2855.8633978\tbest: 2855.8633978 (48)\ttotal: 1.15s\tremaining: 3.56s\n",
      "49:\tlearn: 2848.1017827\ttest: 2832.2838144\tbest: 2832.2838144 (49)\ttotal: 1.18s\tremaining: 3.54s\n",
      "50:\tlearn: 2826.0416518\ttest: 2809.9948127\tbest: 2809.9948127 (50)\ttotal: 1.21s\tremaining: 3.52s\n",
      "51:\tlearn: 2805.4292564\ttest: 2789.3776173\tbest: 2789.3776173 (51)\ttotal: 1.23s\tremaining: 3.5s\n",
      "52:\tlearn: 2783.7467889\ttest: 2767.5460084\tbest: 2767.5460084 (52)\ttotal: 1.25s\tremaining: 3.47s\n",
      "53:\tlearn: 2763.1566497\ttest: 2746.8114087\tbest: 2746.8114087 (53)\ttotal: 1.27s\tremaining: 3.44s\n",
      "54:\tlearn: 2745.1003774\ttest: 2728.7486265\tbest: 2728.7486265 (54)\ttotal: 1.3s\tremaining: 3.43s\n",
      "55:\tlearn: 2726.1130996\ttest: 2709.6065318\tbest: 2709.6065318 (55)\ttotal: 1.33s\tremaining: 3.42s\n",
      "56:\tlearn: 2709.2939623\ttest: 2692.8316479\tbest: 2692.8316479 (56)\ttotal: 1.35s\tremaining: 3.4s\n",
      "57:\tlearn: 2691.8158195\ttest: 2675.2408210\tbest: 2675.2408210 (57)\ttotal: 1.38s\tremaining: 3.37s\n",
      "58:\tlearn: 2676.2095254\ttest: 2659.6043707\tbest: 2659.6043707 (58)\ttotal: 1.39s\tremaining: 3.33s\n",
      "59:\tlearn: 2659.1926296\ttest: 2642.5450782\tbest: 2642.5450782 (59)\ttotal: 1.41s\tremaining: 3.3s\n",
      "60:\tlearn: 2643.6967445\ttest: 2626.8870569\tbest: 2626.8870569 (60)\ttotal: 1.43s\tremaining: 3.26s\n",
      "61:\tlearn: 2629.4139590\ttest: 2612.5165860\tbest: 2612.5165860 (61)\ttotal: 1.45s\tremaining: 3.23s\n",
      "62:\tlearn: 2614.4541837\ttest: 2597.5817019\tbest: 2597.5817019 (62)\ttotal: 1.47s\tremaining: 3.2s\n",
      "63:\tlearn: 2601.2080243\ttest: 2584.3715512\tbest: 2584.3715512 (63)\ttotal: 1.49s\tremaining: 3.17s\n",
      "64:\tlearn: 2588.1108092\ttest: 2571.1588820\tbest: 2571.1588820 (64)\ttotal: 1.51s\tremaining: 3.14s\n",
      "65:\tlearn: 2576.3078885\ttest: 2559.2041118\tbest: 2559.2041118 (65)\ttotal: 1.54s\tremaining: 3.13s\n",
      "66:\tlearn: 2564.0772243\ttest: 2546.9755271\tbest: 2546.9755271 (66)\ttotal: 1.56s\tremaining: 3.1s\n",
      "67:\tlearn: 2552.8585801\ttest: 2535.7889447\tbest: 2535.7889447 (67)\ttotal: 1.58s\tremaining: 3.08s\n",
      "68:\tlearn: 2540.9922752\ttest: 2524.0519465\tbest: 2524.0519465 (68)\ttotal: 1.6s\tremaining: 3.05s\n",
      "69:\tlearn: 2530.7843188\ttest: 2513.8530965\tbest: 2513.8530965 (69)\ttotal: 1.62s\tremaining: 3.02s\n",
      "70:\tlearn: 2519.3131839\ttest: 2502.4042345\tbest: 2502.4042345 (70)\ttotal: 1.66s\tremaining: 3.01s\n",
      "71:\tlearn: 2508.7398434\ttest: 2491.7951198\tbest: 2491.7951198 (71)\ttotal: 1.68s\tremaining: 2.99s\n",
      "72:\tlearn: 2499.3520027\ttest: 2482.4754935\tbest: 2482.4754935 (72)\ttotal: 1.71s\tremaining: 2.98s\n",
      "73:\tlearn: 2489.4354452\ttest: 2472.4970713\tbest: 2472.4970713 (73)\ttotal: 1.75s\tremaining: 2.99s\n",
      "74:\tlearn: 2480.1533456\ttest: 2463.1898571\tbest: 2463.1898571 (74)\ttotal: 1.79s\tremaining: 2.99s\n",
      "75:\tlearn: 2471.1429380\ttest: 2454.0569758\tbest: 2454.0569758 (75)\ttotal: 1.85s\tremaining: 3.02s\n",
      "76:\tlearn: 2462.8245978\ttest: 2445.8584091\tbest: 2445.8584091 (76)\ttotal: 1.88s\tremaining: 3.01s\n",
      "77:\tlearn: 2454.5403991\ttest: 2437.5121353\tbest: 2437.5121353 (77)\ttotal: 1.91s\tremaining: 2.99s\n",
      "78:\tlearn: 2446.5881685\ttest: 2429.6147076\tbest: 2429.6147076 (78)\ttotal: 1.94s\tremaining: 2.97s\n",
      "79:\tlearn: 2438.6299967\ttest: 2421.6138585\tbest: 2421.6138585 (79)\ttotal: 1.96s\tremaining: 2.94s\n",
      "80:\tlearn: 2430.7532099\ttest: 2413.8347243\tbest: 2413.8347243 (80)\ttotal: 1.99s\tremaining: 2.92s\n",
      "81:\tlearn: 2424.0708357\ttest: 2407.0578212\tbest: 2407.0578212 (81)\ttotal: 2.02s\tremaining: 2.9s\n",
      "82:\tlearn: 2416.0589825\ttest: 2399.1144237\tbest: 2399.1144237 (82)\ttotal: 2.04s\tremaining: 2.88s\n",
      "83:\tlearn: 2408.7065291\ttest: 2391.8285201\tbest: 2391.8285201 (83)\ttotal: 2.07s\tremaining: 2.86s\n",
      "84:\tlearn: 2401.8462938\ttest: 2384.9137709\tbest: 2384.9137709 (84)\ttotal: 2.1s\tremaining: 2.84s\n",
      "85:\tlearn: 2395.2017735\ttest: 2378.2647131\tbest: 2378.2647131 (85)\ttotal: 2.12s\tremaining: 2.81s\n",
      "86:\tlearn: 2388.8634002\ttest: 2371.8578132\tbest: 2371.8578132 (86)\ttotal: 2.14s\tremaining: 2.78s\n",
      "87:\tlearn: 2382.5742716\ttest: 2365.3454815\tbest: 2365.3454815 (87)\ttotal: 2.16s\tremaining: 2.75s\n",
      "88:\tlearn: 2376.5676476\ttest: 2359.2878529\tbest: 2359.2878529 (88)\ttotal: 2.19s\tremaining: 2.73s\n",
      "89:\tlearn: 2371.0550853\ttest: 2354.0013498\tbest: 2354.0013498 (89)\ttotal: 2.21s\tremaining: 2.7s\n",
      "90:\tlearn: 2365.4630600\ttest: 2348.2913845\tbest: 2348.2913845 (90)\ttotal: 2.23s\tremaining: 2.67s\n",
      "91:\tlearn: 2360.1869997\ttest: 2343.0153089\tbest: 2343.0153089 (91)\ttotal: 2.25s\tremaining: 2.64s\n",
      "92:\tlearn: 2355.1967715\ttest: 2338.1720491\tbest: 2338.1720491 (92)\ttotal: 2.27s\tremaining: 2.61s\n",
      "93:\tlearn: 2350.4000772\ttest: 2333.2949447\tbest: 2333.2949447 (93)\ttotal: 2.29s\tremaining: 2.58s\n",
      "94:\tlearn: 2345.2175806\ttest: 2328.0694259\tbest: 2328.0694259 (94)\ttotal: 2.31s\tremaining: 2.55s\n",
      "95:\tlearn: 2340.4988834\ttest: 2323.2820847\tbest: 2323.2820847 (95)\ttotal: 2.33s\tremaining: 2.52s\n",
      "96:\tlearn: 2335.6933566\ttest: 2318.4828689\tbest: 2318.4828689 (96)\ttotal: 2.35s\tremaining: 2.5s\n",
      "97:\tlearn: 2331.4634194\ttest: 2314.4038188\tbest: 2314.4038188 (97)\ttotal: 2.38s\tremaining: 2.47s\n",
      "98:\tlearn: 2326.9298241\ttest: 2309.8144104\tbest: 2309.8144104 (98)\ttotal: 2.41s\tremaining: 2.46s\n",
      "99:\tlearn: 2322.9633618\ttest: 2305.8566123\tbest: 2305.8566123 (99)\ttotal: 2.43s\tremaining: 2.43s\n",
      "100:\tlearn: 2318.9576242\ttest: 2301.9559369\tbest: 2301.9559369 (100)\ttotal: 2.45s\tremaining: 2.4s\n",
      "101:\tlearn: 2314.6760814\ttest: 2297.8850244\tbest: 2297.8850244 (101)\ttotal: 2.48s\tremaining: 2.38s\n",
      "102:\tlearn: 2310.4810729\ttest: 2293.6254640\tbest: 2293.6254640 (102)\ttotal: 2.5s\tremaining: 2.36s\n",
      "103:\tlearn: 2306.4100524\ttest: 2289.7392103\tbest: 2289.7392103 (103)\ttotal: 2.53s\tremaining: 2.33s\n",
      "104:\tlearn: 2302.5600409\ttest: 2285.9569583\tbest: 2285.9569583 (104)\ttotal: 2.56s\tremaining: 2.32s\n",
      "105:\tlearn: 2298.9402769\ttest: 2282.2983470\tbest: 2282.2983470 (105)\ttotal: 2.61s\tremaining: 2.31s\n",
      "106:\tlearn: 2295.5320495\ttest: 2278.8591864\tbest: 2278.8591864 (106)\ttotal: 2.63s\tremaining: 2.29s\n",
      "107:\tlearn: 2292.1756693\ttest: 2275.4687081\tbest: 2275.4687081 (107)\ttotal: 2.66s\tremaining: 2.27s\n",
      "108:\tlearn: 2288.9390101\ttest: 2272.3140634\tbest: 2272.3140634 (108)\ttotal: 2.69s\tremaining: 2.24s\n",
      "109:\tlearn: 2285.8665204\ttest: 2269.2491047\tbest: 2269.2491047 (109)\ttotal: 2.71s\tremaining: 2.22s\n",
      "110:\tlearn: 2281.9980966\ttest: 2265.3811326\tbest: 2265.3811326 (110)\ttotal: 2.75s\tremaining: 2.2s\n",
      "111:\tlearn: 2278.3518056\ttest: 2261.6015045\tbest: 2261.6015045 (111)\ttotal: 2.77s\tremaining: 2.18s\n",
      "112:\tlearn: 2274.7505157\ttest: 2257.9824238\tbest: 2257.9824238 (112)\ttotal: 2.8s\tremaining: 2.16s\n",
      "113:\tlearn: 2271.4137580\ttest: 2254.7427491\tbest: 2254.7427491 (113)\ttotal: 2.83s\tremaining: 2.13s\n",
      "114:\tlearn: 2268.6596200\ttest: 2251.9530853\tbest: 2251.9530853 (114)\ttotal: 2.85s\tremaining: 2.11s\n",
      "115:\tlearn: 2265.2623877\ttest: 2248.5602706\tbest: 2248.5602706 (115)\ttotal: 2.88s\tremaining: 2.08s\n",
      "116:\tlearn: 2262.1356508\ttest: 2245.5859415\tbest: 2245.5859415 (116)\ttotal: 2.9s\tremaining: 2.06s\n",
      "117:\tlearn: 2259.1058397\ttest: 2242.5215389\tbest: 2242.5215389 (117)\ttotal: 2.92s\tremaining: 2.03s\n",
      "118:\tlearn: 2256.6129530\ttest: 2240.1802171\tbest: 2240.1802171 (118)\ttotal: 2.94s\tremaining: 2s\n",
      "119:\tlearn: 2254.1899025\ttest: 2237.7433606\tbest: 2237.7433606 (119)\ttotal: 2.96s\tremaining: 1.97s\n",
      "120:\tlearn: 2251.3670061\ttest: 2235.0677480\tbest: 2235.0677480 (120)\ttotal: 2.98s\tremaining: 1.94s\n",
      "121:\tlearn: 2248.4729918\ttest: 2232.3341200\tbest: 2232.3341200 (121)\ttotal: 3s\tremaining: 1.92s\n",
      "122:\tlearn: 2245.4203787\ttest: 2229.0362943\tbest: 2229.0362943 (122)\ttotal: 3.02s\tremaining: 1.89s\n",
      "123:\tlearn: 2242.8162800\ttest: 2226.5142346\tbest: 2226.5142346 (123)\ttotal: 3.04s\tremaining: 1.86s\n",
      "124:\tlearn: 2240.1023694\ttest: 2223.7761949\tbest: 2223.7761949 (124)\ttotal: 3.07s\tremaining: 1.84s\n",
      "125:\tlearn: 2237.2982311\ttest: 2220.9818658\tbest: 2220.9818658 (125)\ttotal: 3.09s\tremaining: 1.81s\n",
      "126:\tlearn: 2234.8435302\ttest: 2218.6205444\tbest: 2218.6205444 (126)\ttotal: 3.12s\tremaining: 1.79s\n",
      "127:\tlearn: 2232.2840813\ttest: 2216.0715647\tbest: 2216.0715647 (127)\ttotal: 3.14s\tremaining: 1.77s\n",
      "128:\tlearn: 2229.9468161\ttest: 2213.7963777\tbest: 2213.7963777 (128)\ttotal: 3.16s\tremaining: 1.74s\n",
      "129:\tlearn: 2227.1551867\ttest: 2210.9596161\tbest: 2210.9596161 (129)\ttotal: 3.18s\tremaining: 1.71s\n",
      "130:\tlearn: 2225.0722039\ttest: 2208.8472929\tbest: 2208.8472929 (130)\ttotal: 3.2s\tremaining: 1.69s\n",
      "131:\tlearn: 2222.5772688\ttest: 2206.4515234\tbest: 2206.4515234 (131)\ttotal: 3.22s\tremaining: 1.66s\n",
      "132:\tlearn: 2220.6299121\ttest: 2204.4203466\tbest: 2204.4203466 (132)\ttotal: 3.24s\tremaining: 1.63s\n",
      "133:\tlearn: 2218.1555753\ttest: 2201.7948585\tbest: 2201.7948585 (133)\ttotal: 3.27s\tremaining: 1.61s\n",
      "134:\tlearn: 2215.9699101\ttest: 2199.6004122\tbest: 2199.6004122 (134)\ttotal: 3.29s\tremaining: 1.59s\n",
      "135:\tlearn: 2213.5475010\ttest: 2197.1700888\tbest: 2197.1700888 (135)\ttotal: 3.32s\tremaining: 1.56s\n",
      "136:\tlearn: 2211.1319171\ttest: 2194.7267371\tbest: 2194.7267371 (136)\ttotal: 3.34s\tremaining: 1.54s\n",
      "137:\tlearn: 2209.0253007\ttest: 2192.6170456\tbest: 2192.6170456 (137)\ttotal: 3.36s\tremaining: 1.51s\n",
      "138:\tlearn: 2206.6147221\ttest: 2190.2531142\tbest: 2190.2531142 (138)\ttotal: 3.39s\tremaining: 1.49s\n",
      "139:\tlearn: 2204.4638587\ttest: 2188.0820808\tbest: 2188.0820808 (139)\ttotal: 3.43s\tremaining: 1.47s\n",
      "140:\tlearn: 2202.3168412\ttest: 2185.9936283\tbest: 2185.9936283 (140)\ttotal: 3.46s\tremaining: 1.45s\n",
      "141:\tlearn: 2200.3154971\ttest: 2183.9208866\tbest: 2183.9208866 (141)\ttotal: 3.48s\tremaining: 1.42s\n",
      "142:\tlearn: 2198.0468811\ttest: 2181.5605025\tbest: 2181.5605025 (142)\ttotal: 3.51s\tremaining: 1.4s\n",
      "143:\tlearn: 2196.1354297\ttest: 2179.6647014\tbest: 2179.6647014 (143)\ttotal: 3.54s\tremaining: 1.38s\n",
      "144:\tlearn: 2194.2515181\ttest: 2177.8522524\tbest: 2177.8522524 (144)\ttotal: 3.56s\tremaining: 1.35s\n",
      "145:\tlearn: 2191.9114950\ttest: 2175.4209737\tbest: 2175.4209737 (145)\ttotal: 3.62s\tremaining: 1.34s\n",
      "146:\tlearn: 2190.1850587\ttest: 2173.6686584\tbest: 2173.6686584 (146)\ttotal: 3.64s\tremaining: 1.31s\n",
      "147:\tlearn: 2188.2698093\ttest: 2171.7504629\tbest: 2171.7504629 (147)\ttotal: 3.67s\tremaining: 1.29s\n",
      "148:\tlearn: 2186.7330848\ttest: 2170.1889936\tbest: 2170.1889936 (148)\ttotal: 3.7s\tremaining: 1.26s\n",
      "149:\tlearn: 2184.7126689\ttest: 2168.3382329\tbest: 2168.3382329 (149)\ttotal: 3.72s\tremaining: 1.24s\n",
      "150:\tlearn: 2182.9509013\ttest: 2166.4492360\tbest: 2166.4492360 (150)\ttotal: 3.74s\tremaining: 1.21s\n",
      "151:\tlearn: 2180.3813559\ttest: 2163.7740156\tbest: 2163.7740156 (151)\ttotal: 3.76s\tremaining: 1.19s\n",
      "152:\tlearn: 2178.8975949\ttest: 2162.3622213\tbest: 2162.3622213 (152)\ttotal: 3.78s\tremaining: 1.16s\n",
      "153:\tlearn: 2177.4812001\ttest: 2161.0081516\tbest: 2161.0081516 (153)\ttotal: 3.79s\tremaining: 1.13s\n",
      "154:\tlearn: 2175.0625497\ttest: 2158.6149548\tbest: 2158.6149548 (154)\ttotal: 3.81s\tremaining: 1.11s\n",
      "155:\tlearn: 2173.0721271\ttest: 2156.5831929\tbest: 2156.5831929 (155)\ttotal: 3.83s\tremaining: 1.08s\n",
      "156:\tlearn: 2171.3231742\ttest: 2154.9517587\tbest: 2154.9517587 (156)\ttotal: 3.85s\tremaining: 1.05s\n",
      "157:\tlearn: 2169.7562676\ttest: 2153.3140243\tbest: 2153.3140243 (157)\ttotal: 3.88s\tremaining: 1.03s\n",
      "158:\tlearn: 2168.1700117\ttest: 2151.6730158\tbest: 2151.6730158 (158)\ttotal: 3.9s\tremaining: 1s\n",
      "159:\tlearn: 2166.6489364\ttest: 2150.1267038\tbest: 2150.1267038 (159)\ttotal: 3.92s\tremaining: 979ms\n",
      "160:\tlearn: 2164.4577524\ttest: 2147.9622244\tbest: 2147.9622244 (160)\ttotal: 3.93s\tremaining: 953ms\n",
      "161:\tlearn: 2162.7838826\ttest: 2146.3628106\tbest: 2146.3628106 (161)\ttotal: 3.95s\tremaining: 927ms\n",
      "162:\tlearn: 2161.6615807\ttest: 2145.3701164\tbest: 2145.3701164 (162)\ttotal: 3.97s\tremaining: 901ms\n",
      "163:\tlearn: 2159.3745198\ttest: 2142.9687970\tbest: 2142.9687970 (163)\ttotal: 3.99s\tremaining: 876ms\n",
      "164:\tlearn: 2157.9258498\ttest: 2141.5273112\tbest: 2141.5273112 (164)\ttotal: 4.01s\tremaining: 850ms\n",
      "165:\tlearn: 2155.9832115\ttest: 2139.6130251\tbest: 2139.6130251 (165)\ttotal: 4.03s\tremaining: 825ms\n",
      "166:\tlearn: 2154.0361243\ttest: 2137.5839308\tbest: 2137.5839308 (166)\ttotal: 4.04s\tremaining: 799ms\n",
      "167:\tlearn: 2152.7590518\ttest: 2136.3216303\tbest: 2136.3216303 (167)\ttotal: 4.06s\tremaining: 774ms\n",
      "168:\tlearn: 2151.2468668\ttest: 2134.8477143\tbest: 2134.8477143 (168)\ttotal: 4.08s\tremaining: 749ms\n",
      "169:\tlearn: 2149.6963508\ttest: 2133.3383149\tbest: 2133.3383149 (169)\ttotal: 4.11s\tremaining: 725ms\n",
      "170:\tlearn: 2148.0329556\ttest: 2131.6567560\tbest: 2131.6567560 (170)\ttotal: 4.13s\tremaining: 700ms\n",
      "171:\tlearn: 2146.1774972\ttest: 2129.7130983\tbest: 2129.7130983 (171)\ttotal: 4.15s\tremaining: 676ms\n",
      "172:\tlearn: 2144.9199073\ttest: 2128.4192293\tbest: 2128.4192293 (172)\ttotal: 4.17s\tremaining: 651ms\n",
      "173:\tlearn: 2143.6297128\ttest: 2127.1602568\tbest: 2127.1602568 (173)\ttotal: 4.19s\tremaining: 626ms\n",
      "174:\tlearn: 2141.6753885\ttest: 2125.1460114\tbest: 2125.1460114 (174)\ttotal: 4.22s\tremaining: 603ms\n",
      "175:\tlearn: 2140.5770752\ttest: 2124.0156435\tbest: 2124.0156435 (175)\ttotal: 4.24s\tremaining: 578ms\n",
      "176:\tlearn: 2138.7649939\ttest: 2122.0573686\tbest: 2122.0573686 (176)\ttotal: 4.26s\tremaining: 554ms\n",
      "177:\tlearn: 2137.4283404\ttest: 2120.8503424\tbest: 2120.8503424 (177)\ttotal: 4.28s\tremaining: 529ms\n",
      "178:\tlearn: 2136.1998905\ttest: 2119.7093347\tbest: 2119.7093347 (178)\ttotal: 4.3s\tremaining: 505ms\n",
      "179:\tlearn: 2134.9690610\ttest: 2118.5914077\tbest: 2118.5914077 (179)\ttotal: 4.33s\tremaining: 481ms\n",
      "180:\tlearn: 2133.2224161\ttest: 2116.7849702\tbest: 2116.7849702 (180)\ttotal: 4.35s\tremaining: 456ms\n",
      "181:\tlearn: 2131.3970636\ttest: 2114.9764898\tbest: 2114.9764898 (181)\ttotal: 4.37s\tremaining: 432ms\n",
      "182:\tlearn: 2129.4911303\ttest: 2113.0647452\tbest: 2113.0647452 (182)\ttotal: 4.39s\tremaining: 408ms\n",
      "183:\tlearn: 2128.4784342\ttest: 2112.0697474\tbest: 2112.0697474 (183)\ttotal: 4.4s\tremaining: 383ms\n",
      "184:\tlearn: 2126.7245405\ttest: 2110.3390241\tbest: 2110.3390241 (184)\ttotal: 4.42s\tremaining: 359ms\n",
      "185:\tlearn: 2125.0916854\ttest: 2108.6947187\tbest: 2108.6947187 (185)\ttotal: 4.44s\tremaining: 334ms\n",
      "186:\tlearn: 2123.4456841\ttest: 2107.0721191\tbest: 2107.0721191 (186)\ttotal: 4.46s\tremaining: 310ms\n",
      "187:\tlearn: 2122.2401788\ttest: 2105.8956272\tbest: 2105.8956272 (187)\ttotal: 4.48s\tremaining: 286ms\n",
      "188:\tlearn: 2120.6694237\ttest: 2104.2748715\tbest: 2104.2748715 (188)\ttotal: 4.49s\tremaining: 262ms\n",
      "189:\tlearn: 2118.9564629\ttest: 2102.5753916\tbest: 2102.5753916 (189)\ttotal: 4.52s\tremaining: 238ms\n",
      "190:\tlearn: 2117.4002481\ttest: 2101.0438957\tbest: 2101.0438957 (190)\ttotal: 4.54s\tremaining: 214ms\n",
      "191:\tlearn: 2116.4151949\ttest: 2100.1556221\tbest: 2100.1556221 (191)\ttotal: 4.56s\tremaining: 190ms\n",
      "192:\tlearn: 2115.6815617\ttest: 2099.4683217\tbest: 2099.4683217 (192)\ttotal: 4.58s\tremaining: 166ms\n",
      "193:\tlearn: 2114.6130543\ttest: 2098.3328877\tbest: 2098.3328877 (193)\ttotal: 4.6s\tremaining: 142ms\n",
      "194:\tlearn: 2113.2141158\ttest: 2096.9808226\tbest: 2096.9808226 (194)\ttotal: 4.62s\tremaining: 118ms\n",
      "195:\tlearn: 2111.9261702\ttest: 2095.7359637\tbest: 2095.7359637 (195)\ttotal: 4.63s\tremaining: 94.6ms\n",
      "196:\tlearn: 2110.9730983\ttest: 2094.8091792\tbest: 2094.8091792 (196)\ttotal: 4.65s\tremaining: 70.9ms\n",
      "197:\tlearn: 2109.2183042\ttest: 2092.9708342\tbest: 2092.9708342 (197)\ttotal: 4.67s\tremaining: 47.2ms\n",
      "198:\tlearn: 2108.1315824\ttest: 2091.9125026\tbest: 2091.9125026 (198)\ttotal: 4.69s\tremaining: 23.6ms\n",
      "199:\tlearn: 2107.1382308\ttest: 2090.8800473\tbest: 2090.8800473 (199)\ttotal: 4.71s\tremaining: 0us\n",
      "\n",
      "bestTest = 2090.880047\n",
      "bestIteration = 199\n",
      "\n",
      "7:\tloss: 2090.8800473\tbest: 2090.8800473 (7)\ttotal: 20.4s\tremaining: 48.4s\n",
      "0:\tlearn: 6144.5370906\ttest: 6131.7906224\tbest: 6131.7906224 (0)\ttotal: 23.6ms\tremaining: 4.69s\n",
      "1:\tlearn: 6003.6138690\ttest: 5991.1398136\tbest: 5991.1398136 (1)\ttotal: 43.9ms\tremaining: 4.34s\n",
      "2:\tlearn: 5866.9338255\ttest: 5854.6194104\tbest: 5854.6194104 (2)\ttotal: 64.3ms\tremaining: 4.22s\n",
      "3:\tlearn: 5735.7135865\ttest: 5723.0764745\tbest: 5723.0764745 (3)\ttotal: 84.6ms\tremaining: 4.15s\n",
      "4:\tlearn: 5606.4221457\ttest: 5593.4621379\tbest: 5593.4621379 (4)\ttotal: 104ms\tremaining: 4.05s\n",
      "5:\tlearn: 5481.5853097\ttest: 5468.5497043\tbest: 5468.5497043 (5)\ttotal: 124ms\tremaining: 4.01s\n",
      "6:\tlearn: 5360.3133004\ttest: 5346.9926893\tbest: 5346.9926893 (6)\ttotal: 143ms\tremaining: 3.95s\n",
      "7:\tlearn: 5244.2095518\ttest: 5231.0128587\tbest: 5231.0128587 (7)\ttotal: 163ms\tremaining: 3.91s\n",
      "8:\tlearn: 5131.7447160\ttest: 5118.2032981\tbest: 5118.2032981 (8)\ttotal: 188ms\tremaining: 3.98s\n",
      "9:\tlearn: 5026.3470580\ttest: 5012.5474854\tbest: 5012.5474854 (9)\ttotal: 209ms\tremaining: 3.98s\n",
      "10:\tlearn: 4923.6266967\ttest: 4910.1839592\tbest: 4910.1839592 (10)\ttotal: 230ms\tremaining: 3.95s\n",
      "11:\tlearn: 4825.4457395\ttest: 4811.9454438\tbest: 4811.9454438 (11)\ttotal: 251ms\tremaining: 3.93s\n",
      "12:\tlearn: 4730.1007010\ttest: 4716.5285879\tbest: 4716.5285879 (12)\ttotal: 270ms\tremaining: 3.88s\n",
      "13:\tlearn: 4638.7628739\ttest: 4625.4483900\tbest: 4625.4483900 (13)\ttotal: 290ms\tremaining: 3.85s\n",
      "14:\tlearn: 4549.9617479\ttest: 4536.8973693\tbest: 4536.8973693 (14)\ttotal: 310ms\tremaining: 3.83s\n",
      "15:\tlearn: 4462.9982502\ttest: 4450.0796465\tbest: 4450.0796465 (15)\ttotal: 330ms\tremaining: 3.79s\n",
      "16:\tlearn: 4379.9338116\ttest: 4367.2815650\tbest: 4367.2815650 (16)\ttotal: 350ms\tremaining: 3.77s\n",
      "17:\tlearn: 4297.6799363\ttest: 4284.7030304\tbest: 4284.7030304 (17)\ttotal: 370ms\tremaining: 3.74s\n",
      "18:\tlearn: 4221.5140630\ttest: 4208.5993493\tbest: 4208.5993493 (18)\ttotal: 399ms\tremaining: 3.8s\n",
      "19:\tlearn: 4147.2763226\ttest: 4134.4415949\tbest: 4134.4415949 (19)\ttotal: 420ms\tremaining: 3.78s\n",
      "20:\tlearn: 4073.9047180\ttest: 4060.9676235\tbest: 4060.9676235 (20)\ttotal: 442ms\tremaining: 3.76s\n",
      "21:\tlearn: 4005.3926292\ttest: 3992.4032502\tbest: 3992.4032502 (21)\ttotal: 461ms\tremaining: 3.73s\n",
      "22:\tlearn: 3940.0486221\ttest: 3926.8220050\tbest: 3926.8220050 (22)\ttotal: 482ms\tremaining: 3.71s\n",
      "23:\tlearn: 3877.4372937\ttest: 3864.3340408\tbest: 3864.3340408 (23)\ttotal: 504ms\tremaining: 3.69s\n",
      "24:\tlearn: 3813.9855317\ttest: 3800.7964237\tbest: 3800.7964237 (24)\ttotal: 525ms\tremaining: 3.67s\n",
      "25:\tlearn: 3752.6534313\ttest: 3739.0530925\tbest: 3739.0530925 (25)\ttotal: 545ms\tremaining: 3.65s\n",
      "26:\tlearn: 3693.8031110\ttest: 3680.1240098\tbest: 3680.1240098 (26)\ttotal: 567ms\tremaining: 3.63s\n",
      "27:\tlearn: 3637.6175487\ttest: 3623.8452332\tbest: 3623.8452332 (27)\ttotal: 587ms\tremaining: 3.6s\n",
      "28:\tlearn: 3585.1995994\ttest: 3571.5010365\tbest: 3571.5010365 (28)\ttotal: 612ms\tremaining: 3.61s\n",
      "29:\tlearn: 3535.2472496\ttest: 3521.6555029\tbest: 3521.6555029 (29)\ttotal: 635ms\tremaining: 3.6s\n",
      "30:\tlearn: 3487.1353211\ttest: 3473.3648851\tbest: 3473.3648851 (30)\ttotal: 654ms\tremaining: 3.57s\n",
      "31:\tlearn: 3441.0949783\ttest: 3427.1378674\tbest: 3427.1378674 (31)\ttotal: 675ms\tremaining: 3.54s\n",
      "32:\tlearn: 3397.5394928\ttest: 3383.6158116\tbest: 3383.6158116 (32)\ttotal: 695ms\tremaining: 3.52s\n",
      "33:\tlearn: 3355.6406975\ttest: 3341.5312929\tbest: 3341.5312929 (33)\ttotal: 716ms\tremaining: 3.49s\n",
      "34:\tlearn: 3315.7552151\ttest: 3301.6406029\tbest: 3301.6406029 (34)\ttotal: 735ms\tremaining: 3.47s\n",
      "35:\tlearn: 3273.9627806\ttest: 3259.5908261\tbest: 3259.5908261 (35)\ttotal: 755ms\tremaining: 3.44s\n",
      "36:\tlearn: 3233.9820745\ttest: 3219.2399967\tbest: 3219.2399967 (36)\ttotal: 776ms\tremaining: 3.42s\n",
      "37:\tlearn: 3197.2527140\ttest: 3182.5388418\tbest: 3182.5388418 (37)\ttotal: 796ms\tremaining: 3.39s\n",
      "38:\tlearn: 3160.3826318\ttest: 3145.4982945\tbest: 3145.4982945 (38)\ttotal: 816ms\tremaining: 3.37s\n",
      "39:\tlearn: 3124.9889015\ttest: 3109.8720225\tbest: 3109.8720225 (39)\ttotal: 843ms\tremaining: 3.37s\n",
      "40:\tlearn: 3093.0941051\ttest: 3077.9496251\tbest: 3077.9496251 (40)\ttotal: 864ms\tremaining: 3.35s\n",
      "41:\tlearn: 3061.6164767\ttest: 3046.3518576\tbest: 3046.3518576 (41)\ttotal: 884ms\tremaining: 3.33s\n",
      "42:\tlearn: 3032.2907788\ttest: 3017.1104368\tbest: 3017.1104368 (42)\ttotal: 906ms\tremaining: 3.31s\n",
      "43:\tlearn: 3001.7975888\ttest: 2986.4419848\tbest: 2986.4419848 (43)\ttotal: 929ms\tremaining: 3.29s\n",
      "44:\tlearn: 2973.9773690\ttest: 2958.4894950\tbest: 2958.4894950 (44)\ttotal: 951ms\tremaining: 3.27s\n",
      "45:\tlearn: 2945.6069408\ttest: 2929.9281682\tbest: 2929.9281682 (45)\ttotal: 971ms\tremaining: 3.25s\n",
      "46:\tlearn: 2920.6902581\ttest: 2905.1064749\tbest: 2905.1064749 (46)\ttotal: 992ms\tremaining: 3.23s\n",
      "47:\tlearn: 2896.4449308\ttest: 2881.0049563\tbest: 2881.0049563 (47)\ttotal: 1.01s\tremaining: 3.21s\n",
      "48:\tlearn: 2871.7398192\ttest: 2856.0932826\tbest: 2856.0932826 (48)\ttotal: 1.03s\tremaining: 3.19s\n",
      "49:\tlearn: 2848.3285791\ttest: 2832.5102447\tbest: 2832.5102447 (49)\ttotal: 1.06s\tremaining: 3.19s\n",
      "50:\tlearn: 2826.2642068\ttest: 2810.2170633\tbest: 2810.2170633 (50)\ttotal: 1.08s\tremaining: 3.16s\n",
      "51:\tlearn: 2805.7635927\ttest: 2789.7190779\tbest: 2789.7190779 (51)\ttotal: 1.1s\tremaining: 3.14s\n",
      "52:\tlearn: 2784.0697070\ttest: 2767.8755425\tbest: 2767.8755425 (52)\ttotal: 1.12s\tremaining: 3.11s\n",
      "53:\tlearn: 2763.4685042\ttest: 2747.1293904\tbest: 2747.1293904 (53)\ttotal: 1.14s\tremaining: 3.09s\n",
      "54:\tlearn: 2745.3749091\ttest: 2729.0307824\tbest: 2729.0307824 (54)\ttotal: 1.16s\tremaining: 3.06s\n",
      "55:\tlearn: 2726.3754045\ttest: 2709.8764698\tbest: 2709.8764698 (55)\ttotal: 1.18s\tremaining: 3.04s\n",
      "56:\tlearn: 2709.5395359\ttest: 2693.0853494\tbest: 2693.0853494 (56)\ttotal: 1.2s\tremaining: 3.01s\n",
      "57:\tlearn: 2692.0559366\ttest: 2675.4886229\tbest: 2675.4886229 (57)\ttotal: 1.22s\tremaining: 2.99s\n",
      "58:\tlearn: 2676.4230283\ttest: 2659.8267623\tbest: 2659.8267623 (58)\ttotal: 1.24s\tremaining: 2.96s\n",
      "59:\tlearn: 2659.4068774\ttest: 2642.7688790\tbest: 2642.7688790 (59)\ttotal: 1.26s\tremaining: 2.94s\n",
      "60:\tlearn: 2643.8998374\ttest: 2627.0992655\tbest: 2627.0992655 (60)\ttotal: 1.29s\tremaining: 2.93s\n",
      "61:\tlearn: 2629.6039798\ttest: 2612.7160940\tbest: 2612.7160940 (61)\ttotal: 1.31s\tremaining: 2.91s\n",
      "62:\tlearn: 2614.6463099\ttest: 2597.7843454\tbest: 2597.7843454 (62)\ttotal: 1.33s\tremaining: 2.89s\n",
      "63:\tlearn: 2601.3947787\ttest: 2584.5697339\tbest: 2584.5697339 (63)\ttotal: 1.35s\tremaining: 2.87s\n",
      "64:\tlearn: 2588.2890939\ttest: 2571.3481774\tbest: 2571.3481774 (64)\ttotal: 1.38s\tremaining: 2.86s\n",
      "65:\tlearn: 2576.4524013\ttest: 2559.3608815\tbest: 2559.3608815 (65)\ttotal: 1.4s\tremaining: 2.84s\n",
      "66:\tlearn: 2564.2124434\ttest: 2547.1238093\tbest: 2547.1238093 (66)\ttotal: 1.42s\tremaining: 2.82s\n",
      "67:\tlearn: 2553.0170870\ttest: 2535.9671819\tbest: 2535.9671819 (67)\ttotal: 1.44s\tremaining: 2.8s\n",
      "68:\tlearn: 2540.7962050\ttest: 2523.7530944\tbest: 2523.7530944 (68)\ttotal: 1.46s\tremaining: 2.78s\n",
      "69:\tlearn: 2530.6914961\ttest: 2513.5427882\tbest: 2513.5427882 (69)\ttotal: 1.48s\tremaining: 2.76s\n",
      "70:\tlearn: 2520.1552080\ttest: 2503.0087428\tbest: 2503.0087428 (70)\ttotal: 1.51s\tremaining: 2.74s\n",
      "71:\tlearn: 2509.3930327\ttest: 2492.2601188\tbest: 2492.2601188 (71)\ttotal: 1.53s\tremaining: 2.72s\n",
      "72:\tlearn: 2499.4599417\ttest: 2482.4378291\tbest: 2482.4378291 (72)\ttotal: 1.55s\tremaining: 2.7s\n",
      "73:\tlearn: 2489.5483588\ttest: 2472.4703374\tbest: 2472.4703374 (73)\ttotal: 1.59s\tremaining: 2.71s\n",
      "74:\tlearn: 2480.1003754\ttest: 2462.9676396\tbest: 2462.9676396 (74)\ttotal: 1.61s\tremaining: 2.69s\n",
      "75:\tlearn: 2471.0207227\ttest: 2453.7619417\tbest: 2453.7619417 (75)\ttotal: 1.63s\tremaining: 2.67s\n",
      "76:\tlearn: 2462.7210658\ttest: 2445.5826541\tbest: 2445.5826541 (76)\ttotal: 1.65s\tremaining: 2.64s\n",
      "77:\tlearn: 2454.2680475\ttest: 2437.3180248\tbest: 2437.3180248 (77)\ttotal: 1.67s\tremaining: 2.61s\n",
      "78:\tlearn: 2446.1056131\ttest: 2429.2163358\tbest: 2429.2163358 (78)\ttotal: 1.69s\tremaining: 2.59s\n",
      "79:\tlearn: 2438.3871728\ttest: 2421.4857678\tbest: 2421.4857678 (79)\ttotal: 1.71s\tremaining: 2.56s\n",
      "80:\tlearn: 2430.4966624\ttest: 2413.6945009\tbest: 2413.6945009 (80)\ttotal: 1.74s\tremaining: 2.55s\n",
      "81:\tlearn: 2423.7560503\ttest: 2406.8599180\tbest: 2406.8599180 (81)\ttotal: 1.76s\tremaining: 2.53s\n",
      "82:\tlearn: 2416.8245635\ttest: 2400.0430522\tbest: 2400.0430522 (82)\ttotal: 1.77s\tremaining: 2.5s\n",
      "83:\tlearn: 2409.4873864\ttest: 2392.7727915\tbest: 2392.7727915 (83)\ttotal: 1.79s\tremaining: 2.48s\n",
      "84:\tlearn: 2402.6380596\ttest: 2386.0437797\tbest: 2386.0437797 (84)\ttotal: 1.81s\tremaining: 2.45s\n",
      "85:\tlearn: 2395.7165975\ttest: 2378.9952769\tbest: 2378.9952769 (85)\ttotal: 1.83s\tremaining: 2.43s\n",
      "86:\tlearn: 2389.7391571\ttest: 2373.0566215\tbest: 2373.0566215 (86)\ttotal: 1.85s\tremaining: 2.4s\n",
      "87:\tlearn: 2383.9694689\ttest: 2367.4704732\tbest: 2367.4704732 (87)\ttotal: 1.87s\tremaining: 2.38s\n",
      "88:\tlearn: 2377.9840043\ttest: 2361.4563770\tbest: 2361.4563770 (88)\ttotal: 1.89s\tremaining: 2.35s\n",
      "89:\tlearn: 2372.4139929\ttest: 2356.0402210\tbest: 2356.0402210 (89)\ttotal: 1.91s\tremaining: 2.33s\n",
      "90:\tlearn: 2367.2280503\ttest: 2350.7903414\tbest: 2350.7903414 (90)\ttotal: 1.93s\tremaining: 2.31s\n",
      "91:\tlearn: 2361.9440310\ttest: 2345.5315329\tbest: 2345.5315329 (91)\ttotal: 1.95s\tremaining: 2.29s\n",
      "92:\tlearn: 2356.8519111\ttest: 2340.6987056\tbest: 2340.6987056 (92)\ttotal: 1.97s\tremaining: 2.27s\n",
      "93:\tlearn: 2351.9730776\ttest: 2335.7939220\tbest: 2335.7939220 (93)\ttotal: 1.99s\tremaining: 2.25s\n",
      "94:\tlearn: 2346.6393316\ttest: 2330.4178764\tbest: 2330.4178764 (94)\ttotal: 2.01s\tremaining: 2.22s\n",
      "95:\tlearn: 2341.7610742\ttest: 2325.4673330\tbest: 2325.4673330 (95)\ttotal: 2.03s\tremaining: 2.2s\n",
      "96:\tlearn: 2336.8811829\ttest: 2320.5881721\tbest: 2320.5881721 (96)\ttotal: 2.05s\tremaining: 2.17s\n",
      "97:\tlearn: 2332.6435608\ttest: 2316.2447997\tbest: 2316.2447997 (97)\ttotal: 2.07s\tremaining: 2.15s\n",
      "98:\tlearn: 2328.1883200\ttest: 2311.7328260\tbest: 2311.7328260 (98)\ttotal: 2.09s\tremaining: 2.13s\n",
      "99:\tlearn: 2324.2331340\ttest: 2307.7864443\tbest: 2307.7864443 (99)\ttotal: 2.11s\tremaining: 2.11s\n",
      "100:\tlearn: 2319.6826428\ttest: 2303.2218891\tbest: 2303.2218891 (100)\ttotal: 2.13s\tremaining: 2.08s\n",
      "101:\tlearn: 2315.7236494\ttest: 2299.3959240\tbest: 2299.3959240 (101)\ttotal: 2.14s\tremaining: 2.06s\n",
      "102:\tlearn: 2311.3819503\ttest: 2295.0809520\tbest: 2295.0809520 (102)\ttotal: 2.17s\tremaining: 2.04s\n",
      "103:\tlearn: 2307.4979389\ttest: 2291.3514029\tbest: 2291.3514029 (103)\ttotal: 2.19s\tremaining: 2.02s\n",
      "104:\tlearn: 2303.6397003\ttest: 2287.6916292\tbest: 2287.6916292 (104)\ttotal: 2.21s\tremaining: 2s\n",
      "105:\tlearn: 2300.1332739\ttest: 2284.1246137\tbest: 2284.1246137 (105)\ttotal: 2.23s\tremaining: 1.97s\n",
      "106:\tlearn: 2296.6112120\ttest: 2280.5490047\tbest: 2280.5490047 (106)\ttotal: 2.24s\tremaining: 1.95s\n",
      "107:\tlearn: 2292.5819707\ttest: 2276.4847820\tbest: 2276.4847820 (107)\ttotal: 2.26s\tremaining: 1.93s\n",
      "108:\tlearn: 2289.1830188\ttest: 2273.1876193\tbest: 2273.1876193 (108)\ttotal: 2.28s\tremaining: 1.9s\n",
      "109:\tlearn: 2286.0992482\ttest: 2270.1111378\tbest: 2270.1111378 (109)\ttotal: 2.3s\tremaining: 1.88s\n",
      "110:\tlearn: 2282.2501661\ttest: 2266.2620393\tbest: 2266.2620393 (110)\ttotal: 2.32s\tremaining: 1.86s\n",
      "111:\tlearn: 2278.8015079\ttest: 2262.7531128\tbest: 2262.7531128 (111)\ttotal: 2.34s\tremaining: 1.83s\n",
      "112:\tlearn: 2275.4490470\ttest: 2259.3714928\tbest: 2259.3714928 (112)\ttotal: 2.36s\tremaining: 1.82s\n",
      "113:\tlearn: 2272.3225544\ttest: 2256.3286142\tbest: 2256.3286142 (113)\ttotal: 2.38s\tremaining: 1.8s\n",
      "114:\tlearn: 2269.4760799\ttest: 2253.6298237\tbest: 2253.6298237 (114)\ttotal: 2.41s\tremaining: 1.78s\n",
      "115:\tlearn: 2265.9878441\ttest: 2250.0407620\tbest: 2250.0407620 (115)\ttotal: 2.44s\tremaining: 1.76s\n",
      "116:\tlearn: 2262.8007748\ttest: 2246.8938968\tbest: 2246.8938968 (116)\ttotal: 2.49s\tremaining: 1.77s\n",
      "117:\tlearn: 2259.2115627\ttest: 2243.2186906\tbest: 2243.2186906 (117)\ttotal: 2.51s\tremaining: 1.75s\n",
      "118:\tlearn: 2256.1645259\ttest: 2240.1355666\tbest: 2240.1355666 (118)\ttotal: 2.54s\tremaining: 1.73s\n",
      "119:\tlearn: 2253.7330006\ttest: 2237.7136622\tbest: 2237.7136622 (119)\ttotal: 2.6s\tremaining: 1.73s\n",
      "120:\tlearn: 2251.0045337\ttest: 2235.1326620\tbest: 2235.1326620 (120)\ttotal: 2.65s\tremaining: 1.73s\n",
      "121:\tlearn: 2248.5657868\ttest: 2232.6517468\tbest: 2232.6517468 (121)\ttotal: 2.68s\tremaining: 1.71s\n",
      "122:\tlearn: 2245.8007987\ttest: 2230.0723607\tbest: 2230.0723607 (122)\ttotal: 2.7s\tremaining: 1.69s\n",
      "123:\tlearn: 2243.1022472\ttest: 2227.4194728\tbest: 2227.4194728 (123)\ttotal: 2.72s\tremaining: 1.67s\n",
      "124:\tlearn: 2240.4199543\ttest: 2224.5949378\tbest: 2224.5949378 (124)\ttotal: 2.74s\tremaining: 1.65s\n",
      "125:\tlearn: 2238.2427437\ttest: 2222.3359089\tbest: 2222.3359089 (125)\ttotal: 2.77s\tremaining: 1.62s\n",
      "126:\tlearn: 2235.8318031\ttest: 2220.0214329\tbest: 2220.0214329 (126)\ttotal: 2.79s\tremaining: 1.6s\n",
      "127:\tlearn: 2232.4995503\ttest: 2216.4112108\tbest: 2216.4112108 (127)\ttotal: 2.81s\tremaining: 1.58s\n",
      "128:\tlearn: 2230.1215149\ttest: 2214.0986137\tbest: 2214.0986137 (128)\ttotal: 2.83s\tremaining: 1.56s\n",
      "129:\tlearn: 2227.5914073\ttest: 2211.6276423\tbest: 2211.6276423 (129)\ttotal: 2.86s\tremaining: 1.54s\n",
      "130:\tlearn: 2225.0434568\ttest: 2209.0755189\tbest: 2209.0755189 (130)\ttotal: 2.88s\tremaining: 1.52s\n",
      "131:\tlearn: 2222.5014286\ttest: 2206.5629039\tbest: 2206.5629039 (131)\ttotal: 2.9s\tremaining: 1.49s\n",
      "132:\tlearn: 2220.6154264\ttest: 2204.5920358\tbest: 2204.5920358 (132)\ttotal: 2.92s\tremaining: 1.47s\n",
      "133:\tlearn: 2218.2627014\ttest: 2202.1680320\tbest: 2202.1680320 (133)\ttotal: 2.94s\tremaining: 1.45s\n",
      "134:\tlearn: 2215.9344484\ttest: 2199.7986512\tbest: 2199.7986512 (134)\ttotal: 2.96s\tremaining: 1.42s\n",
      "135:\tlearn: 2213.6032448\ttest: 2197.4444677\tbest: 2197.4444677 (135)\ttotal: 2.98s\tremaining: 1.4s\n",
      "136:\tlearn: 2211.1831356\ttest: 2194.9951462\tbest: 2194.9951462 (136)\ttotal: 3s\tremaining: 1.38s\n",
      "137:\tlearn: 2208.1408787\ttest: 2191.9088915\tbest: 2191.9088915 (137)\ttotal: 3.03s\tremaining: 1.36s\n",
      "138:\tlearn: 2205.9781038\ttest: 2189.7801764\tbest: 2189.7801764 (138)\ttotal: 3.05s\tremaining: 1.34s\n",
      "139:\tlearn: 2204.0398010\ttest: 2187.9278999\tbest: 2187.9278999 (139)\ttotal: 3.07s\tremaining: 1.32s\n",
      "140:\tlearn: 2201.9638558\ttest: 2185.9059250\tbest: 2185.9059250 (140)\ttotal: 3.09s\tremaining: 1.29s\n",
      "141:\tlearn: 2199.9702180\ttest: 2183.8388761\tbest: 2183.8388761 (141)\ttotal: 3.12s\tremaining: 1.27s\n",
      "142:\tlearn: 2197.3016760\ttest: 2181.1816171\tbest: 2181.1816171 (142)\ttotal: 3.14s\tremaining: 1.25s\n",
      "143:\tlearn: 2195.7195509\ttest: 2179.7090809\tbest: 2179.7090809 (143)\ttotal: 3.17s\tremaining: 1.23s\n",
      "144:\tlearn: 2193.8224880\ttest: 2177.8834709\tbest: 2177.8834709 (144)\ttotal: 3.19s\tremaining: 1.21s\n",
      "145:\tlearn: 2191.4442019\ttest: 2175.4120492\tbest: 2175.4120492 (145)\ttotal: 3.21s\tremaining: 1.19s\n",
      "146:\tlearn: 2189.7917714\ttest: 2173.7322062\tbest: 2173.7322062 (146)\ttotal: 3.24s\tremaining: 1.17s\n",
      "147:\tlearn: 2187.8813668\ttest: 2171.8224226\tbest: 2171.8224226 (147)\ttotal: 3.26s\tremaining: 1.15s\n",
      "148:\tlearn: 2185.7966778\ttest: 2169.7987046\tbest: 2169.7987046 (148)\ttotal: 3.28s\tremaining: 1.12s\n",
      "149:\tlearn: 2183.8218484\ttest: 2167.9898823\tbest: 2167.9898823 (149)\ttotal: 3.31s\tremaining: 1.1s\n",
      "150:\tlearn: 2181.8547194\ttest: 2165.9884223\tbest: 2165.9884223 (150)\ttotal: 3.33s\tremaining: 1.08s\n",
      "151:\tlearn: 2180.3831993\ttest: 2164.5992298\tbest: 2164.5992298 (151)\ttotal: 3.34s\tremaining: 1.06s\n",
      "152:\tlearn: 2178.8919551\ttest: 2163.1846058\tbest: 2163.1846058 (152)\ttotal: 3.36s\tremaining: 1.03s\n",
      "153:\tlearn: 2177.4516825\ttest: 2161.7589607\tbest: 2161.7589607 (153)\ttotal: 3.38s\tremaining: 1.01s\n",
      "154:\tlearn: 2175.1692524\ttest: 2159.5052763\tbest: 2159.5052763 (154)\ttotal: 3.4s\tremaining: 988ms\n",
      "155:\tlearn: 2173.2990965\ttest: 2157.6477873\tbest: 2157.6477873 (155)\ttotal: 3.42s\tremaining: 965ms\n",
      "156:\tlearn: 2171.9053397\ttest: 2156.2318487\tbest: 2156.2318487 (156)\ttotal: 3.45s\tremaining: 944ms\n",
      "157:\tlearn: 2170.6325130\ttest: 2154.9616075\tbest: 2154.9616075 (157)\ttotal: 3.47s\tremaining: 922ms\n",
      "158:\tlearn: 2169.0325972\ttest: 2153.2999467\tbest: 2153.2999467 (158)\ttotal: 3.49s\tremaining: 901ms\n",
      "159:\tlearn: 2166.8510223\ttest: 2150.9669125\tbest: 2150.9669125 (159)\ttotal: 3.51s\tremaining: 878ms\n",
      "160:\tlearn: 2164.3874031\ttest: 2148.4098899\tbest: 2148.4098899 (160)\ttotal: 3.53s\tremaining: 856ms\n",
      "161:\tlearn: 2162.7233909\ttest: 2146.8142197\tbest: 2146.8142197 (161)\ttotal: 3.55s\tremaining: 834ms\n",
      "162:\tlearn: 2161.6294267\ttest: 2145.8439265\tbest: 2145.8439265 (162)\ttotal: 3.57s\tremaining: 811ms\n",
      "163:\tlearn: 2159.6418063\ttest: 2143.8637062\tbest: 2143.8637062 (163)\ttotal: 3.59s\tremaining: 789ms\n",
      "164:\tlearn: 2158.2576011\ttest: 2142.4853763\tbest: 2142.4853763 (164)\ttotal: 3.62s\tremaining: 768ms\n",
      "165:\tlearn: 2156.3714198\ttest: 2140.5144828\tbest: 2140.5144828 (165)\ttotal: 3.65s\tremaining: 747ms\n",
      "166:\tlearn: 2154.3387368\ttest: 2138.5110479\tbest: 2138.5110479 (166)\ttotal: 3.68s\tremaining: 727ms\n",
      "167:\tlearn: 2152.5241611\ttest: 2136.6648998\tbest: 2136.6648998 (167)\ttotal: 3.7s\tremaining: 706ms\n",
      "168:\tlearn: 2150.9761629\ttest: 2135.1551599\tbest: 2135.1551599 (168)\ttotal: 3.73s\tremaining: 685ms\n",
      "169:\tlearn: 2149.6951760\ttest: 2133.9459220\tbest: 2133.9459220 (169)\ttotal: 3.76s\tremaining: 663ms\n",
      "170:\tlearn: 2148.3391374\ttest: 2132.6202178\tbest: 2132.6202178 (170)\ttotal: 3.78s\tremaining: 641ms\n",
      "171:\tlearn: 2146.4897412\ttest: 2130.6800466\tbest: 2130.6800466 (171)\ttotal: 3.8s\tremaining: 619ms\n",
      "172:\tlearn: 2145.2256115\ttest: 2129.3704764\tbest: 2129.3704764 (172)\ttotal: 3.82s\tremaining: 596ms\n",
      "173:\tlearn: 2143.8351910\ttest: 2127.9185133\tbest: 2127.9185133 (173)\ttotal: 3.84s\tremaining: 573ms\n",
      "174:\tlearn: 2141.8938983\ttest: 2125.9099314\tbest: 2125.9099314 (174)\ttotal: 3.86s\tremaining: 552ms\n",
      "175:\tlearn: 2140.7712286\ttest: 2124.7530165\tbest: 2124.7530165 (175)\ttotal: 3.89s\tremaining: 530ms\n",
      "176:\tlearn: 2139.2705385\ttest: 2123.3351592\tbest: 2123.3351592 (176)\ttotal: 3.92s\tremaining: 509ms\n",
      "177:\tlearn: 2138.0758170\ttest: 2122.1905668\tbest: 2122.1905668 (177)\ttotal: 3.94s\tremaining: 487ms\n",
      "178:\tlearn: 2136.3907325\ttest: 2120.4184702\tbest: 2120.4184702 (178)\ttotal: 3.96s\tremaining: 465ms\n",
      "179:\tlearn: 2135.2651039\ttest: 2119.3027192\tbest: 2119.3027192 (179)\ttotal: 3.98s\tremaining: 442ms\n",
      "180:\tlearn: 2133.5186138\ttest: 2117.4936890\tbest: 2117.4936890 (180)\ttotal: 4s\tremaining: 420ms\n",
      "181:\tlearn: 2131.7455793\ttest: 2115.6456714\tbest: 2115.6456714 (181)\ttotal: 4.03s\tremaining: 399ms\n",
      "182:\tlearn: 2129.9705839\ttest: 2113.8662647\tbest: 2113.8662647 (182)\ttotal: 4.05s\tremaining: 377ms\n",
      "183:\tlearn: 2128.9547133\ttest: 2112.8656829\tbest: 2112.8656829 (183)\ttotal: 4.08s\tremaining: 355ms\n",
      "184:\tlearn: 2127.1838034\ttest: 2111.1058112\tbest: 2111.1058112 (184)\ttotal: 4.11s\tremaining: 333ms\n",
      "185:\tlearn: 2125.5176262\ttest: 2109.4681641\tbest: 2109.4681641 (185)\ttotal: 4.13s\tremaining: 311ms\n",
      "186:\tlearn: 2123.9005518\ttest: 2107.8247160\tbest: 2107.8247160 (186)\ttotal: 4.15s\tremaining: 289ms\n",
      "187:\tlearn: 2122.6858265\ttest: 2106.6381890\tbest: 2106.6381890 (187)\ttotal: 4.17s\tremaining: 266ms\n",
      "188:\tlearn: 2121.0801382\ttest: 2104.8990788\tbest: 2104.8990788 (188)\ttotal: 4.2s\tremaining: 244ms\n",
      "189:\tlearn: 2119.6380239\ttest: 2103.5069934\tbest: 2103.5069934 (189)\ttotal: 4.22s\tremaining: 222ms\n",
      "190:\tlearn: 2118.3994166\ttest: 2102.3058685\tbest: 2102.3058685 (190)\ttotal: 4.24s\tremaining: 200ms\n",
      "191:\tlearn: 2117.3398386\ttest: 2101.2471136\tbest: 2101.2471136 (191)\ttotal: 4.25s\tremaining: 177ms\n",
      "192:\tlearn: 2116.6338358\ttest: 2100.5830408\tbest: 2100.5830408 (192)\ttotal: 4.27s\tremaining: 155ms\n",
      "193:\tlearn: 2115.6291284\ttest: 2099.5137206\tbest: 2099.5137206 (193)\ttotal: 4.3s\tremaining: 133ms\n",
      "194:\tlearn: 2114.3446223\ttest: 2098.2714109\tbest: 2098.2714109 (194)\ttotal: 4.32s\tremaining: 111ms\n",
      "195:\tlearn: 2112.7315648\ttest: 2096.5973878\tbest: 2096.5973878 (195)\ttotal: 4.35s\tremaining: 88.7ms\n",
      "196:\tlearn: 2111.7549354\ttest: 2095.6463190\tbest: 2095.6463190 (196)\ttotal: 4.37s\tremaining: 66.5ms\n",
      "197:\tlearn: 2110.0894866\ttest: 2093.8997033\tbest: 2093.8997033 (197)\ttotal: 4.39s\tremaining: 44.4ms\n",
      "198:\tlearn: 2109.0498781\ttest: 2092.8869214\tbest: 2092.8869214 (198)\ttotal: 4.41s\tremaining: 22.2ms\n",
      "199:\tlearn: 2107.7291249\ttest: 2091.4932915\tbest: 2091.4932915 (199)\ttotal: 4.43s\tremaining: 0us\n",
      "\n",
      "bestTest = 2091.493292\n",
      "bestIteration = 199\n",
      "\n",
      "8:\tloss: 2091.4932915\tbest: 2090.8800473 (7)\ttotal: 24.9s\tremaining: 49.8s\n",
      "0:\tlearn: 6138.0935326\ttest: 6125.0013040\tbest: 6125.0013040 (0)\ttotal: 33.8ms\tremaining: 1.66s\n",
      "1:\tlearn: 5988.2337499\ttest: 5975.1264717\tbest: 5975.1264717 (1)\ttotal: 70.4ms\tremaining: 1.69s\n",
      "2:\tlearn: 5845.2193278\ttest: 5832.3665091\tbest: 5832.3665091 (2)\ttotal: 100ms\tremaining: 1.57s\n",
      "3:\tlearn: 5708.0518694\ttest: 5695.3622787\tbest: 5695.3622787 (3)\ttotal: 138ms\tremaining: 1.59s\n",
      "4:\tlearn: 5575.2106088\ttest: 5562.4592829\tbest: 5562.4592829 (4)\ttotal: 166ms\tremaining: 1.5s\n",
      "5:\tlearn: 5448.1040441\ttest: 5435.6874013\tbest: 5435.6874013 (5)\ttotal: 198ms\tremaining: 1.45s\n",
      "6:\tlearn: 5323.8784876\ttest: 5311.5338703\tbest: 5311.5338703 (6)\ttotal: 226ms\tremaining: 1.39s\n",
      "7:\tlearn: 5203.8325749\ttest: 5191.7958766\tbest: 5191.7958766 (7)\ttotal: 255ms\tremaining: 1.34s\n",
      "8:\tlearn: 5089.9355820\ttest: 5078.2108679\tbest: 5078.2108679 (8)\ttotal: 281ms\tremaining: 1.28s\n",
      "9:\tlearn: 4979.4150017\ttest: 4967.8661195\tbest: 4967.8661195 (9)\ttotal: 318ms\tremaining: 1.27s\n",
      "10:\tlearn: 4873.0259588\ttest: 4861.5110594\tbest: 4861.5110594 (10)\ttotal: 346ms\tremaining: 1.23s\n",
      "11:\tlearn: 4769.1852840\ttest: 4757.6670931\tbest: 4757.6670931 (11)\ttotal: 372ms\tremaining: 1.18s\n",
      "12:\tlearn: 4667.0993926\ttest: 4655.6238267\tbest: 4655.6238267 (12)\ttotal: 405ms\tremaining: 1.15s\n",
      "13:\tlearn: 4569.9166328\ttest: 4558.1730710\tbest: 4558.1730710 (13)\ttotal: 432ms\tremaining: 1.11s\n",
      "14:\tlearn: 4476.5793999\ttest: 4465.0768061\tbest: 4465.0768061 (14)\ttotal: 463ms\tremaining: 1.08s\n",
      "15:\tlearn: 4385.4739959\ttest: 4374.1642631\tbest: 4374.1642631 (15)\ttotal: 497ms\tremaining: 1.06s\n",
      "16:\tlearn: 4298.6535328\ttest: 4287.3943903\tbest: 4287.3943903 (16)\ttotal: 525ms\tremaining: 1.02s\n",
      "17:\tlearn: 4214.1133976\ttest: 4202.6550472\tbest: 4202.6550472 (17)\ttotal: 557ms\tremaining: 990ms\n",
      "18:\tlearn: 4134.0668813\ttest: 4122.6063506\tbest: 4122.6063506 (18)\ttotal: 591ms\tremaining: 965ms\n",
      "19:\tlearn: 4057.9942727\ttest: 4046.6885914\tbest: 4046.6885914 (19)\ttotal: 619ms\tremaining: 928ms\n",
      "20:\tlearn: 3983.7305369\ttest: 3972.5441108\tbest: 3972.5441108 (20)\ttotal: 645ms\tremaining: 891ms\n",
      "21:\tlearn: 3912.6095406\ttest: 3901.5447301\tbest: 3901.5447301 (21)\ttotal: 677ms\tremaining: 861ms\n",
      "22:\tlearn: 3841.8781024\ttest: 3830.3774610\tbest: 3830.3774610 (22)\ttotal: 704ms\tremaining: 826ms\n",
      "23:\tlearn: 3775.1583428\ttest: 3763.6083330\tbest: 3763.6083330 (23)\ttotal: 732ms\tremaining: 793ms\n",
      "24:\tlearn: 3708.8523329\ttest: 3697.0780247\tbest: 3697.0780247 (24)\ttotal: 769ms\tremaining: 769ms\n",
      "25:\tlearn: 3646.0646430\ttest: 3634.0766887\tbest: 3634.0766887 (25)\ttotal: 799ms\tremaining: 737ms\n",
      "26:\tlearn: 3586.3170111\ttest: 3574.2306871\tbest: 3574.2306871 (26)\ttotal: 829ms\tremaining: 706ms\n",
      "27:\tlearn: 3528.0528412\ttest: 3515.9781154\tbest: 3515.9781154 (27)\ttotal: 858ms\tremaining: 674ms\n",
      "28:\tlearn: 3473.2862169\ttest: 3461.3074059\tbest: 3461.3074059 (28)\ttotal: 927ms\tremaining: 671ms\n",
      "29:\tlearn: 3418.6721066\ttest: 3406.6064969\tbest: 3406.6064969 (29)\ttotal: 961ms\tremaining: 641ms\n",
      "30:\tlearn: 3367.1388680\ttest: 3354.7201587\tbest: 3354.7201587 (30)\ttotal: 991ms\tremaining: 607ms\n",
      "31:\tlearn: 3319.2147995\ttest: 3307.0662172\tbest: 3307.0662172 (31)\ttotal: 1.03s\tremaining: 578ms\n",
      "32:\tlearn: 3271.2349356\ttest: 3259.1660574\tbest: 3259.1660574 (32)\ttotal: 1.06s\tremaining: 547ms\n",
      "33:\tlearn: 3224.7443795\ttest: 3212.4219311\tbest: 3212.4219311 (33)\ttotal: 1.09s\tremaining: 514ms\n",
      "34:\tlearn: 3181.7725328\ttest: 3169.3378251\tbest: 3169.3378251 (34)\ttotal: 1.13s\tremaining: 486ms\n",
      "35:\tlearn: 3139.2838594\ttest: 3126.6853899\tbest: 3126.6853899 (35)\ttotal: 1.16s\tremaining: 452ms\n",
      "36:\tlearn: 3098.1332897\ttest: 3085.2362052\tbest: 3085.2362052 (36)\ttotal: 1.2s\tremaining: 420ms\n",
      "37:\tlearn: 3059.9069429\ttest: 3047.1526396\tbest: 3047.1526396 (37)\ttotal: 1.23s\tremaining: 387ms\n",
      "38:\tlearn: 3023.1089684\ttest: 3010.3968161\tbest: 3010.3968161 (38)\ttotal: 1.26s\tremaining: 355ms\n",
      "39:\tlearn: 2987.7407306\ttest: 2975.0477502\tbest: 2975.0477502 (39)\ttotal: 1.29s\tremaining: 323ms\n",
      "40:\tlearn: 2953.8814579\ttest: 2941.1882605\tbest: 2941.1882605 (40)\ttotal: 1.32s\tremaining: 290ms\n",
      "41:\tlearn: 2921.2973104\ttest: 2908.5493076\tbest: 2908.5493076 (41)\ttotal: 1.35s\tremaining: 258ms\n",
      "42:\tlearn: 2889.5103525\ttest: 2876.5452623\tbest: 2876.5452623 (42)\ttotal: 1.38s\tremaining: 225ms\n",
      "43:\tlearn: 2858.8567173\ttest: 2845.8595012\tbest: 2845.8595012 (43)\ttotal: 1.41s\tremaining: 193ms\n",
      "44:\tlearn: 2829.3598205\ttest: 2816.2530140\tbest: 2816.2530140 (44)\ttotal: 1.44s\tremaining: 160ms\n",
      "45:\tlearn: 2801.2035966\ttest: 2788.2099629\tbest: 2788.2099629 (45)\ttotal: 1.47s\tremaining: 128ms\n",
      "46:\tlearn: 2773.6299781\ttest: 2760.3406769\tbest: 2760.3406769 (46)\ttotal: 1.49s\tremaining: 95.3ms\n",
      "47:\tlearn: 2747.9846908\ttest: 2734.6459258\tbest: 2734.6459258 (47)\ttotal: 1.52s\tremaining: 63.4ms\n",
      "48:\tlearn: 2723.3184035\ttest: 2709.6989454\tbest: 2709.6989454 (48)\ttotal: 1.55s\tremaining: 31.6ms\n",
      "49:\tlearn: 2699.2793651\ttest: 2685.5838876\tbest: 2685.5838876 (49)\ttotal: 1.58s\tremaining: 0us\n",
      "\n",
      "bestTest = 2685.583888\n",
      "bestIteration = 49\n",
      "\n",
      "9:\tloss: 2685.5838876\tbest: 2090.8800473 (7)\ttotal: 26.5s\tremaining: 45.1s\n",
      "0:\tlearn: 6138.1724513\ttest: 6125.0794586\tbest: 6125.0794586 (0)\ttotal: 28.9ms\tremaining: 1.42s\n",
      "1:\tlearn: 5988.3750306\ttest: 5975.2671153\tbest: 5975.2671153 (1)\ttotal: 83.7ms\tremaining: 2.01s\n",
      "2:\tlearn: 5845.3844777\ttest: 5832.5309158\tbest: 5832.5309158 (2)\ttotal: 111ms\tremaining: 1.74s\n",
      "3:\tlearn: 5708.2947875\ttest: 5695.6028241\tbest: 5695.6028241 (3)\ttotal: 139ms\tremaining: 1.6s\n",
      "4:\tlearn: 5575.5329042\ttest: 5562.7785120\tbest: 5562.7785120 (4)\ttotal: 165ms\tremaining: 1.48s\n",
      "5:\tlearn: 5448.5076198\ttest: 5436.0868044\tbest: 5436.0868044 (5)\ttotal: 198ms\tremaining: 1.45s\n",
      "6:\tlearn: 5324.3258469\ttest: 5311.9781793\tbest: 5311.9781793 (6)\ttotal: 228ms\tremaining: 1.4s\n",
      "7:\tlearn: 5204.3161001\ttest: 5192.2743605\tbest: 5192.2743605 (7)\ttotal: 255ms\tremaining: 1.34s\n",
      "8:\tlearn: 5090.4650026\ttest: 5078.7364901\tbest: 5078.7364901 (8)\ttotal: 281ms\tremaining: 1.28s\n",
      "9:\tlearn: 4980.0029559\ttest: 4968.4499680\tbest: 4968.4499680 (9)\ttotal: 307ms\tremaining: 1.23s\n",
      "10:\tlearn: 4873.6659028\ttest: 4862.1467762\tbest: 4862.1467762 (10)\ttotal: 333ms\tremaining: 1.18s\n",
      "11:\tlearn: 4769.8373374\ttest: 4758.3178218\tbest: 4758.3178218 (11)\ttotal: 358ms\tremaining: 1.13s\n",
      "12:\tlearn: 4667.7679554\ttest: 4656.2919458\tbest: 4656.2919458 (12)\ttotal: 382ms\tremaining: 1.09s\n",
      "13:\tlearn: 4570.6225550\ttest: 4558.8792083\tbest: 4558.8792083 (13)\ttotal: 414ms\tremaining: 1.06s\n",
      "14:\tlearn: 4477.3151828\ttest: 4465.8124551\tbest: 4465.8124551 (14)\ttotal: 441ms\tremaining: 1.03s\n",
      "15:\tlearn: 4386.2323627\ttest: 4374.9235722\tbest: 4374.9235722 (15)\ttotal: 465ms\tremaining: 988ms\n",
      "16:\tlearn: 4299.4353004\ttest: 4288.1780226\tbest: 4288.1780226 (16)\ttotal: 504ms\tremaining: 978ms\n",
      "17:\tlearn: 4214.9497102\ttest: 4203.4943086\tbest: 4203.4943086 (17)\ttotal: 528ms\tremaining: 938ms\n",
      "18:\tlearn: 4134.9194561\ttest: 4123.4626646\tbest: 4123.4626646 (18)\ttotal: 552ms\tremaining: 900ms\n",
      "19:\tlearn: 4058.8625938\ttest: 4047.5599914\tbest: 4047.5599914 (19)\ttotal: 577ms\tremaining: 866ms\n",
      "20:\tlearn: 3984.6225059\ttest: 3973.4395892\tbest: 3973.4395892 (20)\ttotal: 613ms\tremaining: 847ms\n",
      "21:\tlearn: 3913.5056880\ttest: 3902.4441173\tbest: 3902.4441173 (21)\ttotal: 645ms\tremaining: 821ms\n",
      "22:\tlearn: 3842.7665989\ttest: 3831.2699503\tbest: 3831.2699503 (22)\ttotal: 671ms\tremaining: 787ms\n",
      "23:\tlearn: 3776.0533974\ttest: 3764.5074500\tbest: 3764.5074500 (23)\ttotal: 695ms\tremaining: 753ms\n",
      "24:\tlearn: 3709.7358876\ttest: 3697.9662719\tbest: 3697.9662719 (24)\ttotal: 721ms\tremaining: 721ms\n",
      "25:\tlearn: 3646.9464818\ttest: 3634.9640288\tbest: 3634.9640288 (25)\ttotal: 746ms\tremaining: 689ms\n",
      "26:\tlearn: 3587.1982963\ttest: 3575.1172344\tbest: 3575.1172344 (26)\ttotal: 773ms\tremaining: 658ms\n",
      "27:\tlearn: 3528.7623678\ttest: 3516.6374703\tbest: 3516.6374703 (27)\ttotal: 797ms\tremaining: 626ms\n",
      "28:\tlearn: 3474.0224932\ttest: 3461.9923179\tbest: 3461.9923179 (28)\ttotal: 824ms\tremaining: 596ms\n",
      "29:\tlearn: 3419.3888960\ttest: 3407.2739841\tbest: 3407.2739841 (29)\ttotal: 855ms\tremaining: 570ms\n",
      "30:\tlearn: 3367.7609796\ttest: 3355.2938769\tbest: 3355.2938769 (30)\ttotal: 884ms\tremaining: 542ms\n",
      "31:\tlearn: 3317.7625544\ttest: 3305.3220231\tbest: 3305.3220231 (31)\ttotal: 910ms\tremaining: 512ms\n",
      "32:\tlearn: 3270.9875181\ttest: 3258.5599597\tbest: 3258.5599597 (32)\ttotal: 935ms\tremaining: 481ms\n",
      "33:\tlearn: 3224.8721648\ttest: 3212.5269240\tbest: 3212.5269240 (33)\ttotal: 960ms\tremaining: 452ms\n",
      "34:\tlearn: 3182.1951785\ttest: 3169.7816717\tbest: 3169.7816717 (34)\ttotal: 985ms\tremaining: 422ms\n",
      "35:\tlearn: 3139.5982121\ttest: 3127.0241955\tbest: 3127.0241955 (35)\ttotal: 1.01s\tremaining: 393ms\n",
      "36:\tlearn: 3098.4971742\ttest: 3085.6908060\tbest: 3085.6908060 (36)\ttotal: 1.03s\tremaining: 363ms\n",
      "37:\tlearn: 3060.3985287\ttest: 3047.7340066\tbest: 3047.7340066 (37)\ttotal: 1.07s\tremaining: 338ms\n",
      "38:\tlearn: 3023.1262888\ttest: 3010.4162234\tbest: 3010.4162234 (38)\ttotal: 1.09s\tremaining: 309ms\n",
      "39:\tlearn: 2987.9017690\ttest: 2975.2121308\tbest: 2975.2121308 (39)\ttotal: 1.12s\tremaining: 280ms\n",
      "40:\tlearn: 2954.0806969\ttest: 2941.3916282\tbest: 2941.3916282 (40)\ttotal: 1.14s\tremaining: 251ms\n",
      "41:\tlearn: 2921.5721984\ttest: 2908.8335943\tbest: 2908.8335943 (41)\ttotal: 1.17s\tremaining: 223ms\n",
      "42:\tlearn: 2890.3340269\ttest: 2877.6150149\tbest: 2877.6150149 (42)\ttotal: 1.19s\tremaining: 194ms\n",
      "43:\tlearn: 2860.2388935\ttest: 2847.4106465\tbest: 2847.4106465 (43)\ttotal: 1.22s\tremaining: 166ms\n",
      "44:\tlearn: 2831.3553062\ttest: 2818.7237183\tbest: 2818.7237183 (44)\ttotal: 1.24s\tremaining: 138ms\n",
      "45:\tlearn: 2803.7325430\ttest: 2791.0831510\tbest: 2791.0831510 (45)\ttotal: 1.27s\tremaining: 111ms\n",
      "46:\tlearn: 2776.7164326\ttest: 2764.1040129\tbest: 2764.1040129 (46)\ttotal: 1.31s\tremaining: 83.4ms\n",
      "47:\tlearn: 2750.6210725\ttest: 2737.7229050\tbest: 2737.7229050 (47)\ttotal: 1.34s\tremaining: 55.8ms\n",
      "48:\tlearn: 2725.6824508\ttest: 2712.4953789\tbest: 2712.4953789 (48)\ttotal: 1.37s\tremaining: 27.9ms\n",
      "49:\tlearn: 2701.3106288\ttest: 2688.0375423\tbest: 2688.0375423 (49)\ttotal: 1.39s\tremaining: 0us\n",
      "\n",
      "bestTest = 2688.037542\n",
      "bestIteration = 49\n",
      "\n",
      "10:\tloss: 2688.0375423\tbest: 2090.8800473 (7)\ttotal: 27.9s\tremaining: 40.6s\n",
      "0:\tlearn: 6138.2511505\ttest: 6125.1573984\tbest: 6125.1573984 (0)\ttotal: 47.9ms\tremaining: 2.35s\n",
      "1:\tlearn: 5988.5159574\ttest: 5975.4074082\tbest: 5975.4074082 (1)\ttotal: 88.6ms\tremaining: 2.13s\n",
      "2:\tlearn: 5845.5492739\ttest: 5832.6949718\tbest: 5832.6949718 (2)\ttotal: 141ms\tremaining: 2.21s\n",
      "3:\tlearn: 5708.5364508\ttest: 5695.8421933\tbest: 5695.8421933 (3)\ttotal: 187ms\tremaining: 2.15s\n",
      "4:\tlearn: 5575.8513907\ttest: 5563.0947136\tbest: 5563.0947136 (4)\ttotal: 223ms\tremaining: 2.01s\n",
      "5:\tlearn: 5448.9070643\ttest: 5436.4828649\tbest: 5436.4828649 (5)\ttotal: 252ms\tremaining: 1.84s\n",
      "6:\tlearn: 5324.7688817\ttest: 5312.4189141\tbest: 5312.4189141 (6)\ttotal: 277ms\tremaining: 1.7s\n",
      "7:\tlearn: 5204.7952804\ttest: 5192.7492438\tbest: 5192.7492438 (7)\ttotal: 304ms\tremaining: 1.59s\n",
      "8:\tlearn: 5090.9899650\ttest: 5079.2583544\tbest: 5079.2583544 (8)\ttotal: 336ms\tremaining: 1.53s\n",
      "9:\tlearn: 4980.5862516\ttest: 4969.0298632\tbest: 4969.0298632 (9)\ttotal: 367ms\tremaining: 1.47s\n",
      "10:\tlearn: 4874.3012063\ttest: 4862.7785304\tbest: 4862.7785304 (10)\ttotal: 394ms\tremaining: 1.4s\n",
      "11:\tlearn: 4770.4844438\ttest: 4758.9636057\tbest: 4758.9636057 (11)\ttotal: 422ms\tremaining: 1.33s\n",
      "12:\tlearn: 4668.4315868\ttest: 4656.9551115\tbest: 4656.9551115 (12)\ttotal: 448ms\tremaining: 1.27s\n",
      "13:\tlearn: 4571.3232363\ttest: 4559.5800241\tbest: 4559.5800241 (13)\ttotal: 475ms\tremaining: 1.22s\n",
      "14:\tlearn: 4478.0457929\ttest: 4466.5428128\tbest: 4466.5428128 (14)\ttotal: 502ms\tremaining: 1.17s\n",
      "15:\tlearn: 4386.9851855\ttest: 4375.6768061\tbest: 4375.6768061 (15)\ttotal: 534ms\tremaining: 1.13s\n",
      "16:\tlearn: 4300.2116477\ttest: 4288.9556198\tbest: 4288.9556198 (16)\ttotal: 561ms\tremaining: 1.09s\n",
      "17:\tlearn: 4215.7804399\ttest: 4204.3272992\tbest: 4204.3272992 (17)\ttotal: 586ms\tremaining: 1.04s\n",
      "18:\tlearn: 4135.7664786\ttest: 4124.3126926\tbest: 4124.3126926 (18)\ttotal: 611ms\tremaining: 997ms\n",
      "19:\tlearn: 4059.7254155\ttest: 4048.4251311\tbest: 4048.4251311 (19)\ttotal: 637ms\tremaining: 956ms\n",
      "20:\tlearn: 3985.5089848\ttest: 3974.3287563\tbest: 3974.3287563 (20)\ttotal: 663ms\tremaining: 916ms\n",
      "21:\tlearn: 3914.3964457\ttest: 3903.3372660\tbest: 3903.3372660 (21)\ttotal: 689ms\tremaining: 876ms\n",
      "22:\tlearn: 3843.6497773\ttest: 3832.1562350\tbest: 3832.1562350 (22)\ttotal: 713ms\tremaining: 836ms\n",
      "23:\tlearn: 3776.9433182\ttest: 3765.4004840\tbest: 3765.4004840 (23)\ttotal: 738ms\tremaining: 800ms\n",
      "24:\tlearn: 3710.6144843\ttest: 3698.8485576\tbest: 3698.8485576 (24)\ttotal: 769ms\tremaining: 769ms\n",
      "25:\tlearn: 3647.8236106\ttest: 3635.8455774\tbest: 3635.8455774 (25)\ttotal: 795ms\tremaining: 734ms\n",
      "26:\tlearn: 3588.0749736\ttest: 3575.9980402\tbest: 3575.9980402 (26)\ttotal: 820ms\tremaining: 699ms\n",
      "27:\tlearn: 3529.9914138\ttest: 3517.8429473\tbest: 3517.8429473 (27)\ttotal: 845ms\tremaining: 664ms\n",
      "28:\tlearn: 3475.1947366\ttest: 3463.1377520\tbest: 3463.1377520 (28)\ttotal: 870ms\tremaining: 630ms\n",
      "29:\tlearn: 3420.5572478\ttest: 3408.4139159\tbest: 3408.4139159 (29)\ttotal: 906ms\tremaining: 604ms\n",
      "30:\tlearn: 3368.9089423\ttest: 3356.4126548\tbest: 3356.4126548 (30)\ttotal: 932ms\tremaining: 571ms\n",
      "31:\tlearn: 3320.6776755\ttest: 3308.5055961\tbest: 3308.5055961 (31)\ttotal: 961ms\tremaining: 540ms\n",
      "32:\tlearn: 3272.6956004\ttest: 3260.5977936\tbest: 3260.5977936 (32)\ttotal: 992ms\tremaining: 511ms\n",
      "33:\tlearn: 3226.4421705\ttest: 3214.2223016\tbest: 3214.2223016 (33)\ttotal: 1.02s\tremaining: 481ms\n",
      "34:\tlearn: 3183.3033015\ttest: 3170.9733610\tbest: 3170.9733610 (34)\ttotal: 1.05s\tremaining: 449ms\n",
      "35:\tlearn: 3140.7840885\ttest: 3128.2891612\tbest: 3128.2891612 (35)\ttotal: 1.07s\tremaining: 417ms\n",
      "36:\tlearn: 3099.6395370\ttest: 3086.8406657\tbest: 3086.8406657 (36)\ttotal: 1.1s\tremaining: 385ms\n",
      "37:\tlearn: 3061.1098948\ttest: 3048.3416613\tbest: 3048.3416613 (37)\ttotal: 1.12s\tremaining: 354ms\n",
      "38:\tlearn: 3024.3719730\ttest: 3011.6395503\tbest: 3011.6395503 (38)\ttotal: 1.15s\tremaining: 323ms\n",
      "39:\tlearn: 2989.0483020\ttest: 2976.3311090\tbest: 2976.3311090 (39)\ttotal: 1.18s\tremaining: 295ms\n",
      "40:\tlearn: 2954.4519694\ttest: 2941.6011353\tbest: 2941.6011353 (40)\ttotal: 1.21s\tremaining: 265ms\n",
      "41:\tlearn: 2921.7887653\ttest: 2908.8815279\tbest: 2908.8815279 (41)\ttotal: 1.24s\tremaining: 236ms\n",
      "42:\tlearn: 2890.3279803\ttest: 2877.3830259\tbest: 2877.3830259 (42)\ttotal: 1.26s\tremaining: 206ms\n",
      "43:\tlearn: 2860.8716025\ttest: 2847.7034500\tbest: 2847.7034500 (43)\ttotal: 1.29s\tremaining: 177ms\n",
      "44:\tlearn: 2832.6506376\ttest: 2819.5994333\tbest: 2819.5994333 (44)\ttotal: 1.32s\tremaining: 147ms\n",
      "45:\tlearn: 2804.6397284\ttest: 2791.7834438\tbest: 2791.7834438 (45)\ttotal: 1.35s\tremaining: 117ms\n",
      "46:\tlearn: 2777.6967587\ttest: 2764.8740365\tbest: 2764.8740365 (46)\ttotal: 1.37s\tremaining: 87.7ms\n",
      "47:\tlearn: 2751.7028892\ttest: 2738.8292448\tbest: 2738.8292448 (47)\ttotal: 1.41s\tremaining: 58.7ms\n",
      "48:\tlearn: 2726.3659835\ttest: 2713.3181598\tbest: 2713.3181598 (48)\ttotal: 1.44s\tremaining: 29.3ms\n",
      "49:\tlearn: 2702.2936344\ttest: 2689.1646117\tbest: 2689.1646117 (49)\ttotal: 1.46s\tremaining: 0us\n",
      "\n",
      "bestTest = 2689.164612\n",
      "bestIteration = 49\n",
      "\n",
      "11:\tloss: 2689.1646117\tbest: 2090.8800473 (7)\ttotal: 29.4s\tremaining: 36.8s\n",
      "0:\tlearn: 6138.0935326\ttest: 6125.0013040\tbest: 6125.0013040 (0)\ttotal: 27ms\tremaining: 2.67s\n",
      "1:\tlearn: 5988.2337499\ttest: 5975.1264717\tbest: 5975.1264717 (1)\ttotal: 52.2ms\tremaining: 2.56s\n",
      "2:\tlearn: 5845.2193278\ttest: 5832.3665091\tbest: 5832.3665091 (2)\ttotal: 77.5ms\tremaining: 2.51s\n",
      "3:\tlearn: 5708.0518694\ttest: 5695.3622787\tbest: 5695.3622787 (3)\ttotal: 103ms\tremaining: 2.46s\n",
      "4:\tlearn: 5575.2106088\ttest: 5562.4592829\tbest: 5562.4592829 (4)\ttotal: 128ms\tremaining: 2.43s\n",
      "5:\tlearn: 5448.1040441\ttest: 5435.6874013\tbest: 5435.6874013 (5)\ttotal: 162ms\tremaining: 2.54s\n",
      "6:\tlearn: 5323.8784876\ttest: 5311.5338703\tbest: 5311.5338703 (6)\ttotal: 189ms\tremaining: 2.5s\n",
      "7:\tlearn: 5203.8325749\ttest: 5191.7958766\tbest: 5191.7958766 (7)\ttotal: 213ms\tremaining: 2.45s\n",
      "8:\tlearn: 5089.9355820\ttest: 5078.2108679\tbest: 5078.2108679 (8)\ttotal: 239ms\tremaining: 2.41s\n",
      "9:\tlearn: 4979.4150017\ttest: 4967.8661195\tbest: 4967.8661195 (9)\ttotal: 264ms\tremaining: 2.38s\n",
      "10:\tlearn: 4873.0259588\ttest: 4861.5110594\tbest: 4861.5110594 (10)\ttotal: 290ms\tremaining: 2.34s\n",
      "11:\tlearn: 4769.1852840\ttest: 4757.6670931\tbest: 4757.6670931 (11)\ttotal: 315ms\tremaining: 2.31s\n",
      "12:\tlearn: 4667.0993926\ttest: 4655.6238267\tbest: 4655.6238267 (12)\ttotal: 347ms\tremaining: 2.32s\n",
      "13:\tlearn: 4569.9166328\ttest: 4558.1730710\tbest: 4558.1730710 (13)\ttotal: 374ms\tremaining: 2.29s\n",
      "14:\tlearn: 4476.5793999\ttest: 4465.0768061\tbest: 4465.0768061 (14)\ttotal: 400ms\tremaining: 2.26s\n",
      "15:\tlearn: 4385.4739959\ttest: 4374.1642631\tbest: 4374.1642631 (15)\ttotal: 424ms\tremaining: 2.23s\n",
      "16:\tlearn: 4298.6535328\ttest: 4287.3943903\tbest: 4287.3943903 (16)\ttotal: 454ms\tremaining: 2.21s\n",
      "17:\tlearn: 4214.1133976\ttest: 4202.6550472\tbest: 4202.6550472 (17)\ttotal: 480ms\tremaining: 2.19s\n",
      "18:\tlearn: 4134.0668813\ttest: 4122.6063506\tbest: 4122.6063506 (18)\ttotal: 506ms\tremaining: 2.16s\n",
      "19:\tlearn: 4057.9942727\ttest: 4046.6885914\tbest: 4046.6885914 (19)\ttotal: 532ms\tremaining: 2.13s\n",
      "20:\tlearn: 3983.7305369\ttest: 3972.5441108\tbest: 3972.5441108 (20)\ttotal: 557ms\tremaining: 2.1s\n",
      "21:\tlearn: 3912.6095406\ttest: 3901.5447301\tbest: 3901.5447301 (21)\ttotal: 586ms\tremaining: 2.08s\n",
      "22:\tlearn: 3841.8781024\ttest: 3830.3774610\tbest: 3830.3774610 (22)\ttotal: 617ms\tremaining: 2.06s\n",
      "23:\tlearn: 3775.1583428\ttest: 3763.6083330\tbest: 3763.6083330 (23)\ttotal: 643ms\tremaining: 2.03s\n",
      "24:\tlearn: 3708.8523329\ttest: 3697.0780247\tbest: 3697.0780247 (24)\ttotal: 668ms\tremaining: 2s\n",
      "25:\tlearn: 3646.0646430\ttest: 3634.0766887\tbest: 3634.0766887 (25)\ttotal: 693ms\tremaining: 1.97s\n",
      "26:\tlearn: 3586.3170111\ttest: 3574.2306871\tbest: 3574.2306871 (26)\ttotal: 719ms\tremaining: 1.94s\n",
      "27:\tlearn: 3528.0528412\ttest: 3515.9781154\tbest: 3515.9781154 (27)\ttotal: 743ms\tremaining: 1.91s\n",
      "28:\tlearn: 3473.2862169\ttest: 3461.3074059\tbest: 3461.3074059 (28)\ttotal: 768ms\tremaining: 1.88s\n",
      "29:\tlearn: 3418.6721066\ttest: 3406.6064969\tbest: 3406.6064969 (29)\ttotal: 793ms\tremaining: 1.85s\n",
      "30:\tlearn: 3367.1388680\ttest: 3354.7201587\tbest: 3354.7201587 (30)\ttotal: 823ms\tremaining: 1.83s\n",
      "31:\tlearn: 3319.2147995\ttest: 3307.0662172\tbest: 3307.0662172 (31)\ttotal: 849ms\tremaining: 1.8s\n",
      "32:\tlearn: 3271.2349356\ttest: 3259.1660574\tbest: 3259.1660574 (32)\ttotal: 873ms\tremaining: 1.77s\n",
      "33:\tlearn: 3224.7443795\ttest: 3212.4219311\tbest: 3212.4219311 (33)\ttotal: 899ms\tremaining: 1.75s\n",
      "34:\tlearn: 3181.7725328\ttest: 3169.3378251\tbest: 3169.3378251 (34)\ttotal: 924ms\tremaining: 1.72s\n",
      "35:\tlearn: 3139.2838594\ttest: 3126.6853899\tbest: 3126.6853899 (35)\ttotal: 948ms\tremaining: 1.69s\n",
      "36:\tlearn: 3098.1332897\ttest: 3085.2362052\tbest: 3085.2362052 (36)\ttotal: 979ms\tremaining: 1.67s\n",
      "37:\tlearn: 3059.9069429\ttest: 3047.1526396\tbest: 3047.1526396 (37)\ttotal: 1.01s\tremaining: 1.64s\n",
      "38:\tlearn: 3023.1089684\ttest: 3010.3968161\tbest: 3010.3968161 (38)\ttotal: 1.03s\tremaining: 1.62s\n",
      "39:\tlearn: 2987.7407306\ttest: 2975.0477502\tbest: 2975.0477502 (39)\ttotal: 1.06s\tremaining: 1.59s\n",
      "40:\tlearn: 2953.8814579\ttest: 2941.1882605\tbest: 2941.1882605 (40)\ttotal: 1.08s\tremaining: 1.56s\n",
      "41:\tlearn: 2921.2973104\ttest: 2908.5493076\tbest: 2908.5493076 (41)\ttotal: 1.11s\tremaining: 1.53s\n",
      "42:\tlearn: 2889.5103525\ttest: 2876.5452623\tbest: 2876.5452623 (42)\ttotal: 1.13s\tremaining: 1.5s\n",
      "43:\tlearn: 2858.8567173\ttest: 2845.8595012\tbest: 2845.8595012 (43)\ttotal: 1.16s\tremaining: 1.48s\n",
      "44:\tlearn: 2829.3598205\ttest: 2816.2530140\tbest: 2816.2530140 (44)\ttotal: 1.19s\tremaining: 1.45s\n",
      "45:\tlearn: 2801.2035966\ttest: 2788.2099629\tbest: 2788.2099629 (45)\ttotal: 1.21s\tremaining: 1.43s\n",
      "46:\tlearn: 2773.6299781\ttest: 2760.3406769\tbest: 2760.3406769 (46)\ttotal: 1.24s\tremaining: 1.4s\n",
      "47:\tlearn: 2747.9846908\ttest: 2734.6459258\tbest: 2734.6459258 (47)\ttotal: 1.26s\tremaining: 1.37s\n",
      "48:\tlearn: 2723.3184035\ttest: 2709.6989454\tbest: 2709.6989454 (48)\ttotal: 1.29s\tremaining: 1.34s\n",
      "49:\tlearn: 2699.2793651\ttest: 2685.5838876\tbest: 2685.5838876 (49)\ttotal: 1.31s\tremaining: 1.31s\n",
      "50:\tlearn: 2677.1590141\ttest: 2663.6160809\tbest: 2663.6160809 (50)\ttotal: 1.33s\tremaining: 1.28s\n",
      "51:\tlearn: 2655.3809758\ttest: 2641.6737738\tbest: 2641.6737738 (51)\ttotal: 1.36s\tremaining: 1.25s\n",
      "52:\tlearn: 2634.8599444\ttest: 2621.0994746\tbest: 2621.0994746 (52)\ttotal: 1.38s\tremaining: 1.22s\n",
      "53:\tlearn: 2615.3140354\ttest: 2601.5749978\tbest: 2601.5749978 (53)\ttotal: 1.41s\tremaining: 1.2s\n",
      "54:\tlearn: 2595.7053954\ttest: 2582.0021908\tbest: 2582.0021908 (54)\ttotal: 1.43s\tremaining: 1.17s\n",
      "55:\tlearn: 2577.0437693\ttest: 2563.2119020\tbest: 2563.2119020 (55)\ttotal: 1.46s\tremaining: 1.15s\n",
      "56:\tlearn: 2559.5890650\ttest: 2545.6643024\tbest: 2545.6643024 (56)\ttotal: 1.49s\tremaining: 1.12s\n",
      "57:\tlearn: 2542.2476216\ttest: 2528.2968977\tbest: 2528.2968977 (57)\ttotal: 1.52s\tremaining: 1.1s\n",
      "58:\tlearn: 2525.1727231\ttest: 2510.8788326\tbest: 2510.8788326 (58)\ttotal: 1.54s\tremaining: 1.07s\n",
      "59:\tlearn: 2509.4822749\ttest: 2495.1187410\tbest: 2495.1187410 (59)\ttotal: 1.57s\tremaining: 1.04s\n",
      "60:\tlearn: 2494.4355577\ttest: 2479.9537957\tbest: 2479.9537957 (60)\ttotal: 1.59s\tremaining: 1.02s\n",
      "61:\tlearn: 2479.6111279\ttest: 2465.0738528\tbest: 2465.0738528 (61)\ttotal: 1.62s\tremaining: 993ms\n",
      "62:\tlearn: 2465.6056834\ttest: 2451.0041751\tbest: 2451.0041751 (62)\ttotal: 1.65s\tremaining: 967ms\n",
      "63:\tlearn: 2452.1482956\ttest: 2437.4977387\tbest: 2437.4977387 (63)\ttotal: 1.67s\tremaining: 940ms\n",
      "64:\tlearn: 2439.2891355\ttest: 2424.5371860\tbest: 2424.5371860 (64)\ttotal: 1.7s\tremaining: 913ms\n",
      "65:\tlearn: 2425.9646432\ttest: 2411.1016040\tbest: 2411.1016040 (65)\ttotal: 1.72s\tremaining: 887ms\n",
      "66:\tlearn: 2414.1342926\ttest: 2399.4218032\tbest: 2399.4218032 (66)\ttotal: 1.74s\tremaining: 859ms\n",
      "67:\tlearn: 2402.0281626\ttest: 2387.3005876\tbest: 2387.3005876 (67)\ttotal: 1.77s\tremaining: 833ms\n",
      "68:\tlearn: 2390.5392919\ttest: 2375.6274391\tbest: 2375.6274391 (68)\ttotal: 1.79s\tremaining: 806ms\n",
      "69:\tlearn: 2380.0961360\ttest: 2365.2825166\tbest: 2365.2825166 (69)\ttotal: 1.82s\tremaining: 779ms\n",
      "70:\tlearn: 2369.8996826\ttest: 2354.9783902\tbest: 2354.9783902 (70)\ttotal: 1.85s\tremaining: 755ms\n",
      "71:\tlearn: 2360.1343387\ttest: 2345.0911983\tbest: 2345.0911983 (71)\ttotal: 1.87s\tremaining: 728ms\n",
      "72:\tlearn: 2349.9085613\ttest: 2334.7480010\tbest: 2334.7480010 (72)\ttotal: 1.9s\tremaining: 702ms\n",
      "73:\tlearn: 2340.3080427\ttest: 2325.1579450\tbest: 2325.1579450 (73)\ttotal: 1.92s\tremaining: 675ms\n",
      "74:\tlearn: 2331.1540071\ttest: 2315.7908901\tbest: 2315.7908901 (74)\ttotal: 1.95s\tremaining: 649ms\n",
      "75:\tlearn: 2322.3293172\ttest: 2307.1952642\tbest: 2307.1952642 (75)\ttotal: 1.97s\tremaining: 622ms\n",
      "76:\tlearn: 2314.0891665\ttest: 2298.6303437\tbest: 2298.6303437 (76)\ttotal: 1.99s\tremaining: 596ms\n",
      "77:\tlearn: 2305.9955764\ttest: 2290.5363897\tbest: 2290.5363897 (77)\ttotal: 2.02s\tremaining: 569ms\n",
      "78:\tlearn: 2297.5870861\ttest: 2282.0295644\tbest: 2282.0295644 (78)\ttotal: 2.04s\tremaining: 544ms\n",
      "79:\tlearn: 2289.9087888\ttest: 2274.2590563\tbest: 2274.2590563 (79)\ttotal: 2.08s\tremaining: 519ms\n",
      "80:\tlearn: 2282.9576334\ttest: 2267.3320712\tbest: 2267.3320712 (80)\ttotal: 2.1s\tremaining: 493ms\n",
      "81:\tlearn: 2275.6397877\ttest: 2259.8137883\tbest: 2259.8137883 (81)\ttotal: 2.12s\tremaining: 466ms\n",
      "82:\tlearn: 2268.4664320\ttest: 2252.6929734\tbest: 2252.6929734 (82)\ttotal: 2.15s\tremaining: 440ms\n",
      "83:\tlearn: 2262.2249997\ttest: 2246.4629576\tbest: 2246.4629576 (83)\ttotal: 2.17s\tremaining: 414ms\n",
      "84:\tlearn: 2255.7908853\ttest: 2239.8413796\tbest: 2239.8413796 (84)\ttotal: 2.2s\tremaining: 388ms\n",
      "85:\tlearn: 2249.7437645\ttest: 2233.7871153\tbest: 2233.7871153 (85)\ttotal: 2.22s\tremaining: 362ms\n",
      "86:\tlearn: 2243.8322641\ttest: 2227.9494305\tbest: 2227.9494305 (86)\ttotal: 2.24s\tremaining: 335ms\n",
      "87:\tlearn: 2237.3594086\ttest: 2221.3103214\tbest: 2221.3103214 (87)\ttotal: 2.27s\tremaining: 310ms\n",
      "88:\tlearn: 2231.1072102\ttest: 2215.1585354\tbest: 2215.1585354 (88)\ttotal: 2.3s\tremaining: 284ms\n",
      "89:\tlearn: 2225.5369949\ttest: 2209.5500945\tbest: 2209.5500945 (89)\ttotal: 2.33s\tremaining: 258ms\n",
      "90:\tlearn: 2220.1460290\ttest: 2204.1341074\tbest: 2204.1341074 (90)\ttotal: 2.35s\tremaining: 232ms\n",
      "91:\tlearn: 2214.7477930\ttest: 2198.8062120\tbest: 2198.8062120 (91)\ttotal: 2.37s\tremaining: 206ms\n",
      "92:\tlearn: 2209.1496877\ttest: 2193.2497770\tbest: 2193.2497770 (92)\ttotal: 2.39s\tremaining: 180ms\n",
      "93:\tlearn: 2204.4352590\ttest: 2188.3373056\tbest: 2188.3373056 (93)\ttotal: 2.42s\tremaining: 154ms\n",
      "94:\tlearn: 2199.2010124\ttest: 2183.0908986\tbest: 2183.0908986 (94)\ttotal: 2.44s\tremaining: 129ms\n",
      "95:\tlearn: 2194.2996918\ttest: 2178.4046953\tbest: 2178.4046953 (95)\ttotal: 2.46s\tremaining: 103ms\n",
      "96:\tlearn: 2189.8894023\ttest: 2173.9825208\tbest: 2173.9825208 (96)\ttotal: 2.49s\tremaining: 76.9ms\n",
      "97:\tlearn: 2185.5068997\ttest: 2169.6736030\tbest: 2169.6736030 (97)\ttotal: 2.52s\tremaining: 51.4ms\n",
      "98:\tlearn: 2181.0580148\ttest: 2165.2065653\tbest: 2165.2065653 (98)\ttotal: 2.54s\tremaining: 25.7ms\n",
      "99:\tlearn: 2176.6588545\ttest: 2160.6562382\tbest: 2160.6562382 (99)\ttotal: 2.57s\tremaining: 0us\n",
      "\n",
      "bestTest = 2160.656238\n",
      "bestIteration = 99\n",
      "\n",
      "12:\tloss: 2160.6562382\tbest: 2090.8800473 (7)\ttotal: 32s\tremaining: 34.5s\n",
      "0:\tlearn: 6138.1724513\ttest: 6125.0794586\tbest: 6125.0794586 (0)\ttotal: 28.6ms\tremaining: 2.83s\n",
      "1:\tlearn: 5988.3750306\ttest: 5975.2671153\tbest: 5975.2671153 (1)\ttotal: 52.8ms\tremaining: 2.58s\n",
      "2:\tlearn: 5845.3844777\ttest: 5832.5309158\tbest: 5832.5309158 (2)\ttotal: 77.5ms\tremaining: 2.51s\n",
      "3:\tlearn: 5708.2947875\ttest: 5695.6028241\tbest: 5695.6028241 (3)\ttotal: 103ms\tremaining: 2.46s\n",
      "4:\tlearn: 5575.5329042\ttest: 5562.7785120\tbest: 5562.7785120 (4)\ttotal: 134ms\tremaining: 2.55s\n",
      "5:\tlearn: 5448.5076198\ttest: 5436.0868044\tbest: 5436.0868044 (5)\ttotal: 161ms\tremaining: 2.52s\n",
      "6:\tlearn: 5324.3258469\ttest: 5311.9781793\tbest: 5311.9781793 (6)\ttotal: 186ms\tremaining: 2.47s\n",
      "7:\tlearn: 5204.3161001\ttest: 5192.2743605\tbest: 5192.2743605 (7)\ttotal: 210ms\tremaining: 2.42s\n",
      "8:\tlearn: 5090.4650026\ttest: 5078.7364901\tbest: 5078.7364901 (8)\ttotal: 239ms\tremaining: 2.42s\n",
      "9:\tlearn: 4980.0029559\ttest: 4968.4499680\tbest: 4968.4499680 (9)\ttotal: 264ms\tremaining: 2.38s\n",
      "10:\tlearn: 4873.6659028\ttest: 4862.1467762\tbest: 4862.1467762 (10)\ttotal: 289ms\tremaining: 2.34s\n",
      "11:\tlearn: 4769.8373374\ttest: 4758.3178218\tbest: 4758.3178218 (11)\ttotal: 315ms\tremaining: 2.31s\n",
      "12:\tlearn: 4667.7679554\ttest: 4656.2919458\tbest: 4656.2919458 (12)\ttotal: 340ms\tremaining: 2.27s\n",
      "13:\tlearn: 4570.6225550\ttest: 4558.8792083\tbest: 4558.8792083 (13)\ttotal: 369ms\tremaining: 2.26s\n",
      "14:\tlearn: 4477.3151828\ttest: 4465.8124551\tbest: 4465.8124551 (14)\ttotal: 401ms\tremaining: 2.27s\n",
      "15:\tlearn: 4386.2323627\ttest: 4374.9235722\tbest: 4374.9235722 (15)\ttotal: 427ms\tremaining: 2.24s\n",
      "16:\tlearn: 4299.4353004\ttest: 4288.1780226\tbest: 4288.1780226 (16)\ttotal: 456ms\tremaining: 2.23s\n",
      "17:\tlearn: 4214.9497102\ttest: 4203.4943086\tbest: 4203.4943086 (17)\ttotal: 482ms\tremaining: 2.2s\n",
      "18:\tlearn: 4134.9194561\ttest: 4123.4626646\tbest: 4123.4626646 (18)\ttotal: 509ms\tremaining: 2.17s\n",
      "19:\tlearn: 4058.8625938\ttest: 4047.5599914\tbest: 4047.5599914 (19)\ttotal: 537ms\tremaining: 2.15s\n",
      "20:\tlearn: 3984.6225059\ttest: 3973.4395892\tbest: 3973.4395892 (20)\ttotal: 563ms\tremaining: 2.12s\n",
      "21:\tlearn: 3913.5056880\ttest: 3902.4441173\tbest: 3902.4441173 (21)\ttotal: 595ms\tremaining: 2.11s\n",
      "22:\tlearn: 3842.7665989\ttest: 3831.2699503\tbest: 3831.2699503 (22)\ttotal: 621ms\tremaining: 2.08s\n",
      "23:\tlearn: 3776.0533974\ttest: 3764.5074500\tbest: 3764.5074500 (23)\ttotal: 646ms\tremaining: 2.04s\n",
      "24:\tlearn: 3709.7358876\ttest: 3697.9662719\tbest: 3697.9662719 (24)\ttotal: 671ms\tremaining: 2.01s\n",
      "25:\tlearn: 3646.9464818\ttest: 3634.9640288\tbest: 3634.9640288 (25)\ttotal: 696ms\tremaining: 1.98s\n",
      "26:\tlearn: 3587.1982963\ttest: 3575.1172344\tbest: 3575.1172344 (26)\ttotal: 721ms\tremaining: 1.95s\n",
      "27:\tlearn: 3528.7623678\ttest: 3516.6374703\tbest: 3516.6374703 (27)\ttotal: 745ms\tremaining: 1.91s\n",
      "28:\tlearn: 3474.0224932\ttest: 3461.9923179\tbest: 3461.9923179 (28)\ttotal: 770ms\tremaining: 1.89s\n",
      "29:\tlearn: 3419.3888960\ttest: 3407.2739841\tbest: 3407.2739841 (29)\ttotal: 795ms\tremaining: 1.85s\n",
      "30:\tlearn: 3367.7609796\ttest: 3355.2938769\tbest: 3355.2938769 (30)\ttotal: 826ms\tremaining: 1.84s\n",
      "31:\tlearn: 3317.7625544\ttest: 3305.3220231\tbest: 3305.3220231 (31)\ttotal: 857ms\tremaining: 1.82s\n",
      "32:\tlearn: 3270.9875181\ttest: 3258.5599597\tbest: 3258.5599597 (32)\ttotal: 888ms\tremaining: 1.8s\n",
      "33:\tlearn: 3224.8721648\ttest: 3212.5269240\tbest: 3212.5269240 (33)\ttotal: 916ms\tremaining: 1.78s\n",
      "34:\tlearn: 3182.1951785\ttest: 3169.7816717\tbest: 3169.7816717 (34)\ttotal: 942ms\tremaining: 1.75s\n",
      "35:\tlearn: 3139.5982121\ttest: 3127.0241955\tbest: 3127.0241955 (35)\ttotal: 967ms\tremaining: 1.72s\n",
      "36:\tlearn: 3098.4971742\ttest: 3085.6908060\tbest: 3085.6908060 (36)\ttotal: 992ms\tremaining: 1.69s\n",
      "37:\tlearn: 3060.3985287\ttest: 3047.7340066\tbest: 3047.7340066 (37)\ttotal: 1.02s\tremaining: 1.66s\n",
      "38:\tlearn: 3023.1262888\ttest: 3010.4162234\tbest: 3010.4162234 (38)\ttotal: 1.05s\tremaining: 1.64s\n",
      "39:\tlearn: 2987.9017690\ttest: 2975.2121308\tbest: 2975.2121308 (39)\ttotal: 1.08s\tremaining: 1.62s\n",
      "40:\tlearn: 2954.0806969\ttest: 2941.3916282\tbest: 2941.3916282 (40)\ttotal: 1.1s\tremaining: 1.59s\n",
      "41:\tlearn: 2921.5721984\ttest: 2908.8335943\tbest: 2908.8335943 (41)\ttotal: 1.13s\tremaining: 1.56s\n",
      "42:\tlearn: 2890.3340269\ttest: 2877.6150149\tbest: 2877.6150149 (42)\ttotal: 1.15s\tremaining: 1.53s\n",
      "43:\tlearn: 2860.2388935\ttest: 2847.4106465\tbest: 2847.4106465 (43)\ttotal: 1.18s\tremaining: 1.5s\n",
      "44:\tlearn: 2831.3553062\ttest: 2818.7237183\tbest: 2818.7237183 (44)\ttotal: 1.2s\tremaining: 1.47s\n",
      "45:\tlearn: 2803.7325430\ttest: 2791.0831510\tbest: 2791.0831510 (45)\ttotal: 1.23s\tremaining: 1.44s\n",
      "46:\tlearn: 2776.7164326\ttest: 2764.1040129\tbest: 2764.1040129 (46)\ttotal: 1.25s\tremaining: 1.41s\n",
      "47:\tlearn: 2750.6210725\ttest: 2737.7229050\tbest: 2737.7229050 (47)\ttotal: 1.29s\tremaining: 1.39s\n",
      "48:\tlearn: 2725.6824508\ttest: 2712.4953789\tbest: 2712.4953789 (48)\ttotal: 1.31s\tremaining: 1.37s\n",
      "49:\tlearn: 2701.3106288\ttest: 2688.0375423\tbest: 2688.0375423 (49)\ttotal: 1.34s\tremaining: 1.34s\n",
      "50:\tlearn: 2678.2027455\ttest: 2664.7867264\tbest: 2664.7867264 (50)\ttotal: 1.36s\tremaining: 1.31s\n",
      "51:\tlearn: 2655.5351807\ttest: 2641.7446504\tbest: 2641.7446504 (51)\ttotal: 1.39s\tremaining: 1.28s\n",
      "52:\tlearn: 2634.1537998\ttest: 2620.0813543\tbest: 2620.0813543 (52)\ttotal: 1.41s\tremaining: 1.25s\n",
      "53:\tlearn: 2614.5076630\ttest: 2600.4704645\tbest: 2600.4704645 (53)\ttotal: 1.43s\tremaining: 1.22s\n",
      "54:\tlearn: 2595.2633215\ttest: 2581.3106360\tbest: 2581.3106360 (54)\ttotal: 1.46s\tremaining: 1.19s\n",
      "55:\tlearn: 2576.3598446\ttest: 2562.3092955\tbest: 2562.3092955 (55)\ttotal: 1.48s\tremaining: 1.16s\n",
      "56:\tlearn: 2558.8907882\ttest: 2544.7423354\tbest: 2544.7423354 (56)\ttotal: 1.51s\tremaining: 1.14s\n",
      "57:\tlearn: 2542.0633509\ttest: 2527.8394473\tbest: 2527.8394473 (57)\ttotal: 1.54s\tremaining: 1.11s\n",
      "58:\tlearn: 2525.0554099\ttest: 2510.4852981\tbest: 2510.4852981 (58)\ttotal: 1.56s\tremaining: 1.09s\n",
      "59:\tlearn: 2509.3704038\ttest: 2494.7265515\tbest: 2494.7265515 (59)\ttotal: 1.59s\tremaining: 1.06s\n",
      "60:\tlearn: 2494.0949823\ttest: 2479.3157748\tbest: 2479.3157748 (60)\ttotal: 1.61s\tremaining: 1.03s\n",
      "61:\tlearn: 2479.6675382\ttest: 2464.8389582\tbest: 2464.8389582 (61)\ttotal: 1.63s\tremaining: 1s\n",
      "62:\tlearn: 2465.8000818\ttest: 2450.9004133\tbest: 2450.9004133 (62)\ttotal: 1.66s\tremaining: 974ms\n",
      "63:\tlearn: 2452.5189917\ttest: 2437.6588895\tbest: 2437.6588895 (63)\ttotal: 1.68s\tremaining: 946ms\n",
      "64:\tlearn: 2439.5426390\ttest: 2424.5702602\tbest: 2424.5702602 (64)\ttotal: 1.71s\tremaining: 918ms\n",
      "65:\tlearn: 2426.8219325\ttest: 2411.8047733\tbest: 2411.8047733 (65)\ttotal: 1.74s\tremaining: 895ms\n",
      "66:\tlearn: 2414.5441199\ttest: 2399.2689755\tbest: 2399.2689755 (66)\ttotal: 1.76s\tremaining: 868ms\n",
      "67:\tlearn: 2402.3967300\ttest: 2387.1031174\tbest: 2387.1031174 (67)\ttotal: 1.79s\tremaining: 841ms\n",
      "68:\tlearn: 2391.2072624\ttest: 2375.7484130\tbest: 2375.7484130 (68)\ttotal: 1.81s\tremaining: 814ms\n",
      "69:\tlearn: 2380.5875377\ttest: 2365.2804572\tbest: 2365.2804572 (69)\ttotal: 1.83s\tremaining: 786ms\n",
      "70:\tlearn: 2370.2455930\ttest: 2354.8234951\tbest: 2354.8234951 (70)\ttotal: 1.86s\tremaining: 759ms\n",
      "71:\tlearn: 2360.3021612\ttest: 2344.7523743\tbest: 2344.7523743 (71)\ttotal: 1.88s\tremaining: 731ms\n",
      "72:\tlearn: 2350.4953084\ttest: 2334.7187250\tbest: 2334.7187250 (72)\ttotal: 1.9s\tremaining: 704ms\n",
      "73:\tlearn: 2341.2717101\ttest: 2325.4279590\tbest: 2325.4279590 (73)\ttotal: 1.93s\tremaining: 678ms\n",
      "74:\tlearn: 2331.8392325\ttest: 2315.8872365\tbest: 2315.8872365 (74)\ttotal: 1.96s\tremaining: 653ms\n",
      "75:\tlearn: 2323.0449793\ttest: 2307.2806272\tbest: 2307.2806272 (75)\ttotal: 1.98s\tremaining: 627ms\n",
      "76:\tlearn: 2314.6566273\ttest: 2298.5382870\tbest: 2298.5382870 (76)\ttotal: 2.01s\tremaining: 600ms\n",
      "77:\tlearn: 2306.4223122\ttest: 2290.2624575\tbest: 2290.2624575 (77)\ttotal: 2.03s\tremaining: 573ms\n",
      "78:\tlearn: 2298.3983221\ttest: 2282.2429246\tbest: 2282.2429246 (78)\ttotal: 2.06s\tremaining: 547ms\n",
      "79:\tlearn: 2290.6660837\ttest: 2274.4237113\tbest: 2274.4237113 (79)\ttotal: 2.08s\tremaining: 521ms\n",
      "80:\tlearn: 2283.7549845\ttest: 2267.5362809\tbest: 2267.5362809 (80)\ttotal: 2.11s\tremaining: 495ms\n",
      "81:\tlearn: 2276.6013872\ttest: 2260.2673079\tbest: 2260.2673079 (81)\ttotal: 2.13s\tremaining: 469ms\n",
      "82:\tlearn: 2270.2628586\ttest: 2253.8566201\tbest: 2253.8566201 (82)\ttotal: 2.16s\tremaining: 443ms\n",
      "83:\tlearn: 2264.1588495\ttest: 2247.7205883\tbest: 2247.7205883 (83)\ttotal: 2.19s\tremaining: 418ms\n",
      "84:\tlearn: 2257.0125247\ttest: 2240.5994087\tbest: 2240.5994087 (84)\ttotal: 2.22s\tremaining: 391ms\n",
      "85:\tlearn: 2250.3404493\ttest: 2234.0642001\tbest: 2234.0642001 (85)\ttotal: 2.24s\tremaining: 365ms\n",
      "86:\tlearn: 2244.0601628\ttest: 2227.8617572\tbest: 2227.8617572 (86)\ttotal: 2.27s\tremaining: 338ms\n",
      "87:\tlearn: 2237.9812991\ttest: 2221.8180190\tbest: 2221.8180190 (87)\ttotal: 2.29s\tremaining: 313ms\n",
      "88:\tlearn: 2231.8935011\ttest: 2215.7993180\tbest: 2215.7993180 (88)\ttotal: 2.32s\tremaining: 287ms\n",
      "89:\tlearn: 2226.9497603\ttest: 2210.7926299\tbest: 2210.7926299 (89)\ttotal: 2.35s\tremaining: 261ms\n",
      "90:\tlearn: 2221.4143724\ttest: 2205.1027098\tbest: 2205.1027098 (90)\ttotal: 2.38s\tremaining: 236ms\n",
      "91:\tlearn: 2216.4260573\ttest: 2200.2190130\tbest: 2200.2190130 (91)\ttotal: 2.41s\tremaining: 210ms\n",
      "92:\tlearn: 2211.1894445\ttest: 2194.9846637\tbest: 2194.9846637 (92)\ttotal: 2.45s\tremaining: 184ms\n",
      "93:\tlearn: 2206.1842892\ttest: 2189.7992780\tbest: 2189.7992780 (93)\ttotal: 2.47s\tremaining: 158ms\n",
      "94:\tlearn: 2200.5129364\ttest: 2183.9616419\tbest: 2183.9616419 (94)\ttotal: 2.5s\tremaining: 132ms\n",
      "95:\tlearn: 2195.6328293\ttest: 2179.2672534\tbest: 2179.2672534 (95)\ttotal: 2.52s\tremaining: 105ms\n",
      "96:\tlearn: 2191.2835933\ttest: 2174.9081467\tbest: 2174.9081467 (96)\ttotal: 2.55s\tremaining: 78.8ms\n",
      "97:\tlearn: 2186.0009661\ttest: 2169.5031263\tbest: 2169.5031263 (97)\ttotal: 2.57s\tremaining: 52.5ms\n",
      "98:\tlearn: 2181.6071334\ttest: 2165.0948655\tbest: 2165.0948655 (98)\ttotal: 2.6s\tremaining: 26.3ms\n",
      "99:\tlearn: 2177.0372660\ttest: 2160.3352944\tbest: 2160.3352944 (99)\ttotal: 2.63s\tremaining: 0us\n",
      "\n",
      "bestTest = 2160.335294\n",
      "bestIteration = 99\n",
      "\n",
      "13:\tloss: 2160.3352944\tbest: 2090.8800473 (7)\ttotal: 34.7s\tremaining: 32.2s\n",
      "0:\tlearn: 6138.2511505\ttest: 6125.1573984\tbest: 6125.1573984 (0)\ttotal: 28.3ms\tremaining: 2.8s\n",
      "1:\tlearn: 5988.5159574\ttest: 5975.4074082\tbest: 5975.4074082 (1)\ttotal: 53.5ms\tremaining: 2.62s\n",
      "2:\tlearn: 5845.5492739\ttest: 5832.6949718\tbest: 5832.6949718 (2)\ttotal: 79.2ms\tremaining: 2.56s\n",
      "3:\tlearn: 5708.5364508\ttest: 5695.8421933\tbest: 5695.8421933 (3)\ttotal: 104ms\tremaining: 2.5s\n",
      "4:\tlearn: 5575.8513907\ttest: 5563.0947136\tbest: 5563.0947136 (4)\ttotal: 129ms\tremaining: 2.45s\n",
      "5:\tlearn: 5448.9070643\ttest: 5436.4828649\tbest: 5436.4828649 (5)\ttotal: 154ms\tremaining: 2.41s\n",
      "6:\tlearn: 5324.7688817\ttest: 5312.4189141\tbest: 5312.4189141 (6)\ttotal: 185ms\tremaining: 2.46s\n",
      "7:\tlearn: 5204.7952804\ttest: 5192.7492438\tbest: 5192.7492438 (7)\ttotal: 212ms\tremaining: 2.43s\n",
      "8:\tlearn: 5090.9899650\ttest: 5079.2583544\tbest: 5079.2583544 (8)\ttotal: 237ms\tremaining: 2.39s\n",
      "9:\tlearn: 4980.5862516\ttest: 4969.0298632\tbest: 4969.0298632 (9)\ttotal: 262ms\tremaining: 2.36s\n",
      "10:\tlearn: 4874.3012063\ttest: 4862.7785304\tbest: 4862.7785304 (10)\ttotal: 286ms\tremaining: 2.31s\n",
      "11:\tlearn: 4770.4844438\ttest: 4758.9636057\tbest: 4758.9636057 (11)\ttotal: 311ms\tremaining: 2.28s\n",
      "12:\tlearn: 4668.4315868\ttest: 4656.9551115\tbest: 4656.9551115 (12)\ttotal: 335ms\tremaining: 2.24s\n",
      "13:\tlearn: 4571.3232363\ttest: 4559.5800241\tbest: 4559.5800241 (13)\ttotal: 360ms\tremaining: 2.21s\n",
      "14:\tlearn: 4478.0457929\ttest: 4466.5428128\tbest: 4466.5428128 (14)\ttotal: 385ms\tremaining: 2.18s\n",
      "15:\tlearn: 4386.9851855\ttest: 4375.6768061\tbest: 4375.6768061 (15)\ttotal: 416ms\tremaining: 2.19s\n",
      "16:\tlearn: 4300.2116477\ttest: 4288.9556198\tbest: 4288.9556198 (16)\ttotal: 443ms\tremaining: 2.16s\n",
      "17:\tlearn: 4215.7804399\ttest: 4204.3272992\tbest: 4204.3272992 (17)\ttotal: 469ms\tremaining: 2.14s\n",
      "18:\tlearn: 4135.7664786\ttest: 4124.3126926\tbest: 4124.3126926 (18)\ttotal: 496ms\tremaining: 2.12s\n",
      "19:\tlearn: 4059.7254155\ttest: 4048.4251311\tbest: 4048.4251311 (19)\ttotal: 522ms\tremaining: 2.09s\n",
      "20:\tlearn: 3985.5089848\ttest: 3974.3287563\tbest: 3974.3287563 (20)\ttotal: 563ms\tremaining: 2.12s\n",
      "21:\tlearn: 3914.3964457\ttest: 3903.3372660\tbest: 3903.3372660 (21)\ttotal: 588ms\tremaining: 2.08s\n",
      "22:\tlearn: 3843.6497773\ttest: 3832.1562350\tbest: 3832.1562350 (22)\ttotal: 612ms\tremaining: 2.05s\n",
      "23:\tlearn: 3776.9433182\ttest: 3765.4004840\tbest: 3765.4004840 (23)\ttotal: 644ms\tremaining: 2.04s\n",
      "24:\tlearn: 3710.6144843\ttest: 3698.8485576\tbest: 3698.8485576 (24)\ttotal: 672ms\tremaining: 2.02s\n",
      "25:\tlearn: 3647.8236106\ttest: 3635.8455774\tbest: 3635.8455774 (25)\ttotal: 698ms\tremaining: 1.99s\n",
      "26:\tlearn: 3588.0749736\ttest: 3575.9980402\tbest: 3575.9980402 (26)\ttotal: 723ms\tremaining: 1.95s\n",
      "27:\tlearn: 3529.9914138\ttest: 3517.8429473\tbest: 3517.8429473 (27)\ttotal: 747ms\tremaining: 1.92s\n",
      "28:\tlearn: 3475.1947366\ttest: 3463.1377520\tbest: 3463.1377520 (28)\ttotal: 774ms\tremaining: 1.89s\n",
      "29:\tlearn: 3420.5572478\ttest: 3408.4139159\tbest: 3408.4139159 (29)\ttotal: 803ms\tremaining: 1.87s\n",
      "30:\tlearn: 3368.9089423\ttest: 3356.4126548\tbest: 3356.4126548 (30)\ttotal: 828ms\tremaining: 1.84s\n",
      "31:\tlearn: 3320.6776755\ttest: 3308.5055961\tbest: 3308.5055961 (31)\ttotal: 856ms\tremaining: 1.82s\n",
      "32:\tlearn: 3272.6956004\ttest: 3260.5977936\tbest: 3260.5977936 (32)\ttotal: 886ms\tremaining: 1.8s\n",
      "33:\tlearn: 3226.4421705\ttest: 3214.2223016\tbest: 3214.2223016 (33)\ttotal: 912ms\tremaining: 1.77s\n",
      "34:\tlearn: 3183.3033015\ttest: 3170.9733610\tbest: 3170.9733610 (34)\ttotal: 937ms\tremaining: 1.74s\n",
      "35:\tlearn: 3140.7840885\ttest: 3128.2891612\tbest: 3128.2891612 (35)\ttotal: 960ms\tremaining: 1.71s\n",
      "36:\tlearn: 3099.6395370\ttest: 3086.8406657\tbest: 3086.8406657 (36)\ttotal: 987ms\tremaining: 1.68s\n",
      "37:\tlearn: 3061.1098948\ttest: 3048.3416613\tbest: 3048.3416613 (37)\ttotal: 1.01s\tremaining: 1.65s\n",
      "38:\tlearn: 3024.3719730\ttest: 3011.6395503\tbest: 3011.6395503 (38)\ttotal: 1.04s\tremaining: 1.62s\n",
      "39:\tlearn: 2989.0483020\ttest: 2976.3311090\tbest: 2976.3311090 (39)\ttotal: 1.06s\tremaining: 1.6s\n",
      "40:\tlearn: 2954.4519694\ttest: 2941.6011353\tbest: 2941.6011353 (40)\ttotal: 1.09s\tremaining: 1.57s\n",
      "41:\tlearn: 2921.7887653\ttest: 2908.8815279\tbest: 2908.8815279 (41)\ttotal: 1.12s\tremaining: 1.55s\n",
      "42:\tlearn: 2890.3279803\ttest: 2877.3830259\tbest: 2877.3830259 (42)\ttotal: 1.16s\tremaining: 1.54s\n",
      "43:\tlearn: 2860.8716025\ttest: 2847.7034500\tbest: 2847.7034500 (43)\ttotal: 1.18s\tremaining: 1.51s\n",
      "44:\tlearn: 2832.6506376\ttest: 2819.5994333\tbest: 2819.5994333 (44)\ttotal: 1.21s\tremaining: 1.48s\n",
      "45:\tlearn: 2804.6397284\ttest: 2791.7834438\tbest: 2791.7834438 (45)\ttotal: 1.24s\tremaining: 1.45s\n",
      "46:\tlearn: 2777.6967587\ttest: 2764.8740365\tbest: 2764.8740365 (46)\ttotal: 1.27s\tremaining: 1.43s\n",
      "47:\tlearn: 2751.7028892\ttest: 2738.8292448\tbest: 2738.8292448 (47)\ttotal: 1.3s\tremaining: 1.41s\n",
      "48:\tlearn: 2726.3659835\ttest: 2713.3181598\tbest: 2713.3181598 (48)\ttotal: 1.32s\tremaining: 1.38s\n",
      "49:\tlearn: 2702.2936344\ttest: 2689.1646117\tbest: 2689.1646117 (49)\ttotal: 1.35s\tremaining: 1.35s\n",
      "50:\tlearn: 2679.3441545\ttest: 2665.9388953\tbest: 2665.9388953 (50)\ttotal: 1.38s\tremaining: 1.33s\n",
      "51:\tlearn: 2656.4473785\ttest: 2642.6666389\tbest: 2642.6666389 (51)\ttotal: 1.41s\tremaining: 1.3s\n",
      "52:\tlearn: 2635.6687774\ttest: 2621.8184660\tbest: 2621.8184660 (52)\ttotal: 1.43s\tremaining: 1.27s\n",
      "53:\tlearn: 2615.9255358\ttest: 2602.0927510\tbest: 2602.0927510 (53)\ttotal: 1.46s\tremaining: 1.24s\n",
      "54:\tlearn: 2596.5184243\ttest: 2582.7699197\tbest: 2582.7699197 (54)\ttotal: 1.49s\tremaining: 1.22s\n",
      "55:\tlearn: 2577.4735948\ttest: 2563.5932677\tbest: 2563.5932677 (55)\ttotal: 1.51s\tremaining: 1.19s\n",
      "56:\tlearn: 2559.6694191\ttest: 2545.9329430\tbest: 2545.9329430 (56)\ttotal: 1.54s\tremaining: 1.16s\n",
      "57:\tlearn: 2542.1923075\ttest: 2528.1395124\tbest: 2528.1395124 (57)\ttotal: 1.57s\tremaining: 1.13s\n",
      "58:\tlearn: 2526.0479715\ttest: 2511.7114620\tbest: 2511.7114620 (58)\ttotal: 1.59s\tremaining: 1.1s\n",
      "59:\tlearn: 2510.2504419\ttest: 2495.8353385\tbest: 2495.8353385 (59)\ttotal: 1.61s\tremaining: 1.08s\n",
      "60:\tlearn: 2494.9852360\ttest: 2480.4305634\tbest: 2480.4305634 (60)\ttotal: 1.64s\tremaining: 1.05s\n",
      "61:\tlearn: 2479.8612902\ttest: 2465.1544310\tbest: 2465.1544310 (61)\ttotal: 1.66s\tremaining: 1.02s\n",
      "62:\tlearn: 2464.9938728\ttest: 2450.3115035\tbest: 2450.3115035 (62)\ttotal: 1.7s\tremaining: 996ms\n",
      "63:\tlearn: 2450.8518463\ttest: 2436.2643096\tbest: 2436.2643096 (63)\ttotal: 1.72s\tremaining: 969ms\n",
      "64:\tlearn: 2437.8369312\ttest: 2423.1332358\tbest: 2423.1332358 (64)\ttotal: 1.75s\tremaining: 941ms\n",
      "65:\tlearn: 2425.6593449\ttest: 2410.8926716\tbest: 2410.8926716 (65)\ttotal: 1.77s\tremaining: 914ms\n",
      "66:\tlearn: 2413.3620913\ttest: 2398.5065731\tbest: 2398.5065731 (66)\ttotal: 1.8s\tremaining: 886ms\n",
      "67:\tlearn: 2401.4717265\ttest: 2386.6343093\tbest: 2386.6343093 (67)\ttotal: 1.82s\tremaining: 858ms\n",
      "68:\tlearn: 2390.0914625\ttest: 2375.0645722\tbest: 2375.0645722 (68)\ttotal: 1.85s\tremaining: 830ms\n",
      "69:\tlearn: 2379.4294542\ttest: 2364.3588293\tbest: 2364.3588293 (69)\ttotal: 1.87s\tremaining: 802ms\n",
      "70:\tlearn: 2368.7566250\ttest: 2353.7237451\tbest: 2353.7237451 (70)\ttotal: 1.9s\tremaining: 774ms\n",
      "71:\tlearn: 2358.7656812\ttest: 2343.6374532\tbest: 2343.6374532 (71)\ttotal: 1.93s\tremaining: 749ms\n",
      "72:\tlearn: 2348.7615649\ttest: 2333.4200927\tbest: 2333.4200927 (72)\ttotal: 1.95s\tremaining: 721ms\n",
      "73:\tlearn: 2339.6497718\ttest: 2324.2686739\tbest: 2324.2686739 (73)\ttotal: 1.98s\tremaining: 694ms\n",
      "74:\tlearn: 2330.7318703\ttest: 2315.2932102\tbest: 2315.2932102 (74)\ttotal: 2s\tremaining: 667ms\n",
      "75:\tlearn: 2321.9291945\ttest: 2306.6749733\tbest: 2306.6749733 (75)\ttotal: 2.02s\tremaining: 639ms\n",
      "76:\tlearn: 2313.6051628\ttest: 2297.9935989\tbest: 2297.9935989 (76)\ttotal: 2.05s\tremaining: 613ms\n",
      "77:\tlearn: 2305.3969770\ttest: 2289.7438639\tbest: 2289.7438639 (77)\ttotal: 2.08s\tremaining: 586ms\n",
      "78:\tlearn: 2296.5165557\ttest: 2280.8349801\tbest: 2280.8349801 (78)\ttotal: 2.11s\tremaining: 561ms\n",
      "79:\tlearn: 2289.0835812\ttest: 2273.3390406\tbest: 2273.3390406 (79)\ttotal: 2.13s\tremaining: 534ms\n",
      "80:\tlearn: 2281.8375939\ttest: 2266.0649364\tbest: 2266.0649364 (80)\ttotal: 2.16s\tremaining: 507ms\n",
      "81:\tlearn: 2274.6587373\ttest: 2258.7651146\tbest: 2258.7651146 (81)\ttotal: 2.18s\tremaining: 479ms\n",
      "82:\tlearn: 2267.5299856\ttest: 2251.6659960\tbest: 2251.6659960 (82)\ttotal: 2.21s\tremaining: 452ms\n",
      "83:\tlearn: 2261.3401852\ttest: 2245.4829655\tbest: 2245.4829655 (83)\ttotal: 2.23s\tremaining: 425ms\n",
      "84:\tlearn: 2254.7407949\ttest: 2238.7724570\tbest: 2238.7724570 (84)\ttotal: 2.25s\tremaining: 398ms\n",
      "85:\tlearn: 2248.0806164\ttest: 2232.1731202\tbest: 2232.1731202 (85)\ttotal: 2.28s\tremaining: 371ms\n",
      "86:\tlearn: 2241.6316002\ttest: 2225.7924802\tbest: 2225.7924802 (86)\ttotal: 2.3s\tremaining: 344ms\n",
      "87:\tlearn: 2235.3944018\ttest: 2219.5847819\tbest: 2219.5847819 (87)\ttotal: 2.33s\tremaining: 318ms\n",
      "88:\tlearn: 2229.5432975\ttest: 2213.7838672\tbest: 2213.7838672 (88)\ttotal: 2.35s\tremaining: 291ms\n",
      "89:\tlearn: 2224.5063582\ttest: 2208.6746897\tbest: 2208.6746897 (89)\ttotal: 2.38s\tremaining: 264ms\n",
      "90:\tlearn: 2219.2582363\ttest: 2203.4720733\tbest: 2203.4720733 (90)\ttotal: 2.4s\tremaining: 237ms\n",
      "91:\tlearn: 2214.2650469\ttest: 2198.5762935\tbest: 2198.5762935 (91)\ttotal: 2.42s\tremaining: 211ms\n",
      "92:\tlearn: 2208.9222451\ttest: 2193.2293187\tbest: 2193.2293187 (92)\ttotal: 2.45s\tremaining: 184ms\n",
      "93:\tlearn: 2204.3405821\ttest: 2188.7834553\tbest: 2188.7834553 (93)\ttotal: 2.47s\tremaining: 158ms\n",
      "94:\tlearn: 2198.7821878\ttest: 2183.0591260\tbest: 2183.0591260 (94)\ttotal: 2.5s\tremaining: 131ms\n",
      "95:\tlearn: 2194.1864082\ttest: 2178.4741507\tbest: 2178.4741507 (95)\ttotal: 2.52s\tremaining: 105ms\n",
      "96:\tlearn: 2190.0781933\ttest: 2174.3871790\tbest: 2174.3871790 (96)\ttotal: 2.55s\tremaining: 78.8ms\n",
      "97:\tlearn: 2185.0059109\ttest: 2169.1875849\tbest: 2169.1875849 (97)\ttotal: 2.58s\tremaining: 52.6ms\n",
      "98:\tlearn: 2180.7398822\ttest: 2164.7811270\tbest: 2164.7811270 (98)\ttotal: 2.6s\tremaining: 26.3ms\n",
      "99:\tlearn: 2176.4246422\ttest: 2160.6260773\tbest: 2160.6260773 (99)\ttotal: 2.63s\tremaining: 0us\n",
      "\n",
      "bestTest = 2160.626077\n",
      "bestIteration = 99\n",
      "\n",
      "14:\tloss: 2160.6260773\tbest: 2090.8800473 (7)\ttotal: 37.4s\tremaining: 29.9s\n",
      "0:\tlearn: 6138.0935326\ttest: 6125.0013040\tbest: 6125.0013040 (0)\ttotal: 28ms\tremaining: 5.57s\n",
      "1:\tlearn: 5988.2337499\ttest: 5975.1264717\tbest: 5975.1264717 (1)\ttotal: 53ms\tremaining: 5.24s\n",
      "2:\tlearn: 5845.2193278\ttest: 5832.3665091\tbest: 5832.3665091 (2)\ttotal: 78.4ms\tremaining: 5.14s\n",
      "3:\tlearn: 5708.0518694\ttest: 5695.3622787\tbest: 5695.3622787 (3)\ttotal: 109ms\tremaining: 5.34s\n",
      "4:\tlearn: 5575.2106088\ttest: 5562.4592829\tbest: 5562.4592829 (4)\ttotal: 138ms\tremaining: 5.38s\n",
      "5:\tlearn: 5448.1040441\ttest: 5435.6874013\tbest: 5435.6874013 (5)\ttotal: 164ms\tremaining: 5.29s\n",
      "6:\tlearn: 5323.8784876\ttest: 5311.5338703\tbest: 5311.5338703 (6)\ttotal: 189ms\tremaining: 5.2s\n",
      "7:\tlearn: 5203.8325749\ttest: 5191.7958766\tbest: 5191.7958766 (7)\ttotal: 214ms\tremaining: 5.14s\n",
      "8:\tlearn: 5089.9355820\ttest: 5078.2108679\tbest: 5078.2108679 (8)\ttotal: 241ms\tremaining: 5.12s\n",
      "9:\tlearn: 4979.4150017\ttest: 4967.8661195\tbest: 4967.8661195 (9)\ttotal: 267ms\tremaining: 5.07s\n",
      "10:\tlearn: 4873.0259588\ttest: 4861.5110594\tbest: 4861.5110594 (10)\ttotal: 292ms\tremaining: 5.02s\n",
      "11:\tlearn: 4769.1852840\ttest: 4757.6670931\tbest: 4757.6670931 (11)\ttotal: 323ms\tremaining: 5.06s\n",
      "12:\tlearn: 4667.0993926\ttest: 4655.6238267\tbest: 4655.6238267 (12)\ttotal: 350ms\tremaining: 5.03s\n",
      "13:\tlearn: 4569.9166328\ttest: 4558.1730710\tbest: 4558.1730710 (13)\ttotal: 375ms\tremaining: 4.99s\n",
      "14:\tlearn: 4476.5793999\ttest: 4465.0768061\tbest: 4465.0768061 (14)\ttotal: 401ms\tremaining: 4.95s\n",
      "15:\tlearn: 4385.4739959\ttest: 4374.1642631\tbest: 4374.1642631 (15)\ttotal: 426ms\tremaining: 4.9s\n",
      "16:\tlearn: 4298.6535328\ttest: 4287.3943903\tbest: 4287.3943903 (16)\ttotal: 452ms\tremaining: 4.86s\n",
      "17:\tlearn: 4214.1133976\ttest: 4202.6550472\tbest: 4202.6550472 (17)\ttotal: 480ms\tremaining: 4.85s\n",
      "18:\tlearn: 4134.0668813\ttest: 4122.6063506\tbest: 4122.6063506 (18)\ttotal: 506ms\tremaining: 4.82s\n",
      "19:\tlearn: 4057.9942727\ttest: 4046.6885914\tbest: 4046.6885914 (19)\ttotal: 535ms\tremaining: 4.81s\n",
      "20:\tlearn: 3983.7305369\ttest: 3972.5441108\tbest: 3972.5441108 (20)\ttotal: 572ms\tremaining: 4.88s\n",
      "21:\tlearn: 3912.6095406\ttest: 3901.5447301\tbest: 3901.5447301 (21)\ttotal: 605ms\tremaining: 4.9s\n",
      "22:\tlearn: 3841.8781024\ttest: 3830.3774610\tbest: 3830.3774610 (22)\ttotal: 631ms\tremaining: 4.85s\n",
      "23:\tlearn: 3775.1583428\ttest: 3763.6083330\tbest: 3763.6083330 (23)\ttotal: 658ms\tremaining: 4.83s\n",
      "24:\tlearn: 3708.8523329\ttest: 3697.0780247\tbest: 3697.0780247 (24)\ttotal: 685ms\tremaining: 4.79s\n",
      "25:\tlearn: 3646.0646430\ttest: 3634.0766887\tbest: 3634.0766887 (25)\ttotal: 710ms\tremaining: 4.75s\n",
      "26:\tlearn: 3586.3170111\ttest: 3574.2306871\tbest: 3574.2306871 (26)\ttotal: 743ms\tremaining: 4.76s\n",
      "27:\tlearn: 3528.0528412\ttest: 3515.9781154\tbest: 3515.9781154 (27)\ttotal: 768ms\tremaining: 4.72s\n",
      "28:\tlearn: 3473.2862169\ttest: 3461.3074059\tbest: 3461.3074059 (28)\ttotal: 794ms\tremaining: 4.68s\n",
      "29:\tlearn: 3418.6721066\ttest: 3406.6064969\tbest: 3406.6064969 (29)\ttotal: 818ms\tremaining: 4.64s\n",
      "30:\tlearn: 3367.1388680\ttest: 3354.7201587\tbest: 3354.7201587 (30)\ttotal: 844ms\tremaining: 4.6s\n",
      "31:\tlearn: 3319.2147995\ttest: 3307.0662172\tbest: 3307.0662172 (31)\ttotal: 869ms\tremaining: 4.56s\n",
      "32:\tlearn: 3271.2349356\ttest: 3259.1660574\tbest: 3259.1660574 (32)\ttotal: 893ms\tremaining: 4.52s\n",
      "33:\tlearn: 3224.7443795\ttest: 3212.4219311\tbest: 3212.4219311 (33)\ttotal: 917ms\tremaining: 4.48s\n",
      "34:\tlearn: 3181.7725328\ttest: 3169.3378251\tbest: 3169.3378251 (34)\ttotal: 942ms\tremaining: 4.44s\n",
      "35:\tlearn: 3139.2838594\ttest: 3126.6853899\tbest: 3126.6853899 (35)\ttotal: 978ms\tremaining: 4.45s\n",
      "36:\tlearn: 3098.1332897\ttest: 3085.2362052\tbest: 3085.2362052 (36)\ttotal: 1s\tremaining: 4.42s\n",
      "37:\tlearn: 3059.9069429\ttest: 3047.1526396\tbest: 3047.1526396 (37)\ttotal: 1.03s\tremaining: 4.39s\n",
      "38:\tlearn: 3023.1089684\ttest: 3010.3968161\tbest: 3010.3968161 (38)\ttotal: 1.05s\tremaining: 4.35s\n",
      "39:\tlearn: 2987.7407306\ttest: 2975.0477502\tbest: 2975.0477502 (39)\ttotal: 1.08s\tremaining: 4.32s\n",
      "40:\tlearn: 2953.8814579\ttest: 2941.1882605\tbest: 2941.1882605 (40)\ttotal: 1.1s\tremaining: 4.29s\n",
      "41:\tlearn: 2921.2973104\ttest: 2908.5493076\tbest: 2908.5493076 (41)\ttotal: 1.13s\tremaining: 4.25s\n",
      "42:\tlearn: 2889.5103525\ttest: 2876.5452623\tbest: 2876.5452623 (42)\ttotal: 1.16s\tremaining: 4.22s\n",
      "43:\tlearn: 2858.8567173\ttest: 2845.8595012\tbest: 2845.8595012 (43)\ttotal: 1.18s\tremaining: 4.19s\n",
      "44:\tlearn: 2829.3598205\ttest: 2816.2530140\tbest: 2816.2530140 (44)\ttotal: 1.21s\tremaining: 4.18s\n",
      "45:\tlearn: 2801.2035966\ttest: 2788.2099629\tbest: 2788.2099629 (45)\ttotal: 1.24s\tremaining: 4.14s\n",
      "46:\tlearn: 2773.6299781\ttest: 2760.3406769\tbest: 2760.3406769 (46)\ttotal: 1.26s\tremaining: 4.11s\n",
      "47:\tlearn: 2747.9846908\ttest: 2734.6459258\tbest: 2734.6459258 (47)\ttotal: 1.29s\tremaining: 4.08s\n",
      "48:\tlearn: 2723.3184035\ttest: 2709.6989454\tbest: 2709.6989454 (48)\ttotal: 1.31s\tremaining: 4.04s\n",
      "49:\tlearn: 2699.2793651\ttest: 2685.5838876\tbest: 2685.5838876 (49)\ttotal: 1.33s\tremaining: 4s\n",
      "50:\tlearn: 2677.1590141\ttest: 2663.6160809\tbest: 2663.6160809 (50)\ttotal: 1.36s\tremaining: 3.97s\n",
      "51:\tlearn: 2655.3809758\ttest: 2641.6737738\tbest: 2641.6737738 (51)\ttotal: 1.4s\tremaining: 3.98s\n",
      "52:\tlearn: 2634.8599444\ttest: 2621.0994746\tbest: 2621.0994746 (52)\ttotal: 1.43s\tremaining: 3.95s\n",
      "53:\tlearn: 2615.3140354\ttest: 2601.5749978\tbest: 2601.5749978 (53)\ttotal: 1.46s\tremaining: 3.93s\n",
      "54:\tlearn: 2595.7053954\ttest: 2582.0021908\tbest: 2582.0021908 (54)\ttotal: 1.48s\tremaining: 3.91s\n",
      "55:\tlearn: 2577.0437693\ttest: 2563.2119020\tbest: 2563.2119020 (55)\ttotal: 1.51s\tremaining: 3.89s\n",
      "56:\tlearn: 2559.5890650\ttest: 2545.6643024\tbest: 2545.6643024 (56)\ttotal: 1.54s\tremaining: 3.86s\n",
      "57:\tlearn: 2542.2476216\ttest: 2528.2968977\tbest: 2528.2968977 (57)\ttotal: 1.57s\tremaining: 3.84s\n",
      "58:\tlearn: 2525.1727231\ttest: 2510.8788326\tbest: 2510.8788326 (58)\ttotal: 1.6s\tremaining: 3.83s\n",
      "59:\tlearn: 2509.4822749\ttest: 2495.1187410\tbest: 2495.1187410 (59)\ttotal: 1.63s\tremaining: 3.81s\n",
      "60:\tlearn: 2494.4355577\ttest: 2479.9537957\tbest: 2479.9537957 (60)\ttotal: 1.66s\tremaining: 3.78s\n",
      "61:\tlearn: 2479.6111279\ttest: 2465.0738528\tbest: 2465.0738528 (61)\ttotal: 1.69s\tremaining: 3.76s\n",
      "62:\tlearn: 2465.6056834\ttest: 2451.0041751\tbest: 2451.0041751 (62)\ttotal: 1.72s\tremaining: 3.73s\n",
      "63:\tlearn: 2452.1482956\ttest: 2437.4977387\tbest: 2437.4977387 (63)\ttotal: 1.74s\tremaining: 3.7s\n",
      "64:\tlearn: 2439.2891355\ttest: 2424.5371860\tbest: 2424.5371860 (64)\ttotal: 1.77s\tremaining: 3.67s\n",
      "65:\tlearn: 2425.9646432\ttest: 2411.1016040\tbest: 2411.1016040 (65)\ttotal: 1.79s\tremaining: 3.64s\n",
      "66:\tlearn: 2414.1342926\ttest: 2399.4218032\tbest: 2399.4218032 (66)\ttotal: 1.83s\tremaining: 3.63s\n",
      "67:\tlearn: 2402.0281626\ttest: 2387.3005876\tbest: 2387.3005876 (67)\ttotal: 1.86s\tremaining: 3.6s\n",
      "68:\tlearn: 2390.5392919\ttest: 2375.6274391\tbest: 2375.6274391 (68)\ttotal: 1.89s\tremaining: 3.58s\n",
      "69:\tlearn: 2380.0961360\ttest: 2365.2825166\tbest: 2365.2825166 (69)\ttotal: 1.91s\tremaining: 3.55s\n",
      "70:\tlearn: 2369.8996826\ttest: 2354.9783902\tbest: 2354.9783902 (70)\ttotal: 1.94s\tremaining: 3.52s\n",
      "71:\tlearn: 2360.1343387\ttest: 2345.0911983\tbest: 2345.0911983 (71)\ttotal: 1.96s\tremaining: 3.48s\n",
      "72:\tlearn: 2349.9085613\ttest: 2334.7480010\tbest: 2334.7480010 (72)\ttotal: 1.99s\tremaining: 3.45s\n",
      "73:\tlearn: 2340.3080427\ttest: 2325.1579450\tbest: 2325.1579450 (73)\ttotal: 2.01s\tremaining: 3.42s\n",
      "74:\tlearn: 2331.1540071\ttest: 2315.7908901\tbest: 2315.7908901 (74)\ttotal: 2.04s\tremaining: 3.41s\n",
      "75:\tlearn: 2322.3293172\ttest: 2307.1952642\tbest: 2307.1952642 (75)\ttotal: 2.07s\tremaining: 3.38s\n",
      "76:\tlearn: 2314.0891665\ttest: 2298.6303437\tbest: 2298.6303437 (76)\ttotal: 2.1s\tremaining: 3.36s\n",
      "77:\tlearn: 2305.9955764\ttest: 2290.5363897\tbest: 2290.5363897 (77)\ttotal: 2.14s\tremaining: 3.34s\n",
      "78:\tlearn: 2297.5870861\ttest: 2282.0295644\tbest: 2282.0295644 (78)\ttotal: 2.16s\tremaining: 3.31s\n",
      "79:\tlearn: 2289.9087888\ttest: 2274.2590563\tbest: 2274.2590563 (79)\ttotal: 2.19s\tremaining: 3.28s\n",
      "80:\tlearn: 2282.9576334\ttest: 2267.3320712\tbest: 2267.3320712 (80)\ttotal: 2.23s\tremaining: 3.27s\n",
      "81:\tlearn: 2275.6397877\ttest: 2259.8137883\tbest: 2259.8137883 (81)\ttotal: 2.25s\tremaining: 3.24s\n",
      "82:\tlearn: 2268.4664320\ttest: 2252.6929734\tbest: 2252.6929734 (82)\ttotal: 2.28s\tremaining: 3.22s\n",
      "83:\tlearn: 2262.2249997\ttest: 2246.4629576\tbest: 2246.4629576 (83)\ttotal: 2.31s\tremaining: 3.19s\n",
      "84:\tlearn: 2255.7908853\ttest: 2239.8413796\tbest: 2239.8413796 (84)\ttotal: 2.34s\tremaining: 3.17s\n",
      "85:\tlearn: 2249.7437645\ttest: 2233.7871153\tbest: 2233.7871153 (85)\ttotal: 2.37s\tremaining: 3.14s\n",
      "86:\tlearn: 2243.8322641\ttest: 2227.9494305\tbest: 2227.9494305 (86)\ttotal: 2.4s\tremaining: 3.12s\n",
      "87:\tlearn: 2237.3594086\ttest: 2221.3103214\tbest: 2221.3103214 (87)\ttotal: 2.44s\tremaining: 3.1s\n",
      "88:\tlearn: 2231.1072102\ttest: 2215.1585354\tbest: 2215.1585354 (88)\ttotal: 2.47s\tremaining: 3.08s\n",
      "89:\tlearn: 2225.5369949\ttest: 2209.5500945\tbest: 2209.5500945 (89)\ttotal: 2.49s\tremaining: 3.05s\n",
      "90:\tlearn: 2220.1460290\ttest: 2204.1341074\tbest: 2204.1341074 (90)\ttotal: 2.52s\tremaining: 3.02s\n",
      "91:\tlearn: 2214.7477930\ttest: 2198.8062120\tbest: 2198.8062120 (91)\ttotal: 2.55s\tremaining: 2.99s\n",
      "92:\tlearn: 2209.1496877\ttest: 2193.2497770\tbest: 2193.2497770 (92)\ttotal: 2.58s\tremaining: 2.97s\n",
      "93:\tlearn: 2204.4352590\ttest: 2188.3373056\tbest: 2188.3373056 (93)\ttotal: 2.61s\tremaining: 2.94s\n",
      "94:\tlearn: 2199.2010124\ttest: 2183.0908986\tbest: 2183.0908986 (94)\ttotal: 2.63s\tremaining: 2.91s\n",
      "95:\tlearn: 2194.2996918\ttest: 2178.4046953\tbest: 2178.4046953 (95)\ttotal: 2.67s\tremaining: 2.89s\n",
      "96:\tlearn: 2189.8894023\ttest: 2173.9825208\tbest: 2173.9825208 (96)\ttotal: 2.69s\tremaining: 2.86s\n",
      "97:\tlearn: 2185.5068997\ttest: 2169.6736030\tbest: 2169.6736030 (97)\ttotal: 2.72s\tremaining: 2.83s\n",
      "98:\tlearn: 2181.0580148\ttest: 2165.2065653\tbest: 2165.2065653 (98)\ttotal: 2.74s\tremaining: 2.8s\n",
      "99:\tlearn: 2176.6588545\ttest: 2160.6562382\tbest: 2160.6562382 (99)\ttotal: 2.77s\tremaining: 2.77s\n",
      "100:\tlearn: 2172.7551175\ttest: 2156.8115575\tbest: 2156.8115575 (100)\ttotal: 2.8s\tremaining: 2.75s\n",
      "101:\tlearn: 2168.6090966\ttest: 2152.7154506\tbest: 2152.7154506 (101)\ttotal: 2.83s\tremaining: 2.72s\n",
      "102:\tlearn: 2164.5909136\ttest: 2148.7875437\tbest: 2148.7875437 (102)\ttotal: 2.85s\tremaining: 2.69s\n",
      "103:\tlearn: 2161.1306424\ttest: 2145.2961210\tbest: 2145.2961210 (103)\ttotal: 2.89s\tremaining: 2.67s\n",
      "104:\tlearn: 2157.7463241\ttest: 2142.0195548\tbest: 2142.0195548 (104)\ttotal: 2.91s\tremaining: 2.63s\n",
      "105:\tlearn: 2154.2224121\ttest: 2138.4743118\tbest: 2138.4743118 (105)\ttotal: 2.94s\tremaining: 2.6s\n",
      "106:\tlearn: 2150.9156252\ttest: 2135.1350343\tbest: 2135.1350343 (106)\ttotal: 2.96s\tremaining: 2.58s\n",
      "107:\tlearn: 2147.5485954\ttest: 2131.8025335\tbest: 2131.8025335 (107)\ttotal: 2.99s\tremaining: 2.55s\n",
      "108:\tlearn: 2144.3515258\ttest: 2128.7733368\tbest: 2128.7733368 (108)\ttotal: 3.01s\tremaining: 2.52s\n",
      "109:\tlearn: 2141.4878839\ttest: 2126.0055685\tbest: 2126.0055685 (109)\ttotal: 3.04s\tremaining: 2.49s\n",
      "110:\tlearn: 2138.4704006\ttest: 2123.1191837\tbest: 2123.1191837 (110)\ttotal: 3.06s\tremaining: 2.46s\n",
      "111:\tlearn: 2135.8270160\ttest: 2120.6656376\tbest: 2120.6656376 (111)\ttotal: 3.09s\tremaining: 2.43s\n",
      "112:\tlearn: 2132.7534550\ttest: 2117.5548932\tbest: 2117.5548932 (112)\ttotal: 3.12s\tremaining: 2.4s\n",
      "113:\tlearn: 2130.1898200\ttest: 2114.9735515\tbest: 2114.9735515 (113)\ttotal: 3.15s\tremaining: 2.38s\n",
      "114:\tlearn: 2127.0104135\ttest: 2111.6268519\tbest: 2111.6268519 (114)\ttotal: 3.18s\tremaining: 2.35s\n",
      "115:\tlearn: 2123.6264795\ttest: 2108.2444137\tbest: 2108.2444137 (115)\ttotal: 3.21s\tremaining: 2.32s\n",
      "116:\tlearn: 2121.3303240\ttest: 2106.0304831\tbest: 2106.0304831 (116)\ttotal: 3.23s\tremaining: 2.29s\n",
      "117:\tlearn: 2118.2603084\ttest: 2102.8760278\tbest: 2102.8760278 (117)\ttotal: 3.25s\tremaining: 2.26s\n",
      "118:\tlearn: 2115.7776172\ttest: 2100.4658179\tbest: 2100.4658179 (118)\ttotal: 3.27s\tremaining: 2.23s\n",
      "119:\tlearn: 2113.5525100\ttest: 2098.1672017\tbest: 2098.1672017 (119)\ttotal: 3.3s\tremaining: 2.2s\n",
      "120:\tlearn: 2110.4695836\ttest: 2094.9691004\tbest: 2094.9691004 (120)\ttotal: 3.33s\tremaining: 2.17s\n",
      "121:\tlearn: 2107.5411605\ttest: 2092.2364143\tbest: 2092.2364143 (121)\ttotal: 3.35s\tremaining: 2.15s\n",
      "122:\tlearn: 2103.7862938\ttest: 2088.4556265\tbest: 2088.4556265 (122)\ttotal: 3.39s\tremaining: 2.12s\n",
      "123:\tlearn: 2101.3677838\ttest: 2085.9683279\tbest: 2085.9683279 (123)\ttotal: 3.42s\tremaining: 2.1s\n",
      "124:\tlearn: 2099.2247551\ttest: 2083.9892220\tbest: 2083.9892220 (124)\ttotal: 3.44s\tremaining: 2.06s\n",
      "125:\tlearn: 2096.0666906\ttest: 2080.7639628\tbest: 2080.7639628 (125)\ttotal: 3.47s\tremaining: 2.04s\n",
      "126:\tlearn: 2093.8524473\ttest: 2078.6967066\tbest: 2078.6967066 (126)\ttotal: 3.5s\tremaining: 2.01s\n",
      "127:\tlearn: 2090.7145745\ttest: 2075.3170810\tbest: 2075.3170810 (127)\ttotal: 3.53s\tremaining: 1.98s\n",
      "128:\tlearn: 2088.6824093\ttest: 2073.3945275\tbest: 2073.3945275 (128)\ttotal: 3.56s\tremaining: 1.96s\n",
      "129:\tlearn: 2085.8531707\ttest: 2070.6567393\tbest: 2070.6567393 (129)\ttotal: 3.59s\tremaining: 1.93s\n",
      "130:\tlearn: 2083.0179531\ttest: 2067.7661971\tbest: 2067.7661971 (130)\ttotal: 3.62s\tremaining: 1.91s\n",
      "131:\tlearn: 2080.8669348\ttest: 2065.6495707\tbest: 2065.6495707 (131)\ttotal: 3.64s\tremaining: 1.88s\n",
      "132:\tlearn: 2078.7048171\ttest: 2063.4643942\tbest: 2063.4643942 (132)\ttotal: 3.67s\tremaining: 1.85s\n",
      "133:\tlearn: 2076.6175758\ttest: 2061.3669889\tbest: 2061.3669889 (133)\ttotal: 3.7s\tremaining: 1.82s\n",
      "134:\tlearn: 2074.6745258\ttest: 2059.4655293\tbest: 2059.4655293 (134)\ttotal: 3.72s\tremaining: 1.79s\n",
      "135:\tlearn: 2071.4250604\ttest: 2056.2063193\tbest: 2056.2063193 (135)\ttotal: 3.76s\tremaining: 1.77s\n",
      "136:\tlearn: 2069.1706109\ttest: 2053.9057382\tbest: 2053.9057382 (136)\ttotal: 3.79s\tremaining: 1.74s\n",
      "137:\tlearn: 2067.1770071\ttest: 2051.9038468\tbest: 2051.9038468 (137)\ttotal: 3.82s\tremaining: 1.72s\n",
      "138:\tlearn: 2065.3860681\ttest: 2050.1638250\tbest: 2050.1638250 (138)\ttotal: 3.85s\tremaining: 1.69s\n",
      "139:\tlearn: 2062.7288767\ttest: 2047.5057436\tbest: 2047.5057436 (139)\ttotal: 3.88s\tremaining: 1.66s\n",
      "140:\tlearn: 2059.9484243\ttest: 2044.7259168\tbest: 2044.7259168 (140)\ttotal: 3.9s\tremaining: 1.63s\n",
      "141:\tlearn: 2058.4242740\ttest: 2043.2516635\tbest: 2043.2516635 (141)\ttotal: 3.93s\tremaining: 1.6s\n",
      "142:\tlearn: 2056.4222353\ttest: 2041.1906233\tbest: 2041.1906233 (142)\ttotal: 3.96s\tremaining: 1.58s\n",
      "143:\tlearn: 2054.6771300\ttest: 2039.4203297\tbest: 2039.4203297 (143)\ttotal: 3.98s\tremaining: 1.55s\n",
      "144:\tlearn: 2052.7426014\ttest: 2037.5073095\tbest: 2037.5073095 (144)\ttotal: 4.01s\tremaining: 1.52s\n",
      "145:\tlearn: 2050.1961942\ttest: 2034.9500285\tbest: 2034.9500285 (145)\ttotal: 4.05s\tremaining: 1.5s\n",
      "146:\tlearn: 2047.7508372\ttest: 2032.5386237\tbest: 2032.5386237 (146)\ttotal: 4.07s\tremaining: 1.47s\n",
      "147:\tlearn: 2046.0222096\ttest: 2030.9416225\tbest: 2030.9416225 (147)\ttotal: 4.1s\tremaining: 1.44s\n",
      "148:\tlearn: 2044.4832646\ttest: 2029.2895511\tbest: 2029.2895511 (148)\ttotal: 4.12s\tremaining: 1.41s\n",
      "149:\tlearn: 2042.9668467\ttest: 2027.8151140\tbest: 2027.8151140 (149)\ttotal: 4.15s\tremaining: 1.38s\n",
      "150:\tlearn: 2041.1004604\ttest: 2025.7878647\tbest: 2025.7878647 (150)\ttotal: 4.17s\tremaining: 1.35s\n",
      "151:\tlearn: 2039.0629231\ttest: 2023.7725090\tbest: 2023.7725090 (151)\ttotal: 4.2s\tremaining: 1.33s\n",
      "152:\tlearn: 2037.0948194\ttest: 2021.7808338\tbest: 2021.7808338 (152)\ttotal: 4.23s\tremaining: 1.3s\n",
      "153:\tlearn: 2035.7793324\ttest: 2020.4740861\tbest: 2020.4740861 (153)\ttotal: 4.27s\tremaining: 1.27s\n",
      "154:\tlearn: 2034.3756926\ttest: 2019.1457732\tbest: 2019.1457732 (154)\ttotal: 4.29s\tremaining: 1.25s\n",
      "155:\tlearn: 2033.0341879\ttest: 2018.0287330\tbest: 2018.0287330 (155)\ttotal: 4.31s\tremaining: 1.22s\n",
      "156:\tlearn: 2031.4904333\ttest: 2016.4596865\tbest: 2016.4596865 (156)\ttotal: 4.34s\tremaining: 1.19s\n",
      "157:\tlearn: 2030.3440334\ttest: 2015.2998956\tbest: 2015.2998956 (157)\ttotal: 4.36s\tremaining: 1.16s\n",
      "158:\tlearn: 2028.7109798\ttest: 2013.7256290\tbest: 2013.7256290 (158)\ttotal: 4.39s\tremaining: 1.13s\n",
      "159:\tlearn: 2026.8820825\ttest: 2011.8655606\tbest: 2011.8655606 (159)\ttotal: 4.42s\tremaining: 1.1s\n",
      "160:\tlearn: 2025.1429937\ttest: 2010.2341905\tbest: 2010.2341905 (160)\ttotal: 4.46s\tremaining: 1.08s\n",
      "161:\tlearn: 2023.5532882\ttest: 2008.5303885\tbest: 2008.5303885 (161)\ttotal: 4.49s\tremaining: 1.05s\n",
      "162:\tlearn: 2022.6433777\ttest: 2007.7356258\tbest: 2007.7356258 (162)\ttotal: 4.52s\tremaining: 1.03s\n",
      "163:\tlearn: 2021.3516565\ttest: 2006.5020165\tbest: 2006.5020165 (163)\ttotal: 4.55s\tremaining: 999ms\n",
      "164:\tlearn: 2020.1624761\ttest: 2005.3356477\tbest: 2005.3356477 (164)\ttotal: 4.57s\tremaining: 970ms\n",
      "165:\tlearn: 2018.8928409\ttest: 2004.2336744\tbest: 2004.2336744 (165)\ttotal: 4.59s\tremaining: 941ms\n",
      "166:\tlearn: 2017.9084439\ttest: 2003.2808276\tbest: 2003.2808276 (166)\ttotal: 4.62s\tremaining: 913ms\n",
      "167:\tlearn: 2016.2932132\ttest: 2001.6449028\tbest: 2001.6449028 (167)\ttotal: 4.64s\tremaining: 885ms\n",
      "168:\tlearn: 2014.9237668\ttest: 2000.2749774\tbest: 2000.2749774 (168)\ttotal: 4.68s\tremaining: 858ms\n",
      "169:\tlearn: 2013.8202470\ttest: 1999.1497850\tbest: 1999.1497850 (169)\ttotal: 4.71s\tremaining: 831ms\n",
      "170:\tlearn: 2012.0079486\ttest: 1997.2674285\tbest: 1997.2674285 (170)\ttotal: 4.74s\tremaining: 804ms\n",
      "171:\tlearn: 2010.4329139\ttest: 1995.5954068\tbest: 1995.5954068 (171)\ttotal: 4.77s\tremaining: 776ms\n",
      "172:\tlearn: 2009.2714348\ttest: 1994.4851704\tbest: 1994.4851704 (172)\ttotal: 4.79s\tremaining: 748ms\n",
      "173:\tlearn: 2007.9499607\ttest: 1993.1847273\tbest: 1993.1847273 (173)\ttotal: 4.82s\tremaining: 721ms\n",
      "174:\tlearn: 2006.3601453\ttest: 1991.6767185\tbest: 1991.6767185 (174)\ttotal: 4.84s\tremaining: 692ms\n",
      "175:\tlearn: 2004.6790829\ttest: 1990.0688773\tbest: 1990.0688773 (175)\ttotal: 4.87s\tremaining: 665ms\n",
      "176:\tlearn: 2003.3731747\ttest: 1988.8455590\tbest: 1988.8455590 (176)\ttotal: 4.91s\tremaining: 638ms\n",
      "177:\tlearn: 2002.4121988\ttest: 1987.9767157\tbest: 1987.9767157 (177)\ttotal: 4.94s\tremaining: 610ms\n",
      "178:\tlearn: 2001.3829855\ttest: 1986.8965491\tbest: 1986.8965491 (178)\ttotal: 4.96s\tremaining: 582ms\n",
      "179:\tlearn: 1999.6327769\ttest: 1985.2454401\tbest: 1985.2454401 (179)\ttotal: 4.99s\tremaining: 554ms\n",
      "180:\tlearn: 1998.3860559\ttest: 1983.9832080\tbest: 1983.9832080 (180)\ttotal: 5.01s\tremaining: 526ms\n",
      "181:\tlearn: 1997.0453591\ttest: 1982.6617519\tbest: 1982.6617519 (181)\ttotal: 5.04s\tremaining: 499ms\n",
      "182:\tlearn: 1996.2722367\ttest: 1981.9050830\tbest: 1981.9050830 (182)\ttotal: 5.07s\tremaining: 471ms\n",
      "183:\tlearn: 1994.8592171\ttest: 1980.4111167\tbest: 1980.4111167 (183)\ttotal: 5.1s\tremaining: 443ms\n",
      "184:\tlearn: 1993.4299629\ttest: 1978.9470478\tbest: 1978.9470478 (184)\ttotal: 5.12s\tremaining: 415ms\n",
      "185:\tlearn: 1992.3649385\ttest: 1977.8700202\tbest: 1977.8700202 (185)\ttotal: 5.15s\tremaining: 387ms\n",
      "186:\tlearn: 1991.4580826\ttest: 1976.9489060\tbest: 1976.9489060 (186)\ttotal: 5.17s\tremaining: 359ms\n",
      "187:\tlearn: 1990.3322556\ttest: 1975.7611404\tbest: 1975.7611404 (187)\ttotal: 5.19s\tremaining: 332ms\n",
      "188:\tlearn: 1989.5587799\ttest: 1974.9824006\tbest: 1974.9824006 (188)\ttotal: 5.22s\tremaining: 304ms\n",
      "189:\tlearn: 1988.4405444\ttest: 1973.9135105\tbest: 1973.9135105 (189)\ttotal: 5.24s\tremaining: 276ms\n",
      "190:\tlearn: 1987.2357438\ttest: 1972.7221256\tbest: 1972.7221256 (190)\ttotal: 5.26s\tremaining: 248ms\n",
      "191:\tlearn: 1985.9114067\ttest: 1971.5139532\tbest: 1971.5139532 (191)\ttotal: 5.29s\tremaining: 220ms\n",
      "192:\tlearn: 1985.0568278\ttest: 1970.6421760\tbest: 1970.6421760 (192)\ttotal: 5.32s\tremaining: 193ms\n",
      "193:\tlearn: 1984.0596276\ttest: 1969.6277010\tbest: 1969.6277010 (193)\ttotal: 5.34s\tremaining: 165ms\n",
      "194:\tlearn: 1982.8240829\ttest: 1968.4675924\tbest: 1968.4675924 (194)\ttotal: 5.37s\tremaining: 138ms\n",
      "195:\tlearn: 1981.8614367\ttest: 1967.5647603\tbest: 1967.5647603 (195)\ttotal: 5.39s\tremaining: 110ms\n",
      "196:\tlearn: 1981.1389625\ttest: 1966.8688774\tbest: 1966.8688774 (196)\ttotal: 5.41s\tremaining: 82.4ms\n",
      "197:\tlearn: 1980.2083627\ttest: 1966.0775813\tbest: 1966.0775813 (197)\ttotal: 5.43s\tremaining: 54.9ms\n",
      "198:\tlearn: 1979.3335197\ttest: 1965.3459032\tbest: 1965.3459032 (198)\ttotal: 5.46s\tremaining: 27.4ms\n",
      "199:\tlearn: 1978.5560184\ttest: 1964.5542008\tbest: 1964.5542008 (199)\ttotal: 5.48s\tremaining: 0us\n",
      "\n",
      "bestTest = 1964.554201\n",
      "bestIteration = 199\n",
      "\n",
      "15:\tloss: 1964.5542008\tbest: 1964.5542008 (15)\ttotal: 42.9s\tremaining: 29.5s\n",
      "0:\tlearn: 6138.1724513\ttest: 6125.0794586\tbest: 6125.0794586 (0)\ttotal: 27.4ms\tremaining: 5.45s\n",
      "1:\tlearn: 5988.3750306\ttest: 5975.2671153\tbest: 5975.2671153 (1)\ttotal: 57.7ms\tremaining: 5.71s\n",
      "2:\tlearn: 5845.3844777\ttest: 5832.5309158\tbest: 5832.5309158 (2)\ttotal: 84ms\tremaining: 5.51s\n",
      "3:\tlearn: 5708.2947875\ttest: 5695.6028241\tbest: 5695.6028241 (3)\ttotal: 108ms\tremaining: 5.3s\n",
      "4:\tlearn: 5575.5329042\ttest: 5562.7785120\tbest: 5562.7785120 (4)\ttotal: 132ms\tremaining: 5.14s\n",
      "5:\tlearn: 5448.5076198\ttest: 5436.0868044\tbest: 5436.0868044 (5)\ttotal: 157ms\tremaining: 5.09s\n",
      "6:\tlearn: 5324.3258469\ttest: 5311.9781793\tbest: 5311.9781793 (6)\ttotal: 182ms\tremaining: 5.01s\n",
      "7:\tlearn: 5204.3161001\ttest: 5192.2743605\tbest: 5192.2743605 (7)\ttotal: 207ms\tremaining: 4.96s\n",
      "8:\tlearn: 5090.4650026\ttest: 5078.7364901\tbest: 5078.7364901 (8)\ttotal: 243ms\tremaining: 5.16s\n",
      "9:\tlearn: 4980.0029559\ttest: 4968.4499680\tbest: 4968.4499680 (9)\ttotal: 270ms\tremaining: 5.13s\n",
      "10:\tlearn: 4873.6659028\ttest: 4862.1467762\tbest: 4862.1467762 (10)\ttotal: 296ms\tremaining: 5.08s\n",
      "11:\tlearn: 4769.8373374\ttest: 4758.3178218\tbest: 4758.3178218 (11)\ttotal: 321ms\tremaining: 5.03s\n",
      "12:\tlearn: 4667.7679554\ttest: 4656.2919458\tbest: 4656.2919458 (12)\ttotal: 346ms\tremaining: 4.97s\n",
      "13:\tlearn: 4570.6225550\ttest: 4558.8792083\tbest: 4558.8792083 (13)\ttotal: 372ms\tremaining: 4.94s\n",
      "14:\tlearn: 4477.3151828\ttest: 4465.8124551\tbest: 4465.8124551 (14)\ttotal: 397ms\tremaining: 4.9s\n",
      "15:\tlearn: 4386.2323627\ttest: 4374.9235722\tbest: 4374.9235722 (15)\ttotal: 423ms\tremaining: 4.87s\n",
      "16:\tlearn: 4299.4353004\ttest: 4288.1780226\tbest: 4288.1780226 (16)\ttotal: 452ms\tremaining: 4.86s\n",
      "17:\tlearn: 4214.9497102\ttest: 4203.4943086\tbest: 4203.4943086 (17)\ttotal: 481ms\tremaining: 4.87s\n",
      "18:\tlearn: 4134.9194561\ttest: 4123.4626646\tbest: 4123.4626646 (18)\ttotal: 508ms\tremaining: 4.84s\n",
      "19:\tlearn: 4058.8625938\ttest: 4047.5599914\tbest: 4047.5599914 (19)\ttotal: 535ms\tremaining: 4.82s\n",
      "20:\tlearn: 3984.6225059\ttest: 3973.4395892\tbest: 3973.4395892 (20)\ttotal: 561ms\tremaining: 4.78s\n",
      "21:\tlearn: 3913.5056880\ttest: 3902.4441173\tbest: 3902.4441173 (21)\ttotal: 587ms\tremaining: 4.75s\n",
      "22:\tlearn: 3842.7665989\ttest: 3831.2699503\tbest: 3831.2699503 (22)\ttotal: 612ms\tremaining: 4.71s\n",
      "23:\tlearn: 3776.0533974\ttest: 3764.5074500\tbest: 3764.5074500 (23)\ttotal: 636ms\tremaining: 4.66s\n",
      "24:\tlearn: 3709.7358876\ttest: 3697.9662719\tbest: 3697.9662719 (24)\ttotal: 667ms\tremaining: 4.67s\n",
      "25:\tlearn: 3646.9464818\ttest: 3634.9640288\tbest: 3634.9640288 (25)\ttotal: 699ms\tremaining: 4.67s\n",
      "26:\tlearn: 3587.1982963\ttest: 3575.1172344\tbest: 3575.1172344 (26)\ttotal: 727ms\tremaining: 4.66s\n",
      "27:\tlearn: 3528.7623678\ttest: 3516.6374703\tbest: 3516.6374703 (27)\ttotal: 754ms\tremaining: 4.63s\n",
      "28:\tlearn: 3474.0224932\ttest: 3461.9923179\tbest: 3461.9923179 (28)\ttotal: 780ms\tremaining: 4.6s\n",
      "29:\tlearn: 3419.3888960\ttest: 3407.2739841\tbest: 3407.2739841 (29)\ttotal: 805ms\tremaining: 4.56s\n",
      "30:\tlearn: 3367.7609796\ttest: 3355.2938769\tbest: 3355.2938769 (30)\ttotal: 830ms\tremaining: 4.53s\n",
      "31:\tlearn: 3317.7625544\ttest: 3305.3220231\tbest: 3305.3220231 (31)\ttotal: 855ms\tremaining: 4.49s\n",
      "32:\tlearn: 3270.9875181\ttest: 3258.5599597\tbest: 3258.5599597 (32)\ttotal: 888ms\tremaining: 4.49s\n",
      "33:\tlearn: 3224.8721648\ttest: 3212.5269240\tbest: 3212.5269240 (33)\ttotal: 915ms\tremaining: 4.47s\n",
      "34:\tlearn: 3182.1951785\ttest: 3169.7816717\tbest: 3169.7816717 (34)\ttotal: 941ms\tremaining: 4.43s\n",
      "35:\tlearn: 3139.5982121\ttest: 3127.0241955\tbest: 3127.0241955 (35)\ttotal: 966ms\tremaining: 4.4s\n",
      "36:\tlearn: 3098.4971742\ttest: 3085.6908060\tbest: 3085.6908060 (36)\ttotal: 990ms\tremaining: 4.36s\n",
      "37:\tlearn: 3060.3985287\ttest: 3047.7340066\tbest: 3047.7340066 (37)\ttotal: 1.01s\tremaining: 4.32s\n",
      "38:\tlearn: 3023.1262888\ttest: 3010.4162234\tbest: 3010.4162234 (38)\ttotal: 1.04s\tremaining: 4.29s\n",
      "39:\tlearn: 2987.9017690\ttest: 2975.2121308\tbest: 2975.2121308 (39)\ttotal: 1.06s\tremaining: 4.26s\n",
      "40:\tlearn: 2954.0806969\ttest: 2941.3916282\tbest: 2941.3916282 (40)\ttotal: 1.09s\tremaining: 4.23s\n",
      "41:\tlearn: 2921.5721984\ttest: 2908.8335943\tbest: 2908.8335943 (41)\ttotal: 1.12s\tremaining: 4.21s\n",
      "42:\tlearn: 2890.3340269\ttest: 2877.6150149\tbest: 2877.6150149 (42)\ttotal: 1.15s\tremaining: 4.19s\n",
      "43:\tlearn: 2860.2388935\ttest: 2847.4106465\tbest: 2847.4106465 (43)\ttotal: 1.18s\tremaining: 4.18s\n",
      "44:\tlearn: 2831.3553062\ttest: 2818.7237183\tbest: 2818.7237183 (44)\ttotal: 1.21s\tremaining: 4.16s\n",
      "45:\tlearn: 2803.7325430\ttest: 2791.0831510\tbest: 2791.0831510 (45)\ttotal: 1.23s\tremaining: 4.13s\n",
      "46:\tlearn: 2776.7164326\ttest: 2764.1040129\tbest: 2764.1040129 (46)\ttotal: 1.26s\tremaining: 4.11s\n",
      "47:\tlearn: 2750.6210725\ttest: 2737.7229050\tbest: 2737.7229050 (47)\ttotal: 1.29s\tremaining: 4.1s\n",
      "48:\tlearn: 2725.6824508\ttest: 2712.4953789\tbest: 2712.4953789 (48)\ttotal: 1.33s\tremaining: 4.09s\n",
      "49:\tlearn: 2701.3106288\ttest: 2688.0375423\tbest: 2688.0375423 (49)\ttotal: 1.35s\tremaining: 4.06s\n",
      "50:\tlearn: 2678.2027455\ttest: 2664.7867264\tbest: 2664.7867264 (50)\ttotal: 1.38s\tremaining: 4.04s\n",
      "51:\tlearn: 2655.5351807\ttest: 2641.7446504\tbest: 2641.7446504 (51)\ttotal: 1.41s\tremaining: 4s\n",
      "52:\tlearn: 2634.1537998\ttest: 2620.0813543\tbest: 2620.0813543 (52)\ttotal: 1.43s\tremaining: 3.97s\n",
      "53:\tlearn: 2614.5076630\ttest: 2600.4704645\tbest: 2600.4704645 (53)\ttotal: 1.46s\tremaining: 3.94s\n",
      "54:\tlearn: 2595.2633215\ttest: 2581.3106360\tbest: 2581.3106360 (54)\ttotal: 1.48s\tremaining: 3.9s\n",
      "55:\tlearn: 2576.3598446\ttest: 2562.3092955\tbest: 2562.3092955 (55)\ttotal: 1.5s\tremaining: 3.87s\n",
      "56:\tlearn: 2558.8907882\ttest: 2544.7423354\tbest: 2544.7423354 (56)\ttotal: 1.53s\tremaining: 3.83s\n",
      "57:\tlearn: 2542.0633509\ttest: 2527.8394473\tbest: 2527.8394473 (57)\ttotal: 1.57s\tremaining: 3.84s\n",
      "58:\tlearn: 2525.0554099\ttest: 2510.4852981\tbest: 2510.4852981 (58)\ttotal: 1.59s\tremaining: 3.81s\n",
      "59:\tlearn: 2509.3704038\ttest: 2494.7265515\tbest: 2494.7265515 (59)\ttotal: 1.62s\tremaining: 3.78s\n",
      "60:\tlearn: 2494.0949823\ttest: 2479.3157748\tbest: 2479.3157748 (60)\ttotal: 1.64s\tremaining: 3.75s\n",
      "61:\tlearn: 2479.6675382\ttest: 2464.8389582\tbest: 2464.8389582 (61)\ttotal: 1.67s\tremaining: 3.71s\n",
      "62:\tlearn: 2465.8000818\ttest: 2450.9004133\tbest: 2450.9004133 (62)\ttotal: 1.69s\tremaining: 3.68s\n",
      "63:\tlearn: 2452.5189917\ttest: 2437.6588895\tbest: 2437.6588895 (63)\ttotal: 1.72s\tremaining: 3.65s\n",
      "64:\tlearn: 2439.5426390\ttest: 2424.5702602\tbest: 2424.5702602 (64)\ttotal: 1.74s\tremaining: 3.62s\n",
      "65:\tlearn: 2426.8219325\ttest: 2411.8047733\tbest: 2411.8047733 (65)\ttotal: 1.76s\tremaining: 3.58s\n",
      "66:\tlearn: 2414.5441199\ttest: 2399.2689755\tbest: 2399.2689755 (66)\ttotal: 1.8s\tremaining: 3.57s\n",
      "67:\tlearn: 2402.3967300\ttest: 2387.1031174\tbest: 2387.1031174 (67)\ttotal: 1.82s\tremaining: 3.54s\n",
      "68:\tlearn: 2391.2072624\ttest: 2375.7484130\tbest: 2375.7484130 (68)\ttotal: 1.85s\tremaining: 3.51s\n",
      "69:\tlearn: 2380.5875377\ttest: 2365.2804572\tbest: 2365.2804572 (69)\ttotal: 1.87s\tremaining: 3.48s\n",
      "70:\tlearn: 2370.2455930\ttest: 2354.8234951\tbest: 2354.8234951 (70)\ttotal: 1.9s\tremaining: 3.45s\n",
      "71:\tlearn: 2360.3021612\ttest: 2344.7523743\tbest: 2344.7523743 (71)\ttotal: 1.93s\tremaining: 3.43s\n",
      "72:\tlearn: 2350.4953084\ttest: 2334.7187250\tbest: 2334.7187250 (72)\ttotal: 1.96s\tremaining: 3.4s\n",
      "73:\tlearn: 2341.2717101\ttest: 2325.4279590\tbest: 2325.4279590 (73)\ttotal: 1.99s\tremaining: 3.39s\n",
      "74:\tlearn: 2331.8392325\ttest: 2315.8872365\tbest: 2315.8872365 (74)\ttotal: 2.01s\tremaining: 3.36s\n",
      "75:\tlearn: 2323.0449793\ttest: 2307.2806272\tbest: 2307.2806272 (75)\ttotal: 2.04s\tremaining: 3.33s\n",
      "76:\tlearn: 2314.6566273\ttest: 2298.5382870\tbest: 2298.5382870 (76)\ttotal: 2.06s\tremaining: 3.29s\n",
      "77:\tlearn: 2306.4223122\ttest: 2290.2624575\tbest: 2290.2624575 (77)\ttotal: 2.08s\tremaining: 3.26s\n",
      "78:\tlearn: 2298.3983221\ttest: 2282.2429246\tbest: 2282.2429246 (78)\ttotal: 2.11s\tremaining: 3.23s\n",
      "79:\tlearn: 2290.6660837\ttest: 2274.4237113\tbest: 2274.4237113 (79)\ttotal: 2.13s\tremaining: 3.2s\n",
      "80:\tlearn: 2283.7549845\ttest: 2267.5362809\tbest: 2267.5362809 (80)\ttotal: 2.16s\tremaining: 3.17s\n",
      "81:\tlearn: 2276.6013872\ttest: 2260.2673079\tbest: 2260.2673079 (81)\ttotal: 2.18s\tremaining: 3.14s\n",
      "82:\tlearn: 2270.2628586\ttest: 2253.8566201\tbest: 2253.8566201 (82)\ttotal: 2.21s\tremaining: 3.11s\n",
      "83:\tlearn: 2264.1588495\ttest: 2247.7205883\tbest: 2247.7205883 (83)\ttotal: 2.23s\tremaining: 3.08s\n",
      "84:\tlearn: 2257.0125247\ttest: 2240.5994087\tbest: 2240.5994087 (84)\ttotal: 2.26s\tremaining: 3.05s\n",
      "85:\tlearn: 2250.3404493\ttest: 2234.0642001\tbest: 2234.0642001 (85)\ttotal: 2.28s\tremaining: 3.02s\n",
      "86:\tlearn: 2244.0601628\ttest: 2227.8617572\tbest: 2227.8617572 (86)\ttotal: 2.3s\tremaining: 2.99s\n",
      "87:\tlearn: 2237.9812991\ttest: 2221.8180190\tbest: 2221.8180190 (87)\ttotal: 2.33s\tremaining: 2.97s\n",
      "88:\tlearn: 2231.8935011\ttest: 2215.7993180\tbest: 2215.7993180 (88)\ttotal: 2.36s\tremaining: 2.94s\n",
      "89:\tlearn: 2226.9497603\ttest: 2210.7926299\tbest: 2210.7926299 (89)\ttotal: 2.38s\tremaining: 2.91s\n",
      "90:\tlearn: 2221.4143724\ttest: 2205.1027098\tbest: 2205.1027098 (90)\ttotal: 2.41s\tremaining: 2.88s\n",
      "91:\tlearn: 2216.4260573\ttest: 2200.2190130\tbest: 2200.2190130 (91)\ttotal: 2.44s\tremaining: 2.86s\n",
      "92:\tlearn: 2211.1894445\ttest: 2194.9846637\tbest: 2194.9846637 (92)\ttotal: 2.46s\tremaining: 2.83s\n",
      "93:\tlearn: 2206.1842892\ttest: 2189.7992780\tbest: 2189.7992780 (93)\ttotal: 2.49s\tremaining: 2.81s\n",
      "94:\tlearn: 2200.5129364\ttest: 2183.9616419\tbest: 2183.9616419 (94)\ttotal: 2.52s\tremaining: 2.78s\n",
      "95:\tlearn: 2195.6328293\ttest: 2179.2672534\tbest: 2179.2672534 (95)\ttotal: 2.54s\tremaining: 2.75s\n",
      "96:\tlearn: 2191.2835933\ttest: 2174.9081467\tbest: 2174.9081467 (96)\ttotal: 2.56s\tremaining: 2.72s\n",
      "97:\tlearn: 2186.0009661\ttest: 2169.5031263\tbest: 2169.5031263 (97)\ttotal: 2.59s\tremaining: 2.7s\n",
      "98:\tlearn: 2181.6071334\ttest: 2165.0948655\tbest: 2165.0948655 (98)\ttotal: 2.62s\tremaining: 2.68s\n",
      "99:\tlearn: 2177.0372660\ttest: 2160.3352944\tbest: 2160.3352944 (99)\ttotal: 2.65s\tremaining: 2.65s\n",
      "100:\tlearn: 2173.1079597\ttest: 2156.4558409\tbest: 2156.4558409 (100)\ttotal: 2.67s\tremaining: 2.62s\n",
      "101:\tlearn: 2168.9446375\ttest: 2152.3106148\tbest: 2152.3106148 (101)\ttotal: 2.7s\tremaining: 2.59s\n",
      "102:\tlearn: 2164.9474257\ttest: 2148.4056986\tbest: 2148.4056986 (102)\ttotal: 2.72s\tremaining: 2.56s\n",
      "103:\tlearn: 2161.5116914\ttest: 2145.0116653\tbest: 2145.0116653 (103)\ttotal: 2.75s\tremaining: 2.53s\n",
      "104:\tlearn: 2158.0068281\ttest: 2141.6198630\tbest: 2141.6198630 (104)\ttotal: 2.77s\tremaining: 2.5s\n",
      "105:\tlearn: 2154.4466100\ttest: 2137.9227393\tbest: 2137.9227393 (105)\ttotal: 2.79s\tremaining: 2.48s\n",
      "106:\tlearn: 2151.2084658\ttest: 2134.7447821\tbest: 2134.7447821 (106)\ttotal: 2.81s\tremaining: 2.45s\n",
      "107:\tlearn: 2147.8884560\ttest: 2131.4807697\tbest: 2131.4807697 (107)\ttotal: 2.84s\tremaining: 2.42s\n",
      "108:\tlearn: 2143.4212011\ttest: 2126.9946969\tbest: 2126.9946969 (108)\ttotal: 2.87s\tremaining: 2.4s\n",
      "109:\tlearn: 2140.4242196\ttest: 2124.0053795\tbest: 2124.0053795 (109)\ttotal: 2.9s\tremaining: 2.37s\n",
      "110:\tlearn: 2137.5448491\ttest: 2121.2684458\tbest: 2121.2684458 (110)\ttotal: 2.92s\tremaining: 2.34s\n",
      "111:\tlearn: 2134.7276501\ttest: 2118.6156376\tbest: 2118.6156376 (111)\ttotal: 2.94s\tremaining: 2.31s\n",
      "112:\tlearn: 2131.7303608\ttest: 2115.6011586\tbest: 2115.6011586 (112)\ttotal: 2.96s\tremaining: 2.28s\n",
      "113:\tlearn: 2129.2175934\ttest: 2113.0718965\tbest: 2113.0718965 (113)\ttotal: 2.99s\tremaining: 2.25s\n",
      "114:\tlearn: 2126.5854717\ttest: 2110.5386257\tbest: 2110.5386257 (114)\ttotal: 3.01s\tremaining: 2.22s\n",
      "115:\tlearn: 2123.5570385\ttest: 2107.6280477\tbest: 2107.6280477 (115)\ttotal: 3.04s\tremaining: 2.2s\n",
      "116:\tlearn: 2120.5661478\ttest: 2104.6313840\tbest: 2104.6313840 (116)\ttotal: 3.06s\tremaining: 2.17s\n",
      "117:\tlearn: 2117.8092243\ttest: 2101.9951426\tbest: 2101.9951426 (117)\ttotal: 3.09s\tremaining: 2.15s\n",
      "118:\tlearn: 2115.0806039\ttest: 2099.3060491\tbest: 2099.3060491 (118)\ttotal: 3.12s\tremaining: 2.12s\n",
      "119:\tlearn: 2112.7588964\ttest: 2096.9385232\tbest: 2096.9385232 (119)\ttotal: 3.14s\tremaining: 2.09s\n",
      "120:\tlearn: 2110.4744966\ttest: 2094.6077830\tbest: 2094.6077830 (120)\ttotal: 3.16s\tremaining: 2.06s\n",
      "121:\tlearn: 2107.7740665\ttest: 2092.0957090\tbest: 2092.0957090 (121)\ttotal: 3.18s\tremaining: 2.04s\n",
      "122:\tlearn: 2105.5309948\ttest: 2089.9751727\tbest: 2089.9751727 (122)\ttotal: 3.21s\tremaining: 2.01s\n",
      "123:\tlearn: 2103.2496588\ttest: 2087.5849046\tbest: 2087.5849046 (123)\ttotal: 3.23s\tremaining: 1.98s\n",
      "124:\tlearn: 2101.0760921\ttest: 2085.5745291\tbest: 2085.5745291 (124)\ttotal: 3.25s\tremaining: 1.95s\n",
      "125:\tlearn: 2099.0320206\ttest: 2083.5594682\tbest: 2083.5594682 (125)\ttotal: 3.29s\tremaining: 1.93s\n",
      "126:\tlearn: 2096.9180761\ttest: 2081.6616566\tbest: 2081.6616566 (126)\ttotal: 3.31s\tremaining: 1.9s\n",
      "127:\tlearn: 2094.5405706\ttest: 2079.2801643\tbest: 2079.2801643 (127)\ttotal: 3.33s\tremaining: 1.88s\n",
      "128:\tlearn: 2092.6931914\ttest: 2077.4240553\tbest: 2077.4240553 (128)\ttotal: 3.35s\tremaining: 1.85s\n",
      "129:\tlearn: 2089.6568364\ttest: 2074.3232027\tbest: 2074.3232027 (129)\ttotal: 3.38s\tremaining: 1.82s\n",
      "130:\tlearn: 2087.5520260\ttest: 2072.1526841\tbest: 2072.1526841 (130)\ttotal: 3.41s\tremaining: 1.8s\n",
      "131:\tlearn: 2085.6500623\ttest: 2070.4098152\tbest: 2070.4098152 (131)\ttotal: 3.43s\tremaining: 1.77s\n",
      "132:\tlearn: 2083.3638364\ttest: 2068.0940598\tbest: 2068.0940598 (132)\ttotal: 3.46s\tremaining: 1.74s\n",
      "133:\tlearn: 2081.1975690\ttest: 2065.8982340\tbest: 2065.8982340 (133)\ttotal: 3.48s\tremaining: 1.72s\n",
      "134:\tlearn: 2079.6438547\ttest: 2064.3589857\tbest: 2064.3589857 (134)\ttotal: 3.51s\tremaining: 1.69s\n",
      "135:\tlearn: 2078.0111266\ttest: 2062.7462756\tbest: 2062.7462756 (135)\ttotal: 3.54s\tremaining: 1.67s\n",
      "136:\tlearn: 2074.9123462\ttest: 2059.6324318\tbest: 2059.6324318 (136)\ttotal: 3.56s\tremaining: 1.64s\n",
      "137:\tlearn: 2072.8311708\ttest: 2057.5524889\tbest: 2057.5524889 (137)\ttotal: 3.59s\tremaining: 1.61s\n",
      "138:\tlearn: 2071.0656402\ttest: 2055.8310246\tbest: 2055.8310246 (138)\ttotal: 3.61s\tremaining: 1.58s\n",
      "139:\tlearn: 2068.1696218\ttest: 2052.9274990\tbest: 2052.9274990 (139)\ttotal: 3.64s\tremaining: 1.56s\n",
      "140:\tlearn: 2066.0492612\ttest: 2050.7370605\tbest: 2050.7370605 (140)\ttotal: 3.66s\tremaining: 1.53s\n",
      "141:\tlearn: 2064.3677754\ttest: 2049.1076828\tbest: 2049.1076828 (141)\ttotal: 3.68s\tremaining: 1.5s\n",
      "142:\tlearn: 2061.4130581\ttest: 2046.1241909\tbest: 2046.1241909 (142)\ttotal: 3.71s\tremaining: 1.48s\n",
      "143:\tlearn: 2059.6623182\ttest: 2044.4561171\tbest: 2044.4561171 (143)\ttotal: 3.74s\tremaining: 1.45s\n",
      "144:\tlearn: 2057.4983052\ttest: 2042.2203850\tbest: 2042.2203850 (144)\ttotal: 3.77s\tremaining: 1.43s\n",
      "145:\tlearn: 2054.6360863\ttest: 2039.3376710\tbest: 2039.3376710 (145)\ttotal: 3.79s\tremaining: 1.4s\n",
      "146:\tlearn: 2052.9665076\ttest: 2037.6389095\tbest: 2037.6389095 (146)\ttotal: 3.81s\tremaining: 1.38s\n",
      "147:\tlearn: 2051.4418770\ttest: 2036.1675083\tbest: 2036.1675083 (147)\ttotal: 3.84s\tremaining: 1.35s\n",
      "148:\tlearn: 2049.6803058\ttest: 2034.3634333\tbest: 2034.3634333 (148)\ttotal: 3.86s\tremaining: 1.32s\n",
      "149:\tlearn: 2048.0978895\ttest: 2032.8905223\tbest: 2032.8905223 (149)\ttotal: 3.89s\tremaining: 1.29s\n",
      "150:\tlearn: 2046.2022355\ttest: 2030.8686070\tbest: 2030.8686070 (150)\ttotal: 3.91s\tremaining: 1.27s\n",
      "151:\tlearn: 2044.7606212\ttest: 2029.4264307\tbest: 2029.4264307 (151)\ttotal: 3.94s\tremaining: 1.24s\n",
      "152:\tlearn: 2042.5919104\ttest: 2027.2047881\tbest: 2027.2047881 (152)\ttotal: 3.97s\tremaining: 1.22s\n",
      "153:\tlearn: 2040.9142075\ttest: 2025.5663000\tbest: 2025.5663000 (153)\ttotal: 3.99s\tremaining: 1.19s\n",
      "154:\tlearn: 2039.0760592\ttest: 2023.8047787\tbest: 2023.8047787 (154)\ttotal: 4.02s\tremaining: 1.17s\n",
      "155:\tlearn: 2037.7603383\ttest: 2022.5735798\tbest: 2022.5735798 (155)\ttotal: 4.04s\tremaining: 1.14s\n",
      "156:\tlearn: 2036.1130834\ttest: 2020.9155960\tbest: 2020.9155960 (156)\ttotal: 4.06s\tremaining: 1.11s\n",
      "157:\tlearn: 2034.7168599\ttest: 2019.5627860\tbest: 2019.5627860 (157)\ttotal: 4.09s\tremaining: 1.09s\n",
      "158:\tlearn: 2033.4519363\ttest: 2018.3149664\tbest: 2018.3149664 (158)\ttotal: 4.11s\tremaining: 1.06s\n",
      "159:\tlearn: 2031.8748289\ttest: 2016.7626913\tbest: 2016.7626913 (159)\ttotal: 4.13s\tremaining: 1.03s\n",
      "160:\tlearn: 2030.1664249\ttest: 2015.1654108\tbest: 2015.1654108 (160)\ttotal: 4.16s\tremaining: 1.01s\n",
      "161:\tlearn: 2028.9856632\ttest: 2014.0323076\tbest: 2014.0323076 (161)\ttotal: 4.18s\tremaining: 982ms\n",
      "162:\tlearn: 2027.3926926\ttest: 2012.3765201\tbest: 2012.3765201 (162)\ttotal: 4.21s\tremaining: 956ms\n",
      "163:\tlearn: 2025.1868151\ttest: 2010.0307979\tbest: 2010.0307979 (163)\ttotal: 4.24s\tremaining: 931ms\n",
      "164:\tlearn: 2023.4795646\ttest: 2008.4505942\tbest: 2008.4505942 (164)\ttotal: 4.26s\tremaining: 904ms\n",
      "165:\tlearn: 2022.0487055\ttest: 2007.0632555\tbest: 2007.0632555 (165)\ttotal: 4.29s\tremaining: 878ms\n",
      "166:\tlearn: 2020.9642557\ttest: 2006.0345177\tbest: 2006.0345177 (166)\ttotal: 4.31s\tremaining: 852ms\n",
      "167:\tlearn: 2019.6069622\ttest: 2004.6173132\tbest: 2004.6173132 (167)\ttotal: 4.33s\tremaining: 825ms\n",
      "168:\tlearn: 2017.6521267\ttest: 2002.6772162\tbest: 2002.6772162 (168)\ttotal: 4.36s\tremaining: 800ms\n",
      "169:\tlearn: 2016.6091522\ttest: 2001.6909890\tbest: 2001.6909890 (169)\ttotal: 4.38s\tremaining: 773ms\n",
      "170:\tlearn: 2014.6973716\ttest: 1999.7380495\tbest: 1999.7380495 (170)\ttotal: 4.42s\tremaining: 750ms\n",
      "171:\tlearn: 2013.2406577\ttest: 1998.2133716\tbest: 1998.2133716 (171)\ttotal: 4.45s\tremaining: 724ms\n",
      "172:\tlearn: 2012.1267381\ttest: 1997.1511668\tbest: 1997.1511668 (172)\ttotal: 4.47s\tremaining: 698ms\n",
      "173:\tlearn: 2010.7184831\ttest: 1995.8043631\tbest: 1995.8043631 (173)\ttotal: 4.5s\tremaining: 672ms\n",
      "174:\tlearn: 2009.8333962\ttest: 1994.9376852\tbest: 1994.9376852 (174)\ttotal: 4.52s\tremaining: 646ms\n",
      "175:\tlearn: 2008.8529621\ttest: 1993.9648621\tbest: 1993.9648621 (175)\ttotal: 4.54s\tremaining: 620ms\n",
      "176:\tlearn: 2007.1299251\ttest: 1992.1968445\tbest: 1992.1968445 (176)\ttotal: 4.57s\tremaining: 594ms\n",
      "177:\tlearn: 2005.9828397\ttest: 1991.0947778\tbest: 1991.0947778 (177)\ttotal: 4.59s\tremaining: 568ms\n",
      "178:\tlearn: 2005.1684126\ttest: 1990.2773659\tbest: 1990.2773659 (178)\ttotal: 4.62s\tremaining: 543ms\n",
      "179:\tlearn: 2003.3930839\ttest: 1988.6022301\tbest: 1988.6022301 (179)\ttotal: 4.65s\tremaining: 516ms\n",
      "180:\tlearn: 2002.6387804\ttest: 1987.9041590\tbest: 1987.9041590 (180)\ttotal: 4.67s\tremaining: 490ms\n",
      "181:\tlearn: 2001.1852803\ttest: 1986.4633391\tbest: 1986.4633391 (181)\ttotal: 4.7s\tremaining: 465ms\n",
      "182:\tlearn: 2000.3990770\ttest: 1985.7397526\tbest: 1985.7397526 (182)\ttotal: 4.72s\tremaining: 439ms\n",
      "183:\tlearn: 1999.3013442\ttest: 1984.7282219\tbest: 1984.7282219 (183)\ttotal: 4.74s\tremaining: 413ms\n",
      "184:\tlearn: 1997.8581875\ttest: 1983.2523290\tbest: 1983.2523290 (184)\ttotal: 4.77s\tremaining: 386ms\n",
      "185:\tlearn: 1996.2866497\ttest: 1981.6614529\tbest: 1981.6614529 (185)\ttotal: 4.79s\tremaining: 360ms\n",
      "186:\tlearn: 1995.1865793\ttest: 1980.5324263\tbest: 1980.5324263 (186)\ttotal: 4.81s\tremaining: 335ms\n",
      "187:\tlearn: 1994.1802491\ttest: 1979.5248597\tbest: 1979.5248597 (187)\ttotal: 4.84s\tremaining: 309ms\n",
      "188:\tlearn: 1993.4907397\ttest: 1978.9088098\tbest: 1978.9088098 (188)\ttotal: 4.87s\tremaining: 283ms\n",
      "189:\tlearn: 1992.2731432\ttest: 1977.6887664\tbest: 1977.6887664 (189)\ttotal: 4.89s\tremaining: 257ms\n",
      "190:\tlearn: 1990.9401819\ttest: 1976.3836487\tbest: 1976.3836487 (190)\ttotal: 4.92s\tremaining: 232ms\n",
      "191:\tlearn: 1990.1620714\ttest: 1975.7959191\tbest: 1975.7959191 (191)\ttotal: 4.94s\tremaining: 206ms\n",
      "192:\tlearn: 1989.2046838\ttest: 1974.7902376\tbest: 1974.7902376 (192)\ttotal: 4.96s\tremaining: 180ms\n",
      "193:\tlearn: 1988.4381043\ttest: 1974.0167780\tbest: 1974.0167780 (193)\ttotal: 4.99s\tremaining: 154ms\n",
      "194:\tlearn: 1987.2429674\ttest: 1972.9757417\tbest: 1972.9757417 (194)\ttotal: 5.01s\tremaining: 129ms\n",
      "195:\tlearn: 1986.3391525\ttest: 1972.1307979\tbest: 1972.1307979 (195)\ttotal: 5.04s\tremaining: 103ms\n",
      "196:\tlearn: 1985.4368464\ttest: 1971.2765150\tbest: 1971.2765150 (196)\ttotal: 5.07s\tremaining: 77.2ms\n",
      "197:\tlearn: 1984.3539289\ttest: 1970.1296235\tbest: 1970.1296235 (197)\ttotal: 5.09s\tremaining: 51.4ms\n",
      "198:\tlearn: 1983.5240614\ttest: 1969.4269047\tbest: 1969.4269047 (198)\ttotal: 5.11s\tremaining: 25.7ms\n",
      "199:\tlearn: 1982.7739066\ttest: 1968.6519371\tbest: 1968.6519371 (199)\ttotal: 5.13s\tremaining: 0us\n",
      "\n",
      "bestTest = 1968.651937\n",
      "bestIteration = 199\n",
      "\n",
      "16:\tloss: 1968.6519371\tbest: 1964.5542008 (15)\ttotal: 48.1s\tremaining: 28.3s\n",
      "0:\tlearn: 6138.2511505\ttest: 6125.1573984\tbest: 6125.1573984 (0)\ttotal: 29.1ms\tremaining: 5.8s\n",
      "1:\tlearn: 5988.5159574\ttest: 5975.4074082\tbest: 5975.4074082 (1)\ttotal: 53.7ms\tremaining: 5.32s\n",
      "2:\tlearn: 5845.5492739\ttest: 5832.6949718\tbest: 5832.6949718 (2)\ttotal: 79.2ms\tremaining: 5.2s\n",
      "3:\tlearn: 5708.5364508\ttest: 5695.8421933\tbest: 5695.8421933 (3)\ttotal: 112ms\tremaining: 5.47s\n",
      "4:\tlearn: 5575.8513907\ttest: 5563.0947136\tbest: 5563.0947136 (4)\ttotal: 138ms\tremaining: 5.38s\n",
      "5:\tlearn: 5448.9070643\ttest: 5436.4828649\tbest: 5436.4828649 (5)\ttotal: 164ms\tremaining: 5.29s\n",
      "6:\tlearn: 5324.7688817\ttest: 5312.4189141\tbest: 5312.4189141 (6)\ttotal: 189ms\tremaining: 5.22s\n",
      "7:\tlearn: 5204.7952804\ttest: 5192.7492438\tbest: 5192.7492438 (7)\ttotal: 214ms\tremaining: 5.15s\n",
      "8:\tlearn: 5090.9899650\ttest: 5079.2583544\tbest: 5079.2583544 (8)\ttotal: 240ms\tremaining: 5.1s\n",
      "9:\tlearn: 4980.5862516\ttest: 4969.0298632\tbest: 4969.0298632 (9)\ttotal: 266ms\tremaining: 5.05s\n",
      "10:\tlearn: 4874.3012063\ttest: 4862.7785304\tbest: 4862.7785304 (10)\ttotal: 292ms\tremaining: 5.01s\n",
      "11:\tlearn: 4770.4844438\ttest: 4758.9636057\tbest: 4758.9636057 (11)\ttotal: 319ms\tremaining: 5s\n",
      "12:\tlearn: 4668.4315868\ttest: 4656.9551115\tbest: 4656.9551115 (12)\ttotal: 354ms\tremaining: 5.09s\n",
      "13:\tlearn: 4571.3232363\ttest: 4559.5800241\tbest: 4559.5800241 (13)\ttotal: 381ms\tremaining: 5.06s\n",
      "14:\tlearn: 4478.0457929\ttest: 4466.5428128\tbest: 4466.5428128 (14)\ttotal: 407ms\tremaining: 5.01s\n",
      "15:\tlearn: 4386.9851855\ttest: 4375.6768061\tbest: 4375.6768061 (15)\ttotal: 432ms\tremaining: 4.96s\n",
      "16:\tlearn: 4300.2116477\ttest: 4288.9556198\tbest: 4288.9556198 (16)\ttotal: 457ms\tremaining: 4.92s\n",
      "17:\tlearn: 4215.7804399\ttest: 4204.3272992\tbest: 4204.3272992 (17)\ttotal: 482ms\tremaining: 4.87s\n",
      "18:\tlearn: 4135.7664786\ttest: 4124.3126926\tbest: 4124.3126926 (18)\ttotal: 506ms\tremaining: 4.82s\n",
      "19:\tlearn: 4059.7254155\ttest: 4048.4251311\tbest: 4048.4251311 (19)\ttotal: 543ms\tremaining: 4.89s\n",
      "20:\tlearn: 3985.5089848\ttest: 3974.3287563\tbest: 3974.3287563 (20)\ttotal: 572ms\tremaining: 4.88s\n",
      "21:\tlearn: 3914.3964457\ttest: 3903.3372660\tbest: 3903.3372660 (21)\ttotal: 598ms\tremaining: 4.84s\n",
      "22:\tlearn: 3843.6497773\ttest: 3832.1562350\tbest: 3832.1562350 (22)\ttotal: 624ms\tremaining: 4.8s\n",
      "23:\tlearn: 3776.9433182\ttest: 3765.4004840\tbest: 3765.4004840 (23)\ttotal: 648ms\tremaining: 4.75s\n",
      "24:\tlearn: 3710.6144843\ttest: 3698.8485576\tbest: 3698.8485576 (24)\ttotal: 674ms\tremaining: 4.71s\n",
      "25:\tlearn: 3647.8236106\ttest: 3635.8455774\tbest: 3635.8455774 (25)\ttotal: 699ms\tremaining: 4.68s\n",
      "26:\tlearn: 3588.0749736\ttest: 3575.9980402\tbest: 3575.9980402 (26)\ttotal: 723ms\tremaining: 4.63s\n",
      "27:\tlearn: 3529.9914138\ttest: 3517.8429473\tbest: 3517.8429473 (27)\ttotal: 748ms\tremaining: 4.59s\n",
      "28:\tlearn: 3475.1947366\ttest: 3463.1377520\tbest: 3463.1377520 (28)\ttotal: 777ms\tremaining: 4.58s\n",
      "29:\tlearn: 3420.5572478\ttest: 3408.4139159\tbest: 3408.4139159 (29)\ttotal: 802ms\tremaining: 4.54s\n",
      "30:\tlearn: 3368.9089423\ttest: 3356.4126548\tbest: 3356.4126548 (30)\ttotal: 827ms\tremaining: 4.51s\n",
      "31:\tlearn: 3320.6776755\ttest: 3308.5055961\tbest: 3308.5055961 (31)\ttotal: 853ms\tremaining: 4.48s\n",
      "32:\tlearn: 3272.6956004\ttest: 3260.5977936\tbest: 3260.5977936 (32)\ttotal: 879ms\tremaining: 4.45s\n",
      "33:\tlearn: 3226.4421705\ttest: 3214.2223016\tbest: 3214.2223016 (33)\ttotal: 906ms\tremaining: 4.42s\n",
      "34:\tlearn: 3183.3033015\ttest: 3170.9733610\tbest: 3170.9733610 (34)\ttotal: 930ms\tremaining: 4.38s\n",
      "35:\tlearn: 3140.7840885\ttest: 3128.2891612\tbest: 3128.2891612 (35)\ttotal: 955ms\tremaining: 4.35s\n",
      "36:\tlearn: 3099.6395370\ttest: 3086.8406657\tbest: 3086.8406657 (36)\ttotal: 986ms\tremaining: 4.34s\n",
      "37:\tlearn: 3061.1098948\ttest: 3048.3416613\tbest: 3048.3416613 (37)\ttotal: 1.02s\tremaining: 4.36s\n",
      "38:\tlearn: 3024.3719730\ttest: 3011.6395503\tbest: 3011.6395503 (38)\ttotal: 1.07s\tremaining: 4.4s\n",
      "39:\tlearn: 2989.0483020\ttest: 2976.3311090\tbest: 2976.3311090 (39)\ttotal: 1.09s\tremaining: 4.36s\n",
      "40:\tlearn: 2954.4519694\ttest: 2941.6011353\tbest: 2941.6011353 (40)\ttotal: 1.11s\tremaining: 4.32s\n",
      "41:\tlearn: 2921.7887653\ttest: 2908.8815279\tbest: 2908.8815279 (41)\ttotal: 1.14s\tremaining: 4.29s\n",
      "42:\tlearn: 2890.3279803\ttest: 2877.3830259\tbest: 2877.3830259 (42)\ttotal: 1.17s\tremaining: 4.25s\n",
      "43:\tlearn: 2860.8716025\ttest: 2847.7034500\tbest: 2847.7034500 (43)\ttotal: 1.19s\tremaining: 4.23s\n",
      "44:\tlearn: 2832.6506376\ttest: 2819.5994333\tbest: 2819.5994333 (44)\ttotal: 1.22s\tremaining: 4.21s\n",
      "45:\tlearn: 2804.6397284\ttest: 2791.7834438\tbest: 2791.7834438 (45)\ttotal: 1.25s\tremaining: 4.18s\n",
      "46:\tlearn: 2777.6967587\ttest: 2764.8740365\tbest: 2764.8740365 (46)\ttotal: 1.27s\tremaining: 4.14s\n",
      "47:\tlearn: 2751.7028892\ttest: 2738.8292448\tbest: 2738.8292448 (47)\ttotal: 1.3s\tremaining: 4.11s\n",
      "48:\tlearn: 2726.3659835\ttest: 2713.3181598\tbest: 2713.3181598 (48)\ttotal: 1.32s\tremaining: 4.08s\n",
      "49:\tlearn: 2702.2936344\ttest: 2689.1646117\tbest: 2689.1646117 (49)\ttotal: 1.35s\tremaining: 4.05s\n",
      "50:\tlearn: 2679.3441545\ttest: 2665.9388953\tbest: 2665.9388953 (50)\ttotal: 1.38s\tremaining: 4.04s\n",
      "51:\tlearn: 2656.4473785\ttest: 2642.6666389\tbest: 2642.6666389 (51)\ttotal: 1.41s\tremaining: 4.01s\n",
      "52:\tlearn: 2635.6687774\ttest: 2621.8184660\tbest: 2621.8184660 (52)\ttotal: 1.43s\tremaining: 3.98s\n",
      "53:\tlearn: 2615.9255358\ttest: 2602.0927510\tbest: 2602.0927510 (53)\ttotal: 1.46s\tremaining: 3.95s\n",
      "54:\tlearn: 2596.5184243\ttest: 2582.7699197\tbest: 2582.7699197 (54)\ttotal: 1.48s\tremaining: 3.91s\n",
      "55:\tlearn: 2577.4735948\ttest: 2563.5932677\tbest: 2563.5932677 (55)\ttotal: 1.51s\tremaining: 3.88s\n",
      "56:\tlearn: 2559.6694191\ttest: 2545.9329430\tbest: 2545.9329430 (56)\ttotal: 1.53s\tremaining: 3.85s\n",
      "57:\tlearn: 2542.1923075\ttest: 2528.1395124\tbest: 2528.1395124 (57)\ttotal: 1.56s\tremaining: 3.82s\n",
      "58:\tlearn: 2526.0479715\ttest: 2511.7114620\tbest: 2511.7114620 (58)\ttotal: 1.58s\tremaining: 3.79s\n",
      "59:\tlearn: 2510.2504419\ttest: 2495.8353385\tbest: 2495.8353385 (59)\ttotal: 1.61s\tremaining: 3.77s\n",
      "60:\tlearn: 2494.9852360\ttest: 2480.4305634\tbest: 2480.4305634 (60)\ttotal: 1.64s\tremaining: 3.73s\n",
      "61:\tlearn: 2479.8612902\ttest: 2465.1544310\tbest: 2465.1544310 (61)\ttotal: 1.66s\tremaining: 3.7s\n",
      "62:\tlearn: 2464.9938728\ttest: 2450.3115035\tbest: 2450.3115035 (62)\ttotal: 1.69s\tremaining: 3.67s\n",
      "63:\tlearn: 2450.8518463\ttest: 2436.2643096\tbest: 2436.2643096 (63)\ttotal: 1.71s\tremaining: 3.64s\n",
      "64:\tlearn: 2437.8369312\ttest: 2423.1332358\tbest: 2423.1332358 (64)\ttotal: 1.74s\tremaining: 3.6s\n",
      "65:\tlearn: 2425.6593449\ttest: 2410.8926716\tbest: 2410.8926716 (65)\ttotal: 1.76s\tremaining: 3.57s\n",
      "66:\tlearn: 2413.3620913\ttest: 2398.5065731\tbest: 2398.5065731 (66)\ttotal: 1.78s\tremaining: 3.54s\n",
      "67:\tlearn: 2401.4717265\ttest: 2386.6343093\tbest: 2386.6343093 (67)\ttotal: 1.81s\tremaining: 3.52s\n",
      "68:\tlearn: 2390.0914625\ttest: 2375.0645722\tbest: 2375.0645722 (68)\ttotal: 1.85s\tremaining: 3.51s\n",
      "69:\tlearn: 2379.4294542\ttest: 2364.3588293\tbest: 2364.3588293 (69)\ttotal: 1.88s\tremaining: 3.48s\n",
      "70:\tlearn: 2368.7566250\ttest: 2353.7237451\tbest: 2353.7237451 (70)\ttotal: 1.91s\tremaining: 3.47s\n",
      "71:\tlearn: 2358.7656812\ttest: 2343.6374532\tbest: 2343.6374532 (71)\ttotal: 1.94s\tremaining: 3.44s\n",
      "72:\tlearn: 2348.7615649\ttest: 2333.4200927\tbest: 2333.4200927 (72)\ttotal: 1.96s\tremaining: 3.41s\n",
      "73:\tlearn: 2339.6497718\ttest: 2324.2686739\tbest: 2324.2686739 (73)\ttotal: 1.99s\tremaining: 3.39s\n",
      "74:\tlearn: 2330.7318703\ttest: 2315.2932102\tbest: 2315.2932102 (74)\ttotal: 2.01s\tremaining: 3.35s\n",
      "75:\tlearn: 2321.9291945\ttest: 2306.6749733\tbest: 2306.6749733 (75)\ttotal: 2.04s\tremaining: 3.32s\n",
      "76:\tlearn: 2313.6051628\ttest: 2297.9935989\tbest: 2297.9935989 (76)\ttotal: 2.06s\tremaining: 3.29s\n",
      "77:\tlearn: 2305.3969770\ttest: 2289.7438639\tbest: 2289.7438639 (77)\ttotal: 2.09s\tremaining: 3.27s\n",
      "78:\tlearn: 2296.5165557\ttest: 2280.8349801\tbest: 2280.8349801 (78)\ttotal: 2.12s\tremaining: 3.24s\n",
      "79:\tlearn: 2289.0835812\ttest: 2273.3390406\tbest: 2273.3390406 (79)\ttotal: 2.14s\tremaining: 3.21s\n",
      "80:\tlearn: 2281.8375939\ttest: 2266.0649364\tbest: 2266.0649364 (80)\ttotal: 2.18s\tremaining: 3.2s\n",
      "81:\tlearn: 2274.6587373\ttest: 2258.7651146\tbest: 2258.7651146 (81)\ttotal: 2.2s\tremaining: 3.17s\n",
      "82:\tlearn: 2267.5299856\ttest: 2251.6659960\tbest: 2251.6659960 (82)\ttotal: 2.23s\tremaining: 3.14s\n",
      "83:\tlearn: 2261.3401852\ttest: 2245.4829655\tbest: 2245.4829655 (83)\ttotal: 2.25s\tremaining: 3.11s\n",
      "84:\tlearn: 2254.7407949\ttest: 2238.7724570\tbest: 2238.7724570 (84)\ttotal: 2.28s\tremaining: 3.08s\n",
      "85:\tlearn: 2248.0806164\ttest: 2232.1731202\tbest: 2232.1731202 (85)\ttotal: 2.3s\tremaining: 3.05s\n",
      "86:\tlearn: 2241.6316002\ttest: 2225.7924802\tbest: 2225.7924802 (86)\ttotal: 2.33s\tremaining: 3.03s\n",
      "87:\tlearn: 2235.3944018\ttest: 2219.5847819\tbest: 2219.5847819 (87)\ttotal: 2.36s\tremaining: 3s\n",
      "88:\tlearn: 2229.5432975\ttest: 2213.7838672\tbest: 2213.7838672 (88)\ttotal: 2.38s\tremaining: 2.97s\n",
      "89:\tlearn: 2224.5063582\ttest: 2208.6746897\tbest: 2208.6746897 (89)\ttotal: 2.41s\tremaining: 2.94s\n",
      "90:\tlearn: 2219.2582363\ttest: 2203.4720733\tbest: 2203.4720733 (90)\ttotal: 2.43s\tremaining: 2.91s\n",
      "91:\tlearn: 2214.2650469\ttest: 2198.5762935\tbest: 2198.5762935 (91)\ttotal: 2.46s\tremaining: 2.88s\n",
      "92:\tlearn: 2208.9222451\ttest: 2193.2293187\tbest: 2193.2293187 (92)\ttotal: 2.48s\tremaining: 2.86s\n",
      "93:\tlearn: 2204.3405821\ttest: 2188.7834553\tbest: 2188.7834553 (93)\ttotal: 2.51s\tremaining: 2.83s\n",
      "94:\tlearn: 2198.7821878\ttest: 2183.0591260\tbest: 2183.0591260 (94)\ttotal: 2.54s\tremaining: 2.81s\n",
      "95:\tlearn: 2194.1864082\ttest: 2178.4741507\tbest: 2178.4741507 (95)\ttotal: 2.56s\tremaining: 2.77s\n",
      "96:\tlearn: 2190.0781933\ttest: 2174.3871790\tbest: 2174.3871790 (96)\ttotal: 2.58s\tremaining: 2.75s\n",
      "97:\tlearn: 2185.0059109\ttest: 2169.1875849\tbest: 2169.1875849 (97)\ttotal: 2.61s\tremaining: 2.72s\n",
      "98:\tlearn: 2180.7398822\ttest: 2164.7811270\tbest: 2164.7811270 (98)\ttotal: 2.63s\tremaining: 2.69s\n",
      "99:\tlearn: 2176.4246422\ttest: 2160.6260773\tbest: 2160.6260773 (99)\ttotal: 2.66s\tremaining: 2.66s\n",
      "100:\tlearn: 2172.5807438\ttest: 2156.8223984\tbest: 2156.8223984 (100)\ttotal: 2.68s\tremaining: 2.63s\n",
      "101:\tlearn: 2168.4576824\ttest: 2152.7394681\tbest: 2152.7394681 (101)\ttotal: 2.7s\tremaining: 2.6s\n",
      "102:\tlearn: 2164.4472873\ttest: 2148.8049988\tbest: 2148.8049988 (102)\ttotal: 2.73s\tremaining: 2.57s\n",
      "103:\tlearn: 2161.0312425\ttest: 2145.3572320\tbest: 2145.3572320 (103)\ttotal: 2.76s\tremaining: 2.55s\n",
      "104:\tlearn: 2157.8206733\ttest: 2142.1714786\tbest: 2142.1714786 (104)\ttotal: 2.78s\tremaining: 2.52s\n",
      "105:\tlearn: 2154.1306999\ttest: 2138.3343000\tbest: 2138.3343000 (105)\ttotal: 2.81s\tremaining: 2.49s\n",
      "106:\tlearn: 2150.0716520\ttest: 2134.1755199\tbest: 2134.1755199 (106)\ttotal: 2.83s\tremaining: 2.46s\n",
      "107:\tlearn: 2146.9133789\ttest: 2131.1462589\tbest: 2131.1462589 (107)\ttotal: 2.85s\tremaining: 2.43s\n",
      "108:\tlearn: 2142.9609615\ttest: 2127.2425911\tbest: 2127.2425911 (108)\ttotal: 2.88s\tremaining: 2.4s\n",
      "109:\tlearn: 2139.4853475\ttest: 2123.8187646\tbest: 2123.8187646 (109)\ttotal: 2.9s\tremaining: 2.37s\n",
      "110:\tlearn: 2136.4758880\ttest: 2120.9074629\tbest: 2120.9074629 (110)\ttotal: 2.92s\tremaining: 2.34s\n",
      "111:\tlearn: 2133.7898870\ttest: 2118.4051910\tbest: 2118.4051910 (111)\ttotal: 2.95s\tremaining: 2.32s\n",
      "112:\tlearn: 2130.9270004\ttest: 2115.6488720\tbest: 2115.6488720 (112)\ttotal: 2.98s\tremaining: 2.29s\n",
      "113:\tlearn: 2127.5625267\ttest: 2112.3626733\tbest: 2112.3626733 (113)\ttotal: 3s\tremaining: 2.26s\n",
      "114:\tlearn: 2123.5043193\ttest: 2108.2653083\tbest: 2108.2653083 (114)\ttotal: 3.03s\tremaining: 2.24s\n",
      "115:\tlearn: 2120.2530426\ttest: 2105.0604460\tbest: 2105.0604460 (115)\ttotal: 3.05s\tremaining: 2.21s\n",
      "116:\tlearn: 2117.8631721\ttest: 2102.7326368\tbest: 2102.7326368 (116)\ttotal: 3.07s\tremaining: 2.18s\n",
      "117:\tlearn: 2115.0376773\ttest: 2100.0547625\tbest: 2100.0547625 (117)\ttotal: 3.1s\tremaining: 2.15s\n",
      "118:\tlearn: 2112.4397450\ttest: 2097.4712342\tbest: 2097.4712342 (118)\ttotal: 3.12s\tremaining: 2.12s\n",
      "119:\tlearn: 2109.2099910\ttest: 2094.0570537\tbest: 2094.0570537 (119)\ttotal: 3.15s\tremaining: 2.1s\n",
      "120:\tlearn: 2106.0967501\ttest: 2090.8976934\tbest: 2090.8976934 (120)\ttotal: 3.17s\tremaining: 2.07s\n",
      "121:\tlearn: 2103.3393643\ttest: 2088.3362339\tbest: 2088.3362339 (121)\ttotal: 3.2s\tremaining: 2.04s\n",
      "122:\tlearn: 2100.9028139\ttest: 2086.0348756\tbest: 2086.0348756 (122)\ttotal: 3.22s\tremaining: 2.02s\n",
      "123:\tlearn: 2098.4732459\ttest: 2083.5360488\tbest: 2083.5360488 (123)\ttotal: 3.25s\tremaining: 1.99s\n",
      "124:\tlearn: 2095.1210717\ttest: 2080.1602691\tbest: 2080.1602691 (124)\ttotal: 3.27s\tremaining: 1.96s\n",
      "125:\tlearn: 2093.0928490\ttest: 2078.1927963\tbest: 2078.1927963 (125)\ttotal: 3.3s\tremaining: 1.94s\n",
      "126:\tlearn: 2090.9363966\ttest: 2076.2832938\tbest: 2076.2832938 (126)\ttotal: 3.32s\tremaining: 1.91s\n",
      "127:\tlearn: 2088.8551490\ttest: 2074.2536288\tbest: 2074.2536288 (127)\ttotal: 3.34s\tremaining: 1.88s\n",
      "128:\tlearn: 2086.9719022\ttest: 2072.3542444\tbest: 2072.3542444 (128)\ttotal: 3.37s\tremaining: 1.86s\n",
      "129:\tlearn: 2084.9540252\ttest: 2070.3522589\tbest: 2070.3522589 (129)\ttotal: 3.4s\tremaining: 1.83s\n",
      "130:\tlearn: 2081.9441862\ttest: 2067.2637186\tbest: 2067.2637186 (130)\ttotal: 3.42s\tremaining: 1.8s\n",
      "131:\tlearn: 2079.8185017\ttest: 2065.1428301\tbest: 2065.1428301 (131)\ttotal: 3.45s\tremaining: 1.78s\n",
      "132:\tlearn: 2077.3559707\ttest: 2062.7294467\tbest: 2062.7294467 (132)\ttotal: 3.48s\tremaining: 1.75s\n",
      "133:\tlearn: 2075.5074525\ttest: 2060.9307455\tbest: 2060.9307455 (133)\ttotal: 3.5s\tremaining: 1.72s\n",
      "134:\tlearn: 2072.8824653\ttest: 2058.3524123\tbest: 2058.3524123 (134)\ttotal: 3.52s\tremaining: 1.7s\n",
      "135:\tlearn: 2070.6633356\ttest: 2056.1189919\tbest: 2056.1189919 (135)\ttotal: 3.55s\tremaining: 1.67s\n",
      "136:\tlearn: 2068.1443220\ttest: 2053.6085824\tbest: 2053.6085824 (136)\ttotal: 3.58s\tremaining: 1.64s\n",
      "137:\tlearn: 2066.0523465\ttest: 2051.5229713\tbest: 2051.5229713 (137)\ttotal: 3.6s\tremaining: 1.62s\n",
      "138:\tlearn: 2064.2640156\ttest: 2049.7804059\tbest: 2049.7804059 (138)\ttotal: 3.63s\tremaining: 1.59s\n",
      "139:\tlearn: 2062.0557504\ttest: 2047.5293916\tbest: 2047.5293916 (139)\ttotal: 3.65s\tremaining: 1.56s\n",
      "140:\tlearn: 2059.9142423\ttest: 2045.1917006\tbest: 2045.1917006 (140)\ttotal: 3.68s\tremaining: 1.54s\n",
      "141:\tlearn: 2058.1979033\ttest: 2043.5224878\tbest: 2043.5224878 (141)\ttotal: 3.7s\tremaining: 1.51s\n",
      "142:\tlearn: 2056.1582197\ttest: 2041.6112442\tbest: 2041.6112442 (142)\ttotal: 3.72s\tremaining: 1.48s\n",
      "143:\tlearn: 2054.3577034\ttest: 2039.8232972\tbest: 2039.8232972 (143)\ttotal: 3.74s\tremaining: 1.46s\n",
      "144:\tlearn: 2052.5660339\ttest: 2038.0466013\tbest: 2038.0466013 (144)\ttotal: 3.77s\tremaining: 1.43s\n",
      "145:\tlearn: 2050.5337908\ttest: 2036.0151493\tbest: 2036.0151493 (145)\ttotal: 3.79s\tremaining: 1.4s\n",
      "146:\tlearn: 2048.9360390\ttest: 2034.5441578\tbest: 2034.5441578 (146)\ttotal: 3.81s\tremaining: 1.38s\n",
      "147:\tlearn: 2047.4915077\ttest: 2033.1429037\tbest: 2033.1429037 (147)\ttotal: 3.84s\tremaining: 1.35s\n",
      "148:\tlearn: 2046.1296118\ttest: 2031.7329113\tbest: 2031.7329113 (148)\ttotal: 3.86s\tremaining: 1.32s\n",
      "149:\tlearn: 2044.7305037\ttest: 2030.4112611\tbest: 2030.4112611 (149)\ttotal: 3.89s\tremaining: 1.29s\n",
      "150:\tlearn: 2042.7149789\ttest: 2028.3280468\tbest: 2028.3280468 (150)\ttotal: 3.91s\tremaining: 1.27s\n",
      "151:\tlearn: 2040.9995762\ttest: 2026.5692123\tbest: 2026.5692123 (151)\ttotal: 3.93s\tremaining: 1.24s\n",
      "152:\tlearn: 2038.8058537\ttest: 2024.3708867\tbest: 2024.3708867 (152)\ttotal: 3.96s\tremaining: 1.22s\n",
      "153:\tlearn: 2037.2477488\ttest: 2022.7648301\tbest: 2022.7648301 (153)\ttotal: 3.98s\tremaining: 1.19s\n",
      "154:\tlearn: 2035.3356048\ttest: 2020.7583326\tbest: 2020.7583326 (154)\ttotal: 4.01s\tremaining: 1.16s\n",
      "155:\tlearn: 2033.4897496\ttest: 2018.9783703\tbest: 2018.9783703 (155)\ttotal: 4.04s\tremaining: 1.14s\n",
      "156:\tlearn: 2031.8408054\ttest: 2017.3016083\tbest: 2017.3016083 (156)\ttotal: 4.07s\tremaining: 1.11s\n",
      "157:\tlearn: 2030.6212581\ttest: 2016.0686003\tbest: 2016.0686003 (157)\ttotal: 4.09s\tremaining: 1.09s\n",
      "158:\tlearn: 2028.8904921\ttest: 2014.3375989\tbest: 2014.3375989 (158)\ttotal: 4.12s\tremaining: 1.06s\n",
      "159:\tlearn: 2027.5332170\ttest: 2013.0469800\tbest: 2013.0469800 (159)\ttotal: 4.14s\tremaining: 1.03s\n",
      "160:\tlearn: 2025.8436127\ttest: 2011.4065077\tbest: 2011.4065077 (160)\ttotal: 4.16s\tremaining: 1.01s\n",
      "161:\tlearn: 2024.1073801\ttest: 2009.7247967\tbest: 2009.7247967 (161)\ttotal: 4.18s\tremaining: 982ms\n",
      "162:\tlearn: 2022.1615961\ttest: 2007.6600497\tbest: 2007.6600497 (162)\ttotal: 4.22s\tremaining: 957ms\n",
      "163:\tlearn: 2020.9477355\ttest: 2006.4347880\tbest: 2006.4347880 (163)\ttotal: 4.24s\tremaining: 931ms\n",
      "164:\tlearn: 2019.0152295\ttest: 2004.5418365\tbest: 2004.5418365 (164)\ttotal: 4.27s\tremaining: 906ms\n",
      "165:\tlearn: 2018.0922593\ttest: 2003.6630279\tbest: 2003.6630279 (165)\ttotal: 4.29s\tremaining: 879ms\n",
      "166:\tlearn: 2016.3796431\ttest: 2001.9424365\tbest: 2001.9424365 (166)\ttotal: 4.32s\tremaining: 854ms\n",
      "167:\tlearn: 2014.8154668\ttest: 2000.3061407\tbest: 2000.3061407 (167)\ttotal: 4.35s\tremaining: 828ms\n",
      "168:\tlearn: 2013.4340244\ttest: 1998.9153369\tbest: 1998.9153369 (168)\ttotal: 4.37s\tremaining: 802ms\n",
      "169:\tlearn: 2012.3021421\ttest: 1997.7555951\tbest: 1997.7555951 (169)\ttotal: 4.4s\tremaining: 776ms\n",
      "170:\tlearn: 2010.6188284\ttest: 1996.0385934\tbest: 1996.0385934 (170)\ttotal: 4.42s\tremaining: 751ms\n",
      "171:\tlearn: 2009.1415594\ttest: 1994.5182917\tbest: 1994.5182917 (171)\ttotal: 4.45s\tremaining: 725ms\n",
      "172:\tlearn: 2007.9561577\ttest: 1993.4348615\tbest: 1993.4348615 (172)\ttotal: 4.48s\tremaining: 699ms\n",
      "173:\tlearn: 2006.7104221\ttest: 1992.1894441\tbest: 1992.1894441 (173)\ttotal: 4.5s\tremaining: 673ms\n",
      "174:\tlearn: 2005.1456072\ttest: 1990.7063824\tbest: 1990.7063824 (174)\ttotal: 4.53s\tremaining: 647ms\n",
      "175:\tlearn: 2004.0982822\ttest: 1989.6609484\tbest: 1989.6609484 (175)\ttotal: 4.55s\tremaining: 621ms\n",
      "176:\tlearn: 2003.2983108\ttest: 1988.8686784\tbest: 1988.8686784 (176)\ttotal: 4.58s\tremaining: 595ms\n",
      "177:\tlearn: 2001.8804670\ttest: 1987.3889764\tbest: 1987.3889764 (177)\ttotal: 4.6s\tremaining: 568ms\n",
      "178:\tlearn: 2000.4538865\ttest: 1985.9753226\tbest: 1985.9753226 (178)\ttotal: 4.63s\tremaining: 543ms\n",
      "179:\tlearn: 1998.8297569\ttest: 1984.5022371\tbest: 1984.5022371 (179)\ttotal: 4.66s\tremaining: 517ms\n",
      "180:\tlearn: 1997.5959494\ttest: 1983.1921121\tbest: 1983.1921121 (180)\ttotal: 4.68s\tremaining: 491ms\n",
      "181:\tlearn: 1996.2762166\ttest: 1981.9889084\tbest: 1981.9889084 (181)\ttotal: 4.7s\tremaining: 465ms\n",
      "182:\tlearn: 1995.4426180\ttest: 1981.1652325\tbest: 1981.1652325 (182)\ttotal: 4.73s\tremaining: 439ms\n",
      "183:\tlearn: 1994.2558262\ttest: 1979.9113450\tbest: 1979.9113450 (183)\ttotal: 4.75s\tremaining: 413ms\n",
      "184:\tlearn: 1993.3181528\ttest: 1979.0270361\tbest: 1979.0270361 (184)\ttotal: 4.77s\tremaining: 387ms\n",
      "185:\tlearn: 1992.2583114\ttest: 1977.9524130\tbest: 1977.9524130 (185)\ttotal: 4.8s\tremaining: 361ms\n",
      "186:\tlearn: 1990.9679656\ttest: 1976.5935054\tbest: 1976.5935054 (186)\ttotal: 4.83s\tremaining: 335ms\n",
      "187:\tlearn: 1989.8770658\ttest: 1975.4043805\tbest: 1975.4043805 (187)\ttotal: 4.85s\tremaining: 310ms\n",
      "188:\tlearn: 1989.0322635\ttest: 1974.5553139\tbest: 1974.5553139 (188)\ttotal: 4.88s\tremaining: 284ms\n",
      "189:\tlearn: 1988.0224983\ttest: 1973.6386723\tbest: 1973.6386723 (189)\ttotal: 4.9s\tremaining: 258ms\n",
      "190:\tlearn: 1987.0046985\ttest: 1972.5990262\tbest: 1972.5990262 (190)\ttotal: 4.93s\tremaining: 232ms\n",
      "191:\tlearn: 1985.8793714\ttest: 1971.5972905\tbest: 1971.5972905 (191)\ttotal: 4.96s\tremaining: 207ms\n",
      "192:\tlearn: 1984.9698310\ttest: 1970.8113871\tbest: 1970.8113871 (192)\ttotal: 4.98s\tremaining: 181ms\n",
      "193:\tlearn: 1983.8567974\ttest: 1969.6227434\tbest: 1969.6227434 (193)\ttotal: 5s\tremaining: 155ms\n",
      "194:\tlearn: 1982.6281363\ttest: 1968.4707519\tbest: 1968.4707519 (194)\ttotal: 5.03s\tremaining: 129ms\n",
      "195:\tlearn: 1981.8243013\ttest: 1967.7861707\tbest: 1967.7861707 (195)\ttotal: 5.05s\tremaining: 103ms\n",
      "196:\tlearn: 1981.0922480\ttest: 1967.1028348\tbest: 1967.1028348 (196)\ttotal: 5.08s\tremaining: 77.3ms\n",
      "197:\tlearn: 1980.1220585\ttest: 1966.0666618\tbest: 1966.0666618 (197)\ttotal: 5.1s\tremaining: 51.6ms\n",
      "198:\tlearn: 1979.0471794\ttest: 1965.0801987\tbest: 1965.0801987 (198)\ttotal: 5.13s\tremaining: 25.8ms\n",
      "199:\tlearn: 1978.2477918\ttest: 1964.2646944\tbest: 1964.2646944 (199)\ttotal: 5.16s\tremaining: 0us\n",
      "\n",
      "bestTest = 1964.264694\n",
      "bestIteration = 199\n",
      "\n",
      "17:\tloss: 1964.2646944\tbest: 1964.2646944 (17)\ttotal: 53.3s\tremaining: 26.7s\n",
      "0:\tlearn: 6133.0015375\ttest: 6119.8825675\tbest: 6119.8825675 (0)\ttotal: 34.9ms\tremaining: 1.71s\n",
      "1:\tlearn: 5981.6021931\ttest: 5968.4615561\tbest: 5968.4615561 (1)\ttotal: 66.8ms\tremaining: 1.6s\n",
      "2:\tlearn: 5837.2464425\ttest: 5824.0897201\tbest: 5824.0897201 (2)\ttotal: 98.3ms\tremaining: 1.54s\n",
      "3:\tlearn: 5695.1305244\ttest: 5682.3214886\tbest: 5682.3214886 (3)\ttotal: 133ms\tremaining: 1.53s\n",
      "4:\tlearn: 5560.1556363\ttest: 5547.2021695\tbest: 5547.2021695 (4)\ttotal: 166ms\tremaining: 1.49s\n",
      "5:\tlearn: 5428.0172584\ttest: 5415.2134126\tbest: 5415.2134126 (5)\ttotal: 197ms\tremaining: 1.45s\n",
      "6:\tlearn: 5299.1351448\ttest: 5286.2769231\tbest: 5286.2769231 (6)\ttotal: 230ms\tremaining: 1.41s\n",
      "7:\tlearn: 5176.4349787\ttest: 5163.7610796\tbest: 5163.7610796 (7)\ttotal: 262ms\tremaining: 1.37s\n",
      "8:\tlearn: 5057.3966618\ttest: 5044.9932584\tbest: 5044.9932584 (8)\ttotal: 293ms\tremaining: 1.33s\n",
      "9:\tlearn: 4942.3360648\ttest: 4930.1542578\tbest: 4930.1542578 (9)\ttotal: 324ms\tremaining: 1.29s\n",
      "10:\tlearn: 4831.2119615\ttest: 4819.5250312\tbest: 4819.5250312 (10)\ttotal: 363ms\tremaining: 1.29s\n",
      "11:\tlearn: 4724.9046872\ttest: 4713.4205891\tbest: 4713.4205891 (11)\ttotal: 401ms\tremaining: 1.27s\n",
      "12:\tlearn: 4621.1770861\ttest: 4609.7261678\tbest: 4609.7261678 (12)\ttotal: 436ms\tremaining: 1.24s\n",
      "13:\tlearn: 4520.2970816\ttest: 4508.8914136\tbest: 4508.8914136 (13)\ttotal: 467ms\tremaining: 1.2s\n",
      "14:\tlearn: 4424.2753748\ttest: 4412.8346214\tbest: 4412.8346214 (14)\ttotal: 498ms\tremaining: 1.16s\n",
      "15:\tlearn: 4331.7976832\ttest: 4320.4188889\tbest: 4320.4188889 (15)\ttotal: 530ms\tremaining: 1.13s\n",
      "16:\tlearn: 4243.3535695\ttest: 4232.0824685\tbest: 4232.0824685 (16)\ttotal: 564ms\tremaining: 1.09s\n",
      "17:\tlearn: 4156.4280993\ttest: 4145.4364355\tbest: 4145.4364355 (17)\ttotal: 598ms\tremaining: 1.06s\n",
      "18:\tlearn: 4073.2913849\ttest: 4062.2058207\tbest: 4062.2058207 (18)\ttotal: 630ms\tremaining: 1.03s\n",
      "19:\tlearn: 3992.8129031\ttest: 3981.9835874\tbest: 3981.9835874 (19)\ttotal: 661ms\tremaining: 991ms\n",
      "20:\tlearn: 3915.1616294\ttest: 3904.0275071\tbest: 3904.0275071 (20)\ttotal: 692ms\tremaining: 955ms\n",
      "21:\tlearn: 3840.9754525\ttest: 3830.1189871\tbest: 3830.1189871 (21)\ttotal: 723ms\tremaining: 920ms\n",
      "22:\tlearn: 3769.2198837\ttest: 3758.7302964\tbest: 3758.7302964 (22)\ttotal: 754ms\tremaining: 885ms\n",
      "23:\tlearn: 3701.1587240\ttest: 3690.6556431\tbest: 3690.6556431 (23)\ttotal: 789ms\tremaining: 855ms\n",
      "24:\tlearn: 3635.0800669\ttest: 3624.7989426\tbest: 3624.7989426 (24)\ttotal: 823ms\tremaining: 823ms\n",
      "25:\tlearn: 3572.0413037\ttest: 3561.8838008\tbest: 3561.8838008 (25)\ttotal: 858ms\tremaining: 792ms\n",
      "26:\tlearn: 3511.7940330\ttest: 3501.7402715\tbest: 3501.7402715 (26)\ttotal: 899ms\tremaining: 766ms\n",
      "27:\tlearn: 3453.6175355\ttest: 3443.6180000\tbest: 3443.6180000 (27)\ttotal: 932ms\tremaining: 732ms\n",
      "28:\tlearn: 3397.6979289\ttest: 3387.5149809\tbest: 3387.5149809 (28)\ttotal: 965ms\tremaining: 699ms\n",
      "29:\tlearn: 3343.5956690\ttest: 3333.3794408\tbest: 3333.3794408 (29)\ttotal: 1s\tremaining: 667ms\n",
      "30:\tlearn: 3291.2055580\ttest: 3280.9318457\tbest: 3280.9318457 (30)\ttotal: 1.04s\tremaining: 637ms\n",
      "31:\tlearn: 3240.4373541\ttest: 3230.1140912\tbest: 3230.1140912 (31)\ttotal: 1.07s\tremaining: 604ms\n",
      "32:\tlearn: 3192.5238461\ttest: 3182.4378661\tbest: 3182.4378661 (32)\ttotal: 1.1s\tremaining: 569ms\n",
      "33:\tlearn: 3146.2464746\ttest: 3136.2341879\tbest: 3136.2341879 (33)\ttotal: 1.14s\tremaining: 535ms\n",
      "34:\tlearn: 3100.5671806\ttest: 3090.4413797\tbest: 3090.4413797 (34)\ttotal: 1.17s\tremaining: 500ms\n",
      "35:\tlearn: 3058.5547871\ttest: 3048.3166835\tbest: 3048.3166835 (35)\ttotal: 1.2s\tremaining: 465ms\n",
      "36:\tlearn: 3016.9308635\ttest: 3006.5877616\tbest: 3006.5877616 (36)\ttotal: 1.23s\tremaining: 433ms\n",
      "37:\tlearn: 2977.2715442\ttest: 2967.0136880\tbest: 2967.0136880 (37)\ttotal: 1.26s\tremaining: 399ms\n",
      "38:\tlearn: 2939.0181939\ttest: 2928.8188126\tbest: 2928.8188126 (38)\ttotal: 1.29s\tremaining: 365ms\n",
      "39:\tlearn: 2902.3558140\ttest: 2892.1381280\tbest: 2892.1381280 (39)\ttotal: 1.32s\tremaining: 331ms\n",
      "40:\tlearn: 2866.5712796\ttest: 2856.2042687\tbest: 2856.2042687 (40)\ttotal: 1.35s\tremaining: 297ms\n",
      "41:\tlearn: 2831.9963040\ttest: 2821.3951985\tbest: 2821.3951985 (41)\ttotal: 1.38s\tremaining: 263ms\n",
      "42:\tlearn: 2800.2114887\ttest: 2789.8676041\tbest: 2789.8676041 (42)\ttotal: 1.41s\tremaining: 230ms\n",
      "43:\tlearn: 2770.1014163\ttest: 2759.8141652\tbest: 2759.8141652 (43)\ttotal: 1.46s\tremaining: 200ms\n",
      "44:\tlearn: 2740.0173675\ttest: 2729.6262934\tbest: 2729.6262934 (44)\ttotal: 1.5s\tremaining: 167ms\n",
      "45:\tlearn: 2710.4194799\ttest: 2699.8408878\tbest: 2699.8408878 (45)\ttotal: 1.53s\tremaining: 133ms\n",
      "46:\tlearn: 2683.1854345\ttest: 2672.6357001\tbest: 2672.6357001 (46)\ttotal: 1.56s\tremaining: 99.8ms\n",
      "47:\tlearn: 2655.7154872\ttest: 2644.9882010\tbest: 2644.9882010 (47)\ttotal: 1.59s\tremaining: 66.4ms\n",
      "48:\tlearn: 2629.7924331\ttest: 2618.9694667\tbest: 2618.9694667 (48)\ttotal: 1.63s\tremaining: 33.2ms\n",
      "49:\tlearn: 2604.9526530\ttest: 2594.1112308\tbest: 2594.1112308 (49)\ttotal: 1.66s\tremaining: 0us\n",
      "\n",
      "bestTest = 2594.111231\n",
      "bestIteration = 49\n",
      "\n",
      "18:\tloss: 2594.1112308\tbest: 1964.2646944 (17)\ttotal: 55s\tremaining: 23.2s\n",
      "0:\tlearn: 6133.2262928\ttest: 6120.1044397\tbest: 6120.1044397 (0)\ttotal: 43.7ms\tremaining: 2.14s\n",
      "1:\tlearn: 5981.9864546\ttest: 5968.8431255\tbest: 5968.8431255 (1)\ttotal: 77.2ms\tremaining: 1.85s\n",
      "2:\tlearn: 5837.8180137\ttest: 5824.6599607\tbest: 5824.6599607 (2)\ttotal: 115ms\tremaining: 1.8s\n",
      "3:\tlearn: 5695.8530002\ttest: 5683.0423811\tbest: 5683.0423811 (3)\ttotal: 159ms\tremaining: 1.83s\n",
      "4:\tlearn: 5560.9032762\ttest: 5547.9486585\tbest: 5547.9486585 (4)\ttotal: 205ms\tremaining: 1.84s\n",
      "5:\tlearn: 5428.9999587\ttest: 5416.1893727\tbest: 5416.1893727 (5)\ttotal: 243ms\tremaining: 1.78s\n",
      "6:\tlearn: 5300.2149452\ttest: 5287.3505789\tbest: 5287.3505789 (6)\ttotal: 276ms\tremaining: 1.7s\n",
      "7:\tlearn: 5177.6315778\ttest: 5164.9492493\tbest: 5164.9492493 (7)\ttotal: 311ms\tremaining: 1.63s\n",
      "8:\tlearn: 5058.8390163\ttest: 5046.4260608\tbest: 5046.4260608 (8)\ttotal: 352ms\tremaining: 1.6s\n",
      "9:\tlearn: 4943.9436418\ttest: 4931.7425857\tbest: 4931.7425857 (9)\ttotal: 391ms\tremaining: 1.56s\n",
      "10:\tlearn: 4832.9511527\ttest: 4821.2444870\tbest: 4821.2444870 (10)\ttotal: 432ms\tremaining: 1.53s\n",
      "11:\tlearn: 4726.7317575\ttest: 4715.2274744\tbest: 4715.2274744 (11)\ttotal: 467ms\tremaining: 1.48s\n",
      "12:\tlearn: 4622.9809493\ttest: 4611.5100678\tbest: 4611.5100678 (12)\ttotal: 499ms\tremaining: 1.42s\n",
      "13:\tlearn: 4522.1331491\ttest: 4510.7099171\tbest: 4510.7099171 (13)\ttotal: 531ms\tremaining: 1.37s\n",
      "14:\tlearn: 4426.0978005\ttest: 4414.6393135\tbest: 4414.6393135 (14)\ttotal: 565ms\tremaining: 1.32s\n",
      "15:\tlearn: 4333.6284161\ttest: 4322.2317674\tbest: 4322.2317674 (15)\ttotal: 597ms\tremaining: 1.27s\n",
      "16:\tlearn: 4245.2370281\ttest: 4233.9476993\tbest: 4233.9476993 (16)\ttotal: 629ms\tremaining: 1.22s\n",
      "17:\tlearn: 4158.3773484\ttest: 4147.3712660\tbest: 4147.3712660 (17)\ttotal: 675ms\tremaining: 1.2s\n",
      "18:\tlearn: 4075.3129383\ttest: 4064.2179978\tbest: 4064.2179978 (18)\ttotal: 711ms\tremaining: 1.16s\n",
      "19:\tlearn: 3994.8722088\ttest: 3984.0322595\tbest: 3984.0322595 (19)\ttotal: 745ms\tremaining: 1.12s\n",
      "20:\tlearn: 3917.2223803\ttest: 3906.0761457\tbest: 3906.0761457 (20)\ttotal: 775ms\tremaining: 1.07s\n",
      "21:\tlearn: 3843.0781746\ttest: 3832.2084827\tbest: 3832.2084827 (21)\ttotal: 807ms\tremaining: 1.03s\n",
      "22:\tlearn: 3771.3556304\ttest: 3760.8534651\tbest: 3760.8534651 (22)\ttotal: 842ms\tremaining: 989ms\n",
      "23:\tlearn: 3703.3157501\ttest: 3692.8010543\tbest: 3692.8010543 (23)\ttotal: 878ms\tremaining: 952ms\n",
      "24:\tlearn: 3637.4265348\ttest: 3627.1165028\tbest: 3627.1165028 (24)\ttotal: 920ms\tremaining: 920ms\n",
      "25:\tlearn: 3574.4268864\ttest: 3564.2355429\tbest: 3564.2355429 (25)\ttotal: 953ms\tremaining: 880ms\n",
      "26:\tlearn: 3514.1574318\ttest: 3504.0700069\tbest: 3504.0700069 (26)\ttotal: 985ms\tremaining: 839ms\n",
      "27:\tlearn: 3456.0069266\ttest: 3445.9688006\tbest: 3445.9688006 (27)\ttotal: 1.01s\tremaining: 798ms\n",
      "28:\tlearn: 3400.2141950\ttest: 3389.9947148\tbest: 3389.9947148 (28)\ttotal: 1.06s\tremaining: 767ms\n",
      "29:\tlearn: 3346.0838655\ttest: 3335.8307304\tbest: 3335.8307304 (29)\ttotal: 1.09s\tremaining: 730ms\n",
      "30:\tlearn: 3294.0874320\ttest: 3284.0389529\tbest: 3284.0389529 (30)\ttotal: 1.14s\tremaining: 702ms\n",
      "31:\tlearn: 3243.4387628\ttest: 3233.3393614\tbest: 3233.3393614 (31)\ttotal: 1.18s\tremaining: 663ms\n",
      "32:\tlearn: 3195.8412021\ttest: 3185.9500429\tbest: 3185.9500429 (32)\ttotal: 1.22s\tremaining: 626ms\n",
      "33:\tlearn: 3149.4948910\ttest: 3139.7380770\tbest: 3139.7380770 (33)\ttotal: 1.26s\tremaining: 592ms\n",
      "34:\tlearn: 3103.7135771\ttest: 3093.8535529\tbest: 3093.8535529 (34)\ttotal: 1.29s\tremaining: 555ms\n",
      "35:\tlearn: 3061.8467927\ttest: 3051.8900580\tbest: 3051.8900580 (35)\ttotal: 1.34s\tremaining: 523ms\n",
      "36:\tlearn: 3020.7319510\ttest: 3010.7362898\tbest: 3010.7362898 (36)\ttotal: 1.39s\tremaining: 487ms\n",
      "37:\tlearn: 2981.5874835\ttest: 2971.6394824\tbest: 2971.6394824 (37)\ttotal: 1.42s\tremaining: 449ms\n",
      "38:\tlearn: 2943.1664085\ttest: 2933.2780487\tbest: 2933.2780487 (38)\ttotal: 1.46s\tremaining: 411ms\n",
      "39:\tlearn: 2906.3744644\ttest: 2896.4611405\tbest: 2896.4611405 (39)\ttotal: 1.49s\tremaining: 373ms\n",
      "40:\tlearn: 2869.8310078\ttest: 2859.7056336\tbest: 2859.7056336 (40)\ttotal: 1.52s\tremaining: 334ms\n",
      "41:\tlearn: 2835.1873861\ttest: 2824.8251809\tbest: 2824.8251809 (41)\ttotal: 1.56s\tremaining: 298ms\n",
      "42:\tlearn: 2802.4325239\ttest: 2792.2610900\tbest: 2792.2610900 (42)\ttotal: 1.59s\tremaining: 260ms\n",
      "43:\tlearn: 2772.2382218\ttest: 2762.1118306\tbest: 2762.1118306 (43)\ttotal: 1.63s\tremaining: 222ms\n",
      "44:\tlearn: 2741.7244901\ttest: 2731.6777150\tbest: 2731.6777150 (44)\ttotal: 1.66s\tremaining: 184ms\n",
      "45:\tlearn: 2712.1700040\ttest: 2701.9480042\tbest: 2701.9480042 (45)\ttotal: 1.7s\tremaining: 148ms\n",
      "46:\tlearn: 2684.8915313\ttest: 2674.6878521\tbest: 2674.6878521 (46)\ttotal: 1.73s\tremaining: 110ms\n",
      "47:\tlearn: 2657.5210766\ttest: 2647.1561915\tbest: 2647.1561915 (47)\ttotal: 1.76s\tremaining: 73.3ms\n",
      "48:\tlearn: 2631.1331314\ttest: 2620.7153538\tbest: 2620.7153538 (48)\ttotal: 1.8s\tremaining: 36.7ms\n",
      "49:\tlearn: 2606.2922783\ttest: 2595.8484545\tbest: 2595.8484545 (49)\ttotal: 1.83s\tremaining: 0us\n",
      "\n",
      "bestTest = 2595.848454\n",
      "bestIteration = 49\n",
      "\n",
      "19:\tloss: 2595.8484545\tbest: 1964.2646944 (17)\ttotal: 56.9s\tremaining: 19.9s\n",
      "0:\tlearn: 6133.4468446\ttest: 6120.3222410\tbest: 6120.3222410 (0)\ttotal: 45.9ms\tremaining: 2.25s\n",
      "1:\tlearn: 5982.3643063\ttest: 5969.2179698\tbest: 5969.2179698 (1)\ttotal: 79.8ms\tremaining: 1.92s\n",
      "2:\tlearn: 5838.3798264\ttest: 5825.2203257\tbest: 5825.2203257 (2)\ttotal: 117ms\tremaining: 1.83s\n",
      "3:\tlearn: 5696.5631820\ttest: 5683.7509579\tbest: 5683.7509579 (3)\ttotal: 151ms\tremaining: 1.74s\n",
      "4:\tlearn: 5559.4436012\ttest: 5546.7178245\tbest: 5546.7178245 (4)\ttotal: 185ms\tremaining: 1.66s\n",
      "5:\tlearn: 5427.8448245\ttest: 5415.2548414\tbest: 5415.2548414 (5)\ttotal: 216ms\tremaining: 1.58s\n",
      "6:\tlearn: 5299.5267673\ttest: 5286.9961069\tbest: 5286.9961069 (6)\ttotal: 257ms\tremaining: 1.58s\n",
      "7:\tlearn: 5177.0480183\ttest: 5164.6956300\tbest: 5164.6956300 (7)\ttotal: 291ms\tremaining: 1.52s\n",
      "8:\tlearn: 5058.4494921\ttest: 5046.3677569\tbest: 5046.3677569 (8)\ttotal: 327ms\tremaining: 1.49s\n",
      "9:\tlearn: 4943.3939600\ttest: 4931.6354202\tbest: 4931.6354202 (9)\ttotal: 364ms\tremaining: 1.46s\n",
      "10:\tlearn: 4832.6140659\ttest: 4821.3165225\tbest: 4821.3165225 (10)\ttotal: 396ms\tremaining: 1.4s\n",
      "11:\tlearn: 4726.6267927\ttest: 4715.5277132\tbest: 4715.5277132 (11)\ttotal: 428ms\tremaining: 1.36s\n",
      "12:\tlearn: 4622.6939665\ttest: 4611.6290389\tbest: 4611.6290389 (12)\ttotal: 463ms\tremaining: 1.32s\n",
      "13:\tlearn: 4521.9617554\ttest: 4510.9469376\tbest: 4510.9469376 (13)\ttotal: 500ms\tremaining: 1.29s\n",
      "14:\tlearn: 4426.9902077\ttest: 4416.0113599\tbest: 4416.0113599 (14)\ttotal: 533ms\tremaining: 1.24s\n",
      "15:\tlearn: 4334.4199969\ttest: 4323.5060936\tbest: 4323.5060936 (15)\ttotal: 576ms\tremaining: 1.22s\n",
      "16:\tlearn: 4246.6005787\ttest: 4235.7930988\tbest: 4235.7930988 (16)\ttotal: 613ms\tremaining: 1.19s\n",
      "17:\tlearn: 4159.8357030\ttest: 4149.3154958\tbest: 4149.3154958 (17)\ttotal: 646ms\tremaining: 1.15s\n",
      "18:\tlearn: 4077.1420892\ttest: 4066.5160424\tbest: 4066.5160424 (18)\ttotal: 678ms\tremaining: 1.11s\n",
      "19:\tlearn: 3997.0016261\ttest: 3986.4470846\tbest: 3986.4470846 (19)\ttotal: 710ms\tremaining: 1.06s\n",
      "20:\tlearn: 3918.7728719\ttest: 3908.0342003\tbest: 3908.0342003 (20)\ttotal: 742ms\tremaining: 1.02s\n",
      "21:\tlearn: 3844.6587231\ttest: 3834.1889564\tbest: 3834.1889564 (21)\ttotal: 775ms\tremaining: 987ms\n",
      "22:\tlearn: 3773.7978811\ttest: 3763.5387453\tbest: 3763.5387453 (22)\ttotal: 817ms\tremaining: 959ms\n",
      "23:\tlearn: 3705.7943067\ttest: 3695.5050575\tbest: 3695.5050575 (23)\ttotal: 850ms\tremaining: 921ms\n",
      "24:\tlearn: 3639.7541959\ttest: 3629.6595228\tbest: 3629.6595228 (24)\ttotal: 886ms\tremaining: 886ms\n",
      "25:\tlearn: 3576.0974259\ttest: 3566.0512947\tbest: 3566.0512947 (25)\ttotal: 922ms\tremaining: 851ms\n",
      "26:\tlearn: 3515.5821789\ttest: 3505.5031605\tbest: 3505.5031605 (26)\ttotal: 954ms\tremaining: 812ms\n",
      "27:\tlearn: 3456.3445534\ttest: 3446.2137750\tbest: 3446.2137750 (27)\ttotal: 985ms\tremaining: 774ms\n",
      "28:\tlearn: 3401.2544857\ttest: 3391.0180799\tbest: 3391.0180799 (28)\ttotal: 1.02s\tremaining: 738ms\n",
      "29:\tlearn: 3347.3561646\ttest: 3337.3329899\tbest: 3337.3329899 (29)\ttotal: 1.06s\tremaining: 708ms\n",
      "30:\tlearn: 3295.2359423\ttest: 3285.3410124\tbest: 3285.3410124 (30)\ttotal: 1.1s\tremaining: 675ms\n",
      "31:\tlearn: 3244.6350091\ttest: 3234.7627391\tbest: 3234.7627391 (31)\ttotal: 1.13s\tremaining: 638ms\n",
      "32:\tlearn: 3195.9361249\ttest: 3186.0065717\tbest: 3186.0065717 (32)\ttotal: 1.17s\tremaining: 601ms\n",
      "33:\tlearn: 3149.2527584\ttest: 3139.2292108\tbest: 3139.2292108 (33)\ttotal: 1.21s\tremaining: 570ms\n",
      "34:\tlearn: 3103.6034476\ttest: 3093.4772485\tbest: 3093.4772485 (34)\ttotal: 1.24s\tremaining: 533ms\n",
      "35:\tlearn: 3061.2131003\ttest: 3051.3252144\tbest: 3051.3252144 (35)\ttotal: 1.29s\tremaining: 501ms\n",
      "36:\tlearn: 3020.2761376\ttest: 3010.3097966\tbest: 3010.3097966 (36)\ttotal: 1.32s\tremaining: 465ms\n",
      "37:\tlearn: 2980.6190769\ttest: 2970.7961367\tbest: 2970.7961367 (37)\ttotal: 1.35s\tremaining: 428ms\n",
      "38:\tlearn: 2942.5823580\ttest: 2932.8661930\tbest: 2932.8661930 (38)\ttotal: 1.39s\tremaining: 392ms\n",
      "39:\tlearn: 2905.8456170\ttest: 2896.0973246\tbest: 2896.0973246 (39)\ttotal: 1.42s\tremaining: 355ms\n",
      "40:\tlearn: 2870.4469741\ttest: 2860.5010749\tbest: 2860.5010749 (40)\ttotal: 1.49s\tremaining: 328ms\n",
      "41:\tlearn: 2835.7543673\ttest: 2825.5112027\tbest: 2825.5112027 (41)\ttotal: 1.53s\tremaining: 293ms\n",
      "42:\tlearn: 2804.2086170\ttest: 2794.2136715\tbest: 2794.2136715 (42)\ttotal: 1.59s\tremaining: 258ms\n",
      "43:\tlearn: 2773.6894259\ttest: 2763.6672790\tbest: 2763.6672790 (43)\ttotal: 1.63s\tremaining: 222ms\n",
      "44:\tlearn: 2743.0157746\ttest: 2733.0227546\tbest: 2733.0227546 (44)\ttotal: 1.66s\tremaining: 184ms\n",
      "45:\tlearn: 2713.2504139\ttest: 2703.0680106\tbest: 2703.0680106 (45)\ttotal: 1.69s\tremaining: 147ms\n",
      "46:\tlearn: 2685.7241396\ttest: 2675.5846677\tbest: 2675.5846677 (46)\ttotal: 1.73s\tremaining: 110ms\n",
      "47:\tlearn: 2658.2695884\ttest: 2647.9482410\tbest: 2647.9482410 (47)\ttotal: 1.76s\tremaining: 73.3ms\n",
      "48:\tlearn: 2631.9608572\ttest: 2621.4433959\tbest: 2621.4433959 (48)\ttotal: 1.79s\tremaining: 36.6ms\n",
      "49:\tlearn: 2607.2569252\ttest: 2596.7167140\tbest: 2596.7167140 (49)\ttotal: 1.83s\tremaining: 0us\n",
      "\n",
      "bestTest = 2596.716714\n",
      "bestIteration = 49\n",
      "\n",
      "20:\tloss: 2596.7167140\tbest: 1964.2646944 (17)\ttotal: 58.8s\tremaining: 16.8s\n",
      "0:\tlearn: 6133.0015375\ttest: 6119.8825675\tbest: 6119.8825675 (0)\ttotal: 43.5ms\tremaining: 4.3s\n",
      "1:\tlearn: 5981.6021931\ttest: 5968.4615561\tbest: 5968.4615561 (1)\ttotal: 83.2ms\tremaining: 4.08s\n",
      "2:\tlearn: 5837.2464425\ttest: 5824.0897201\tbest: 5824.0897201 (2)\ttotal: 119ms\tremaining: 3.84s\n",
      "3:\tlearn: 5695.1305244\ttest: 5682.3214886\tbest: 5682.3214886 (3)\ttotal: 151ms\tremaining: 3.63s\n",
      "4:\tlearn: 5560.1556363\ttest: 5547.2021695\tbest: 5547.2021695 (4)\ttotal: 183ms\tremaining: 3.48s\n",
      "5:\tlearn: 5428.0172584\ttest: 5415.2134126\tbest: 5415.2134126 (5)\ttotal: 214ms\tremaining: 3.35s\n",
      "6:\tlearn: 5299.1351448\ttest: 5286.2769231\tbest: 5286.2769231 (6)\ttotal: 250ms\tremaining: 3.31s\n",
      "7:\tlearn: 5176.4349787\ttest: 5163.7610796\tbest: 5163.7610796 (7)\ttotal: 290ms\tremaining: 3.33s\n",
      "8:\tlearn: 5057.3966618\ttest: 5044.9932584\tbest: 5044.9932584 (8)\ttotal: 323ms\tremaining: 3.27s\n",
      "9:\tlearn: 4942.3360648\ttest: 4930.1542578\tbest: 4930.1542578 (9)\ttotal: 356ms\tremaining: 3.2s\n",
      "10:\tlearn: 4831.2119615\ttest: 4819.5250312\tbest: 4819.5250312 (10)\ttotal: 395ms\tremaining: 3.19s\n",
      "11:\tlearn: 4724.9046872\ttest: 4713.4205891\tbest: 4713.4205891 (11)\ttotal: 427ms\tremaining: 3.13s\n",
      "12:\tlearn: 4621.1770861\ttest: 4609.7261678\tbest: 4609.7261678 (12)\ttotal: 458ms\tremaining: 3.07s\n",
      "13:\tlearn: 4520.2970816\ttest: 4508.8914136\tbest: 4508.8914136 (13)\ttotal: 490ms\tremaining: 3.01s\n",
      "14:\tlearn: 4424.2753748\ttest: 4412.8346214\tbest: 4412.8346214 (14)\ttotal: 521ms\tremaining: 2.95s\n",
      "15:\tlearn: 4331.7976832\ttest: 4320.4188889\tbest: 4320.4188889 (15)\ttotal: 554ms\tremaining: 2.91s\n",
      "16:\tlearn: 4243.3535695\ttest: 4232.0824685\tbest: 4232.0824685 (16)\ttotal: 597ms\tremaining: 2.92s\n",
      "17:\tlearn: 4156.4280993\ttest: 4145.4364355\tbest: 4145.4364355 (17)\ttotal: 639ms\tremaining: 2.91s\n",
      "18:\tlearn: 4073.2913849\ttest: 4062.2058207\tbest: 4062.2058207 (18)\ttotal: 678ms\tremaining: 2.89s\n",
      "19:\tlearn: 3992.8129031\ttest: 3981.9835874\tbest: 3981.9835874 (19)\ttotal: 717ms\tremaining: 2.87s\n",
      "20:\tlearn: 3915.1616294\ttest: 3904.0275071\tbest: 3904.0275071 (20)\ttotal: 751ms\tremaining: 2.83s\n",
      "21:\tlearn: 3840.9754525\ttest: 3830.1189871\tbest: 3830.1189871 (21)\ttotal: 783ms\tremaining: 2.77s\n",
      "22:\tlearn: 3769.2198837\ttest: 3758.7302964\tbest: 3758.7302964 (22)\ttotal: 817ms\tremaining: 2.73s\n",
      "23:\tlearn: 3701.1587240\ttest: 3690.6556431\tbest: 3690.6556431 (23)\ttotal: 850ms\tremaining: 2.69s\n",
      "24:\tlearn: 3635.0800669\ttest: 3624.7989426\tbest: 3624.7989426 (24)\ttotal: 881ms\tremaining: 2.64s\n",
      "25:\tlearn: 3572.0413037\ttest: 3561.8838008\tbest: 3561.8838008 (25)\ttotal: 911ms\tremaining: 2.59s\n",
      "26:\tlearn: 3511.7940330\ttest: 3501.7402715\tbest: 3501.7402715 (26)\ttotal: 949ms\tremaining: 2.56s\n",
      "27:\tlearn: 3453.6175355\ttest: 3443.6180000\tbest: 3443.6180000 (27)\ttotal: 980ms\tremaining: 2.52s\n",
      "28:\tlearn: 3397.6979289\ttest: 3387.5149809\tbest: 3387.5149809 (28)\ttotal: 1.01s\tremaining: 2.48s\n",
      "29:\tlearn: 3343.5956690\ttest: 3333.3794408\tbest: 3333.3794408 (29)\ttotal: 1.04s\tremaining: 2.44s\n",
      "30:\tlearn: 3291.2055580\ttest: 3280.9318457\tbest: 3280.9318457 (30)\ttotal: 1.07s\tremaining: 2.39s\n",
      "31:\tlearn: 3240.4373541\ttest: 3230.1140912\tbest: 3230.1140912 (31)\ttotal: 1.11s\tremaining: 2.36s\n",
      "32:\tlearn: 3192.5238461\ttest: 3182.4378661\tbest: 3182.4378661 (32)\ttotal: 1.14s\tremaining: 2.32s\n",
      "33:\tlearn: 3146.2464746\ttest: 3136.2341879\tbest: 3136.2341879 (33)\ttotal: 1.18s\tremaining: 2.28s\n",
      "34:\tlearn: 3100.5671806\ttest: 3090.4413797\tbest: 3090.4413797 (34)\ttotal: 1.21s\tremaining: 2.24s\n",
      "35:\tlearn: 3058.5547871\ttest: 3048.3166835\tbest: 3048.3166835 (35)\ttotal: 1.24s\tremaining: 2.2s\n",
      "36:\tlearn: 3016.9308635\ttest: 3006.5877616\tbest: 3006.5877616 (36)\ttotal: 1.27s\tremaining: 2.17s\n",
      "37:\tlearn: 2977.2715442\ttest: 2967.0136880\tbest: 2967.0136880 (37)\ttotal: 1.31s\tremaining: 2.14s\n",
      "38:\tlearn: 2939.0181939\ttest: 2928.8188126\tbest: 2928.8188126 (38)\ttotal: 1.34s\tremaining: 2.1s\n",
      "39:\tlearn: 2902.3558140\ttest: 2892.1381280\tbest: 2892.1381280 (39)\ttotal: 1.37s\tremaining: 2.06s\n",
      "40:\tlearn: 2866.5712796\ttest: 2856.2042687\tbest: 2856.2042687 (40)\ttotal: 1.41s\tremaining: 2.02s\n",
      "41:\tlearn: 2831.9963040\ttest: 2821.3951985\tbest: 2821.3951985 (41)\ttotal: 1.44s\tremaining: 1.99s\n",
      "42:\tlearn: 2800.2114887\ttest: 2789.8676041\tbest: 2789.8676041 (42)\ttotal: 1.47s\tremaining: 1.95s\n",
      "43:\tlearn: 2770.1014163\ttest: 2759.8141652\tbest: 2759.8141652 (43)\ttotal: 1.5s\tremaining: 1.91s\n",
      "44:\tlearn: 2740.0173675\ttest: 2729.6262934\tbest: 2729.6262934 (44)\ttotal: 1.53s\tremaining: 1.87s\n",
      "45:\tlearn: 2710.4194799\ttest: 2699.8408878\tbest: 2699.8408878 (45)\ttotal: 1.56s\tremaining: 1.84s\n",
      "46:\tlearn: 2683.1854345\ttest: 2672.6357001\tbest: 2672.6357001 (46)\ttotal: 1.6s\tremaining: 1.81s\n",
      "47:\tlearn: 2655.7154872\ttest: 2644.9882010\tbest: 2644.9882010 (47)\ttotal: 1.64s\tremaining: 1.77s\n",
      "48:\tlearn: 2629.7924331\ttest: 2618.9694667\tbest: 2618.9694667 (48)\ttotal: 1.67s\tremaining: 1.74s\n",
      "49:\tlearn: 2604.9526530\ttest: 2594.1112308\tbest: 2594.1112308 (49)\ttotal: 1.71s\tremaining: 1.71s\n",
      "50:\tlearn: 2581.9979049\ttest: 2571.2820864\tbest: 2571.2820864 (50)\ttotal: 1.74s\tremaining: 1.67s\n",
      "51:\tlearn: 2560.0272786\ttest: 2549.1180175\tbest: 2549.1180175 (51)\ttotal: 1.77s\tremaining: 1.63s\n",
      "52:\tlearn: 2538.5603428\ttest: 2527.6103305\tbest: 2527.6103305 (52)\ttotal: 1.8s\tremaining: 1.6s\n",
      "53:\tlearn: 2517.9098227\ttest: 2506.8399483\tbest: 2506.8399483 (53)\ttotal: 1.84s\tremaining: 1.56s\n",
      "54:\tlearn: 2498.0845991\ttest: 2486.9383065\tbest: 2486.9383065 (54)\ttotal: 1.87s\tremaining: 1.53s\n",
      "55:\tlearn: 2478.6123535\ttest: 2467.2893203\tbest: 2467.2893203 (55)\ttotal: 1.9s\tremaining: 1.49s\n",
      "56:\tlearn: 2460.0689641\ttest: 2448.7399463\tbest: 2448.7399463 (56)\ttotal: 1.93s\tremaining: 1.46s\n",
      "57:\tlearn: 2442.7684517\ttest: 2431.4020738\tbest: 2431.4020738 (57)\ttotal: 1.96s\tremaining: 1.42s\n",
      "58:\tlearn: 2425.6211814\ttest: 2414.2381780\tbest: 2414.2381780 (58)\ttotal: 1.99s\tremaining: 1.38s\n",
      "59:\tlearn: 2409.1806917\ttest: 2397.7537361\tbest: 2397.7537361 (59)\ttotal: 2.02s\tremaining: 1.35s\n",
      "60:\tlearn: 2393.8967640\ttest: 2382.5101182\tbest: 2382.5101182 (60)\ttotal: 2.05s\tremaining: 1.31s\n",
      "61:\tlearn: 2379.2407188\ttest: 2367.6826975\tbest: 2367.6826975 (61)\ttotal: 2.09s\tremaining: 1.28s\n",
      "62:\tlearn: 2365.1746005\ttest: 2353.5801506\tbest: 2353.5801506 (62)\ttotal: 2.12s\tremaining: 1.24s\n",
      "63:\tlearn: 2351.3626822\ttest: 2339.7851242\tbest: 2339.7851242 (63)\ttotal: 2.15s\tremaining: 1.21s\n",
      "64:\tlearn: 2338.6640095\ttest: 2327.0259029\tbest: 2327.0259029 (64)\ttotal: 2.17s\tremaining: 1.17s\n",
      "65:\tlearn: 2325.9479555\ttest: 2314.4379811\tbest: 2314.4379811 (65)\ttotal: 2.2s\tremaining: 1.13s\n",
      "66:\tlearn: 2312.9915942\ttest: 2301.4849822\tbest: 2301.4849822 (66)\ttotal: 2.23s\tremaining: 1.1s\n",
      "67:\tlearn: 2300.3609128\ttest: 2288.8624474\tbest: 2288.8624474 (67)\ttotal: 2.26s\tremaining: 1.06s\n",
      "68:\tlearn: 2289.3081981\ttest: 2277.8396465\tbest: 2277.8396465 (68)\ttotal: 2.3s\tremaining: 1.03s\n",
      "69:\tlearn: 2277.9859817\ttest: 2266.3330302\tbest: 2266.3330302 (69)\ttotal: 2.33s\tremaining: 998ms\n",
      "70:\tlearn: 2267.3776615\ttest: 2255.7257481\tbest: 2255.7257481 (70)\ttotal: 2.36s\tremaining: 963ms\n",
      "71:\tlearn: 2257.5832923\ttest: 2245.6738916\tbest: 2245.6738916 (71)\ttotal: 2.39s\tremaining: 929ms\n",
      "72:\tlearn: 2247.2719790\ttest: 2235.3018027\tbest: 2235.3018027 (72)\ttotal: 2.42s\tremaining: 896ms\n",
      "73:\tlearn: 2237.1906537\ttest: 2225.2484532\tbest: 2225.2484532 (73)\ttotal: 2.45s\tremaining: 862ms\n",
      "74:\tlearn: 2228.3079718\ttest: 2216.5265015\tbest: 2216.5265015 (74)\ttotal: 2.49s\tremaining: 830ms\n",
      "75:\tlearn: 2219.5022676\ttest: 2207.5344193\tbest: 2207.5344193 (75)\ttotal: 2.52s\tremaining: 796ms\n",
      "76:\tlearn: 2211.6769931\ttest: 2199.8257231\tbest: 2199.8257231 (76)\ttotal: 2.55s\tremaining: 761ms\n",
      "77:\tlearn: 2202.2951598\ttest: 2190.3685264\tbest: 2190.3685264 (77)\ttotal: 2.58s\tremaining: 728ms\n",
      "78:\tlearn: 2195.3145653\ttest: 2183.3699669\tbest: 2183.3699669 (78)\ttotal: 2.61s\tremaining: 694ms\n",
      "79:\tlearn: 2187.4613234\ttest: 2175.3181627\tbest: 2175.3181627 (79)\ttotal: 2.65s\tremaining: 663ms\n",
      "80:\tlearn: 2179.5536864\ttest: 2167.6304070\tbest: 2167.6304070 (80)\ttotal: 2.69s\tremaining: 631ms\n",
      "81:\tlearn: 2171.7389592\ttest: 2159.9050284\tbest: 2159.9050284 (81)\ttotal: 2.73s\tremaining: 599ms\n",
      "82:\tlearn: 2164.7088498\ttest: 2152.9829310\tbest: 2152.9829310 (82)\ttotal: 2.76s\tremaining: 566ms\n",
      "83:\tlearn: 2157.7210253\ttest: 2146.0387529\tbest: 2146.0387529 (83)\ttotal: 2.79s\tremaining: 532ms\n",
      "84:\tlearn: 2151.2646762\ttest: 2139.5700554\tbest: 2139.5700554 (84)\ttotal: 2.82s\tremaining: 498ms\n",
      "85:\tlearn: 2145.1792921\ttest: 2133.7987728\tbest: 2133.7987728 (85)\ttotal: 2.85s\tremaining: 464ms\n",
      "86:\tlearn: 2139.1556105\ttest: 2127.6414492\tbest: 2127.6414492 (86)\ttotal: 2.88s\tremaining: 430ms\n",
      "87:\tlearn: 2133.4192485\ttest: 2121.9142687\tbest: 2121.9142687 (87)\ttotal: 2.91s\tremaining: 397ms\n",
      "88:\tlearn: 2127.3182932\ttest: 2115.9695170\tbest: 2115.9695170 (88)\ttotal: 2.95s\tremaining: 365ms\n",
      "89:\tlearn: 2121.8375284\ttest: 2110.4492167\tbest: 2110.4492167 (89)\ttotal: 2.98s\tremaining: 331ms\n",
      "90:\tlearn: 2116.8377611\ttest: 2105.5504423\tbest: 2105.5504423 (90)\ttotal: 3.01s\tremaining: 298ms\n",
      "91:\tlearn: 2112.2837078\ttest: 2101.0844872\tbest: 2101.0844872 (91)\ttotal: 3.04s\tremaining: 264ms\n",
      "92:\tlearn: 2107.6157546\ttest: 2096.4852455\tbest: 2096.4852455 (92)\ttotal: 3.07s\tremaining: 231ms\n",
      "93:\tlearn: 2101.9638965\ttest: 2090.8035364\tbest: 2090.8035364 (93)\ttotal: 3.11s\tremaining: 198ms\n",
      "94:\tlearn: 2097.6135016\ttest: 2086.6007519\tbest: 2086.6007519 (94)\ttotal: 3.14s\tremaining: 165ms\n",
      "95:\tlearn: 2092.6279519\ttest: 2081.5274643\tbest: 2081.5274643 (95)\ttotal: 3.17s\tremaining: 132ms\n",
      "96:\tlearn: 2087.7098472\ttest: 2076.4301286\tbest: 2076.4301286 (96)\ttotal: 3.21s\tremaining: 99.2ms\n",
      "97:\tlearn: 2083.3826482\ttest: 2072.2285260\tbest: 2072.2285260 (97)\ttotal: 3.23s\tremaining: 66ms\n",
      "98:\tlearn: 2079.3046373\ttest: 2068.2671523\tbest: 2068.2671523 (98)\ttotal: 3.27s\tremaining: 33ms\n",
      "99:\tlearn: 2075.6812750\ttest: 2064.7668463\tbest: 2064.7668463 (99)\ttotal: 3.29s\tremaining: 0us\n",
      "\n",
      "bestTest = 2064.766846\n",
      "bestIteration = 99\n",
      "\n",
      "21:\tloss: 2064.7668463\tbest: 1964.2646944 (17)\ttotal: 1m 2s\tremaining: 14.1s\n",
      "0:\tlearn: 6133.2262928\ttest: 6120.1044397\tbest: 6120.1044397 (0)\ttotal: 33.5ms\tremaining: 3.31s\n",
      "1:\tlearn: 5981.9864546\ttest: 5968.8431255\tbest: 5968.8431255 (1)\ttotal: 65.5ms\tremaining: 3.21s\n",
      "2:\tlearn: 5837.8180137\ttest: 5824.6599607\tbest: 5824.6599607 (2)\ttotal: 104ms\tremaining: 3.35s\n",
      "3:\tlearn: 5695.8530002\ttest: 5683.0423811\tbest: 5683.0423811 (3)\ttotal: 137ms\tremaining: 3.3s\n",
      "4:\tlearn: 5560.9032762\ttest: 5547.9486585\tbest: 5547.9486585 (4)\ttotal: 168ms\tremaining: 3.2s\n",
      "5:\tlearn: 5428.9999587\ttest: 5416.1893727\tbest: 5416.1893727 (5)\ttotal: 199ms\tremaining: 3.11s\n",
      "6:\tlearn: 5300.2149452\ttest: 5287.3505789\tbest: 5287.3505789 (6)\ttotal: 229ms\tremaining: 3.04s\n",
      "7:\tlearn: 5177.6315778\ttest: 5164.9492493\tbest: 5164.9492493 (7)\ttotal: 260ms\tremaining: 3s\n",
      "8:\tlearn: 5058.8390163\ttest: 5046.4260608\tbest: 5046.4260608 (8)\ttotal: 302ms\tremaining: 3.05s\n",
      "9:\tlearn: 4943.9436418\ttest: 4931.7425857\tbest: 4931.7425857 (9)\ttotal: 335ms\tremaining: 3.02s\n",
      "10:\tlearn: 4832.9511527\ttest: 4821.2444870\tbest: 4821.2444870 (10)\ttotal: 367ms\tremaining: 2.97s\n",
      "11:\tlearn: 4726.7317575\ttest: 4715.2274744\tbest: 4715.2274744 (11)\ttotal: 398ms\tremaining: 2.92s\n",
      "12:\tlearn: 4622.9809493\ttest: 4611.5100678\tbest: 4611.5100678 (12)\ttotal: 428ms\tremaining: 2.87s\n",
      "13:\tlearn: 4522.1331491\ttest: 4510.7099171\tbest: 4510.7099171 (13)\ttotal: 460ms\tremaining: 2.82s\n",
      "14:\tlearn: 4426.0978005\ttest: 4414.6393135\tbest: 4414.6393135 (14)\ttotal: 491ms\tremaining: 2.78s\n",
      "15:\tlearn: 4333.6284161\ttest: 4322.2317674\tbest: 4322.2317674 (15)\ttotal: 528ms\tremaining: 2.77s\n",
      "16:\tlearn: 4245.2370281\ttest: 4233.9476993\tbest: 4233.9476993 (16)\ttotal: 560ms\tremaining: 2.73s\n",
      "17:\tlearn: 4158.3773484\ttest: 4147.3712660\tbest: 4147.3712660 (17)\ttotal: 590ms\tremaining: 2.69s\n",
      "18:\tlearn: 4075.3129383\ttest: 4064.2179978\tbest: 4064.2179978 (18)\ttotal: 620ms\tremaining: 2.64s\n",
      "19:\tlearn: 3994.8722088\ttest: 3984.0322595\tbest: 3984.0322595 (19)\ttotal: 651ms\tremaining: 2.6s\n",
      "20:\tlearn: 3917.2223803\ttest: 3906.0761457\tbest: 3906.0761457 (20)\ttotal: 690ms\tremaining: 2.6s\n",
      "21:\tlearn: 3843.0781746\ttest: 3832.2084827\tbest: 3832.2084827 (21)\ttotal: 724ms\tremaining: 2.57s\n",
      "22:\tlearn: 3771.3556304\ttest: 3760.8534651\tbest: 3760.8534651 (22)\ttotal: 761ms\tremaining: 2.55s\n",
      "23:\tlearn: 3703.3157501\ttest: 3692.8010543\tbest: 3692.8010543 (23)\ttotal: 792ms\tremaining: 2.51s\n",
      "24:\tlearn: 3637.4265348\ttest: 3627.1165028\tbest: 3627.1165028 (24)\ttotal: 823ms\tremaining: 2.47s\n",
      "25:\tlearn: 3574.4268864\ttest: 3564.2355429\tbest: 3564.2355429 (25)\ttotal: 852ms\tremaining: 2.42s\n",
      "26:\tlearn: 3514.1574318\ttest: 3504.0700069\tbest: 3504.0700069 (26)\ttotal: 882ms\tremaining: 2.38s\n",
      "27:\tlearn: 3456.0069266\ttest: 3445.9688006\tbest: 3445.9688006 (27)\ttotal: 912ms\tremaining: 2.35s\n",
      "28:\tlearn: 3400.2141950\ttest: 3389.9947148\tbest: 3389.9947148 (28)\ttotal: 942ms\tremaining: 2.31s\n",
      "29:\tlearn: 3346.0838655\ttest: 3335.8307304\tbest: 3335.8307304 (29)\ttotal: 980ms\tremaining: 2.29s\n",
      "30:\tlearn: 3294.0874320\ttest: 3284.0389529\tbest: 3284.0389529 (30)\ttotal: 1.01s\tremaining: 2.25s\n",
      "31:\tlearn: 3243.4387628\ttest: 3233.3393614\tbest: 3233.3393614 (31)\ttotal: 1.04s\tremaining: 2.21s\n",
      "32:\tlearn: 3195.8412021\ttest: 3185.9500429\tbest: 3185.9500429 (32)\ttotal: 1.07s\tremaining: 2.18s\n",
      "33:\tlearn: 3149.4948910\ttest: 3139.7380770\tbest: 3139.7380770 (33)\ttotal: 1.1s\tremaining: 2.14s\n",
      "34:\tlearn: 3103.7135771\ttest: 3093.8535529\tbest: 3093.8535529 (34)\ttotal: 1.14s\tremaining: 2.11s\n",
      "35:\tlearn: 3061.8467927\ttest: 3051.8900580\tbest: 3051.8900580 (35)\ttotal: 1.17s\tremaining: 2.08s\n",
      "36:\tlearn: 3020.7319510\ttest: 3010.7362898\tbest: 3010.7362898 (36)\ttotal: 1.2s\tremaining: 2.05s\n",
      "37:\tlearn: 2981.5874835\ttest: 2971.6394824\tbest: 2971.6394824 (37)\ttotal: 1.24s\tremaining: 2.02s\n",
      "38:\tlearn: 2943.1664085\ttest: 2933.2780487\tbest: 2933.2780487 (38)\ttotal: 1.27s\tremaining: 1.98s\n",
      "39:\tlearn: 2906.3744644\ttest: 2896.4611405\tbest: 2896.4611405 (39)\ttotal: 1.3s\tremaining: 1.95s\n",
      "40:\tlearn: 2869.8310078\ttest: 2859.7056336\tbest: 2859.7056336 (40)\ttotal: 1.33s\tremaining: 1.92s\n",
      "41:\tlearn: 2835.1873861\ttest: 2824.8251809\tbest: 2824.8251809 (41)\ttotal: 1.37s\tremaining: 1.89s\n",
      "42:\tlearn: 2802.4325239\ttest: 2792.2610900\tbest: 2792.2610900 (42)\ttotal: 1.4s\tremaining: 1.85s\n",
      "43:\tlearn: 2772.2382218\ttest: 2762.1118306\tbest: 2762.1118306 (43)\ttotal: 1.43s\tremaining: 1.82s\n",
      "44:\tlearn: 2741.7244901\ttest: 2731.6777150\tbest: 2731.6777150 (44)\ttotal: 1.47s\tremaining: 1.79s\n",
      "45:\tlearn: 2712.1700040\ttest: 2701.9480042\tbest: 2701.9480042 (45)\ttotal: 1.5s\tremaining: 1.76s\n",
      "46:\tlearn: 2684.8915313\ttest: 2674.6878521\tbest: 2674.6878521 (46)\ttotal: 1.53s\tremaining: 1.72s\n",
      "47:\tlearn: 2657.5210766\ttest: 2647.1561915\tbest: 2647.1561915 (47)\ttotal: 1.56s\tremaining: 1.69s\n",
      "48:\tlearn: 2631.1331314\ttest: 2620.7153538\tbest: 2620.7153538 (48)\ttotal: 1.59s\tremaining: 1.66s\n",
      "49:\tlearn: 2606.2922783\ttest: 2595.8484545\tbest: 2595.8484545 (49)\ttotal: 1.62s\tremaining: 1.62s\n",
      "50:\tlearn: 2582.9729253\ttest: 2572.4864290\tbest: 2572.4864290 (50)\ttotal: 1.66s\tremaining: 1.59s\n",
      "51:\tlearn: 2561.0435986\ttest: 2550.5111835\tbest: 2550.5111835 (51)\ttotal: 1.69s\tremaining: 1.56s\n",
      "52:\tlearn: 2539.9719547\ttest: 2529.4086821\tbest: 2529.4086821 (52)\ttotal: 1.73s\tremaining: 1.53s\n",
      "53:\tlearn: 2519.3067814\ttest: 2508.6193729\tbest: 2508.6193729 (53)\ttotal: 1.75s\tremaining: 1.5s\n",
      "54:\tlearn: 2499.3653186\ttest: 2488.5064621\tbest: 2488.5064621 (54)\ttotal: 1.78s\tremaining: 1.46s\n",
      "55:\tlearn: 2480.7350039\ttest: 2470.0107855\tbest: 2470.0107855 (55)\ttotal: 1.81s\tremaining: 1.42s\n",
      "56:\tlearn: 2462.8871135\ttest: 2451.8769623\tbest: 2451.8769623 (56)\ttotal: 1.84s\tremaining: 1.39s\n",
      "57:\tlearn: 2445.4026713\ttest: 2434.2728986\tbest: 2434.2728986 (57)\ttotal: 1.88s\tremaining: 1.36s\n",
      "58:\tlearn: 2428.4653954\ttest: 2417.3170482\tbest: 2417.3170482 (58)\ttotal: 1.91s\tremaining: 1.33s\n",
      "59:\tlearn: 2411.9978357\ttest: 2400.7988143\tbest: 2400.7988143 (59)\ttotal: 1.94s\tremaining: 1.29s\n",
      "60:\tlearn: 2396.7392608\ttest: 2385.5594664\tbest: 2385.5594664 (60)\ttotal: 1.97s\tremaining: 1.26s\n",
      "61:\tlearn: 2382.2833017\ttest: 2371.1432581\tbest: 2371.1432581 (61)\ttotal: 2s\tremaining: 1.23s\n",
      "62:\tlearn: 2368.3086265\ttest: 2357.1120344\tbest: 2357.1120344 (62)\ttotal: 2.03s\tremaining: 1.19s\n",
      "63:\tlearn: 2354.3845187\ttest: 2343.1924303\tbest: 2343.1924303 (63)\ttotal: 2.07s\tremaining: 1.16s\n",
      "64:\tlearn: 2341.7453786\ttest: 2330.4800781\tbest: 2330.4800781 (64)\ttotal: 2.1s\tremaining: 1.13s\n",
      "65:\tlearn: 2328.1559820\ttest: 2316.7446756\tbest: 2316.7446756 (65)\ttotal: 2.13s\tremaining: 1.1s\n",
      "66:\tlearn: 2315.3845516\ttest: 2303.9752549\tbest: 2303.9752549 (66)\ttotal: 2.16s\tremaining: 1.06s\n",
      "67:\tlearn: 2303.9901570\ttest: 2292.4742506\tbest: 2292.4742506 (67)\ttotal: 2.19s\tremaining: 1.03s\n",
      "68:\tlearn: 2293.0267907\ttest: 2281.5336403\tbest: 2281.5336403 (68)\ttotal: 2.22s\tremaining: 997ms\n",
      "69:\tlearn: 2281.8062919\ttest: 2270.1760300\tbest: 2270.1760300 (69)\ttotal: 2.25s\tremaining: 965ms\n",
      "70:\tlearn: 2271.1176286\ttest: 2259.3021316\tbest: 2259.3021316 (70)\ttotal: 2.29s\tremaining: 935ms\n",
      "71:\tlearn: 2261.4291450\ttest: 2249.3540272\tbest: 2249.3540272 (71)\ttotal: 2.32s\tremaining: 903ms\n",
      "72:\tlearn: 2251.1523679\ttest: 2239.0583028\tbest: 2239.0583028 (72)\ttotal: 2.35s\tremaining: 870ms\n",
      "73:\tlearn: 2241.2253819\ttest: 2229.1450236\tbest: 2229.1450236 (73)\ttotal: 2.38s\tremaining: 837ms\n",
      "74:\tlearn: 2232.5078653\ttest: 2220.4865423\tbest: 2220.4865423 (74)\ttotal: 2.41s\tremaining: 804ms\n",
      "75:\tlearn: 2223.5476418\ttest: 2211.6110161\tbest: 2211.6110161 (75)\ttotal: 2.44s\tremaining: 770ms\n",
      "76:\tlearn: 2215.3087861\ttest: 2203.2226965\tbest: 2203.2226965 (76)\ttotal: 2.47s\tremaining: 738ms\n",
      "77:\tlearn: 2207.7590676\ttest: 2195.6768115\tbest: 2195.6768115 (77)\ttotal: 2.51s\tremaining: 707ms\n",
      "78:\tlearn: 2199.9967060\ttest: 2187.9164045\tbest: 2187.9164045 (78)\ttotal: 2.54s\tremaining: 675ms\n",
      "79:\tlearn: 2192.9658487\ttest: 2180.9020115\tbest: 2180.9020115 (79)\ttotal: 2.57s\tremaining: 642ms\n",
      "80:\tlearn: 2186.1886697\ttest: 2174.0446118\tbest: 2174.0446118 (80)\ttotal: 2.6s\tremaining: 609ms\n",
      "81:\tlearn: 2178.8865916\ttest: 2166.9493638\tbest: 2166.9493638 (81)\ttotal: 2.63s\tremaining: 577ms\n",
      "82:\tlearn: 2172.6614687\ttest: 2160.8018334\tbest: 2160.8018334 (82)\ttotal: 2.65s\tremaining: 544ms\n",
      "83:\tlearn: 2165.9297898\ttest: 2154.0626203\tbest: 2154.0626203 (83)\ttotal: 2.69s\tremaining: 511ms\n",
      "84:\tlearn: 2158.1785500\ttest: 2146.1085213\tbest: 2146.1085213 (84)\ttotal: 2.72s\tremaining: 481ms\n",
      "85:\tlearn: 2151.2488582\ttest: 2139.2684198\tbest: 2139.2684198 (85)\ttotal: 2.76s\tremaining: 449ms\n",
      "86:\tlearn: 2145.5230391\ttest: 2133.4756632\tbest: 2133.4756632 (86)\ttotal: 2.79s\tremaining: 417ms\n",
      "87:\tlearn: 2139.6206004\ttest: 2127.4393775\tbest: 2127.4393775 (87)\ttotal: 2.82s\tremaining: 384ms\n",
      "88:\tlearn: 2133.0572928\ttest: 2120.7071265\tbest: 2120.7071265 (88)\ttotal: 2.85s\tremaining: 352ms\n",
      "89:\tlearn: 2127.6924435\ttest: 2115.3418925\tbest: 2115.3418925 (89)\ttotal: 2.88s\tremaining: 320ms\n",
      "90:\tlearn: 2121.8770810\ttest: 2109.6351149\tbest: 2109.6351149 (90)\ttotal: 2.91s\tremaining: 288ms\n",
      "91:\tlearn: 2116.8229151\ttest: 2104.5291056\tbest: 2104.5291056 (91)\ttotal: 2.95s\tremaining: 256ms\n",
      "92:\tlearn: 2112.2703364\ttest: 2100.0088196\tbest: 2100.0088196 (92)\ttotal: 2.98s\tremaining: 224ms\n",
      "93:\tlearn: 2106.8082933\ttest: 2094.6298190\tbest: 2094.6298190 (93)\ttotal: 3.01s\tremaining: 192ms\n",
      "94:\tlearn: 2102.1146524\ttest: 2089.9427472\tbest: 2089.9427472 (94)\ttotal: 3.04s\tremaining: 160ms\n",
      "95:\tlearn: 2097.3255816\ttest: 2085.1336663\tbest: 2085.1336663 (95)\ttotal: 3.07s\tremaining: 128ms\n",
      "96:\tlearn: 2092.3771663\ttest: 2080.1665367\tbest: 2080.1665367 (96)\ttotal: 3.1s\tremaining: 95.9ms\n",
      "97:\tlearn: 2087.5438173\ttest: 2075.5730632\tbest: 2075.5730632 (97)\ttotal: 3.13s\tremaining: 63.9ms\n",
      "98:\tlearn: 2083.4143230\ttest: 2071.5969822\tbest: 2071.5969822 (98)\ttotal: 3.16s\tremaining: 31.9ms\n",
      "99:\tlearn: 2078.9679702\ttest: 2067.1638378\tbest: 2067.1638378 (99)\ttotal: 3.2s\tremaining: 0us\n",
      "\n",
      "bestTest = 2067.163838\n",
      "bestIteration = 99\n",
      "\n",
      "22:\tloss: 2067.1638378\tbest: 1964.2646944 (17)\ttotal: 1m 5s\tremaining: 11.4s\n",
      "0:\tlearn: 6133.4468446\ttest: 6120.3222410\tbest: 6120.3222410 (0)\ttotal: 34.4ms\tremaining: 3.4s\n",
      "1:\tlearn: 5982.3643063\ttest: 5969.2179698\tbest: 5969.2179698 (1)\ttotal: 68.3ms\tremaining: 3.35s\n",
      "2:\tlearn: 5838.3798264\ttest: 5825.2203257\tbest: 5825.2203257 (2)\ttotal: 98.6ms\tremaining: 3.19s\n",
      "3:\tlearn: 5696.5631820\ttest: 5683.7509579\tbest: 5683.7509579 (3)\ttotal: 131ms\tremaining: 3.15s\n",
      "4:\tlearn: 5559.4436012\ttest: 5546.7178245\tbest: 5546.7178245 (4)\ttotal: 166ms\tremaining: 3.14s\n",
      "5:\tlearn: 5427.8448245\ttest: 5415.2548414\tbest: 5415.2548414 (5)\ttotal: 202ms\tremaining: 3.17s\n",
      "6:\tlearn: 5299.5267673\ttest: 5286.9961069\tbest: 5286.9961069 (6)\ttotal: 234ms\tremaining: 3.1s\n",
      "7:\tlearn: 5177.0480183\ttest: 5164.6956300\tbest: 5164.6956300 (7)\ttotal: 266ms\tremaining: 3.06s\n",
      "8:\tlearn: 5058.4494921\ttest: 5046.3677569\tbest: 5046.3677569 (8)\ttotal: 299ms\tremaining: 3.02s\n",
      "9:\tlearn: 4943.3939600\ttest: 4931.6354202\tbest: 4931.6354202 (9)\ttotal: 334ms\tremaining: 3s\n",
      "10:\tlearn: 4832.6140659\ttest: 4821.3165225\tbest: 4821.3165225 (10)\ttotal: 377ms\tremaining: 3.05s\n",
      "11:\tlearn: 4726.6267927\ttest: 4715.5277132\tbest: 4715.5277132 (11)\ttotal: 409ms\tremaining: 3s\n",
      "12:\tlearn: 4622.6939665\ttest: 4611.6290389\tbest: 4611.6290389 (12)\ttotal: 441ms\tremaining: 2.95s\n",
      "13:\tlearn: 4521.9617554\ttest: 4510.9469376\tbest: 4510.9469376 (13)\ttotal: 473ms\tremaining: 2.91s\n",
      "14:\tlearn: 4426.9902077\ttest: 4416.0113599\tbest: 4416.0113599 (14)\ttotal: 507ms\tremaining: 2.87s\n",
      "15:\tlearn: 4334.4199969\ttest: 4323.5060936\tbest: 4323.5060936 (15)\ttotal: 549ms\tremaining: 2.88s\n",
      "16:\tlearn: 4246.6005787\ttest: 4235.7930988\tbest: 4235.7930988 (16)\ttotal: 589ms\tremaining: 2.87s\n",
      "17:\tlearn: 4159.8357030\ttest: 4149.3154958\tbest: 4149.3154958 (17)\ttotal: 622ms\tremaining: 2.83s\n",
      "18:\tlearn: 4077.1420892\ttest: 4066.5160424\tbest: 4066.5160424 (18)\ttotal: 653ms\tremaining: 2.78s\n",
      "19:\tlearn: 3997.0016261\ttest: 3986.4470846\tbest: 3986.4470846 (19)\ttotal: 684ms\tremaining: 2.73s\n",
      "20:\tlearn: 3918.7728719\ttest: 3908.0342003\tbest: 3908.0342003 (20)\ttotal: 715ms\tremaining: 2.69s\n",
      "21:\tlearn: 3844.6587231\ttest: 3834.1889564\tbest: 3834.1889564 (21)\ttotal: 745ms\tremaining: 2.64s\n",
      "22:\tlearn: 3773.7978811\ttest: 3763.5387453\tbest: 3763.5387453 (22)\ttotal: 783ms\tremaining: 2.62s\n",
      "23:\tlearn: 3705.7943067\ttest: 3695.5050575\tbest: 3695.5050575 (23)\ttotal: 815ms\tremaining: 2.58s\n",
      "24:\tlearn: 3639.7541959\ttest: 3629.6595228\tbest: 3629.6595228 (24)\ttotal: 845ms\tremaining: 2.54s\n",
      "25:\tlearn: 3576.0974259\ttest: 3566.0512947\tbest: 3566.0512947 (25)\ttotal: 874ms\tremaining: 2.49s\n",
      "26:\tlearn: 3515.5821789\ttest: 3505.5031605\tbest: 3505.5031605 (26)\ttotal: 905ms\tremaining: 2.45s\n",
      "27:\tlearn: 3456.3445534\ttest: 3446.2137750\tbest: 3446.2137750 (27)\ttotal: 937ms\tremaining: 2.41s\n",
      "28:\tlearn: 3401.2544857\ttest: 3391.0180799\tbest: 3391.0180799 (28)\ttotal: 974ms\tremaining: 2.38s\n",
      "29:\tlearn: 3347.3561646\ttest: 3337.3329899\tbest: 3337.3329899 (29)\ttotal: 1.01s\tremaining: 2.37s\n",
      "30:\tlearn: 3295.2359423\ttest: 3285.3410124\tbest: 3285.3410124 (30)\ttotal: 1.05s\tremaining: 2.33s\n",
      "31:\tlearn: 3244.6350091\ttest: 3234.7627391\tbest: 3234.7627391 (31)\ttotal: 1.08s\tremaining: 2.3s\n",
      "32:\tlearn: 3195.9361249\ttest: 3186.0065717\tbest: 3186.0065717 (32)\ttotal: 1.12s\tremaining: 2.28s\n",
      "33:\tlearn: 3149.2527584\ttest: 3139.2292108\tbest: 3139.2292108 (33)\ttotal: 1.16s\tremaining: 2.24s\n",
      "34:\tlearn: 3103.6034476\ttest: 3093.4772485\tbest: 3093.4772485 (34)\ttotal: 1.19s\tremaining: 2.2s\n",
      "35:\tlearn: 3061.2131003\ttest: 3051.3252144\tbest: 3051.3252144 (35)\ttotal: 1.22s\tremaining: 2.17s\n",
      "36:\tlearn: 3020.2761376\ttest: 3010.3097966\tbest: 3010.3097966 (36)\ttotal: 1.25s\tremaining: 2.14s\n",
      "37:\tlearn: 2980.6190769\ttest: 2970.7961367\tbest: 2970.7961367 (37)\ttotal: 1.29s\tremaining: 2.1s\n",
      "38:\tlearn: 2942.5823580\ttest: 2932.8661930\tbest: 2932.8661930 (38)\ttotal: 1.32s\tremaining: 2.06s\n",
      "39:\tlearn: 2905.8456170\ttest: 2896.0973246\tbest: 2896.0973246 (39)\ttotal: 1.35s\tremaining: 2.02s\n",
      "40:\tlearn: 2870.4469741\ttest: 2860.5010749\tbest: 2860.5010749 (40)\ttotal: 1.38s\tremaining: 1.98s\n",
      "41:\tlearn: 2835.7543673\ttest: 2825.5112027\tbest: 2825.5112027 (41)\ttotal: 1.41s\tremaining: 1.94s\n",
      "42:\tlearn: 2804.2086170\ttest: 2794.2136715\tbest: 2794.2136715 (42)\ttotal: 1.44s\tremaining: 1.91s\n",
      "43:\tlearn: 2773.6894259\ttest: 2763.6672790\tbest: 2763.6672790 (43)\ttotal: 1.48s\tremaining: 1.88s\n",
      "44:\tlearn: 2743.0157746\ttest: 2733.0227546\tbest: 2733.0227546 (44)\ttotal: 1.51s\tremaining: 1.84s\n",
      "45:\tlearn: 2713.2504139\ttest: 2703.0680106\tbest: 2703.0680106 (45)\ttotal: 1.54s\tremaining: 1.8s\n",
      "46:\tlearn: 2685.7241396\ttest: 2675.5846677\tbest: 2675.5846677 (46)\ttotal: 1.56s\tremaining: 1.76s\n",
      "47:\tlearn: 2658.2695884\ttest: 2647.9482410\tbest: 2647.9482410 (47)\ttotal: 1.59s\tremaining: 1.73s\n",
      "48:\tlearn: 2631.9608572\ttest: 2621.4433959\tbest: 2621.4433959 (48)\ttotal: 1.63s\tremaining: 1.69s\n",
      "49:\tlearn: 2607.2569252\ttest: 2596.7167140\tbest: 2596.7167140 (49)\ttotal: 1.66s\tremaining: 1.66s\n",
      "50:\tlearn: 2583.9808797\ttest: 2573.3723327\tbest: 2573.3723327 (50)\ttotal: 1.7s\tremaining: 1.63s\n",
      "51:\tlearn: 2562.1243846\ttest: 2551.4435086\tbest: 2551.4435086 (51)\ttotal: 1.73s\tremaining: 1.59s\n",
      "52:\tlearn: 2541.0906798\ttest: 2530.3684882\tbest: 2530.3684882 (52)\ttotal: 1.76s\tremaining: 1.56s\n",
      "53:\tlearn: 2520.2135502\ttest: 2509.3065336\tbest: 2509.3065336 (53)\ttotal: 1.79s\tremaining: 1.52s\n",
      "54:\tlearn: 2500.2864637\ttest: 2489.1984351\tbest: 2489.1984351 (54)\ttotal: 1.82s\tremaining: 1.49s\n",
      "55:\tlearn: 2481.2648487\ttest: 2470.0234823\tbest: 2470.0234823 (55)\ttotal: 1.85s\tremaining: 1.45s\n",
      "56:\tlearn: 2463.2528989\ttest: 2451.5843514\tbest: 2451.5843514 (56)\ttotal: 1.88s\tremaining: 1.42s\n",
      "57:\tlearn: 2445.9510999\ttest: 2434.1634938\tbest: 2434.1634938 (57)\ttotal: 1.91s\tremaining: 1.38s\n",
      "58:\tlearn: 2428.8904319\ttest: 2417.1462417\tbest: 2417.1462417 (58)\ttotal: 1.95s\tremaining: 1.35s\n",
      "59:\tlearn: 2412.6364572\ttest: 2400.7457045\tbest: 2400.7457045 (59)\ttotal: 1.98s\tremaining: 1.32s\n",
      "60:\tlearn: 2397.0085336\ttest: 2385.0552271\tbest: 2385.0552271 (60)\ttotal: 2.01s\tremaining: 1.28s\n",
      "61:\tlearn: 2382.7129323\ttest: 2370.7724066\tbest: 2370.7724066 (61)\ttotal: 2.04s\tremaining: 1.25s\n",
      "62:\tlearn: 2368.8770376\ttest: 2356.8783018\tbest: 2356.8783018 (62)\ttotal: 2.07s\tremaining: 1.22s\n",
      "63:\tlearn: 2355.4474658\ttest: 2343.3774482\tbest: 2343.3774482 (63)\ttotal: 2.1s\tremaining: 1.18s\n",
      "64:\tlearn: 2342.8033828\ttest: 2330.6430432\tbest: 2330.6430432 (64)\ttotal: 2.14s\tremaining: 1.15s\n",
      "65:\tlearn: 2330.4354521\ttest: 2318.0952524\tbest: 2318.0952524 (65)\ttotal: 2.17s\tremaining: 1.12s\n",
      "66:\tlearn: 2317.6701377\ttest: 2305.2150764\tbest: 2305.2150764 (66)\ttotal: 2.2s\tremaining: 1.08s\n",
      "67:\tlearn: 2305.7378240\ttest: 2293.0942133\tbest: 2293.0942133 (67)\ttotal: 2.23s\tremaining: 1.05s\n",
      "68:\tlearn: 2294.1881453\ttest: 2281.7879098\tbest: 2281.7879098 (68)\ttotal: 2.26s\tremaining: 1.01s\n",
      "69:\tlearn: 2282.9987108\ttest: 2270.4578181\tbest: 2270.4578181 (69)\ttotal: 2.29s\tremaining: 980ms\n",
      "70:\tlearn: 2270.8956528\ttest: 2258.3439957\tbest: 2258.3439957 (70)\ttotal: 2.32s\tremaining: 947ms\n",
      "71:\tlearn: 2261.0566327\ttest: 2248.2300092\tbest: 2248.2300092 (71)\ttotal: 2.35s\tremaining: 916ms\n",
      "72:\tlearn: 2250.6651477\ttest: 2237.7642730\tbest: 2237.7642730 (72)\ttotal: 2.39s\tremaining: 883ms\n",
      "73:\tlearn: 2240.7033222\ttest: 2227.8333008\tbest: 2227.8333008 (73)\ttotal: 2.42s\tremaining: 849ms\n",
      "74:\tlearn: 2231.9721170\ttest: 2219.1405181\tbest: 2219.1405181 (74)\ttotal: 2.44s\tremaining: 815ms\n",
      "75:\tlearn: 2223.4082527\ttest: 2210.3583073\tbest: 2210.3583073 (75)\ttotal: 2.47s\tremaining: 781ms\n",
      "76:\tlearn: 2215.2655556\ttest: 2202.1068403\tbest: 2202.1068403 (76)\ttotal: 2.5s\tremaining: 748ms\n",
      "77:\tlearn: 2205.8458590\ttest: 2192.5913158\tbest: 2192.5913158 (77)\ttotal: 2.54s\tremaining: 715ms\n",
      "78:\tlearn: 2197.9905738\ttest: 2184.8240211\tbest: 2184.8240211 (78)\ttotal: 2.57s\tremaining: 683ms\n",
      "79:\tlearn: 2190.9438317\ttest: 2177.8794967\tbest: 2177.8794967 (79)\ttotal: 2.6s\tremaining: 651ms\n",
      "80:\tlearn: 2184.0717386\ttest: 2170.9549851\tbest: 2170.9549851 (80)\ttotal: 2.63s\tremaining: 618ms\n",
      "81:\tlearn: 2177.2967719\ttest: 2164.4475922\tbest: 2164.4475922 (81)\ttotal: 2.66s\tremaining: 585ms\n",
      "82:\tlearn: 2170.3159494\ttest: 2157.6507270\tbest: 2157.6507270 (82)\ttotal: 2.69s\tremaining: 552ms\n",
      "83:\tlearn: 2163.5076239\ttest: 2150.9498310\tbest: 2150.9498310 (83)\ttotal: 2.72s\tremaining: 519ms\n",
      "84:\tlearn: 2156.1982548\ttest: 2143.7262332\tbest: 2143.7262332 (84)\ttotal: 2.75s\tremaining: 486ms\n",
      "85:\tlearn: 2150.2279146\ttest: 2138.0486129\tbest: 2138.0486129 (85)\ttotal: 2.79s\tremaining: 453ms\n",
      "86:\tlearn: 2144.6585322\ttest: 2132.4543640\tbest: 2132.4543640 (86)\ttotal: 2.82s\tremaining: 421ms\n",
      "87:\tlearn: 2138.6872615\ttest: 2126.3443980\tbest: 2126.3443980 (87)\ttotal: 2.85s\tremaining: 389ms\n",
      "88:\tlearn: 2131.9474743\ttest: 2119.5880442\tbest: 2119.5880442 (88)\ttotal: 2.88s\tremaining: 356ms\n",
      "89:\tlearn: 2126.0703857\ttest: 2113.4880299\tbest: 2113.4880299 (89)\ttotal: 2.91s\tremaining: 324ms\n",
      "90:\tlearn: 2120.3182396\ttest: 2107.8480939\tbest: 2107.8480939 (90)\ttotal: 2.94s\tremaining: 291ms\n",
      "91:\tlearn: 2115.1978530\ttest: 2102.6668781\tbest: 2102.6668781 (91)\ttotal: 2.97s\tremaining: 259ms\n",
      "92:\tlearn: 2110.5563137\ttest: 2098.0504856\tbest: 2098.0504856 (92)\ttotal: 3.01s\tremaining: 227ms\n",
      "93:\tlearn: 2104.9683949\ttest: 2092.4418670\tbest: 2092.4418670 (93)\ttotal: 3.04s\tremaining: 194ms\n",
      "94:\tlearn: 2100.0958136\ttest: 2087.6211201\tbest: 2087.6211201 (94)\ttotal: 3.07s\tremaining: 162ms\n",
      "95:\tlearn: 2095.3575460\ttest: 2082.9329691\tbest: 2082.9329691 (95)\ttotal: 3.1s\tremaining: 129ms\n",
      "96:\tlearn: 2090.4454312\ttest: 2078.1878607\tbest: 2078.1878607 (96)\ttotal: 3.13s\tremaining: 96.9ms\n",
      "97:\tlearn: 2086.3368890\ttest: 2074.0432815\tbest: 2074.0432815 (97)\ttotal: 3.16s\tremaining: 64.5ms\n",
      "98:\tlearn: 2082.2173158\ttest: 2070.0482978\tbest: 2070.0482978 (98)\ttotal: 3.19s\tremaining: 32.2ms\n",
      "99:\tlearn: 2077.7886296\ttest: 2065.7506798\tbest: 2065.7506798 (99)\ttotal: 3.23s\tremaining: 0us\n",
      "\n",
      "bestTest = 2065.75068\n",
      "bestIteration = 99\n",
      "\n",
      "23:\tloss: 2065.7506798\tbest: 1964.2646944 (17)\ttotal: 1m 8s\tremaining: 8.58s\n",
      "0:\tlearn: 6133.0015375\ttest: 6119.8825675\tbest: 6119.8825675 (0)\ttotal: 33.1ms\tremaining: 6.59s\n",
      "1:\tlearn: 5981.6021931\ttest: 5968.4615561\tbest: 5968.4615561 (1)\ttotal: 63.2ms\tremaining: 6.26s\n",
      "2:\tlearn: 5837.2464425\ttest: 5824.0897201\tbest: 5824.0897201 (2)\ttotal: 93.6ms\tremaining: 6.14s\n",
      "3:\tlearn: 5695.1305244\ttest: 5682.3214886\tbest: 5682.3214886 (3)\ttotal: 123ms\tremaining: 6.04s\n",
      "4:\tlearn: 5560.1556363\ttest: 5547.2021695\tbest: 5547.2021695 (4)\ttotal: 153ms\tremaining: 5.95s\n",
      "5:\tlearn: 5428.0172584\ttest: 5415.2134126\tbest: 5415.2134126 (5)\ttotal: 185ms\tremaining: 5.99s\n",
      "6:\tlearn: 5299.1351448\ttest: 5286.2769231\tbest: 5286.2769231 (6)\ttotal: 218ms\tremaining: 6.02s\n",
      "7:\tlearn: 5176.4349787\ttest: 5163.7610796\tbest: 5163.7610796 (7)\ttotal: 249ms\tremaining: 5.98s\n",
      "8:\tlearn: 5057.3966618\ttest: 5044.9932584\tbest: 5044.9932584 (8)\ttotal: 284ms\tremaining: 6.03s\n",
      "9:\tlearn: 4942.3360648\ttest: 4930.1542578\tbest: 4930.1542578 (9)\ttotal: 316ms\tremaining: 6s\n",
      "10:\tlearn: 4831.2119615\ttest: 4819.5250312\tbest: 4819.5250312 (10)\ttotal: 348ms\tremaining: 5.98s\n",
      "11:\tlearn: 4724.9046872\ttest: 4713.4205891\tbest: 4713.4205891 (11)\ttotal: 379ms\tremaining: 5.94s\n",
      "12:\tlearn: 4621.1770861\ttest: 4609.7261678\tbest: 4609.7261678 (12)\ttotal: 419ms\tremaining: 6.02s\n",
      "13:\tlearn: 4520.2970816\ttest: 4508.8914136\tbest: 4508.8914136 (13)\ttotal: 452ms\tremaining: 6.01s\n",
      "14:\tlearn: 4424.2753748\ttest: 4412.8346214\tbest: 4412.8346214 (14)\ttotal: 484ms\tremaining: 5.97s\n",
      "15:\tlearn: 4331.7976832\ttest: 4320.4188889\tbest: 4320.4188889 (15)\ttotal: 518ms\tremaining: 5.96s\n",
      "16:\tlearn: 4243.3535695\ttest: 4232.0824685\tbest: 4232.0824685 (16)\ttotal: 550ms\tremaining: 5.92s\n",
      "17:\tlearn: 4156.4280993\ttest: 4145.4364355\tbest: 4145.4364355 (17)\ttotal: 581ms\tremaining: 5.87s\n",
      "18:\tlearn: 4073.2913849\ttest: 4062.2058207\tbest: 4062.2058207 (18)\ttotal: 611ms\tremaining: 5.82s\n",
      "19:\tlearn: 3992.8129031\ttest: 3981.9835874\tbest: 3981.9835874 (19)\ttotal: 650ms\tremaining: 5.85s\n",
      "20:\tlearn: 3915.1616294\ttest: 3904.0275071\tbest: 3904.0275071 (20)\ttotal: 687ms\tremaining: 5.85s\n",
      "21:\tlearn: 3840.9754525\ttest: 3830.1189871\tbest: 3830.1189871 (21)\ttotal: 722ms\tremaining: 5.84s\n",
      "22:\tlearn: 3769.2198837\ttest: 3758.7302964\tbest: 3758.7302964 (22)\ttotal: 759ms\tremaining: 5.84s\n",
      "23:\tlearn: 3701.1587240\ttest: 3690.6556431\tbest: 3690.6556431 (23)\ttotal: 790ms\tremaining: 5.79s\n",
      "24:\tlearn: 3635.0800669\ttest: 3624.7989426\tbest: 3624.7989426 (24)\ttotal: 821ms\tremaining: 5.74s\n",
      "25:\tlearn: 3572.0413037\ttest: 3561.8838008\tbest: 3561.8838008 (25)\ttotal: 850ms\tremaining: 5.69s\n",
      "26:\tlearn: 3511.7940330\ttest: 3501.7402715\tbest: 3501.7402715 (26)\ttotal: 889ms\tremaining: 5.69s\n",
      "27:\tlearn: 3453.6175355\ttest: 3443.6180000\tbest: 3443.6180000 (27)\ttotal: 921ms\tremaining: 5.66s\n",
      "28:\tlearn: 3397.6979289\ttest: 3387.5149809\tbest: 3387.5149809 (28)\ttotal: 951ms\tremaining: 5.61s\n",
      "29:\tlearn: 3343.5956690\ttest: 3333.3794408\tbest: 3333.3794408 (29)\ttotal: 982ms\tremaining: 5.56s\n",
      "30:\tlearn: 3291.2055580\ttest: 3280.9318457\tbest: 3280.9318457 (30)\ttotal: 1.01s\tremaining: 5.52s\n",
      "31:\tlearn: 3240.4373541\ttest: 3230.1140912\tbest: 3230.1140912 (31)\ttotal: 1.05s\tremaining: 5.5s\n",
      "32:\tlearn: 3192.5238461\ttest: 3182.4378661\tbest: 3182.4378661 (32)\ttotal: 1.08s\tremaining: 5.46s\n",
      "33:\tlearn: 3146.2464746\ttest: 3136.2341879\tbest: 3136.2341879 (33)\ttotal: 1.12s\tremaining: 5.46s\n",
      "34:\tlearn: 3100.5671806\ttest: 3090.4413797\tbest: 3090.4413797 (34)\ttotal: 1.15s\tremaining: 5.42s\n",
      "35:\tlearn: 3058.5547871\ttest: 3048.3166835\tbest: 3048.3166835 (35)\ttotal: 1.18s\tremaining: 5.37s\n",
      "36:\tlearn: 3016.9308635\ttest: 3006.5877616\tbest: 3006.5877616 (36)\ttotal: 1.21s\tremaining: 5.33s\n",
      "37:\tlearn: 2977.2715442\ttest: 2967.0136880\tbest: 2967.0136880 (37)\ttotal: 1.24s\tremaining: 5.29s\n",
      "38:\tlearn: 2939.0181939\ttest: 2928.8188126\tbest: 2928.8188126 (38)\ttotal: 1.27s\tremaining: 5.26s\n",
      "39:\tlearn: 2902.3558140\ttest: 2892.1381280\tbest: 2892.1381280 (39)\ttotal: 1.3s\tremaining: 5.22s\n",
      "40:\tlearn: 2866.5712796\ttest: 2856.2042687\tbest: 2856.2042687 (40)\ttotal: 1.34s\tremaining: 5.2s\n",
      "41:\tlearn: 2831.9963040\ttest: 2821.3951985\tbest: 2821.3951985 (41)\ttotal: 1.37s\tremaining: 5.17s\n",
      "42:\tlearn: 2800.2114887\ttest: 2789.8676041\tbest: 2789.8676041 (42)\ttotal: 1.41s\tremaining: 5.13s\n",
      "43:\tlearn: 2770.1014163\ttest: 2759.8141652\tbest: 2759.8141652 (43)\ttotal: 1.43s\tremaining: 5.08s\n",
      "44:\tlearn: 2740.0173675\ttest: 2729.6262934\tbest: 2729.6262934 (44)\ttotal: 1.46s\tremaining: 5.04s\n",
      "45:\tlearn: 2710.4194799\ttest: 2699.8408878\tbest: 2699.8408878 (45)\ttotal: 1.49s\tremaining: 5s\n",
      "46:\tlearn: 2683.1854345\ttest: 2672.6357001\tbest: 2672.6357001 (46)\ttotal: 1.52s\tremaining: 4.96s\n",
      "47:\tlearn: 2655.7154872\ttest: 2644.9882010\tbest: 2644.9882010 (47)\ttotal: 1.56s\tremaining: 4.95s\n",
      "48:\tlearn: 2629.7924331\ttest: 2618.9694667\tbest: 2618.9694667 (48)\ttotal: 1.6s\tremaining: 4.93s\n",
      "49:\tlearn: 2604.9526530\ttest: 2594.1112308\tbest: 2594.1112308 (49)\ttotal: 1.63s\tremaining: 4.89s\n",
      "50:\tlearn: 2581.9979049\ttest: 2571.2820864\tbest: 2571.2820864 (50)\ttotal: 1.66s\tremaining: 4.85s\n",
      "51:\tlearn: 2560.0272786\ttest: 2549.1180175\tbest: 2549.1180175 (51)\ttotal: 1.69s\tremaining: 4.81s\n",
      "52:\tlearn: 2538.5603428\ttest: 2527.6103305\tbest: 2527.6103305 (52)\ttotal: 1.72s\tremaining: 4.77s\n",
      "53:\tlearn: 2517.9098227\ttest: 2506.8399483\tbest: 2506.8399483 (53)\ttotal: 1.75s\tremaining: 4.74s\n",
      "54:\tlearn: 2498.0845991\ttest: 2486.9383065\tbest: 2486.9383065 (54)\ttotal: 1.79s\tremaining: 4.71s\n",
      "55:\tlearn: 2478.6123535\ttest: 2467.2893203\tbest: 2467.2893203 (55)\ttotal: 1.82s\tremaining: 4.68s\n",
      "56:\tlearn: 2460.0689641\ttest: 2448.7399463\tbest: 2448.7399463 (56)\ttotal: 1.85s\tremaining: 4.65s\n",
      "57:\tlearn: 2442.7684517\ttest: 2431.4020738\tbest: 2431.4020738 (57)\ttotal: 1.88s\tremaining: 4.61s\n",
      "58:\tlearn: 2425.6211814\ttest: 2414.2381780\tbest: 2414.2381780 (58)\ttotal: 1.91s\tremaining: 4.57s\n",
      "59:\tlearn: 2409.1806917\ttest: 2397.7537361\tbest: 2397.7537361 (59)\ttotal: 1.94s\tremaining: 4.53s\n",
      "60:\tlearn: 2393.8967640\ttest: 2382.5101182\tbest: 2382.5101182 (60)\ttotal: 1.97s\tremaining: 4.49s\n",
      "61:\tlearn: 2379.2407188\ttest: 2367.6826975\tbest: 2367.6826975 (61)\ttotal: 2.01s\tremaining: 4.47s\n",
      "62:\tlearn: 2365.1746005\ttest: 2353.5801506\tbest: 2353.5801506 (62)\ttotal: 2.04s\tremaining: 4.43s\n",
      "63:\tlearn: 2351.3626822\ttest: 2339.7851242\tbest: 2339.7851242 (63)\ttotal: 2.07s\tremaining: 4.4s\n",
      "64:\tlearn: 2338.6640095\ttest: 2327.0259029\tbest: 2327.0259029 (64)\ttotal: 2.1s\tremaining: 4.36s\n",
      "65:\tlearn: 2325.9479555\ttest: 2314.4379811\tbest: 2314.4379811 (65)\ttotal: 2.13s\tremaining: 4.33s\n",
      "66:\tlearn: 2312.9915942\ttest: 2301.4849822\tbest: 2301.4849822 (66)\ttotal: 2.17s\tremaining: 4.31s\n",
      "67:\tlearn: 2300.3609128\ttest: 2288.8624474\tbest: 2288.8624474 (67)\ttotal: 2.21s\tremaining: 4.29s\n",
      "68:\tlearn: 2289.3081981\ttest: 2277.8396465\tbest: 2277.8396465 (68)\ttotal: 2.25s\tremaining: 4.28s\n",
      "69:\tlearn: 2277.9859817\ttest: 2266.3330302\tbest: 2266.3330302 (69)\ttotal: 2.29s\tremaining: 4.26s\n",
      "70:\tlearn: 2267.3776615\ttest: 2255.7257481\tbest: 2255.7257481 (70)\ttotal: 2.33s\tremaining: 4.23s\n",
      "71:\tlearn: 2257.5832923\ttest: 2245.6738916\tbest: 2245.6738916 (71)\ttotal: 2.36s\tremaining: 4.2s\n",
      "72:\tlearn: 2247.2719790\ttest: 2235.3018027\tbest: 2235.3018027 (72)\ttotal: 2.39s\tremaining: 4.17s\n",
      "73:\tlearn: 2237.1906537\ttest: 2225.2484532\tbest: 2225.2484532 (73)\ttotal: 2.44s\tremaining: 4.16s\n",
      "74:\tlearn: 2228.3079718\ttest: 2216.5265015\tbest: 2216.5265015 (74)\ttotal: 2.47s\tremaining: 4.12s\n",
      "75:\tlearn: 2219.5022676\ttest: 2207.5344193\tbest: 2207.5344193 (75)\ttotal: 2.51s\tremaining: 4.09s\n",
      "76:\tlearn: 2211.6769931\ttest: 2199.8257231\tbest: 2199.8257231 (76)\ttotal: 2.54s\tremaining: 4.05s\n",
      "77:\tlearn: 2202.2951598\ttest: 2190.3685264\tbest: 2190.3685264 (77)\ttotal: 2.57s\tremaining: 4.02s\n",
      "78:\tlearn: 2195.3145653\ttest: 2183.3699669\tbest: 2183.3699669 (78)\ttotal: 2.6s\tremaining: 3.98s\n",
      "79:\tlearn: 2187.4613234\ttest: 2175.3181627\tbest: 2175.3181627 (79)\ttotal: 2.64s\tremaining: 3.96s\n",
      "80:\tlearn: 2179.5536864\ttest: 2167.6304070\tbest: 2167.6304070 (80)\ttotal: 2.68s\tremaining: 3.93s\n",
      "81:\tlearn: 2171.7389592\ttest: 2159.9050284\tbest: 2159.9050284 (81)\ttotal: 2.71s\tremaining: 3.9s\n",
      "82:\tlearn: 2164.7088498\ttest: 2152.9829310\tbest: 2152.9829310 (82)\ttotal: 2.75s\tremaining: 3.88s\n",
      "83:\tlearn: 2157.7210253\ttest: 2146.0387529\tbest: 2146.0387529 (83)\ttotal: 2.78s\tremaining: 3.85s\n",
      "84:\tlearn: 2151.2646762\ttest: 2139.5700554\tbest: 2139.5700554 (84)\ttotal: 2.81s\tremaining: 3.81s\n",
      "85:\tlearn: 2145.1792921\ttest: 2133.7987728\tbest: 2133.7987728 (85)\ttotal: 2.85s\tremaining: 3.77s\n",
      "86:\tlearn: 2139.1556105\ttest: 2127.6414492\tbest: 2127.6414492 (86)\ttotal: 2.89s\tremaining: 3.75s\n",
      "87:\tlearn: 2133.4192485\ttest: 2121.9142687\tbest: 2121.9142687 (87)\ttotal: 2.92s\tremaining: 3.71s\n",
      "88:\tlearn: 2127.3182932\ttest: 2115.9695170\tbest: 2115.9695170 (88)\ttotal: 2.95s\tremaining: 3.68s\n",
      "89:\tlearn: 2121.8375284\ttest: 2110.4492167\tbest: 2110.4492167 (89)\ttotal: 2.98s\tremaining: 3.65s\n",
      "90:\tlearn: 2116.8377611\ttest: 2105.5504423\tbest: 2105.5504423 (90)\ttotal: 3.01s\tremaining: 3.61s\n",
      "91:\tlearn: 2112.2837078\ttest: 2101.0844872\tbest: 2101.0844872 (91)\ttotal: 3.04s\tremaining: 3.57s\n",
      "92:\tlearn: 2107.6157546\ttest: 2096.4852455\tbest: 2096.4852455 (92)\ttotal: 3.08s\tremaining: 3.55s\n",
      "93:\tlearn: 2101.9638965\ttest: 2090.8035364\tbest: 2090.8035364 (93)\ttotal: 3.12s\tremaining: 3.52s\n",
      "94:\tlearn: 2097.6135016\ttest: 2086.6007519\tbest: 2086.6007519 (94)\ttotal: 3.16s\tremaining: 3.49s\n",
      "95:\tlearn: 2092.6279519\ttest: 2081.5274643\tbest: 2081.5274643 (95)\ttotal: 3.19s\tremaining: 3.46s\n",
      "96:\tlearn: 2087.7098472\ttest: 2076.4301286\tbest: 2076.4301286 (96)\ttotal: 3.22s\tremaining: 3.42s\n",
      "97:\tlearn: 2083.3826482\ttest: 2072.2285260\tbest: 2072.2285260 (97)\ttotal: 3.25s\tremaining: 3.38s\n",
      "98:\tlearn: 2079.3046373\ttest: 2068.2671523\tbest: 2068.2671523 (98)\ttotal: 3.28s\tremaining: 3.35s\n",
      "99:\tlearn: 2075.6812750\ttest: 2064.7668463\tbest: 2064.7668463 (99)\ttotal: 3.32s\tremaining: 3.32s\n",
      "100:\tlearn: 2070.5867552\ttest: 2059.5998077\tbest: 2059.5998077 (100)\ttotal: 3.35s\tremaining: 3.29s\n",
      "101:\tlearn: 2066.5022552\ttest: 2055.5318266\tbest: 2055.5318266 (101)\ttotal: 3.39s\tremaining: 3.26s\n",
      "102:\tlearn: 2062.1776417\ttest: 2051.1215391\tbest: 2051.1215391 (102)\ttotal: 3.42s\tremaining: 3.22s\n",
      "103:\tlearn: 2058.1631886\ttest: 2047.0699456\tbest: 2047.0699456 (103)\ttotal: 3.45s\tremaining: 3.19s\n",
      "104:\tlearn: 2054.5595939\ttest: 2043.4508362\tbest: 2043.4508362 (104)\ttotal: 3.49s\tremaining: 3.15s\n",
      "105:\tlearn: 2051.6186754\ttest: 2040.5772426\tbest: 2040.5772426 (105)\ttotal: 3.52s\tremaining: 3.12s\n",
      "106:\tlearn: 2048.8205517\ttest: 2037.8839065\tbest: 2037.8839065 (106)\ttotal: 3.55s\tremaining: 3.09s\n",
      "107:\tlearn: 2045.5351582\ttest: 2034.6406569\tbest: 2034.6406569 (107)\ttotal: 3.59s\tremaining: 3.06s\n",
      "108:\tlearn: 2042.1892916\ttest: 2031.3567719\tbest: 2031.3567719 (108)\ttotal: 3.62s\tremaining: 3.02s\n",
      "109:\tlearn: 2039.2046015\ttest: 2028.4911678\tbest: 2028.4911678 (109)\ttotal: 3.65s\tremaining: 2.99s\n",
      "110:\tlearn: 2036.4448581\ttest: 2025.8248574\tbest: 2025.8248574 (110)\ttotal: 3.69s\tremaining: 2.96s\n",
      "111:\tlearn: 2033.5287318\ttest: 2022.9469983\tbest: 2022.9469983 (111)\ttotal: 3.74s\tremaining: 2.94s\n",
      "112:\tlearn: 2030.8888729\ttest: 2020.4328433\tbest: 2020.4328433 (112)\ttotal: 3.78s\tremaining: 2.91s\n",
      "113:\tlearn: 2028.2035283\ttest: 2017.8129755\tbest: 2017.8129755 (113)\ttotal: 3.81s\tremaining: 2.87s\n",
      "114:\tlearn: 2024.9261670\ttest: 2014.5842794\tbest: 2014.5842794 (114)\ttotal: 3.84s\tremaining: 2.84s\n",
      "115:\tlearn: 2021.8837052\ttest: 2011.7082605\tbest: 2011.7082605 (115)\ttotal: 3.87s\tremaining: 2.81s\n",
      "116:\tlearn: 2019.6683421\ttest: 2009.5504789\tbest: 2009.5504789 (116)\ttotal: 3.9s\tremaining: 2.77s\n",
      "117:\tlearn: 2016.8495762\ttest: 2006.7297167\tbest: 2006.7297167 (117)\ttotal: 3.94s\tremaining: 2.74s\n",
      "118:\tlearn: 2013.8609172\ttest: 2003.6408131\tbest: 2003.6408131 (118)\ttotal: 3.98s\tremaining: 2.71s\n",
      "119:\tlearn: 2011.0493014\ttest: 2000.8618133\tbest: 2000.8618133 (119)\ttotal: 4.01s\tremaining: 2.67s\n",
      "120:\tlearn: 2008.6718842\ttest: 1998.5309116\tbest: 1998.5309116 (120)\ttotal: 4.04s\tremaining: 2.64s\n",
      "121:\tlearn: 2006.6900871\ttest: 1996.6142277\tbest: 1996.6142277 (121)\ttotal: 4.08s\tremaining: 2.61s\n",
      "122:\tlearn: 2003.7802871\ttest: 1993.8505209\tbest: 1993.8505209 (122)\ttotal: 4.11s\tremaining: 2.57s\n",
      "123:\tlearn: 2001.0331583\ttest: 1991.1258393\tbest: 1991.1258393 (123)\ttotal: 4.14s\tremaining: 2.54s\n",
      "124:\tlearn: 1999.2650172\ttest: 1989.4728659\tbest: 1989.4728659 (124)\ttotal: 4.18s\tremaining: 2.51s\n",
      "125:\tlearn: 1997.0056287\ttest: 1987.2398852\tbest: 1987.2398852 (125)\ttotal: 4.21s\tremaining: 2.47s\n",
      "126:\tlearn: 1995.0951466\ttest: 1985.4108048\tbest: 1985.4108048 (126)\ttotal: 4.24s\tremaining: 2.44s\n",
      "127:\tlearn: 1992.1267523\ttest: 1982.4789057\tbest: 1982.4789057 (127)\ttotal: 4.27s\tremaining: 2.4s\n",
      "128:\tlearn: 1990.1305275\ttest: 1980.8623248\tbest: 1980.8623248 (128)\ttotal: 4.3s\tremaining: 2.37s\n",
      "129:\tlearn: 1987.8493310\ttest: 1978.5376806\tbest: 1978.5376806 (129)\ttotal: 4.33s\tremaining: 2.33s\n",
      "130:\tlearn: 1985.8042278\ttest: 1976.4772260\tbest: 1976.4772260 (130)\ttotal: 4.37s\tremaining: 2.3s\n",
      "131:\tlearn: 1983.7122619\ttest: 1974.3749413\tbest: 1974.3749413 (131)\ttotal: 4.4s\tremaining: 2.27s\n",
      "132:\tlearn: 1982.0237247\ttest: 1972.9171848\tbest: 1972.9171848 (132)\ttotal: 4.43s\tremaining: 2.23s\n",
      "133:\tlearn: 1980.2050945\ttest: 1971.2588086\tbest: 1971.2588086 (133)\ttotal: 4.47s\tremaining: 2.2s\n",
      "134:\tlearn: 1978.2294027\ttest: 1969.3925673\tbest: 1969.3925673 (134)\ttotal: 4.5s\tremaining: 2.17s\n",
      "135:\tlearn: 1976.4400863\ttest: 1967.9031554\tbest: 1967.9031554 (135)\ttotal: 4.54s\tremaining: 2.14s\n",
      "136:\tlearn: 1974.0444302\ttest: 1965.5458263\tbest: 1965.5458263 (136)\ttotal: 4.58s\tremaining: 2.1s\n",
      "137:\tlearn: 1972.2811990\ttest: 1963.7873016\tbest: 1963.7873016 (137)\ttotal: 4.61s\tremaining: 2.07s\n",
      "138:\tlearn: 1970.7896550\ttest: 1962.3246135\tbest: 1962.3246135 (138)\ttotal: 4.64s\tremaining: 2.04s\n",
      "139:\tlearn: 1969.0820516\ttest: 1960.9233358\tbest: 1960.9233358 (139)\ttotal: 4.68s\tremaining: 2s\n",
      "140:\tlearn: 1967.3247425\ttest: 1959.1869444\tbest: 1959.1869444 (140)\ttotal: 4.71s\tremaining: 1.97s\n",
      "141:\tlearn: 1965.3663403\ttest: 1957.3170357\tbest: 1957.3170357 (141)\ttotal: 4.75s\tremaining: 1.94s\n",
      "142:\tlearn: 1963.7202553\ttest: 1955.8256779\tbest: 1955.8256779 (142)\ttotal: 4.78s\tremaining: 1.9s\n",
      "143:\tlearn: 1961.9996759\ttest: 1954.0808460\tbest: 1954.0808460 (143)\ttotal: 4.81s\tremaining: 1.87s\n",
      "144:\tlearn: 1960.4306717\ttest: 1952.6028071\tbest: 1952.6028071 (144)\ttotal: 4.85s\tremaining: 1.84s\n",
      "145:\tlearn: 1958.7013333\ttest: 1951.1773544\tbest: 1951.1773544 (145)\ttotal: 4.88s\tremaining: 1.8s\n",
      "146:\tlearn: 1956.8961719\ttest: 1949.4740253\tbest: 1949.4740253 (146)\ttotal: 4.91s\tremaining: 1.77s\n",
      "147:\tlearn: 1955.8750187\ttest: 1948.5440644\tbest: 1948.5440644 (147)\ttotal: 4.95s\tremaining: 1.74s\n",
      "148:\tlearn: 1954.3020234\ttest: 1947.1118216\tbest: 1947.1118216 (148)\ttotal: 4.98s\tremaining: 1.7s\n",
      "149:\tlearn: 1952.7214446\ttest: 1945.6415837\tbest: 1945.6415837 (149)\ttotal: 5s\tremaining: 1.67s\n",
      "150:\tlearn: 1951.3489662\ttest: 1944.3055224\tbest: 1944.3055224 (150)\ttotal: 5.04s\tremaining: 1.63s\n",
      "151:\tlearn: 1949.8171951\ttest: 1942.7635683\tbest: 1942.7635683 (151)\ttotal: 5.08s\tremaining: 1.6s\n",
      "152:\tlearn: 1948.5474780\ttest: 1941.6139364\tbest: 1941.6139364 (152)\ttotal: 5.11s\tremaining: 1.57s\n",
      "153:\tlearn: 1947.1066623\ttest: 1940.3867541\tbest: 1940.3867541 (153)\ttotal: 5.14s\tremaining: 1.53s\n",
      "154:\tlearn: 1945.4371288\ttest: 1938.8277834\tbest: 1938.8277834 (154)\ttotal: 5.17s\tremaining: 1.5s\n",
      "155:\tlearn: 1944.3859871\ttest: 1937.8261007\tbest: 1937.8261007 (155)\ttotal: 5.2s\tremaining: 1.47s\n",
      "156:\tlearn: 1943.0367436\ttest: 1936.4937838\tbest: 1936.4937838 (156)\ttotal: 5.23s\tremaining: 1.43s\n",
      "157:\tlearn: 1941.6246294\ttest: 1935.2154506\tbest: 1935.2154506 (157)\ttotal: 5.27s\tremaining: 1.4s\n",
      "158:\tlearn: 1940.2783018\ttest: 1934.0067039\tbest: 1934.0067039 (158)\ttotal: 5.31s\tremaining: 1.37s\n",
      "159:\tlearn: 1939.1926781\ttest: 1933.0387125\tbest: 1933.0387125 (159)\ttotal: 5.34s\tremaining: 1.33s\n",
      "160:\tlearn: 1938.0122757\ttest: 1932.0099149\tbest: 1932.0099149 (160)\ttotal: 5.37s\tremaining: 1.3s\n",
      "161:\tlearn: 1936.4707345\ttest: 1930.5647640\tbest: 1930.5647640 (161)\ttotal: 5.4s\tremaining: 1.27s\n",
      "162:\tlearn: 1935.5015377\ttest: 1929.6585892\tbest: 1929.6585892 (162)\ttotal: 5.43s\tremaining: 1.23s\n",
      "163:\tlearn: 1934.3114877\ttest: 1928.5151234\tbest: 1928.5151234 (163)\ttotal: 5.46s\tremaining: 1.2s\n",
      "164:\tlearn: 1933.2786771\ttest: 1927.6059839\tbest: 1927.6059839 (164)\ttotal: 5.49s\tremaining: 1.17s\n",
      "165:\tlearn: 1932.0674689\ttest: 1926.4321216\tbest: 1926.4321216 (165)\ttotal: 5.53s\tremaining: 1.13s\n",
      "166:\tlearn: 1930.7114824\ttest: 1925.1894314\tbest: 1925.1894314 (166)\ttotal: 5.56s\tremaining: 1.1s\n",
      "167:\tlearn: 1929.6768203\ttest: 1924.4156103\tbest: 1924.4156103 (167)\ttotal: 5.59s\tremaining: 1.06s\n",
      "168:\tlearn: 1928.1520402\ttest: 1922.9881515\tbest: 1922.9881515 (168)\ttotal: 5.63s\tremaining: 1.03s\n",
      "169:\tlearn: 1926.1667830\ttest: 1921.0810159\tbest: 1921.0810159 (169)\ttotal: 5.66s\tremaining: 999ms\n",
      "170:\tlearn: 1924.6313276\ttest: 1919.5402304\tbest: 1919.5402304 (170)\ttotal: 5.69s\tremaining: 965ms\n",
      "171:\tlearn: 1923.4529572\ttest: 1918.6770736\tbest: 1918.6770736 (171)\ttotal: 5.72s\tremaining: 932ms\n",
      "172:\tlearn: 1922.2710795\ttest: 1917.5102456\tbest: 1917.5102456 (172)\ttotal: 5.76s\tremaining: 900ms\n",
      "173:\tlearn: 1920.8311119\ttest: 1916.2515786\tbest: 1916.2515786 (173)\ttotal: 5.8s\tremaining: 866ms\n",
      "174:\tlearn: 1920.1057107\ttest: 1915.5788188\tbest: 1915.5788188 (174)\ttotal: 5.83s\tremaining: 833ms\n",
      "175:\tlearn: 1919.0396947\ttest: 1914.7794444\tbest: 1914.7794444 (175)\ttotal: 5.86s\tremaining: 799ms\n",
      "176:\tlearn: 1917.8869251\ttest: 1913.8227084\tbest: 1913.8227084 (176)\ttotal: 5.89s\tremaining: 765ms\n",
      "177:\tlearn: 1916.4869455\ttest: 1912.3428888\tbest: 1912.3428888 (177)\ttotal: 5.92s\tremaining: 732ms\n",
      "178:\tlearn: 1915.3206351\ttest: 1911.2749232\tbest: 1911.2749232 (178)\ttotal: 5.96s\tremaining: 699ms\n",
      "179:\tlearn: 1914.2665625\ttest: 1910.3030148\tbest: 1910.3030148 (179)\ttotal: 5.99s\tremaining: 665ms\n",
      "180:\tlearn: 1913.1197951\ttest: 1909.3895764\tbest: 1909.3895764 (180)\ttotal: 6.02s\tremaining: 632ms\n",
      "181:\tlearn: 1912.0235886\ttest: 1908.2867381\tbest: 1908.2867381 (181)\ttotal: 6.06s\tremaining: 599ms\n",
      "182:\tlearn: 1911.2831322\ttest: 1907.7345485\tbest: 1907.7345485 (182)\ttotal: 6.08s\tremaining: 565ms\n",
      "183:\tlearn: 1910.3537707\ttest: 1906.8996251\tbest: 1906.8996251 (183)\ttotal: 6.11s\tremaining: 532ms\n",
      "184:\tlearn: 1909.2947017\ttest: 1905.9053113\tbest: 1905.9053113 (184)\ttotal: 6.14s\tremaining: 498ms\n",
      "185:\tlearn: 1908.4887673\ttest: 1905.2854699\tbest: 1905.2854699 (185)\ttotal: 6.17s\tremaining: 464ms\n",
      "186:\tlearn: 1907.8158596\ttest: 1904.6671168\tbest: 1904.6671168 (186)\ttotal: 6.21s\tremaining: 432ms\n",
      "187:\tlearn: 1906.9828937\ttest: 1904.0079108\tbest: 1904.0079108 (187)\ttotal: 6.24s\tremaining: 399ms\n",
      "188:\tlearn: 1905.9090008\ttest: 1903.0528232\tbest: 1903.0528232 (188)\ttotal: 6.27s\tremaining: 365ms\n",
      "189:\tlearn: 1904.8737094\ttest: 1902.1224540\tbest: 1902.1224540 (189)\ttotal: 6.31s\tremaining: 332ms\n",
      "190:\tlearn: 1903.7789194\ttest: 1901.0354736\tbest: 1901.0354736 (190)\ttotal: 6.34s\tremaining: 299ms\n",
      "191:\tlearn: 1903.1216946\ttest: 1900.5855421\tbest: 1900.5855421 (191)\ttotal: 6.37s\tremaining: 265ms\n",
      "192:\tlearn: 1902.7617132\ttest: 1900.2594461\tbest: 1900.2594461 (192)\ttotal: 6.4s\tremaining: 232ms\n",
      "193:\tlearn: 1902.0570041\ttest: 1899.7472957\tbest: 1899.7472957 (193)\ttotal: 6.43s\tremaining: 199ms\n",
      "194:\tlearn: 1901.3476396\ttest: 1899.1481598\tbest: 1899.1481598 (194)\ttotal: 6.46s\tremaining: 166ms\n",
      "195:\tlearn: 1900.4538357\ttest: 1898.3046136\tbest: 1898.3046136 (195)\ttotal: 6.49s\tremaining: 132ms\n",
      "196:\tlearn: 1899.6128297\ttest: 1897.5520004\tbest: 1897.5520004 (196)\ttotal: 6.52s\tremaining: 99.3ms\n",
      "197:\tlearn: 1899.0024953\ttest: 1896.9756818\tbest: 1896.9756818 (197)\ttotal: 6.55s\tremaining: 66.1ms\n",
      "198:\tlearn: 1897.7967965\ttest: 1895.8120279\tbest: 1895.8120279 (198)\ttotal: 6.58s\tremaining: 33ms\n",
      "199:\tlearn: 1896.6644765\ttest: 1894.8509584\tbest: 1894.8509584 (199)\ttotal: 6.6s\tremaining: 0us\n",
      "\n",
      "bestTest = 1894.850958\n",
      "bestIteration = 199\n",
      "\n",
      "24:\tloss: 1894.8509584\tbest: 1894.8509584 (24)\ttotal: 1m 15s\tremaining: 6.02s\n",
      "0:\tlearn: 6133.2262928\ttest: 6120.1044397\tbest: 6120.1044397 (0)\ttotal: 34.6ms\tremaining: 6.89s\n",
      "1:\tlearn: 5981.9864546\ttest: 5968.8431255\tbest: 5968.8431255 (1)\ttotal: 66.3ms\tremaining: 6.56s\n",
      "2:\tlearn: 5837.8180137\ttest: 5824.6599607\tbest: 5824.6599607 (2)\ttotal: 98ms\tremaining: 6.44s\n",
      "3:\tlearn: 5695.8530002\ttest: 5683.0423811\tbest: 5683.0423811 (3)\ttotal: 129ms\tremaining: 6.32s\n",
      "4:\tlearn: 5560.9032762\ttest: 5547.9486585\tbest: 5547.9486585 (4)\ttotal: 159ms\tremaining: 6.2s\n",
      "5:\tlearn: 5428.9999587\ttest: 5416.1893727\tbest: 5416.1893727 (5)\ttotal: 200ms\tremaining: 6.47s\n",
      "6:\tlearn: 5300.2149452\ttest: 5287.3505789\tbest: 5287.3505789 (6)\ttotal: 233ms\tremaining: 6.42s\n",
      "7:\tlearn: 5177.6315778\ttest: 5164.9492493\tbest: 5164.9492493 (7)\ttotal: 263ms\tremaining: 6.32s\n",
      "8:\tlearn: 5058.8390163\ttest: 5046.4260608\tbest: 5046.4260608 (8)\ttotal: 296ms\tremaining: 6.28s\n",
      "9:\tlearn: 4943.9436418\ttest: 4931.7425857\tbest: 4931.7425857 (9)\ttotal: 328ms\tremaining: 6.24s\n",
      "10:\tlearn: 4832.9511527\ttest: 4821.2444870\tbest: 4821.2444870 (10)\ttotal: 359ms\tremaining: 6.16s\n",
      "11:\tlearn: 4726.7317575\ttest: 4715.2274744\tbest: 4715.2274744 (11)\ttotal: 390ms\tremaining: 6.11s\n",
      "12:\tlearn: 4622.9809493\ttest: 4611.5100678\tbest: 4611.5100678 (12)\ttotal: 444ms\tremaining: 6.39s\n",
      "13:\tlearn: 4522.1331491\ttest: 4510.7099171\tbest: 4510.7099171 (13)\ttotal: 517ms\tremaining: 6.87s\n",
      "14:\tlearn: 4426.0978005\ttest: 4414.6393135\tbest: 4414.6393135 (14)\ttotal: 585ms\tremaining: 7.21s\n",
      "15:\tlearn: 4333.6284161\ttest: 4322.2317674\tbest: 4322.2317674 (15)\ttotal: 651ms\tremaining: 7.48s\n",
      "16:\tlearn: 4245.2370281\ttest: 4233.9476993\tbest: 4233.9476993 (16)\ttotal: 733ms\tremaining: 7.89s\n",
      "17:\tlearn: 4158.3773484\ttest: 4147.3712660\tbest: 4147.3712660 (17)\ttotal: 771ms\tremaining: 7.8s\n",
      "18:\tlearn: 4075.3129383\ttest: 4064.2179978\tbest: 4064.2179978 (18)\ttotal: 804ms\tremaining: 7.66s\n",
      "19:\tlearn: 3994.8722088\ttest: 3984.0322595\tbest: 3984.0322595 (19)\ttotal: 837ms\tremaining: 7.54s\n",
      "20:\tlearn: 3917.2223803\ttest: 3906.0761457\tbest: 3906.0761457 (20)\ttotal: 880ms\tremaining: 7.5s\n",
      "21:\tlearn: 3843.0781746\ttest: 3832.2084827\tbest: 3832.2084827 (21)\ttotal: 918ms\tremaining: 7.43s\n",
      "22:\tlearn: 3771.3556304\ttest: 3760.8534651\tbest: 3760.8534651 (22)\ttotal: 968ms\tremaining: 7.45s\n",
      "23:\tlearn: 3703.3157501\ttest: 3692.8010543\tbest: 3692.8010543 (23)\ttotal: 1.04s\tremaining: 7.65s\n",
      "24:\tlearn: 3637.4265348\ttest: 3627.1165028\tbest: 3627.1165028 (24)\ttotal: 1.12s\tremaining: 7.84s\n",
      "25:\tlearn: 3574.4268864\ttest: 3564.2355429\tbest: 3564.2355429 (25)\ttotal: 1.16s\tremaining: 7.77s\n",
      "26:\tlearn: 3514.1574318\ttest: 3504.0700069\tbest: 3504.0700069 (26)\ttotal: 1.2s\tremaining: 7.71s\n",
      "27:\tlearn: 3456.0069266\ttest: 3445.9688006\tbest: 3445.9688006 (27)\ttotal: 1.25s\tremaining: 7.68s\n",
      "28:\tlearn: 3400.2141950\ttest: 3389.9947148\tbest: 3389.9947148 (28)\ttotal: 1.28s\tremaining: 7.58s\n",
      "29:\tlearn: 3346.0838655\ttest: 3335.8307304\tbest: 3335.8307304 (29)\ttotal: 1.32s\tremaining: 7.48s\n",
      "30:\tlearn: 3294.0874320\ttest: 3284.0389529\tbest: 3284.0389529 (30)\ttotal: 1.36s\tremaining: 7.4s\n",
      "31:\tlearn: 3243.4387628\ttest: 3233.3393614\tbest: 3233.3393614 (31)\ttotal: 1.39s\tremaining: 7.32s\n",
      "32:\tlearn: 3195.8412021\ttest: 3185.9500429\tbest: 3185.9500429 (32)\ttotal: 1.44s\tremaining: 7.26s\n",
      "33:\tlearn: 3149.4948910\ttest: 3139.7380770\tbest: 3139.7380770 (33)\ttotal: 1.5s\tremaining: 7.3s\n",
      "34:\tlearn: 3103.7135771\ttest: 3093.8535529\tbest: 3093.8535529 (34)\ttotal: 1.56s\tremaining: 7.36s\n",
      "35:\tlearn: 3061.8467927\ttest: 3051.8900580\tbest: 3051.8900580 (35)\ttotal: 1.62s\tremaining: 7.37s\n",
      "36:\tlearn: 3020.7319510\ttest: 3010.7362898\tbest: 3010.7362898 (36)\ttotal: 1.65s\tremaining: 7.28s\n",
      "37:\tlearn: 2981.5874835\ttest: 2971.6394824\tbest: 2971.6394824 (37)\ttotal: 1.69s\tremaining: 7.19s\n",
      "38:\tlearn: 2943.1664085\ttest: 2933.2780487\tbest: 2933.2780487 (38)\ttotal: 1.72s\tremaining: 7.1s\n",
      "39:\tlearn: 2906.3744644\ttest: 2896.4611405\tbest: 2896.4611405 (39)\ttotal: 1.75s\tremaining: 7.02s\n",
      "40:\tlearn: 2869.8310078\ttest: 2859.7056336\tbest: 2859.7056336 (40)\ttotal: 1.79s\tremaining: 6.96s\n",
      "41:\tlearn: 2835.1873861\ttest: 2824.8251809\tbest: 2824.8251809 (41)\ttotal: 1.83s\tremaining: 6.89s\n",
      "42:\tlearn: 2802.4325239\ttest: 2792.2610900\tbest: 2792.2610900 (42)\ttotal: 1.86s\tremaining: 6.8s\n",
      "43:\tlearn: 2772.2382218\ttest: 2762.1118306\tbest: 2762.1118306 (43)\ttotal: 1.9s\tremaining: 6.72s\n",
      "44:\tlearn: 2741.7244901\ttest: 2731.6777150\tbest: 2731.6777150 (44)\ttotal: 1.93s\tremaining: 6.65s\n",
      "45:\tlearn: 2712.1700040\ttest: 2701.9480042\tbest: 2701.9480042 (45)\ttotal: 1.97s\tremaining: 6.58s\n",
      "46:\tlearn: 2684.8915313\ttest: 2674.6878521\tbest: 2674.6878521 (46)\ttotal: 2s\tremaining: 6.5s\n",
      "47:\tlearn: 2657.5210766\ttest: 2647.1561915\tbest: 2647.1561915 (47)\ttotal: 2.03s\tremaining: 6.44s\n",
      "48:\tlearn: 2631.1331314\ttest: 2620.7153538\tbest: 2620.7153538 (48)\ttotal: 2.07s\tremaining: 6.39s\n",
      "49:\tlearn: 2606.2922783\ttest: 2595.8484545\tbest: 2595.8484545 (49)\ttotal: 2.11s\tremaining: 6.32s\n",
      "50:\tlearn: 2582.9729253\ttest: 2572.4864290\tbest: 2572.4864290 (50)\ttotal: 2.14s\tremaining: 6.25s\n",
      "51:\tlearn: 2561.0435986\ttest: 2550.5111835\tbest: 2550.5111835 (51)\ttotal: 2.17s\tremaining: 6.18s\n",
      "52:\tlearn: 2539.9719547\ttest: 2529.4086821\tbest: 2529.4086821 (52)\ttotal: 2.2s\tremaining: 6.11s\n",
      "53:\tlearn: 2519.3067814\ttest: 2508.6193729\tbest: 2508.6193729 (53)\ttotal: 2.27s\tremaining: 6.13s\n",
      "54:\tlearn: 2499.3653186\ttest: 2488.5064621\tbest: 2488.5064621 (54)\ttotal: 2.34s\tremaining: 6.18s\n",
      "55:\tlearn: 2480.7350039\ttest: 2470.0107855\tbest: 2470.0107855 (55)\ttotal: 2.43s\tremaining: 6.26s\n",
      "56:\tlearn: 2462.8871135\ttest: 2451.8769623\tbest: 2451.8769623 (56)\ttotal: 2.48s\tremaining: 6.21s\n",
      "57:\tlearn: 2445.4026713\ttest: 2434.2728986\tbest: 2434.2728986 (57)\ttotal: 2.52s\tremaining: 6.17s\n",
      "58:\tlearn: 2428.4653954\ttest: 2417.3170482\tbest: 2417.3170482 (58)\ttotal: 2.56s\tremaining: 6.11s\n",
      "59:\tlearn: 2411.9978357\ttest: 2400.7988143\tbest: 2400.7988143 (59)\ttotal: 2.6s\tremaining: 6.07s\n",
      "60:\tlearn: 2396.7392608\ttest: 2385.5594664\tbest: 2385.5594664 (60)\ttotal: 2.65s\tremaining: 6.04s\n",
      "61:\tlearn: 2382.2833017\ttest: 2371.1432581\tbest: 2371.1432581 (61)\ttotal: 2.69s\tremaining: 5.99s\n",
      "62:\tlearn: 2368.3086265\ttest: 2357.1120344\tbest: 2357.1120344 (62)\ttotal: 2.73s\tremaining: 5.94s\n",
      "63:\tlearn: 2354.3845187\ttest: 2343.1924303\tbest: 2343.1924303 (63)\ttotal: 2.77s\tremaining: 5.89s\n",
      "64:\tlearn: 2341.7453786\ttest: 2330.4800781\tbest: 2330.4800781 (64)\ttotal: 2.81s\tremaining: 5.83s\n",
      "65:\tlearn: 2328.1559820\ttest: 2316.7446756\tbest: 2316.7446756 (65)\ttotal: 2.85s\tremaining: 5.78s\n",
      "66:\tlearn: 2315.3845516\ttest: 2303.9752549\tbest: 2303.9752549 (66)\ttotal: 2.88s\tremaining: 5.73s\n",
      "67:\tlearn: 2303.9901570\ttest: 2292.4742506\tbest: 2292.4742506 (67)\ttotal: 2.92s\tremaining: 5.67s\n",
      "68:\tlearn: 2293.0267907\ttest: 2281.5336403\tbest: 2281.5336403 (68)\ttotal: 2.96s\tremaining: 5.62s\n",
      "69:\tlearn: 2281.8062919\ttest: 2270.1760300\tbest: 2270.1760300 (69)\ttotal: 2.99s\tremaining: 5.55s\n",
      "70:\tlearn: 2271.1176286\ttest: 2259.3021316\tbest: 2259.3021316 (70)\ttotal: 3.02s\tremaining: 5.5s\n",
      "71:\tlearn: 2261.4291450\ttest: 2249.3540272\tbest: 2249.3540272 (71)\ttotal: 3.07s\tremaining: 5.46s\n",
      "72:\tlearn: 2251.1523679\ttest: 2239.0583028\tbest: 2239.0583028 (72)\ttotal: 3.13s\tremaining: 5.44s\n",
      "73:\tlearn: 2241.2253819\ttest: 2229.1450236\tbest: 2229.1450236 (73)\ttotal: 3.17s\tremaining: 5.4s\n",
      "74:\tlearn: 2232.5078653\ttest: 2220.4865423\tbest: 2220.4865423 (74)\ttotal: 3.21s\tremaining: 5.35s\n",
      "75:\tlearn: 2223.5476418\ttest: 2211.6110161\tbest: 2211.6110161 (75)\ttotal: 3.25s\tremaining: 5.31s\n",
      "76:\tlearn: 2215.3087861\ttest: 2203.2226965\tbest: 2203.2226965 (76)\ttotal: 3.29s\tremaining: 5.25s\n",
      "77:\tlearn: 2207.7590676\ttest: 2195.6768115\tbest: 2195.6768115 (77)\ttotal: 3.32s\tremaining: 5.19s\n",
      "78:\tlearn: 2199.9967060\ttest: 2187.9164045\tbest: 2187.9164045 (78)\ttotal: 3.36s\tremaining: 5.14s\n",
      "79:\tlearn: 2192.9658487\ttest: 2180.9020115\tbest: 2180.9020115 (79)\ttotal: 3.41s\tremaining: 5.11s\n",
      "80:\tlearn: 2186.1886697\ttest: 2174.0446118\tbest: 2174.0446118 (80)\ttotal: 3.46s\tremaining: 5.08s\n",
      "81:\tlearn: 2178.8865916\ttest: 2166.9493638\tbest: 2166.9493638 (81)\ttotal: 3.51s\tremaining: 5.05s\n",
      "82:\tlearn: 2172.6614687\ttest: 2160.8018334\tbest: 2160.8018334 (82)\ttotal: 3.54s\tremaining: 5s\n",
      "83:\tlearn: 2165.9297898\ttest: 2154.0626203\tbest: 2154.0626203 (83)\ttotal: 3.58s\tremaining: 4.94s\n",
      "84:\tlearn: 2158.1785500\ttest: 2146.1085213\tbest: 2146.1085213 (84)\ttotal: 3.62s\tremaining: 4.9s\n",
      "85:\tlearn: 2151.2488582\ttest: 2139.2684198\tbest: 2139.2684198 (85)\ttotal: 3.66s\tremaining: 4.85s\n",
      "86:\tlearn: 2145.5230391\ttest: 2133.4756632\tbest: 2133.4756632 (86)\ttotal: 3.69s\tremaining: 4.79s\n",
      "87:\tlearn: 2139.6206004\ttest: 2127.4393775\tbest: 2127.4393775 (87)\ttotal: 3.72s\tremaining: 4.73s\n",
      "88:\tlearn: 2133.0572928\ttest: 2120.7071265\tbest: 2120.7071265 (88)\ttotal: 3.75s\tremaining: 4.68s\n",
      "89:\tlearn: 2127.6924435\ttest: 2115.3418925\tbest: 2115.3418925 (89)\ttotal: 3.8s\tremaining: 4.64s\n",
      "90:\tlearn: 2121.8770810\ttest: 2109.6351149\tbest: 2109.6351149 (90)\ttotal: 3.86s\tremaining: 4.62s\n",
      "91:\tlearn: 2116.8229151\ttest: 2104.5291056\tbest: 2104.5291056 (91)\ttotal: 3.9s\tremaining: 4.58s\n",
      "92:\tlearn: 2112.2703364\ttest: 2100.0088196\tbest: 2100.0088196 (92)\ttotal: 3.94s\tremaining: 4.53s\n",
      "93:\tlearn: 2106.8082933\ttest: 2094.6298190\tbest: 2094.6298190 (93)\ttotal: 3.98s\tremaining: 4.49s\n",
      "94:\tlearn: 2102.1146524\ttest: 2089.9427472\tbest: 2089.9427472 (94)\ttotal: 4.01s\tremaining: 4.44s\n",
      "95:\tlearn: 2097.3255816\ttest: 2085.1336663\tbest: 2085.1336663 (95)\ttotal: 4.06s\tremaining: 4.4s\n",
      "96:\tlearn: 2092.3771663\ttest: 2080.1665367\tbest: 2080.1665367 (96)\ttotal: 4.09s\tremaining: 4.35s\n",
      "97:\tlearn: 2087.5438173\ttest: 2075.5730632\tbest: 2075.5730632 (97)\ttotal: 4.13s\tremaining: 4.29s\n",
      "98:\tlearn: 2083.4143230\ttest: 2071.5969822\tbest: 2071.5969822 (98)\ttotal: 4.16s\tremaining: 4.24s\n",
      "99:\tlearn: 2078.9679702\ttest: 2067.1638378\tbest: 2067.1638378 (99)\ttotal: 4.18s\tremaining: 4.18s\n",
      "100:\tlearn: 2073.9694962\ttest: 2062.0923570\tbest: 2062.0923570 (100)\ttotal: 4.23s\tremaining: 4.15s\n",
      "101:\tlearn: 2069.6579815\ttest: 2057.9254548\tbest: 2057.9254548 (101)\ttotal: 4.26s\tremaining: 4.09s\n",
      "102:\tlearn: 2065.4067438\ttest: 2053.5891352\tbest: 2053.5891352 (102)\ttotal: 4.29s\tremaining: 4.04s\n",
      "103:\tlearn: 2062.0445291\ttest: 2050.3031377\tbest: 2050.3031377 (103)\ttotal: 4.32s\tremaining: 3.99s\n",
      "104:\tlearn: 2058.3784720\ttest: 2046.5646587\tbest: 2046.5646587 (104)\ttotal: 4.35s\tremaining: 3.94s\n",
      "105:\tlearn: 2054.8735971\ttest: 2043.0208888\tbest: 2043.0208888 (105)\ttotal: 4.38s\tremaining: 3.89s\n",
      "106:\tlearn: 2051.8192226\ttest: 2040.2046795\tbest: 2040.2046795 (106)\ttotal: 4.41s\tremaining: 3.83s\n",
      "107:\tlearn: 2047.9472611\ttest: 2036.3753852\tbest: 2036.3753852 (107)\ttotal: 4.45s\tremaining: 3.79s\n",
      "108:\tlearn: 2044.5625931\ttest: 2033.0567255\tbest: 2033.0567255 (108)\ttotal: 4.48s\tremaining: 3.74s\n",
      "109:\tlearn: 2041.4409011\ttest: 2030.0414692\tbest: 2030.0414692 (109)\ttotal: 4.51s\tremaining: 3.69s\n",
      "110:\tlearn: 2038.7203996\ttest: 2027.3950048\tbest: 2027.3950048 (110)\ttotal: 4.54s\tremaining: 3.64s\n",
      "111:\tlearn: 2035.2945123\ttest: 2023.9123585\tbest: 2023.9123585 (111)\ttotal: 4.56s\tremaining: 3.58s\n",
      "112:\tlearn: 2032.3054821\ttest: 2021.0226464\tbest: 2021.0226464 (112)\ttotal: 4.59s\tremaining: 3.53s\n",
      "113:\tlearn: 2028.8098826\ttest: 2017.6234443\tbest: 2017.6234443 (113)\ttotal: 4.62s\tremaining: 3.49s\n",
      "114:\tlearn: 2026.0029212\ttest: 2014.9447162\tbest: 2014.9447162 (114)\ttotal: 4.66s\tremaining: 3.44s\n",
      "115:\tlearn: 2023.0880760\ttest: 2012.1812273\tbest: 2012.1812273 (115)\ttotal: 4.69s\tremaining: 3.4s\n",
      "116:\tlearn: 2020.8649622\ttest: 2010.0111745\tbest: 2010.0111745 (116)\ttotal: 4.72s\tremaining: 3.35s\n",
      "117:\tlearn: 2017.9634502\ttest: 2007.0436536\tbest: 2007.0436536 (117)\ttotal: 4.75s\tremaining: 3.3s\n",
      "118:\tlearn: 2015.1852515\ttest: 2004.4656684\tbest: 2004.4656684 (118)\ttotal: 4.78s\tremaining: 3.25s\n",
      "119:\tlearn: 2012.3880560\ttest: 2001.7084963\tbest: 2001.7084963 (119)\ttotal: 4.81s\tremaining: 3.21s\n",
      "120:\tlearn: 2010.2658828\ttest: 1999.7021595\tbest: 1999.7021595 (120)\ttotal: 4.84s\tremaining: 3.16s\n",
      "121:\tlearn: 2008.2979899\ttest: 1997.9191327\tbest: 1997.9191327 (121)\ttotal: 4.88s\tremaining: 3.12s\n",
      "122:\tlearn: 2005.9034151\ttest: 1995.5545276\tbest: 1995.5545276 (122)\ttotal: 4.91s\tremaining: 3.07s\n",
      "123:\tlearn: 2003.4682614\ttest: 1993.1285737\tbest: 1993.1285737 (123)\ttotal: 4.94s\tremaining: 3.03s\n",
      "124:\tlearn: 2001.6847755\ttest: 1991.4239138\tbest: 1991.4239138 (124)\ttotal: 4.97s\tremaining: 2.98s\n",
      "125:\tlearn: 1999.4675832\ttest: 1989.2112575\tbest: 1989.2112575 (125)\ttotal: 5s\tremaining: 2.94s\n",
      "126:\tlearn: 1997.1764267\ttest: 1986.9265694\tbest: 1986.9265694 (126)\ttotal: 5.04s\tremaining: 2.9s\n",
      "127:\tlearn: 1994.2650517\ttest: 1984.0601855\tbest: 1984.0601855 (127)\ttotal: 5.07s\tremaining: 2.85s\n",
      "128:\tlearn: 1992.0538277\ttest: 1981.8211057\tbest: 1981.8211057 (128)\ttotal: 5.11s\tremaining: 2.81s\n",
      "129:\tlearn: 1989.6703227\ttest: 1979.7005313\tbest: 1979.7005313 (129)\ttotal: 5.15s\tremaining: 2.77s\n",
      "130:\tlearn: 1987.6440891\ttest: 1977.6977795\tbest: 1977.6977795 (130)\ttotal: 5.18s\tremaining: 2.73s\n",
      "131:\tlearn: 1985.7086193\ttest: 1975.7659577\tbest: 1975.7659577 (131)\ttotal: 5.21s\tremaining: 2.69s\n",
      "132:\tlearn: 1983.9525058\ttest: 1974.2026344\tbest: 1974.2026344 (132)\ttotal: 5.24s\tremaining: 2.64s\n",
      "133:\tlearn: 1981.1330429\ttest: 1971.5548083\tbest: 1971.5548083 (133)\ttotal: 5.27s\tremaining: 2.6s\n",
      "134:\tlearn: 1979.4249464\ttest: 1969.8351957\tbest: 1969.8351957 (134)\ttotal: 5.3s\tremaining: 2.55s\n",
      "135:\tlearn: 1977.6718878\ttest: 1968.3425480\tbest: 1968.3425480 (135)\ttotal: 5.34s\tremaining: 2.51s\n",
      "136:\tlearn: 1976.0412145\ttest: 1966.7980297\tbest: 1966.7980297 (136)\ttotal: 5.37s\tremaining: 2.47s\n",
      "137:\tlearn: 1974.7220990\ttest: 1965.5062410\tbest: 1965.5062410 (137)\ttotal: 5.4s\tremaining: 2.43s\n",
      "138:\tlearn: 1973.1727584\ttest: 1964.0840673\tbest: 1964.0840673 (138)\ttotal: 5.43s\tremaining: 2.38s\n",
      "139:\tlearn: 1971.0892916\ttest: 1962.1247776\tbest: 1962.1247776 (139)\ttotal: 5.46s\tremaining: 2.34s\n",
      "140:\tlearn: 1969.1701531\ttest: 1960.3186615\tbest: 1960.3186615 (140)\ttotal: 5.5s\tremaining: 2.3s\n",
      "141:\tlearn: 1967.2935043\ttest: 1958.5349618\tbest: 1958.5349618 (141)\ttotal: 5.55s\tremaining: 2.27s\n",
      "142:\tlearn: 1965.7194726\ttest: 1956.9576304\tbest: 1956.9576304 (142)\ttotal: 5.59s\tremaining: 2.23s\n",
      "143:\tlearn: 1963.9897398\ttest: 1955.2176041\tbest: 1955.2176041 (143)\ttotal: 5.64s\tremaining: 2.19s\n",
      "144:\tlearn: 1962.2521432\ttest: 1953.5205423\tbest: 1953.5205423 (144)\ttotal: 5.68s\tremaining: 2.16s\n",
      "145:\tlearn: 1960.5569816\ttest: 1952.0403108\tbest: 1952.0403108 (145)\ttotal: 5.72s\tremaining: 2.11s\n",
      "146:\tlearn: 1959.1085515\ttest: 1950.6114880\tbest: 1950.6114880 (146)\ttotal: 5.75s\tremaining: 2.07s\n",
      "147:\tlearn: 1958.0625281\ttest: 1949.6862166\tbest: 1949.6862166 (147)\ttotal: 5.79s\tremaining: 2.03s\n",
      "148:\tlearn: 1956.8032892\ttest: 1948.4620992\tbest: 1948.4620992 (148)\ttotal: 5.82s\tremaining: 1.99s\n",
      "149:\tlearn: 1955.1915026\ttest: 1946.8065524\tbest: 1946.8065524 (149)\ttotal: 5.85s\tremaining: 1.95s\n",
      "150:\tlearn: 1953.7298177\ttest: 1945.4298042\tbest: 1945.4298042 (150)\ttotal: 5.88s\tremaining: 1.91s\n",
      "151:\tlearn: 1952.8176950\ttest: 1944.6152306\tbest: 1944.6152306 (151)\ttotal: 5.91s\tremaining: 1.86s\n",
      "152:\tlearn: 1950.7422449\ttest: 1942.5457990\tbest: 1942.5457990 (152)\ttotal: 5.94s\tremaining: 1.82s\n",
      "153:\tlearn: 1949.2545456\ttest: 1941.0863082\tbest: 1941.0863082 (153)\ttotal: 5.97s\tremaining: 1.78s\n",
      "154:\tlearn: 1947.5884416\ttest: 1939.4759456\tbest: 1939.4759456 (154)\ttotal: 6s\tremaining: 1.74s\n",
      "155:\tlearn: 1946.0190795\ttest: 1937.9895018\tbest: 1937.9895018 (155)\ttotal: 6.04s\tremaining: 1.7s\n",
      "156:\tlearn: 1944.7227004\ttest: 1936.7685106\tbest: 1936.7685106 (156)\ttotal: 6.07s\tremaining: 1.66s\n",
      "157:\tlearn: 1943.2966211\ttest: 1935.4493103\tbest: 1935.4493103 (157)\ttotal: 6.11s\tremaining: 1.62s\n",
      "158:\tlearn: 1942.1127726\ttest: 1934.2897714\tbest: 1934.2897714 (158)\ttotal: 6.14s\tremaining: 1.58s\n",
      "159:\tlearn: 1941.0809396\ttest: 1933.3660891\tbest: 1933.3660891 (159)\ttotal: 6.17s\tremaining: 1.54s\n",
      "160:\tlearn: 1939.7690293\ttest: 1932.2273469\tbest: 1932.2273469 (160)\ttotal: 6.2s\tremaining: 1.5s\n",
      "161:\tlearn: 1938.1988577\ttest: 1930.7288932\tbest: 1930.7288932 (161)\ttotal: 6.24s\tremaining: 1.46s\n",
      "162:\tlearn: 1937.0383859\ttest: 1929.7160986\tbest: 1929.7160986 (162)\ttotal: 6.27s\tremaining: 1.42s\n",
      "163:\tlearn: 1935.5763995\ttest: 1928.4655603\tbest: 1928.4655603 (163)\ttotal: 6.3s\tremaining: 1.38s\n",
      "164:\tlearn: 1934.6444470\ttest: 1927.5603745\tbest: 1927.5603745 (164)\ttotal: 6.33s\tremaining: 1.34s\n",
      "165:\tlearn: 1933.4327785\ttest: 1926.3988349\tbest: 1926.3988349 (165)\ttotal: 6.36s\tremaining: 1.3s\n",
      "166:\tlearn: 1932.5339757\ttest: 1925.6742731\tbest: 1925.6742731 (166)\ttotal: 6.38s\tremaining: 1.26s\n",
      "167:\tlearn: 1931.0170673\ttest: 1924.2899923\tbest: 1924.2899923 (167)\ttotal: 6.41s\tremaining: 1.22s\n",
      "168:\tlearn: 1929.7197310\ttest: 1923.0646094\tbest: 1923.0646094 (168)\ttotal: 6.45s\tremaining: 1.18s\n",
      "169:\tlearn: 1928.3322116\ttest: 1921.6874227\tbest: 1921.6874227 (169)\ttotal: 6.48s\tremaining: 1.14s\n",
      "170:\tlearn: 1927.2861505\ttest: 1920.6655041\tbest: 1920.6655041 (170)\ttotal: 6.51s\tremaining: 1.1s\n",
      "171:\tlearn: 1926.2792124\ttest: 1919.9517670\tbest: 1919.9517670 (171)\ttotal: 6.54s\tremaining: 1.06s\n",
      "172:\tlearn: 1925.0026051\ttest: 1918.7630166\tbest: 1918.7630166 (172)\ttotal: 6.57s\tremaining: 1.02s\n",
      "173:\tlearn: 1923.6901393\ttest: 1917.5850906\tbest: 1917.5850906 (173)\ttotal: 6.6s\tremaining: 986ms\n",
      "174:\tlearn: 1922.7292787\ttest: 1916.7491244\tbest: 1916.7491244 (174)\ttotal: 6.63s\tremaining: 947ms\n",
      "175:\tlearn: 1921.9593442\ttest: 1916.0734281\tbest: 1916.0734281 (175)\ttotal: 6.67s\tremaining: 909ms\n",
      "176:\tlearn: 1920.8943607\ttest: 1915.0314821\tbest: 1915.0314821 (176)\ttotal: 6.7s\tremaining: 870ms\n",
      "177:\tlearn: 1919.3556232\ttest: 1913.5264591\tbest: 1913.5264591 (177)\ttotal: 6.73s\tremaining: 831ms\n",
      "178:\tlearn: 1918.0186547\ttest: 1912.3123520\tbest: 1912.3123520 (178)\ttotal: 6.75s\tremaining: 793ms\n",
      "179:\tlearn: 1917.2537189\ttest: 1911.5079205\tbest: 1911.5079205 (179)\ttotal: 6.78s\tremaining: 754ms\n",
      "180:\tlearn: 1916.2078352\ttest: 1910.5032219\tbest: 1910.5032219 (180)\ttotal: 6.81s\tremaining: 715ms\n",
      "181:\tlearn: 1915.3637986\ttest: 1909.7107414\tbest: 1909.7107414 (181)\ttotal: 6.84s\tremaining: 676ms\n",
      "182:\tlearn: 1914.1374311\ttest: 1908.5652091\tbest: 1908.5652091 (182)\ttotal: 6.87s\tremaining: 638ms\n",
      "183:\tlearn: 1913.2254616\ttest: 1907.7757721\tbest: 1907.7757721 (183)\ttotal: 6.91s\tremaining: 601ms\n",
      "184:\tlearn: 1912.5623123\ttest: 1907.2510285\tbest: 1907.2510285 (184)\ttotal: 6.94s\tremaining: 562ms\n",
      "185:\tlearn: 1911.6708951\ttest: 1906.4880857\tbest: 1906.4880857 (185)\ttotal: 6.97s\tremaining: 524ms\n",
      "186:\tlearn: 1910.7190518\ttest: 1905.5827214\tbest: 1905.5827214 (186)\ttotal: 7s\tremaining: 486ms\n",
      "187:\tlearn: 1909.8814975\ttest: 1904.9035646\tbest: 1904.9035646 (187)\ttotal: 7.03s\tremaining: 449ms\n",
      "188:\tlearn: 1908.8743341\ttest: 1904.0227564\tbest: 1904.0227564 (188)\ttotal: 7.06s\tremaining: 411ms\n",
      "189:\tlearn: 1907.8155166\ttest: 1902.9947270\tbest: 1902.9947270 (189)\ttotal: 7.09s\tremaining: 373ms\n",
      "190:\tlearn: 1906.5625942\ttest: 1901.8499064\tbest: 1901.8499064 (190)\ttotal: 7.13s\tremaining: 336ms\n",
      "191:\tlearn: 1905.5392319\ttest: 1900.9220874\tbest: 1900.9220874 (191)\ttotal: 7.16s\tremaining: 298ms\n",
      "192:\tlearn: 1904.8499481\ttest: 1900.4024230\tbest: 1900.4024230 (192)\ttotal: 7.19s\tremaining: 261ms\n",
      "193:\tlearn: 1903.6829552\ttest: 1899.3145933\tbest: 1899.3145933 (193)\ttotal: 7.22s\tremaining: 223ms\n",
      "194:\tlearn: 1903.0246948\ttest: 1898.6445105\tbest: 1898.6445105 (194)\ttotal: 7.25s\tremaining: 186ms\n",
      "195:\tlearn: 1901.8317121\ttest: 1897.5470798\tbest: 1897.5470798 (195)\ttotal: 7.28s\tremaining: 148ms\n",
      "196:\tlearn: 1901.3409808\ttest: 1897.1393912\tbest: 1897.1393912 (196)\ttotal: 7.3s\tremaining: 111ms\n",
      "197:\tlearn: 1900.3884584\ttest: 1896.3744638\tbest: 1896.3744638 (197)\ttotal: 7.33s\tremaining: 74ms\n",
      "198:\tlearn: 1899.2873161\ttest: 1895.4107467\tbest: 1895.4107467 (198)\ttotal: 7.37s\tremaining: 37ms\n",
      "199:\tlearn: 1898.1603916\ttest: 1894.4260747\tbest: 1894.4260747 (199)\ttotal: 7.4s\tremaining: 0us\n",
      "\n",
      "bestTest = 1894.426075\n",
      "bestIteration = 199\n",
      "\n",
      "25:\tloss: 1894.4260747\tbest: 1894.4260747 (25)\ttotal: 1m 22s\tremaining: 3.18s\n",
      "0:\tlearn: 6133.4468446\ttest: 6120.3222410\tbest: 6120.3222410 (0)\ttotal: 33.6ms\tremaining: 6.69s\n",
      "1:\tlearn: 5982.3643063\ttest: 5969.2179698\tbest: 5969.2179698 (1)\ttotal: 64.9ms\tremaining: 6.43s\n",
      "2:\tlearn: 5838.3798264\ttest: 5825.2203257\tbest: 5825.2203257 (2)\ttotal: 96.1ms\tremaining: 6.31s\n",
      "3:\tlearn: 5696.5631820\ttest: 5683.7509579\tbest: 5683.7509579 (3)\ttotal: 128ms\tremaining: 6.29s\n",
      "4:\tlearn: 5559.4436012\ttest: 5546.7178245\tbest: 5546.7178245 (4)\ttotal: 169ms\tremaining: 6.59s\n",
      "5:\tlearn: 5427.8448245\ttest: 5415.2548414\tbest: 5415.2548414 (5)\ttotal: 202ms\tremaining: 6.52s\n",
      "6:\tlearn: 5299.5267673\ttest: 5286.9961069\tbest: 5286.9961069 (6)\ttotal: 234ms\tremaining: 6.46s\n",
      "7:\tlearn: 5177.0480183\ttest: 5164.6956300\tbest: 5164.6956300 (7)\ttotal: 268ms\tremaining: 6.44s\n",
      "8:\tlearn: 5058.4494921\ttest: 5046.3677569\tbest: 5046.3677569 (8)\ttotal: 303ms\tremaining: 6.42s\n",
      "9:\tlearn: 4943.3939600\ttest: 4931.6354202\tbest: 4931.6354202 (9)\ttotal: 344ms\tremaining: 6.53s\n",
      "10:\tlearn: 4832.6140659\ttest: 4821.3165225\tbest: 4821.3165225 (10)\ttotal: 380ms\tremaining: 6.52s\n",
      "11:\tlearn: 4726.6267927\ttest: 4715.5277132\tbest: 4715.5277132 (11)\ttotal: 415ms\tremaining: 6.5s\n",
      "12:\tlearn: 4622.6939665\ttest: 4611.6290389\tbest: 4611.6290389 (12)\ttotal: 448ms\tremaining: 6.44s\n",
      "13:\tlearn: 4521.9617554\ttest: 4510.9469376\tbest: 4510.9469376 (13)\ttotal: 482ms\tremaining: 6.4s\n",
      "14:\tlearn: 4426.9902077\ttest: 4416.0113599\tbest: 4416.0113599 (14)\ttotal: 519ms\tremaining: 6.4s\n",
      "15:\tlearn: 4334.4199969\ttest: 4323.5060936\tbest: 4323.5060936 (15)\ttotal: 555ms\tremaining: 6.38s\n",
      "16:\tlearn: 4246.6005787\ttest: 4235.7930988\tbest: 4235.7930988 (16)\ttotal: 591ms\tremaining: 6.36s\n",
      "17:\tlearn: 4159.8357030\ttest: 4149.3154958\tbest: 4149.3154958 (17)\ttotal: 635ms\tremaining: 6.42s\n",
      "18:\tlearn: 4077.1420892\ttest: 4066.5160424\tbest: 4066.5160424 (18)\ttotal: 667ms\tremaining: 6.36s\n",
      "19:\tlearn: 3997.0016261\ttest: 3986.4470846\tbest: 3986.4470846 (19)\ttotal: 700ms\tremaining: 6.3s\n",
      "20:\tlearn: 3918.7728719\ttest: 3908.0342003\tbest: 3908.0342003 (20)\ttotal: 733ms\tremaining: 6.25s\n",
      "21:\tlearn: 3844.6587231\ttest: 3834.1889564\tbest: 3834.1889564 (21)\ttotal: 771ms\tremaining: 6.23s\n",
      "22:\tlearn: 3773.7978811\ttest: 3763.5387453\tbest: 3763.5387453 (22)\ttotal: 806ms\tremaining: 6.2s\n",
      "23:\tlearn: 3705.7943067\ttest: 3695.5050575\tbest: 3695.5050575 (23)\ttotal: 838ms\tremaining: 6.15s\n",
      "24:\tlearn: 3639.7541959\ttest: 3629.6595228\tbest: 3629.6595228 (24)\ttotal: 876ms\tremaining: 6.13s\n",
      "25:\tlearn: 3576.0974259\ttest: 3566.0512947\tbest: 3566.0512947 (25)\ttotal: 910ms\tremaining: 6.09s\n",
      "26:\tlearn: 3515.5821789\ttest: 3505.5031605\tbest: 3505.5031605 (26)\ttotal: 945ms\tremaining: 6.06s\n",
      "27:\tlearn: 3456.3445534\ttest: 3446.2137750\tbest: 3446.2137750 (27)\ttotal: 980ms\tremaining: 6.02s\n",
      "28:\tlearn: 3401.2544857\ttest: 3391.0180799\tbest: 3391.0180799 (28)\ttotal: 1.02s\tremaining: 6.01s\n",
      "29:\tlearn: 3347.3561646\ttest: 3337.3329899\tbest: 3337.3329899 (29)\ttotal: 1.05s\tremaining: 5.97s\n",
      "30:\tlearn: 3295.2359423\ttest: 3285.3410124\tbest: 3285.3410124 (30)\ttotal: 1.09s\tremaining: 5.93s\n",
      "31:\tlearn: 3244.6350091\ttest: 3234.7627391\tbest: 3234.7627391 (31)\ttotal: 1.12s\tremaining: 5.89s\n",
      "32:\tlearn: 3195.9361249\ttest: 3186.0065717\tbest: 3186.0065717 (32)\ttotal: 1.16s\tremaining: 5.86s\n",
      "33:\tlearn: 3149.2527584\ttest: 3139.2292108\tbest: 3139.2292108 (33)\ttotal: 1.19s\tremaining: 5.81s\n",
      "34:\tlearn: 3103.6034476\ttest: 3093.4772485\tbest: 3093.4772485 (34)\ttotal: 1.23s\tremaining: 5.79s\n",
      "35:\tlearn: 3061.2131003\ttest: 3051.3252144\tbest: 3051.3252144 (35)\ttotal: 1.27s\tremaining: 5.78s\n",
      "36:\tlearn: 3020.2761376\ttest: 3010.3097966\tbest: 3010.3097966 (36)\ttotal: 1.3s\tremaining: 5.74s\n",
      "37:\tlearn: 2980.6190769\ttest: 2970.7961367\tbest: 2970.7961367 (37)\ttotal: 1.34s\tremaining: 5.71s\n",
      "38:\tlearn: 2942.5823580\ttest: 2932.8661930\tbest: 2932.8661930 (38)\ttotal: 1.38s\tremaining: 5.69s\n",
      "39:\tlearn: 2905.8456170\ttest: 2896.0973246\tbest: 2896.0973246 (39)\ttotal: 1.42s\tremaining: 5.66s\n",
      "40:\tlearn: 2870.4469741\ttest: 2860.5010749\tbest: 2860.5010749 (40)\ttotal: 1.45s\tremaining: 5.62s\n",
      "41:\tlearn: 2835.7543673\ttest: 2825.5112027\tbest: 2825.5112027 (41)\ttotal: 1.48s\tremaining: 5.58s\n",
      "42:\tlearn: 2804.2086170\ttest: 2794.2136715\tbest: 2794.2136715 (42)\ttotal: 1.52s\tremaining: 5.56s\n",
      "43:\tlearn: 2773.6894259\ttest: 2763.6672790\tbest: 2763.6672790 (43)\ttotal: 1.56s\tremaining: 5.52s\n",
      "44:\tlearn: 2743.0157746\ttest: 2733.0227546\tbest: 2733.0227546 (44)\ttotal: 1.59s\tremaining: 5.48s\n",
      "45:\tlearn: 2713.2504139\ttest: 2703.0680106\tbest: 2703.0680106 (45)\ttotal: 1.63s\tremaining: 5.44s\n",
      "46:\tlearn: 2685.7241396\ttest: 2675.5846677\tbest: 2675.5846677 (46)\ttotal: 1.66s\tremaining: 5.4s\n",
      "47:\tlearn: 2658.2695884\ttest: 2647.9482410\tbest: 2647.9482410 (47)\ttotal: 1.69s\tremaining: 5.36s\n",
      "48:\tlearn: 2631.9608572\ttest: 2621.4433959\tbest: 2621.4433959 (48)\ttotal: 1.73s\tremaining: 5.32s\n",
      "49:\tlearn: 2607.2569252\ttest: 2596.7167140\tbest: 2596.7167140 (49)\ttotal: 1.76s\tremaining: 5.3s\n",
      "50:\tlearn: 2583.9808797\ttest: 2573.3723327\tbest: 2573.3723327 (50)\ttotal: 1.8s\tremaining: 5.26s\n",
      "51:\tlearn: 2562.1243846\ttest: 2551.4435086\tbest: 2551.4435086 (51)\ttotal: 1.85s\tremaining: 5.26s\n",
      "52:\tlearn: 2541.0906798\ttest: 2530.3684882\tbest: 2530.3684882 (52)\ttotal: 1.88s\tremaining: 5.21s\n",
      "53:\tlearn: 2520.2135502\ttest: 2509.3065336\tbest: 2509.3065336 (53)\ttotal: 1.91s\tremaining: 5.16s\n",
      "54:\tlearn: 2500.2864637\ttest: 2489.1984351\tbest: 2489.1984351 (54)\ttotal: 1.94s\tremaining: 5.11s\n",
      "55:\tlearn: 2481.2648487\ttest: 2470.0234823\tbest: 2470.0234823 (55)\ttotal: 1.97s\tremaining: 5.06s\n",
      "56:\tlearn: 2463.2528989\ttest: 2451.5843514\tbest: 2451.5843514 (56)\ttotal: 2s\tremaining: 5.03s\n",
      "57:\tlearn: 2445.9510999\ttest: 2434.1634938\tbest: 2434.1634938 (57)\ttotal: 2.04s\tremaining: 4.99s\n",
      "58:\tlearn: 2428.8904319\ttest: 2417.1462417\tbest: 2417.1462417 (58)\ttotal: 2.07s\tremaining: 4.94s\n",
      "59:\tlearn: 2412.6364572\ttest: 2400.7457045\tbest: 2400.7457045 (59)\ttotal: 2.1s\tremaining: 4.89s\n",
      "60:\tlearn: 2397.0085336\ttest: 2385.0552271\tbest: 2385.0552271 (60)\ttotal: 2.13s\tremaining: 4.84s\n",
      "61:\tlearn: 2382.7129323\ttest: 2370.7724066\tbest: 2370.7724066 (61)\ttotal: 2.16s\tremaining: 4.8s\n",
      "62:\tlearn: 2368.8770376\ttest: 2356.8783018\tbest: 2356.8783018 (62)\ttotal: 2.19s\tremaining: 4.75s\n",
      "63:\tlearn: 2355.4474658\ttest: 2343.3774482\tbest: 2343.3774482 (63)\ttotal: 2.21s\tremaining: 4.71s\n",
      "64:\tlearn: 2342.8033828\ttest: 2330.6430432\tbest: 2330.6430432 (64)\ttotal: 2.25s\tremaining: 4.68s\n",
      "65:\tlearn: 2330.4354521\ttest: 2318.0952524\tbest: 2318.0952524 (65)\ttotal: 2.28s\tremaining: 4.64s\n",
      "66:\tlearn: 2317.6701377\ttest: 2305.2150764\tbest: 2305.2150764 (66)\ttotal: 2.31s\tremaining: 4.59s\n",
      "67:\tlearn: 2305.7378240\ttest: 2293.0942133\tbest: 2293.0942133 (67)\ttotal: 2.35s\tremaining: 4.55s\n",
      "68:\tlearn: 2294.1881453\ttest: 2281.7879098\tbest: 2281.7879098 (68)\ttotal: 2.38s\tremaining: 4.51s\n",
      "69:\tlearn: 2282.9987108\ttest: 2270.4578181\tbest: 2270.4578181 (69)\ttotal: 2.44s\tremaining: 4.53s\n",
      "70:\tlearn: 2270.8956528\ttest: 2258.3439957\tbest: 2258.3439957 (70)\ttotal: 2.51s\tremaining: 4.56s\n",
      "71:\tlearn: 2261.0566327\ttest: 2248.2300092\tbest: 2248.2300092 (71)\ttotal: 2.59s\tremaining: 4.6s\n",
      "72:\tlearn: 2250.6651477\ttest: 2237.7642730\tbest: 2237.7642730 (72)\ttotal: 2.63s\tremaining: 4.58s\n",
      "73:\tlearn: 2240.7033222\ttest: 2227.8333008\tbest: 2227.8333008 (73)\ttotal: 2.67s\tremaining: 4.54s\n",
      "74:\tlearn: 2231.9721170\ttest: 2219.1405181\tbest: 2219.1405181 (74)\ttotal: 2.7s\tremaining: 4.49s\n",
      "75:\tlearn: 2223.4082527\ttest: 2210.3583073\tbest: 2210.3583073 (75)\ttotal: 2.74s\tremaining: 4.47s\n",
      "76:\tlearn: 2215.2655556\ttest: 2202.1068403\tbest: 2202.1068403 (76)\ttotal: 2.77s\tremaining: 4.43s\n",
      "77:\tlearn: 2205.8458590\ttest: 2192.5913158\tbest: 2192.5913158 (77)\ttotal: 2.81s\tremaining: 4.39s\n",
      "78:\tlearn: 2197.9905738\ttest: 2184.8240211\tbest: 2184.8240211 (78)\ttotal: 2.84s\tremaining: 4.34s\n",
      "79:\tlearn: 2190.9438317\ttest: 2177.8794967\tbest: 2177.8794967 (79)\ttotal: 2.87s\tremaining: 4.3s\n",
      "80:\tlearn: 2184.0717386\ttest: 2170.9549851\tbest: 2170.9549851 (80)\ttotal: 2.9s\tremaining: 4.25s\n",
      "81:\tlearn: 2177.2967719\ttest: 2164.4475922\tbest: 2164.4475922 (81)\ttotal: 2.94s\tremaining: 4.23s\n",
      "82:\tlearn: 2170.3159494\ttest: 2157.6507270\tbest: 2157.6507270 (82)\ttotal: 2.98s\tremaining: 4.2s\n",
      "83:\tlearn: 2163.5076239\ttest: 2150.9498310\tbest: 2150.9498310 (83)\ttotal: 3.01s\tremaining: 4.16s\n",
      "84:\tlearn: 2156.1982548\ttest: 2143.7262332\tbest: 2143.7262332 (84)\ttotal: 3.04s\tremaining: 4.11s\n",
      "85:\tlearn: 2150.2279146\ttest: 2138.0486129\tbest: 2138.0486129 (85)\ttotal: 3.07s\tremaining: 4.07s\n",
      "86:\tlearn: 2144.6585322\ttest: 2132.4543640\tbest: 2132.4543640 (86)\ttotal: 3.1s\tremaining: 4.02s\n",
      "87:\tlearn: 2138.6872615\ttest: 2126.3443980\tbest: 2126.3443980 (87)\ttotal: 3.13s\tremaining: 3.98s\n",
      "88:\tlearn: 2131.9474743\ttest: 2119.5880442\tbest: 2119.5880442 (88)\ttotal: 3.16s\tremaining: 3.94s\n",
      "89:\tlearn: 2126.0703857\ttest: 2113.4880299\tbest: 2113.4880299 (89)\ttotal: 3.19s\tremaining: 3.9s\n",
      "90:\tlearn: 2120.3182396\ttest: 2107.8480939\tbest: 2107.8480939 (90)\ttotal: 3.23s\tremaining: 3.87s\n",
      "91:\tlearn: 2115.1978530\ttest: 2102.6668781\tbest: 2102.6668781 (91)\ttotal: 3.26s\tremaining: 3.83s\n",
      "92:\tlearn: 2110.5563137\ttest: 2098.0504856\tbest: 2098.0504856 (92)\ttotal: 3.29s\tremaining: 3.78s\n",
      "93:\tlearn: 2104.9683949\ttest: 2092.4418670\tbest: 2092.4418670 (93)\ttotal: 3.32s\tremaining: 3.75s\n",
      "94:\tlearn: 2100.0958136\ttest: 2087.6211201\tbest: 2087.6211201 (94)\ttotal: 3.35s\tremaining: 3.71s\n",
      "95:\tlearn: 2095.3575460\ttest: 2082.9329691\tbest: 2082.9329691 (95)\ttotal: 3.38s\tremaining: 3.66s\n",
      "96:\tlearn: 2090.4454312\ttest: 2078.1878607\tbest: 2078.1878607 (96)\ttotal: 3.42s\tremaining: 3.63s\n",
      "97:\tlearn: 2086.3368890\ttest: 2074.0432815\tbest: 2074.0432815 (97)\ttotal: 3.45s\tremaining: 3.59s\n",
      "98:\tlearn: 2082.2173158\ttest: 2070.0482978\tbest: 2070.0482978 (98)\ttotal: 3.48s\tremaining: 3.55s\n",
      "99:\tlearn: 2077.7886296\ttest: 2065.7506798\tbest: 2065.7506798 (99)\ttotal: 3.51s\tremaining: 3.51s\n",
      "100:\tlearn: 2074.1869950\ttest: 2062.1916406\tbest: 2062.1916406 (100)\ttotal: 3.54s\tremaining: 3.48s\n",
      "101:\tlearn: 2070.7616232\ttest: 2058.8961823\tbest: 2058.8961823 (101)\ttotal: 3.59s\tremaining: 3.45s\n",
      "102:\tlearn: 2066.5095599\ttest: 2054.5553564\tbest: 2054.5553564 (102)\ttotal: 3.64s\tremaining: 3.43s\n",
      "103:\tlearn: 2063.1928469\ttest: 2051.3754193\tbest: 2051.3754193 (103)\ttotal: 3.68s\tremaining: 3.4s\n",
      "104:\tlearn: 2059.8613821\ttest: 2048.0181383\tbest: 2048.0181383 (104)\ttotal: 3.72s\tremaining: 3.36s\n",
      "105:\tlearn: 2056.9017190\ttest: 2045.0946026\tbest: 2045.0946026 (105)\ttotal: 3.77s\tremaining: 3.35s\n",
      "106:\tlearn: 2053.5083418\ttest: 2041.8967597\tbest: 2041.8967597 (106)\ttotal: 3.82s\tremaining: 3.32s\n",
      "107:\tlearn: 2050.1144644\ttest: 2038.6866179\tbest: 2038.6866179 (107)\ttotal: 3.86s\tremaining: 3.29s\n",
      "108:\tlearn: 2047.0219154\ttest: 2035.7761502\tbest: 2035.7761502 (108)\ttotal: 3.9s\tremaining: 3.25s\n",
      "109:\tlearn: 2043.3579544\ttest: 2032.1362446\tbest: 2032.1362446 (109)\ttotal: 3.94s\tremaining: 3.22s\n",
      "110:\tlearn: 2040.2591709\ttest: 2028.9615939\tbest: 2028.9615939 (110)\ttotal: 3.97s\tremaining: 3.19s\n",
      "111:\tlearn: 2037.7397000\ttest: 2026.4259187\tbest: 2026.4259187 (111)\ttotal: 4.01s\tremaining: 3.15s\n",
      "112:\tlearn: 2034.2986712\ttest: 2023.1337883\tbest: 2023.1337883 (112)\ttotal: 4.05s\tremaining: 3.12s\n",
      "113:\tlearn: 2031.3572042\ttest: 2020.2203457\tbest: 2020.2203457 (113)\ttotal: 4.09s\tremaining: 3.09s\n",
      "114:\tlearn: 2027.9621167\ttest: 2016.8026992\tbest: 2016.8026992 (114)\ttotal: 4.13s\tremaining: 3.06s\n",
      "115:\tlearn: 2024.4170438\ttest: 2013.1263967\tbest: 2013.1263967 (115)\ttotal: 4.17s\tremaining: 3.02s\n",
      "116:\tlearn: 2021.8400154\ttest: 2010.6896354\tbest: 2010.6896354 (116)\ttotal: 4.2s\tremaining: 2.98s\n",
      "117:\tlearn: 2018.3903759\ttest: 2007.2271827\tbest: 2007.2271827 (117)\ttotal: 4.23s\tremaining: 2.94s\n",
      "118:\tlearn: 2015.2876554\ttest: 2004.1074682\tbest: 2004.1074682 (118)\ttotal: 4.29s\tremaining: 2.92s\n",
      "119:\tlearn: 2012.3294762\ttest: 2001.2359581\tbest: 2001.2359581 (119)\ttotal: 4.33s\tremaining: 2.88s\n",
      "120:\tlearn: 2010.2169576\ttest: 1999.2369738\tbest: 1999.2369738 (120)\ttotal: 4.36s\tremaining: 2.84s\n",
      "121:\tlearn: 2008.3361301\ttest: 1997.3787517\tbest: 1997.3787517 (121)\ttotal: 4.4s\tremaining: 2.81s\n",
      "122:\tlearn: 2005.9032815\ttest: 1994.9318811\tbest: 1994.9318811 (122)\ttotal: 4.43s\tremaining: 2.77s\n",
      "123:\tlearn: 2003.2031656\ttest: 1992.2516048\tbest: 1992.2516048 (123)\ttotal: 4.46s\tremaining: 2.73s\n",
      "124:\tlearn: 2000.9436265\ttest: 1990.1832856\tbest: 1990.1832856 (124)\ttotal: 4.5s\tremaining: 2.7s\n",
      "125:\tlearn: 1999.1321400\ttest: 1988.4588832\tbest: 1988.4588832 (125)\ttotal: 4.54s\tremaining: 2.67s\n",
      "126:\tlearn: 1997.2648457\ttest: 1986.6635341\tbest: 1986.6635341 (126)\ttotal: 4.57s\tremaining: 2.63s\n",
      "127:\tlearn: 1994.6729857\ttest: 1984.2183716\tbest: 1984.2183716 (127)\ttotal: 4.61s\tremaining: 2.6s\n",
      "128:\tlearn: 1992.6854993\ttest: 1982.3133453\tbest: 1982.3133453 (128)\ttotal: 4.64s\tremaining: 2.56s\n",
      "129:\tlearn: 1990.5534396\ttest: 1980.2891401\tbest: 1980.2891401 (129)\ttotal: 4.68s\tremaining: 2.52s\n",
      "130:\tlearn: 1988.3812220\ttest: 1978.0998777\tbest: 1978.0998777 (130)\ttotal: 4.71s\tremaining: 2.48s\n",
      "131:\tlearn: 1986.3029680\ttest: 1976.0045416\tbest: 1976.0045416 (131)\ttotal: 4.75s\tremaining: 2.44s\n",
      "132:\tlearn: 1984.2532827\ttest: 1973.9594891\tbest: 1973.9594891 (132)\ttotal: 4.79s\tremaining: 2.41s\n",
      "133:\tlearn: 1982.3618674\ttest: 1972.0711864\tbest: 1972.0711864 (133)\ttotal: 4.83s\tremaining: 2.38s\n",
      "134:\tlearn: 1980.4228399\ttest: 1970.1064552\tbest: 1970.1064552 (134)\ttotal: 4.86s\tremaining: 2.34s\n",
      "135:\tlearn: 1978.6870851\ttest: 1968.6183937\tbest: 1968.6183937 (135)\ttotal: 4.89s\tremaining: 2.3s\n",
      "136:\tlearn: 1977.2650132\ttest: 1967.2342323\tbest: 1967.2342323 (136)\ttotal: 4.92s\tremaining: 2.27s\n",
      "137:\tlearn: 1975.7536767\ttest: 1965.7999810\tbest: 1965.7999810 (137)\ttotal: 4.96s\tremaining: 2.23s\n",
      "138:\tlearn: 1974.1978834\ttest: 1964.4025120\tbest: 1964.4025120 (138)\ttotal: 4.99s\tremaining: 2.19s\n",
      "139:\tlearn: 1972.1677572\ttest: 1962.3977397\tbest: 1962.3977397 (139)\ttotal: 5.02s\tremaining: 2.15s\n",
      "140:\tlearn: 1970.7547734\ttest: 1961.1133732\tbest: 1961.1133732 (140)\ttotal: 5.05s\tremaining: 2.11s\n",
      "141:\tlearn: 1968.4174073\ttest: 1958.8547236\tbest: 1958.8547236 (141)\ttotal: 5.1s\tremaining: 2.08s\n",
      "142:\tlearn: 1966.5734420\ttest: 1957.1008699\tbest: 1957.1008699 (142)\ttotal: 5.15s\tremaining: 2.05s\n",
      "143:\tlearn: 1964.5407631\ttest: 1954.9321740\tbest: 1954.9321740 (143)\ttotal: 5.22s\tremaining: 2.03s\n",
      "144:\tlearn: 1963.0305590\ttest: 1953.4739376\tbest: 1953.4739376 (144)\ttotal: 5.28s\tremaining: 2s\n",
      "145:\tlearn: 1961.0442760\ttest: 1951.6006247\tbest: 1951.6006247 (145)\ttotal: 5.32s\tremaining: 1.97s\n",
      "146:\tlearn: 1959.2823299\ttest: 1949.9662978\tbest: 1949.9662978 (146)\ttotal: 5.38s\tremaining: 1.94s\n",
      "147:\tlearn: 1958.1432434\ttest: 1948.9215092\tbest: 1948.9215092 (147)\ttotal: 5.42s\tremaining: 1.91s\n",
      "148:\tlearn: 1956.7311559\ttest: 1947.5753208\tbest: 1947.5753208 (148)\ttotal: 5.46s\tremaining: 1.87s\n",
      "149:\tlearn: 1954.8773535\ttest: 1945.7874689\tbest: 1945.7874689 (149)\ttotal: 5.5s\tremaining: 1.83s\n",
      "150:\tlearn: 1952.9968787\ttest: 1943.9581193\tbest: 1943.9581193 (150)\ttotal: 5.54s\tremaining: 1.8s\n",
      "151:\tlearn: 1952.0694971\ttest: 1943.1231825\tbest: 1943.1231825 (151)\ttotal: 5.58s\tremaining: 1.76s\n",
      "152:\tlearn: 1950.1789240\ttest: 1941.2392384\tbest: 1941.2392384 (152)\ttotal: 5.64s\tremaining: 1.73s\n",
      "153:\tlearn: 1948.7270664\ttest: 1939.9091756\tbest: 1939.9091756 (153)\ttotal: 5.74s\tremaining: 1.71s\n",
      "154:\tlearn: 1947.5478740\ttest: 1938.8939512\tbest: 1938.8939512 (154)\ttotal: 5.78s\tremaining: 1.68s\n",
      "155:\tlearn: 1946.4865552\ttest: 1937.8391008\tbest: 1937.8391008 (155)\ttotal: 5.82s\tremaining: 1.64s\n",
      "156:\tlearn: 1945.2628619\ttest: 1936.6915008\tbest: 1936.6915008 (156)\ttotal: 5.85s\tremaining: 1.6s\n",
      "157:\tlearn: 1944.0040028\ttest: 1935.6467675\tbest: 1935.6467675 (157)\ttotal: 5.88s\tremaining: 1.56s\n",
      "158:\tlearn: 1942.8196846\ttest: 1934.5550569\tbest: 1934.5550569 (158)\ttotal: 5.92s\tremaining: 1.52s\n",
      "159:\tlearn: 1942.0507571\ttest: 1933.8402846\tbest: 1933.8402846 (159)\ttotal: 5.95s\tremaining: 1.49s\n",
      "160:\tlearn: 1940.7278214\ttest: 1932.7628697\tbest: 1932.7628697 (160)\ttotal: 6s\tremaining: 1.45s\n",
      "161:\tlearn: 1939.4488586\ttest: 1931.4561131\tbest: 1931.4561131 (161)\ttotal: 6.04s\tremaining: 1.42s\n",
      "162:\tlearn: 1938.3202162\ttest: 1930.4714546\tbest: 1930.4714546 (162)\ttotal: 6.07s\tremaining: 1.38s\n",
      "163:\tlearn: 1937.1704884\ttest: 1929.3679812\tbest: 1929.3679812 (163)\ttotal: 6.1s\tremaining: 1.34s\n",
      "164:\tlearn: 1936.2685075\ttest: 1928.6152733\tbest: 1928.6152733 (164)\ttotal: 6.13s\tremaining: 1.3s\n",
      "165:\tlearn: 1934.6397235\ttest: 1927.0060863\tbest: 1927.0060863 (165)\ttotal: 6.18s\tremaining: 1.27s\n",
      "166:\tlearn: 1933.7364726\ttest: 1926.2780214\tbest: 1926.2780214 (166)\ttotal: 6.22s\tremaining: 1.23s\n",
      "167:\tlearn: 1932.3585369\ttest: 1924.9793726\tbest: 1924.9793726 (167)\ttotal: 6.26s\tremaining: 1.19s\n",
      "168:\tlearn: 1930.9501994\ttest: 1923.6359612\tbest: 1923.6359612 (168)\ttotal: 6.31s\tremaining: 1.16s\n",
      "169:\tlearn: 1929.9650100\ttest: 1922.7937229\tbest: 1922.7937229 (169)\ttotal: 6.37s\tremaining: 1.12s\n",
      "170:\tlearn: 1928.9687712\ttest: 1921.8165429\tbest: 1921.8165429 (170)\ttotal: 6.41s\tremaining: 1.09s\n",
      "171:\tlearn: 1927.9839556\ttest: 1921.1196065\tbest: 1921.1196065 (171)\ttotal: 6.48s\tremaining: 1.05s\n",
      "172:\tlearn: 1926.7058908\ttest: 1919.9255761\tbest: 1919.9255761 (172)\ttotal: 6.52s\tremaining: 1.02s\n",
      "173:\tlearn: 1925.5038463\ttest: 1918.7540573\tbest: 1918.7540573 (173)\ttotal: 6.56s\tremaining: 980ms\n",
      "174:\tlearn: 1924.7324703\ttest: 1918.0333840\tbest: 1918.0333840 (174)\ttotal: 6.59s\tremaining: 942ms\n",
      "175:\tlearn: 1923.8505792\ttest: 1917.3029406\tbest: 1917.3029406 (175)\ttotal: 6.64s\tremaining: 906ms\n",
      "176:\tlearn: 1922.3357718\ttest: 1915.8488205\tbest: 1915.8488205 (176)\ttotal: 6.69s\tremaining: 869ms\n",
      "177:\tlearn: 1921.0024918\ttest: 1914.4712939\tbest: 1914.4712939 (177)\ttotal: 6.73s\tremaining: 832ms\n",
      "178:\tlearn: 1919.8456836\ttest: 1913.3759550\tbest: 1913.3759550 (178)\ttotal: 6.78s\tremaining: 795ms\n",
      "179:\tlearn: 1918.5227130\ttest: 1912.1145350\tbest: 1912.1145350 (179)\ttotal: 6.82s\tremaining: 758ms\n",
      "180:\tlearn: 1917.5663564\ttest: 1911.3476706\tbest: 1911.3476706 (180)\ttotal: 6.87s\tremaining: 721ms\n",
      "181:\tlearn: 1916.7621809\ttest: 1910.5762986\tbest: 1910.5762986 (181)\ttotal: 6.91s\tremaining: 683ms\n",
      "182:\tlearn: 1915.6947426\ttest: 1909.5600548\tbest: 1909.5600548 (182)\ttotal: 6.95s\tremaining: 645ms\n",
      "183:\tlearn: 1914.9008842\ttest: 1908.9148507\tbest: 1908.9148507 (183)\ttotal: 7.01s\tremaining: 610ms\n",
      "184:\tlearn: 1914.2893796\ttest: 1908.3670191\tbest: 1908.3670191 (184)\ttotal: 7.06s\tremaining: 573ms\n",
      "185:\tlearn: 1913.3212143\ttest: 1907.5013395\tbest: 1907.5013395 (185)\ttotal: 7.11s\tremaining: 535ms\n",
      "186:\tlearn: 1912.5817629\ttest: 1906.9679121\tbest: 1906.9679121 (186)\ttotal: 7.15s\tremaining: 497ms\n",
      "187:\tlearn: 1911.8326221\ttest: 1906.3551378\tbest: 1906.3551378 (187)\ttotal: 7.21s\tremaining: 460ms\n",
      "188:\tlearn: 1910.6256998\ttest: 1905.2680361\tbest: 1905.2680361 (188)\ttotal: 7.27s\tremaining: 423ms\n",
      "189:\tlearn: 1909.5130712\ttest: 1904.2454475\tbest: 1904.2454475 (189)\ttotal: 7.32s\tremaining: 385ms\n",
      "190:\tlearn: 1908.5219823\ttest: 1903.4037811\tbest: 1903.4037811 (190)\ttotal: 7.36s\tremaining: 347ms\n",
      "191:\tlearn: 1908.0251058\ttest: 1902.9673257\tbest: 1902.9673257 (191)\ttotal: 7.4s\tremaining: 309ms\n",
      "192:\tlearn: 1907.6078775\ttest: 1902.6225751\tbest: 1902.6225751 (192)\ttotal: 7.44s\tremaining: 270ms\n",
      "193:\tlearn: 1906.8230844\ttest: 1901.8242935\tbest: 1901.8242935 (193)\ttotal: 7.49s\tremaining: 232ms\n",
      "194:\tlearn: 1905.9316925\ttest: 1900.9522805\tbest: 1900.9522805 (194)\ttotal: 7.53s\tremaining: 193ms\n",
      "195:\tlearn: 1904.8499361\ttest: 1900.0708612\tbest: 1900.0708612 (195)\ttotal: 7.58s\tremaining: 155ms\n",
      "196:\tlearn: 1903.9384235\ttest: 1899.2591685\tbest: 1899.2591685 (196)\ttotal: 7.61s\tremaining: 116ms\n",
      "197:\tlearn: 1903.3110844\ttest: 1898.6824018\tbest: 1898.6824018 (197)\ttotal: 7.65s\tremaining: 77.3ms\n",
      "198:\tlearn: 1902.2800280\ttest: 1897.6309981\tbest: 1897.6309981 (198)\ttotal: 7.68s\tremaining: 38.6ms\n",
      "199:\tlearn: 1901.1740833\ttest: 1896.6602599\tbest: 1896.6602599 (199)\ttotal: 7.72s\tremaining: 0us\n",
      "\n",
      "bestTest = 1896.66026\n",
      "bestIteration = 199\n",
      "\n",
      "26:\tloss: 1896.6602599\tbest: 1894.4260747 (25)\ttotal: 1m 30s\tremaining: 0us\n",
      "Estimating final quality...\n",
      "Training on fold [0/3]\n",
      "0:\tlearn: 6138.9026166\ttest: 6116.0777870\tbest: 6116.0777870 (0)\ttotal: 32.9ms\tremaining: 6.55s\n",
      "1:\tlearn: 5986.6009997\ttest: 5964.3877241\tbest: 5964.3877241 (1)\ttotal: 62.6ms\tremaining: 6.2s\n",
      "2:\tlearn: 5842.8023857\ttest: 5820.9883987\tbest: 5820.9883987 (2)\ttotal: 92.6ms\tremaining: 6.08s\n",
      "3:\tlearn: 5701.8915485\ttest: 5680.3434884\tbest: 5680.3434884 (3)\ttotal: 119ms\tremaining: 5.82s\n",
      "4:\tlearn: 5565.0506689\ttest: 5544.4551573\tbest: 5544.4551573 (4)\ttotal: 146ms\tremaining: 5.71s\n",
      "5:\tlearn: 5432.0134735\ttest: 5412.2634796\tbest: 5412.2634796 (5)\ttotal: 175ms\tremaining: 5.64s\n",
      "6:\tlearn: 5305.8429077\ttest: 5286.4270761\tbest: 5286.4270761 (6)\ttotal: 201ms\tremaining: 5.55s\n",
      "7:\tlearn: 5181.5841320\ttest: 5163.0629105\tbest: 5163.0629105 (7)\ttotal: 227ms\tremaining: 5.46s\n",
      "8:\tlearn: 5062.7801189\ttest: 5044.8772772\tbest: 5044.8772772 (8)\ttotal: 255ms\tremaining: 5.42s\n",
      "9:\tlearn: 4947.8859164\ttest: 4930.7752763\tbest: 4930.7752763 (9)\ttotal: 289ms\tremaining: 5.5s\n",
      "10:\tlearn: 4836.5661661\ttest: 4820.2161845\tbest: 4820.2161845 (10)\ttotal: 318ms\tremaining: 5.46s\n",
      "11:\tlearn: 4728.3852113\ttest: 4712.5910899\tbest: 4712.5910899 (11)\ttotal: 345ms\tremaining: 5.4s\n",
      "12:\tlearn: 4624.6919248\ttest: 4609.3406535\tbest: 4609.3406535 (12)\ttotal: 371ms\tremaining: 5.33s\n",
      "13:\tlearn: 4524.5165188\ttest: 4509.6381094\tbest: 4509.6381094 (13)\ttotal: 397ms\tremaining: 5.28s\n",
      "14:\tlearn: 4429.6316214\ttest: 4415.2728047\tbest: 4415.2728047 (14)\ttotal: 424ms\tremaining: 5.22s\n",
      "15:\tlearn: 4337.7104765\ttest: 4323.8076270\tbest: 4323.8076270 (15)\ttotal: 454ms\tremaining: 5.22s\n",
      "16:\tlearn: 4248.6808854\ttest: 4235.2938328\tbest: 4235.2938328 (16)\ttotal: 486ms\tremaining: 5.23s\n",
      "17:\tlearn: 4163.4875650\ttest: 4150.7113476\tbest: 4150.7113476 (17)\ttotal: 521ms\tremaining: 5.26s\n",
      "18:\tlearn: 4081.1963140\ttest: 4068.8685066\tbest: 4068.8685066 (18)\ttotal: 552ms\tremaining: 5.26s\n",
      "19:\tlearn: 4002.2049068\ttest: 3990.2685349\tbest: 3990.2685349 (19)\ttotal: 592ms\tremaining: 5.33s\n",
      "20:\tlearn: 3924.5146294\ttest: 3913.1003258\tbest: 3913.1003258 (20)\ttotal: 620ms\tremaining: 5.28s\n",
      "21:\tlearn: 3850.5729113\ttest: 3839.5250627\tbest: 3839.5250627 (21)\ttotal: 646ms\tremaining: 5.22s\n",
      "22:\tlearn: 3777.6668681\ttest: 3767.1912838\tbest: 3767.1912838 (22)\ttotal: 675ms\tremaining: 5.19s\n",
      "23:\tlearn: 3708.1357980\ttest: 3698.0528929\tbest: 3698.0528929 (23)\ttotal: 702ms\tremaining: 5.15s\n",
      "24:\tlearn: 3643.0116996\ttest: 3633.5977150\tbest: 3633.5977150 (24)\ttotal: 735ms\tremaining: 5.14s\n",
      "25:\tlearn: 3579.6711755\ttest: 3570.9408634\tbest: 3570.9408634 (25)\ttotal: 764ms\tremaining: 5.12s\n",
      "26:\tlearn: 3517.0984994\ttest: 3509.0196140\tbest: 3509.0196140 (26)\ttotal: 793ms\tremaining: 5.08s\n",
      "27:\tlearn: 3457.3135412\ttest: 3449.6393951\tbest: 3449.6393951 (27)\ttotal: 818ms\tremaining: 5.03s\n",
      "28:\tlearn: 3400.5498008\ttest: 3393.3972127\tbest: 3393.3972127 (28)\ttotal: 847ms\tremaining: 5s\n",
      "29:\tlearn: 3345.0253370\ttest: 3338.5169513\tbest: 3338.5169513 (29)\ttotal: 878ms\tremaining: 4.97s\n",
      "30:\tlearn: 3293.1727071\ttest: 3287.2286517\tbest: 3287.2286517 (30)\ttotal: 905ms\tremaining: 4.93s\n",
      "31:\tlearn: 3241.4996494\ttest: 3235.8448219\tbest: 3235.8448219 (31)\ttotal: 932ms\tremaining: 4.89s\n",
      "32:\tlearn: 3192.7166602\ttest: 3187.5902338\tbest: 3187.5902338 (32)\ttotal: 966ms\tremaining: 4.89s\n",
      "33:\tlearn: 3146.4220442\ttest: 3141.9134378\tbest: 3141.9134378 (33)\ttotal: 995ms\tremaining: 4.86s\n",
      "34:\tlearn: 3101.8073766\ttest: 3097.7148559\tbest: 3097.7148559 (34)\ttotal: 1.03s\tremaining: 4.88s\n",
      "35:\tlearn: 3058.7994840\ttest: 3055.2883132\tbest: 3055.2883132 (35)\ttotal: 1.06s\tremaining: 4.84s\n",
      "36:\tlearn: 3017.4706033\ttest: 3014.4330395\tbest: 3014.4330395 (36)\ttotal: 1.09s\tremaining: 4.81s\n",
      "37:\tlearn: 2976.6703979\ttest: 2973.7654489\tbest: 2973.7654489 (37)\ttotal: 1.12s\tremaining: 4.79s\n",
      "38:\tlearn: 2938.1291933\ttest: 2935.6001863\tbest: 2935.6001863 (38)\ttotal: 1.16s\tremaining: 4.77s\n",
      "39:\tlearn: 2901.8793071\ttest: 2899.5409655\tbest: 2899.5409655 (39)\ttotal: 1.19s\tremaining: 4.77s\n",
      "40:\tlearn: 2865.4343679\ttest: 2863.5966386\tbest: 2863.5966386 (40)\ttotal: 1.22s\tremaining: 4.74s\n",
      "41:\tlearn: 2830.2628933\ttest: 2828.9652993\tbest: 2828.9652993 (41)\ttotal: 1.25s\tremaining: 4.7s\n",
      "42:\tlearn: 2797.5360650\ttest: 2796.7036240\tbest: 2796.7036240 (42)\ttotal: 1.28s\tremaining: 4.69s\n",
      "43:\tlearn: 2765.8772986\ttest: 2765.4208429\tbest: 2765.4208429 (43)\ttotal: 1.32s\tremaining: 4.67s\n",
      "44:\tlearn: 2735.3092018\ttest: 2735.0640608\tbest: 2735.0640608 (44)\ttotal: 1.34s\tremaining: 4.63s\n",
      "45:\tlearn: 2706.3978042\ttest: 2706.4359947\tbest: 2706.4359947 (45)\ttotal: 1.37s\tremaining: 4.6s\n",
      "46:\tlearn: 2678.9072696\ttest: 2679.4982504\tbest: 2679.4982504 (46)\ttotal: 1.4s\tremaining: 4.56s\n",
      "47:\tlearn: 2652.7654684\ttest: 2653.7895795\tbest: 2653.7895795 (47)\ttotal: 1.44s\tremaining: 4.55s\n",
      "48:\tlearn: 2628.2954519\ttest: 2629.6550236\tbest: 2629.6550236 (48)\ttotal: 1.46s\tremaining: 4.51s\n",
      "49:\tlearn: 2603.7376417\ttest: 2605.4347652\tbest: 2605.4347652 (49)\ttotal: 1.49s\tremaining: 4.47s\n",
      "50:\tlearn: 2579.4240317\ttest: 2581.3924262\tbest: 2581.3924262 (50)\ttotal: 1.52s\tremaining: 4.43s\n",
      "51:\tlearn: 2557.5324692\ttest: 2560.0171170\tbest: 2560.0171170 (51)\ttotal: 1.54s\tremaining: 4.39s\n",
      "52:\tlearn: 2536.2587560\ttest: 2539.0788557\tbest: 2539.0788557 (52)\ttotal: 1.57s\tremaining: 4.35s\n",
      "53:\tlearn: 2515.0348072\ttest: 2518.2409708\tbest: 2518.2409708 (53)\ttotal: 1.59s\tremaining: 4.31s\n",
      "54:\tlearn: 2494.5624937\ttest: 2498.1365171\tbest: 2498.1365171 (54)\ttotal: 1.63s\tremaining: 4.29s\n",
      "55:\tlearn: 2475.2744068\ttest: 2479.1416111\tbest: 2479.1416111 (55)\ttotal: 1.66s\tremaining: 4.26s\n",
      "56:\tlearn: 2456.9445875\ttest: 2461.3167662\tbest: 2461.3167662 (56)\ttotal: 1.68s\tremaining: 4.22s\n",
      "57:\tlearn: 2439.3905227\ttest: 2444.0078376\tbest: 2444.0078376 (57)\ttotal: 1.71s\tremaining: 4.18s\n",
      "58:\tlearn: 2421.3318866\ttest: 2426.3547260\tbest: 2426.3547260 (58)\ttotal: 1.74s\tremaining: 4.15s\n",
      "59:\tlearn: 2405.1207229\ttest: 2410.5842583\tbest: 2410.5842583 (59)\ttotal: 1.76s\tremaining: 4.12s\n",
      "60:\tlearn: 2389.9944330\ttest: 2395.9386635\tbest: 2395.9386635 (60)\ttotal: 1.79s\tremaining: 4.08s\n",
      "61:\tlearn: 2375.1201099\ttest: 2381.4159292\tbest: 2381.4159292 (61)\ttotal: 1.82s\tremaining: 4.04s\n",
      "62:\tlearn: 2360.6956974\ttest: 2367.1923272\tbest: 2367.1923272 (62)\ttotal: 1.84s\tremaining: 4.01s\n",
      "63:\tlearn: 2346.5468882\ttest: 2353.3961615\tbest: 2353.3961615 (63)\ttotal: 1.88s\tremaining: 3.99s\n",
      "64:\tlearn: 2333.1722115\ttest: 2340.1951803\tbest: 2340.1951803 (64)\ttotal: 1.9s\tremaining: 3.95s\n",
      "65:\tlearn: 2319.9750331\ttest: 2327.1625951\tbest: 2327.1625951 (65)\ttotal: 1.93s\tremaining: 3.92s\n",
      "66:\tlearn: 2308.4447284\ttest: 2315.7569243\tbest: 2315.7569243 (66)\ttotal: 1.95s\tremaining: 3.88s\n",
      "67:\tlearn: 2297.0883205\ttest: 2304.6306364\tbest: 2304.6306364 (67)\ttotal: 1.98s\tremaining: 3.85s\n",
      "68:\tlearn: 2285.5308352\ttest: 2293.3733768\tbest: 2293.3733768 (68)\ttotal: 2.01s\tremaining: 3.81s\n",
      "69:\tlearn: 2274.4724912\ttest: 2282.6443473\tbest: 2282.6443473 (69)\ttotal: 2.03s\tremaining: 3.77s\n",
      "70:\tlearn: 2264.3484914\ttest: 2272.8261593\tbest: 2272.8261593 (70)\ttotal: 2.06s\tremaining: 3.74s\n",
      "71:\tlearn: 2254.4511085\ttest: 2263.1163699\tbest: 2263.1163699 (71)\ttotal: 2.08s\tremaining: 3.7s\n",
      "72:\tlearn: 2245.0747352\ttest: 2254.0914156\tbest: 2254.0914156 (72)\ttotal: 2.12s\tremaining: 3.69s\n",
      "73:\tlearn: 2235.7600235\ttest: 2245.0769274\tbest: 2245.0769274 (73)\ttotal: 2.15s\tremaining: 3.66s\n",
      "74:\tlearn: 2227.3867641\ttest: 2236.8954087\tbest: 2236.8954087 (74)\ttotal: 2.17s\tremaining: 3.62s\n",
      "75:\tlearn: 2217.1510491\ttest: 2226.8280724\tbest: 2226.8280724 (75)\ttotal: 2.2s\tremaining: 3.59s\n",
      "76:\tlearn: 2208.6872054\ttest: 2218.4526562\tbest: 2218.4526562 (76)\ttotal: 2.23s\tremaining: 3.56s\n",
      "77:\tlearn: 2200.1675278\ttest: 2210.2364293\tbest: 2210.2364293 (77)\ttotal: 2.25s\tremaining: 3.52s\n",
      "78:\tlearn: 2191.8508530\ttest: 2202.2257099\tbest: 2202.2257099 (78)\ttotal: 2.28s\tremaining: 3.49s\n",
      "79:\tlearn: 2183.6539358\ttest: 2194.1451111\tbest: 2194.1451111 (79)\ttotal: 2.31s\tremaining: 3.46s\n",
      "80:\tlearn: 2176.3842460\ttest: 2187.0982275\tbest: 2187.0982275 (80)\ttotal: 2.33s\tremaining: 3.43s\n",
      "81:\tlearn: 2169.3402942\ttest: 2180.4809539\tbest: 2180.4809539 (81)\ttotal: 2.36s\tremaining: 3.4s\n",
      "82:\tlearn: 2162.1430177\ttest: 2173.6761801\tbest: 2173.6761801 (82)\ttotal: 2.39s\tremaining: 3.37s\n",
      "83:\tlearn: 2154.9258319\ttest: 2166.5025234\tbest: 2166.5025234 (83)\ttotal: 2.42s\tremaining: 3.34s\n",
      "84:\tlearn: 2147.4759357\ttest: 2159.1311045\tbest: 2159.1311045 (84)\ttotal: 2.45s\tremaining: 3.31s\n",
      "85:\tlearn: 2139.6967453\ttest: 2151.3982919\tbest: 2151.3982919 (85)\ttotal: 2.47s\tremaining: 3.28s\n",
      "86:\tlearn: 2132.7986712\ttest: 2144.7440751\tbest: 2144.7440751 (86)\ttotal: 2.5s\tremaining: 3.25s\n",
      "87:\tlearn: 2127.2383128\ttest: 2139.4552148\tbest: 2139.4552148 (87)\ttotal: 2.53s\tremaining: 3.21s\n",
      "88:\tlearn: 2121.0202943\ttest: 2133.2160992\tbest: 2133.2160992 (88)\ttotal: 2.56s\tremaining: 3.19s\n",
      "89:\tlearn: 2115.4642184\ttest: 2127.8437695\tbest: 2127.8437695 (89)\ttotal: 2.58s\tremaining: 3.16s\n",
      "90:\tlearn: 2109.6806201\ttest: 2122.3644946\tbest: 2122.3644946 (90)\ttotal: 2.61s\tremaining: 3.13s\n",
      "91:\tlearn: 2104.9863136\ttest: 2117.9374703\tbest: 2117.9374703 (91)\ttotal: 2.64s\tremaining: 3.1s\n",
      "92:\tlearn: 2100.2106786\ttest: 2113.2590820\tbest: 2113.2590820 (92)\ttotal: 2.67s\tremaining: 3.07s\n",
      "93:\tlearn: 2094.4284430\ttest: 2107.3926095\tbest: 2107.3926095 (93)\ttotal: 2.69s\tremaining: 3.04s\n",
      "94:\tlearn: 2089.6653426\ttest: 2102.9348847\tbest: 2102.9348847 (94)\ttotal: 2.72s\tremaining: 3.01s\n",
      "95:\tlearn: 2085.2260735\ttest: 2098.6480914\tbest: 2098.6480914 (95)\ttotal: 2.74s\tremaining: 2.97s\n",
      "96:\tlearn: 2081.5072927\ttest: 2095.1921019\tbest: 2095.1921019 (96)\ttotal: 2.77s\tremaining: 2.94s\n",
      "97:\tlearn: 2076.4797844\ttest: 2090.3208999\tbest: 2090.3208999 (97)\ttotal: 2.8s\tremaining: 2.92s\n",
      "98:\tlearn: 2072.3435337\ttest: 2086.4217333\tbest: 2086.4217333 (98)\ttotal: 2.83s\tremaining: 2.88s\n",
      "99:\tlearn: 2068.5801195\ttest: 2083.0041129\tbest: 2083.0041129 (99)\ttotal: 2.85s\tremaining: 2.85s\n",
      "100:\tlearn: 2064.7804286\ttest: 2079.4489565\tbest: 2079.4489565 (100)\ttotal: 2.88s\tremaining: 2.82s\n",
      "101:\tlearn: 2060.5772567\ttest: 2075.4256957\tbest: 2075.4256957 (101)\ttotal: 2.9s\tremaining: 2.79s\n",
      "102:\tlearn: 2057.2471450\ttest: 2072.1224400\tbest: 2072.1224400 (102)\ttotal: 2.93s\tremaining: 2.76s\n",
      "103:\tlearn: 2052.7210521\ttest: 2067.5615077\tbest: 2067.5615077 (103)\ttotal: 2.95s\tremaining: 2.73s\n",
      "104:\tlearn: 2049.2521440\ttest: 2064.1236006\tbest: 2064.1236006 (104)\ttotal: 2.98s\tremaining: 2.7s\n",
      "105:\tlearn: 2045.6447090\ttest: 2060.7930776\tbest: 2060.7930776 (105)\ttotal: 3.01s\tremaining: 2.67s\n",
      "106:\tlearn: 2041.3380446\ttest: 2056.7893269\tbest: 2056.7893269 (106)\ttotal: 3.04s\tremaining: 2.64s\n",
      "107:\tlearn: 2038.4634475\ttest: 2054.1018302\tbest: 2054.1018302 (107)\ttotal: 3.06s\tremaining: 2.61s\n",
      "108:\tlearn: 2034.9115413\ttest: 2050.6050086\tbest: 2050.6050086 (108)\ttotal: 3.09s\tremaining: 2.58s\n",
      "109:\tlearn: 2032.1766568\ttest: 2048.0258494\tbest: 2048.0258494 (109)\ttotal: 3.11s\tremaining: 2.54s\n",
      "110:\tlearn: 2029.0167204\ttest: 2045.1588223\tbest: 2045.1588223 (110)\ttotal: 3.14s\tremaining: 2.52s\n",
      "111:\tlearn: 2025.6480151\ttest: 2041.7875300\tbest: 2041.7875300 (111)\ttotal: 3.16s\tremaining: 2.48s\n",
      "112:\tlearn: 2022.8998671\ttest: 2039.2640398\tbest: 2039.2640398 (112)\ttotal: 3.19s\tremaining: 2.45s\n",
      "113:\tlearn: 2019.9793635\ttest: 2036.4577915\tbest: 2036.4577915 (113)\ttotal: 3.22s\tremaining: 2.43s\n",
      "114:\tlearn: 2016.9411254\ttest: 2033.5465562\tbest: 2033.5465562 (114)\ttotal: 3.25s\tremaining: 2.4s\n",
      "115:\tlearn: 2014.4311477\ttest: 2031.1965906\tbest: 2031.1965906 (115)\ttotal: 3.27s\tremaining: 2.37s\n",
      "116:\tlearn: 2012.1855832\ttest: 2029.1201138\tbest: 2029.1201138 (116)\ttotal: 3.29s\tremaining: 2.34s\n",
      "117:\tlearn: 2009.3465773\ttest: 2026.5406301\tbest: 2026.5406301 (117)\ttotal: 3.32s\tremaining: 2.31s\n",
      "118:\tlearn: 2006.6692189\ttest: 2023.9425158\tbest: 2023.9425158 (118)\ttotal: 3.35s\tremaining: 2.28s\n",
      "119:\tlearn: 2004.5778047\ttest: 2022.1115755\tbest: 2022.1115755 (119)\ttotal: 3.37s\tremaining: 2.25s\n",
      "120:\tlearn: 2002.0772659\ttest: 2019.6577899\tbest: 2019.6577899 (120)\ttotal: 3.4s\tremaining: 2.22s\n",
      "121:\tlearn: 1999.4214642\ttest: 2017.1397868\tbest: 2017.1397868 (121)\ttotal: 3.42s\tremaining: 2.19s\n",
      "122:\tlearn: 1997.1348736\ttest: 2015.0947350\tbest: 2015.0947350 (122)\ttotal: 3.45s\tremaining: 2.16s\n",
      "123:\tlearn: 1994.7412079\ttest: 2013.0242722\tbest: 2013.0242722 (123)\ttotal: 3.48s\tremaining: 2.14s\n",
      "124:\tlearn: 1992.6039843\ttest: 2010.9216700\tbest: 2010.9216700 (124)\ttotal: 3.51s\tremaining: 2.11s\n",
      "125:\tlearn: 1990.5092439\ttest: 2008.7829137\tbest: 2008.7829137 (125)\ttotal: 3.54s\tremaining: 2.08s\n",
      "126:\tlearn: 1988.7052149\ttest: 2007.2129741\tbest: 2007.2129741 (126)\ttotal: 3.56s\tremaining: 2.05s\n",
      "127:\tlearn: 1986.3980551\ttest: 2004.9543336\tbest: 2004.9543336 (127)\ttotal: 3.59s\tremaining: 2.02s\n",
      "128:\tlearn: 1984.4960764\ttest: 2003.0692961\tbest: 2003.0692961 (128)\ttotal: 3.61s\tremaining: 1.99s\n",
      "129:\tlearn: 1982.8724620\ttest: 2001.5608350\tbest: 2001.5608350 (129)\ttotal: 3.64s\tremaining: 1.96s\n",
      "130:\tlearn: 1980.5583630\ttest: 1999.3099354\tbest: 1999.3099354 (130)\ttotal: 3.67s\tremaining: 1.93s\n",
      "131:\tlearn: 1978.9932314\ttest: 1997.7529223\tbest: 1997.7529223 (131)\ttotal: 3.7s\tremaining: 1.91s\n",
      "132:\tlearn: 1976.3547124\ttest: 1995.0642035\tbest: 1995.0642035 (132)\ttotal: 3.72s\tremaining: 1.88s\n",
      "133:\tlearn: 1974.5972207\ttest: 1993.4777840\tbest: 1993.4777840 (133)\ttotal: 3.75s\tremaining: 1.85s\n",
      "134:\tlearn: 1972.7557070\ttest: 1991.6086196\tbest: 1991.6086196 (134)\ttotal: 3.77s\tremaining: 1.82s\n",
      "135:\tlearn: 1970.5958081\ttest: 1989.5399523\tbest: 1989.5399523 (135)\ttotal: 3.8s\tremaining: 1.79s\n",
      "136:\tlearn: 1968.3922420\ttest: 1987.4404568\tbest: 1987.4404568 (136)\ttotal: 3.83s\tremaining: 1.76s\n",
      "137:\tlearn: 1966.9299150\ttest: 1986.0386435\tbest: 1986.0386435 (137)\ttotal: 3.86s\tremaining: 1.73s\n",
      "138:\tlearn: 1965.6132493\ttest: 1984.9625247\tbest: 1984.9625247 (138)\ttotal: 3.89s\tremaining: 1.71s\n",
      "139:\tlearn: 1963.6500807\ttest: 1983.1606592\tbest: 1983.1606592 (139)\ttotal: 3.91s\tremaining: 1.68s\n",
      "140:\tlearn: 1961.6270741\ttest: 1981.3487994\tbest: 1981.3487994 (140)\ttotal: 3.94s\tremaining: 1.65s\n",
      "141:\tlearn: 1959.9226090\ttest: 1979.7482139\tbest: 1979.7482139 (141)\ttotal: 3.96s\tremaining: 1.62s\n",
      "142:\tlearn: 1958.0423273\ttest: 1978.0731287\tbest: 1978.0731287 (142)\ttotal: 3.98s\tremaining: 1.59s\n",
      "143:\tlearn: 1955.7179237\ttest: 1975.8281302\tbest: 1975.8281302 (143)\ttotal: 4.01s\tremaining: 1.56s\n",
      "144:\tlearn: 1954.0688814\ttest: 1974.4344164\tbest: 1974.4344164 (144)\ttotal: 4.04s\tremaining: 1.53s\n",
      "145:\tlearn: 1952.0164594\ttest: 1972.4175368\tbest: 1972.4175368 (145)\ttotal: 4.06s\tremaining: 1.5s\n",
      "146:\tlearn: 1950.2463480\ttest: 1970.6866301\tbest: 1970.6866301 (146)\ttotal: 4.09s\tremaining: 1.48s\n",
      "147:\tlearn: 1948.9252718\ttest: 1969.4655111\tbest: 1969.4655111 (147)\ttotal: 4.12s\tremaining: 1.45s\n",
      "148:\tlearn: 1947.9146599\ttest: 1968.5565252\tbest: 1968.5565252 (148)\ttotal: 4.14s\tremaining: 1.42s\n",
      "149:\tlearn: 1946.1229587\ttest: 1967.1101789\tbest: 1967.1101789 (149)\ttotal: 4.17s\tremaining: 1.39s\n",
      "150:\tlearn: 1943.8368588\ttest: 1964.8467131\tbest: 1964.8467131 (150)\ttotal: 4.19s\tremaining: 1.36s\n",
      "151:\tlearn: 1942.7009148\ttest: 1963.8428645\tbest: 1963.8428645 (151)\ttotal: 4.22s\tremaining: 1.33s\n",
      "152:\tlearn: 1941.6968139\ttest: 1962.9064727\tbest: 1962.9064727 (152)\ttotal: 4.24s\tremaining: 1.3s\n",
      "153:\tlearn: 1940.4569994\ttest: 1961.7685561\tbest: 1961.7685561 (153)\ttotal: 4.27s\tremaining: 1.28s\n",
      "154:\tlearn: 1938.9229102\ttest: 1960.5648146\tbest: 1960.5648146 (154)\ttotal: 4.3s\tremaining: 1.25s\n",
      "155:\tlearn: 1937.5614744\ttest: 1959.2335796\tbest: 1959.2335796 (155)\ttotal: 4.33s\tremaining: 1.22s\n",
      "156:\tlearn: 1936.1815707\ttest: 1957.8947140\tbest: 1957.8947140 (156)\ttotal: 4.35s\tremaining: 1.19s\n",
      "157:\tlearn: 1934.8388443\ttest: 1956.5449313\tbest: 1956.5449313 (157)\ttotal: 4.38s\tremaining: 1.16s\n",
      "158:\tlearn: 1933.1870981\ttest: 1954.8931435\tbest: 1954.8931435 (158)\ttotal: 4.41s\tremaining: 1.14s\n",
      "159:\tlearn: 1932.1626433\ttest: 1953.8892747\tbest: 1953.8892747 (159)\ttotal: 4.43s\tremaining: 1.11s\n",
      "160:\tlearn: 1930.5339830\ttest: 1952.3131569\tbest: 1952.3131569 (160)\ttotal: 4.46s\tremaining: 1.08s\n",
      "161:\tlearn: 1929.1899293\ttest: 1951.2393190\tbest: 1951.2393190 (161)\ttotal: 4.48s\tremaining: 1.05s\n",
      "162:\tlearn: 1927.4021182\ttest: 1949.6166212\tbest: 1949.6166212 (162)\ttotal: 4.52s\tremaining: 1.02s\n",
      "163:\tlearn: 1926.1632700\ttest: 1948.5010395\tbest: 1948.5010395 (163)\ttotal: 4.54s\tremaining: 997ms\n",
      "164:\tlearn: 1924.9898890\ttest: 1947.5325285\tbest: 1947.5325285 (164)\ttotal: 4.57s\tremaining: 969ms\n",
      "165:\tlearn: 1923.6939015\ttest: 1946.3226641\tbest: 1946.3226641 (165)\ttotal: 4.6s\tremaining: 942ms\n",
      "166:\tlearn: 1922.9212447\ttest: 1945.6813494\tbest: 1945.6813494 (166)\ttotal: 4.62s\tremaining: 913ms\n",
      "167:\tlearn: 1921.9378960\ttest: 1944.7687017\tbest: 1944.7687017 (167)\ttotal: 4.65s\tremaining: 885ms\n",
      "168:\tlearn: 1920.9476603\ttest: 1943.9060750\tbest: 1943.9060750 (168)\ttotal: 4.69s\tremaining: 860ms\n",
      "169:\tlearn: 1919.5384598\ttest: 1942.5499633\tbest: 1942.5499633 (169)\ttotal: 4.73s\tremaining: 834ms\n",
      "170:\tlearn: 1918.0754735\ttest: 1941.1294568\tbest: 1941.1294568 (170)\ttotal: 4.76s\tremaining: 807ms\n",
      "171:\tlearn: 1916.4931119\ttest: 1939.6454275\tbest: 1939.6454275 (171)\ttotal: 4.79s\tremaining: 779ms\n",
      "172:\tlearn: 1915.2480785\ttest: 1938.6311138\tbest: 1938.6311138 (172)\ttotal: 4.81s\tremaining: 751ms\n",
      "173:\tlearn: 1914.1801779\ttest: 1937.7229808\tbest: 1937.7229808 (173)\ttotal: 4.83s\tremaining: 723ms\n",
      "174:\tlearn: 1913.2522675\ttest: 1936.7866111\tbest: 1936.7866111 (174)\ttotal: 4.86s\tremaining: 694ms\n",
      "175:\tlearn: 1912.0152565\ttest: 1935.5234122\tbest: 1935.5234122 (175)\ttotal: 4.88s\tremaining: 666ms\n",
      "176:\tlearn: 1910.8827984\ttest: 1934.6033368\tbest: 1934.6033368 (176)\ttotal: 4.91s\tremaining: 638ms\n",
      "177:\tlearn: 1909.7250924\ttest: 1933.4926699\tbest: 1933.4926699 (177)\ttotal: 4.95s\tremaining: 612ms\n",
      "178:\tlearn: 1908.8123412\ttest: 1932.6317727\tbest: 1932.6317727 (178)\ttotal: 4.98s\tremaining: 584ms\n",
      "179:\tlearn: 1907.6568163\ttest: 1931.5374472\tbest: 1931.5374472 (179)\ttotal: 5s\tremaining: 556ms\n",
      "180:\tlearn: 1906.6005504\ttest: 1930.6512679\tbest: 1930.6512679 (180)\ttotal: 5.03s\tremaining: 528ms\n",
      "181:\tlearn: 1905.3334076\ttest: 1929.6673517\tbest: 1929.6673517 (181)\ttotal: 5.06s\tremaining: 500ms\n",
      "182:\tlearn: 1904.6235221\ttest: 1929.0124377\tbest: 1929.0124377 (182)\ttotal: 5.08s\tremaining: 472ms\n",
      "183:\tlearn: 1903.3121927\ttest: 1927.8086796\tbest: 1927.8086796 (183)\ttotal: 5.11s\tremaining: 444ms\n",
      "184:\tlearn: 1902.3207249\ttest: 1926.8194041\tbest: 1926.8194041 (184)\ttotal: 5.13s\tremaining: 416ms\n",
      "185:\tlearn: 1901.6006800\ttest: 1926.2491010\tbest: 1926.2491010 (185)\ttotal: 5.16s\tremaining: 388ms\n",
      "186:\tlearn: 1900.3846795\ttest: 1925.0736981\tbest: 1925.0736981 (186)\ttotal: 5.19s\tremaining: 361ms\n",
      "187:\tlearn: 1899.2702573\ttest: 1924.1752192\tbest: 1924.1752192 (187)\ttotal: 5.22s\tremaining: 333ms\n",
      "188:\tlearn: 1897.9849420\ttest: 1922.9580082\tbest: 1922.9580082 (188)\ttotal: 5.25s\tremaining: 305ms\n",
      "189:\tlearn: 1896.9869078\ttest: 1922.0082804\tbest: 1922.0082804 (189)\ttotal: 5.29s\tremaining: 278ms\n",
      "190:\tlearn: 1895.9799056\ttest: 1921.1021461\tbest: 1921.1021461 (190)\ttotal: 5.32s\tremaining: 251ms\n",
      "191:\tlearn: 1894.8978755\ttest: 1920.1157221\tbest: 1920.1157221 (191)\ttotal: 5.34s\tremaining: 223ms\n",
      "192:\tlearn: 1893.5620826\ttest: 1918.7571733\tbest: 1918.7571733 (192)\ttotal: 5.38s\tremaining: 195ms\n",
      "193:\tlearn: 1892.6100780\ttest: 1917.8440504\tbest: 1917.8440504 (193)\ttotal: 5.41s\tremaining: 167ms\n",
      "194:\tlearn: 1891.7187878\ttest: 1917.0312490\tbest: 1917.0312490 (194)\ttotal: 5.44s\tremaining: 139ms\n",
      "195:\tlearn: 1890.6995913\ttest: 1916.2154448\tbest: 1916.2154448 (195)\ttotal: 5.46s\tremaining: 112ms\n",
      "196:\tlearn: 1889.8995542\ttest: 1915.4903391\tbest: 1915.4903391 (196)\ttotal: 5.49s\tremaining: 83.6ms\n",
      "197:\tlearn: 1888.9661348\ttest: 1914.5908661\tbest: 1914.5908661 (197)\ttotal: 5.51s\tremaining: 55.7ms\n",
      "198:\tlearn: 1888.0582684\ttest: 1913.6909379\tbest: 1913.6909379 (198)\ttotal: 5.54s\tremaining: 27.9ms\n",
      "199:\tlearn: 1887.2507624\ttest: 1912.9712380\tbest: 1912.9712380 (199)\ttotal: 5.57s\tremaining: 0us\n",
      "\n",
      "bestTest = 1912.971238\n",
      "bestIteration = 199\n",
      "\n",
      "Training on fold [1/3]\n",
      "0:\tlearn: 6133.9389954\ttest: 6130.3739299\tbest: 6130.3739299 (0)\ttotal: 27.7ms\tremaining: 5.5s\n",
      "1:\tlearn: 5981.7572909\ttest: 5978.1477373\tbest: 5978.1477373 (1)\ttotal: 53.4ms\tremaining: 5.28s\n",
      "2:\tlearn: 5836.0693935\ttest: 5832.8576137\tbest: 5832.8576137 (2)\ttotal: 79.6ms\tremaining: 5.22s\n",
      "3:\tlearn: 5694.3533408\ttest: 5690.9141362\tbest: 5690.9141362 (3)\ttotal: 106ms\tremaining: 5.17s\n",
      "4:\tlearn: 5557.7881852\ttest: 5554.0872943\tbest: 5554.0872943 (4)\ttotal: 132ms\tremaining: 5.13s\n",
      "5:\tlearn: 5425.9087543\ttest: 5422.2533475\tbest: 5422.2533475 (5)\ttotal: 157ms\tremaining: 5.07s\n",
      "6:\tlearn: 5299.9143435\ttest: 5296.3298010\tbest: 5296.3298010 (6)\ttotal: 184ms\tremaining: 5.06s\n",
      "7:\tlearn: 5177.7617721\ttest: 5174.0894636\tbest: 5174.0894636 (7)\ttotal: 210ms\tremaining: 5.03s\n",
      "8:\tlearn: 5058.7042699\ttest: 5055.5516450\tbest: 5055.5516450 (8)\ttotal: 241ms\tremaining: 5.12s\n",
      "9:\tlearn: 4943.2844902\ttest: 4940.3636939\tbest: 4940.3636939 (9)\ttotal: 273ms\tremaining: 5.18s\n",
      "10:\tlearn: 4831.7953575\ttest: 4829.2761446\tbest: 4829.2761446 (10)\ttotal: 299ms\tremaining: 5.14s\n",
      "11:\tlearn: 4723.7374348\ttest: 4721.1193979\tbest: 4721.1193979 (11)\ttotal: 325ms\tremaining: 5.1s\n",
      "12:\tlearn: 4620.3333676\ttest: 4617.5563567\tbest: 4617.5563567 (12)\ttotal: 351ms\tremaining: 5.05s\n",
      "13:\tlearn: 4521.6139157\ttest: 4518.8890327\tbest: 4518.8890327 (13)\ttotal: 378ms\tremaining: 5.03s\n",
      "14:\tlearn: 4425.8282904\ttest: 4423.0310194\tbest: 4423.0310194 (14)\ttotal: 404ms\tremaining: 4.98s\n",
      "15:\tlearn: 4334.8812477\ttest: 4332.5136265\tbest: 4332.5136265 (15)\ttotal: 432ms\tremaining: 4.97s\n",
      "16:\tlearn: 4244.9213889\ttest: 4242.8049268\tbest: 4242.8049268 (16)\ttotal: 460ms\tremaining: 4.95s\n",
      "17:\tlearn: 4158.2322449\ttest: 4156.0114320\tbest: 4156.0114320 (17)\ttotal: 493ms\tremaining: 4.98s\n",
      "18:\tlearn: 4075.2316218\ttest: 4073.1498262\tbest: 4073.1498262 (18)\ttotal: 520ms\tremaining: 4.96s\n",
      "19:\tlearn: 3997.1754717\ttest: 3995.2075712\tbest: 3995.2075712 (19)\ttotal: 547ms\tremaining: 4.93s\n",
      "20:\tlearn: 3919.6887212\ttest: 3917.7405729\tbest: 3917.7405729 (20)\ttotal: 574ms\tremaining: 4.89s\n",
      "21:\tlearn: 3844.6458084\ttest: 3843.0440561\tbest: 3843.0440561 (21)\ttotal: 600ms\tremaining: 4.85s\n",
      "22:\tlearn: 3773.7947463\ttest: 3772.1189051\tbest: 3772.1189051 (22)\ttotal: 629ms\tremaining: 4.84s\n",
      "23:\tlearn: 3703.7361489\ttest: 3702.3427417\tbest: 3702.3427417 (23)\ttotal: 672ms\tremaining: 4.93s\n",
      "24:\tlearn: 3636.4625846\ttest: 3634.8537152\tbest: 3634.8537152 (24)\ttotal: 712ms\tremaining: 4.98s\n",
      "25:\tlearn: 3572.5204435\ttest: 3570.7097504\tbest: 3570.7097504 (25)\ttotal: 741ms\tremaining: 4.96s\n",
      "26:\tlearn: 3510.2119899\ttest: 3508.6148185\tbest: 3508.6148185 (26)\ttotal: 770ms\tremaining: 4.94s\n",
      "27:\tlearn: 3450.5741987\ttest: 3449.0116282\tbest: 3449.0116282 (27)\ttotal: 797ms\tremaining: 4.9s\n",
      "28:\tlearn: 3393.3574010\ttest: 3391.7646575\tbest: 3391.7646575 (28)\ttotal: 824ms\tremaining: 4.86s\n",
      "29:\tlearn: 3339.2417348\ttest: 3337.4385325\tbest: 3337.4385325 (29)\ttotal: 851ms\tremaining: 4.82s\n",
      "30:\tlearn: 3287.6133187\ttest: 3285.7704423\tbest: 3285.7704423 (30)\ttotal: 876ms\tremaining: 4.78s\n",
      "31:\tlearn: 3237.0559687\ttest: 3235.5846368\tbest: 3235.5846368 (31)\ttotal: 916ms\tremaining: 4.81s\n",
      "32:\tlearn: 3188.5314134\ttest: 3187.2670648\tbest: 3187.2670648 (32)\ttotal: 946ms\tremaining: 4.79s\n",
      "33:\tlearn: 3141.3037429\ttest: 3140.2347004\tbest: 3140.2347004 (33)\ttotal: 972ms\tremaining: 4.74s\n",
      "34:\tlearn: 3096.6037077\ttest: 3095.5346452\tbest: 3095.5346452 (34)\ttotal: 999ms\tremaining: 4.71s\n",
      "35:\tlearn: 3053.4803254\ttest: 3052.7724764\tbest: 3052.7724764 (35)\ttotal: 1.02s\tremaining: 4.67s\n",
      "36:\tlearn: 3013.1447244\ttest: 3012.6364558\tbest: 3012.6364558 (36)\ttotal: 1.05s\tremaining: 4.64s\n",
      "37:\tlearn: 2973.2133712\ttest: 2972.8973567\tbest: 2972.8973567 (37)\ttotal: 1.08s\tremaining: 4.6s\n",
      "38:\tlearn: 2935.1434026\ttest: 2934.9513445\tbest: 2934.9513445 (38)\ttotal: 1.11s\tremaining: 4.57s\n",
      "39:\tlearn: 2899.0316879\ttest: 2898.8936320\tbest: 2898.8936320 (39)\ttotal: 1.14s\tremaining: 4.57s\n",
      "40:\tlearn: 2864.7119793\ttest: 2864.7957721\tbest: 2864.7957721 (40)\ttotal: 1.17s\tremaining: 4.54s\n",
      "41:\tlearn: 2830.8877113\ttest: 2831.0589215\tbest: 2831.0589215 (41)\ttotal: 1.2s\tremaining: 4.5s\n",
      "42:\tlearn: 2798.8036523\ttest: 2799.1162775\tbest: 2799.1162775 (42)\ttotal: 1.22s\tremaining: 4.46s\n",
      "43:\tlearn: 2767.4416356\ttest: 2768.0916947\tbest: 2768.0916947 (43)\ttotal: 1.25s\tremaining: 4.42s\n",
      "44:\tlearn: 2737.6845988\ttest: 2738.5015092\tbest: 2738.5015092 (44)\ttotal: 1.27s\tremaining: 4.38s\n",
      "45:\tlearn: 2708.8773336\ttest: 2709.7794938\tbest: 2709.7794938 (45)\ttotal: 1.3s\tremaining: 4.35s\n",
      "46:\tlearn: 2681.6070324\ttest: 2682.7577795\tbest: 2682.7577795 (46)\ttotal: 1.32s\tremaining: 4.32s\n",
      "47:\tlearn: 2654.5572465\ttest: 2655.9565281\tbest: 2655.9565281 (47)\ttotal: 1.35s\tremaining: 4.28s\n",
      "48:\tlearn: 2628.5426271\ttest: 2630.1581337\tbest: 2630.1581337 (48)\ttotal: 1.39s\tremaining: 4.28s\n",
      "49:\tlearn: 2604.3378183\ttest: 2606.1746049\tbest: 2606.1746049 (49)\ttotal: 1.42s\tremaining: 4.25s\n",
      "50:\tlearn: 2581.5207365\ttest: 2583.4740704\tbest: 2583.4740704 (50)\ttotal: 1.44s\tremaining: 4.22s\n",
      "51:\tlearn: 2559.4866859\ttest: 2561.5945527\tbest: 2561.5945527 (51)\ttotal: 1.47s\tremaining: 4.19s\n",
      "52:\tlearn: 2537.8365094\ttest: 2540.2838970\tbest: 2540.2838970 (52)\ttotal: 1.5s\tremaining: 4.15s\n",
      "53:\tlearn: 2516.2325455\ttest: 2518.9620142\tbest: 2518.9620142 (53)\ttotal: 1.52s\tremaining: 4.11s\n",
      "54:\tlearn: 2496.4316459\ttest: 2499.4265673\tbest: 2499.4265673 (54)\ttotal: 1.55s\tremaining: 4.08s\n",
      "55:\tlearn: 2477.0607987\ttest: 2480.0781040\tbest: 2480.0781040 (55)\ttotal: 1.57s\tremaining: 4.04s\n",
      "56:\tlearn: 2458.0310434\ttest: 2461.2017250\tbest: 2461.2017250 (56)\ttotal: 1.6s\tremaining: 4.02s\n",
      "57:\tlearn: 2440.7412476\ttest: 2444.0515888\tbest: 2444.0515888 (57)\ttotal: 1.63s\tremaining: 4s\n",
      "58:\tlearn: 2422.9522153\ttest: 2426.3830275\tbest: 2426.3830275 (58)\ttotal: 1.66s\tremaining: 3.97s\n",
      "59:\tlearn: 2406.6789171\ttest: 2410.3066135\tbest: 2410.3066135 (59)\ttotal: 1.69s\tremaining: 3.94s\n",
      "60:\tlearn: 2391.0716604\ttest: 2394.8804978\tbest: 2394.8804978 (60)\ttotal: 1.72s\tremaining: 3.91s\n",
      "61:\tlearn: 2375.7867804\ttest: 2379.8750078\tbest: 2379.8750078 (61)\ttotal: 1.74s\tremaining: 3.88s\n",
      "62:\tlearn: 2360.3376254\ttest: 2364.6872516\tbest: 2364.6872516 (62)\ttotal: 1.77s\tremaining: 3.84s\n",
      "63:\tlearn: 2346.1087846\ttest: 2350.7471702\tbest: 2350.7471702 (63)\ttotal: 1.79s\tremaining: 3.81s\n",
      "64:\tlearn: 2332.5029925\ttest: 2337.1866583\tbest: 2337.1866583 (64)\ttotal: 1.83s\tremaining: 3.8s\n",
      "65:\tlearn: 2319.1527803\ttest: 2323.8923358\tbest: 2323.8923358 (65)\ttotal: 1.86s\tremaining: 3.77s\n",
      "66:\tlearn: 2307.2465233\ttest: 2312.1936618\tbest: 2312.1936618 (66)\ttotal: 1.88s\tremaining: 3.74s\n",
      "67:\tlearn: 2295.4042152\ttest: 2300.5343083\tbest: 2300.5343083 (67)\ttotal: 1.91s\tremaining: 3.71s\n",
      "68:\tlearn: 2282.7198125\ttest: 2288.0150709\tbest: 2288.0150709 (68)\ttotal: 1.94s\tremaining: 3.68s\n",
      "69:\tlearn: 2271.4398467\ttest: 2276.9534982\tbest: 2276.9534982 (69)\ttotal: 1.96s\tremaining: 3.64s\n",
      "70:\tlearn: 2260.8948983\ttest: 2266.5386359\tbest: 2266.5386359 (70)\ttotal: 1.99s\tremaining: 3.61s\n",
      "71:\tlearn: 2250.9024433\ttest: 2256.7310529\tbest: 2256.7310529 (71)\ttotal: 2.01s\tremaining: 3.58s\n",
      "72:\tlearn: 2241.0553236\ttest: 2247.1447263\tbest: 2247.1447263 (72)\ttotal: 2.04s\tremaining: 3.55s\n",
      "73:\tlearn: 2232.0902456\ttest: 2238.3139853\tbest: 2238.3139853 (73)\ttotal: 2.07s\tremaining: 3.52s\n",
      "74:\tlearn: 2223.0966330\ttest: 2229.3805289\tbest: 2229.3805289 (74)\ttotal: 2.09s\tremaining: 3.49s\n",
      "75:\tlearn: 2213.5159181\ttest: 2220.0535761\tbest: 2220.0535761 (75)\ttotal: 2.12s\tremaining: 3.46s\n",
      "76:\tlearn: 2205.1125542\ttest: 2211.9731141\tbest: 2211.9731141 (76)\ttotal: 2.14s\tremaining: 3.42s\n",
      "77:\tlearn: 2196.1367712\ttest: 2203.2463412\tbest: 2203.2463412 (77)\ttotal: 2.17s\tremaining: 3.39s\n",
      "78:\tlearn: 2188.5437652\ttest: 2195.7239778\tbest: 2195.7239778 (78)\ttotal: 2.19s\tremaining: 3.36s\n",
      "79:\tlearn: 2181.0214357\ttest: 2188.3021930\tbest: 2188.3021930 (79)\ttotal: 2.22s\tremaining: 3.33s\n",
      "80:\tlearn: 2174.3739765\ttest: 2181.7139444\tbest: 2181.7139444 (80)\ttotal: 2.25s\tremaining: 3.31s\n",
      "81:\tlearn: 2166.4510704\ttest: 2173.8893181\tbest: 2173.8893181 (81)\ttotal: 2.28s\tremaining: 3.28s\n",
      "82:\tlearn: 2158.9524413\ttest: 2166.4220762\tbest: 2166.4220762 (82)\ttotal: 2.31s\tremaining: 3.25s\n",
      "83:\tlearn: 2152.0681929\ttest: 2159.7193487\tbest: 2159.7193487 (83)\ttotal: 2.33s\tremaining: 3.22s\n",
      "84:\tlearn: 2145.5350204\ttest: 2153.3441648\tbest: 2153.3441648 (84)\ttotal: 2.36s\tremaining: 3.19s\n",
      "85:\tlearn: 2138.0268932\ttest: 2145.8725919\tbest: 2145.8725919 (85)\ttotal: 2.39s\tremaining: 3.16s\n",
      "86:\tlearn: 2131.7554874\ttest: 2139.7975347\tbest: 2139.7975347 (86)\ttotal: 2.41s\tremaining: 3.13s\n",
      "87:\tlearn: 2126.1148878\ttest: 2134.4222085\tbest: 2134.4222085 (87)\ttotal: 2.44s\tremaining: 3.1s\n",
      "88:\tlearn: 2120.1867588\ttest: 2128.5008474\tbest: 2128.5008474 (88)\ttotal: 2.47s\tremaining: 3.08s\n",
      "89:\tlearn: 2114.2613171\ttest: 2122.7392251\tbest: 2122.7392251 (89)\ttotal: 2.5s\tremaining: 3.05s\n",
      "90:\tlearn: 2109.3050171\ttest: 2117.9218142\tbest: 2117.9218142 (90)\ttotal: 2.52s\tremaining: 3.02s\n",
      "91:\tlearn: 2104.6263905\ttest: 2113.3066468\tbest: 2113.3066468 (91)\ttotal: 2.55s\tremaining: 2.99s\n",
      "92:\tlearn: 2099.7832804\ttest: 2108.5497249\tbest: 2108.5497249 (92)\ttotal: 2.57s\tremaining: 2.96s\n",
      "93:\tlearn: 2094.9647164\ttest: 2103.7618277\tbest: 2103.7618277 (93)\ttotal: 2.6s\tremaining: 2.93s\n",
      "94:\tlearn: 2090.9936519\ttest: 2099.8808468\tbest: 2099.8808468 (94)\ttotal: 2.62s\tremaining: 2.9s\n",
      "95:\tlearn: 2085.8534273\ttest: 2094.9644483\tbest: 2094.9644483 (95)\ttotal: 2.65s\tremaining: 2.87s\n",
      "96:\tlearn: 2081.6060248\ttest: 2090.7551934\tbest: 2090.7551934 (96)\ttotal: 2.68s\tremaining: 2.84s\n",
      "97:\tlearn: 2076.3701147\ttest: 2085.6924667\tbest: 2085.6924667 (97)\ttotal: 2.71s\tremaining: 2.82s\n",
      "98:\tlearn: 2072.0182678\ttest: 2081.3191274\tbest: 2081.3191274 (98)\ttotal: 2.74s\tremaining: 2.79s\n",
      "99:\tlearn: 2068.3414733\ttest: 2077.6721350\tbest: 2077.6721350 (99)\ttotal: 2.76s\tremaining: 2.76s\n",
      "100:\tlearn: 2064.6931784\ttest: 2073.9924670\tbest: 2073.9924670 (100)\ttotal: 2.79s\tremaining: 2.73s\n",
      "101:\tlearn: 2060.9323219\ttest: 2070.1131473\tbest: 2070.1131473 (101)\ttotal: 2.81s\tremaining: 2.7s\n",
      "102:\tlearn: 2057.1847895\ttest: 2066.5363076\tbest: 2066.5363076 (102)\ttotal: 2.84s\tremaining: 2.67s\n",
      "103:\tlearn: 2053.5371013\ttest: 2063.1341850\tbest: 2063.1341850 (103)\ttotal: 2.87s\tremaining: 2.64s\n",
      "104:\tlearn: 2050.0533252\ttest: 2059.6955992\tbest: 2059.6955992 (104)\ttotal: 2.9s\tremaining: 2.62s\n",
      "105:\tlearn: 2046.4695406\ttest: 2056.0321061\tbest: 2056.0321061 (105)\ttotal: 2.93s\tremaining: 2.6s\n",
      "106:\tlearn: 2043.2233971\ttest: 2052.7256786\tbest: 2052.7256786 (106)\ttotal: 2.95s\tremaining: 2.57s\n",
      "107:\tlearn: 2039.7500797\ttest: 2049.3789101\tbest: 2049.3789101 (107)\ttotal: 2.98s\tremaining: 2.54s\n",
      "108:\tlearn: 2036.3072429\ttest: 2046.0435166\tbest: 2046.0435166 (108)\ttotal: 3.01s\tremaining: 2.51s\n",
      "109:\tlearn: 2032.9704099\ttest: 2042.6597868\tbest: 2042.6597868 (109)\ttotal: 3.03s\tremaining: 2.48s\n",
      "110:\tlearn: 2029.9091524\ttest: 2039.5769320\tbest: 2039.5769320 (110)\ttotal: 3.06s\tremaining: 2.45s\n",
      "111:\tlearn: 2026.5647037\ttest: 2036.4614909\tbest: 2036.4614909 (111)\ttotal: 3.08s\tremaining: 2.42s\n",
      "112:\tlearn: 2023.7378431\ttest: 2033.7523368\tbest: 2033.7523368 (112)\ttotal: 3.13s\tremaining: 2.41s\n",
      "113:\tlearn: 2020.7182470\ttest: 2030.7240485\tbest: 2030.7240485 (113)\ttotal: 3.15s\tremaining: 2.38s\n",
      "114:\tlearn: 2017.5065282\ttest: 2027.6475663\tbest: 2027.6475663 (114)\ttotal: 3.18s\tremaining: 2.35s\n",
      "115:\tlearn: 2014.6255254\ttest: 2024.9430491\tbest: 2024.9430491 (115)\ttotal: 3.21s\tremaining: 2.32s\n",
      "116:\tlearn: 2011.5272831\ttest: 2021.8929314\tbest: 2021.8929314 (116)\ttotal: 3.23s\tremaining: 2.29s\n",
      "117:\tlearn: 2008.8659590\ttest: 2019.2805578\tbest: 2019.2805578 (117)\ttotal: 3.26s\tremaining: 2.26s\n",
      "118:\tlearn: 2005.8547158\ttest: 2016.2814844\tbest: 2016.2814844 (118)\ttotal: 3.29s\tremaining: 2.24s\n",
      "119:\tlearn: 2003.5310055\ttest: 2013.9453302\tbest: 2013.9453302 (119)\ttotal: 3.31s\tremaining: 2.21s\n",
      "120:\tlearn: 2001.3663190\ttest: 2011.8768249\tbest: 2011.8768249 (120)\ttotal: 3.33s\tremaining: 2.18s\n",
      "121:\tlearn: 1999.0871693\ttest: 2009.7114813\tbest: 2009.7114813 (121)\ttotal: 3.37s\tremaining: 2.15s\n",
      "122:\tlearn: 1996.4153970\ttest: 2007.1877803\tbest: 2007.1877803 (122)\ttotal: 3.4s\tremaining: 2.13s\n",
      "123:\tlearn: 1994.4932575\ttest: 2005.3767976\tbest: 2005.3767976 (123)\ttotal: 3.42s\tremaining: 2.1s\n",
      "124:\tlearn: 1991.7855167\ttest: 2002.8847519\tbest: 2002.8847519 (124)\ttotal: 3.45s\tremaining: 2.07s\n",
      "125:\tlearn: 1989.7538840\ttest: 2001.0189985\tbest: 2001.0189985 (125)\ttotal: 3.47s\tremaining: 2.04s\n",
      "126:\tlearn: 1987.3223439\ttest: 1998.6754393\tbest: 1998.6754393 (126)\ttotal: 3.5s\tremaining: 2.01s\n",
      "127:\tlearn: 1985.1058425\ttest: 1996.3680993\tbest: 1996.3680993 (127)\ttotal: 3.53s\tremaining: 1.98s\n",
      "128:\tlearn: 1983.0846411\ttest: 1994.4000108\tbest: 1994.4000108 (128)\ttotal: 3.56s\tremaining: 1.96s\n",
      "129:\tlearn: 1980.7689339\ttest: 1992.2945764\tbest: 1992.2945764 (129)\ttotal: 3.59s\tremaining: 1.93s\n",
      "130:\tlearn: 1978.4820472\ttest: 1990.1505965\tbest: 1990.1505965 (130)\ttotal: 3.62s\tremaining: 1.9s\n",
      "131:\tlearn: 1976.8983672\ttest: 1988.7329003\tbest: 1988.7329003 (131)\ttotal: 3.64s\tremaining: 1.87s\n",
      "132:\tlearn: 1975.0388543\ttest: 1986.8061227\tbest: 1986.8061227 (132)\ttotal: 3.66s\tremaining: 1.84s\n",
      "133:\tlearn: 1973.0526594\ttest: 1984.9643625\tbest: 1984.9643625 (133)\ttotal: 3.69s\tremaining: 1.82s\n",
      "134:\tlearn: 1970.6866043\ttest: 1982.6816163\tbest: 1982.6816163 (134)\ttotal: 3.72s\tremaining: 1.79s\n",
      "135:\tlearn: 1968.9900975\ttest: 1981.1654681\tbest: 1981.1654681 (135)\ttotal: 3.74s\tremaining: 1.76s\n",
      "136:\tlearn: 1967.2179083\ttest: 1979.5541962\tbest: 1979.5541962 (136)\ttotal: 3.77s\tremaining: 1.73s\n",
      "137:\tlearn: 1965.1457217\ttest: 1977.5658759\tbest: 1977.5658759 (137)\ttotal: 3.8s\tremaining: 1.71s\n",
      "138:\tlearn: 1963.0323593\ttest: 1975.5483508\tbest: 1975.5483508 (138)\ttotal: 3.83s\tremaining: 1.68s\n",
      "139:\tlearn: 1961.3015040\ttest: 1973.9535993\tbest: 1973.9535993 (139)\ttotal: 3.86s\tremaining: 1.65s\n",
      "140:\tlearn: 1959.7664927\ttest: 1972.5336788\tbest: 1972.5336788 (140)\ttotal: 3.88s\tremaining: 1.62s\n",
      "141:\tlearn: 1958.2523340\ttest: 1971.1317190\tbest: 1971.1317190 (141)\ttotal: 3.91s\tremaining: 1.6s\n",
      "142:\tlearn: 1956.1828491\ttest: 1969.1707247\tbest: 1969.1707247 (142)\ttotal: 3.94s\tremaining: 1.57s\n",
      "143:\tlearn: 1954.4063862\ttest: 1967.4825391\tbest: 1967.4825391 (143)\ttotal: 3.96s\tremaining: 1.54s\n",
      "144:\tlearn: 1953.0948834\ttest: 1966.1282784\tbest: 1966.1282784 (144)\ttotal: 3.99s\tremaining: 1.51s\n",
      "145:\tlearn: 1951.6631128\ttest: 1964.7346121\tbest: 1964.7346121 (145)\ttotal: 4.02s\tremaining: 1.49s\n",
      "146:\tlearn: 1950.2985964\ttest: 1963.5256658\tbest: 1963.5256658 (146)\ttotal: 4.05s\tremaining: 1.46s\n",
      "147:\tlearn: 1948.7995489\ttest: 1962.0884713\tbest: 1962.0884713 (147)\ttotal: 4.08s\tremaining: 1.43s\n",
      "148:\tlearn: 1947.7009182\ttest: 1961.0792479\tbest: 1961.0792479 (148)\ttotal: 4.1s\tremaining: 1.4s\n",
      "149:\tlearn: 1945.7124227\ttest: 1959.2395628\tbest: 1959.2395628 (149)\ttotal: 4.13s\tremaining: 1.38s\n",
      "150:\tlearn: 1943.9715391\ttest: 1957.5337743\tbest: 1957.5337743 (150)\ttotal: 4.15s\tremaining: 1.35s\n",
      "151:\tlearn: 1942.7392582\ttest: 1956.4667991\tbest: 1956.4667991 (151)\ttotal: 4.17s\tremaining: 1.32s\n",
      "152:\tlearn: 1941.0386518\ttest: 1954.9298220\tbest: 1954.9298220 (152)\ttotal: 4.2s\tremaining: 1.29s\n",
      "153:\tlearn: 1939.8235696\ttest: 1953.8295280\tbest: 1953.8295280 (153)\ttotal: 4.23s\tremaining: 1.26s\n",
      "154:\tlearn: 1938.6375392\ttest: 1952.7685499\tbest: 1952.7685499 (154)\ttotal: 4.26s\tremaining: 1.24s\n",
      "155:\tlearn: 1937.4620376\ttest: 1951.6553324\tbest: 1951.6553324 (155)\ttotal: 4.29s\tremaining: 1.21s\n",
      "156:\tlearn: 1936.3583208\ttest: 1950.6049293\tbest: 1950.6049293 (156)\ttotal: 4.31s\tremaining: 1.18s\n",
      "157:\tlearn: 1935.2702876\ttest: 1949.6213052\tbest: 1949.6213052 (157)\ttotal: 4.33s\tremaining: 1.15s\n",
      "158:\tlearn: 1933.4280734\ttest: 1947.7276864\tbest: 1947.7276864 (158)\ttotal: 4.36s\tremaining: 1.12s\n",
      "159:\tlearn: 1932.5011913\ttest: 1946.9553121\tbest: 1946.9553121 (159)\ttotal: 4.38s\tremaining: 1.09s\n",
      "160:\tlearn: 1930.9446620\ttest: 1945.5301643\tbest: 1945.5301643 (160)\ttotal: 4.41s\tremaining: 1.07s\n",
      "161:\tlearn: 1929.6294454\ttest: 1944.2781954\tbest: 1944.2781954 (161)\ttotal: 4.43s\tremaining: 1.04s\n",
      "162:\tlearn: 1927.9848409\ttest: 1942.6266202\tbest: 1942.6266202 (162)\ttotal: 4.47s\tremaining: 1.01s\n",
      "163:\tlearn: 1926.5947797\ttest: 1941.3151624\tbest: 1941.3151624 (163)\ttotal: 4.49s\tremaining: 986ms\n",
      "164:\tlearn: 1925.6154314\ttest: 1940.4155156\tbest: 1940.4155156 (164)\ttotal: 4.52s\tremaining: 959ms\n",
      "165:\tlearn: 1924.4884942\ttest: 1939.3884942\tbest: 1939.3884942 (165)\ttotal: 4.54s\tremaining: 931ms\n",
      "166:\tlearn: 1923.1568773\ttest: 1938.1103166\tbest: 1938.1103166 (166)\ttotal: 4.57s\tremaining: 903ms\n",
      "167:\tlearn: 1922.1252199\ttest: 1937.0595603\tbest: 1937.0595603 (167)\ttotal: 4.59s\tremaining: 875ms\n",
      "168:\tlearn: 1921.2260801\ttest: 1936.2679815\tbest: 1936.2679815 (168)\ttotal: 4.62s\tremaining: 847ms\n",
      "169:\tlearn: 1919.5529464\ttest: 1934.7572342\tbest: 1934.7572342 (169)\ttotal: 4.65s\tremaining: 821ms\n",
      "170:\tlearn: 1918.6380235\ttest: 1933.9522451\tbest: 1933.9522451 (170)\ttotal: 4.68s\tremaining: 794ms\n",
      "171:\tlearn: 1917.2776152\ttest: 1932.6841497\tbest: 1932.6841497 (171)\ttotal: 4.71s\tremaining: 767ms\n",
      "172:\tlearn: 1916.0644863\ttest: 1931.4277924\tbest: 1931.4277924 (172)\ttotal: 4.74s\tremaining: 739ms\n",
      "173:\tlearn: 1915.1800400\ttest: 1930.6755998\tbest: 1930.6755998 (173)\ttotal: 4.76s\tremaining: 711ms\n",
      "174:\tlearn: 1914.4439815\ttest: 1930.0154391\tbest: 1930.0154391 (174)\ttotal: 4.78s\tremaining: 683ms\n",
      "175:\tlearn: 1913.6528166\ttest: 1929.3180515\tbest: 1929.3180515 (175)\ttotal: 4.81s\tremaining: 656ms\n",
      "176:\tlearn: 1912.6439142\ttest: 1928.4268559\tbest: 1928.4268559 (176)\ttotal: 4.83s\tremaining: 628ms\n",
      "177:\tlearn: 1911.6724564\ttest: 1927.5348386\tbest: 1927.5348386 (177)\ttotal: 4.86s\tremaining: 600ms\n",
      "178:\tlearn: 1910.7771643\ttest: 1926.7486942\tbest: 1926.7486942 (178)\ttotal: 4.89s\tremaining: 574ms\n",
      "179:\tlearn: 1910.1664234\ttest: 1926.2079662\tbest: 1926.2079662 (179)\ttotal: 4.92s\tremaining: 547ms\n",
      "180:\tlearn: 1909.1789224\ttest: 1925.3296261\tbest: 1925.3296261 (180)\ttotal: 4.94s\tremaining: 519ms\n",
      "181:\tlearn: 1908.3251059\ttest: 1924.5030542\tbest: 1924.5030542 (181)\ttotal: 4.97s\tremaining: 492ms\n",
      "182:\tlearn: 1907.5796161\ttest: 1923.8462473\tbest: 1923.8462473 (182)\ttotal: 5s\tremaining: 464ms\n",
      "183:\tlearn: 1906.2417646\ttest: 1922.5201979\tbest: 1922.5201979 (183)\ttotal: 5.02s\tremaining: 437ms\n",
      "184:\tlearn: 1905.2088126\ttest: 1921.5356542\tbest: 1921.5356542 (184)\ttotal: 5.05s\tremaining: 409ms\n",
      "185:\tlearn: 1904.1026230\ttest: 1920.5001720\tbest: 1920.5001720 (185)\ttotal: 5.08s\tremaining: 382ms\n",
      "186:\tlearn: 1903.1612698\ttest: 1919.7789290\tbest: 1919.7789290 (186)\ttotal: 5.1s\tremaining: 355ms\n",
      "187:\tlearn: 1902.6505509\ttest: 1919.3027386\tbest: 1919.3027386 (187)\ttotal: 5.13s\tremaining: 327ms\n",
      "188:\tlearn: 1901.3836912\ttest: 1918.1043452\tbest: 1918.1043452 (188)\ttotal: 5.16s\tremaining: 300ms\n",
      "189:\tlearn: 1900.2811191\ttest: 1916.9411621\tbest: 1916.9411621 (189)\ttotal: 5.18s\tremaining: 273ms\n",
      "190:\tlearn: 1899.2006504\ttest: 1915.8858341\tbest: 1915.8858341 (190)\ttotal: 5.21s\tremaining: 245ms\n",
      "191:\tlearn: 1898.4729291\ttest: 1915.3450805\tbest: 1915.3450805 (191)\ttotal: 5.23s\tremaining: 218ms\n",
      "192:\tlearn: 1897.8267871\ttest: 1914.7922775\tbest: 1914.7922775 (192)\ttotal: 5.26s\tremaining: 191ms\n",
      "193:\tlearn: 1897.2861599\ttest: 1914.3565377\tbest: 1914.3565377 (193)\ttotal: 5.29s\tremaining: 163ms\n",
      "194:\tlearn: 1896.2481096\ttest: 1913.3589131\tbest: 1913.3589131 (194)\ttotal: 5.31s\tremaining: 136ms\n",
      "195:\tlearn: 1895.2456123\ttest: 1912.4267809\tbest: 1912.4267809 (195)\ttotal: 5.34s\tremaining: 109ms\n",
      "196:\tlearn: 1894.3571162\ttest: 1911.5734764\tbest: 1911.5734764 (196)\ttotal: 5.37s\tremaining: 81.7ms\n",
      "197:\tlearn: 1893.5530821\ttest: 1910.8352264\tbest: 1910.8352264 (197)\ttotal: 5.4s\tremaining: 54.5ms\n",
      "198:\tlearn: 1893.0736302\ttest: 1910.4170067\tbest: 1910.4170067 (198)\ttotal: 5.42s\tremaining: 27.3ms\n",
      "199:\tlearn: 1891.8646900\ttest: 1909.3044445\tbest: 1909.3044445 (199)\ttotal: 5.45s\tremaining: 0us\n",
      "\n",
      "bestTest = 1909.304445\n",
      "bestIteration = 199\n",
      "\n",
      "Training on fold [2/3]\n",
      "0:\tlearn: 6122.9986508\ttest: 6149.3839012\tbest: 6149.3839012 (0)\ttotal: 42.8ms\tremaining: 8.52s\n",
      "1:\tlearn: 5970.9102797\ttest: 5996.8619037\tbest: 5996.8619037 (1)\ttotal: 69.2ms\tremaining: 6.85s\n",
      "2:\tlearn: 5827.8626536\ttest: 5853.1326800\tbest: 5853.1326800 (2)\ttotal: 95.9ms\tremaining: 6.3s\n",
      "3:\tlearn: 5686.2712450\ttest: 5711.1874139\tbest: 5711.1874139 (3)\ttotal: 124ms\tremaining: 6.1s\n",
      "4:\tlearn: 5549.5417558\ttest: 5574.0651545\tbest: 5574.0651545 (4)\ttotal: 153ms\tremaining: 5.95s\n",
      "5:\tlearn: 5417.3482903\ttest: 5441.5243541\tbest: 5441.5243541 (5)\ttotal: 182ms\tremaining: 5.89s\n",
      "6:\tlearn: 5292.6437844\ttest: 5316.2378900\tbest: 5316.2378900 (6)\ttotal: 209ms\tremaining: 5.78s\n",
      "7:\tlearn: 5170.5339426\ttest: 5194.0080069\tbest: 5194.0080069 (7)\ttotal: 241ms\tremaining: 5.78s\n",
      "8:\tlearn: 5052.7917379\ttest: 5075.7878407\tbest: 5075.7878407 (8)\ttotal: 277ms\tremaining: 5.89s\n",
      "9:\tlearn: 4938.6157951\ttest: 4961.1189577\tbest: 4961.1189577 (9)\ttotal: 311ms\tremaining: 5.91s\n",
      "10:\tlearn: 4827.3114158\ttest: 4849.5368266\tbest: 4849.5368266 (10)\ttotal: 339ms\tremaining: 5.82s\n",
      "11:\tlearn: 4719.4763486\ttest: 4741.1733111\tbest: 4741.1733111 (11)\ttotal: 366ms\tremaining: 5.74s\n",
      "12:\tlearn: 4616.1566970\ttest: 4637.5552503\tbest: 4637.5552503 (12)\ttotal: 394ms\tremaining: 5.66s\n",
      "13:\tlearn: 4517.0600028\ttest: 4538.2106275\tbest: 4538.2106275 (13)\ttotal: 422ms\tremaining: 5.61s\n",
      "14:\tlearn: 4421.3459838\ttest: 4442.5131147\tbest: 4442.5131147 (14)\ttotal: 462ms\tremaining: 5.7s\n",
      "15:\tlearn: 4330.4432419\ttest: 4351.2042706\tbest: 4351.2042706 (15)\ttotal: 491ms\tremaining: 5.64s\n",
      "16:\tlearn: 4242.2188422\ttest: 4262.7536042\tbest: 4262.7536042 (16)\ttotal: 518ms\tremaining: 5.58s\n",
      "17:\tlearn: 4157.5076019\ttest: 4177.6268491\tbest: 4177.6268491 (17)\ttotal: 544ms\tremaining: 5.5s\n",
      "18:\tlearn: 4075.8406513\ttest: 4095.4436089\tbest: 4095.4436089 (18)\ttotal: 571ms\tremaining: 5.44s\n",
      "19:\tlearn: 3996.7661179\ttest: 4016.0613281\tbest: 4016.0613281 (19)\ttotal: 598ms\tremaining: 5.38s\n",
      "20:\tlearn: 3921.2266009\ttest: 3940.1022630\tbest: 3940.1022630 (20)\ttotal: 624ms\tremaining: 5.32s\n",
      "21:\tlearn: 3846.5737729\ttest: 3864.9836982\tbest: 3864.9836982 (21)\ttotal: 651ms\tremaining: 5.27s\n",
      "22:\tlearn: 3774.2868160\ttest: 3792.2377381\tbest: 3792.2377381 (22)\ttotal: 680ms\tremaining: 5.23s\n",
      "23:\tlearn: 3704.4027469\ttest: 3721.8899969\tbest: 3721.8899969 (23)\ttotal: 715ms\tremaining: 5.24s\n",
      "24:\tlearn: 3639.7650676\ttest: 3657.1242736\tbest: 3657.1242736 (24)\ttotal: 750ms\tremaining: 5.25s\n",
      "25:\tlearn: 3576.5999163\ttest: 3593.6915859\tbest: 3593.6915859 (25)\ttotal: 779ms\tremaining: 5.21s\n",
      "26:\tlearn: 3515.6496290\ttest: 3532.2310564\tbest: 3532.2310564 (26)\ttotal: 815ms\tremaining: 5.22s\n",
      "27:\tlearn: 3456.7209116\ttest: 3472.9042083\tbest: 3472.9042083 (27)\ttotal: 844ms\tremaining: 5.19s\n",
      "28:\tlearn: 3400.3859583\ttest: 3416.3876932\tbest: 3416.3876932 (28)\ttotal: 876ms\tremaining: 5.16s\n",
      "29:\tlearn: 3346.7942721\ttest: 3362.6202574\tbest: 3362.6202574 (29)\ttotal: 912ms\tremaining: 5.17s\n",
      "30:\tlearn: 3295.0684644\ttest: 3310.4510487\tbest: 3310.4510487 (30)\ttotal: 942ms\tremaining: 5.13s\n",
      "31:\tlearn: 3243.4174521\ttest: 3258.3934285\tbest: 3258.3934285 (31)\ttotal: 970ms\tremaining: 5.09s\n",
      "32:\tlearn: 3194.7449554\ttest: 3209.2936218\tbest: 3209.2936218 (32)\ttotal: 1s\tremaining: 5.07s\n",
      "33:\tlearn: 3148.7264518\ttest: 3162.8163632\tbest: 3162.8163632 (33)\ttotal: 1.03s\tremaining: 5.04s\n",
      "34:\tlearn: 3104.1469186\ttest: 3117.8732103\tbest: 3117.8732103 (34)\ttotal: 1.06s\tremaining: 4.99s\n",
      "35:\tlearn: 3062.2761415\ttest: 3075.7171541\tbest: 3075.7171541 (35)\ttotal: 1.08s\tremaining: 4.95s\n",
      "36:\tlearn: 3021.0344666\ttest: 3034.1322670\tbest: 3034.1322670 (36)\ttotal: 1.11s\tremaining: 4.91s\n",
      "37:\tlearn: 2980.2016719\ttest: 2992.9907550\tbest: 2992.9907550 (37)\ttotal: 1.15s\tremaining: 4.92s\n",
      "38:\tlearn: 2941.1978722\ttest: 2953.4531623\tbest: 2953.4531623 (38)\ttotal: 1.18s\tremaining: 4.88s\n",
      "39:\tlearn: 2905.0384925\ttest: 2916.8223303\tbest: 2916.8223303 (39)\ttotal: 1.21s\tremaining: 4.84s\n",
      "40:\tlearn: 2868.7761179\ttest: 2880.0879544\tbest: 2880.0879544 (40)\ttotal: 1.24s\tremaining: 4.82s\n",
      "41:\tlearn: 2833.5852018\ttest: 2844.4224495\tbest: 2844.4224495 (41)\ttotal: 1.27s\tremaining: 4.79s\n",
      "42:\tlearn: 2801.9746997\ttest: 2812.5510731\tbest: 2812.5510731 (42)\ttotal: 1.3s\tremaining: 4.75s\n",
      "43:\tlearn: 2770.4371853\ttest: 2780.5489746\tbest: 2780.5489746 (43)\ttotal: 1.33s\tremaining: 4.71s\n",
      "44:\tlearn: 2739.6365359\ttest: 2749.2950580\tbest: 2749.2950580 (44)\ttotal: 1.36s\tremaining: 4.7s\n",
      "45:\tlearn: 2710.5838739\ttest: 2719.8602564\tbest: 2719.8602564 (45)\ttotal: 1.4s\tremaining: 4.68s\n",
      "46:\tlearn: 2683.7859744\ttest: 2692.8513183\tbest: 2692.8513183 (46)\ttotal: 1.43s\tremaining: 4.65s\n",
      "47:\tlearn: 2657.9633130\ttest: 2666.6948392\tbest: 2666.6948392 (47)\ttotal: 1.46s\tremaining: 4.62s\n",
      "48:\tlearn: 2633.4138060\ttest: 2641.9893129\tbest: 2641.9893129 (48)\ttotal: 1.48s\tremaining: 4.58s\n",
      "49:\tlearn: 2608.8827594\ttest: 2617.3333815\tbest: 2617.3333815 (49)\ttotal: 1.51s\tremaining: 4.54s\n",
      "50:\tlearn: 2585.3166050\ttest: 2593.7297142\tbest: 2593.7297142 (50)\ttotal: 1.54s\tremaining: 4.51s\n",
      "51:\tlearn: 2563.3843930\ttest: 2571.6122462\tbest: 2571.6122462 (51)\ttotal: 1.57s\tremaining: 4.46s\n",
      "52:\tlearn: 2541.5698761\ttest: 2549.3582153\tbest: 2549.3582153 (52)\ttotal: 1.6s\tremaining: 4.44s\n",
      "53:\tlearn: 2520.4450579\ttest: 2527.8310622\tbest: 2527.8310622 (53)\ttotal: 1.63s\tremaining: 4.41s\n",
      "54:\tlearn: 2500.0206819\ttest: 2506.9528363\tbest: 2506.9528363 (54)\ttotal: 1.66s\tremaining: 4.37s\n",
      "55:\tlearn: 2479.8993075\ttest: 2486.4609961\tbest: 2486.4609961 (55)\ttotal: 1.69s\tremaining: 4.34s\n",
      "56:\tlearn: 2461.6827402\ttest: 2467.9142729\tbest: 2467.9142729 (56)\ttotal: 1.72s\tremaining: 4.3s\n",
      "57:\tlearn: 2444.7198775\ttest: 2450.7128539\tbest: 2450.7128539 (57)\ttotal: 1.74s\tremaining: 4.26s\n",
      "58:\tlearn: 2426.4713963\ttest: 2432.1967501\tbest: 2432.1967501 (58)\ttotal: 1.77s\tremaining: 4.24s\n",
      "59:\tlearn: 2410.3375497\ttest: 2415.9696630\tbest: 2415.9696630 (59)\ttotal: 1.8s\tremaining: 4.21s\n",
      "60:\tlearn: 2394.7461762\ttest: 2399.9447153\tbest: 2399.9447153 (60)\ttotal: 1.84s\tremaining: 4.19s\n",
      "61:\tlearn: 2379.7819837\ttest: 2384.8773487\tbest: 2384.8773487 (61)\ttotal: 1.87s\tremaining: 4.16s\n",
      "62:\tlearn: 2364.9403594\ttest: 2369.7376894\tbest: 2369.7376894 (62)\ttotal: 1.9s\tremaining: 4.13s\n",
      "63:\tlearn: 2350.0705001\ttest: 2354.4010359\tbest: 2354.4010359 (63)\ttotal: 1.93s\tremaining: 4.1s\n",
      "64:\tlearn: 2336.8185327\ttest: 2341.0287334\tbest: 2341.0287334 (64)\ttotal: 1.96s\tremaining: 4.07s\n",
      "65:\tlearn: 2324.1848635\ttest: 2328.2105370\tbest: 2328.2105370 (65)\ttotal: 1.99s\tremaining: 4.04s\n",
      "66:\tlearn: 2311.3341150\ttest: 2315.1164421\tbest: 2315.1164421 (66)\ttotal: 2.03s\tremaining: 4.03s\n",
      "67:\tlearn: 2299.6167449\ttest: 2303.2305920\tbest: 2303.2305920 (67)\ttotal: 2.06s\tremaining: 4s\n",
      "68:\tlearn: 2288.0792032\ttest: 2291.6024735\tbest: 2291.6024735 (68)\ttotal: 2.09s\tremaining: 3.96s\n",
      "69:\tlearn: 2276.4336518\ttest: 2279.9670271\tbest: 2279.9670271 (69)\ttotal: 2.12s\tremaining: 3.93s\n",
      "70:\tlearn: 2266.4041253\ttest: 2269.8476086\tbest: 2269.8476086 (70)\ttotal: 2.14s\tremaining: 3.9s\n",
      "71:\tlearn: 2256.8433246\ttest: 2260.1807977\tbest: 2260.1807977 (71)\ttotal: 2.17s\tremaining: 3.85s\n",
      "72:\tlearn: 2247.3208290\ttest: 2250.4403956\tbest: 2250.4403956 (72)\ttotal: 2.2s\tremaining: 3.83s\n",
      "73:\tlearn: 2238.2341220\ttest: 2241.1407010\tbest: 2241.1407010 (73)\ttotal: 2.23s\tremaining: 3.79s\n",
      "74:\tlearn: 2229.5183537\ttest: 2232.2545241\tbest: 2232.2545241 (74)\ttotal: 2.26s\tremaining: 3.77s\n",
      "75:\tlearn: 2219.6127622\ttest: 2222.1600168\tbest: 2222.1600168 (75)\ttotal: 2.3s\tremaining: 3.75s\n",
      "76:\tlearn: 2211.3508953\ttest: 2213.7183901\tbest: 2213.7183901 (76)\ttotal: 2.33s\tremaining: 3.72s\n",
      "77:\tlearn: 2202.7824548\ttest: 2205.2089977\tbest: 2205.2089977 (77)\ttotal: 2.35s\tremaining: 3.68s\n",
      "78:\tlearn: 2195.7000910\ttest: 2198.1021769\tbest: 2198.1021769 (78)\ttotal: 2.38s\tremaining: 3.65s\n",
      "79:\tlearn: 2187.2960305\ttest: 2189.7158370\tbest: 2189.7158370 (79)\ttotal: 2.41s\tremaining: 3.61s\n",
      "80:\tlearn: 2180.2168440\ttest: 2182.6474614\tbest: 2182.6474614 (80)\ttotal: 2.44s\tremaining: 3.58s\n",
      "81:\tlearn: 2173.1668084\ttest: 2175.6167178\tbest: 2175.6167178 (81)\ttotal: 2.46s\tremaining: 3.54s\n",
      "82:\tlearn: 2166.4219371\ttest: 2168.9408031\tbest: 2168.9408031 (82)\ttotal: 2.5s\tremaining: 3.52s\n",
      "83:\tlearn: 2159.8895339\ttest: 2162.3719780\tbest: 2162.3719780 (83)\ttotal: 2.53s\tremaining: 3.49s\n",
      "84:\tlearn: 2152.1326423\ttest: 2154.6197231\tbest: 2154.6197231 (84)\ttotal: 2.56s\tremaining: 3.46s\n",
      "85:\tlearn: 2146.1549881\ttest: 2148.6340359\tbest: 2148.6340359 (85)\ttotal: 2.58s\tremaining: 3.43s\n",
      "86:\tlearn: 2140.1266848\ttest: 2142.5594215\tbest: 2142.5594215 (86)\ttotal: 2.61s\tremaining: 3.39s\n",
      "87:\tlearn: 2134.3881705\ttest: 2136.8308421\tbest: 2136.8308421 (87)\ttotal: 2.64s\tremaining: 3.36s\n",
      "88:\tlearn: 2128.0110951\ttest: 2130.2320355\tbest: 2130.2320355 (88)\ttotal: 2.67s\tremaining: 3.33s\n",
      "89:\tlearn: 2122.6494652\ttest: 2124.8509659\tbest: 2124.8509659 (89)\ttotal: 2.7s\tremaining: 3.3s\n",
      "90:\tlearn: 2117.0328556\ttest: 2119.2498120\tbest: 2119.2498120 (90)\ttotal: 2.73s\tremaining: 3.27s\n",
      "91:\tlearn: 2111.2380650\ttest: 2113.4706552\tbest: 2113.4706552 (91)\ttotal: 2.76s\tremaining: 3.24s\n",
      "92:\tlearn: 2106.5191853\ttest: 2108.7407295\tbest: 2108.7407295 (92)\ttotal: 2.79s\tremaining: 3.21s\n",
      "93:\tlearn: 2101.0783163\ttest: 2103.2717221\tbest: 2103.2717221 (93)\ttotal: 2.82s\tremaining: 3.18s\n",
      "94:\tlearn: 2097.0062813\ttest: 2099.2664050\tbest: 2099.2664050 (94)\ttotal: 2.84s\tremaining: 3.14s\n",
      "95:\tlearn: 2092.1663959\ttest: 2094.2305992\tbest: 2094.2305992 (95)\ttotal: 2.87s\tremaining: 3.11s\n",
      "96:\tlearn: 2087.7325140\ttest: 2089.6708532\tbest: 2089.6708532 (96)\ttotal: 2.9s\tremaining: 3.08s\n",
      "97:\tlearn: 2082.8635758\ttest: 2084.8701818\tbest: 2084.8701818 (97)\ttotal: 2.93s\tremaining: 3.05s\n",
      "98:\tlearn: 2078.8509476\ttest: 2080.9434742\tbest: 2080.9434742 (98)\ttotal: 2.96s\tremaining: 3.02s\n",
      "99:\tlearn: 2074.3263602\ttest: 2076.2019870\tbest: 2076.2019870 (99)\ttotal: 3s\tremaining: 3s\n",
      "100:\tlearn: 2070.7472277\ttest: 2072.5404100\tbest: 2072.5404100 (100)\ttotal: 3.02s\tremaining: 2.96s\n",
      "101:\tlearn: 2066.8317241\ttest: 2068.7539665\tbest: 2068.7539665 (101)\ttotal: 3.05s\tremaining: 2.93s\n",
      "102:\tlearn: 2062.4935050\ttest: 2064.2928401\tbest: 2064.2928401 (102)\ttotal: 3.08s\tremaining: 2.9s\n",
      "103:\tlearn: 2058.0120011\ttest: 2059.8039078\tbest: 2059.8039078 (103)\ttotal: 3.12s\tremaining: 2.88s\n",
      "104:\tlearn: 2054.1204593\ttest: 2055.9581440\tbest: 2055.9581440 (104)\ttotal: 3.16s\tremaining: 2.86s\n",
      "105:\tlearn: 2050.4511325\ttest: 2052.4533544\tbest: 2052.4533544 (105)\ttotal: 3.19s\tremaining: 2.83s\n",
      "106:\tlearn: 2046.9908595\ttest: 2049.0463626\tbest: 2049.0463626 (106)\ttotal: 3.22s\tremaining: 2.8s\n",
      "107:\tlearn: 2044.0509778\ttest: 2046.1895353\tbest: 2046.1895353 (107)\ttotal: 3.25s\tremaining: 2.77s\n",
      "108:\tlearn: 2040.8900834\ttest: 2042.9775141\tbest: 2042.9775141 (108)\ttotal: 3.28s\tremaining: 2.74s\n",
      "109:\tlearn: 2038.1800419\ttest: 2040.2768548\tbest: 2040.2768548 (109)\ttotal: 3.31s\tremaining: 2.71s\n",
      "110:\tlearn: 2035.0286399\ttest: 2037.2492467\tbest: 2037.2492467 (110)\ttotal: 3.35s\tremaining: 2.68s\n",
      "111:\tlearn: 2031.6659703\ttest: 2033.8716702\tbest: 2033.8716702 (111)\ttotal: 3.38s\tremaining: 2.66s\n",
      "112:\tlearn: 2029.0796050\ttest: 2031.4218398\tbest: 2031.4218398 (112)\ttotal: 3.42s\tremaining: 2.63s\n",
      "113:\tlearn: 2026.0384829\ttest: 2028.5722145\tbest: 2028.5722145 (113)\ttotal: 3.45s\tremaining: 2.6s\n",
      "114:\tlearn: 2023.0099406\ttest: 2025.4043513\tbest: 2025.4043513 (114)\ttotal: 3.48s\tremaining: 2.57s\n",
      "115:\tlearn: 2020.5852708\ttest: 2022.9216902\tbest: 2022.9216902 (115)\ttotal: 3.5s\tremaining: 2.54s\n",
      "116:\tlearn: 2017.8886365\ttest: 2020.3043612\tbest: 2020.3043612 (116)\ttotal: 3.53s\tremaining: 2.5s\n",
      "117:\tlearn: 2014.8468413\ttest: 2017.3895084\tbest: 2017.3895084 (117)\ttotal: 3.56s\tremaining: 2.47s\n",
      "118:\tlearn: 2012.0476962\ttest: 2014.6784323\tbest: 2014.6784323 (118)\ttotal: 3.6s\tremaining: 2.45s\n",
      "119:\tlearn: 2009.9516608\ttest: 2012.6178435\tbest: 2012.6178435 (119)\ttotal: 3.63s\tremaining: 2.42s\n",
      "120:\tlearn: 2007.6138135\ttest: 2010.3949287\tbest: 2010.3949287 (120)\ttotal: 3.66s\tremaining: 2.39s\n",
      "121:\tlearn: 2005.0375707\ttest: 2007.8153425\tbest: 2007.8153425 (121)\ttotal: 3.68s\tremaining: 2.35s\n",
      "122:\tlearn: 2002.5712828\ttest: 2005.2798002\tbest: 2005.2798002 (122)\ttotal: 3.72s\tremaining: 2.33s\n",
      "123:\tlearn: 2000.3498761\ttest: 2003.1496802\tbest: 2003.1496802 (123)\ttotal: 3.74s\tremaining: 2.29s\n",
      "124:\tlearn: 1998.2530868\ttest: 2001.1496448\tbest: 2001.1496448 (124)\ttotal: 3.78s\tremaining: 2.27s\n",
      "125:\tlearn: 1996.2223469\ttest: 1999.0959502\tbest: 1999.0959502 (125)\ttotal: 3.81s\tremaining: 2.24s\n",
      "126:\tlearn: 1993.9636673\ttest: 1996.9641311\tbest: 1996.9641311 (126)\ttotal: 3.84s\tremaining: 2.21s\n",
      "127:\tlearn: 1991.6231649\ttest: 1994.6587179\tbest: 1994.6587179 (127)\ttotal: 3.87s\tremaining: 2.18s\n",
      "128:\tlearn: 1989.8695461\ttest: 1992.9419975\tbest: 1992.9419975 (128)\ttotal: 3.9s\tremaining: 2.15s\n",
      "129:\tlearn: 1987.6653396\ttest: 1990.7148937\tbest: 1990.7148937 (129)\ttotal: 3.93s\tremaining: 2.12s\n",
      "130:\tlearn: 1985.3108326\ttest: 1988.4304168\tbest: 1988.4304168 (130)\ttotal: 3.99s\tremaining: 2.1s\n",
      "131:\tlearn: 1983.7742207\ttest: 1986.8966292\tbest: 1986.8966292 (131)\ttotal: 4.05s\tremaining: 2.08s\n",
      "132:\tlearn: 1981.7428047\ttest: 1984.9792737\tbest: 1984.9792737 (132)\ttotal: 4.12s\tremaining: 2.07s\n",
      "133:\tlearn: 1979.7248550\ttest: 1983.1437523\tbest: 1983.1437523 (133)\ttotal: 4.15s\tremaining: 2.04s\n",
      "134:\tlearn: 1978.3714698\ttest: 1981.7812329\tbest: 1981.7812329 (134)\ttotal: 4.17s\tremaining: 2.01s\n",
      "135:\tlearn: 1976.9433339\ttest: 1980.3667721\tbest: 1980.3667721 (135)\ttotal: 4.21s\tremaining: 1.98s\n",
      "136:\tlearn: 1974.8394105\ttest: 1978.2249742\tbest: 1978.2249742 (136)\ttotal: 4.25s\tremaining: 1.95s\n",
      "137:\tlearn: 1973.2210931\ttest: 1976.7302923\tbest: 1976.7302923 (137)\ttotal: 4.28s\tremaining: 1.92s\n",
      "138:\tlearn: 1971.9357014\ttest: 1975.5387276\tbest: 1975.5387276 (138)\ttotal: 4.31s\tremaining: 1.89s\n",
      "139:\tlearn: 1970.3619147\ttest: 1974.0192040\tbest: 1974.0192040 (139)\ttotal: 4.33s\tremaining: 1.86s\n",
      "140:\tlearn: 1968.7361774\ttest: 1972.5394652\tbest: 1972.5394652 (140)\ttotal: 4.36s\tremaining: 1.82s\n",
      "141:\tlearn: 1967.2695962\ttest: 1971.1328121\tbest: 1971.1328121 (141)\ttotal: 4.39s\tremaining: 1.79s\n",
      "142:\tlearn: 1964.7427476\ttest: 1968.6138204\tbest: 1968.6138204 (142)\ttotal: 4.43s\tremaining: 1.76s\n",
      "143:\tlearn: 1962.3725045\ttest: 1966.2491463\tbest: 1966.2491463 (143)\ttotal: 4.46s\tremaining: 1.73s\n",
      "144:\tlearn: 1961.0150811\ttest: 1964.9295515\tbest: 1964.9295515 (144)\ttotal: 4.48s\tremaining: 1.7s\n",
      "145:\tlearn: 1959.7584312\ttest: 1963.7157627\tbest: 1963.7157627 (145)\ttotal: 4.51s\tremaining: 1.67s\n",
      "146:\tlearn: 1958.0840794\ttest: 1962.0451374\tbest: 1962.0451374 (146)\ttotal: 4.54s\tremaining: 1.64s\n",
      "147:\tlearn: 1956.8147765\ttest: 1960.8298255\tbest: 1960.8298255 (147)\ttotal: 4.56s\tremaining: 1.6s\n",
      "148:\tlearn: 1955.7601115\ttest: 1959.8520832\tbest: 1959.8520832 (148)\ttotal: 4.59s\tremaining: 1.57s\n",
      "149:\tlearn: 1954.0383023\ttest: 1958.1795771\tbest: 1958.1795771 (149)\ttotal: 4.62s\tremaining: 1.54s\n",
      "150:\tlearn: 1952.0212673\ttest: 1956.1042944\tbest: 1956.1042944 (150)\ttotal: 4.66s\tremaining: 1.51s\n",
      "151:\tlearn: 1950.6443543\ttest: 1954.8085626\tbest: 1954.8085626 (151)\ttotal: 4.68s\tremaining: 1.48s\n",
      "152:\tlearn: 1948.6980928\ttest: 1952.8054050\tbest: 1952.8054050 (152)\ttotal: 4.71s\tremaining: 1.45s\n",
      "153:\tlearn: 1946.6662832\ttest: 1950.8556346\tbest: 1950.8556346 (153)\ttotal: 4.74s\tremaining: 1.42s\n",
      "154:\tlearn: 1944.8116844\ttest: 1949.1009442\tbest: 1949.1009442 (154)\ttotal: 4.77s\tremaining: 1.38s\n",
      "155:\tlearn: 1943.2981584\ttest: 1947.5515348\tbest: 1947.5515348 (155)\ttotal: 4.8s\tremaining: 1.35s\n",
      "156:\tlearn: 1942.1591559\ttest: 1946.4780946\tbest: 1946.4780946 (156)\ttotal: 4.83s\tremaining: 1.32s\n",
      "157:\tlearn: 1940.9243062\ttest: 1945.2831372\tbest: 1945.2831372 (157)\ttotal: 4.85s\tremaining: 1.29s\n",
      "158:\tlearn: 1939.3831925\ttest: 1943.8072493\tbest: 1943.8072493 (158)\ttotal: 4.89s\tremaining: 1.26s\n",
      "159:\tlearn: 1938.2219116\ttest: 1942.7561578\tbest: 1942.7561578 (159)\ttotal: 4.91s\tremaining: 1.23s\n",
      "160:\tlearn: 1936.3161362\ttest: 1940.7985248\tbest: 1940.7985248 (160)\ttotal: 4.94s\tremaining: 1.2s\n",
      "161:\tlearn: 1935.1085637\ttest: 1939.6445480\tbest: 1939.6445480 (161)\ttotal: 4.97s\tremaining: 1.17s\n",
      "162:\tlearn: 1933.2743667\ttest: 1937.8585110\tbest: 1937.8585110 (162)\ttotal: 4.99s\tremaining: 1.13s\n",
      "163:\tlearn: 1932.0540002\ttest: 1936.7518633\tbest: 1936.7518633 (163)\ttotal: 5.02s\tremaining: 1.1s\n",
      "164:\tlearn: 1931.2119803\ttest: 1935.9850832\tbest: 1935.9850832 (164)\ttotal: 5.04s\tremaining: 1.07s\n",
      "165:\tlearn: 1930.3424855\ttest: 1935.1298429\tbest: 1935.1298429 (165)\ttotal: 5.07s\tremaining: 1.04s\n",
      "166:\tlearn: 1929.0679364\ttest: 1933.9248592\tbest: 1933.9248592 (166)\ttotal: 5.09s\tremaining: 1.01s\n",
      "167:\tlearn: 1928.4078381\ttest: 1933.3686193\tbest: 1933.3686193 (167)\ttotal: 5.13s\tremaining: 976ms\n",
      "168:\tlearn: 1926.7938125\ttest: 1931.7700604\tbest: 1931.7700604 (168)\ttotal: 5.15s\tremaining: 945ms\n",
      "169:\tlearn: 1925.4215915\ttest: 1930.5016446\tbest: 1930.5016446 (169)\ttotal: 5.18s\tremaining: 915ms\n",
      "170:\tlearn: 1923.6310383\ttest: 1928.6322278\tbest: 1928.6322278 (170)\ttotal: 5.21s\tremaining: 884ms\n",
      "171:\tlearn: 1922.0390610\ttest: 1926.9474579\tbest: 1926.9474579 (171)\ttotal: 5.24s\tremaining: 853ms\n",
      "172:\tlearn: 1920.6334403\ttest: 1925.6998619\tbest: 1925.6998619 (172)\ttotal: 5.27s\tremaining: 822ms\n",
      "173:\tlearn: 1919.6967371\ttest: 1924.8240398\tbest: 1924.8240398 (173)\ttotal: 5.29s\tremaining: 791ms\n",
      "174:\tlearn: 1918.8487877\ttest: 1924.1125179\tbest: 1924.1125179 (174)\ttotal: 5.32s\tremaining: 760ms\n",
      "175:\tlearn: 1917.5687404\ttest: 1922.8221451\tbest: 1922.8221451 (175)\ttotal: 5.35s\tremaining: 729ms\n",
      "176:\tlearn: 1916.4390472\ttest: 1921.9062015\tbest: 1921.9062015 (176)\ttotal: 5.38s\tremaining: 699ms\n",
      "177:\tlearn: 1915.2812114\ttest: 1920.7473920\tbest: 1920.7473920 (177)\ttotal: 5.41s\tremaining: 669ms\n",
      "178:\tlearn: 1914.1815375\ttest: 1919.6520044\tbest: 1919.6520044 (178)\ttotal: 5.44s\tremaining: 638ms\n",
      "179:\tlearn: 1913.3568951\ttest: 1918.9111859\tbest: 1918.9111859 (179)\ttotal: 5.48s\tremaining: 609ms\n",
      "180:\tlearn: 1912.4236429\ttest: 1918.0332616\tbest: 1918.0332616 (180)\ttotal: 5.5s\tremaining: 578ms\n",
      "181:\tlearn: 1911.4233380\ttest: 1917.1110676\tbest: 1917.1110676 (181)\ttotal: 5.53s\tremaining: 547ms\n",
      "182:\tlearn: 1910.7466299\ttest: 1916.4728158\tbest: 1916.4728158 (182)\ttotal: 5.57s\tremaining: 517ms\n",
      "183:\tlearn: 1909.3921860\ttest: 1915.2016107\tbest: 1915.2016107 (183)\ttotal: 5.59s\tremaining: 486ms\n",
      "184:\tlearn: 1908.5340270\ttest: 1914.3943381\tbest: 1914.3943381 (184)\ttotal: 5.62s\tremaining: 456ms\n",
      "185:\tlearn: 1907.5126996\ttest: 1913.4461668\tbest: 1913.4461668 (185)\ttotal: 5.64s\tremaining: 425ms\n",
      "186:\tlearn: 1906.4905940\ttest: 1912.6183338\tbest: 1912.6183338 (186)\ttotal: 5.67s\tremaining: 394ms\n",
      "187:\tlearn: 1905.3448645\ttest: 1911.5627206\tbest: 1911.5627206 (187)\ttotal: 5.7s\tremaining: 364ms\n",
      "188:\tlearn: 1904.0544071\ttest: 1910.2718632\tbest: 1910.2718632 (188)\ttotal: 5.73s\tremaining: 333ms\n",
      "189:\tlearn: 1903.0038307\ttest: 1909.3053256\tbest: 1909.3053256 (189)\ttotal: 5.76s\tremaining: 303ms\n",
      "190:\tlearn: 1902.3089981\ttest: 1908.6398535\tbest: 1908.6398535 (190)\ttotal: 5.79s\tremaining: 273ms\n",
      "191:\tlearn: 1901.4327290\ttest: 1907.8400313\tbest: 1907.8400313 (191)\ttotal: 5.82s\tremaining: 242ms\n",
      "192:\tlearn: 1900.6844236\ttest: 1907.1514076\tbest: 1907.1514076 (192)\ttotal: 5.84s\tremaining: 212ms\n",
      "193:\tlearn: 1899.8059373\ttest: 1906.2533767\tbest: 1906.2533767 (193)\ttotal: 5.87s\tremaining: 181ms\n",
      "194:\tlearn: 1898.7596525\ttest: 1905.3507951\tbest: 1905.3507951 (194)\ttotal: 5.89s\tremaining: 151ms\n",
      "195:\tlearn: 1898.1468773\ttest: 1904.8333872\tbest: 1904.8333872 (195)\ttotal: 5.92s\tremaining: 121ms\n",
      "196:\tlearn: 1897.3378356\ttest: 1904.1673173\tbest: 1904.1673173 (196)\ttotal: 5.95s\tremaining: 90.5ms\n",
      "197:\tlearn: 1896.5987301\ttest: 1903.5318483\tbest: 1903.5318483 (197)\ttotal: 5.97s\tremaining: 60.3ms\n",
      "198:\tlearn: 1895.8048871\ttest: 1902.7740047\tbest: 1902.7740047 (198)\ttotal: 6s\tremaining: 30.2ms\n",
      "199:\tlearn: 1895.3663177\ttest: 1902.4388773\tbest: 1902.4388773 (199)\ttotal: 6.03s\tremaining: 0us\n",
      "\n",
      "bestTest = 1902.438877\n",
      "bestIteration = 199\n",
      "\n",
      "Wall time: 1min 55s\n"
     ]
    }
   ],
   "source": [
    "%%time\n",
    "\n",
    "model_cat = CatBoostRegressor(random_state=111)\n",
    "\n",
    "params = {'iterations': [50, 100, 200], \n",
    "         'depth': [4, 6, 8],\n",
    "         'l2_leaf_reg': [1, 3, 5]}\n",
    "\n",
    "result_gs_cat = model_cat.grid_search(params, X=train_ft, y=train_tg, plot=True)"
   ]
  },
  {
   "cell_type": "markdown",
   "metadata": {},
   "source": [
    "Лучшими гиперпараметрами стали:"
   ]
  },
  {
   "cell_type": "code",
   "execution_count": 45,
   "metadata": {},
   "outputs": [
    {
     "data": {
      "text/plain": [
       "{'loss_function': 'RMSE',\n",
       " 'random_state': 111,\n",
       " 'depth': 8,\n",
       " 'l2_leaf_reg': 3,\n",
       " 'iterations': 200}"
      ]
     },
     "metadata": {},
     "output_type": "display_data"
    },
    {
     "data": {
      "text/plain": [
       "{'learn': {'RMSE': 1895.0632141741087}}"
      ]
     },
     "execution_count": 45,
     "metadata": {},
     "output_type": "execute_result"
    }
   ],
   "source": [
    "display(model_cat.get_params())\n",
    "model_cat.get_best_score()"
   ]
  },
  {
   "cell_type": "markdown",
   "metadata": {},
   "source": [
    "Обучим модель `CatBoost` с подобранными гиперпараметрами на тренировочной выборке:"
   ]
  },
  {
   "cell_type": "code",
   "execution_count": 46,
   "metadata": {},
   "outputs": [
    {
     "name": "stdout",
     "output_type": "stream",
     "text": [
      "Время обучения модели CatBoost: 8.0517 секунд\n"
     ]
    }
   ],
   "source": [
    "# Обучение модели CatBoost c выбранными гиперпарметрами на тренировоной выборке и расчет времени\n",
    "\n",
    "model_cat, time_fit_cat = fit_model('CatBoost', CatBoostRegressor(\n",
    "    random_state=111, loss_function='RMSE', depth=8, l2_leaf_reg=3, iterations=200, verbose=0), \n",
    "                                train_ft, train_tg)"
   ]
  },
  {
   "cell_type": "markdown",
   "metadata": {},
   "source": [
    "И узнаем качество нашей модели на тестовой выборке:"
   ]
  },
  {
   "cell_type": "code",
   "execution_count": 47,
   "metadata": {},
   "outputs": [
    {
     "name": "stdout",
     "output_type": "stream",
     "text": [
      "RMSE для модели CatBoost на валидационной выборке: 1916.48\n",
      "Время предсказания: 0.0356 секунд\n"
     ]
    }
   ],
   "source": [
    "# Предсказания для валидационной выборки, расчет метрики качества и времени\n",
    "\n",
    "rmse_cat, time_pred_cat = pred_model('CatBoost', model_cat, test_ft, test_tg)"
   ]
  },
  {
   "cell_type": "code",
   "execution_count": 48,
   "metadata": {},
   "outputs": [],
   "source": [
    "# Вывод результатов обучения модели CatBoost\n",
    "\n",
    "result.append({'Модель' : 'CatBoost', \n",
    "              'Параметры': model_cat.get_params(), \n",
    "              'Время обучения': f'{time_fit_cat} sec', \n",
    "              'Время предсказания': f'{time_pred_cat} sec', \n",
    "              'RMSE': rmse_cat})\n",
    "\n",
    "result_df = pd.DataFrame(result)"
   ]
  },
  {
   "cell_type": "code",
   "execution_count": 49,
   "metadata": {},
   "outputs": [
    {
     "data": {
      "text/html": [
       "<div>\n",
       "<style scoped>\n",
       "    .dataframe tbody tr th:only-of-type {\n",
       "        vertical-align: middle;\n",
       "    }\n",
       "\n",
       "    .dataframe tbody tr th {\n",
       "        vertical-align: top;\n",
       "    }\n",
       "\n",
       "    .dataframe thead th {\n",
       "        text-align: right;\n",
       "    }\n",
       "</style>\n",
       "<table border=\"1\" class=\"dataframe\">\n",
       "  <thead>\n",
       "    <tr style=\"text-align: right;\">\n",
       "      <th></th>\n",
       "      <th>Модель</th>\n",
       "      <th>Параметры</th>\n",
       "      <th>Время обучения</th>\n",
       "      <th>Время предсказания</th>\n",
       "      <th>RMSE</th>\n",
       "    </tr>\n",
       "  </thead>\n",
       "  <tbody>\n",
       "    <tr>\n",
       "      <th>0</th>\n",
       "      <td>LinearRegression</td>\n",
       "      <td>default</td>\n",
       "      <td>0.2016 sec</td>\n",
       "      <td>0.0189 sec</td>\n",
       "      <td>2991.06</td>\n",
       "    </tr>\n",
       "    <tr>\n",
       "      <th>1</th>\n",
       "      <td>XGBoost</td>\n",
       "      <td>{'max_depth': 8, 'n_estimators': 200}</td>\n",
       "      <td>12.0378 sec</td>\n",
       "      <td>0.1331 sec</td>\n",
       "      <td>1693.70</td>\n",
       "    </tr>\n",
       "    <tr>\n",
       "      <th>2</th>\n",
       "      <td>CatBoost</td>\n",
       "      <td>{'iterations': 200, 'depth': 8, 'l2_leaf_reg':...</td>\n",
       "      <td>8.0517 sec</td>\n",
       "      <td>0.0356 sec</td>\n",
       "      <td>1916.48</td>\n",
       "    </tr>\n",
       "  </tbody>\n",
       "</table>\n",
       "</div>"
      ],
      "text/plain": [
       "             Модель                                          Параметры  \\\n",
       "0  LinearRegression                                            default   \n",
       "1           XGBoost              {'max_depth': 8, 'n_estimators': 200}   \n",
       "2          CatBoost  {'iterations': 200, 'depth': 8, 'l2_leaf_reg':...   \n",
       "\n",
       "  Время обучения Время предсказания     RMSE  \n",
       "0     0.2016 sec         0.0189 sec  2991.06  \n",
       "1    12.0378 sec         0.1331 sec  1693.70  \n",
       "2     8.0517 sec         0.0356 sec  1916.48  "
      ]
     },
     "execution_count": 49,
     "metadata": {},
     "output_type": "execute_result"
    }
   ],
   "source": [
    "result_df"
   ]
  },
  {
   "cell_type": "markdown",
   "metadata": {},
   "source": [
    "### Градиентный бустинг LightGBM"
   ]
  },
  {
   "cell_type": "markdown",
   "metadata": {},
   "source": [
    "И последней рассмотренной моделью станет модель градиентного бустинга `LightGBM`."
   ]
  },
  {
   "cell_type": "code",
   "execution_count": 50,
   "metadata": {
    "scrolled": false
   },
   "outputs": [
    {
     "data": {
      "text/plain": [
       "GridSearchCV(cv=3, estimator=LGBMRegressor(random_state=111),\n",
       "             param_grid={'learning_rate': [0.1, 0.03], 'max_depth': [4, 6, 8],\n",
       "                         'n_estimators': [50, 100, 200]},\n",
       "             scoring=make_scorer(rmse_score, greater_is_better=False))"
      ]
     },
     "metadata": {},
     "output_type": "display_data"
    },
    {
     "name": "stdout",
     "output_type": "stream",
     "text": [
      "Wall time: 1min 8s\n"
     ]
    },
    {
     "data": {
      "text/plain": [
       "{'learning_rate': 0.1, 'max_depth': 8, 'n_estimators': 200}"
      ]
     },
     "execution_count": 50,
     "metadata": {},
     "output_type": "execute_result"
    }
   ],
   "source": [
    "%%time\n",
    "\n",
    "model_lgbm = LGBMRegressor(random_state=111)\n",
    "\n",
    "params = {'max_depth': [4, 6, 8], \n",
    "         'n_estimators': [50, 100, 200], \n",
    "         'learning_rate': [0.1, 0.03]}\n",
    "\n",
    "best_params_lgbm, best_score_lgbm = CV(model_lgbm, params, train_ft, train_tg)\n",
    "best_params_lgbm"
   ]
  },
  {
   "cell_type": "markdown",
   "metadata": {},
   "source": [
    "Проведем обучение модели `LightGBM` с подобранными гиперпараметрами на тренировочной выборке:"
   ]
  },
  {
   "cell_type": "code",
   "execution_count": 51,
   "metadata": {},
   "outputs": [
    {
     "name": "stdout",
     "output_type": "stream",
     "text": [
      "Время обучения модели LightGBM: 2.1456 секунд\n"
     ]
    }
   ],
   "source": [
    "# Обучение модели LightGBM c выбранными гиперпарметрами на тренировоной выборке и расчет времени\n",
    "\n",
    "model_lgbm, time_fit_lgbm = fit_model('LightGBM', LGBMRegressor(random_state=111, \n",
    "                                                           learning_rate=0.1, max_depth=8, n_estimators=200), \n",
    "                                 train_ft, train_tg)"
   ]
  },
  {
   "cell_type": "markdown",
   "metadata": {},
   "source": [
    "Теперь опробуем обученную модель на валидационной выборке и узнаем ее качество:"
   ]
  },
  {
   "cell_type": "code",
   "execution_count": 52,
   "metadata": {},
   "outputs": [
    {
     "name": "stdout",
     "output_type": "stream",
     "text": [
      "RMSE для модели LightGBM на валидационной выборке: 1758.0\n",
      "Время предсказания: 0.4169 секунд\n"
     ]
    }
   ],
   "source": [
    "# Предсказания для тестовой выборки, расчет метрики качества и времени\n",
    "\n",
    "rmse_lgbm, time_pred_lgbm = pred_model('LightGBM', model_lgbm, test_ft, test_tg)"
   ]
  },
  {
   "cell_type": "code",
   "execution_count": 53,
   "metadata": {},
   "outputs": [
    {
     "data": {
      "text/html": [
       "<div>\n",
       "<style scoped>\n",
       "    .dataframe tbody tr th:only-of-type {\n",
       "        vertical-align: middle;\n",
       "    }\n",
       "\n",
       "    .dataframe tbody tr th {\n",
       "        vertical-align: top;\n",
       "    }\n",
       "\n",
       "    .dataframe thead th {\n",
       "        text-align: right;\n",
       "    }\n",
       "</style>\n",
       "<table border=\"1\" class=\"dataframe\">\n",
       "  <thead>\n",
       "    <tr style=\"text-align: right;\">\n",
       "      <th></th>\n",
       "      <th>Модель</th>\n",
       "      <th>Параметры</th>\n",
       "      <th>Время обучения</th>\n",
       "      <th>Время предсказания</th>\n",
       "      <th>RMSE</th>\n",
       "    </tr>\n",
       "  </thead>\n",
       "  <tbody>\n",
       "    <tr>\n",
       "      <th>0</th>\n",
       "      <td>LinearRegression</td>\n",
       "      <td>default</td>\n",
       "      <td>0.2016 sec</td>\n",
       "      <td>0.0189 sec</td>\n",
       "      <td>2991.06</td>\n",
       "    </tr>\n",
       "    <tr>\n",
       "      <th>1</th>\n",
       "      <td>XGBoost</td>\n",
       "      <td>{'max_depth': 8, 'n_estimators': 200}</td>\n",
       "      <td>12.0378 sec</td>\n",
       "      <td>0.1331 sec</td>\n",
       "      <td>1693.70</td>\n",
       "    </tr>\n",
       "    <tr>\n",
       "      <th>2</th>\n",
       "      <td>CatBoost</td>\n",
       "      <td>{'iterations': 200, 'depth': 8, 'l2_leaf_reg':...</td>\n",
       "      <td>8.0517 sec</td>\n",
       "      <td>0.0356 sec</td>\n",
       "      <td>1916.48</td>\n",
       "    </tr>\n",
       "    <tr>\n",
       "      <th>3</th>\n",
       "      <td>LightGBM</td>\n",
       "      <td>{'learning_rate': 0.1, 'max_depth': 8, 'n_esti...</td>\n",
       "      <td>2.1456</td>\n",
       "      <td>0.4169</td>\n",
       "      <td>1758.00</td>\n",
       "    </tr>\n",
       "  </tbody>\n",
       "</table>\n",
       "</div>"
      ],
      "text/plain": [
       "             Модель                                          Параметры  \\\n",
       "0  LinearRegression                                            default   \n",
       "1           XGBoost              {'max_depth': 8, 'n_estimators': 200}   \n",
       "2          CatBoost  {'iterations': 200, 'depth': 8, 'l2_leaf_reg':...   \n",
       "3          LightGBM  {'learning_rate': 0.1, 'max_depth': 8, 'n_esti...   \n",
       "\n",
       "  Время обучения Время предсказания     RMSE  \n",
       "0     0.2016 sec         0.0189 sec  2991.06  \n",
       "1    12.0378 sec         0.1331 sec  1693.70  \n",
       "2     8.0517 sec         0.0356 sec  1916.48  \n",
       "3         2.1456             0.4169  1758.00  "
      ]
     },
     "execution_count": 53,
     "metadata": {},
     "output_type": "execute_result"
    }
   ],
   "source": [
    "# Вывод результатов обучения модели LightGBM\n",
    "\n",
    "result.append({'Модель' : 'LightGBM', \n",
    "              'Параметры': best_params_lgbm, \n",
    "              'Время обучения': time_fit_lgbm, \n",
    "              'Время предсказания': time_pred_lgbm, \n",
    "              'RMSE': rmse_lgbm})\n",
    "\n",
    "pd.DataFrame(result)"
   ]
  },
  {
   "cell_type": "markdown",
   "metadata": {},
   "source": [
    "## Анализ моделей"
   ]
  },
  {
   "cell_type": "code",
   "execution_count": 54,
   "metadata": {},
   "outputs": [
    {
     "data": {
      "text/html": [
       "<div>\n",
       "<style scoped>\n",
       "    .dataframe tbody tr th:only-of-type {\n",
       "        vertical-align: middle;\n",
       "    }\n",
       "\n",
       "    .dataframe tbody tr th {\n",
       "        vertical-align: top;\n",
       "    }\n",
       "\n",
       "    .dataframe thead th {\n",
       "        text-align: right;\n",
       "    }\n",
       "</style>\n",
       "<table border=\"1\" class=\"dataframe\">\n",
       "  <thead>\n",
       "    <tr style=\"text-align: right;\">\n",
       "      <th></th>\n",
       "      <th>Модель</th>\n",
       "      <th>Время обучения</th>\n",
       "      <th>Время предсказания</th>\n",
       "      <th>RMSE</th>\n",
       "    </tr>\n",
       "  </thead>\n",
       "  <tbody>\n",
       "    <tr>\n",
       "      <th>0</th>\n",
       "      <td>LinearModel</td>\n",
       "      <td>0.2016</td>\n",
       "      <td>0.0189</td>\n",
       "      <td>2991.06</td>\n",
       "    </tr>\n",
       "    <tr>\n",
       "      <th>1</th>\n",
       "      <td>XGBoost</td>\n",
       "      <td>12.0378</td>\n",
       "      <td>0.1331</td>\n",
       "      <td>1693.70</td>\n",
       "    </tr>\n",
       "    <tr>\n",
       "      <th>2</th>\n",
       "      <td>CatBoost</td>\n",
       "      <td>8.0517</td>\n",
       "      <td>0.0356</td>\n",
       "      <td>1916.48</td>\n",
       "    </tr>\n",
       "    <tr>\n",
       "      <th>3</th>\n",
       "      <td>LightGBM</td>\n",
       "      <td>2.1456</td>\n",
       "      <td>0.4169</td>\n",
       "      <td>1758.00</td>\n",
       "    </tr>\n",
       "  </tbody>\n",
       "</table>\n",
       "</div>"
      ],
      "text/plain": [
       "        Модель  Время обучения  Время предсказания     RMSE\n",
       "0  LinearModel          0.2016              0.0189  2991.06\n",
       "1      XGBoost         12.0378              0.1331  1693.70\n",
       "2     CatBoost          8.0517              0.0356  1916.48\n",
       "3     LightGBM          2.1456              0.4169  1758.00"
      ]
     },
     "execution_count": 54,
     "metadata": {},
     "output_type": "execute_result"
    }
   ],
   "source": [
    "pd.DataFrame({'Модель': ['LinearModel', 'XGBoost', 'CatBoost', 'LightGBM'], \n",
    "             'Время обучения': [time_fit_lr, time_fit_xgb, time_fit_cat, time_fit_lgbm], \n",
    "             'Время предсказания': [time_pred_lr, time_pred_xgb, time_pred_cat, time_pred_lgbm], \n",
    "             'RMSE': [rmse_lr, rmse_xgb, rmse_cat, rmse_lgbm]})"
   ]
  },
  {
   "cell_type": "markdown",
   "metadata": {},
   "source": [
    "* По значению метрики `RMSE` лучший результат показала модель градиентного бустинга `XGBoost`, однако на ее обучение потребовалось чуть больше времени по сравнению с остальными моделями.\n",
    "\n",
    "* Самую высокую скорость обучения показала модель линейной регрессии, однако качество у нее наихудшее. Второй по скорости обучения моделью стала модель градиентного бустинга `LightGBM`, причем по качеству эта модель находится на втором месте после модели `XGBoost`.\n",
    "\n",
    "* По скорости предсказания лучший результат показала модель линейной регрессии, а на втором месте оказалась модел градиентного бустинга `CatBoost`."
   ]
  },
  {
   "cell_type": "markdown",
   "metadata": {},
   "source": [
    "Конкурентами за место лучшей модели стали `XGBoost` и `LightGBM`. Выбор между ними стоит делать на основе того, какой из критериев более важен: затраченное время на обучения или же качество. В том случае, если на первом месте стоит качество предсказаний модели - стоит выбрать модель `XGBoost`, хотя она и тратит на обучение чуть больше времени. Если же важнее всего скорость - стоит выбрать модель `LightGBM`, тем более что по качеству она почти уступает модели `XGBoost`.\n",
    "\n",
    "Проверим эти две модели на адекватность в сравнении с константной моделью. "
   ]
  },
  {
   "cell_type": "code",
   "execution_count": 55,
   "metadata": {},
   "outputs": [
    {
     "name": "stdout",
     "output_type": "stream",
     "text": [
      "\n",
      "RMSE константной модели: 4722.68\n",
      "\n",
      "RMSE модели XGBoost на тестовой выборке: 1693.7\n",
      "RMSE модели LightGBM на тестовой выборке: 1758.0\n"
     ]
    }
   ],
   "source": [
    "# проверка с константной моделью\n",
    "constant_model = DummyRegressor(strategy='median').fit(train_ft, train_tg)\n",
    "constant_predictions = constant_model.predict(test_ft)\n",
    "const_result = rmse_score(test_tg, constant_predictions)\n",
    "print(f'\\nRMSE константной модели: {round(const_result, 2)}')\n",
    "\n",
    "print(f'\\nRMSE модели XGBoost на тестовой выборке: {rmse_xgb}')\n",
    "print(f'RMSE модели LightGBM на тестовой выборке: {rmse_lgbm}')"
   ]
  },
  {
   "cell_type": "markdown",
   "metadata": {},
   "source": [
    "Проверку на адекватность наши модели тоже прошли. "
   ]
  },
  {
   "cell_type": "markdown",
   "metadata": {},
   "source": [
    "## Итоги исследования"
   ]
  },
  {
   "cell_type": "markdown",
   "metadata": {},
   "source": [
    "Итак, в ходе исследования удалось обучить и проверить в деле четыре разных модели: LinearRegression, XGBoost, CatBoost, LightGBM.\n",
    "\n",
    "Каждая из моделей показала хорошие результаты хотя бы по одному из необходимых критериев, однако наиболее подходящими требованиям заказчика все же оказались модели градиентного бустинга **XGBoost** (лучшая по качеству) и **LightGBM** (лучшая по скорости обучения). "
   ]
  }
 ],
 "metadata": {
  "ExecuteTimeLog": [
   {
    "duration": 389,
    "start_time": "2022-04-28T13:26:45.252Z"
   },
   {
    "duration": 241,
    "start_time": "2022-04-28T13:27:04.505Z"
   },
   {
    "duration": 11072,
    "start_time": "2022-04-28T13:27:14.992Z"
   },
   {
    "duration": 121,
    "start_time": "2022-04-28T13:27:32.131Z"
   },
   {
    "duration": 45,
    "start_time": "2022-04-28T13:28:26.231Z"
   },
   {
    "duration": 7,
    "start_time": "2022-04-28T14:01:38.312Z"
   },
   {
    "duration": 7,
    "start_time": "2022-04-28T14:01:46.191Z"
   },
   {
    "duration": 9,
    "start_time": "2022-04-28T14:01:56.387Z"
   },
   {
    "duration": 7,
    "start_time": "2022-04-28T14:02:11.999Z"
   },
   {
    "duration": 580,
    "start_time": "2022-04-28T14:02:24.767Z"
   },
   {
    "duration": 232,
    "start_time": "2022-04-28T14:02:33.872Z"
   },
   {
    "duration": 266,
    "start_time": "2022-04-28T14:02:51.412Z"
   },
   {
    "duration": 5,
    "start_time": "2022-04-28T14:02:59.500Z"
   },
   {
    "duration": 6,
    "start_time": "2022-04-28T14:03:10.053Z"
   },
   {
    "duration": 21,
    "start_time": "2022-04-28T14:06:50.632Z"
   },
   {
    "duration": 9,
    "start_time": "2022-04-28T14:08:43.411Z"
   },
   {
    "duration": 51,
    "start_time": "2022-04-28T14:10:10.372Z"
   },
   {
    "duration": 40,
    "start_time": "2022-04-28T14:10:16.391Z"
   },
   {
    "duration": 24,
    "start_time": "2022-04-28T14:13:05.070Z"
   },
   {
    "duration": 6,
    "start_time": "2022-04-28T14:15:00.052Z"
   },
   {
    "duration": 204,
    "start_time": "2022-04-28T14:15:21.893Z"
   },
   {
    "duration": 5,
    "start_time": "2022-04-28T14:17:39.292Z"
   },
   {
    "duration": 2635,
    "start_time": "2022-04-28T14:18:16.133Z"
   },
   {
    "duration": 18,
    "start_time": "2022-04-28T14:18:25.831Z"
   },
   {
    "duration": 20,
    "start_time": "2022-04-28T14:20:44.133Z"
   },
   {
    "duration": 25,
    "start_time": "2022-04-28T14:21:36.953Z"
   },
   {
    "duration": 6,
    "start_time": "2022-04-28T14:25:55.313Z"
   },
   {
    "duration": 6,
    "start_time": "2022-04-28T14:28:35.533Z"
   },
   {
    "duration": 6,
    "start_time": "2022-04-28T14:30:09.383Z"
   },
   {
    "duration": 9,
    "start_time": "2022-04-28T14:30:13.433Z"
   },
   {
    "duration": 13,
    "start_time": "2022-04-28T14:35:36.910Z"
   },
   {
    "duration": 418,
    "start_time": "2022-04-28T14:36:02.481Z"
   },
   {
    "duration": 11472,
    "start_time": "2022-04-28T14:36:02.902Z"
   },
   {
    "duration": 143,
    "start_time": "2022-04-28T14:36:14.375Z"
   },
   {
    "duration": 71,
    "start_time": "2022-04-28T14:36:14.522Z"
   },
   {
    "duration": 12,
    "start_time": "2022-04-28T14:36:49.499Z"
   },
   {
    "duration": 39,
    "start_time": "2022-04-28T14:37:23.553Z"
   },
   {
    "duration": 2,
    "start_time": "2022-04-28T14:37:39.791Z"
   },
   {
    "duration": 38,
    "start_time": "2022-04-28T14:38:26.340Z"
   },
   {
    "duration": 50,
    "start_time": "2022-05-02T09:56:57.997Z"
   },
   {
    "duration": 402,
    "start_time": "2022-05-02T09:57:06.839Z"
   },
   {
    "duration": 859,
    "start_time": "2022-05-02T09:57:07.243Z"
   },
   {
    "duration": 150,
    "start_time": "2022-05-02T09:57:08.103Z"
   },
   {
    "duration": 29,
    "start_time": "2022-05-02T09:57:08.255Z"
   },
   {
    "duration": 58,
    "start_time": "2022-05-02T09:57:08.286Z"
   },
   {
    "duration": 122,
    "start_time": "2022-05-02T09:57:08.345Z"
   },
   {
    "duration": 106,
    "start_time": "2022-05-02T09:57:20.199Z"
   },
   {
    "duration": 115,
    "start_time": "2022-05-02T09:57:40.119Z"
   },
   {
    "duration": 107,
    "start_time": "2022-05-02T09:57:53.949Z"
   },
   {
    "duration": 39,
    "start_time": "2022-05-02T10:03:16.876Z"
   },
   {
    "duration": 406,
    "start_time": "2022-05-02T10:03:22.749Z"
   },
   {
    "duration": 926,
    "start_time": "2022-05-02T10:03:23.157Z"
   },
   {
    "duration": 160,
    "start_time": "2022-05-02T10:03:24.085Z"
   },
   {
    "duration": 31,
    "start_time": "2022-05-02T10:03:24.247Z"
   },
   {
    "duration": 69,
    "start_time": "2022-05-02T10:03:24.281Z"
   },
   {
    "duration": 139,
    "start_time": "2022-05-02T10:03:24.352Z"
   },
   {
    "duration": 132,
    "start_time": "2022-05-02T10:03:24.493Z"
   },
   {
    "duration": 419,
    "start_time": "2022-05-02T10:03:56.723Z"
   },
   {
    "duration": 899,
    "start_time": "2022-05-02T10:03:57.144Z"
   },
   {
    "duration": 153,
    "start_time": "2022-05-02T10:03:58.045Z"
   },
   {
    "duration": 38,
    "start_time": "2022-05-02T10:03:58.200Z"
   },
   {
    "duration": 51,
    "start_time": "2022-05-02T10:03:58.240Z"
   },
   {
    "duration": 145,
    "start_time": "2022-05-02T10:03:58.292Z"
   },
   {
    "duration": 112,
    "start_time": "2022-05-02T10:03:58.440Z"
   },
   {
    "duration": 234,
    "start_time": "2022-05-02T10:10:17.655Z"
   },
   {
    "duration": 6,
    "start_time": "2022-05-02T10:20:30.613Z"
   },
   {
    "duration": 20,
    "start_time": "2022-05-02T10:20:58.723Z"
   },
   {
    "duration": 1080,
    "start_time": "2022-05-02T10:21:34.523Z"
   },
   {
    "duration": 19,
    "start_time": "2022-05-02T13:53:51.174Z"
   },
   {
    "duration": 106,
    "start_time": "2022-05-02T13:54:24.394Z"
   },
   {
    "duration": 9,
    "start_time": "2022-05-02T13:54:32.199Z"
   },
   {
    "duration": 9,
    "start_time": "2022-05-02T13:54:43.979Z"
   },
   {
    "duration": 16,
    "start_time": "2022-05-02T13:55:17.707Z"
   },
   {
    "duration": 224,
    "start_time": "2022-05-02T13:55:25.129Z"
   },
   {
    "duration": 713,
    "start_time": "2022-05-02T13:58:18.542Z"
   },
   {
    "duration": 0,
    "start_time": "2022-05-02T13:59:34.561Z"
   },
   {
    "duration": 1231,
    "start_time": "2022-05-02T14:00:31.748Z"
   },
   {
    "duration": 850,
    "start_time": "2022-05-02T14:00:32.981Z"
   },
   {
    "duration": 135,
    "start_time": "2022-05-02T14:00:33.832Z"
   },
   {
    "duration": 29,
    "start_time": "2022-05-02T14:00:33.969Z"
   },
   {
    "duration": 54,
    "start_time": "2022-05-02T14:00:34.000Z"
   },
   {
    "duration": 138,
    "start_time": "2022-05-02T14:00:34.055Z"
   },
   {
    "duration": 56820,
    "start_time": "2022-05-02T14:00:34.194Z"
   },
   {
    "duration": 208,
    "start_time": "2022-05-02T14:01:31.023Z"
   },
   {
    "duration": 512,
    "start_time": "2022-05-02T14:01:31.233Z"
   },
   {
    "duration": 113,
    "start_time": "2022-05-02T14:01:31.747Z"
   },
   {
    "duration": 173,
    "start_time": "2022-05-02T14:05:45.605Z"
   },
   {
    "duration": 4,
    "start_time": "2022-05-02T14:06:06.106Z"
   },
   {
    "duration": 126,
    "start_time": "2022-05-02T14:06:11.327Z"
   },
   {
    "duration": 2629,
    "start_time": "2022-05-02T14:06:52.495Z"
   },
   {
    "duration": 1310,
    "start_time": "2022-05-02T14:07:07.235Z"
   },
   {
    "duration": 1590,
    "start_time": "2022-05-02T14:07:15.473Z"
   },
   {
    "duration": 1295,
    "start_time": "2022-05-02T14:07:31.496Z"
   },
   {
    "duration": 1622,
    "start_time": "2022-05-02T14:07:45.966Z"
   },
   {
    "duration": 1418,
    "start_time": "2022-05-02T14:08:35.555Z"
   },
   {
    "duration": 1368,
    "start_time": "2022-05-02T14:08:44.234Z"
   },
   {
    "duration": 1301,
    "start_time": "2022-05-02T14:08:49.893Z"
   },
   {
    "duration": 1466,
    "start_time": "2022-05-02T14:10:32.026Z"
   },
   {
    "duration": 3044,
    "start_time": "2022-05-02T14:11:33.870Z"
   },
   {
    "duration": 3143,
    "start_time": "2022-05-02T14:12:59.306Z"
   },
   {
    "duration": 3303,
    "start_time": "2022-05-02T14:13:45.536Z"
   },
   {
    "duration": 232,
    "start_time": "2022-05-02T14:14:02.837Z"
   },
   {
    "duration": 192,
    "start_time": "2022-05-02T14:15:16.151Z"
   },
   {
    "duration": 3053,
    "start_time": "2022-05-02T14:16:04.944Z"
   },
   {
    "duration": 3140,
    "start_time": "2022-05-02T14:16:57.516Z"
   },
   {
    "duration": 30,
    "start_time": "2022-05-02T14:22:07.514Z"
   },
   {
    "duration": 11,
    "start_time": "2022-05-02T14:22:22.934Z"
   },
   {
    "duration": 8,
    "start_time": "2022-05-02T14:22:34.141Z"
   },
   {
    "duration": 4,
    "start_time": "2022-05-02T14:23:33.015Z"
   },
   {
    "duration": 19,
    "start_time": "2022-05-02T14:25:24.203Z"
   },
   {
    "duration": 7,
    "start_time": "2022-05-02T14:26:03.105Z"
   },
   {
    "duration": 16,
    "start_time": "2022-05-02T14:29:16.026Z"
   },
   {
    "duration": 166,
    "start_time": "2022-05-02T14:29:22.194Z"
   },
   {
    "duration": 50,
    "start_time": "2022-05-02T14:29:25.336Z"
   },
   {
    "duration": 9,
    "start_time": "2022-05-02T14:29:40.703Z"
   },
   {
    "duration": 96,
    "start_time": "2022-05-02T14:30:12.156Z"
   },
   {
    "duration": 1253,
    "start_time": "2022-05-02T14:31:05.935Z"
   },
   {
    "duration": 871,
    "start_time": "2022-05-02T14:31:07.190Z"
   },
   {
    "duration": 159,
    "start_time": "2022-05-02T14:31:08.063Z"
   },
   {
    "duration": 30,
    "start_time": "2022-05-02T14:31:08.224Z"
   },
   {
    "duration": 43,
    "start_time": "2022-05-02T14:31:08.257Z"
   },
   {
    "duration": 134,
    "start_time": "2022-05-02T14:31:08.322Z"
   },
   {
    "duration": 4613,
    "start_time": "2022-05-02T14:31:08.458Z"
   },
   {
    "duration": 11,
    "start_time": "2022-05-02T14:31:13.073Z"
   },
   {
    "duration": 61,
    "start_time": "2022-05-02T14:31:13.086Z"
   },
   {
    "duration": 194,
    "start_time": "2022-05-02T14:31:13.149Z"
   },
   {
    "duration": 115,
    "start_time": "2022-05-02T14:31:13.345Z"
   },
   {
    "duration": 18,
    "start_time": "2022-05-02T14:33:06.875Z"
   },
   {
    "duration": 1692,
    "start_time": "2022-05-02T14:33:17.743Z"
   },
   {
    "duration": 1269,
    "start_time": "2022-05-02T14:33:19.438Z"
   },
   {
    "duration": 155,
    "start_time": "2022-05-02T14:33:20.709Z"
   },
   {
    "duration": 34,
    "start_time": "2022-05-02T14:33:20.866Z"
   },
   {
    "duration": 45,
    "start_time": "2022-05-02T14:33:20.922Z"
   },
   {
    "duration": 167,
    "start_time": "2022-05-02T14:33:20.969Z"
   },
   {
    "duration": 21,
    "start_time": "2022-05-02T14:33:22.930Z"
   },
   {
    "duration": 53,
    "start_time": "2022-05-02T14:34:15.481Z"
   },
   {
    "duration": 1343,
    "start_time": "2022-05-02T14:36:35.365Z"
   },
   {
    "duration": 1012,
    "start_time": "2022-05-02T14:36:36.710Z"
   },
   {
    "duration": 140,
    "start_time": "2022-05-02T14:36:37.724Z"
   },
   {
    "duration": 30,
    "start_time": "2022-05-02T14:36:37.866Z"
   },
   {
    "duration": 81,
    "start_time": "2022-05-02T14:36:37.899Z"
   },
   {
    "duration": 195,
    "start_time": "2022-05-02T14:36:37.982Z"
   },
   {
    "duration": 19,
    "start_time": "2022-05-02T14:36:38.179Z"
   },
   {
    "duration": 23,
    "start_time": "2022-05-02T14:36:38.200Z"
   },
   {
    "duration": 38,
    "start_time": "2022-05-02T14:36:38.225Z"
   },
   {
    "duration": 118,
    "start_time": "2022-05-02T14:36:38.266Z"
   },
   {
    "duration": 105,
    "start_time": "2022-05-02T14:36:38.386Z"
   },
   {
    "duration": 18,
    "start_time": "2022-05-02T14:43:14.663Z"
   },
   {
    "duration": 200,
    "start_time": "2022-05-02T14:44:14.473Z"
   },
   {
    "duration": 116,
    "start_time": "2022-05-02T14:46:35.502Z"
   },
   {
    "duration": 10,
    "start_time": "2022-05-02T14:46:45.291Z"
   },
   {
    "duration": 13,
    "start_time": "2022-05-02T14:46:52.181Z"
   },
   {
    "duration": 9,
    "start_time": "2022-05-02T14:47:11.772Z"
   },
   {
    "duration": 153,
    "start_time": "2022-05-02T14:47:25.403Z"
   },
   {
    "duration": 12,
    "start_time": "2022-05-02T14:47:39.123Z"
   },
   {
    "duration": 141,
    "start_time": "2022-05-02T14:47:44.292Z"
   },
   {
    "duration": 209,
    "start_time": "2022-05-02T14:49:51.178Z"
   },
   {
    "duration": 345,
    "start_time": "2022-05-02T14:54:56.254Z"
   },
   {
    "duration": 112,
    "start_time": "2022-05-02T14:57:48.442Z"
   },
   {
    "duration": 13,
    "start_time": "2022-05-02T14:58:17.292Z"
   },
   {
    "duration": 159,
    "start_time": "2022-05-02T14:58:24.512Z"
   },
   {
    "duration": 19,
    "start_time": "2022-05-02T14:58:35.042Z"
   },
   {
    "duration": 5,
    "start_time": "2022-05-02T14:58:48.312Z"
   },
   {
    "duration": 236,
    "start_time": "2022-05-02T14:59:01.163Z"
   },
   {
    "duration": 6,
    "start_time": "2022-05-02T14:59:04.222Z"
   },
   {
    "duration": 36,
    "start_time": "2022-05-02T14:59:24.012Z"
   },
   {
    "duration": 18,
    "start_time": "2022-05-02T15:05:06.842Z"
   },
   {
    "duration": 11,
    "start_time": "2022-05-02T15:06:33.322Z"
   },
   {
    "duration": 19,
    "start_time": "2022-05-02T15:06:36.712Z"
   },
   {
    "duration": 11,
    "start_time": "2022-05-02T15:16:33.933Z"
   },
   {
    "duration": 20,
    "start_time": "2022-05-02T15:17:01.163Z"
   },
   {
    "duration": 10,
    "start_time": "2022-05-02T15:17:13.333Z"
   },
   {
    "duration": 3,
    "start_time": "2022-05-02T15:22:33.242Z"
   },
   {
    "duration": 124,
    "start_time": "2022-05-02T15:22:41.053Z"
   },
   {
    "duration": 179,
    "start_time": "2022-05-02T15:22:56.782Z"
   },
   {
    "duration": 31,
    "start_time": "2022-05-02T15:24:16.680Z"
   },
   {
    "duration": 15,
    "start_time": "2022-05-02T15:25:14.743Z"
   },
   {
    "duration": 6,
    "start_time": "2022-05-02T15:25:22.482Z"
   },
   {
    "duration": 16,
    "start_time": "2022-05-02T15:25:29.243Z"
   },
   {
    "duration": 103,
    "start_time": "2022-05-02T15:25:34.932Z"
   },
   {
    "duration": 1668,
    "start_time": "2022-05-02T15:28:59.486Z"
   },
   {
    "duration": 862,
    "start_time": "2022-05-02T15:29:01.156Z"
   },
   {
    "duration": 256,
    "start_time": "2022-05-02T15:29:02.023Z"
   },
   {
    "duration": 30,
    "start_time": "2022-05-02T15:29:02.281Z"
   },
   {
    "duration": 66,
    "start_time": "2022-05-02T15:29:02.314Z"
   },
   {
    "duration": 226,
    "start_time": "2022-05-02T15:29:02.382Z"
   },
   {
    "duration": 19,
    "start_time": "2022-05-02T15:29:10.046Z"
   },
   {
    "duration": 12,
    "start_time": "2022-05-02T15:29:43.718Z"
   },
   {
    "duration": 60,
    "start_time": "2022-05-02T15:29:53.076Z"
   },
   {
    "duration": 84,
    "start_time": "2022-05-02T15:29:57.456Z"
   },
   {
    "duration": 23,
    "start_time": "2022-05-02T15:30:19.877Z"
   },
   {
    "duration": 20,
    "start_time": "2022-05-02T15:31:01.366Z"
   },
   {
    "duration": 122,
    "start_time": "2022-05-02T15:32:39.136Z"
   },
   {
    "duration": 1561,
    "start_time": "2022-05-02T15:33:40.155Z"
   },
   {
    "duration": 1009,
    "start_time": "2022-05-02T15:33:41.718Z"
   },
   {
    "duration": 159,
    "start_time": "2022-05-02T15:33:42.729Z"
   },
   {
    "duration": 35,
    "start_time": "2022-05-02T15:33:42.890Z"
   },
   {
    "duration": 43,
    "start_time": "2022-05-02T15:33:42.927Z"
   },
   {
    "duration": 250,
    "start_time": "2022-05-02T15:33:42.972Z"
   },
   {
    "duration": 18,
    "start_time": "2022-05-02T15:33:43.224Z"
   },
   {
    "duration": 10,
    "start_time": "2022-05-02T15:33:43.244Z"
   },
   {
    "duration": 117,
    "start_time": "2022-05-02T15:33:52.368Z"
   },
   {
    "duration": 144,
    "start_time": "2022-05-02T15:34:06.598Z"
   },
   {
    "duration": 89,
    "start_time": "2022-05-02T15:34:16.905Z"
   },
   {
    "duration": 220,
    "start_time": "2022-05-02T15:34:20.364Z"
   },
   {
    "duration": 156,
    "start_time": "2022-05-02T15:34:56.975Z"
   },
   {
    "duration": 141,
    "start_time": "2022-05-02T15:35:17.522Z"
   },
   {
    "duration": 1610,
    "start_time": "2022-05-04T10:05:16.305Z"
   },
   {
    "duration": 715,
    "start_time": "2022-05-04T10:05:17.917Z"
   },
   {
    "duration": 118,
    "start_time": "2022-05-04T10:05:18.634Z"
   },
   {
    "duration": 26,
    "start_time": "2022-05-04T10:05:18.754Z"
   },
   {
    "duration": 50,
    "start_time": "2022-05-04T10:05:18.783Z"
   },
   {
    "duration": 188,
    "start_time": "2022-05-04T10:05:18.835Z"
   },
   {
    "duration": 16,
    "start_time": "2022-05-04T10:05:19.025Z"
   },
   {
    "duration": 9,
    "start_time": "2022-05-04T10:05:19.043Z"
   },
   {
    "duration": 35,
    "start_time": "2022-05-04T10:05:19.054Z"
   },
   {
    "duration": 177,
    "start_time": "2022-05-04T10:05:44.848Z"
   },
   {
    "duration": 106,
    "start_time": "2022-05-04T10:08:03.813Z"
   },
   {
    "duration": 127,
    "start_time": "2022-05-04T10:08:19.150Z"
   },
   {
    "duration": 2300,
    "start_time": "2022-05-04T13:43:54.800Z"
   },
   {
    "duration": 1276,
    "start_time": "2022-05-04T13:43:57.103Z"
   },
   {
    "duration": 177,
    "start_time": "2022-05-04T13:43:58.381Z"
   },
   {
    "duration": 42,
    "start_time": "2022-05-04T13:43:58.561Z"
   },
   {
    "duration": 59,
    "start_time": "2022-05-04T13:43:58.627Z"
   },
   {
    "duration": 315,
    "start_time": "2022-05-04T13:43:58.689Z"
   },
   {
    "duration": 34,
    "start_time": "2022-05-04T13:43:59.007Z"
   },
   {
    "duration": 14,
    "start_time": "2022-05-04T13:43:59.044Z"
   },
   {
    "duration": 89,
    "start_time": "2022-05-04T13:43:59.060Z"
   },
   {
    "duration": 300,
    "start_time": "2022-05-04T13:44:09.764Z"
   },
   {
    "duration": 245,
    "start_time": "2022-05-04T13:44:23.099Z"
   },
   {
    "duration": 193,
    "start_time": "2022-05-04T13:44:31.779Z"
   },
   {
    "duration": 42,
    "start_time": "2022-05-04T13:48:35.239Z"
   },
   {
    "duration": 198,
    "start_time": "2022-05-04T13:59:46.942Z"
   },
   {
    "duration": 43,
    "start_time": "2022-05-04T14:02:17.148Z"
   },
   {
    "duration": 126,
    "start_time": "2022-05-04T14:05:17.779Z"
   },
   {
    "duration": 134,
    "start_time": "2022-05-04T14:05:27.280Z"
   },
   {
    "duration": 125,
    "start_time": "2022-05-04T14:15:27.920Z"
   },
   {
    "duration": 175,
    "start_time": "2022-05-04T14:16:01.079Z"
   },
   {
    "duration": 134,
    "start_time": "2022-05-04T14:16:04.299Z"
   },
   {
    "duration": 188,
    "start_time": "2022-05-04T14:17:00.499Z"
   },
   {
    "duration": 2113,
    "start_time": "2022-05-04T14:19:00.043Z"
   },
   {
    "duration": 1188,
    "start_time": "2022-05-04T14:19:02.159Z"
   },
   {
    "duration": 198,
    "start_time": "2022-05-04T14:19:03.349Z"
   },
   {
    "duration": 46,
    "start_time": "2022-05-04T14:19:03.550Z"
   },
   {
    "duration": 87,
    "start_time": "2022-05-04T14:19:03.600Z"
   },
   {
    "duration": 313,
    "start_time": "2022-05-04T14:19:03.689Z"
   },
   {
    "duration": 36,
    "start_time": "2022-05-04T14:19:04.005Z"
   },
   {
    "duration": 13,
    "start_time": "2022-05-04T14:19:04.044Z"
   },
   {
    "duration": 88,
    "start_time": "2022-05-04T14:19:04.060Z"
   },
   {
    "duration": 284,
    "start_time": "2022-05-04T14:19:11.160Z"
   },
   {
    "duration": 36,
    "start_time": "2022-05-04T14:19:46.779Z"
   },
   {
    "duration": 19,
    "start_time": "2022-05-04T14:20:07.460Z"
   },
   {
    "duration": 8,
    "start_time": "2022-05-04T14:20:31.941Z"
   },
   {
    "duration": 8,
    "start_time": "2022-05-04T14:20:58.980Z"
   },
   {
    "duration": 19,
    "start_time": "2022-05-04T14:21:40.200Z"
   },
   {
    "duration": 18,
    "start_time": "2022-05-04T14:21:51.961Z"
   },
   {
    "duration": 20,
    "start_time": "2022-05-04T14:21:58.960Z"
   },
   {
    "duration": 122,
    "start_time": "2022-05-04T14:22:19.099Z"
   },
   {
    "duration": 182,
    "start_time": "2022-05-04T14:23:11.701Z"
   },
   {
    "duration": 122,
    "start_time": "2022-05-04T14:23:15.640Z"
   },
   {
    "duration": 31,
    "start_time": "2022-05-04T14:23:53.299Z"
   },
   {
    "duration": 2113,
    "start_time": "2022-05-04T14:25:02.367Z"
   },
   {
    "duration": 1184,
    "start_time": "2022-05-04T14:25:04.482Z"
   },
   {
    "duration": 182,
    "start_time": "2022-05-04T14:25:05.668Z"
   },
   {
    "duration": 42,
    "start_time": "2022-05-04T14:25:05.853Z"
   },
   {
    "duration": 81,
    "start_time": "2022-05-04T14:25:05.898Z"
   },
   {
    "duration": 298,
    "start_time": "2022-05-04T14:25:05.982Z"
   },
   {
    "duration": 23,
    "start_time": "2022-05-04T14:25:06.282Z"
   },
   {
    "duration": 35,
    "start_time": "2022-05-04T14:25:06.307Z"
   },
   {
    "duration": 80,
    "start_time": "2022-05-04T14:25:06.344Z"
   },
   {
    "duration": 13,
    "start_time": "2022-05-04T14:25:09.880Z"
   },
   {
    "duration": 41,
    "start_time": "2022-05-04T14:25:17.995Z"
   },
   {
    "duration": 259,
    "start_time": "2022-05-04T14:25:28.156Z"
   },
   {
    "duration": 31,
    "start_time": "2022-05-04T14:25:35.936Z"
   },
   {
    "duration": 2010,
    "start_time": "2022-05-04T14:26:09.381Z"
   },
   {
    "duration": 1161,
    "start_time": "2022-05-04T14:26:11.393Z"
   },
   {
    "duration": 220,
    "start_time": "2022-05-04T14:26:12.556Z"
   },
   {
    "duration": 54,
    "start_time": "2022-05-04T14:26:12.778Z"
   },
   {
    "duration": 76,
    "start_time": "2022-05-04T14:26:12.837Z"
   },
   {
    "duration": 315,
    "start_time": "2022-05-04T14:26:12.915Z"
   },
   {
    "duration": 21,
    "start_time": "2022-05-04T14:26:13.233Z"
   },
   {
    "duration": 14,
    "start_time": "2022-05-04T14:26:13.256Z"
   },
   {
    "duration": 105,
    "start_time": "2022-05-04T14:26:13.273Z"
   },
   {
    "duration": 13,
    "start_time": "2022-05-04T14:26:19.378Z"
   },
   {
    "duration": 40,
    "start_time": "2022-05-04T14:26:26.594Z"
   },
   {
    "duration": 253,
    "start_time": "2022-05-04T14:26:36.298Z"
   },
   {
    "duration": 31,
    "start_time": "2022-05-04T14:26:41.898Z"
   },
   {
    "duration": 2514,
    "start_time": "2022-05-04T14:27:36.504Z"
   },
   {
    "duration": 1257,
    "start_time": "2022-05-04T14:27:39.021Z"
   },
   {
    "duration": 176,
    "start_time": "2022-05-04T14:27:40.280Z"
   },
   {
    "duration": 41,
    "start_time": "2022-05-04T14:27:40.458Z"
   },
   {
    "duration": 60,
    "start_time": "2022-05-04T14:27:40.526Z"
   },
   {
    "duration": 302,
    "start_time": "2022-05-04T14:27:40.588Z"
   },
   {
    "duration": 33,
    "start_time": "2022-05-04T14:27:40.892Z"
   },
   {
    "duration": 15,
    "start_time": "2022-05-04T14:27:40.927Z"
   },
   {
    "duration": 85,
    "start_time": "2022-05-04T14:27:40.944Z"
   },
   {
    "duration": 254,
    "start_time": "2022-05-04T14:27:41.031Z"
   },
   {
    "duration": 32,
    "start_time": "2022-05-04T14:27:43.201Z"
   },
   {
    "duration": 12,
    "start_time": "2022-05-04T14:28:12.363Z"
   },
   {
    "duration": 9,
    "start_time": "2022-05-04T14:28:41.382Z"
   },
   {
    "duration": 130,
    "start_time": "2022-05-04T14:30:34.215Z"
   },
   {
    "duration": 188,
    "start_time": "2022-05-04T14:33:43.499Z"
   },
   {
    "duration": 160,
    "start_time": "2022-05-04T14:33:49.999Z"
   },
   {
    "duration": 12,
    "start_time": "2022-05-04T14:33:56.497Z"
   },
   {
    "duration": 12,
    "start_time": "2022-05-04T14:34:16.299Z"
   },
   {
    "duration": 1970,
    "start_time": "2022-05-04T14:34:25.575Z"
   },
   {
    "duration": 1250,
    "start_time": "2022-05-04T14:34:27.547Z"
   },
   {
    "duration": 173,
    "start_time": "2022-05-04T14:34:28.799Z"
   },
   {
    "duration": 54,
    "start_time": "2022-05-04T14:34:28.973Z"
   },
   {
    "duration": 62,
    "start_time": "2022-05-04T14:34:29.030Z"
   },
   {
    "duration": 304,
    "start_time": "2022-05-04T14:34:29.094Z"
   },
   {
    "duration": 35,
    "start_time": "2022-05-04T14:34:29.400Z"
   },
   {
    "duration": 13,
    "start_time": "2022-05-04T14:34:29.438Z"
   },
   {
    "duration": 73,
    "start_time": "2022-05-04T14:34:29.453Z"
   },
   {
    "duration": 248,
    "start_time": "2022-05-04T14:34:29.528Z"
   },
   {
    "duration": 8,
    "start_time": "2022-05-04T14:34:29.778Z"
   },
   {
    "duration": 299,
    "start_time": "2022-05-04T14:34:31.962Z"
   },
   {
    "duration": 166,
    "start_time": "2022-05-04T14:34:48.554Z"
   },
   {
    "duration": 2050,
    "start_time": "2022-05-04T14:35:28.985Z"
   },
   {
    "duration": 1188,
    "start_time": "2022-05-04T14:35:31.038Z"
   },
   {
    "duration": 175,
    "start_time": "2022-05-04T14:35:32.228Z"
   },
   {
    "duration": 60,
    "start_time": "2022-05-04T14:35:32.405Z"
   },
   {
    "duration": 76,
    "start_time": "2022-05-04T14:35:32.468Z"
   },
   {
    "duration": 295,
    "start_time": "2022-05-04T14:35:32.546Z"
   },
   {
    "duration": 21,
    "start_time": "2022-05-04T14:35:32.843Z"
   },
   {
    "duration": 15,
    "start_time": "2022-05-04T14:35:32.866Z"
   },
   {
    "duration": 93,
    "start_time": "2022-05-04T14:35:32.883Z"
   },
   {
    "duration": 265,
    "start_time": "2022-05-04T14:35:32.979Z"
   },
   {
    "duration": 180,
    "start_time": "2022-05-04T14:35:36.815Z"
   },
   {
    "duration": 4,
    "start_time": "2022-05-04T14:50:56.631Z"
   },
   {
    "duration": 1144,
    "start_time": "2022-05-04T14:52:37.493Z"
   },
   {
    "duration": 20,
    "start_time": "2022-05-04T14:52:51.991Z"
   },
   {
    "duration": 25,
    "start_time": "2022-05-04T14:53:02.071Z"
   },
   {
    "duration": 1988,
    "start_time": "2022-05-04T14:54:37.051Z"
   },
   {
    "duration": 0,
    "start_time": "2022-05-04T14:54:39.041Z"
   },
   {
    "duration": 1873,
    "start_time": "2022-05-04T14:54:59.680Z"
   },
   {
    "duration": 775,
    "start_time": "2022-05-04T14:57:10.901Z"
   },
   {
    "duration": 774,
    "start_time": "2022-05-04T14:57:18.538Z"
   },
   {
    "duration": 814,
    "start_time": "2022-05-04T14:57:24.468Z"
   },
   {
    "duration": 16,
    "start_time": "2022-05-04T14:57:27.810Z"
   },
   {
    "duration": 847,
    "start_time": "2022-05-04T14:59:11.950Z"
   },
   {
    "duration": 93,
    "start_time": "2022-05-04T15:00:31.972Z"
   },
   {
    "duration": 2228,
    "start_time": "2022-05-04T15:01:02.321Z"
   },
   {
    "duration": 1163,
    "start_time": "2022-05-04T15:01:04.552Z"
   },
   {
    "duration": 188,
    "start_time": "2022-05-04T15:01:05.717Z"
   },
   {
    "duration": 51,
    "start_time": "2022-05-04T15:01:05.907Z"
   },
   {
    "duration": 71,
    "start_time": "2022-05-04T15:01:05.961Z"
   },
   {
    "duration": 310,
    "start_time": "2022-05-04T15:01:06.034Z"
   },
   {
    "duration": 22,
    "start_time": "2022-05-04T15:01:06.347Z"
   },
   {
    "duration": 13,
    "start_time": "2022-05-04T15:01:06.372Z"
   },
   {
    "duration": 98,
    "start_time": "2022-05-04T15:01:06.388Z"
   },
   {
    "duration": 257,
    "start_time": "2022-05-04T15:01:06.489Z"
   },
   {
    "duration": 205,
    "start_time": "2022-05-04T15:01:06.749Z"
   },
   {
    "duration": 166,
    "start_time": "2022-05-04T15:01:06.956Z"
   },
   {
    "duration": 136,
    "start_time": "2022-05-04T15:01:07.124Z"
   },
   {
    "duration": 840,
    "start_time": "2022-05-04T15:01:07.263Z"
   },
   {
    "duration": 85,
    "start_time": "2022-05-04T15:01:08.105Z"
   },
   {
    "duration": 115,
    "start_time": "2022-05-04T15:01:08.192Z"
   },
   {
    "duration": 92,
    "start_time": "2022-05-04T15:04:42.051Z"
   },
   {
    "duration": 19,
    "start_time": "2022-05-04T15:04:52.572Z"
   },
   {
    "duration": 30,
    "start_time": "2022-05-04T15:05:04.282Z"
   },
   {
    "duration": 30,
    "start_time": "2022-05-04T15:05:16.411Z"
   },
   {
    "duration": 5,
    "start_time": "2022-05-04T15:15:51.940Z"
   },
   {
    "duration": 101,
    "start_time": "2022-05-04T15:24:21.738Z"
   },
   {
    "duration": 5,
    "start_time": "2022-05-04T15:27:02.709Z"
   },
   {
    "duration": 5,
    "start_time": "2022-05-04T15:27:56.610Z"
   },
   {
    "duration": 19,
    "start_time": "2022-05-04T15:30:11.618Z"
   },
   {
    "duration": 240,
    "start_time": "2022-05-04T15:34:51.628Z"
   },
   {
    "duration": 5,
    "start_time": "2022-05-04T15:35:12.749Z"
   },
   {
    "duration": 248,
    "start_time": "2022-05-04T15:35:19.529Z"
   },
   {
    "duration": 20,
    "start_time": "2022-05-04T15:35:31.428Z"
   },
   {
    "duration": 251,
    "start_time": "2022-05-04T15:36:12.428Z"
   },
   {
    "duration": 254,
    "start_time": "2022-05-04T16:02:44.519Z"
   },
   {
    "duration": 268,
    "start_time": "2022-05-04T16:03:02.013Z"
   },
   {
    "duration": 239,
    "start_time": "2022-05-04T16:03:08.359Z"
   },
   {
    "duration": 5,
    "start_time": "2022-05-04T16:08:22.790Z"
   },
   {
    "duration": 5,
    "start_time": "2022-05-04T16:09:17.690Z"
   },
   {
    "duration": 1741,
    "start_time": "2022-05-05T12:45:35.007Z"
   },
   {
    "duration": 3508,
    "start_time": "2022-05-05T12:45:36.750Z"
   },
   {
    "duration": 138,
    "start_time": "2022-05-05T12:45:40.259Z"
   },
   {
    "duration": 30,
    "start_time": "2022-05-05T12:45:40.398Z"
   },
   {
    "duration": 59,
    "start_time": "2022-05-05T12:45:40.434Z"
   },
   {
    "duration": 229,
    "start_time": "2022-05-05T12:45:40.495Z"
   },
   {
    "duration": 24,
    "start_time": "2022-05-05T12:45:40.726Z"
   },
   {
    "duration": 10,
    "start_time": "2022-05-05T12:45:40.752Z"
   },
   {
    "duration": 42,
    "start_time": "2022-05-05T12:45:40.764Z"
   },
   {
    "duration": 200,
    "start_time": "2022-05-05T12:45:40.808Z"
   },
   {
    "duration": 146,
    "start_time": "2022-05-05T12:45:41.010Z"
   },
   {
    "duration": 111,
    "start_time": "2022-05-05T12:45:41.158Z"
   },
   {
    "duration": 110,
    "start_time": "2022-05-05T12:45:41.271Z"
   },
   {
    "duration": 571,
    "start_time": "2022-05-05T12:45:41.385Z"
   },
   {
    "duration": 49,
    "start_time": "2022-05-05T12:45:41.959Z"
   },
   {
    "duration": 142,
    "start_time": "2022-05-05T12:45:42.010Z"
   },
   {
    "duration": 5,
    "start_time": "2022-05-05T12:45:42.154Z"
   },
   {
    "duration": 206,
    "start_time": "2022-05-05T12:45:42.160Z"
   },
   {
    "duration": 114,
    "start_time": "2022-05-05T13:08:22.069Z"
   },
   {
    "duration": 10,
    "start_time": "2022-05-05T13:08:44.118Z"
   },
   {
    "duration": 24,
    "start_time": "2022-05-05T13:08:53.700Z"
   },
   {
    "duration": 134,
    "start_time": "2022-05-05T13:34:18.970Z"
   },
   {
    "duration": 4,
    "start_time": "2022-05-05T13:34:39.011Z"
   },
   {
    "duration": 14,
    "start_time": "2022-05-05T13:38:00.700Z"
   },
   {
    "duration": 12,
    "start_time": "2022-05-05T13:38:08.610Z"
   },
   {
    "duration": 4,
    "start_time": "2022-05-05T13:38:15.771Z"
   },
   {
    "duration": 10,
    "start_time": "2022-05-05T13:38:21.462Z"
   },
   {
    "duration": 13,
    "start_time": "2022-05-05T13:49:20.659Z"
   },
   {
    "duration": 3,
    "start_time": "2022-05-05T13:49:44.614Z"
   },
   {
    "duration": 15,
    "start_time": "2022-05-05T13:49:49.573Z"
   },
   {
    "duration": 3,
    "start_time": "2022-05-05T13:49:58.480Z"
   },
   {
    "duration": 15,
    "start_time": "2022-05-05T13:50:03.810Z"
   },
   {
    "duration": 3,
    "start_time": "2022-05-05T13:50:36.751Z"
   },
   {
    "duration": 1274,
    "start_time": "2022-05-05T13:50:47.211Z"
   },
   {
    "duration": 3,
    "start_time": "2022-05-05T13:59:08.460Z"
   },
   {
    "duration": 4,
    "start_time": "2022-05-05T13:59:11.548Z"
   },
   {
    "duration": 1266,
    "start_time": "2022-05-05T13:59:14.308Z"
   },
   {
    "duration": 58,
    "start_time": "2022-05-05T14:27:48.094Z"
   },
   {
    "duration": 18,
    "start_time": "2022-05-05T14:30:37.058Z"
   },
   {
    "duration": 81,
    "start_time": "2022-05-05T14:33:33.611Z"
   },
   {
    "duration": 11,
    "start_time": "2022-05-05T14:33:50.298Z"
   },
   {
    "duration": 11,
    "start_time": "2022-05-05T14:34:08.985Z"
   },
   {
    "duration": 14,
    "start_time": "2022-05-05T14:40:26.979Z"
   },
   {
    "duration": 12,
    "start_time": "2022-05-05T14:41:16.045Z"
   },
   {
    "duration": 218,
    "start_time": "2022-05-05T14:42:25.817Z"
   },
   {
    "duration": 121,
    "start_time": "2022-05-05T14:42:31.018Z"
   },
   {
    "duration": 221,
    "start_time": "2022-05-05T14:42:49.317Z"
   },
   {
    "duration": 122,
    "start_time": "2022-05-05T14:42:55.017Z"
   },
   {
    "duration": 16,
    "start_time": "2022-05-05T14:44:50.138Z"
   },
   {
    "duration": 11,
    "start_time": "2022-05-05T14:45:04.422Z"
   },
   {
    "duration": 145,
    "start_time": "2022-05-05T14:46:24.557Z"
   },
   {
    "duration": 21,
    "start_time": "2022-05-05T14:46:29.018Z"
   },
   {
    "duration": 56,
    "start_time": "2022-05-05T14:50:57.394Z"
   },
   {
    "duration": 4,
    "start_time": "2022-05-05T14:51:23.046Z"
   },
   {
    "duration": 88,
    "start_time": "2022-05-05T14:54:59.958Z"
   },
   {
    "duration": 138,
    "start_time": "2022-05-05T14:55:27.897Z"
   },
   {
    "duration": 57,
    "start_time": "2022-05-05T14:55:45.578Z"
   },
   {
    "duration": 12,
    "start_time": "2022-05-05T14:55:51.938Z"
   },
   {
    "duration": 57,
    "start_time": "2022-05-05T14:55:56.098Z"
   },
   {
    "duration": 59,
    "start_time": "2022-05-05T14:56:01.118Z"
   },
   {
    "duration": 11,
    "start_time": "2022-05-05T14:57:36.978Z"
   },
   {
    "duration": 10,
    "start_time": "2022-05-05T14:57:42.141Z"
   },
   {
    "duration": 10,
    "start_time": "2022-05-05T14:57:47.638Z"
   },
   {
    "duration": 11,
    "start_time": "2022-05-05T14:57:57.026Z"
   },
   {
    "duration": 11,
    "start_time": "2022-05-05T14:58:14.609Z"
   },
   {
    "duration": 67,
    "start_time": "2022-05-05T14:58:24.698Z"
   },
   {
    "duration": 12,
    "start_time": "2022-05-05T14:58:27.178Z"
   },
   {
    "duration": 55,
    "start_time": "2022-05-05T15:00:40.283Z"
   },
   {
    "duration": 42,
    "start_time": "2022-05-05T15:00:42.694Z"
   },
   {
    "duration": 11,
    "start_time": "2022-05-05T15:01:00.535Z"
   },
   {
    "duration": 61,
    "start_time": "2022-05-05T15:01:49.173Z"
   },
   {
    "duration": 14,
    "start_time": "2022-05-05T15:01:50.714Z"
   },
   {
    "duration": 10,
    "start_time": "2022-05-05T15:01:52.502Z"
   },
   {
    "duration": 12,
    "start_time": "2022-05-05T15:03:05.553Z"
   },
   {
    "duration": 10,
    "start_time": "2022-05-05T15:03:14.294Z"
   },
   {
    "duration": 12,
    "start_time": "2022-05-05T15:03:29.934Z"
   },
   {
    "duration": 7558,
    "start_time": "2022-05-05T15:24:01.964Z"
   },
   {
    "duration": 7677,
    "start_time": "2022-05-05T15:25:15.358Z"
   },
   {
    "duration": 1635,
    "start_time": "2022-05-05T15:28:40.416Z"
   },
   {
    "duration": 4,
    "start_time": "2022-05-05T15:28:49.138Z"
   },
   {
    "duration": 908,
    "start_time": "2022-05-05T15:28:49.144Z"
   },
   {
    "duration": 157,
    "start_time": "2022-05-05T15:28:50.054Z"
   },
   {
    "duration": 39,
    "start_time": "2022-05-05T15:28:50.213Z"
   },
   {
    "duration": 51,
    "start_time": "2022-05-05T15:28:50.255Z"
   },
   {
    "duration": 248,
    "start_time": "2022-05-05T15:28:50.308Z"
   },
   {
    "duration": 18,
    "start_time": "2022-05-05T15:28:50.558Z"
   },
   {
    "duration": 9,
    "start_time": "2022-05-05T15:28:50.578Z"
   },
   {
    "duration": 67,
    "start_time": "2022-05-05T15:28:50.589Z"
   },
   {
    "duration": 182,
    "start_time": "2022-05-05T15:28:50.658Z"
   },
   {
    "duration": 143,
    "start_time": "2022-05-05T15:28:50.842Z"
   },
   {
    "duration": 115,
    "start_time": "2022-05-05T15:28:50.987Z"
   },
   {
    "duration": 103,
    "start_time": "2022-05-05T15:28:51.104Z"
   },
   {
    "duration": 588,
    "start_time": "2022-05-05T15:28:51.210Z"
   },
   {
    "duration": 66,
    "start_time": "2022-05-05T15:28:51.800Z"
   },
   {
    "duration": 123,
    "start_time": "2022-05-05T15:28:51.870Z"
   },
   {
    "duration": 4,
    "start_time": "2022-05-05T15:28:51.994Z"
   },
   {
    "duration": 210,
    "start_time": "2022-05-05T15:28:51.999Z"
   },
   {
    "duration": 3,
    "start_time": "2022-05-05T15:28:52.211Z"
   },
   {
    "duration": 18,
    "start_time": "2022-05-05T15:28:52.216Z"
   },
   {
    "duration": 107,
    "start_time": "2022-05-05T15:28:52.236Z"
   },
   {
    "duration": 96,
    "start_time": "2022-05-05T15:28:52.345Z"
   },
   {
    "duration": 191,
    "start_time": "2022-05-05T15:28:52.443Z"
   },
   {
    "duration": 6,
    "start_time": "2022-05-05T15:32:16.576Z"
   },
   {
    "duration": 7,
    "start_time": "2022-05-05T15:39:49.376Z"
   },
   {
    "duration": 137,
    "start_time": "2022-05-05T15:41:52.776Z"
   },
   {
    "duration": 5,
    "start_time": "2022-05-05T15:42:03.996Z"
   },
   {
    "duration": 6,
    "start_time": "2022-05-05T15:44:13.702Z"
   },
   {
    "duration": 22355,
    "start_time": "2022-05-05T15:56:19.515Z"
   },
   {
    "duration": 19555,
    "start_time": "2022-05-05T15:56:51.095Z"
   },
   {
    "duration": 30084,
    "start_time": "2022-05-05T15:57:14.175Z"
   },
   {
    "duration": 45547,
    "start_time": "2022-05-05T15:58:01.814Z"
   },
   {
    "duration": 3,
    "start_time": "2022-05-05T15:59:09.203Z"
   },
   {
    "duration": 34044,
    "start_time": "2022-05-05T15:59:13.514Z"
   },
   {
    "duration": 1560,
    "start_time": "2022-05-05T16:05:40.841Z"
   },
   {
    "duration": 872,
    "start_time": "2022-05-05T16:05:42.403Z"
   },
   {
    "duration": 152,
    "start_time": "2022-05-05T16:05:43.276Z"
   },
   {
    "duration": 31,
    "start_time": "2022-05-05T16:05:43.430Z"
   },
   {
    "duration": 48,
    "start_time": "2022-05-05T16:05:43.464Z"
   },
   {
    "duration": 245,
    "start_time": "2022-05-05T16:05:43.514Z"
   },
   {
    "duration": 19,
    "start_time": "2022-05-05T16:05:43.760Z"
   },
   {
    "duration": 8,
    "start_time": "2022-05-05T16:05:43.781Z"
   },
   {
    "duration": 63,
    "start_time": "2022-05-05T16:05:43.790Z"
   },
   {
    "duration": 173,
    "start_time": "2022-05-05T16:05:43.855Z"
   },
   {
    "duration": 142,
    "start_time": "2022-05-05T16:05:44.030Z"
   },
   {
    "duration": 107,
    "start_time": "2022-05-05T16:05:44.174Z"
   },
   {
    "duration": 103,
    "start_time": "2022-05-05T16:05:44.282Z"
   },
   {
    "duration": 556,
    "start_time": "2022-05-05T16:05:44.388Z"
   },
   {
    "duration": 49,
    "start_time": "2022-05-05T16:05:44.946Z"
   },
   {
    "duration": 137,
    "start_time": "2022-05-05T16:05:44.996Z"
   },
   {
    "duration": 4,
    "start_time": "2022-05-05T16:05:45.135Z"
   },
   {
    "duration": 201,
    "start_time": "2022-05-05T16:05:45.141Z"
   },
   {
    "duration": 3,
    "start_time": "2022-05-05T16:05:45.343Z"
   },
   {
    "duration": 3,
    "start_time": "2022-05-05T16:05:51.179Z"
   },
   {
    "duration": 120407,
    "start_time": "2022-05-05T16:05:59.811Z"
   },
   {
    "duration": 1692592,
    "start_time": "2022-05-05T16:08:42.893Z"
   },
   {
    "duration": 80,
    "start_time": "2022-05-06T18:21:08.799Z"
   },
   {
    "duration": 2008,
    "start_time": "2022-05-06T18:21:17.308Z"
   },
   {
    "duration": 910,
    "start_time": "2022-05-06T18:21:19.318Z"
   },
   {
    "duration": 154,
    "start_time": "2022-05-06T18:21:20.229Z"
   },
   {
    "duration": 39,
    "start_time": "2022-05-06T18:21:20.384Z"
   },
   {
    "duration": 45,
    "start_time": "2022-05-06T18:21:20.425Z"
   },
   {
    "duration": 259,
    "start_time": "2022-05-06T18:21:20.472Z"
   },
   {
    "duration": 20,
    "start_time": "2022-05-06T18:21:20.733Z"
   },
   {
    "duration": 10,
    "start_time": "2022-05-06T18:21:20.754Z"
   },
   {
    "duration": 67,
    "start_time": "2022-05-06T18:21:20.766Z"
   },
   {
    "duration": 182,
    "start_time": "2022-05-06T18:21:20.835Z"
   },
   {
    "duration": 151,
    "start_time": "2022-05-06T18:21:21.019Z"
   },
   {
    "duration": 119,
    "start_time": "2022-05-06T18:21:21.172Z"
   },
   {
    "duration": 105,
    "start_time": "2022-05-06T18:21:21.293Z"
   },
   {
    "duration": 595,
    "start_time": "2022-05-06T18:21:21.409Z"
   },
   {
    "duration": 47,
    "start_time": "2022-05-06T18:21:22.007Z"
   },
   {
    "duration": 131,
    "start_time": "2022-05-06T18:21:22.055Z"
   },
   {
    "duration": 4,
    "start_time": "2022-05-06T18:21:22.188Z"
   },
   {
    "duration": 204,
    "start_time": "2022-05-06T18:21:22.194Z"
   },
   {
    "duration": 8,
    "start_time": "2022-05-06T18:21:22.399Z"
   },
   {
    "duration": 4,
    "start_time": "2022-05-06T18:21:22.409Z"
   },
   {
    "duration": 5,
    "start_time": "2022-05-06T18:21:22.415Z"
   },
   {
    "duration": 5,
    "start_time": "2022-05-06T18:21:22.422Z"
   },
   {
    "duration": 76,
    "start_time": "2022-05-06T18:21:27.259Z"
   },
   {
    "duration": 3,
    "start_time": "2022-05-06T18:22:38.031Z"
   },
   {
    "duration": 4,
    "start_time": "2022-05-06T18:22:45.948Z"
   },
   {
    "duration": 58,
    "start_time": "2022-05-06T18:22:47.796Z"
   },
   {
    "duration": 16,
    "start_time": "2022-05-06T18:25:50.159Z"
   },
   {
    "duration": 4,
    "start_time": "2022-05-06T18:26:17.232Z"
   },
   {
    "duration": 9,
    "start_time": "2022-05-06T18:26:21.482Z"
   },
   {
    "duration": 10,
    "start_time": "2022-05-06T18:27:23.035Z"
   },
   {
    "duration": 4,
    "start_time": "2022-05-06T18:35:33.890Z"
   },
   {
    "duration": 3,
    "start_time": "2022-05-06T18:36:15.740Z"
   },
   {
    "duration": 5064867,
    "start_time": "2022-05-06T18:38:49.787Z"
   },
   {
    "duration": 1167,
    "start_time": "2022-05-06T20:04:56.786Z"
   },
   {
    "duration": 12618,
    "start_time": "2022-05-06T20:05:12.639Z"
   },
   {
    "duration": 244807,
    "start_time": "2022-05-06T20:05:38.797Z"
   },
   {
    "duration": 419,
    "start_time": "2022-05-06T20:09:43.615Z"
   },
   {
    "duration": 84,
    "start_time": "2022-05-06T20:09:44.036Z"
   },
   {
    "duration": 15,
    "start_time": "2022-05-06T20:42:20.596Z"
   },
   {
    "duration": 7,
    "start_time": "2022-05-06T20:43:30.336Z"
   },
   {
    "duration": 7,
    "start_time": "2022-05-06T20:44:08.336Z"
   },
   {
    "duration": 14,
    "start_time": "2022-05-06T20:44:15.930Z"
   },
   {
    "duration": 4,
    "start_time": "2022-05-06T20:45:25.137Z"
   },
   {
    "duration": 11,
    "start_time": "2022-05-06T20:45:30.885Z"
   },
   {
    "duration": 16,
    "start_time": "2022-05-06T20:45:59.914Z"
   },
   {
    "duration": 9,
    "start_time": "2022-05-06T20:46:23.456Z"
   },
   {
    "duration": 2840,
    "start_time": "2022-05-06T20:47:06.905Z"
   },
   {
    "duration": 25,
    "start_time": "2022-05-06T20:47:19.560Z"
   },
   {
    "duration": 98,
    "start_time": "2022-05-06T20:47:32.125Z"
   },
   {
    "duration": 161729,
    "start_time": "2022-05-06T20:48:11.303Z"
   },
   {
    "duration": 27,
    "start_time": "2022-05-06T20:51:17.115Z"
   },
   {
    "duration": 24,
    "start_time": "2022-05-06T20:51:30.027Z"
   },
   {
    "duration": 42401,
    "start_time": "2022-05-06T20:51:44.591Z"
   },
   {
    "duration": 12542,
    "start_time": "2022-05-06T20:54:18.341Z"
   },
   {
    "duration": 27,
    "start_time": "2022-05-06T20:54:37.051Z"
   },
   {
    "duration": 5,
    "start_time": "2022-05-06T20:55:01.745Z"
   },
   {
    "duration": 16,
    "start_time": "2022-05-06T20:55:06.524Z"
   },
   {
    "duration": 26,
    "start_time": "2022-05-06T20:55:40.947Z"
   },
   {
    "duration": 12042,
    "start_time": "2022-05-06T20:55:54.154Z"
   },
   {
    "duration": 5422960,
    "start_time": "2022-05-06T20:56:32.565Z"
   },
   {
    "duration": 4,
    "start_time": "2022-05-06T22:27:02.946Z"
   },
   {
    "duration": 43655,
    "start_time": "2022-05-06T22:27:09.469Z"
   },
   {
    "duration": 2902637,
    "start_time": "2022-05-06T22:28:03.788Z"
   },
   {
    "duration": 4,
    "start_time": "2022-05-06T23:16:26.428Z"
   },
   {
    "duration": 15,
    "start_time": "2022-05-06T23:16:26.434Z"
   },
   {
    "duration": 79179,
    "start_time": "2022-05-06T23:17:32.645Z"
   },
   {
    "duration": 13,
    "start_time": "2022-05-06T23:23:53.777Z"
   },
   {
    "duration": 6,
    "start_time": "2022-05-06T23:55:22.922Z"
   },
   {
    "duration": 139,
    "start_time": "2022-05-07T18:46:29.515Z"
   },
   {
    "duration": 135,
    "start_time": "2022-05-07T18:48:25.810Z"
   },
   {
    "duration": 132,
    "start_time": "2022-05-07T18:56:28.875Z"
   },
   {
    "duration": 135,
    "start_time": "2022-05-07T19:07:28.174Z"
   },
   {
    "duration": 3,
    "start_time": "2022-05-07T19:10:19.330Z"
   },
   {
    "duration": 2301,
    "start_time": "2022-05-07T19:10:19.335Z"
   },
   {
    "duration": 828,
    "start_time": "2022-05-07T19:10:21.638Z"
   },
   {
    "duration": 147,
    "start_time": "2022-05-07T19:10:22.468Z"
   },
   {
    "duration": 29,
    "start_time": "2022-05-07T19:10:22.618Z"
   },
   {
    "duration": 61,
    "start_time": "2022-05-07T19:10:22.649Z"
   },
   {
    "duration": 241,
    "start_time": "2022-05-07T19:10:22.712Z"
   },
   {
    "duration": 17,
    "start_time": "2022-05-07T19:10:22.955Z"
   },
   {
    "duration": 26,
    "start_time": "2022-05-07T19:10:22.975Z"
   },
   {
    "duration": 40,
    "start_time": "2022-05-07T19:10:23.004Z"
   },
   {
    "duration": 179,
    "start_time": "2022-05-07T19:10:23.046Z"
   },
   {
    "duration": 135,
    "start_time": "2022-05-07T19:10:23.227Z"
   },
   {
    "duration": 111,
    "start_time": "2022-05-07T19:10:23.364Z"
   },
   {
    "duration": 113,
    "start_time": "2022-05-07T19:10:23.480Z"
   },
   {
    "duration": 573,
    "start_time": "2022-05-07T19:10:23.595Z"
   },
   {
    "duration": 56,
    "start_time": "2022-05-07T19:10:24.171Z"
   },
   {
    "duration": 141,
    "start_time": "2022-05-07T19:10:24.229Z"
   },
   {
    "duration": 5,
    "start_time": "2022-05-07T19:10:24.373Z"
   },
   {
    "duration": 218,
    "start_time": "2022-05-07T19:10:24.380Z"
   },
   {
    "duration": 3,
    "start_time": "2022-05-07T19:10:24.600Z"
   },
   {
    "duration": 5,
    "start_time": "2022-05-07T19:10:24.605Z"
   },
   {
    "duration": 10,
    "start_time": "2022-05-07T19:10:24.611Z"
   },
   {
    "duration": 8,
    "start_time": "2022-05-07T19:10:24.623Z"
   },
   {
    "duration": 98,
    "start_time": "2022-05-07T19:10:24.633Z"
   },
   {
    "duration": 102,
    "start_time": "2022-05-07T19:10:24.794Z"
   },
   {
    "duration": 97,
    "start_time": "2022-05-07T19:10:24.898Z"
   },
   {
    "duration": 5570619,
    "start_time": "2022-05-07T19:10:24.997Z"
   },
   {
    "duration": 275815,
    "start_time": "2022-05-07T20:43:15.617Z"
   },
   {
    "duration": 473,
    "start_time": "2022-05-07T20:47:51.434Z"
   },
   {
    "duration": 5,
    "start_time": "2022-05-07T20:47:51.909Z"
   },
   {
    "duration": 81,
    "start_time": "2022-05-07T20:47:51.916Z"
   },
   {
    "duration": 125494,
    "start_time": "2022-05-07T20:47:51.999Z"
   },
   {
    "duration": 6,
    "start_time": "2022-05-07T20:49:57.494Z"
   },
   {
    "duration": 8930,
    "start_time": "2022-05-07T20:49:57.502Z"
   },
   {
    "duration": 26,
    "start_time": "2022-05-07T20:50:06.434Z"
   },
   {
    "duration": 4,
    "start_time": "2022-05-07T20:50:06.461Z"
   },
   {
    "duration": 21,
    "start_time": "2022-05-07T20:50:06.467Z"
   },
   {
    "duration": 6609214,
    "start_time": "2022-05-07T20:50:06.489Z"
   },
   {
    "duration": 10494,
    "start_time": "2022-05-07T22:40:15.705Z"
   },
   {
    "duration": 1012,
    "start_time": "2022-05-07T22:40:26.201Z"
   },
   {
    "duration": 11,
    "start_time": "2022-05-07T22:40:27.217Z"
   },
   {
    "duration": 1018,
    "start_time": "2022-05-07T22:40:27.293Z"
   },
   {
    "duration": 1787,
    "start_time": "2022-05-08T18:27:14.835Z"
   },
   {
    "duration": 867,
    "start_time": "2022-05-08T18:27:17.722Z"
   },
   {
    "duration": 139,
    "start_time": "2022-05-08T18:27:20.028Z"
   },
   {
    "duration": 26,
    "start_time": "2022-05-08T18:27:32.729Z"
   },
   {
    "duration": 44,
    "start_time": "2022-05-08T18:27:36.771Z"
   },
   {
    "duration": 216,
    "start_time": "2022-05-08T18:32:28.723Z"
   },
   {
    "duration": 197,
    "start_time": "2022-05-08T18:32:34.873Z"
   },
   {
    "duration": 202,
    "start_time": "2022-05-08T18:33:16.547Z"
   },
   {
    "duration": 34,
    "start_time": "2022-05-08T18:35:55.540Z"
   },
   {
    "duration": 205,
    "start_time": "2022-05-08T18:36:21.132Z"
   },
   {
    "duration": 33,
    "start_time": "2022-05-08T18:51:38.515Z"
   },
   {
    "duration": 170,
    "start_time": "2022-05-08T18:51:42.120Z"
   },
   {
    "duration": 135,
    "start_time": "2022-05-08T18:52:52.963Z"
   },
   {
    "duration": 147,
    "start_time": "2022-05-08T18:53:15.561Z"
   },
   {
    "duration": 155,
    "start_time": "2022-05-08T18:53:37.113Z"
   },
   {
    "duration": 208,
    "start_time": "2022-05-08T18:54:03.456Z"
   },
   {
    "duration": 10,
    "start_time": "2022-05-08T18:55:06.485Z"
   },
   {
    "duration": 127,
    "start_time": "2022-05-08T18:57:43.126Z"
   },
   {
    "duration": 29,
    "start_time": "2022-05-08T18:58:53.960Z"
   },
   {
    "duration": 14,
    "start_time": "2022-05-08T18:59:49.209Z"
   },
   {
    "duration": 13,
    "start_time": "2022-05-08T19:00:08.103Z"
   },
   {
    "duration": 14,
    "start_time": "2022-05-08T19:00:15.440Z"
   },
   {
    "duration": 13,
    "start_time": "2022-05-08T19:00:44.871Z"
   },
   {
    "duration": 10,
    "start_time": "2022-05-08T19:04:42.304Z"
   },
   {
    "duration": 4,
    "start_time": "2022-05-08T19:05:06.690Z"
   },
   {
    "duration": 6,
    "start_time": "2022-05-08T19:06:01.784Z"
   },
   {
    "duration": 16,
    "start_time": "2022-05-08T19:06:11.990Z"
   },
   {
    "duration": 10,
    "start_time": "2022-05-08T19:06:39.625Z"
   },
   {
    "duration": 3,
    "start_time": "2022-05-08T19:06:56.446Z"
   },
   {
    "duration": 1521,
    "start_time": "2022-05-08T19:06:56.452Z"
   },
   {
    "duration": 805,
    "start_time": "2022-05-08T19:06:57.975Z"
   },
   {
    "duration": 137,
    "start_time": "2022-05-08T19:06:58.782Z"
   },
   {
    "duration": 25,
    "start_time": "2022-05-08T19:06:58.921Z"
   },
   {
    "duration": 60,
    "start_time": "2022-05-08T19:06:58.948Z"
   },
   {
    "duration": 203,
    "start_time": "2022-05-08T19:06:59.009Z"
   },
   {
    "duration": 224,
    "start_time": "2022-05-08T19:06:59.214Z"
   },
   {
    "duration": 17,
    "start_time": "2022-05-08T19:06:59.440Z"
   },
   {
    "duration": 7,
    "start_time": "2022-05-08T19:06:59.458Z"
   },
   {
    "duration": 58,
    "start_time": "2022-05-08T19:06:59.467Z"
   },
   {
    "duration": 167,
    "start_time": "2022-05-08T19:06:59.527Z"
   },
   {
    "duration": 145,
    "start_time": "2022-05-08T19:06:59.696Z"
   },
   {
    "duration": 29,
    "start_time": "2022-05-08T19:06:59.842Z"
   },
   {
    "duration": 12,
    "start_time": "2022-05-08T19:06:59.873Z"
   },
   {
    "duration": 41,
    "start_time": "2022-05-08T19:07:03.775Z"
   },
   {
    "duration": 24,
    "start_time": "2022-05-08T19:07:08.518Z"
   },
   {
    "duration": 128,
    "start_time": "2022-05-08T19:07:12.927Z"
   },
   {
    "duration": 113,
    "start_time": "2022-05-08T19:07:14.909Z"
   },
   {
    "duration": 4,
    "start_time": "2022-05-08T19:24:13.153Z"
   },
   {
    "duration": 1569,
    "start_time": "2022-05-08T19:24:13.159Z"
   },
   {
    "duration": 907,
    "start_time": "2022-05-08T19:24:14.730Z"
   },
   {
    "duration": 146,
    "start_time": "2022-05-08T19:24:15.639Z"
   },
   {
    "duration": 40,
    "start_time": "2022-05-08T19:24:15.788Z"
   },
   {
    "duration": 44,
    "start_time": "2022-05-08T19:24:15.830Z"
   },
   {
    "duration": 248,
    "start_time": "2022-05-08T19:24:15.876Z"
   },
   {
    "duration": 236,
    "start_time": "2022-05-08T19:24:16.125Z"
   },
   {
    "duration": 17,
    "start_time": "2022-05-08T19:24:16.364Z"
   },
   {
    "duration": 8,
    "start_time": "2022-05-08T19:24:16.383Z"
   },
   {
    "duration": 41,
    "start_time": "2022-05-08T19:24:16.407Z"
   },
   {
    "duration": 191,
    "start_time": "2022-05-08T19:24:16.449Z"
   },
   {
    "duration": 153,
    "start_time": "2022-05-08T19:24:16.642Z"
   },
   {
    "duration": 39,
    "start_time": "2022-05-08T19:24:16.797Z"
   },
   {
    "duration": 14,
    "start_time": "2022-05-08T19:24:16.837Z"
   },
   {
    "duration": 60,
    "start_time": "2022-05-08T19:24:16.853Z"
   },
   {
    "duration": 154,
    "start_time": "2022-05-08T19:24:16.915Z"
   },
   {
    "duration": 132,
    "start_time": "2022-05-08T19:24:17.070Z"
   },
   {
    "duration": 114,
    "start_time": "2022-05-08T19:24:17.203Z"
   },
   {
    "duration": 564,
    "start_time": "2022-05-08T19:24:17.319Z"
   },
   {
    "duration": 55,
    "start_time": "2022-05-08T19:24:17.885Z"
   },
   {
    "duration": 109,
    "start_time": "2022-05-08T19:24:17.942Z"
   },
   {
    "duration": 4,
    "start_time": "2022-05-08T19:24:18.053Z"
   },
   {
    "duration": 197,
    "start_time": "2022-05-08T19:24:18.058Z"
   },
   {
    "duration": 3,
    "start_time": "2022-05-08T19:24:18.256Z"
   },
   {
    "duration": 5,
    "start_time": "2022-05-08T19:24:18.261Z"
   },
   {
    "duration": 4,
    "start_time": "2022-05-08T19:24:18.268Z"
   },
   {
    "duration": 5,
    "start_time": "2022-05-08T19:24:18.273Z"
   },
   {
    "duration": 136,
    "start_time": "2022-05-08T19:24:18.281Z"
   },
   {
    "duration": 198,
    "start_time": "2022-05-08T19:24:18.420Z"
   },
   {
    "duration": 100,
    "start_time": "2022-05-08T19:24:18.621Z"
   },
   {
    "duration": 298785,
    "start_time": "2022-05-08T19:25:04.993Z"
   },
   {
    "duration": 370,
    "start_time": "2022-05-11T10:25:34.723Z"
   }
  ],
  "kernelspec": {
   "display_name": "Python 3 (ipykernel)",
   "language": "python",
   "name": "python3"
  },
  "language_info": {
   "codemirror_mode": {
    "name": "ipython",
    "version": 3
   },
   "file_extension": ".py",
   "mimetype": "text/x-python",
   "name": "python",
   "nbconvert_exporter": "python",
   "pygments_lexer": "ipython3",
   "version": "3.9.12"
  },
  "toc": {
   "base_numbering": 1,
   "nav_menu": {},
   "number_sections": true,
   "sideBar": true,
   "skip_h1_title": true,
   "title_cell": "Table of Contents",
   "title_sidebar": "Contents",
   "toc_cell": false,
   "toc_position": {
    "height": "calc(100% - 180px)",
    "left": "10px",
    "top": "150px",
    "width": "281.597px"
   },
   "toc_section_display": true,
   "toc_window_display": true
  }
 },
 "nbformat": 4,
 "nbformat_minor": 2
}
