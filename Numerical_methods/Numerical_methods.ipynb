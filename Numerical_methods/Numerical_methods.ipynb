{
 "cells": [
  {
   "cell_type": "markdown",
   "metadata": {},
   "source": [
    "# Определение стоимости автомобилей"
   ]
  },
  {
   "cell_type": "markdown",
   "metadata": {},
   "source": [
    "Разработка модели машинного обучения, способной определять рыночную стоимость автомобиля основываясь на данных о технических характеристиках, комлектации и цене, для сервиса по продаже автомобилей с пробегом \"Не бит, не крашен\". Модель должна соответствовать следующим требованиям заказчика:\n",
    "\n",
    " * Высокое качество предсказания;\n",
    " * Высокая скорость предсказания;\n",
    " * Небольшое время обучения модели.\n",
    " \n",
    "**Ход исследования:**\n",
    "\n",
    "* Загрузка данных и изучение общей информации;\n",
    "* Подговка данных к работе:\n",
    "    * Предобработка данных;\n",
    "    * Кодирование признаков;\n",
    "    * Масштабирование  признаков;\n",
    "* Обучение разных моделей:\n",
    "    * Линейная регрессия;\n",
    "    * Градиентный бустинг `XGBoost`;\n",
    "    * Градиентный бустинг `CatBoost`;\n",
    "    * Градиентный бустинг `LightGBM`;\n",
    "* Анализ скорости работы и качества моделей;\n",
    "* Итоги исследования."
   ]
  },
  {
   "cell_type": "markdown",
   "metadata": {},
   "source": [
    "## Загрузка данных и изучение общей информации"
   ]
  },
  {
   "cell_type": "code",
   "execution_count": 6,
   "metadata": {},
   "outputs": [
    {
     "name": "stdout",
     "output_type": "stream",
     "text": [
      "Requirement already satisfied: xgboost in c:\\users\\y_gri\\anaconda3\\lib\\site-packages (1.6.0)\n",
      "Requirement already satisfied: numpy in c:\\users\\y_gri\\anaconda3\\lib\\site-packages (from xgboost) (1.20.1)\n",
      "Requirement already satisfied: scipy in c:\\users\\y_gri\\anaconda3\\lib\\site-packages (from xgboost) (1.6.2)\n"
     ]
    }
   ],
   "source": [
    "!pip install xgboost"
   ]
  },
  {
   "cell_type": "code",
   "execution_count": 7,
   "metadata": {},
   "outputs": [
    {
     "name": "stdout",
     "output_type": "stream",
     "text": [
      "Requirement already satisfied: catboost in c:\\users\\y_gri\\anaconda3\\lib\\site-packages (1.0.5)\n",
      "Requirement already satisfied: matplotlib in c:\\users\\y_gri\\anaconda3\\lib\\site-packages (from catboost) (3.3.4)\n",
      "Requirement already satisfied: scipy in c:\\users\\y_gri\\anaconda3\\lib\\site-packages (from catboost) (1.6.2)\n",
      "Requirement already satisfied: numpy>=1.16.0 in c:\\users\\y_gri\\anaconda3\\lib\\site-packages (from catboost) (1.20.1)\n",
      "Requirement already satisfied: graphviz in c:\\users\\y_gri\\anaconda3\\lib\\site-packages (from catboost) (0.20)\n",
      "Requirement already satisfied: six in c:\\users\\y_gri\\anaconda3\\lib\\site-packages (from catboost) (1.15.0)\n",
      "Requirement already satisfied: plotly in c:\\users\\y_gri\\anaconda3\\lib\\site-packages (from catboost) (5.7.0)\n",
      "Requirement already satisfied: pandas>=0.24.0 in c:\\users\\y_gri\\anaconda3\\lib\\site-packages (from catboost) (1.2.4)\n",
      "Requirement already satisfied: pytz>=2017.3 in c:\\users\\y_gri\\anaconda3\\lib\\site-packages (from pandas>=0.24.0->catboost) (2021.1)\n",
      "Requirement already satisfied: python-dateutil>=2.7.3 in c:\\users\\y_gri\\anaconda3\\lib\\site-packages (from pandas>=0.24.0->catboost) (2.8.1)\n",
      "Requirement already satisfied: pyparsing!=2.0.4,!=2.1.2,!=2.1.6,>=2.0.3 in c:\\users\\y_gri\\anaconda3\\lib\\site-packages (from matplotlib->catboost) (2.4.7)\n",
      "Requirement already satisfied: kiwisolver>=1.0.1 in c:\\users\\y_gri\\anaconda3\\lib\\site-packages (from matplotlib->catboost) (1.3.1)\n",
      "Requirement already satisfied: cycler>=0.10 in c:\\users\\y_gri\\anaconda3\\lib\\site-packages (from matplotlib->catboost) (0.10.0)\n",
      "Requirement already satisfied: pillow>=6.2.0 in c:\\users\\y_gri\\anaconda3\\lib\\site-packages (from matplotlib->catboost) (8.2.0)\n",
      "Requirement already satisfied: tenacity>=6.2.0 in c:\\users\\y_gri\\anaconda3\\lib\\site-packages (from plotly->catboost) (8.0.1)\n"
     ]
    }
   ],
   "source": [
    "!pip install catboost"
   ]
  },
  {
   "cell_type": "code",
   "execution_count": 1,
   "metadata": {},
   "outputs": [],
   "source": [
    "# подключение библиотек\n",
    "\n",
    "import pandas as pd\n",
    "import numpy as np\n",
    "import matplotlib.pyplot as plt\n",
    "import seaborn as sns\n",
    "import time\n",
    "from sklearn.preprocessing import OrdinalEncoder \n",
    "from sklearn.preprocessing import StandardScaler\n",
    "from sklearn.model_selection import train_test_split, GridSearchCV\n",
    "from sklearn.metrics import mean_squared_error, make_scorer\n",
    "from sklearn.linear_model import LinearRegression\n",
    "from xgboost import XGBRegressor\n",
    "from catboost import CatBoostRegressor\n",
    "from lightgbm import LGBMRegressor\n",
    "from sklearn.dummy import DummyRegressor\n",
    "import warnings\n",
    "\n",
    "warnings.filterwarnings('ignore')\n",
    "\n",
    "pd.options.mode.chained_assignment = None"
   ]
  },
  {
   "cell_type": "markdown",
   "metadata": {},
   "source": [
    "Прочитаем данные из файла `autos.csv`:"
   ]
  },
  {
   "cell_type": "code",
   "execution_count": 2,
   "metadata": {},
   "outputs": [
    {
     "data": {
      "text/html": [
       "<div>\n",
       "<style scoped>\n",
       "    .dataframe tbody tr th:only-of-type {\n",
       "        vertical-align: middle;\n",
       "    }\n",
       "\n",
       "    .dataframe tbody tr th {\n",
       "        vertical-align: top;\n",
       "    }\n",
       "\n",
       "    .dataframe thead th {\n",
       "        text-align: right;\n",
       "    }\n",
       "</style>\n",
       "<table border=\"1\" class=\"dataframe\">\n",
       "  <thead>\n",
       "    <tr style=\"text-align: right;\">\n",
       "      <th></th>\n",
       "      <th>DateCrawled</th>\n",
       "      <th>Price</th>\n",
       "      <th>VehicleType</th>\n",
       "      <th>RegistrationYear</th>\n",
       "      <th>Gearbox</th>\n",
       "      <th>Power</th>\n",
       "      <th>Model</th>\n",
       "      <th>Kilometer</th>\n",
       "      <th>RegistrationMonth</th>\n",
       "      <th>FuelType</th>\n",
       "      <th>Brand</th>\n",
       "      <th>NotRepaired</th>\n",
       "      <th>DateCreated</th>\n",
       "      <th>NumberOfPictures</th>\n",
       "      <th>PostalCode</th>\n",
       "      <th>LastSeen</th>\n",
       "    </tr>\n",
       "  </thead>\n",
       "  <tbody>\n",
       "    <tr>\n",
       "      <th>0</th>\n",
       "      <td>2016-03-24 11:52:17</td>\n",
       "      <td>480</td>\n",
       "      <td>NaN</td>\n",
       "      <td>1993</td>\n",
       "      <td>manual</td>\n",
       "      <td>0</td>\n",
       "      <td>golf</td>\n",
       "      <td>150000</td>\n",
       "      <td>0</td>\n",
       "      <td>petrol</td>\n",
       "      <td>volkswagen</td>\n",
       "      <td>NaN</td>\n",
       "      <td>2016-03-24 00:00:00</td>\n",
       "      <td>0</td>\n",
       "      <td>70435</td>\n",
       "      <td>2016-04-07 03:16:57</td>\n",
       "    </tr>\n",
       "    <tr>\n",
       "      <th>1</th>\n",
       "      <td>2016-03-24 10:58:45</td>\n",
       "      <td>18300</td>\n",
       "      <td>coupe</td>\n",
       "      <td>2011</td>\n",
       "      <td>manual</td>\n",
       "      <td>190</td>\n",
       "      <td>NaN</td>\n",
       "      <td>125000</td>\n",
       "      <td>5</td>\n",
       "      <td>gasoline</td>\n",
       "      <td>audi</td>\n",
       "      <td>yes</td>\n",
       "      <td>2016-03-24 00:00:00</td>\n",
       "      <td>0</td>\n",
       "      <td>66954</td>\n",
       "      <td>2016-04-07 01:46:50</td>\n",
       "    </tr>\n",
       "    <tr>\n",
       "      <th>2</th>\n",
       "      <td>2016-03-14 12:52:21</td>\n",
       "      <td>9800</td>\n",
       "      <td>suv</td>\n",
       "      <td>2004</td>\n",
       "      <td>auto</td>\n",
       "      <td>163</td>\n",
       "      <td>grand</td>\n",
       "      <td>125000</td>\n",
       "      <td>8</td>\n",
       "      <td>gasoline</td>\n",
       "      <td>jeep</td>\n",
       "      <td>NaN</td>\n",
       "      <td>2016-03-14 00:00:00</td>\n",
       "      <td>0</td>\n",
       "      <td>90480</td>\n",
       "      <td>2016-04-05 12:47:46</td>\n",
       "    </tr>\n",
       "    <tr>\n",
       "      <th>3</th>\n",
       "      <td>2016-03-17 16:54:04</td>\n",
       "      <td>1500</td>\n",
       "      <td>small</td>\n",
       "      <td>2001</td>\n",
       "      <td>manual</td>\n",
       "      <td>75</td>\n",
       "      <td>golf</td>\n",
       "      <td>150000</td>\n",
       "      <td>6</td>\n",
       "      <td>petrol</td>\n",
       "      <td>volkswagen</td>\n",
       "      <td>no</td>\n",
       "      <td>2016-03-17 00:00:00</td>\n",
       "      <td>0</td>\n",
       "      <td>91074</td>\n",
       "      <td>2016-03-17 17:40:17</td>\n",
       "    </tr>\n",
       "    <tr>\n",
       "      <th>4</th>\n",
       "      <td>2016-03-31 17:25:20</td>\n",
       "      <td>3600</td>\n",
       "      <td>small</td>\n",
       "      <td>2008</td>\n",
       "      <td>manual</td>\n",
       "      <td>69</td>\n",
       "      <td>fabia</td>\n",
       "      <td>90000</td>\n",
       "      <td>7</td>\n",
       "      <td>gasoline</td>\n",
       "      <td>skoda</td>\n",
       "      <td>no</td>\n",
       "      <td>2016-03-31 00:00:00</td>\n",
       "      <td>0</td>\n",
       "      <td>60437</td>\n",
       "      <td>2016-04-06 10:17:21</td>\n",
       "    </tr>\n",
       "  </tbody>\n",
       "</table>\n",
       "</div>"
      ],
      "text/plain": [
       "           DateCrawled  Price VehicleType  RegistrationYear Gearbox  Power  \\\n",
       "0  2016-03-24 11:52:17    480         NaN              1993  manual      0   \n",
       "1  2016-03-24 10:58:45  18300       coupe              2011  manual    190   \n",
       "2  2016-03-14 12:52:21   9800         suv              2004    auto    163   \n",
       "3  2016-03-17 16:54:04   1500       small              2001  manual     75   \n",
       "4  2016-03-31 17:25:20   3600       small              2008  manual     69   \n",
       "\n",
       "   Model  Kilometer  RegistrationMonth  FuelType       Brand NotRepaired  \\\n",
       "0   golf     150000                  0    petrol  volkswagen         NaN   \n",
       "1    NaN     125000                  5  gasoline        audi         yes   \n",
       "2  grand     125000                  8  gasoline        jeep         NaN   \n",
       "3   golf     150000                  6    petrol  volkswagen          no   \n",
       "4  fabia      90000                  7  gasoline       skoda          no   \n",
       "\n",
       "           DateCreated  NumberOfPictures  PostalCode             LastSeen  \n",
       "0  2016-03-24 00:00:00                 0       70435  2016-04-07 03:16:57  \n",
       "1  2016-03-24 00:00:00                 0       66954  2016-04-07 01:46:50  \n",
       "2  2016-03-14 00:00:00                 0       90480  2016-04-05 12:47:46  \n",
       "3  2016-03-17 00:00:00                 0       91074  2016-03-17 17:40:17  \n",
       "4  2016-03-31 00:00:00                 0       60437  2016-04-06 10:17:21  "
      ]
     },
     "execution_count": 2,
     "metadata": {},
     "output_type": "execute_result"
    }
   ],
   "source": [
    "df = pd.read_csv('autos.csv')\n",
    "df.head()"
   ]
  },
  {
   "cell_type": "code",
   "execution_count": 3,
   "metadata": {},
   "outputs": [
    {
     "name": "stdout",
     "output_type": "stream",
     "text": [
      "<class 'pandas.core.frame.DataFrame'>\n",
      "RangeIndex: 354369 entries, 0 to 354368\n",
      "Data columns (total 16 columns):\n",
      " #   Column             Non-Null Count   Dtype \n",
      "---  ------             --------------   ----- \n",
      " 0   DateCrawled        354369 non-null  object\n",
      " 1   Price              354369 non-null  int64 \n",
      " 2   VehicleType        316879 non-null  object\n",
      " 3   RegistrationYear   354369 non-null  int64 \n",
      " 4   Gearbox            334536 non-null  object\n",
      " 5   Power              354369 non-null  int64 \n",
      " 6   Model              334664 non-null  object\n",
      " 7   Kilometer          354369 non-null  int64 \n",
      " 8   RegistrationMonth  354369 non-null  int64 \n",
      " 9   FuelType           321474 non-null  object\n",
      " 10  Brand              354369 non-null  object\n",
      " 11  NotRepaired        283215 non-null  object\n",
      " 12  DateCreated        354369 non-null  object\n",
      " 13  NumberOfPictures   354369 non-null  int64 \n",
      " 14  PostalCode         354369 non-null  int64 \n",
      " 15  LastSeen           354369 non-null  object\n",
      "dtypes: int64(7), object(9)\n",
      "memory usage: 43.3+ MB\n"
     ]
    }
   ],
   "source": [
    "df.info()"
   ]
  },
  {
   "cell_type": "markdown",
   "metadata": {},
   "source": [
    "Согласно документации к данным:\n",
    "\n",
    "**Признаки:**\n",
    "* `DateCrawled` — дата скачивания анкеты из базы\n",
    "\n",
    "* `VehicleType` — тип автомобильного кузова\n",
    "\n",
    "* `RegistrationYear` — год регистрации автомобиля\n",
    "\n",
    "* `Gearbox` — тип коробки передач\n",
    "\n",
    "* `Power` — мощность (л. с.)\n",
    "\n",
    "* `Model` — модель автомобиля\n",
    "\n",
    "* `Kilometer` — пробег (км)\n",
    "\n",
    "* `RegistrationMonth` — месяц регистрации автомобиля\n",
    "\n",
    "* `FuelType` — тип топлива\n",
    "\n",
    "* `Brand` — марка автомобиля\n",
    "\n",
    "* `NotRepaired` — была машина в ремонте или нет\n",
    "\n",
    "* `DateCreated` — дата создания анкеты\n",
    "\n",
    "* `NumberOfPictures` — количество фотографий автомобиля\n",
    "\n",
    "* `PostalCode` — почтовый индекс владельца анкеты (пользователя)\n",
    "\n",
    "* `LastSeen` — дата последней активности пользователя\n",
    "\n",
    "**Целевой признак:**\n",
    " * `Price` — цена (евро)"
   ]
  },
  {
   "cell_type": "markdown",
   "metadata": {},
   "source": [
    "**Вывод:**\n",
    "\n",
    "Каждая строка датафрейма содержит информацию об одном конкретном автомобиле. Есть как числовые признаки, так и признаки типа object. Есть пропуски в столбцах `VehicleType`, `Gearbox`, `Model`, `FuelType`, `NotRepaired`, причем все эти признаки - категориальные. Соберем все наблюдения о признаках воедино и предварительно решим, как правильно подготовить их к работе:\n",
    "\n",
    "| Столбец               | Значение          | Наблюдения          | Предполагаемые действия     |\n",
    "| --------------------- |:------------------:|:-------------------:|:----------------------------:|\n",
    "| **DateCrawled**       | Дата скачивания анкеты из базы | Признак не важен для нашей задачи (+ повторяет даты из 'DateCreated') | Исключить из признаков для обучения |\n",
    "| **VehicleType**       | Тип автомобильного кузова | Есть пропуски | Заполнение категорией \"unknown\" | \n",
    "| **RegistrationYear**  | Год регистрации автомобиля | Есть аномальные значения (например, 8200) | Проверить долю аномальных значений и отталкиваться от этого |\n",
    "| **Gearbox**       | Тип коробки передач | Есть пропуски | Заполнение категорией \"unknown\" | \n",
    "| **Power**       | Мощность (л. с.) | много нулевых значений | Замена медианной мощностью | \n",
    "| **Model**       | Модель автомобиля | Есть пропуски | Заполнение категорией \"unknown\" |\n",
    "| **Kilometer**       | Пробег (км) | - | - |\n",
    "| **RegistrationMonth**       | Месяц регистрации автомобиля | Много нулевых значений | - |\n",
    "| **FuelType**       | Тип топлива | Есть пропуски | Заполнение категорией \"unknown\" |\n",
    "| **Brand**       | Марка автомобиля | - | - |\n",
    "| **NotRepaired**       | Была машина в ремонте или нет | Есть пропуски | Заполнение категорией \"unknown\" |\n",
    "| **DateCreated**       | Дата создания анкеты | - | Можно оставить только месяц |\n",
    "| **NumberOfPictures**       | Количество фотографий автомобиля | Содержит только нулевые значения | Исключить из признаков для обучения |\n",
    "| **PostalCode**       | почтовый индекс владельца анкеты (пользователя) | Признак не важен для нашей задачи | Исключить из признаков для обучения |\n",
    "| **LastSeen**       | Дата последней активности пользователя | Признак не важен для нашей задачи | Исключить из признаков для обучения |\n",
    "| **Price**       | Цена (евро) | - | - |"
   ]
  },
  {
   "cell_type": "markdown",
   "metadata": {},
   "source": [
    "## Подготовка данных"
   ]
  },
  {
   "cell_type": "markdown",
   "metadata": {},
   "source": [
    "### Предобработка данных"
   ]
  },
  {
   "cell_type": "markdown",
   "metadata": {},
   "source": [
    "Исключим из датафрейма столбцы, с которыми не будем продолжать работать, так как они избыточны и не играют роли для задачи определения стоимости автомобилей: `DateCrawled`, `PostalCode`, `LastSeen`, `NumberOfPictures`."
   ]
  },
  {
   "cell_type": "code",
   "execution_count": 4,
   "metadata": {},
   "outputs": [],
   "source": [
    "df = df.drop(['DateCrawled', 'PostalCode', 'LastSeen', 'NumberOfPictures'], axis=1)"
   ]
  },
  {
   "cell_type": "markdown",
   "metadata": {},
   "source": [
    "Переименуем названия столбцов датафрейма для более удобной работы с ними:"
   ]
  },
  {
   "cell_type": "code",
   "execution_count": 5,
   "metadata": {},
   "outputs": [],
   "source": [
    "# приведение столбцов к стилю lower_case\n",
    "\n",
    "df.columns = df.columns.str.lower()\n",
    "df = df.rename(columns = {'vehicletype': 'vehicle_type', 'registrationyear': 'registration_year', \n",
    "                          'registrationmonth': 'registration_month', 'fueltype': 'fuel_type', \n",
    "                          'notrepaired': 'not_repaired', 'datecreated': 'date_created'})"
   ]
  },
  {
   "cell_type": "markdown",
   "metadata": {},
   "source": [
    "Проверим, сколько пропусков содержит каждый из признаков:"
   ]
  },
  {
   "cell_type": "code",
   "execution_count": 6,
   "metadata": {},
   "outputs": [
    {
     "data": {
      "text/html": [
       "<div>\n",
       "<style scoped>\n",
       "    .dataframe tbody tr th:only-of-type {\n",
       "        vertical-align: middle;\n",
       "    }\n",
       "\n",
       "    .dataframe tbody tr th {\n",
       "        vertical-align: top;\n",
       "    }\n",
       "\n",
       "    .dataframe thead th {\n",
       "        text-align: right;\n",
       "    }\n",
       "</style>\n",
       "<table border=\"1\" class=\"dataframe\">\n",
       "  <thead>\n",
       "    <tr style=\"text-align: right;\">\n",
       "      <th></th>\n",
       "      <th>Количество пропусков</th>\n",
       "      <th>Доля пропусков (%)</th>\n",
       "    </tr>\n",
       "  </thead>\n",
       "  <tbody>\n",
       "    <tr>\n",
       "      <th>price</th>\n",
       "      <td>0</td>\n",
       "      <td>0.0</td>\n",
       "    </tr>\n",
       "    <tr>\n",
       "      <th>vehicle_type</th>\n",
       "      <td>37490</td>\n",
       "      <td>11.0</td>\n",
       "    </tr>\n",
       "    <tr>\n",
       "      <th>registration_year</th>\n",
       "      <td>0</td>\n",
       "      <td>0.0</td>\n",
       "    </tr>\n",
       "    <tr>\n",
       "      <th>gearbox</th>\n",
       "      <td>19833</td>\n",
       "      <td>6.0</td>\n",
       "    </tr>\n",
       "    <tr>\n",
       "      <th>power</th>\n",
       "      <td>0</td>\n",
       "      <td>0.0</td>\n",
       "    </tr>\n",
       "    <tr>\n",
       "      <th>model</th>\n",
       "      <td>19705</td>\n",
       "      <td>6.0</td>\n",
       "    </tr>\n",
       "    <tr>\n",
       "      <th>kilometer</th>\n",
       "      <td>0</td>\n",
       "      <td>0.0</td>\n",
       "    </tr>\n",
       "    <tr>\n",
       "      <th>registration_month</th>\n",
       "      <td>0</td>\n",
       "      <td>0.0</td>\n",
       "    </tr>\n",
       "    <tr>\n",
       "      <th>fuel_type</th>\n",
       "      <td>32895</td>\n",
       "      <td>9.0</td>\n",
       "    </tr>\n",
       "    <tr>\n",
       "      <th>brand</th>\n",
       "      <td>0</td>\n",
       "      <td>0.0</td>\n",
       "    </tr>\n",
       "    <tr>\n",
       "      <th>not_repaired</th>\n",
       "      <td>71154</td>\n",
       "      <td>20.0</td>\n",
       "    </tr>\n",
       "    <tr>\n",
       "      <th>date_created</th>\n",
       "      <td>0</td>\n",
       "      <td>0.0</td>\n",
       "    </tr>\n",
       "  </tbody>\n",
       "</table>\n",
       "</div>"
      ],
      "text/plain": [
       "                    Количество пропусков  Доля пропусков (%)\n",
       "price                                  0                 0.0\n",
       "vehicle_type                       37490                11.0\n",
       "registration_year                      0                 0.0\n",
       "gearbox                            19833                 6.0\n",
       "power                                  0                 0.0\n",
       "model                              19705                 6.0\n",
       "kilometer                              0                 0.0\n",
       "registration_month                     0                 0.0\n",
       "fuel_type                          32895                 9.0\n",
       "brand                                  0                 0.0\n",
       "not_repaired                       71154                20.0\n",
       "date_created                           0                 0.0"
      ]
     },
     "execution_count": 6,
     "metadata": {},
     "output_type": "execute_result"
    }
   ],
   "source": [
    "pd.DataFrame({'Количество пропусков': df.isna().sum(), \n",
    "              'Доля пропусков (%)': round(df.isna().sum() / df.shape[0] * 100, 0)})"
   ]
  },
  {
   "cell_type": "markdown",
   "metadata": {},
   "source": [
    "Доля пропусков каждого из признаков довольно велика: от 6% до 20%. Удалять все объекты с пропусками - не лучший вариант, так как таким образом мы потеряем большое количество данных. Можно заметить, что признаки `vehicle_type`, `gearbox`, `model` и `fuel_type` являются категориальными, поэтому пропуски в них можно заменить новой категорией `unknown` и научить модели работать и с такими данными тоже. \n",
    "\n",
    "Признак `not_repaired` является бинарным, однако доля пропусков у него самая большая (20%), поэтому удалять их нельзя. Рассмотрим и этот признак как категориальный и избавимся от пропусков по той же стратегии. "
   ]
  },
  {
   "cell_type": "code",
   "execution_count": 7,
   "metadata": {
    "scrolled": true
   },
   "outputs": [
    {
     "name": "stdout",
     "output_type": "stream",
     "text": [
      "<class 'pandas.core.frame.DataFrame'>\n",
      "RangeIndex: 354369 entries, 0 to 354368\n",
      "Data columns (total 12 columns):\n",
      " #   Column              Non-Null Count   Dtype \n",
      "---  ------              --------------   ----- \n",
      " 0   price               354369 non-null  int64 \n",
      " 1   vehicle_type        354369 non-null  object\n",
      " 2   registration_year   354369 non-null  int64 \n",
      " 3   gearbox             354369 non-null  object\n",
      " 4   power               354369 non-null  int64 \n",
      " 5   model               354369 non-null  object\n",
      " 6   kilometer           354369 non-null  int64 \n",
      " 7   registration_month  354369 non-null  int64 \n",
      " 8   fuel_type           354369 non-null  object\n",
      " 9   brand               354369 non-null  object\n",
      " 10  not_repaired        354369 non-null  object\n",
      " 11  date_created        354369 non-null  object\n",
      "dtypes: int64(5), object(7)\n",
      "memory usage: 32.4+ MB\n"
     ]
    }
   ],
   "source": [
    "# замена пропусков на unknown\n",
    "\n",
    "df[['vehicle_type', 'gearbox', 'model', 'fuel_type', 'not_repaired']] = df[\n",
    "    ['vehicle_type', 'gearbox', 'model', 'fuel_type', 'not_repaired']].fillna('unknown')\n",
    "df.info()"
   ]
  },
  {
   "cell_type": "markdown",
   "metadata": {},
   "source": [
    "Осталось рассмотреть следующие признаки: `registration_year`, `power`, `registration_month` и  `date_created`. Проверим их на аномальные значения и решим, как с ними поступить.  \n",
    "\n",
    "Начнем с признака года регистрации автомобилей `registration_year`:"
   ]
  },
  {
   "cell_type": "code",
   "execution_count": 8,
   "metadata": {},
   "outputs": [
    {
     "data": {
      "text/plain": [
       "count    354369.000000\n",
       "mean       2004.234448\n",
       "std          90.227958\n",
       "min        1000.000000\n",
       "25%        1999.000000\n",
       "50%        2003.000000\n",
       "75%        2008.000000\n",
       "max        9999.000000\n",
       "Name: registration_year, dtype: float64"
      ]
     },
     "execution_count": 8,
     "metadata": {},
     "output_type": "execute_result"
    }
   ],
   "source": [
    "df['registration_year'].describe()"
   ]
  },
  {
   "cell_type": "code",
   "execution_count": 9,
   "metadata": {},
   "outputs": [
    {
     "data": {
      "text/plain": [
       "171"
      ]
     },
     "execution_count": 9,
     "metadata": {},
     "output_type": "execute_result"
    }
   ],
   "source": [
    "df[(df['registration_year'] < 1900) | (df['registration_year'] > 2019)]['registration_year'].count()"
   ]
  },
  {
   "cell_type": "markdown",
   "metadata": {},
   "source": [
    "Есть как аномально маленькие, так и аномально большие значения, однако их всего 171, что составляет менее 0.001% от всех данных, поэтому такие объекты можно удалить из датафрейма.  "
   ]
  },
  {
   "cell_type": "code",
   "execution_count": 10,
   "metadata": {},
   "outputs": [],
   "source": [
    "df = df[(df['registration_year'] > 1900) & (df['registration_year'] < 2019)]"
   ]
  },
  {
   "cell_type": "markdown",
   "metadata": {},
   "source": [
    "Теперь рассмотрим признак `power`. Здесь очень много нулевых значений, причиной которым может быть то, что пользователь не указал мощность автомобиля в анкете. В таком случае эти значения можно считать пропусками и заменить их медианным значением. "
   ]
  },
  {
   "cell_type": "code",
   "execution_count": 11,
   "metadata": {},
   "outputs": [],
   "source": [
    "# заполнение пропусков медианными значениями в зависимости от модели, \n",
    "# марки автомобиля и типа топлива\n",
    "\n",
    "df['power'] = df['power'].replace(0, np.nan)\n",
    "median = df.groupby(['model', 'fuel_type', 'brand'])['power'].transform('median')\n",
    "df['power'] = df['power'].fillna(median)"
   ]
  },
  {
   "cell_type": "markdown",
   "metadata": {},
   "source": [
    "Оставшиеся пропуски можно удалить из таблицы, так как их количество составляет менее 0.001% от изначального числа данных. "
   ]
  },
  {
   "cell_type": "code",
   "execution_count": 12,
   "metadata": {},
   "outputs": [
    {
     "data": {
      "text/plain": [
       "98"
      ]
     },
     "metadata": {},
     "output_type": "display_data"
    }
   ],
   "source": [
    "# проверка наличия пропусков в столбце с мощностью после заполнения\n",
    "\n",
    "display(df[df['power'].isna()]['price'].count())\n",
    "df.dropna(inplace=True)"
   ]
  },
  {
   "cell_type": "markdown",
   "metadata": {},
   "source": [
    "Теперь проверим признак `power` на наличие аномалий."
   ]
  },
  {
   "cell_type": "code",
   "execution_count": 13,
   "metadata": {},
   "outputs": [
    {
     "data": {
      "text/plain": [
       "(-10.0, 1000.0)"
      ]
     },
     "execution_count": 13,
     "metadata": {},
     "output_type": "execute_result"
    },
    {
     "data": {
      "image/png": "[encoded data removed]",
      "text/plain": [
       "<Figure size 720x432 with 1 Axes>"
      ]
     },
     "metadata": {},
     "output_type": "display_data"
    }
   ],
   "source": [
    "sns.set_style('darkgrid')\n",
    "plt.figure(figsize=(10, 6))\n",
    "sns.boxplot(y=df['power'])\n",
    "plt.ylim(-10, 1000)"
   ]
  },
  {
   "cell_type": "code",
   "execution_count": 14,
   "metadata": {},
   "outputs": [
    {
     "data": {
      "text/plain": [
       "count    354075.000000\n",
       "mean        122.062614\n",
       "std         186.031534\n",
       "min           1.000000\n",
       "5%           54.000000\n",
       "10%          60.000000\n",
       "15%          67.000000\n",
       "25%          75.000000\n",
       "50%         109.000000\n",
       "75%         144.000000\n",
       "95%         218.000000\n",
       "98%         260.000000\n",
       "max       20000.000000\n",
       "Name: power, dtype: float64"
      ]
     },
     "execution_count": 14,
     "metadata": {},
     "output_type": "execute_result"
    }
   ],
   "source": [
    "df['power'].describe(percentiles=[.05, .1, .15, .25, .5, .75, .95, .98])"
   ]
  },
  {
   "cell_type": "code",
   "execution_count": 15,
   "metadata": {},
   "outputs": [
    {
     "data": {
      "text/plain": [
       "5.4"
      ]
     },
     "execution_count": 15,
     "metadata": {},
     "output_type": "execute_result"
    }
   ],
   "source": [
    "round(df[(df['power'] < 54) | (df['power'] > 260)]['power'].count() / df.shape[0] * 100, 1)"
   ]
  },
  {
   "cell_type": "markdown",
   "metadata": {},
   "source": [
    "Мощность ниже 5% и выше 98% квантилей является аномальной, а доля таких значений составляет около 5.4% от общего числа данных. Удалим эти аномальные значения из данных."
   ]
  },
  {
   "cell_type": "code",
   "execution_count": 16,
   "metadata": {},
   "outputs": [],
   "source": [
    "# удаление аномальных значений мощности двигателя\n",
    "\n",
    "df = df[(df['power'] > 54) & (df['power'] < 260)]"
   ]
  },
  {
   "cell_type": "markdown",
   "metadata": {},
   "source": [
    "Особенность признака `registration_month` в том, что в нем много нулевых значений, однако совершать над ними какие-либо преобразования пока что не будем и попробуем обучить модели, не трогая нули в этом столбце. \n",
    "\n",
    "Рассмотрим признак `date_created` - дату создания анкеты. Его можно привести к типу `datetime` и оставить только месяца, так как особо значимого разброса в годах там нет (только 2016 и 2015), а информация о месяце все же может иметь какое-то занчение для обучения модели. "
   ]
  },
  {
   "cell_type": "code",
   "execution_count": 17,
   "metadata": {},
   "outputs": [],
   "source": [
    "# Выделение признака месяца создания анкеты из даты\n",
    "\n",
    "df['date_created'] = pd.to_datetime(df['date_created'], format='%Y-%m-%d %H:%M:%S')\n",
    "df['date_created'] = pd.DatetimeIndex(df['date_created']).month\n",
    "df = df.rename(columns = {'date_created': 'month_created'})"
   ]
  },
  {
   "cell_type": "markdown",
   "metadata": {},
   "source": [
    "Признак `price` пока что никак трогать не будем, так как он является целевым. "
   ]
  },
  {
   "cell_type": "markdown",
   "metadata": {},
   "source": [
    "Проверим изменения:"
   ]
  },
  {
   "cell_type": "code",
   "execution_count": 18,
   "metadata": {
    "scrolled": false
   },
   "outputs": [
    {
     "name": "stdout",
     "output_type": "stream",
     "text": [
      "<class 'pandas.core.frame.DataFrame'>\n",
      "Int64Index: 328662 entries, 0 to 354368\n",
      "Data columns (total 12 columns):\n",
      " #   Column              Non-Null Count   Dtype  \n",
      "---  ------              --------------   -----  \n",
      " 0   price               328662 non-null  int64  \n",
      " 1   vehicle_type        328662 non-null  object \n",
      " 2   registration_year   328662 non-null  int64  \n",
      " 3   gearbox             328662 non-null  object \n",
      " 4   power               328662 non-null  float64\n",
      " 5   model               328662 non-null  object \n",
      " 6   kilometer           328662 non-null  int64  \n",
      " 7   registration_month  328662 non-null  int64  \n",
      " 8   fuel_type           328662 non-null  object \n",
      " 9   brand               328662 non-null  object \n",
      " 10  not_repaired        328662 non-null  object \n",
      " 11  month_created       328662 non-null  int64  \n",
      "dtypes: float64(1), int64(5), object(6)\n",
      "memory usage: 32.6+ MB\n"
     ]
    },
    {
     "data": {
      "text/html": [
       "<div>\n",
       "<style scoped>\n",
       "    .dataframe tbody tr th:only-of-type {\n",
       "        vertical-align: middle;\n",
       "    }\n",
       "\n",
       "    .dataframe tbody tr th {\n",
       "        vertical-align: top;\n",
       "    }\n",
       "\n",
       "    .dataframe thead th {\n",
       "        text-align: right;\n",
       "    }\n",
       "</style>\n",
       "<table border=\"1\" class=\"dataframe\">\n",
       "  <thead>\n",
       "    <tr style=\"text-align: right;\">\n",
       "      <th></th>\n",
       "      <th>price</th>\n",
       "      <th>vehicle_type</th>\n",
       "      <th>registration_year</th>\n",
       "      <th>gearbox</th>\n",
       "      <th>power</th>\n",
       "      <th>model</th>\n",
       "      <th>kilometer</th>\n",
       "      <th>registration_month</th>\n",
       "      <th>fuel_type</th>\n",
       "      <th>brand</th>\n",
       "      <th>not_repaired</th>\n",
       "      <th>month_created</th>\n",
       "    </tr>\n",
       "  </thead>\n",
       "  <tbody>\n",
       "    <tr>\n",
       "      <th>0</th>\n",
       "      <td>480</td>\n",
       "      <td>unknown</td>\n",
       "      <td>1993</td>\n",
       "      <td>manual</td>\n",
       "      <td>90.0</td>\n",
       "      <td>golf</td>\n",
       "      <td>150000</td>\n",
       "      <td>0</td>\n",
       "      <td>petrol</td>\n",
       "      <td>volkswagen</td>\n",
       "      <td>unknown</td>\n",
       "      <td>3</td>\n",
       "    </tr>\n",
       "    <tr>\n",
       "      <th>1</th>\n",
       "      <td>18300</td>\n",
       "      <td>coupe</td>\n",
       "      <td>2011</td>\n",
       "      <td>manual</td>\n",
       "      <td>190.0</td>\n",
       "      <td>unknown</td>\n",
       "      <td>125000</td>\n",
       "      <td>5</td>\n",
       "      <td>gasoline</td>\n",
       "      <td>audi</td>\n",
       "      <td>yes</td>\n",
       "      <td>3</td>\n",
       "    </tr>\n",
       "    <tr>\n",
       "      <th>2</th>\n",
       "      <td>9800</td>\n",
       "      <td>suv</td>\n",
       "      <td>2004</td>\n",
       "      <td>auto</td>\n",
       "      <td>163.0</td>\n",
       "      <td>grand</td>\n",
       "      <td>125000</td>\n",
       "      <td>8</td>\n",
       "      <td>gasoline</td>\n",
       "      <td>jeep</td>\n",
       "      <td>unknown</td>\n",
       "      <td>3</td>\n",
       "    </tr>\n",
       "    <tr>\n",
       "      <th>3</th>\n",
       "      <td>1500</td>\n",
       "      <td>small</td>\n",
       "      <td>2001</td>\n",
       "      <td>manual</td>\n",
       "      <td>75.0</td>\n",
       "      <td>golf</td>\n",
       "      <td>150000</td>\n",
       "      <td>6</td>\n",
       "      <td>petrol</td>\n",
       "      <td>volkswagen</td>\n",
       "      <td>no</td>\n",
       "      <td>3</td>\n",
       "    </tr>\n",
       "    <tr>\n",
       "      <th>4</th>\n",
       "      <td>3600</td>\n",
       "      <td>small</td>\n",
       "      <td>2008</td>\n",
       "      <td>manual</td>\n",
       "      <td>69.0</td>\n",
       "      <td>fabia</td>\n",
       "      <td>90000</td>\n",
       "      <td>7</td>\n",
       "      <td>gasoline</td>\n",
       "      <td>skoda</td>\n",
       "      <td>no</td>\n",
       "      <td>3</td>\n",
       "    </tr>\n",
       "    <tr>\n",
       "      <th>5</th>\n",
       "      <td>650</td>\n",
       "      <td>sedan</td>\n",
       "      <td>1995</td>\n",
       "      <td>manual</td>\n",
       "      <td>102.0</td>\n",
       "      <td>3er</td>\n",
       "      <td>150000</td>\n",
       "      <td>10</td>\n",
       "      <td>petrol</td>\n",
       "      <td>bmw</td>\n",
       "      <td>yes</td>\n",
       "      <td>4</td>\n",
       "    </tr>\n",
       "    <tr>\n",
       "      <th>6</th>\n",
       "      <td>2200</td>\n",
       "      <td>convertible</td>\n",
       "      <td>2004</td>\n",
       "      <td>manual</td>\n",
       "      <td>109.0</td>\n",
       "      <td>2_reihe</td>\n",
       "      <td>150000</td>\n",
       "      <td>8</td>\n",
       "      <td>petrol</td>\n",
       "      <td>peugeot</td>\n",
       "      <td>no</td>\n",
       "      <td>4</td>\n",
       "    </tr>\n",
       "    <tr>\n",
       "      <th>8</th>\n",
       "      <td>14500</td>\n",
       "      <td>bus</td>\n",
       "      <td>2014</td>\n",
       "      <td>manual</td>\n",
       "      <td>125.0</td>\n",
       "      <td>c_max</td>\n",
       "      <td>30000</td>\n",
       "      <td>8</td>\n",
       "      <td>petrol</td>\n",
       "      <td>ford</td>\n",
       "      <td>unknown</td>\n",
       "      <td>4</td>\n",
       "    </tr>\n",
       "    <tr>\n",
       "      <th>9</th>\n",
       "      <td>999</td>\n",
       "      <td>small</td>\n",
       "      <td>1998</td>\n",
       "      <td>manual</td>\n",
       "      <td>101.0</td>\n",
       "      <td>golf</td>\n",
       "      <td>150000</td>\n",
       "      <td>0</td>\n",
       "      <td>unknown</td>\n",
       "      <td>volkswagen</td>\n",
       "      <td>unknown</td>\n",
       "      <td>3</td>\n",
       "    </tr>\n",
       "    <tr>\n",
       "      <th>10</th>\n",
       "      <td>2000</td>\n",
       "      <td>sedan</td>\n",
       "      <td>2004</td>\n",
       "      <td>manual</td>\n",
       "      <td>105.0</td>\n",
       "      <td>3_reihe</td>\n",
       "      <td>150000</td>\n",
       "      <td>12</td>\n",
       "      <td>petrol</td>\n",
       "      <td>mazda</td>\n",
       "      <td>no</td>\n",
       "      <td>3</td>\n",
       "    </tr>\n",
       "  </tbody>\n",
       "</table>\n",
       "</div>"
      ],
      "text/plain": [
       "    price vehicle_type  registration_year gearbox  power    model  kilometer  \\\n",
       "0     480      unknown               1993  manual   90.0     golf     150000   \n",
       "1   18300        coupe               2011  manual  190.0  unknown     125000   \n",
       "2    9800          suv               2004    auto  163.0    grand     125000   \n",
       "3    1500        small               2001  manual   75.0     golf     150000   \n",
       "4    3600        small               2008  manual   69.0    fabia      90000   \n",
       "5     650        sedan               1995  manual  102.0      3er     150000   \n",
       "6    2200  convertible               2004  manual  109.0  2_reihe     150000   \n",
       "8   14500          bus               2014  manual  125.0    c_max      30000   \n",
       "9     999        small               1998  manual  101.0     golf     150000   \n",
       "10   2000        sedan               2004  manual  105.0  3_reihe     150000   \n",
       "\n",
       "    registration_month fuel_type       brand not_repaired  month_created  \n",
       "0                    0    petrol  volkswagen      unknown              3  \n",
       "1                    5  gasoline        audi          yes              3  \n",
       "2                    8  gasoline        jeep      unknown              3  \n",
       "3                    6    petrol  volkswagen           no              3  \n",
       "4                    7  gasoline       skoda           no              3  \n",
       "5                   10    petrol         bmw          yes              4  \n",
       "6                    8    petrol     peugeot           no              4  \n",
       "8                    8    petrol        ford      unknown              4  \n",
       "9                    0   unknown  volkswagen      unknown              3  \n",
       "10                  12    petrol       mazda           no              3  "
      ]
     },
     "execution_count": 18,
     "metadata": {},
     "output_type": "execute_result"
    }
   ],
   "source": [
    "df.info()\n",
    "df.head(10)"
   ]
  },
  {
   "cell_type": "markdown",
   "metadata": {},
   "source": [
    "**Вывод:**\n",
    "\n",
    "На этом этапе была проведена подготовка данных к дальнейшему обучению на них моделей.\n",
    "\n",
    "* Исключены не важные для решения задачи определеня стоимости автомобилей признаки: `DateCrawled`, `PostalCode`, `LastSeen`, `NumberOfPictures`.\n",
    "\n",
    "* Устранены все пропуски в данных(в том числе в категориальных признаках заменены новой категорией `unknown`).\n",
    "\n",
    "* Устранены аномальные значения признаков."
   ]
  },
  {
   "cell_type": "markdown",
   "metadata": {},
   "source": [
    "### Кодирование категориальных признаков"
   ]
  },
  {
   "cell_type": "markdown",
   "metadata": {},
   "source": [
    "Так как перед нами лежит задача регрессии - преобразуем все категориальные признаки в числовые. Для этого воспользуемся техникой порядкового кодирования **Ordinal Encoding**, так как использование прямого кодирования привело бы к сильному увеличению числа столбцов в датафрейме из-за большого количества категорий в некоторых признаках, а это возможно усложнило бы обучение моделей. "
   ]
  },
  {
   "cell_type": "code",
   "execution_count": 19,
   "metadata": {},
   "outputs": [
    {
     "data": {
      "text/html": [
       "<div>\n",
       "<style scoped>\n",
       "    .dataframe tbody tr th:only-of-type {\n",
       "        vertical-align: middle;\n",
       "    }\n",
       "\n",
       "    .dataframe tbody tr th {\n",
       "        vertical-align: top;\n",
       "    }\n",
       "\n",
       "    .dataframe thead th {\n",
       "        text-align: right;\n",
       "    }\n",
       "</style>\n",
       "<table border=\"1\" class=\"dataframe\">\n",
       "  <thead>\n",
       "    <tr style=\"text-align: right;\">\n",
       "      <th></th>\n",
       "      <th>vehicle_type</th>\n",
       "      <th>gearbox</th>\n",
       "      <th>model</th>\n",
       "      <th>fuel_type</th>\n",
       "      <th>brand</th>\n",
       "      <th>not_repaired</th>\n",
       "    </tr>\n",
       "  </thead>\n",
       "  <tbody>\n",
       "    <tr>\n",
       "      <th>0</th>\n",
       "      <td>7.0</td>\n",
       "      <td>1.0</td>\n",
       "      <td>115.0</td>\n",
       "      <td>6.0</td>\n",
       "      <td>38.0</td>\n",
       "      <td>1.0</td>\n",
       "    </tr>\n",
       "    <tr>\n",
       "      <th>1</th>\n",
       "      <td>2.0</td>\n",
       "      <td>1.0</td>\n",
       "      <td>225.0</td>\n",
       "      <td>2.0</td>\n",
       "      <td>1.0</td>\n",
       "      <td>2.0</td>\n",
       "    </tr>\n",
       "    <tr>\n",
       "      <th>2</th>\n",
       "      <td>6.0</td>\n",
       "      <td>0.0</td>\n",
       "      <td>116.0</td>\n",
       "      <td>2.0</td>\n",
       "      <td>14.0</td>\n",
       "      <td>1.0</td>\n",
       "    </tr>\n",
       "    <tr>\n",
       "      <th>3</th>\n",
       "      <td>5.0</td>\n",
       "      <td>1.0</td>\n",
       "      <td>115.0</td>\n",
       "      <td>6.0</td>\n",
       "      <td>38.0</td>\n",
       "      <td>0.0</td>\n",
       "    </tr>\n",
       "    <tr>\n",
       "      <th>4</th>\n",
       "      <td>5.0</td>\n",
       "      <td>1.0</td>\n",
       "      <td>100.0</td>\n",
       "      <td>2.0</td>\n",
       "      <td>31.0</td>\n",
       "      <td>0.0</td>\n",
       "    </tr>\n",
       "  </tbody>\n",
       "</table>\n",
       "</div>"
      ],
      "text/plain": [
       "   vehicle_type  gearbox  model  fuel_type  brand  not_repaired\n",
       "0           7.0      1.0  115.0        6.0   38.0           1.0\n",
       "1           2.0      1.0  225.0        2.0    1.0           2.0\n",
       "2           6.0      0.0  116.0        2.0   14.0           1.0\n",
       "3           5.0      1.0  115.0        6.0   38.0           0.0\n",
       "4           5.0      1.0  100.0        2.0   31.0           0.0"
      ]
     },
     "execution_count": 19,
     "metadata": {},
     "output_type": "execute_result"
    }
   ],
   "source": [
    "# Порядковое кодирование категориальных признаков\n",
    "\n",
    "category = ['vehicle_type', 'gearbox', 'model', 'fuel_type', 'brand', 'not_repaired']\n",
    "\n",
    "encoder = OrdinalEncoder()\n",
    "df_ordinal = pd.DataFrame(encoder.fit_transform(df[category]), index=df[category].index, columns=df[category].columns)\n",
    "df_ordinal.head()"
   ]
  },
  {
   "cell_type": "code",
   "execution_count": 20,
   "metadata": {},
   "outputs": [
    {
     "data": {
      "text/html": [
       "<div>\n",
       "<style scoped>\n",
       "    .dataframe tbody tr th:only-of-type {\n",
       "        vertical-align: middle;\n",
       "    }\n",
       "\n",
       "    .dataframe tbody tr th {\n",
       "        vertical-align: top;\n",
       "    }\n",
       "\n",
       "    .dataframe thead th {\n",
       "        text-align: right;\n",
       "    }\n",
       "</style>\n",
       "<table border=\"1\" class=\"dataframe\">\n",
       "  <thead>\n",
       "    <tr style=\"text-align: right;\">\n",
       "      <th></th>\n",
       "      <th>price</th>\n",
       "      <th>vehicle_type</th>\n",
       "      <th>registration_year</th>\n",
       "      <th>gearbox</th>\n",
       "      <th>power</th>\n",
       "      <th>model</th>\n",
       "      <th>kilometer</th>\n",
       "      <th>registration_month</th>\n",
       "      <th>fuel_type</th>\n",
       "      <th>brand</th>\n",
       "      <th>not_repaired</th>\n",
       "      <th>month_created</th>\n",
       "    </tr>\n",
       "  </thead>\n",
       "  <tbody>\n",
       "    <tr>\n",
       "      <th>0</th>\n",
       "      <td>480</td>\n",
       "      <td>7.0</td>\n",
       "      <td>1993</td>\n",
       "      <td>1.0</td>\n",
       "      <td>90.0</td>\n",
       "      <td>115.0</td>\n",
       "      <td>150000</td>\n",
       "      <td>0</td>\n",
       "      <td>6.0</td>\n",
       "      <td>38.0</td>\n",
       "      <td>1.0</td>\n",
       "      <td>3</td>\n",
       "    </tr>\n",
       "    <tr>\n",
       "      <th>1</th>\n",
       "      <td>18300</td>\n",
       "      <td>2.0</td>\n",
       "      <td>2011</td>\n",
       "      <td>1.0</td>\n",
       "      <td>190.0</td>\n",
       "      <td>225.0</td>\n",
       "      <td>125000</td>\n",
       "      <td>5</td>\n",
       "      <td>2.0</td>\n",
       "      <td>1.0</td>\n",
       "      <td>2.0</td>\n",
       "      <td>3</td>\n",
       "    </tr>\n",
       "    <tr>\n",
       "      <th>2</th>\n",
       "      <td>9800</td>\n",
       "      <td>6.0</td>\n",
       "      <td>2004</td>\n",
       "      <td>0.0</td>\n",
       "      <td>163.0</td>\n",
       "      <td>116.0</td>\n",
       "      <td>125000</td>\n",
       "      <td>8</td>\n",
       "      <td>2.0</td>\n",
       "      <td>14.0</td>\n",
       "      <td>1.0</td>\n",
       "      <td>3</td>\n",
       "    </tr>\n",
       "    <tr>\n",
       "      <th>3</th>\n",
       "      <td>1500</td>\n",
       "      <td>5.0</td>\n",
       "      <td>2001</td>\n",
       "      <td>1.0</td>\n",
       "      <td>75.0</td>\n",
       "      <td>115.0</td>\n",
       "      <td>150000</td>\n",
       "      <td>6</td>\n",
       "      <td>6.0</td>\n",
       "      <td>38.0</td>\n",
       "      <td>0.0</td>\n",
       "      <td>3</td>\n",
       "    </tr>\n",
       "    <tr>\n",
       "      <th>4</th>\n",
       "      <td>3600</td>\n",
       "      <td>5.0</td>\n",
       "      <td>2008</td>\n",
       "      <td>1.0</td>\n",
       "      <td>69.0</td>\n",
       "      <td>100.0</td>\n",
       "      <td>90000</td>\n",
       "      <td>7</td>\n",
       "      <td>2.0</td>\n",
       "      <td>31.0</td>\n",
       "      <td>0.0</td>\n",
       "      <td>3</td>\n",
       "    </tr>\n",
       "  </tbody>\n",
       "</table>\n",
       "</div>"
      ],
      "text/plain": [
       "   price  vehicle_type  registration_year  gearbox  power  model  kilometer  \\\n",
       "0    480           7.0               1993      1.0   90.0  115.0     150000   \n",
       "1  18300           2.0               2011      1.0  190.0  225.0     125000   \n",
       "2   9800           6.0               2004      0.0  163.0  116.0     125000   \n",
       "3   1500           5.0               2001      1.0   75.0  115.0     150000   \n",
       "4   3600           5.0               2008      1.0   69.0  100.0      90000   \n",
       "\n",
       "   registration_month  fuel_type  brand  not_repaired  month_created  \n",
       "0                   0        6.0   38.0           1.0              3  \n",
       "1                   5        2.0    1.0           2.0              3  \n",
       "2                   8        2.0   14.0           1.0              3  \n",
       "3                   6        6.0   38.0           0.0              3  \n",
       "4                   7        2.0   31.0           0.0              3  "
      ]
     },
     "execution_count": 20,
     "metadata": {},
     "output_type": "execute_result"
    }
   ],
   "source": [
    "# перенос пробразованных категориальных признаков в главную таблицу\n",
    "\n",
    "df[category] = df_ordinal\n",
    "df.head()"
   ]
  },
  {
   "cell_type": "markdown",
   "metadata": {},
   "source": [
    "Теперь, когда пропусков и аномалий в данных не осталось, а категориальные признаки преобразованы в числовые, имеет смысл разделить их на обучающую, валидационную и тестовую выборки в соотношении 3:1. "
   ]
  },
  {
   "cell_type": "code",
   "execution_count": 21,
   "metadata": {},
   "outputs": [],
   "source": [
    "features = df.drop(['price'], axis=1)\n",
    "target = df['price']\n",
    "\n",
    "# выделение обучающей и тестовой выборок размером 75% и 25%\n",
    "train_ft, test_ft, train_tg, test_tg = train_test_split(features, target, test_size=0.25, random_state=111)"
   ]
  },
  {
   "cell_type": "markdown",
   "metadata": {},
   "source": [
    "На всякий случай проверим размеры выборок:"
   ]
  },
  {
   "cell_type": "code",
   "execution_count": 22,
   "metadata": {},
   "outputs": [
    {
     "name": "stdout",
     "output_type": "stream",
     "text": [
      "Объем обучающей выборки: 246496\n",
      "Объем тестовой выборки: 82166\n"
     ]
    }
   ],
   "source": [
    "print(f'Объем обучающей выборки: {train_ft.shape[0]}')\n",
    "print(f'Объем тестовой выборки: {test_ft.shape[0]}')"
   ]
  },
  {
   "cell_type": "markdown",
   "metadata": {},
   "source": [
    "### Масштабирование признаков"
   ]
  },
  {
   "cell_type": "markdown",
   "metadata": {},
   "source": [
    "Приведем признаки к одному масштабу путем стандартизации данных с помощью структуры **StandardScaler**:"
   ]
  },
  {
   "cell_type": "code",
   "execution_count": 23,
   "metadata": {},
   "outputs": [
    {
     "name": "stdout",
     "output_type": "stream",
     "text": [
      "CPU times: total: 78.1 ms\n",
      "Wall time: 75.8 ms\n"
     ]
    },
    {
     "data": {
      "text/html": [
       "<div>\n",
       "<style scoped>\n",
       "    .dataframe tbody tr th:only-of-type {\n",
       "        vertical-align: middle;\n",
       "    }\n",
       "\n",
       "    .dataframe tbody tr th {\n",
       "        vertical-align: top;\n",
       "    }\n",
       "\n",
       "    .dataframe thead th {\n",
       "        text-align: right;\n",
       "    }\n",
       "</style>\n",
       "<table border=\"1\" class=\"dataframe\">\n",
       "  <thead>\n",
       "    <tr style=\"text-align: right;\">\n",
       "      <th></th>\n",
       "      <th>vehicle_type</th>\n",
       "      <th>registration_year</th>\n",
       "      <th>gearbox</th>\n",
       "      <th>power</th>\n",
       "      <th>model</th>\n",
       "      <th>kilometer</th>\n",
       "      <th>registration_month</th>\n",
       "      <th>fuel_type</th>\n",
       "      <th>brand</th>\n",
       "      <th>not_repaired</th>\n",
       "      <th>month_created</th>\n",
       "    </tr>\n",
       "  </thead>\n",
       "  <tbody>\n",
       "    <tr>\n",
       "      <th>259278</th>\n",
       "      <td>8.0</td>\n",
       "      <td>-0.596927</td>\n",
       "      <td>1.0</td>\n",
       "      <td>0.037869</td>\n",
       "      <td>225.0</td>\n",
       "      <td>0.571448</td>\n",
       "      <td>7</td>\n",
       "      <td>7.0</td>\n",
       "      <td>27.0</td>\n",
       "      <td>2.0</td>\n",
       "      <td>3</td>\n",
       "    </tr>\n",
       "    <tr>\n",
       "      <th>184432</th>\n",
       "      <td>7.0</td>\n",
       "      <td>1.736946</td>\n",
       "      <td>1.0</td>\n",
       "      <td>-0.054131</td>\n",
       "      <td>232.0</td>\n",
       "      <td>0.571448</td>\n",
       "      <td>5</td>\n",
       "      <td>6.0</td>\n",
       "      <td>24.0</td>\n",
       "      <td>0.0</td>\n",
       "      <td>3</td>\n",
       "    </tr>\n",
       "    <tr>\n",
       "      <th>208493</th>\n",
       "      <td>1.0</td>\n",
       "      <td>-0.047780</td>\n",
       "      <td>0.0</td>\n",
       "      <td>-0.836133</td>\n",
       "      <td>186.0</td>\n",
       "      <td>-0.753865</td>\n",
       "      <td>2</td>\n",
       "      <td>6.0</td>\n",
       "      <td>32.0</td>\n",
       "      <td>0.0</td>\n",
       "      <td>3</td>\n",
       "    </tr>\n",
       "    <tr>\n",
       "      <th>315582</th>\n",
       "      <td>4.0</td>\n",
       "      <td>0.364080</td>\n",
       "      <td>1.0</td>\n",
       "      <td>1.877873</td>\n",
       "      <td>115.0</td>\n",
       "      <td>0.571448</td>\n",
       "      <td>11</td>\n",
       "      <td>6.0</td>\n",
       "      <td>38.0</td>\n",
       "      <td>0.0</td>\n",
       "      <td>3</td>\n",
       "    </tr>\n",
       "    <tr>\n",
       "      <th>261863</th>\n",
       "      <td>4.0</td>\n",
       "      <td>0.638653</td>\n",
       "      <td>0.0</td>\n",
       "      <td>0.566870</td>\n",
       "      <td>6.0</td>\n",
       "      <td>0.571448</td>\n",
       "      <td>1</td>\n",
       "      <td>6.0</td>\n",
       "      <td>2.0</td>\n",
       "      <td>0.0</td>\n",
       "      <td>3</td>\n",
       "    </tr>\n",
       "  </tbody>\n",
       "</table>\n",
       "</div>"
      ],
      "text/plain": [
       "        vehicle_type  registration_year  gearbox     power  model  kilometer  \\\n",
       "259278           8.0          -0.596927      1.0  0.037869  225.0   0.571448   \n",
       "184432           7.0           1.736946      1.0 -0.054131  232.0   0.571448   \n",
       "208493           1.0          -0.047780      0.0 -0.836133  186.0  -0.753865   \n",
       "315582           4.0           0.364080      1.0  1.877873  115.0   0.571448   \n",
       "261863           4.0           0.638653      0.0  0.566870    6.0   0.571448   \n",
       "\n",
       "        registration_month  fuel_type  brand  not_repaired  month_created  \n",
       "259278                   7        7.0   27.0           2.0              3  \n",
       "184432                   5        6.0   24.0           0.0              3  \n",
       "208493                   2        6.0   32.0           0.0              3  \n",
       "315582                  11        6.0   38.0           0.0              3  \n",
       "261863                   1        6.0    2.0           0.0              3  "
      ]
     },
     "execution_count": 23,
     "metadata": {},
     "output_type": "execute_result"
    }
   ],
   "source": [
    "%%time\n",
    "\n",
    "# стандартизация данных в выборках\n",
    "numeric = ['registration_year', 'power', 'kilometer']\n",
    "\n",
    "scaler = StandardScaler()\n",
    "scaler.fit(train_ft[numeric])\n",
    "train_ft[numeric] = scaler.transform(train_ft[numeric])\n",
    "test_ft[numeric] = scaler.transform(test_ft[numeric])\n",
    "\n",
    "train_ft.head()"
   ]
  },
  {
   "cell_type": "markdown",
   "metadata": {},
   "source": [
    "Теперь все признаки имеют одинаковый масштаб. "
   ]
  },
  {
   "cell_type": "markdown",
   "metadata": {},
   "source": [
    "**Вывод:**\n",
    "\n",
    "* Категориальные признаки преобразованы в числовые с помощью порядкового кодтрования. \n",
    "\n",
    "* Признаки приведены к одному масштабу."
   ]
  },
  {
   "cell_type": "markdown",
   "metadata": {},
   "source": [
    "## Обучение моделей"
   ]
  },
  {
   "cell_type": "markdown",
   "metadata": {},
   "source": [
    "Оценку качества моделей будем проведить с помощью метрики `RMSE`. Напишем функцию ее расчета:"
   ]
  },
  {
   "cell_type": "code",
   "execution_count": 24,
   "metadata": {},
   "outputs": [],
   "source": [
    "def rmse_score(target, predictions):\n",
    "    rmse = mean_squared_error(target, predictions)**0.5\n",
    "    return rmse"
   ]
  },
  {
   "cell_type": "markdown",
   "metadata": {},
   "source": [
    "Обучим четыре модели:\n",
    "\n",
    " * Модель линейной регрессии;\n",
    " \n",
    " * Модель градиентного бустинга `XGBoost`;\n",
    " \n",
    " * Модель градиентного бустинга `LightGBM`;\n",
    " \n",
    " * Модель градиентного бустинга `CatBoost`.\n",
    " \n",
    "Подберем для них наилучшие гиперпараметры с помощью кросс-валидации на валидационной выбрке и проверим качество их предсказаний с помощью метрики `rmse` на тестовой выборке."
   ]
  },
  {
   "cell_type": "code",
   "execution_count": 32,
   "metadata": {},
   "outputs": [],
   "source": [
    "# Кросс-валидация гиперпараметров моделей с помощью GridSearch\n",
    "\n",
    "def CV(model, params, ft, tg):\n",
    "    scorer = make_scorer(rmse_score, greater_is_better=False)\n",
    "    clf = GridSearchCV(model, params, scoring=scorer, cv=3)\n",
    "    display(clf.fit(ft, tg, verbose=True))\n",
    "    \n",
    "    return clf.best_params_, clf.best_score_"
   ]
  },
  {
   "cell_type": "markdown",
   "metadata": {},
   "source": [
    "Так как процедура обучения и предсказания для всех моделей будет примерно одинакова, создадим отдельные функции, отвечающие за это и за расчет времени:"
   ]
  },
  {
   "cell_type": "code",
   "execution_count": 26,
   "metadata": {},
   "outputs": [],
   "source": [
    "# функция обучения моделей и расчета времени\n",
    "\n",
    "def fit_model(model_name, regressor, train_ft, train_tg):\n",
    "    time0 = time.time()\n",
    "    model = regressor\n",
    "    model.fit(train_ft, train_tg)\n",
    "    time_fit = round(time.time() - time0, 4)\n",
    "    \n",
    "    print(f'Время обучения модели {model_name}: {time_fit} секунд')\n",
    "    \n",
    "    return model, time_fit"
   ]
  },
  {
   "cell_type": "code",
   "execution_count": 27,
   "metadata": {},
   "outputs": [],
   "source": [
    "# функция испытания моделей на валидационной выборке, проверки качества моделей и расчета времени\n",
    "\n",
    "def pred_model(model_name, model, test_ft, test_tg):\n",
    "    time0 = time.time()\n",
    "    predictions = model.predict(test_ft)\n",
    "    rmse = rmse_score(predictions, test_tg).round(2)\n",
    "    time_pred = round(time.time() - time0, 4)\n",
    "    \n",
    "    print(f'RMSE для модели {model_name} на валидационной выборке: {rmse}')\n",
    "    print(f'Время предсказания: {time_pred} секунд')\n",
    "    \n",
    "    return rmse, time_pred"
   ]
  },
  {
   "cell_type": "markdown",
   "metadata": {},
   "source": [
    "### Линейная регрессия"
   ]
  },
  {
   "cell_type": "markdown",
   "metadata": {},
   "source": [
    "Начнем с модели линейной регрессии. Ее гиперпараметры оставим по умолчанию, обучим на тренировойчной выборке и сделаем предсказания на тестовой выборке. "
   ]
  },
  {
   "cell_type": "code",
   "execution_count": 53,
   "metadata": {},
   "outputs": [
    {
     "name": "stdout",
     "output_type": "stream",
     "text": [
      "Время обучения модели LinearRegression: 0.1804 секунд\n"
     ]
    }
   ],
   "source": [
    "# Обучение линейной регрессии\n",
    "\n",
    "model_lr, time_fit_lr = fit_model('LinearRegression', LinearRegression(), train_ft, train_tg)"
   ]
  },
  {
   "cell_type": "code",
   "execution_count": 54,
   "metadata": {},
   "outputs": [
    {
     "name": "stdout",
     "output_type": "stream",
     "text": [
      "RMSE для модели LinearRegression на валидационной выборке: 2991.06\n",
      "Время предсказания: 0.014 секунд\n"
     ]
    }
   ],
   "source": [
    "# Предсказания модели линейной регрессии на тестовой выборке\n",
    "\n",
    "rmse_lr, time_pred_lr = pred_model('LinearRegression', model_lr, test_ft, test_tg)"
   ]
  },
  {
   "cell_type": "code",
   "execution_count": 55,
   "metadata": {},
   "outputs": [
    {
     "data": {
      "text/html": [
       "<div>\n",
       "<style scoped>\n",
       "    .dataframe tbody tr th:only-of-type {\n",
       "        vertical-align: middle;\n",
       "    }\n",
       "\n",
       "    .dataframe tbody tr th {\n",
       "        vertical-align: top;\n",
       "    }\n",
       "\n",
       "    .dataframe thead th {\n",
       "        text-align: right;\n",
       "    }\n",
       "</style>\n",
       "<table border=\"1\" class=\"dataframe\">\n",
       "  <thead>\n",
       "    <tr style=\"text-align: right;\">\n",
       "      <th></th>\n",
       "      <th>Модель</th>\n",
       "      <th>Параметры</th>\n",
       "      <th>Время обучения</th>\n",
       "      <th>Время предсказания</th>\n",
       "      <th>RMSE</th>\n",
       "    </tr>\n",
       "  </thead>\n",
       "  <tbody>\n",
       "    <tr>\n",
       "      <th>0</th>\n",
       "      <td>LinearRegression</td>\n",
       "      <td>default</td>\n",
       "      <td>0.1804 sec</td>\n",
       "      <td>0.014 sec</td>\n",
       "      <td>2991.06</td>\n",
       "    </tr>\n",
       "  </tbody>\n",
       "</table>\n",
       "</div>"
      ],
      "text/plain": [
       "             Модель Параметры Время обучения Время предсказания     RMSE\n",
       "0  LinearRegression   default     0.1804 sec          0.014 sec  2991.06"
      ]
     },
     "execution_count": 55,
     "metadata": {},
     "output_type": "execute_result"
    }
   ],
   "source": [
    "# Вывод результатов обучения модели линейной регрессии\n",
    "\n",
    "result = []\n",
    "\n",
    "result.append({'Модель' : 'LinearRegression', \n",
    "              'Параметры': 'default', \n",
    "              'Время обучения': f'{time_fit_lr} sec', \n",
    "              'Время предсказания': f'{time_pred_lr} sec', \n",
    "              'RMSE': rmse_lr})\n",
    "\n",
    "pd.DataFrame(result)"
   ]
  },
  {
   "cell_type": "markdown",
   "metadata": {},
   "source": [
    "### Градиентный бустинг XGBoost"
   ]
  },
  {
   "cell_type": "markdown",
   "metadata": {},
   "source": [
    "Рассмотрим следующую модель: модель экстремального градиентного бустинга `XGBoost`"
   ]
  },
  {
   "cell_type": "code",
   "execution_count": 56,
   "metadata": {},
   "outputs": [
    {
     "data": {
      "text/plain": [
       "GridSearchCV(cv=3,\n",
       "             estimator=XGBRegressor(base_score=None, booster='gbtree',\n",
       "                                    callbacks=None, colsample_bylevel=None,\n",
       "                                    colsample_bynode=None,\n",
       "                                    colsample_bytree=None,\n",
       "                                    early_stopping_rounds=None,\n",
       "                                    enable_categorical=False, eval_metric=None,\n",
       "                                    gamma=None, gpu_id=None, grow_policy=None,\n",
       "                                    importance_type=None,\n",
       "                                    interaction_constraints=None,\n",
       "                                    learning_rate=None, max_bin=None,\n",
       "                                    max...one, max_delta_step=None,\n",
       "                                    max_depth=None, max_leaves=None,\n",
       "                                    min_child_weight=None, missing=nan,\n",
       "                                    monotone_constraints=None, n_estimators=100,\n",
       "                                    n_jobs=-1, num_parallel_tree=None,\n",
       "                                    predictor=None, random_state=111,\n",
       "                                    reg_alpha=None, reg_lambda=None, ...),\n",
       "             param_grid={'max_depth': [4, 6, 8],\n",
       "                         'n_estimators': [50, 100, 200]},\n",
       "             scoring=make_scorer(rmse_score, greater_is_better=False))"
      ]
     },
     "metadata": {},
     "output_type": "display_data"
    },
    {
     "name": "stdout",
     "output_type": "stream",
     "text": [
      "CPU times: total: 15min 40s\n",
      "Wall time: 4min 35s\n"
     ]
    },
    {
     "data": {
      "text/plain": [
       "{'max_depth': 8, 'n_estimators': 200}"
      ]
     },
     "execution_count": 56,
     "metadata": {},
     "output_type": "execute_result"
    }
   ],
   "source": [
    "%%time\n",
    "\n",
    "model_xgb = XGBRegressor(verbosity=0, n_jobs=-1, random_state=111, booster='gbtree')\n",
    "    \n",
    "params = {'max_depth': [4, 6, 8], \n",
    "         'n_estimators': [50, 100, 200]}\n",
    "\n",
    "best_params_xgb, best_score_xgb = CV(model_xgb, params, train_ft, train_tg)\n",
    "best_params_xgb"
   ]
  },
  {
   "cell_type": "code",
   "execution_count": 57,
   "metadata": {},
   "outputs": [
    {
     "name": "stdout",
     "output_type": "stream",
     "text": [
      "Время обучения модели XGBoost: 18.8463 секунд\n"
     ]
    }
   ],
   "source": [
    "# Обучение модели XGB c выбранными гиперпарметрами на тренировоной выборке и расчет времени\n",
    "\n",
    "model_xgb, time_fit_xgb = fit_model('XGBoost', XGBRegressor(verbosity=0, n_jobs=-1, random_state=111, \n",
    "                                  booster='gbtree', max_depth=8, n_estmators=200), train_ft, train_tg)"
   ]
  },
  {
   "cell_type": "code",
   "execution_count": 58,
   "metadata": {},
   "outputs": [
    {
     "name": "stdout",
     "output_type": "stream",
     "text": [
      "RMSE для модели XGBoost на валидационной выборке: 1693.7\n",
      "Время предсказания: 0.1782 секунд\n"
     ]
    }
   ],
   "source": [
    "# Предсказания для тестовой выборки, расчет метрики качества и времени\n",
    "\n",
    "rmse_xgb, time_pred_xgb = pred_model('XGBoost', model_xgb, test_ft, test_tg)"
   ]
  },
  {
   "cell_type": "code",
   "execution_count": 59,
   "metadata": {},
   "outputs": [],
   "source": [
    "# Вывод результатов обучения модели XGBoost\n",
    "\n",
    "result.append({'Модель' : 'XGBoost', \n",
    "              'Параметры': best_params_xgb, \n",
    "              'Время обучения': f'{time_fit_xgb} sec', \n",
    "              'Время предсказания': f'{time_pred_xgb} sec', \n",
    "              'RMSE': rmse_xgb})\n",
    "\n",
    "result_df = pd.DataFrame(result)"
   ]
  },
  {
   "cell_type": "code",
   "execution_count": 60,
   "metadata": {},
   "outputs": [
    {
     "data": {
      "text/html": [
       "<div>\n",
       "<style scoped>\n",
       "    .dataframe tbody tr th:only-of-type {\n",
       "        vertical-align: middle;\n",
       "    }\n",
       "\n",
       "    .dataframe tbody tr th {\n",
       "        vertical-align: top;\n",
       "    }\n",
       "\n",
       "    .dataframe thead th {\n",
       "        text-align: right;\n",
       "    }\n",
       "</style>\n",
       "<table border=\"1\" class=\"dataframe\">\n",
       "  <thead>\n",
       "    <tr style=\"text-align: right;\">\n",
       "      <th></th>\n",
       "      <th>Модель</th>\n",
       "      <th>Параметры</th>\n",
       "      <th>Время обучения</th>\n",
       "      <th>Время предсказания</th>\n",
       "      <th>RMSE</th>\n",
       "    </tr>\n",
       "  </thead>\n",
       "  <tbody>\n",
       "    <tr>\n",
       "      <th>0</th>\n",
       "      <td>LinearRegression</td>\n",
       "      <td>default</td>\n",
       "      <td>0.1804 sec</td>\n",
       "      <td>0.014 sec</td>\n",
       "      <td>2991.06</td>\n",
       "    </tr>\n",
       "    <tr>\n",
       "      <th>1</th>\n",
       "      <td>XGBoost</td>\n",
       "      <td>{'max_depth': 8, 'n_estimators': 200}</td>\n",
       "      <td>18.8463 sec</td>\n",
       "      <td>0.1782 sec</td>\n",
       "      <td>1693.70</td>\n",
       "    </tr>\n",
       "  </tbody>\n",
       "</table>\n",
       "</div>"
      ],
      "text/plain": [
       "             Модель                              Параметры Время обучения  \\\n",
       "0  LinearRegression                                default     0.1804 sec   \n",
       "1           XGBoost  {'max_depth': 8, 'n_estimators': 200}    18.8463 sec   \n",
       "\n",
       "  Время предсказания     RMSE  \n",
       "0          0.014 sec  2991.06  \n",
       "1         0.1782 sec  1693.70  "
      ]
     },
     "execution_count": 60,
     "metadata": {},
     "output_type": "execute_result"
    }
   ],
   "source": [
    "result_df"
   ]
  },
  {
   "cell_type": "markdown",
   "metadata": {},
   "source": [
    "### Градиентный бустинг CatBoost"
   ]
  },
  {
   "cell_type": "markdown",
   "metadata": {},
   "source": [
    "Обучим модель градиентного бустинга `CatBoost`. "
   ]
  },
  {
   "cell_type": "code",
   "execution_count": 61,
   "metadata": {
    "scrolled": true
   },
   "outputs": [
    {
     "name": "stdout",
     "output_type": "stream",
     "text": [
      "\n",
      "bestTest = 2836.209978\n",
      "bestIteration = 49\n",
      "\n",
      "\n",
      "bestTest = 2832.283814\n",
      "bestIteration = 49\n",
      "\n",
      "\n",
      "bestTest = 2832.510245\n",
      "bestIteration = 49\n",
      "\n",
      "\n",
      "bestTest = 2310.232152\n",
      "bestIteration = 99\n",
      "\n",
      "\n",
      "bestTest = 2305.856612\n",
      "bestIteration = 99\n",
      "\n",
      "\n",
      "bestTest = 2307.786444\n",
      "bestIteration = 99\n",
      "\n",
      "\n",
      "bestTest = 2093.164066\n",
      "bestIteration = 199\n",
      "\n",
      "\n",
      "bestTest = 2090.880047\n",
      "bestIteration = 199\n",
      "\n",
      "\n",
      "bestTest = 2091.493292\n",
      "bestIteration = 199\n",
      "\n",
      "\n",
      "bestTest = 2685.583888\n",
      "bestIteration = 49\n",
      "\n",
      "\n",
      "bestTest = 2688.037542\n",
      "bestIteration = 49\n",
      "\n",
      "\n",
      "bestTest = 2689.164612\n",
      "bestIteration = 49\n",
      "\n",
      "\n",
      "bestTest = 2160.656238\n",
      "bestIteration = 99\n",
      "\n",
      "\n",
      "bestTest = 2160.335294\n",
      "bestIteration = 99\n",
      "\n",
      "\n",
      "bestTest = 2160.626077\n",
      "bestIteration = 99\n",
      "\n",
      "\n",
      "bestTest = 1964.554201\n",
      "bestIteration = 199\n",
      "\n",
      "\n",
      "bestTest = 1968.651937\n",
      "bestIteration = 199\n",
      "\n",
      "\n",
      "bestTest = 1964.264694\n",
      "bestIteration = 199\n",
      "\n",
      "\n",
      "bestTest = 2594.111231\n",
      "bestIteration = 49\n",
      "\n",
      "\n",
      "bestTest = 2595.848454\n",
      "bestIteration = 49\n",
      "\n",
      "\n",
      "bestTest = 2596.716714\n",
      "bestIteration = 49\n",
      "\n",
      "\n",
      "bestTest = 2064.766846\n",
      "bestIteration = 99\n",
      "\n",
      "\n",
      "bestTest = 2067.163838\n",
      "bestIteration = 99\n",
      "\n",
      "\n",
      "bestTest = 2065.75068\n",
      "bestIteration = 99\n",
      "\n",
      "\n",
      "bestTest = 1894.850958\n",
      "bestIteration = 199\n",
      "\n",
      "\n",
      "bestTest = 1894.426075\n",
      "bestIteration = 199\n",
      "\n",
      "\n",
      "bestTest = 1896.66026\n",
      "bestIteration = 199\n",
      "\n",
      "Training on fold [0/3]\n",
      "\n",
      "bestTest = 1912.971238\n",
      "bestIteration = 199\n",
      "\n",
      "Training on fold [1/3]\n",
      "\n",
      "bestTest = 1909.304445\n",
      "bestIteration = 199\n",
      "\n",
      "Training on fold [2/3]\n",
      "\n",
      "bestTest = 1902.438877\n",
      "bestIteration = 199\n",
      "\n",
      "CPU times: total: 6min 32s\n",
      "Wall time: 2min 3s\n"
     ]
    }
   ],
   "source": [
    "%%time\n",
    "\n",
    "model_cat = CatBoostRegressor(random_state=111, verbose=False)\n",
    "\n",
    "params = {'iterations': [50, 100, 200], \n",
    "         'depth': [4, 6, 8],\n",
    "         'l2_leaf_reg': [1, 3, 5]}\n",
    "\n",
    "result_gs_cat = model_cat.grid_search(params, X=train_ft, y=train_tg, verbose=False)"
   ]
  },
  {
   "cell_type": "markdown",
   "metadata": {},
   "source": [
    "Лучшими гиперпараметрами стали:"
   ]
  },
  {
   "cell_type": "code",
   "execution_count": 62,
   "metadata": {},
   "outputs": [
    {
     "data": {
      "text/plain": [
       "{'loss_function': 'RMSE',\n",
       " 'verbose': False,\n",
       " 'random_state': 111,\n",
       " 'depth': 8,\n",
       " 'l2_leaf_reg': 3,\n",
       " 'iterations': 200}"
      ]
     },
     "metadata": {},
     "output_type": "display_data"
    },
    {
     "data": {
      "text/plain": [
       "{'learn': {'RMSE': 1895.0632141741087}}"
      ]
     },
     "execution_count": 62,
     "metadata": {},
     "output_type": "execute_result"
    }
   ],
   "source": [
    "display(model_cat.get_params())\n",
    "model_cat.get_best_score()"
   ]
  },
  {
   "cell_type": "markdown",
   "metadata": {},
   "source": [
    "Обучим модель `CatBoost` с подобранными гиперпараметрами на тренировочной выборке:"
   ]
  },
  {
   "cell_type": "code",
   "execution_count": 63,
   "metadata": {},
   "outputs": [
    {
     "name": "stdout",
     "output_type": "stream",
     "text": [
      "Время обучения модели CatBoost: 8.2384 секунд\n"
     ]
    }
   ],
   "source": [
    "# Обучение модели CatBoost c выбранными гиперпарметрами на тренировоной выборке и расчет времени\n",
    "\n",
    "model_cat, time_fit_cat = fit_model('CatBoost', CatBoostRegressor(\n",
    "    random_state=111, loss_function='RMSE', depth=8, l2_leaf_reg=3, iterations=200, verbose=0), \n",
    "                                train_ft, train_tg)"
   ]
  },
  {
   "cell_type": "markdown",
   "metadata": {},
   "source": [
    "И узнаем качество нашей модели на тестовой выборке:"
   ]
  },
  {
   "cell_type": "code",
   "execution_count": 64,
   "metadata": {},
   "outputs": [
    {
     "name": "stdout",
     "output_type": "stream",
     "text": [
      "RMSE для модели CatBoost на валидационной выборке: 1916.48\n",
      "Время предсказания: 0.0369 секунд\n"
     ]
    }
   ],
   "source": [
    "# Предсказания для валидационной выборки, расчет метрики качества и времени\n",
    "\n",
    "rmse_cat, time_pred_cat = pred_model('CatBoost', model_cat, test_ft, test_tg)"
   ]
  },
  {
   "cell_type": "code",
   "execution_count": 65,
   "metadata": {},
   "outputs": [],
   "source": [
    "# Вывод результатов обучения модели CatBoost\n",
    "\n",
    "result.append({'Модель' : 'CatBoost', \n",
    "              'Параметры': model_cat.get_params(), \n",
    "              'Время обучения': f'{time_fit_cat} sec', \n",
    "              'Время предсказания': f'{time_pred_cat} sec', \n",
    "              'RMSE': rmse_cat})\n",
    "\n",
    "result_df = pd.DataFrame(result)"
   ]
  },
  {
   "cell_type": "code",
   "execution_count": 66,
   "metadata": {},
   "outputs": [
    {
     "data": {
      "text/html": [
       "<div>\n",
       "<style scoped>\n",
       "    .dataframe tbody tr th:only-of-type {\n",
       "        vertical-align: middle;\n",
       "    }\n",
       "\n",
       "    .dataframe tbody tr th {\n",
       "        vertical-align: top;\n",
       "    }\n",
       "\n",
       "    .dataframe thead th {\n",
       "        text-align: right;\n",
       "    }\n",
       "</style>\n",
       "<table border=\"1\" class=\"dataframe\">\n",
       "  <thead>\n",
       "    <tr style=\"text-align: right;\">\n",
       "      <th></th>\n",
       "      <th>Модель</th>\n",
       "      <th>Параметры</th>\n",
       "      <th>Время обучения</th>\n",
       "      <th>Время предсказания</th>\n",
       "      <th>RMSE</th>\n",
       "    </tr>\n",
       "  </thead>\n",
       "  <tbody>\n",
       "    <tr>\n",
       "      <th>0</th>\n",
       "      <td>LinearRegression</td>\n",
       "      <td>default</td>\n",
       "      <td>0.1804 sec</td>\n",
       "      <td>0.014 sec</td>\n",
       "      <td>2991.06</td>\n",
       "    </tr>\n",
       "    <tr>\n",
       "      <th>1</th>\n",
       "      <td>XGBoost</td>\n",
       "      <td>{'max_depth': 8, 'n_estimators': 200}</td>\n",
       "      <td>18.8463 sec</td>\n",
       "      <td>0.1782 sec</td>\n",
       "      <td>1693.70</td>\n",
       "    </tr>\n",
       "    <tr>\n",
       "      <th>2</th>\n",
       "      <td>CatBoost</td>\n",
       "      <td>{'iterations': 200, 'depth': 8, 'l2_leaf_reg':...</td>\n",
       "      <td>8.2384 sec</td>\n",
       "      <td>0.0369 sec</td>\n",
       "      <td>1916.48</td>\n",
       "    </tr>\n",
       "  </tbody>\n",
       "</table>\n",
       "</div>"
      ],
      "text/plain": [
       "             Модель                                          Параметры  \\\n",
       "0  LinearRegression                                            default   \n",
       "1           XGBoost              {'max_depth': 8, 'n_estimators': 200}   \n",
       "2          CatBoost  {'iterations': 200, 'depth': 8, 'l2_leaf_reg':...   \n",
       "\n",
       "  Время обучения Время предсказания     RMSE  \n",
       "0     0.1804 sec          0.014 sec  2991.06  \n",
       "1    18.8463 sec         0.1782 sec  1693.70  \n",
       "2     8.2384 sec         0.0369 sec  1916.48  "
      ]
     },
     "execution_count": 66,
     "metadata": {},
     "output_type": "execute_result"
    }
   ],
   "source": [
    "result_df"
   ]
  },
  {
   "cell_type": "markdown",
   "metadata": {},
   "source": [
    "### Градиентный бустинг LightGBM"
   ]
  },
  {
   "cell_type": "markdown",
   "metadata": {},
   "source": [
    "И последней рассмотренной моделью станет модель градиентного бустинга `LightGBM`."
   ]
  },
  {
   "cell_type": "code",
   "execution_count": 67,
   "metadata": {
    "scrolled": false
   },
   "outputs": [
    {
     "data": {
      "text/plain": [
       "GridSearchCV(cv=3, estimator=LGBMRegressor(random_state=111),\n",
       "             param_grid={'learning_rate': [0.1, 0.03], 'max_depth': [4, 6, 8],\n",
       "                         'n_estimators': [50, 100, 200]},\n",
       "             scoring=make_scorer(rmse_score, greater_is_better=False))"
      ]
     },
     "metadata": {},
     "output_type": "display_data"
    },
    {
     "name": "stdout",
     "output_type": "stream",
     "text": [
      "CPU times: total: 4min 41s\n",
      "Wall time: 1min 16s\n"
     ]
    },
    {
     "data": {
      "text/plain": [
       "{'learning_rate': 0.1, 'max_depth': 8, 'n_estimators': 200}"
      ]
     },
     "execution_count": 67,
     "metadata": {},
     "output_type": "execute_result"
    }
   ],
   "source": [
    "%%time\n",
    "\n",
    "model_lgbm = LGBMRegressor(random_state=111)\n",
    "\n",
    "params = {'max_depth': [4, 6, 8], \n",
    "         'n_estimators': [50, 100, 200], \n",
    "         'learning_rate': [0.1, 0.03]}\n",
    "\n",
    "best_params_lgbm, best_score_lgbm = CV(model_lgbm, params, train_ft, train_tg)\n",
    "best_params_lgbm"
   ]
  },
  {
   "cell_type": "markdown",
   "metadata": {},
   "source": [
    "Проведем обучение модели `LightGBM` с подобранными гиперпараметрами на тренировочной выборке:"
   ]
  },
  {
   "cell_type": "code",
   "execution_count": 68,
   "metadata": {},
   "outputs": [
    {
     "name": "stdout",
     "output_type": "stream",
     "text": [
      "Время обучения модели LightGBM: 2.4016 секунд\n"
     ]
    }
   ],
   "source": [
    "# Обучение модели LightGBM c выбранными гиперпарметрами на тренировоной выборке и расчет времени\n",
    "\n",
    "model_lgbm, time_fit_lgbm = fit_model('LightGBM', LGBMRegressor(random_state=111, \n",
    "                                                           learning_rate=0.1, max_depth=8, n_estimators=200), \n",
    "                                 train_ft, train_tg)"
   ]
  },
  {
   "cell_type": "markdown",
   "metadata": {},
   "source": [
    "Теперь опробуем обученную модель на валидационной выборке и узнаем ее качество:"
   ]
  },
  {
   "cell_type": "code",
   "execution_count": 69,
   "metadata": {},
   "outputs": [
    {
     "name": "stdout",
     "output_type": "stream",
     "text": [
      "RMSE для модели LightGBM на валидационной выборке: 1758.0\n",
      "Время предсказания: 0.51 секунд\n"
     ]
    }
   ],
   "source": [
    "# Предсказания для тестовой выборки, расчет метрики качества и времени\n",
    "\n",
    "rmse_lgbm, time_pred_lgbm = pred_model('LightGBM', model_lgbm, test_ft, test_tg)"
   ]
  },
  {
   "cell_type": "code",
   "execution_count": 70,
   "metadata": {},
   "outputs": [
    {
     "data": {
      "text/html": [
       "<div>\n",
       "<style scoped>\n",
       "    .dataframe tbody tr th:only-of-type {\n",
       "        vertical-align: middle;\n",
       "    }\n",
       "\n",
       "    .dataframe tbody tr th {\n",
       "        vertical-align: top;\n",
       "    }\n",
       "\n",
       "    .dataframe thead th {\n",
       "        text-align: right;\n",
       "    }\n",
       "</style>\n",
       "<table border=\"1\" class=\"dataframe\">\n",
       "  <thead>\n",
       "    <tr style=\"text-align: right;\">\n",
       "      <th></th>\n",
       "      <th>Модель</th>\n",
       "      <th>Параметры</th>\n",
       "      <th>Время обучения</th>\n",
       "      <th>Время предсказания</th>\n",
       "      <th>RMSE</th>\n",
       "    </tr>\n",
       "  </thead>\n",
       "  <tbody>\n",
       "    <tr>\n",
       "      <th>0</th>\n",
       "      <td>LinearRegression</td>\n",
       "      <td>default</td>\n",
       "      <td>0.1804 sec</td>\n",
       "      <td>0.014 sec</td>\n",
       "      <td>2991.06</td>\n",
       "    </tr>\n",
       "    <tr>\n",
       "      <th>1</th>\n",
       "      <td>XGBoost</td>\n",
       "      <td>{'max_depth': 8, 'n_estimators': 200}</td>\n",
       "      <td>18.8463 sec</td>\n",
       "      <td>0.1782 sec</td>\n",
       "      <td>1693.70</td>\n",
       "    </tr>\n",
       "    <tr>\n",
       "      <th>2</th>\n",
       "      <td>CatBoost</td>\n",
       "      <td>{'iterations': 200, 'depth': 8, 'l2_leaf_reg':...</td>\n",
       "      <td>8.2384 sec</td>\n",
       "      <td>0.0369 sec</td>\n",
       "      <td>1916.48</td>\n",
       "    </tr>\n",
       "    <tr>\n",
       "      <th>3</th>\n",
       "      <td>LightGBM</td>\n",
       "      <td>{'learning_rate': 0.1, 'max_depth': 8, 'n_esti...</td>\n",
       "      <td>2.4016</td>\n",
       "      <td>0.51</td>\n",
       "      <td>1758.00</td>\n",
       "    </tr>\n",
       "  </tbody>\n",
       "</table>\n",
       "</div>"
      ],
      "text/plain": [
       "             Модель                                          Параметры  \\\n",
       "0  LinearRegression                                            default   \n",
       "1           XGBoost              {'max_depth': 8, 'n_estimators': 200}   \n",
       "2          CatBoost  {'iterations': 200, 'depth': 8, 'l2_leaf_reg':...   \n",
       "3          LightGBM  {'learning_rate': 0.1, 'max_depth': 8, 'n_esti...   \n",
       "\n",
       "  Время обучения Время предсказания     RMSE  \n",
       "0     0.1804 sec          0.014 sec  2991.06  \n",
       "1    18.8463 sec         0.1782 sec  1693.70  \n",
       "2     8.2384 sec         0.0369 sec  1916.48  \n",
       "3         2.4016               0.51  1758.00  "
      ]
     },
     "execution_count": 70,
     "metadata": {},
     "output_type": "execute_result"
    }
   ],
   "source": [
    "# Вывод результатов обучения модели LightGBM\n",
    "\n",
    "result.append({'Модель' : 'LightGBM', \n",
    "              'Параметры': best_params_lgbm, \n",
    "              'Время обучения': time_fit_lgbm, \n",
    "              'Время предсказания': time_pred_lgbm, \n",
    "              'RMSE': rmse_lgbm})\n",
    "\n",
    "pd.DataFrame(result)"
   ]
  },
  {
   "cell_type": "markdown",
   "metadata": {},
   "source": [
    "## Анализ моделей"
   ]
  },
  {
   "cell_type": "code",
   "execution_count": 71,
   "metadata": {},
   "outputs": [
    {
     "data": {
      "text/html": [
       "<div>\n",
       "<style scoped>\n",
       "    .dataframe tbody tr th:only-of-type {\n",
       "        vertical-align: middle;\n",
       "    }\n",
       "\n",
       "    .dataframe tbody tr th {\n",
       "        vertical-align: top;\n",
       "    }\n",
       "\n",
       "    .dataframe thead th {\n",
       "        text-align: right;\n",
       "    }\n",
       "</style>\n",
       "<table border=\"1\" class=\"dataframe\">\n",
       "  <thead>\n",
       "    <tr style=\"text-align: right;\">\n",
       "      <th></th>\n",
       "      <th>Модель</th>\n",
       "      <th>Время обучения</th>\n",
       "      <th>Время предсказания</th>\n",
       "      <th>RMSE</th>\n",
       "    </tr>\n",
       "  </thead>\n",
       "  <tbody>\n",
       "    <tr>\n",
       "      <th>0</th>\n",
       "      <td>LinearModel</td>\n",
       "      <td>0.1804</td>\n",
       "      <td>0.0140</td>\n",
       "      <td>2991.06</td>\n",
       "    </tr>\n",
       "    <tr>\n",
       "      <th>1</th>\n",
       "      <td>XGBoost</td>\n",
       "      <td>18.8463</td>\n",
       "      <td>0.1782</td>\n",
       "      <td>1693.70</td>\n",
       "    </tr>\n",
       "    <tr>\n",
       "      <th>2</th>\n",
       "      <td>CatBoost</td>\n",
       "      <td>8.2384</td>\n",
       "      <td>0.0369</td>\n",
       "      <td>1916.48</td>\n",
       "    </tr>\n",
       "    <tr>\n",
       "      <th>3</th>\n",
       "      <td>LightGBM</td>\n",
       "      <td>2.4016</td>\n",
       "      <td>0.5100</td>\n",
       "      <td>1758.00</td>\n",
       "    </tr>\n",
       "  </tbody>\n",
       "</table>\n",
       "</div>"
      ],
      "text/plain": [
       "        Модель  Время обучения  Время предсказания     RMSE\n",
       "0  LinearModel          0.1804              0.0140  2991.06\n",
       "1      XGBoost         18.8463              0.1782  1693.70\n",
       "2     CatBoost          8.2384              0.0369  1916.48\n",
       "3     LightGBM          2.4016              0.5100  1758.00"
      ]
     },
     "execution_count": 71,
     "metadata": {},
     "output_type": "execute_result"
    }
   ],
   "source": [
    "pd.DataFrame({'Модель': ['LinearModel', 'XGBoost', 'CatBoost', 'LightGBM'], \n",
    "             'Время обучения': [time_fit_lr, time_fit_xgb, time_fit_cat, time_fit_lgbm], \n",
    "             'Время предсказания': [time_pred_lr, time_pred_xgb, time_pred_cat, time_pred_lgbm], \n",
    "             'RMSE': [rmse_lr, rmse_xgb, rmse_cat, rmse_lgbm]})"
   ]
  },
  {
   "cell_type": "markdown",
   "metadata": {},
   "source": [
    "* По значению метрики `RMSE` лучший результат показала модель градиентного бустинга `XGBoost`, однако на ее обучение потребовалось чуть больше времени по сравнению с остальными моделями.\n",
    "\n",
    "* Самую высокую скорость обучения показала модель линейной регрессии, однако качество у нее наихудшее. Второй по скорости обучения моделью стала модель градиентного бустинга `LightGBM`, причем по качеству эта модель находится на втором месте после модели `XGBoost`.\n",
    "\n",
    "* По скорости предсказания лучший результат показала модель линейной регрессии, а на втором месте оказалась модел градиентного бустинга `CatBoost`."
   ]
  },
  {
   "cell_type": "markdown",
   "metadata": {},
   "source": [
    "Конкурентами за место лучшей модели стали `XGBoost` и `LightGBM`. Выбор между ними стоит делать на основе того, какой из критериев более важен: затраченное время на обучения или же качество. В том случае, если на первом месте стоит качество предсказаний модели - стоит выбрать модель `XGBoost`, хотя она и тратит на обучение чуть больше времени. Если же важнее всего скорость - стоит выбрать модель `LightGBM`, тем более что по качеству она почти уступает модели `XGBoost`.\n",
    "\n",
    "Проверим эти две модели на адекватность в сравнении с константной моделью. "
   ]
  },
  {
   "cell_type": "code",
   "execution_count": 72,
   "metadata": {},
   "outputs": [
    {
     "name": "stdout",
     "output_type": "stream",
     "text": [
      "\n",
      "RMSE константной модели: 4722.68\n",
      "\n",
      "RMSE модели XGBoost на тестовой выборке: 1693.7\n",
      "RMSE модели LightGBM на тестовой выборке: 1758.0\n"
     ]
    }
   ],
   "source": [
    "# проверка с константной моделью\n",
    "constant_model = DummyRegressor(strategy='median').fit(train_ft, train_tg)\n",
    "constant_predictions = constant_model.predict(test_ft)\n",
    "const_result = rmse_score(test_tg, constant_predictions)\n",
    "print(f'\\nRMSE константной модели: {round(const_result, 2)}')\n",
    "\n",
    "print(f'\\nRMSE модели XGBoost на тестовой выборке: {rmse_xgb}')\n",
    "print(f'RMSE модели LightGBM на тестовой выборке: {rmse_lgbm}')"
   ]
  },
  {
   "cell_type": "markdown",
   "metadata": {},
   "source": [
    "Проверку на адекватность наши модели тоже прошли. "
   ]
  },
  {
   "cell_type": "markdown",
   "metadata": {},
   "source": [
    "## Итоги исследования"
   ]
  },
  {
   "cell_type": "markdown",
   "metadata": {},
   "source": [
    "Итак, в ходе исследования удалось обучить и проверить в деле четыре разных модели: LinearRegression, XGBoost, CatBoost, LightGBM.\n",
    "\n",
    "Каждая из моделей показала хорошие результаты хотя бы по одному из необходимых критериев, однако наиболее подходящими требованиям заказчика все же оказались модели градиентного бустинга **XGBoost** (лучшая по качеству) и **LightGBM** (лучшая по скорости обучения). "
   ]
  }
 ],
 "metadata": {
  "ExecuteTimeLog": [
   {
    "duration": 389,
    "start_time": "2022-04-28T13:26:45.252Z"
   },
   {
    "duration": 241,
    "start_time": "2022-04-28T13:27:04.505Z"
   },
   {
    "duration": 11072,
    "start_time": "2022-04-28T13:27:14.992Z"
   },
   {
    "duration": 121,
    "start_time": "2022-04-28T13:27:32.131Z"
   },
   {
    "duration": 45,
    "start_time": "2022-04-28T13:28:26.231Z"
   },
   {
    "duration": 7,
    "start_time": "2022-04-28T14:01:38.312Z"
   },
   {
    "duration": 7,
    "start_time": "2022-04-28T14:01:46.191Z"
   },
   {
    "duration": 9,
    "start_time": "2022-04-28T14:01:56.387Z"
   },
   {
    "duration": 7,
    "start_time": "2022-04-28T14:02:11.999Z"
   },
   {
    "duration": 580,
    "start_time": "2022-04-28T14:02:24.767Z"
   },
   {
    "duration": 232,
    "start_time": "2022-04-28T14:02:33.872Z"
   },
   {
    "duration": 266,
    "start_time": "2022-04-28T14:02:51.412Z"
   },
   {
    "duration": 5,
    "start_time": "2022-04-28T14:02:59.500Z"
   },
   {
    "duration": 6,
    "start_time": "2022-04-28T14:03:10.053Z"
   },
   {
    "duration": 21,
    "start_time": "2022-04-28T14:06:50.632Z"
   },
   {
    "duration": 9,
    "start_time": "2022-04-28T14:08:43.411Z"
   },
   {
    "duration": 51,
    "start_time": "2022-04-28T14:10:10.372Z"
   },
   {
    "duration": 40,
    "start_time": "2022-04-28T14:10:16.391Z"
   },
   {
    "duration": 24,
    "start_time": "2022-04-28T14:13:05.070Z"
   },
   {
    "duration": 6,
    "start_time": "2022-04-28T14:15:00.052Z"
   },
   {
    "duration": 204,
    "start_time": "2022-04-28T14:15:21.893Z"
   },
   {
    "duration": 5,
    "start_time": "2022-04-28T14:17:39.292Z"
   },
   {
    "duration": 2635,
    "start_time": "2022-04-28T14:18:16.133Z"
   },
   {
    "duration": 18,
    "start_time": "2022-04-28T14:18:25.831Z"
   },
   {
    "duration": 20,
    "start_time": "2022-04-28T14:20:44.133Z"
   },
   {
    "duration": 25,
    "start_time": "2022-04-28T14:21:36.953Z"
   },
   {
    "duration": 6,
    "start_time": "2022-04-28T14:25:55.313Z"
   },
   {
    "duration": 6,
    "start_time": "2022-04-28T14:28:35.533Z"
   },
   {
    "duration": 6,
    "start_time": "2022-04-28T14:30:09.383Z"
   },
   {
    "duration": 9,
    "start_time": "2022-04-28T14:30:13.433Z"
   },
   {
    "duration": 13,
    "start_time": "2022-04-28T14:35:36.910Z"
   },
   {
    "duration": 418,
    "start_time": "2022-04-28T14:36:02.481Z"
   },
   {
    "duration": 11472,
    "start_time": "2022-04-28T14:36:02.902Z"
   },
   {
    "duration": 143,
    "start_time": "2022-04-28T14:36:14.375Z"
   },
   {
    "duration": 71,
    "start_time": "2022-04-28T14:36:14.522Z"
   },
   {
    "duration": 12,
    "start_time": "2022-04-28T14:36:49.499Z"
   },
   {
    "duration": 39,
    "start_time": "2022-04-28T14:37:23.553Z"
   },
   {
    "duration": 2,
    "start_time": "2022-04-28T14:37:39.791Z"
   },
   {
    "duration": 38,
    "start_time": "2022-04-28T14:38:26.340Z"
   },
   {
    "duration": 50,
    "start_time": "2022-05-02T09:56:57.997Z"
   },
   {
    "duration": 402,
    "start_time": "2022-05-02T09:57:06.839Z"
   },
   {
    "duration": 859,
    "start_time": "2022-05-02T09:57:07.243Z"
   },
   {
    "duration": 150,
    "start_time": "2022-05-02T09:57:08.103Z"
   },
   {
    "duration": 29,
    "start_time": "2022-05-02T09:57:08.255Z"
   },
   {
    "duration": 58,
    "start_time": "2022-05-02T09:57:08.286Z"
   },
   {
    "duration": 122,
    "start_time": "2022-05-02T09:57:08.345Z"
   },
   {
    "duration": 106,
    "start_time": "2022-05-02T09:57:20.199Z"
   },
   {
    "duration": 115,
    "start_time": "2022-05-02T09:57:40.119Z"
   },
   {
    "duration": 107,
    "start_time": "2022-05-02T09:57:53.949Z"
   },
   {
    "duration": 39,
    "start_time": "2022-05-02T10:03:16.876Z"
   },
   {
    "duration": 406,
    "start_time": "2022-05-02T10:03:22.749Z"
   },
   {
    "duration": 926,
    "start_time": "2022-05-02T10:03:23.157Z"
   },
   {
    "duration": 160,
    "start_time": "2022-05-02T10:03:24.085Z"
   },
   {
    "duration": 31,
    "start_time": "2022-05-02T10:03:24.247Z"
   },
   {
    "duration": 69,
    "start_time": "2022-05-02T10:03:24.281Z"
   },
   {
    "duration": 139,
    "start_time": "2022-05-02T10:03:24.352Z"
   },
   {
    "duration": 132,
    "start_time": "2022-05-02T10:03:24.493Z"
   },
   {
    "duration": 419,
    "start_time": "2022-05-02T10:03:56.723Z"
   },
   {
    "duration": 899,
    "start_time": "2022-05-02T10:03:57.144Z"
   },
   {
    "duration": 153,
    "start_time": "2022-05-02T10:03:58.045Z"
   },
   {
    "duration": 38,
    "start_time": "2022-05-02T10:03:58.200Z"
   },
   {
    "duration": 51,
    "start_time": "2022-05-02T10:03:58.240Z"
   },
   {
    "duration": 145,
    "start_time": "2022-05-02T10:03:58.292Z"
   },
   {
    "duration": 112,
    "start_time": "2022-05-02T10:03:58.440Z"
   },
   {
    "duration": 234,
    "start_time": "2022-05-02T10:10:17.655Z"
   },
   {
    "duration": 6,
    "start_time": "2022-05-02T10:20:30.613Z"
   },
   {
    "duration": 20,
    "start_time": "2022-05-02T10:20:58.723Z"
   },
   {
    "duration": 1080,
    "start_time": "2022-05-02T10:21:34.523Z"
   },
   {
    "duration": 19,
    "start_time": "2022-05-02T13:53:51.174Z"
   },
   {
    "duration": 106,
    "start_time": "2022-05-02T13:54:24.394Z"
   },
   {
    "duration": 9,
    "start_time": "2022-05-02T13:54:32.199Z"
   },
   {
    "duration": 9,
    "start_time": "2022-05-02T13:54:43.979Z"
   },
   {
    "duration": 16,
    "start_time": "2022-05-02T13:55:17.707Z"
   },
   {
    "duration": 224,
    "start_time": "2022-05-02T13:55:25.129Z"
   },
   {
    "duration": 713,
    "start_time": "2022-05-02T13:58:18.542Z"
   },
   {
    "duration": 0,
    "start_time": "2022-05-02T13:59:34.561Z"
   },
   {
    "duration": 1231,
    "start_time": "2022-05-02T14:00:31.748Z"
   },
   {
    "duration": 850,
    "start_time": "2022-05-02T14:00:32.981Z"
   },
   {
    "duration": 135,
    "start_time": "2022-05-02T14:00:33.832Z"
   },
   {
    "duration": 29,
    "start_time": "2022-05-02T14:00:33.969Z"
   },
   {
    "duration": 54,
    "start_time": "2022-05-02T14:00:34.000Z"
   },
   {
    "duration": 138,
    "start_time": "2022-05-02T14:00:34.055Z"
   },
   {
    "duration": 56820,
    "start_time": "2022-05-02T14:00:34.194Z"
   },
   {
    "duration": 208,
    "start_time": "2022-05-02T14:01:31.023Z"
   },
   {
    "duration": 512,
    "start_time": "2022-05-02T14:01:31.233Z"
   },
   {
    "duration": 113,
    "start_time": "2022-05-02T14:01:31.747Z"
   },
   {
    "duration": 173,
    "start_time": "2022-05-02T14:05:45.605Z"
   },
   {
    "duration": 4,
    "start_time": "2022-05-02T14:06:06.106Z"
   },
   {
    "duration": 126,
    "start_time": "2022-05-02T14:06:11.327Z"
   },
   {
    "duration": 2629,
    "start_time": "2022-05-02T14:06:52.495Z"
   },
   {
    "duration": 1310,
    "start_time": "2022-05-02T14:07:07.235Z"
   },
   {
    "duration": 1590,
    "start_time": "2022-05-02T14:07:15.473Z"
   },
   {
    "duration": 1295,
    "start_time": "2022-05-02T14:07:31.496Z"
   },
   {
    "duration": 1622,
    "start_time": "2022-05-02T14:07:45.966Z"
   },
   {
    "duration": 1418,
    "start_time": "2022-05-02T14:08:35.555Z"
   },
   {
    "duration": 1368,
    "start_time": "2022-05-02T14:08:44.234Z"
   },
   {
    "duration": 1301,
    "start_time": "2022-05-02T14:08:49.893Z"
   },
   {
    "duration": 1466,
    "start_time": "2022-05-02T14:10:32.026Z"
   },
   {
    "duration": 3044,
    "start_time": "2022-05-02T14:11:33.870Z"
   },
   {
    "duration": 3143,
    "start_time": "2022-05-02T14:12:59.306Z"
   },
   {
    "duration": 3303,
    "start_time": "2022-05-02T14:13:45.536Z"
   },
   {
    "duration": 232,
    "start_time": "2022-05-02T14:14:02.837Z"
   },
   {
    "duration": 192,
    "start_time": "2022-05-02T14:15:16.151Z"
   },
   {
    "duration": 3053,
    "start_time": "2022-05-02T14:16:04.944Z"
   },
   {
    "duration": 3140,
    "start_time": "2022-05-02T14:16:57.516Z"
   },
   {
    "duration": 30,
    "start_time": "2022-05-02T14:22:07.514Z"
   },
   {
    "duration": 11,
    "start_time": "2022-05-02T14:22:22.934Z"
   },
   {
    "duration": 8,
    "start_time": "2022-05-02T14:22:34.141Z"
   },
   {
    "duration": 4,
    "start_time": "2022-05-02T14:23:33.015Z"
   },
   {
    "duration": 19,
    "start_time": "2022-05-02T14:25:24.203Z"
   },
   {
    "duration": 7,
    "start_time": "2022-05-02T14:26:03.105Z"
   },
   {
    "duration": 16,
    "start_time": "2022-05-02T14:29:16.026Z"
   },
   {
    "duration": 166,
    "start_time": "2022-05-02T14:29:22.194Z"
   },
   {
    "duration": 50,
    "start_time": "2022-05-02T14:29:25.336Z"
   },
   {
    "duration": 9,
    "start_time": "2022-05-02T14:29:40.703Z"
   },
   {
    "duration": 96,
    "start_time": "2022-05-02T14:30:12.156Z"
   },
   {
    "duration": 1253,
    "start_time": "2022-05-02T14:31:05.935Z"
   },
   {
    "duration": 871,
    "start_time": "2022-05-02T14:31:07.190Z"
   },
   {
    "duration": 159,
    "start_time": "2022-05-02T14:31:08.063Z"
   },
   {
    "duration": 30,
    "start_time": "2022-05-02T14:31:08.224Z"
   },
   {
    "duration": 43,
    "start_time": "2022-05-02T14:31:08.257Z"
   },
   {
    "duration": 134,
    "start_time": "2022-05-02T14:31:08.322Z"
   },
   {
    "duration": 4613,
    "start_time": "2022-05-02T14:31:08.458Z"
   },
   {
    "duration": 11,
    "start_time": "2022-05-02T14:31:13.073Z"
   },
   {
    "duration": 61,
    "start_time": "2022-05-02T14:31:13.086Z"
   },
   {
    "duration": 194,
    "start_time": "2022-05-02T14:31:13.149Z"
   },
   {
    "duration": 115,
    "start_time": "2022-05-02T14:31:13.345Z"
   },
   {
    "duration": 18,
    "start_time": "2022-05-02T14:33:06.875Z"
   },
   {
    "duration": 1692,
    "start_time": "2022-05-02T14:33:17.743Z"
   },
   {
    "duration": 1269,
    "start_time": "2022-05-02T14:33:19.438Z"
   },
   {
    "duration": 155,
    "start_time": "2022-05-02T14:33:20.709Z"
   },
   {
    "duration": 34,
    "start_time": "2022-05-02T14:33:20.866Z"
   },
   {
    "duration": 45,
    "start_time": "2022-05-02T14:33:20.922Z"
   },
   {
    "duration": 167,
    "start_time": "2022-05-02T14:33:20.969Z"
   },
   {
    "duration": 21,
    "start_time": "2022-05-02T14:33:22.930Z"
   },
   {
    "duration": 53,
    "start_time": "2022-05-02T14:34:15.481Z"
   },
   {
    "duration": 1343,
    "start_time": "2022-05-02T14:36:35.365Z"
   },
   {
    "duration": 1012,
    "start_time": "2022-05-02T14:36:36.710Z"
   },
   {
    "duration": 140,
    "start_time": "2022-05-02T14:36:37.724Z"
   },
   {
    "duration": 30,
    "start_time": "2022-05-02T14:36:37.866Z"
   },
   {
    "duration": 81,
    "start_time": "2022-05-02T14:36:37.899Z"
   },
   {
    "duration": 195,
    "start_time": "2022-05-02T14:36:37.982Z"
   },
   {
    "duration": 19,
    "start_time": "2022-05-02T14:36:38.179Z"
   },
   {
    "duration": 23,
    "start_time": "2022-05-02T14:36:38.200Z"
   },
   {
    "duration": 38,
    "start_time": "2022-05-02T14:36:38.225Z"
   },
   {
    "duration": 118,
    "start_time": "2022-05-02T14:36:38.266Z"
   },
   {
    "duration": 105,
    "start_time": "2022-05-02T14:36:38.386Z"
   },
   {
    "duration": 18,
    "start_time": "2022-05-02T14:43:14.663Z"
   },
   {
    "duration": 200,
    "start_time": "2022-05-02T14:44:14.473Z"
   },
   {
    "duration": 116,
    "start_time": "2022-05-02T14:46:35.502Z"
   },
   {
    "duration": 10,
    "start_time": "2022-05-02T14:46:45.291Z"
   },
   {
    "duration": 13,
    "start_time": "2022-05-02T14:46:52.181Z"
   },
   {
    "duration": 9,
    "start_time": "2022-05-02T14:47:11.772Z"
   },
   {
    "duration": 153,
    "start_time": "2022-05-02T14:47:25.403Z"
   },
   {
    "duration": 12,
    "start_time": "2022-05-02T14:47:39.123Z"
   },
   {
    "duration": 141,
    "start_time": "2022-05-02T14:47:44.292Z"
   },
   {
    "duration": 209,
    "start_time": "2022-05-02T14:49:51.178Z"
   },
   {
    "duration": 345,
    "start_time": "2022-05-02T14:54:56.254Z"
   },
   {
    "duration": 112,
    "start_time": "2022-05-02T14:57:48.442Z"
   },
   {
    "duration": 13,
    "start_time": "2022-05-02T14:58:17.292Z"
   },
   {
    "duration": 159,
    "start_time": "2022-05-02T14:58:24.512Z"
   },
   {
    "duration": 19,
    "start_time": "2022-05-02T14:58:35.042Z"
   },
   {
    "duration": 5,
    "start_time": "2022-05-02T14:58:48.312Z"
   },
   {
    "duration": 236,
    "start_time": "2022-05-02T14:59:01.163Z"
   },
   {
    "duration": 6,
    "start_time": "2022-05-02T14:59:04.222Z"
   },
   {
    "duration": 36,
    "start_time": "2022-05-02T14:59:24.012Z"
   },
   {
    "duration": 18,
    "start_time": "2022-05-02T15:05:06.842Z"
   },
   {
    "duration": 11,
    "start_time": "2022-05-02T15:06:33.322Z"
   },
   {
    "duration": 19,
    "start_time": "2022-05-02T15:06:36.712Z"
   },
   {
    "duration": 11,
    "start_time": "2022-05-02T15:16:33.933Z"
   },
   {
    "duration": 20,
    "start_time": "2022-05-02T15:17:01.163Z"
   },
   {
    "duration": 10,
    "start_time": "2022-05-02T15:17:13.333Z"
   },
   {
    "duration": 3,
    "start_time": "2022-05-02T15:22:33.242Z"
   },
   {
    "duration": 124,
    "start_time": "2022-05-02T15:22:41.053Z"
   },
   {
    "duration": 179,
    "start_time": "2022-05-02T15:22:56.782Z"
   },
   {
    "duration": 31,
    "start_time": "2022-05-02T15:24:16.680Z"
   },
   {
    "duration": 15,
    "start_time": "2022-05-02T15:25:14.743Z"
   },
   {
    "duration": 6,
    "start_time": "2022-05-02T15:25:22.482Z"
   },
   {
    "duration": 16,
    "start_time": "2022-05-02T15:25:29.243Z"
   },
   {
    "duration": 103,
    "start_time": "2022-05-02T15:25:34.932Z"
   },
   {
    "duration": 1668,
    "start_time": "2022-05-02T15:28:59.486Z"
   },
   {
    "duration": 862,
    "start_time": "2022-05-02T15:29:01.156Z"
   },
   {
    "duration": 256,
    "start_time": "2022-05-02T15:29:02.023Z"
   },
   {
    "duration": 30,
    "start_time": "2022-05-02T15:29:02.281Z"
   },
   {
    "duration": 66,
    "start_time": "2022-05-02T15:29:02.314Z"
   },
   {
    "duration": 226,
    "start_time": "2022-05-02T15:29:02.382Z"
   },
   {
    "duration": 19,
    "start_time": "2022-05-02T15:29:10.046Z"
   },
   {
    "duration": 12,
    "start_time": "2022-05-02T15:29:43.718Z"
   },
   {
    "duration": 60,
    "start_time": "2022-05-02T15:29:53.076Z"
   },
   {
    "duration": 84,
    "start_time": "2022-05-02T15:29:57.456Z"
   },
   {
    "duration": 23,
    "start_time": "2022-05-02T15:30:19.877Z"
   },
   {
    "duration": 20,
    "start_time": "2022-05-02T15:31:01.366Z"
   },
   {
    "duration": 122,
    "start_time": "2022-05-02T15:32:39.136Z"
   },
   {
    "duration": 1561,
    "start_time": "2022-05-02T15:33:40.155Z"
   },
   {
    "duration": 1009,
    "start_time": "2022-05-02T15:33:41.718Z"
   },
   {
    "duration": 159,
    "start_time": "2022-05-02T15:33:42.729Z"
   },
   {
    "duration": 35,
    "start_time": "2022-05-02T15:33:42.890Z"
   },
   {
    "duration": 43,
    "start_time": "2022-05-02T15:33:42.927Z"
   },
   {
    "duration": 250,
    "start_time": "2022-05-02T15:33:42.972Z"
   },
   {
    "duration": 18,
    "start_time": "2022-05-02T15:33:43.224Z"
   },
   {
    "duration": 10,
    "start_time": "2022-05-02T15:33:43.244Z"
   },
   {
    "duration": 117,
    "start_time": "2022-05-02T15:33:52.368Z"
   },
   {
    "duration": 144,
    "start_time": "2022-05-02T15:34:06.598Z"
   },
   {
    "duration": 89,
    "start_time": "2022-05-02T15:34:16.905Z"
   },
   {
    "duration": 220,
    "start_time": "2022-05-02T15:34:20.364Z"
   },
   {
    "duration": 156,
    "start_time": "2022-05-02T15:34:56.975Z"
   },
   {
    "duration": 141,
    "start_time": "2022-05-02T15:35:17.522Z"
   },
   {
    "duration": 1610,
    "start_time": "2022-05-04T10:05:16.305Z"
   },
   {
    "duration": 715,
    "start_time": "2022-05-04T10:05:17.917Z"
   },
   {
    "duration": 118,
    "start_time": "2022-05-04T10:05:18.634Z"
   },
   {
    "duration": 26,
    "start_time": "2022-05-04T10:05:18.754Z"
   },
   {
    "duration": 50,
    "start_time": "2022-05-04T10:05:18.783Z"
   },
   {
    "duration": 188,
    "start_time": "2022-05-04T10:05:18.835Z"
   },
   {
    "duration": 16,
    "start_time": "2022-05-04T10:05:19.025Z"
   },
   {
    "duration": 9,
    "start_time": "2022-05-04T10:05:19.043Z"
   },
   {
    "duration": 35,
    "start_time": "2022-05-04T10:05:19.054Z"
   },
   {
    "duration": 177,
    "start_time": "2022-05-04T10:05:44.848Z"
   },
   {
    "duration": 106,
    "start_time": "2022-05-04T10:08:03.813Z"
   },
   {
    "duration": 127,
    "start_time": "2022-05-04T10:08:19.150Z"
   },
   {
    "duration": 2300,
    "start_time": "2022-05-04T13:43:54.800Z"
   },
   {
    "duration": 1276,
    "start_time": "2022-05-04T13:43:57.103Z"
   },
   {
    "duration": 177,
    "start_time": "2022-05-04T13:43:58.381Z"
   },
   {
    "duration": 42,
    "start_time": "2022-05-04T13:43:58.561Z"
   },
   {
    "duration": 59,
    "start_time": "2022-05-04T13:43:58.627Z"
   },
   {
    "duration": 315,
    "start_time": "2022-05-04T13:43:58.689Z"
   },
   {
    "duration": 34,
    "start_time": "2022-05-04T13:43:59.007Z"
   },
   {
    "duration": 14,
    "start_time": "2022-05-04T13:43:59.044Z"
   },
   {
    "duration": 89,
    "start_time": "2022-05-04T13:43:59.060Z"
   },
   {
    "duration": 300,
    "start_time": "2022-05-04T13:44:09.764Z"
   },
   {
    "duration": 245,
    "start_time": "2022-05-04T13:44:23.099Z"
   },
   {
    "duration": 193,
    "start_time": "2022-05-04T13:44:31.779Z"
   },
   {
    "duration": 42,
    "start_time": "2022-05-04T13:48:35.239Z"
   },
   {
    "duration": 198,
    "start_time": "2022-05-04T13:59:46.942Z"
   },
   {
    "duration": 43,
    "start_time": "2022-05-04T14:02:17.148Z"
   },
   {
    "duration": 126,
    "start_time": "2022-05-04T14:05:17.779Z"
   },
   {
    "duration": 134,
    "start_time": "2022-05-04T14:05:27.280Z"
   },
   {
    "duration": 125,
    "start_time": "2022-05-04T14:15:27.920Z"
   },
   {
    "duration": 175,
    "start_time": "2022-05-04T14:16:01.079Z"
   },
   {
    "duration": 134,
    "start_time": "2022-05-04T14:16:04.299Z"
   },
   {
    "duration": 188,
    "start_time": "2022-05-04T14:17:00.499Z"
   },
   {
    "duration": 2113,
    "start_time": "2022-05-04T14:19:00.043Z"
   },
   {
    "duration": 1188,
    "start_time": "2022-05-04T14:19:02.159Z"
   },
   {
    "duration": 198,
    "start_time": "2022-05-04T14:19:03.349Z"
   },
   {
    "duration": 46,
    "start_time": "2022-05-04T14:19:03.550Z"
   },
   {
    "duration": 87,
    "start_time": "2022-05-04T14:19:03.600Z"
   },
   {
    "duration": 313,
    "start_time": "2022-05-04T14:19:03.689Z"
   },
   {
    "duration": 36,
    "start_time": "2022-05-04T14:19:04.005Z"
   },
   {
    "duration": 13,
    "start_time": "2022-05-04T14:19:04.044Z"
   },
   {
    "duration": 88,
    "start_time": "2022-05-04T14:19:04.060Z"
   },
   {
    "duration": 284,
    "start_time": "2022-05-04T14:19:11.160Z"
   },
   {
    "duration": 36,
    "start_time": "2022-05-04T14:19:46.779Z"
   },
   {
    "duration": 19,
    "start_time": "2022-05-04T14:20:07.460Z"
   },
   {
    "duration": 8,
    "start_time": "2022-05-04T14:20:31.941Z"
   },
   {
    "duration": 8,
    "start_time": "2022-05-04T14:20:58.980Z"
   },
   {
    "duration": 19,
    "start_time": "2022-05-04T14:21:40.200Z"
   },
   {
    "duration": 18,
    "start_time": "2022-05-04T14:21:51.961Z"
   },
   {
    "duration": 20,
    "start_time": "2022-05-04T14:21:58.960Z"
   },
   {
    "duration": 122,
    "start_time": "2022-05-04T14:22:19.099Z"
   },
   {
    "duration": 182,
    "start_time": "2022-05-04T14:23:11.701Z"
   },
   {
    "duration": 122,
    "start_time": "2022-05-04T14:23:15.640Z"
   },
   {
    "duration": 31,
    "start_time": "2022-05-04T14:23:53.299Z"
   },
   {
    "duration": 2113,
    "start_time": "2022-05-04T14:25:02.367Z"
   },
   {
    "duration": 1184,
    "start_time": "2022-05-04T14:25:04.482Z"
   },
   {
    "duration": 182,
    "start_time": "2022-05-04T14:25:05.668Z"
   },
   {
    "duration": 42,
    "start_time": "2022-05-04T14:25:05.853Z"
   },
   {
    "duration": 81,
    "start_time": "2022-05-04T14:25:05.898Z"
   },
   {
    "duration": 298,
    "start_time": "2022-05-04T14:25:05.982Z"
   },
   {
    "duration": 23,
    "start_time": "2022-05-04T14:25:06.282Z"
   },
   {
    "duration": 35,
    "start_time": "2022-05-04T14:25:06.307Z"
   },
   {
    "duration": 80,
    "start_time": "2022-05-04T14:25:06.344Z"
   },
   {
    "duration": 13,
    "start_time": "2022-05-04T14:25:09.880Z"
   },
   {
    "duration": 41,
    "start_time": "2022-05-04T14:25:17.995Z"
   },
   {
    "duration": 259,
    "start_time": "2022-05-04T14:25:28.156Z"
   },
   {
    "duration": 31,
    "start_time": "2022-05-04T14:25:35.936Z"
   },
   {
    "duration": 2010,
    "start_time": "2022-05-04T14:26:09.381Z"
   },
   {
    "duration": 1161,
    "start_time": "2022-05-04T14:26:11.393Z"
   },
   {
    "duration": 220,
    "start_time": "2022-05-04T14:26:12.556Z"
   },
   {
    "duration": 54,
    "start_time": "2022-05-04T14:26:12.778Z"
   },
   {
    "duration": 76,
    "start_time": "2022-05-04T14:26:12.837Z"
   },
   {
    "duration": 315,
    "start_time": "2022-05-04T14:26:12.915Z"
   },
   {
    "duration": 21,
    "start_time": "2022-05-04T14:26:13.233Z"
   },
   {
    "duration": 14,
    "start_time": "2022-05-04T14:26:13.256Z"
   },
   {
    "duration": 105,
    "start_time": "2022-05-04T14:26:13.273Z"
   },
   {
    "duration": 13,
    "start_time": "2022-05-04T14:26:19.378Z"
   },
   {
    "duration": 40,
    "start_time": "2022-05-04T14:26:26.594Z"
   },
   {
    "duration": 253,
    "start_time": "2022-05-04T14:26:36.298Z"
   },
   {
    "duration": 31,
    "start_time": "2022-05-04T14:26:41.898Z"
   },
   {
    "duration": 2514,
    "start_time": "2022-05-04T14:27:36.504Z"
   },
   {
    "duration": 1257,
    "start_time": "2022-05-04T14:27:39.021Z"
   },
   {
    "duration": 176,
    "start_time": "2022-05-04T14:27:40.280Z"
   },
   {
    "duration": 41,
    "start_time": "2022-05-04T14:27:40.458Z"
   },
   {
    "duration": 60,
    "start_time": "2022-05-04T14:27:40.526Z"
   },
   {
    "duration": 302,
    "start_time": "2022-05-04T14:27:40.588Z"
   },
   {
    "duration": 33,
    "start_time": "2022-05-04T14:27:40.892Z"
   },
   {
    "duration": 15,
    "start_time": "2022-05-04T14:27:40.927Z"
   },
   {
    "duration": 85,
    "start_time": "2022-05-04T14:27:40.944Z"
   },
   {
    "duration": 254,
    "start_time": "2022-05-04T14:27:41.031Z"
   },
   {
    "duration": 32,
    "start_time": "2022-05-04T14:27:43.201Z"
   },
   {
    "duration": 12,
    "start_time": "2022-05-04T14:28:12.363Z"
   },
   {
    "duration": 9,
    "start_time": "2022-05-04T14:28:41.382Z"
   },
   {
    "duration": 130,
    "start_time": "2022-05-04T14:30:34.215Z"
   },
   {
    "duration": 188,
    "start_time": "2022-05-04T14:33:43.499Z"
   },
   {
    "duration": 160,
    "start_time": "2022-05-04T14:33:49.999Z"
   },
   {
    "duration": 12,
    "start_time": "2022-05-04T14:33:56.497Z"
   },
   {
    "duration": 12,
    "start_time": "2022-05-04T14:34:16.299Z"
   },
   {
    "duration": 1970,
    "start_time": "2022-05-04T14:34:25.575Z"
   },
   {
    "duration": 1250,
    "start_time": "2022-05-04T14:34:27.547Z"
   },
   {
    "duration": 173,
    "start_time": "2022-05-04T14:34:28.799Z"
   },
   {
    "duration": 54,
    "start_time": "2022-05-04T14:34:28.973Z"
   },
   {
    "duration": 62,
    "start_time": "2022-05-04T14:34:29.030Z"
   },
   {
    "duration": 304,
    "start_time": "2022-05-04T14:34:29.094Z"
   },
   {
    "duration": 35,
    "start_time": "2022-05-04T14:34:29.400Z"
   },
   {
    "duration": 13,
    "start_time": "2022-05-04T14:34:29.438Z"
   },
   {
    "duration": 73,
    "start_time": "2022-05-04T14:34:29.453Z"
   },
   {
    "duration": 248,
    "start_time": "2022-05-04T14:34:29.528Z"
   },
   {
    "duration": 8,
    "start_time": "2022-05-04T14:34:29.778Z"
   },
   {
    "duration": 299,
    "start_time": "2022-05-04T14:34:31.962Z"
   },
   {
    "duration": 166,
    "start_time": "2022-05-04T14:34:48.554Z"
   },
   {
    "duration": 2050,
    "start_time": "2022-05-04T14:35:28.985Z"
   },
   {
    "duration": 1188,
    "start_time": "2022-05-04T14:35:31.038Z"
   },
   {
    "duration": 175,
    "start_time": "2022-05-04T14:35:32.228Z"
   },
   {
    "duration": 60,
    "start_time": "2022-05-04T14:35:32.405Z"
   },
   {
    "duration": 76,
    "start_time": "2022-05-04T14:35:32.468Z"
   },
   {
    "duration": 295,
    "start_time": "2022-05-04T14:35:32.546Z"
   },
   {
    "duration": 21,
    "start_time": "2022-05-04T14:35:32.843Z"
   },
   {
    "duration": 15,
    "start_time": "2022-05-04T14:35:32.866Z"
   },
   {
    "duration": 93,
    "start_time": "2022-05-04T14:35:32.883Z"
   },
   {
    "duration": 265,
    "start_time": "2022-05-04T14:35:32.979Z"
   },
   {
    "duration": 180,
    "start_time": "2022-05-04T14:35:36.815Z"
   },
   {
    "duration": 4,
    "start_time": "2022-05-04T14:50:56.631Z"
   },
   {
    "duration": 1144,
    "start_time": "2022-05-04T14:52:37.493Z"
   },
   {
    "duration": 20,
    "start_time": "2022-05-04T14:52:51.991Z"
   },
   {
    "duration": 25,
    "start_time": "2022-05-04T14:53:02.071Z"
   },
   {
    "duration": 1988,
    "start_time": "2022-05-04T14:54:37.051Z"
   },
   {
    "duration": 0,
    "start_time": "2022-05-04T14:54:39.041Z"
   },
   {
    "duration": 1873,
    "start_time": "2022-05-04T14:54:59.680Z"
   },
   {
    "duration": 775,
    "start_time": "2022-05-04T14:57:10.901Z"
   },
   {
    "duration": 774,
    "start_time": "2022-05-04T14:57:18.538Z"
   },
   {
    "duration": 814,
    "start_time": "2022-05-04T14:57:24.468Z"
   },
   {
    "duration": 16,
    "start_time": "2022-05-04T14:57:27.810Z"
   },
   {
    "duration": 847,
    "start_time": "2022-05-04T14:59:11.950Z"
   },
   {
    "duration": 93,
    "start_time": "2022-05-04T15:00:31.972Z"
   },
   {
    "duration": 2228,
    "start_time": "2022-05-04T15:01:02.321Z"
   },
   {
    "duration": 1163,
    "start_time": "2022-05-04T15:01:04.552Z"
   },
   {
    "duration": 188,
    "start_time": "2022-05-04T15:01:05.717Z"
   },
   {
    "duration": 51,
    "start_time": "2022-05-04T15:01:05.907Z"
   },
   {
    "duration": 71,
    "start_time": "2022-05-04T15:01:05.961Z"
   },
   {
    "duration": 310,
    "start_time": "2022-05-04T15:01:06.034Z"
   },
   {
    "duration": 22,
    "start_time": "2022-05-04T15:01:06.347Z"
   },
   {
    "duration": 13,
    "start_time": "2022-05-04T15:01:06.372Z"
   },
   {
    "duration": 98,
    "start_time": "2022-05-04T15:01:06.388Z"
   },
   {
    "duration": 257,
    "start_time": "2022-05-04T15:01:06.489Z"
   },
   {
    "duration": 205,
    "start_time": "2022-05-04T15:01:06.749Z"
   },
   {
    "duration": 166,
    "start_time": "2022-05-04T15:01:06.956Z"
   },
   {
    "duration": 136,
    "start_time": "2022-05-04T15:01:07.124Z"
   },
   {
    "duration": 840,
    "start_time": "2022-05-04T15:01:07.263Z"
   },
   {
    "duration": 85,
    "start_time": "2022-05-04T15:01:08.105Z"
   },
   {
    "duration": 115,
    "start_time": "2022-05-04T15:01:08.192Z"
   },
   {
    "duration": 92,
    "start_time": "2022-05-04T15:04:42.051Z"
   },
   {
    "duration": 19,
    "start_time": "2022-05-04T15:04:52.572Z"
   },
   {
    "duration": 30,
    "start_time": "2022-05-04T15:05:04.282Z"
   },
   {
    "duration": 30,
    "start_time": "2022-05-04T15:05:16.411Z"
   },
   {
    "duration": 5,
    "start_time": "2022-05-04T15:15:51.940Z"
   },
   {
    "duration": 101,
    "start_time": "2022-05-04T15:24:21.738Z"
   },
   {
    "duration": 5,
    "start_time": "2022-05-04T15:27:02.709Z"
   },
   {
    "duration": 5,
    "start_time": "2022-05-04T15:27:56.610Z"
   },
   {
    "duration": 19,
    "start_time": "2022-05-04T15:30:11.618Z"
   },
   {
    "duration": 240,
    "start_time": "2022-05-04T15:34:51.628Z"
   },
   {
    "duration": 5,
    "start_time": "2022-05-04T15:35:12.749Z"
   },
   {
    "duration": 248,
    "start_time": "2022-05-04T15:35:19.529Z"
   },
   {
    "duration": 20,
    "start_time": "2022-05-04T15:35:31.428Z"
   },
   {
    "duration": 251,
    "start_time": "2022-05-04T15:36:12.428Z"
   },
   {
    "duration": 254,
    "start_time": "2022-05-04T16:02:44.519Z"
   },
   {
    "duration": 268,
    "start_time": "2022-05-04T16:03:02.013Z"
   },
   {
    "duration": 239,
    "start_time": "2022-05-04T16:03:08.359Z"
   },
   {
    "duration": 5,
    "start_time": "2022-05-04T16:08:22.790Z"
   },
   {
    "duration": 5,
    "start_time": "2022-05-04T16:09:17.690Z"
   },
   {
    "duration": 1741,
    "start_time": "2022-05-05T12:45:35.007Z"
   },
   {
    "duration": 3508,
    "start_time": "2022-05-05T12:45:36.750Z"
   },
   {
    "duration": 138,
    "start_time": "2022-05-05T12:45:40.259Z"
   },
   {
    "duration": 30,
    "start_time": "2022-05-05T12:45:40.398Z"
   },
   {
    "duration": 59,
    "start_time": "2022-05-05T12:45:40.434Z"
   },
   {
    "duration": 229,
    "start_time": "2022-05-05T12:45:40.495Z"
   },
   {
    "duration": 24,
    "start_time": "2022-05-05T12:45:40.726Z"
   },
   {
    "duration": 10,
    "start_time": "2022-05-05T12:45:40.752Z"
   },
   {
    "duration": 42,
    "start_time": "2022-05-05T12:45:40.764Z"
   },
   {
    "duration": 200,
    "start_time": "2022-05-05T12:45:40.808Z"
   },
   {
    "duration": 146,
    "start_time": "2022-05-05T12:45:41.010Z"
   },
   {
    "duration": 111,
    "start_time": "2022-05-05T12:45:41.158Z"
   },
   {
    "duration": 110,
    "start_time": "2022-05-05T12:45:41.271Z"
   },
   {
    "duration": 571,
    "start_time": "2022-05-05T12:45:41.385Z"
   },
   {
    "duration": 49,
    "start_time": "2022-05-05T12:45:41.959Z"
   },
   {
    "duration": 142,
    "start_time": "2022-05-05T12:45:42.010Z"
   },
   {
    "duration": 5,
    "start_time": "2022-05-05T12:45:42.154Z"
   },
   {
    "duration": 206,
    "start_time": "2022-05-05T12:45:42.160Z"
   },
   {
    "duration": 114,
    "start_time": "2022-05-05T13:08:22.069Z"
   },
   {
    "duration": 10,
    "start_time": "2022-05-05T13:08:44.118Z"
   },
   {
    "duration": 24,
    "start_time": "2022-05-05T13:08:53.700Z"
   },
   {
    "duration": 134,
    "start_time": "2022-05-05T13:34:18.970Z"
   },
   {
    "duration": 4,
    "start_time": "2022-05-05T13:34:39.011Z"
   },
   {
    "duration": 14,
    "start_time": "2022-05-05T13:38:00.700Z"
   },
   {
    "duration": 12,
    "start_time": "2022-05-05T13:38:08.610Z"
   },
   {
    "duration": 4,
    "start_time": "2022-05-05T13:38:15.771Z"
   },
   {
    "duration": 10,
    "start_time": "2022-05-05T13:38:21.462Z"
   },
   {
    "duration": 13,
    "start_time": "2022-05-05T13:49:20.659Z"
   },
   {
    "duration": 3,
    "start_time": "2022-05-05T13:49:44.614Z"
   },
   {
    "duration": 15,
    "start_time": "2022-05-05T13:49:49.573Z"
   },
   {
    "duration": 3,
    "start_time": "2022-05-05T13:49:58.480Z"
   },
   {
    "duration": 15,
    "start_time": "2022-05-05T13:50:03.810Z"
   },
   {
    "duration": 3,
    "start_time": "2022-05-05T13:50:36.751Z"
   },
   {
    "duration": 1274,
    "start_time": "2022-05-05T13:50:47.211Z"
   },
   {
    "duration": 3,
    "start_time": "2022-05-05T13:59:08.460Z"
   },
   {
    "duration": 4,
    "start_time": "2022-05-05T13:59:11.548Z"
   },
   {
    "duration": 1266,
    "start_time": "2022-05-05T13:59:14.308Z"
   },
   {
    "duration": 58,
    "start_time": "2022-05-05T14:27:48.094Z"
   },
   {
    "duration": 18,
    "start_time": "2022-05-05T14:30:37.058Z"
   },
   {
    "duration": 81,
    "start_time": "2022-05-05T14:33:33.611Z"
   },
   {
    "duration": 11,
    "start_time": "2022-05-05T14:33:50.298Z"
   },
   {
    "duration": 11,
    "start_time": "2022-05-05T14:34:08.985Z"
   },
   {
    "duration": 14,
    "start_time": "2022-05-05T14:40:26.979Z"
   },
   {
    "duration": 12,
    "start_time": "2022-05-05T14:41:16.045Z"
   },
   {
    "duration": 218,
    "start_time": "2022-05-05T14:42:25.817Z"
   },
   {
    "duration": 121,
    "start_time": "2022-05-05T14:42:31.018Z"
   },
   {
    "duration": 221,
    "start_time": "2022-05-05T14:42:49.317Z"
   },
   {
    "duration": 122,
    "start_time": "2022-05-05T14:42:55.017Z"
   },
   {
    "duration": 16,
    "start_time": "2022-05-05T14:44:50.138Z"
   },
   {
    "duration": 11,
    "start_time": "2022-05-05T14:45:04.422Z"
   },
   {
    "duration": 145,
    "start_time": "2022-05-05T14:46:24.557Z"
   },
   {
    "duration": 21,
    "start_time": "2022-05-05T14:46:29.018Z"
   },
   {
    "duration": 56,
    "start_time": "2022-05-05T14:50:57.394Z"
   },
   {
    "duration": 4,
    "start_time": "2022-05-05T14:51:23.046Z"
   },
   {
    "duration": 88,
    "start_time": "2022-05-05T14:54:59.958Z"
   },
   {
    "duration": 138,
    "start_time": "2022-05-05T14:55:27.897Z"
   },
   {
    "duration": 57,
    "start_time": "2022-05-05T14:55:45.578Z"
   },
   {
    "duration": 12,
    "start_time": "2022-05-05T14:55:51.938Z"
   },
   {
    "duration": 57,
    "start_time": "2022-05-05T14:55:56.098Z"
   },
   {
    "duration": 59,
    "start_time": "2022-05-05T14:56:01.118Z"
   },
   {
    "duration": 11,
    "start_time": "2022-05-05T14:57:36.978Z"
   },
   {
    "duration": 10,
    "start_time": "2022-05-05T14:57:42.141Z"
   },
   {
    "duration": 10,
    "start_time": "2022-05-05T14:57:47.638Z"
   },
   {
    "duration": 11,
    "start_time": "2022-05-05T14:57:57.026Z"
   },
   {
    "duration": 11,
    "start_time": "2022-05-05T14:58:14.609Z"
   },
   {
    "duration": 67,
    "start_time": "2022-05-05T14:58:24.698Z"
   },
   {
    "duration": 12,
    "start_time": "2022-05-05T14:58:27.178Z"
   },
   {
    "duration": 55,
    "start_time": "2022-05-05T15:00:40.283Z"
   },
   {
    "duration": 42,
    "start_time": "2022-05-05T15:00:42.694Z"
   },
   {
    "duration": 11,
    "start_time": "2022-05-05T15:01:00.535Z"
   },
   {
    "duration": 61,
    "start_time": "2022-05-05T15:01:49.173Z"
   },
   {
    "duration": 14,
    "start_time": "2022-05-05T15:01:50.714Z"
   },
   {
    "duration": 10,
    "start_time": "2022-05-05T15:01:52.502Z"
   },
   {
    "duration": 12,
    "start_time": "2022-05-05T15:03:05.553Z"
   },
   {
    "duration": 10,
    "start_time": "2022-05-05T15:03:14.294Z"
   },
   {
    "duration": 12,
    "start_time": "2022-05-05T15:03:29.934Z"
   },
   {
    "duration": 7558,
    "start_time": "2022-05-05T15:24:01.964Z"
   },
   {
    "duration": 7677,
    "start_time": "2022-05-05T15:25:15.358Z"
   },
   {
    "duration": 1635,
    "start_time": "2022-05-05T15:28:40.416Z"
   },
   {
    "duration": 4,
    "start_time": "2022-05-05T15:28:49.138Z"
   },
   {
    "duration": 908,
    "start_time": "2022-05-05T15:28:49.144Z"
   },
   {
    "duration": 157,
    "start_time": "2022-05-05T15:28:50.054Z"
   },
   {
    "duration": 39,
    "start_time": "2022-05-05T15:28:50.213Z"
   },
   {
    "duration": 51,
    "start_time": "2022-05-05T15:28:50.255Z"
   },
   {
    "duration": 248,
    "start_time": "2022-05-05T15:28:50.308Z"
   },
   {
    "duration": 18,
    "start_time": "2022-05-05T15:28:50.558Z"
   },
   {
    "duration": 9,
    "start_time": "2022-05-05T15:28:50.578Z"
   },
   {
    "duration": 67,
    "start_time": "2022-05-05T15:28:50.589Z"
   },
   {
    "duration": 182,
    "start_time": "2022-05-05T15:28:50.658Z"
   },
   {
    "duration": 143,
    "start_time": "2022-05-05T15:28:50.842Z"
   },
   {
    "duration": 115,
    "start_time": "2022-05-05T15:28:50.987Z"
   },
   {
    "duration": 103,
    "start_time": "2022-05-05T15:28:51.104Z"
   },
   {
    "duration": 588,
    "start_time": "2022-05-05T15:28:51.210Z"
   },
   {
    "duration": 66,
    "start_time": "2022-05-05T15:28:51.800Z"
   },
   {
    "duration": 123,
    "start_time": "2022-05-05T15:28:51.870Z"
   },
   {
    "duration": 4,
    "start_time": "2022-05-05T15:28:51.994Z"
   },
   {
    "duration": 210,
    "start_time": "2022-05-05T15:28:51.999Z"
   },
   {
    "duration": 3,
    "start_time": "2022-05-05T15:28:52.211Z"
   },
   {
    "duration": 18,
    "start_time": "2022-05-05T15:28:52.216Z"
   },
   {
    "duration": 107,
    "start_time": "2022-05-05T15:28:52.236Z"
   },
   {
    "duration": 96,
    "start_time": "2022-05-05T15:28:52.345Z"
   },
   {
    "duration": 191,
    "start_time": "2022-05-05T15:28:52.443Z"
   },
   {
    "duration": 6,
    "start_time": "2022-05-05T15:32:16.576Z"
   },
   {
    "duration": 7,
    "start_time": "2022-05-05T15:39:49.376Z"
   },
   {
    "duration": 137,
    "start_time": "2022-05-05T15:41:52.776Z"
   },
   {
    "duration": 5,
    "start_time": "2022-05-05T15:42:03.996Z"
   },
   {
    "duration": 6,
    "start_time": "2022-05-05T15:44:13.702Z"
   },
   {
    "duration": 22355,
    "start_time": "2022-05-05T15:56:19.515Z"
   },
   {
    "duration": 19555,
    "start_time": "2022-05-05T15:56:51.095Z"
   },
   {
    "duration": 30084,
    "start_time": "2022-05-05T15:57:14.175Z"
   },
   {
    "duration": 45547,
    "start_time": "2022-05-05T15:58:01.814Z"
   },
   {
    "duration": 3,
    "start_time": "2022-05-05T15:59:09.203Z"
   },
   {
    "duration": 34044,
    "start_time": "2022-05-05T15:59:13.514Z"
   },
   {
    "duration": 1560,
    "start_time": "2022-05-05T16:05:40.841Z"
   },
   {
    "duration": 872,
    "start_time": "2022-05-05T16:05:42.403Z"
   },
   {
    "duration": 152,
    "start_time": "2022-05-05T16:05:43.276Z"
   },
   {
    "duration": 31,
    "start_time": "2022-05-05T16:05:43.430Z"
   },
   {
    "duration": 48,
    "start_time": "2022-05-05T16:05:43.464Z"
   },
   {
    "duration": 245,
    "start_time": "2022-05-05T16:05:43.514Z"
   },
   {
    "duration": 19,
    "start_time": "2022-05-05T16:05:43.760Z"
   },
   {
    "duration": 8,
    "start_time": "2022-05-05T16:05:43.781Z"
   },
   {
    "duration": 63,
    "start_time": "2022-05-05T16:05:43.790Z"
   },
   {
    "duration": 173,
    "start_time": "2022-05-05T16:05:43.855Z"
   },
   {
    "duration": 142,
    "start_time": "2022-05-05T16:05:44.030Z"
   },
   {
    "duration": 107,
    "start_time": "2022-05-05T16:05:44.174Z"
   },
   {
    "duration": 103,
    "start_time": "2022-05-05T16:05:44.282Z"
   },
   {
    "duration": 556,
    "start_time": "2022-05-05T16:05:44.388Z"
   },
   {
    "duration": 49,
    "start_time": "2022-05-05T16:05:44.946Z"
   },
   {
    "duration": 137,
    "start_time": "2022-05-05T16:05:44.996Z"
   },
   {
    "duration": 4,
    "start_time": "2022-05-05T16:05:45.135Z"
   },
   {
    "duration": 201,
    "start_time": "2022-05-05T16:05:45.141Z"
   },
   {
    "duration": 3,
    "start_time": "2022-05-05T16:05:45.343Z"
   },
   {
    "duration": 3,
    "start_time": "2022-05-05T16:05:51.179Z"
   },
   {
    "duration": 120407,
    "start_time": "2022-05-05T16:05:59.811Z"
   },
   {
    "duration": 1692592,
    "start_time": "2022-05-05T16:08:42.893Z"
   },
   {
    "duration": 80,
    "start_time": "2022-05-06T18:21:08.799Z"
   },
   {
    "duration": 2008,
    "start_time": "2022-05-06T18:21:17.308Z"
   },
   {
    "duration": 910,
    "start_time": "2022-05-06T18:21:19.318Z"
   },
   {
    "duration": 154,
    "start_time": "2022-05-06T18:21:20.229Z"
   },
   {
    "duration": 39,
    "start_time": "2022-05-06T18:21:20.384Z"
   },
   {
    "duration": 45,
    "start_time": "2022-05-06T18:21:20.425Z"
   },
   {
    "duration": 259,
    "start_time": "2022-05-06T18:21:20.472Z"
   },
   {
    "duration": 20,
    "start_time": "2022-05-06T18:21:20.733Z"
   },
   {
    "duration": 10,
    "start_time": "2022-05-06T18:21:20.754Z"
   },
   {
    "duration": 67,
    "start_time": "2022-05-06T18:21:20.766Z"
   },
   {
    "duration": 182,
    "start_time": "2022-05-06T18:21:20.835Z"
   },
   {
    "duration": 151,
    "start_time": "2022-05-06T18:21:21.019Z"
   },
   {
    "duration": 119,
    "start_time": "2022-05-06T18:21:21.172Z"
   },
   {
    "duration": 105,
    "start_time": "2022-05-06T18:21:21.293Z"
   },
   {
    "duration": 595,
    "start_time": "2022-05-06T18:21:21.409Z"
   },
   {
    "duration": 47,
    "start_time": "2022-05-06T18:21:22.007Z"
   },
   {
    "duration": 131,
    "start_time": "2022-05-06T18:21:22.055Z"
   },
   {
    "duration": 4,
    "start_time": "2022-05-06T18:21:22.188Z"
   },
   {
    "duration": 204,
    "start_time": "2022-05-06T18:21:22.194Z"
   },
   {
    "duration": 8,
    "start_time": "2022-05-06T18:21:22.399Z"
   },
   {
    "duration": 4,
    "start_time": "2022-05-06T18:21:22.409Z"
   },
   {
    "duration": 5,
    "start_time": "2022-05-06T18:21:22.415Z"
   },
   {
    "duration": 5,
    "start_time": "2022-05-06T18:21:22.422Z"
   },
   {
    "duration": 76,
    "start_time": "2022-05-06T18:21:27.259Z"
   },
   {
    "duration": 3,
    "start_time": "2022-05-06T18:22:38.031Z"
   },
   {
    "duration": 4,
    "start_time": "2022-05-06T18:22:45.948Z"
   },
   {
    "duration": 58,
    "start_time": "2022-05-06T18:22:47.796Z"
   },
   {
    "duration": 16,
    "start_time": "2022-05-06T18:25:50.159Z"
   },
   {
    "duration": 4,
    "start_time": "2022-05-06T18:26:17.232Z"
   },
   {
    "duration": 9,
    "start_time": "2022-05-06T18:26:21.482Z"
   },
   {
    "duration": 10,
    "start_time": "2022-05-06T18:27:23.035Z"
   },
   {
    "duration": 4,
    "start_time": "2022-05-06T18:35:33.890Z"
   },
   {
    "duration": 3,
    "start_time": "2022-05-06T18:36:15.740Z"
   },
   {
    "duration": 5064867,
    "start_time": "2022-05-06T18:38:49.787Z"
   },
   {
    "duration": 1167,
    "start_time": "2022-05-06T20:04:56.786Z"
   },
   {
    "duration": 12618,
    "start_time": "2022-05-06T20:05:12.639Z"
   },
   {
    "duration": 244807,
    "start_time": "2022-05-06T20:05:38.797Z"
   },
   {
    "duration": 419,
    "start_time": "2022-05-06T20:09:43.615Z"
   },
   {
    "duration": 84,
    "start_time": "2022-05-06T20:09:44.036Z"
   },
   {
    "duration": 15,
    "start_time": "2022-05-06T20:42:20.596Z"
   },
   {
    "duration": 7,
    "start_time": "2022-05-06T20:43:30.336Z"
   },
   {
    "duration": 7,
    "start_time": "2022-05-06T20:44:08.336Z"
   },
   {
    "duration": 14,
    "start_time": "2022-05-06T20:44:15.930Z"
   },
   {
    "duration": 4,
    "start_time": "2022-05-06T20:45:25.137Z"
   },
   {
    "duration": 11,
    "start_time": "2022-05-06T20:45:30.885Z"
   },
   {
    "duration": 16,
    "start_time": "2022-05-06T20:45:59.914Z"
   },
   {
    "duration": 9,
    "start_time": "2022-05-06T20:46:23.456Z"
   },
   {
    "duration": 2840,
    "start_time": "2022-05-06T20:47:06.905Z"
   },
   {
    "duration": 25,
    "start_time": "2022-05-06T20:47:19.560Z"
   },
   {
    "duration": 98,
    "start_time": "2022-05-06T20:47:32.125Z"
   },
   {
    "duration": 161729,
    "start_time": "2022-05-06T20:48:11.303Z"
   },
   {
    "duration": 27,
    "start_time": "2022-05-06T20:51:17.115Z"
   },
   {
    "duration": 24,
    "start_time": "2022-05-06T20:51:30.027Z"
   },
   {
    "duration": 42401,
    "start_time": "2022-05-06T20:51:44.591Z"
   },
   {
    "duration": 12542,
    "start_time": "2022-05-06T20:54:18.341Z"
   },
   {
    "duration": 27,
    "start_time": "2022-05-06T20:54:37.051Z"
   },
   {
    "duration": 5,
    "start_time": "2022-05-06T20:55:01.745Z"
   },
   {
    "duration": 16,
    "start_time": "2022-05-06T20:55:06.524Z"
   },
   {
    "duration": 26,
    "start_time": "2022-05-06T20:55:40.947Z"
   },
   {
    "duration": 12042,
    "start_time": "2022-05-06T20:55:54.154Z"
   },
   {
    "duration": 5422960,
    "start_time": "2022-05-06T20:56:32.565Z"
   },
   {
    "duration": 4,
    "start_time": "2022-05-06T22:27:02.946Z"
   },
   {
    "duration": 43655,
    "start_time": "2022-05-06T22:27:09.469Z"
   },
   {
    "duration": 2902637,
    "start_time": "2022-05-06T22:28:03.788Z"
   },
   {
    "duration": 4,
    "start_time": "2022-05-06T23:16:26.428Z"
   },
   {
    "duration": 15,
    "start_time": "2022-05-06T23:16:26.434Z"
   },
   {
    "duration": 79179,
    "start_time": "2022-05-06T23:17:32.645Z"
   },
   {
    "duration": 13,
    "start_time": "2022-05-06T23:23:53.777Z"
   },
   {
    "duration": 6,
    "start_time": "2022-05-06T23:55:22.922Z"
   },
   {
    "duration": 139,
    "start_time": "2022-05-07T18:46:29.515Z"
   },
   {
    "duration": 135,
    "start_time": "2022-05-07T18:48:25.810Z"
   },
   {
    "duration": 132,
    "start_time": "2022-05-07T18:56:28.875Z"
   },
   {
    "duration": 135,
    "start_time": "2022-05-07T19:07:28.174Z"
   },
   {
    "duration": 3,
    "start_time": "2022-05-07T19:10:19.330Z"
   },
   {
    "duration": 2301,
    "start_time": "2022-05-07T19:10:19.335Z"
   },
   {
    "duration": 828,
    "start_time": "2022-05-07T19:10:21.638Z"
   },
   {
    "duration": 147,
    "start_time": "2022-05-07T19:10:22.468Z"
   },
   {
    "duration": 29,
    "start_time": "2022-05-07T19:10:22.618Z"
   },
   {
    "duration": 61,
    "start_time": "2022-05-07T19:10:22.649Z"
   },
   {
    "duration": 241,
    "start_time": "2022-05-07T19:10:22.712Z"
   },
   {
    "duration": 17,
    "start_time": "2022-05-07T19:10:22.955Z"
   },
   {
    "duration": 26,
    "start_time": "2022-05-07T19:10:22.975Z"
   },
   {
    "duration": 40,
    "start_time": "2022-05-07T19:10:23.004Z"
   },
   {
    "duration": 179,
    "start_time": "2022-05-07T19:10:23.046Z"
   },
   {
    "duration": 135,
    "start_time": "2022-05-07T19:10:23.227Z"
   },
   {
    "duration": 111,
    "start_time": "2022-05-07T19:10:23.364Z"
   },
   {
    "duration": 113,
    "start_time": "2022-05-07T19:10:23.480Z"
   },
   {
    "duration": 573,
    "start_time": "2022-05-07T19:10:23.595Z"
   },
   {
    "duration": 56,
    "start_time": "2022-05-07T19:10:24.171Z"
   },
   {
    "duration": 141,
    "start_time": "2022-05-07T19:10:24.229Z"
   },
   {
    "duration": 5,
    "start_time": "2022-05-07T19:10:24.373Z"
   },
   {
    "duration": 218,
    "start_time": "2022-05-07T19:10:24.380Z"
   },
   {
    "duration": 3,
    "start_time": "2022-05-07T19:10:24.600Z"
   },
   {
    "duration": 5,
    "start_time": "2022-05-07T19:10:24.605Z"
   },
   {
    "duration": 10,
    "start_time": "2022-05-07T19:10:24.611Z"
   },
   {
    "duration": 8,
    "start_time": "2022-05-07T19:10:24.623Z"
   },
   {
    "duration": 98,
    "start_time": "2022-05-07T19:10:24.633Z"
   },
   {
    "duration": 102,
    "start_time": "2022-05-07T19:10:24.794Z"
   },
   {
    "duration": 97,
    "start_time": "2022-05-07T19:10:24.898Z"
   },
   {
    "duration": 5570619,
    "start_time": "2022-05-07T19:10:24.997Z"
   },
   {
    "duration": 275815,
    "start_time": "2022-05-07T20:43:15.617Z"
   },
   {
    "duration": 473,
    "start_time": "2022-05-07T20:47:51.434Z"
   },
   {
    "duration": 5,
    "start_time": "2022-05-07T20:47:51.909Z"
   },
   {
    "duration": 81,
    "start_time": "2022-05-07T20:47:51.916Z"
   },
   {
    "duration": 125494,
    "start_time": "2022-05-07T20:47:51.999Z"
   },
   {
    "duration": 6,
    "start_time": "2022-05-07T20:49:57.494Z"
   },
   {
    "duration": 8930,
    "start_time": "2022-05-07T20:49:57.502Z"
   },
   {
    "duration": 26,
    "start_time": "2022-05-07T20:50:06.434Z"
   },
   {
    "duration": 4,
    "start_time": "2022-05-07T20:50:06.461Z"
   },
   {
    "duration": 21,
    "start_time": "2022-05-07T20:50:06.467Z"
   },
   {
    "duration": 6609214,
    "start_time": "2022-05-07T20:50:06.489Z"
   },
   {
    "duration": 10494,
    "start_time": "2022-05-07T22:40:15.705Z"
   },
   {
    "duration": 1012,
    "start_time": "2022-05-07T22:40:26.201Z"
   },
   {
    "duration": 11,
    "start_time": "2022-05-07T22:40:27.217Z"
   },
   {
    "duration": 1018,
    "start_time": "2022-05-07T22:40:27.293Z"
   },
   {
    "duration": 1787,
    "start_time": "2022-05-08T18:27:14.835Z"
   },
   {
    "duration": 867,
    "start_time": "2022-05-08T18:27:17.722Z"
   },
   {
    "duration": 139,
    "start_time": "2022-05-08T18:27:20.028Z"
   },
   {
    "duration": 26,
    "start_time": "2022-05-08T18:27:32.729Z"
   },
   {
    "duration": 44,
    "start_time": "2022-05-08T18:27:36.771Z"
   },
   {
    "duration": 216,
    "start_time": "2022-05-08T18:32:28.723Z"
   },
   {
    "duration": 197,
    "start_time": "2022-05-08T18:32:34.873Z"
   },
   {
    "duration": 202,
    "start_time": "2022-05-08T18:33:16.547Z"
   },
   {
    "duration": 34,
    "start_time": "2022-05-08T18:35:55.540Z"
   },
   {
    "duration": 205,
    "start_time": "2022-05-08T18:36:21.132Z"
   },
   {
    "duration": 33,
    "start_time": "2022-05-08T18:51:38.515Z"
   },
   {
    "duration": 170,
    "start_time": "2022-05-08T18:51:42.120Z"
   },
   {
    "duration": 135,
    "start_time": "2022-05-08T18:52:52.963Z"
   },
   {
    "duration": 147,
    "start_time": "2022-05-08T18:53:15.561Z"
   },
   {
    "duration": 155,
    "start_time": "2022-05-08T18:53:37.113Z"
   },
   {
    "duration": 208,
    "start_time": "2022-05-08T18:54:03.456Z"
   },
   {
    "duration": 10,
    "start_time": "2022-05-08T18:55:06.485Z"
   },
   {
    "duration": 127,
    "start_time": "2022-05-08T18:57:43.126Z"
   },
   {
    "duration": 29,
    "start_time": "2022-05-08T18:58:53.960Z"
   },
   {
    "duration": 14,
    "start_time": "2022-05-08T18:59:49.209Z"
   },
   {
    "duration": 13,
    "start_time": "2022-05-08T19:00:08.103Z"
   },
   {
    "duration": 14,
    "start_time": "2022-05-08T19:00:15.440Z"
   },
   {
    "duration": 13,
    "start_time": "2022-05-08T19:00:44.871Z"
   },
   {
    "duration": 10,
    "start_time": "2022-05-08T19:04:42.304Z"
   },
   {
    "duration": 4,
    "start_time": "2022-05-08T19:05:06.690Z"
   },
   {
    "duration": 6,
    "start_time": "2022-05-08T19:06:01.784Z"
   },
   {
    "duration": 16,
    "start_time": "2022-05-08T19:06:11.990Z"
   },
   {
    "duration": 10,
    "start_time": "2022-05-08T19:06:39.625Z"
   },
   {
    "duration": 3,
    "start_time": "2022-05-08T19:06:56.446Z"
   },
   {
    "duration": 1521,
    "start_time": "2022-05-08T19:06:56.452Z"
   },
   {
    "duration": 805,
    "start_time": "2022-05-08T19:06:57.975Z"
   },
   {
    "duration": 137,
    "start_time": "2022-05-08T19:06:58.782Z"
   },
   {
    "duration": 25,
    "start_time": "2022-05-08T19:06:58.921Z"
   },
   {
    "duration": 60,
    "start_time": "2022-05-08T19:06:58.948Z"
   },
   {
    "duration": 203,
    "start_time": "2022-05-08T19:06:59.009Z"
   },
   {
    "duration": 224,
    "start_time": "2022-05-08T19:06:59.214Z"
   },
   {
    "duration": 17,
    "start_time": "2022-05-08T19:06:59.440Z"
   },
   {
    "duration": 7,
    "start_time": "2022-05-08T19:06:59.458Z"
   },
   {
    "duration": 58,
    "start_time": "2022-05-08T19:06:59.467Z"
   },
   {
    "duration": 167,
    "start_time": "2022-05-08T19:06:59.527Z"
   },
   {
    "duration": 145,
    "start_time": "2022-05-08T19:06:59.696Z"
   },
   {
    "duration": 29,
    "start_time": "2022-05-08T19:06:59.842Z"
   },
   {
    "duration": 12,
    "start_time": "2022-05-08T19:06:59.873Z"
   },
   {
    "duration": 41,
    "start_time": "2022-05-08T19:07:03.775Z"
   },
   {
    "duration": 24,
    "start_time": "2022-05-08T19:07:08.518Z"
   },
   {
    "duration": 128,
    "start_time": "2022-05-08T19:07:12.927Z"
   },
   {
    "duration": 113,
    "start_time": "2022-05-08T19:07:14.909Z"
   },
   {
    "duration": 4,
    "start_time": "2022-05-08T19:24:13.153Z"
   },
   {
    "duration": 1569,
    "start_time": "2022-05-08T19:24:13.159Z"
   },
   {
    "duration": 907,
    "start_time": "2022-05-08T19:24:14.730Z"
   },
   {
    "duration": 146,
    "start_time": "2022-05-08T19:24:15.639Z"
   },
   {
    "duration": 40,
    "start_time": "2022-05-08T19:24:15.788Z"
   },
   {
    "duration": 44,
    "start_time": "2022-05-08T19:24:15.830Z"
   },
   {
    "duration": 248,
    "start_time": "2022-05-08T19:24:15.876Z"
   },
   {
    "duration": 236,
    "start_time": "2022-05-08T19:24:16.125Z"
   },
   {
    "duration": 17,
    "start_time": "2022-05-08T19:24:16.364Z"
   },
   {
    "duration": 8,
    "start_time": "2022-05-08T19:24:16.383Z"
   },
   {
    "duration": 41,
    "start_time": "2022-05-08T19:24:16.407Z"
   },
   {
    "duration": 191,
    "start_time": "2022-05-08T19:24:16.449Z"
   },
   {
    "duration": 153,
    "start_time": "2022-05-08T19:24:16.642Z"
   },
   {
    "duration": 39,
    "start_time": "2022-05-08T19:24:16.797Z"
   },
   {
    "duration": 14,
    "start_time": "2022-05-08T19:24:16.837Z"
   },
   {
    "duration": 60,
    "start_time": "2022-05-08T19:24:16.853Z"
   },
   {
    "duration": 154,
    "start_time": "2022-05-08T19:24:16.915Z"
   },
   {
    "duration": 132,
    "start_time": "2022-05-08T19:24:17.070Z"
   },
   {
    "duration": 114,
    "start_time": "2022-05-08T19:24:17.203Z"
   },
   {
    "duration": 564,
    "start_time": "2022-05-08T19:24:17.319Z"
   },
   {
    "duration": 55,
    "start_time": "2022-05-08T19:24:17.885Z"
   },
   {
    "duration": 109,
    "start_time": "2022-05-08T19:24:17.942Z"
   },
   {
    "duration": 4,
    "start_time": "2022-05-08T19:24:18.053Z"
   },
   {
    "duration": 197,
    "start_time": "2022-05-08T19:24:18.058Z"
   },
   {
    "duration": 3,
    "start_time": "2022-05-08T19:24:18.256Z"
   },
   {
    "duration": 5,
    "start_time": "2022-05-08T19:24:18.261Z"
   },
   {
    "duration": 4,
    "start_time": "2022-05-08T19:24:18.268Z"
   },
   {
    "duration": 5,
    "start_time": "2022-05-08T19:24:18.273Z"
   },
   {
    "duration": 136,
    "start_time": "2022-05-08T19:24:18.281Z"
   },
   {
    "duration": 198,
    "start_time": "2022-05-08T19:24:18.420Z"
   },
   {
    "duration": 100,
    "start_time": "2022-05-08T19:24:18.621Z"
   },
   {
    "duration": 298785,
    "start_time": "2022-05-08T19:25:04.993Z"
   },
   {
    "duration": 370,
    "start_time": "2022-05-11T10:25:34.723Z"
   }
  ],
  "kernelspec": {
   "display_name": "Python 3 (ipykernel)",
   "language": "python",
   "name": "python3"
  },
  "language_info": {
   "codemirror_mode": {
    "name": "ipython",
    "version": 3
   },
   "file_extension": ".py",
   "mimetype": "text/x-python",
   "name": "python",
   "nbconvert_exporter": "python",
   "pygments_lexer": "ipython3",
   "version": "3.9.12"
  },
  "toc": {
   "base_numbering": 1,
   "nav_menu": {},
   "number_sections": true,
   "sideBar": true,
   "skip_h1_title": true,
   "title_cell": "Table of Contents",
   "title_sidebar": "Contents",
   "toc_cell": false,
   "toc_position": {
    "height": "calc(100% - 180px)",
    "left": "10px",
    "top": "150px",
    "width": "281.597px"
   },
   "toc_section_display": true,
   "toc_window_display": true
  }
 },
 "nbformat": 4,
 "nbformat_minor": 2
}
